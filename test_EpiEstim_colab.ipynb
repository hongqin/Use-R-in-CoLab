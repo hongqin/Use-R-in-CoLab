{
  "nbformat": 4,
  "nbformat_minor": 0,
  "metadata": {
    "colab": {
      "name": "test_EpiEstim_colab.ipynb",
      "provenance": [],
      "toc_visible": true,
      "authorship_tag": "ABX9TyNkY5o5HeeX0GPrCmWk+iiQ",
      "include_colab_link": true
    },
    "kernelspec": {
      "name": "ir",
      "display_name": "R"
    }
  },
  "cells": [
    {
      "cell_type": "markdown",
      "metadata": {
        "id": "view-in-github",
        "colab_type": "text"
      },
      "source": [
        "<a href=\"https://colab.research.google.com/github/hongqin/Use-R-in-CoLab/blob/master/test_EpiEstim_colab.ipynb\" target=\"_parent\"><img src=\"https://colab.research.google.com/assets/colab-badge.svg\" alt=\"Open In Colab\"/></a>"
      ]
    },
    {
      "cell_type": "markdown",
      "metadata": {
        "id": "yaU2RH1eTY7v"
      },
      "source": [
        "# Test EpiEstim"
      ]
    },
    {
      "cell_type": "markdown",
      "metadata": {
        "id": "Sj4Jj74HTZne"
      },
      "source": [
        "https://cran.r-project.org/web/packages/EpiEstim/index.html\n",
        "\n",
        "https://cran.r-project.org/web/packages/EpiEstim/vignettes/demo.html\n"
      ]
    },
    {
      "cell_type": "code",
      "metadata": {
        "id": "zlJqP9QCTUyu"
      },
      "source": [
        "install.packages(\"EpiEstim\", lib='/content')\n",
        "install.packages(\"incidence\", lib='/content')\n",
        "\n",
        "library(EpiEstim, lib.loc='/content')\n",
        "library(incidence, lib.loc='/content')\n",
        "\n",
        "library(ggplot2)"
      ],
      "execution_count": 18,
      "outputs": []
    },
    {
      "cell_type": "code",
      "metadata": {
        "id": "yxFc1CddWjKQ"
      },
      "source": [
        "data(Flu2009)"
      ],
      "execution_count": 9,
      "outputs": []
    },
    {
      "cell_type": "code",
      "metadata": {
        "id": "0cIfonoHXh0V",
        "outputId": "ba9c4666-a144-41ad-e819-9d54a4a6fcf2",
        "colab": {
          "base_uri": "https://localhost:8080/",
          "height": 204
        }
      },
      "source": [
        "## incidence:\n",
        "head(Flu2009$incidence)"
      ],
      "execution_count": 14,
      "outputs": [
        {
          "output_type": "display_data",
          "data": {
            "text/plain": [
              "  dates      I\n",
              "1 2009-04-27 1\n",
              "2 2009-04-28 1\n",
              "3 2009-04-29 0\n",
              "4 2009-04-30 2\n",
              "5 2009-05-01 5\n",
              "6 2009-05-02 3"
            ],
            "text/latex": "A data.frame: 6 × 2\n\\begin{tabular}{r|ll}\n  & dates & I\\\\\n  & <date> & <dbl>\\\\\n\\hline\n\t1 & 2009-04-27 & 1\\\\\n\t2 & 2009-04-28 & 1\\\\\n\t3 & 2009-04-29 & 0\\\\\n\t4 & 2009-04-30 & 2\\\\\n\t5 & 2009-05-01 & 5\\\\\n\t6 & 2009-05-02 & 3\\\\\n\\end{tabular}\n",
            "text/markdown": "\nA data.frame: 6 × 2\n\n| <!--/--> | dates &lt;date&gt; | I &lt;dbl&gt; |\n|---|---|---|\n| 1 | 2009-04-27 | 1 |\n| 2 | 2009-04-28 | 1 |\n| 3 | 2009-04-29 | 0 |\n| 4 | 2009-04-30 | 2 |\n| 5 | 2009-05-01 | 5 |\n| 6 | 2009-05-02 | 3 |\n\n",
            "text/html": [
              "<table>\n",
              "<caption>A data.frame: 6 × 2</caption>\n",
              "<thead>\n",
              "\t<tr><th></th><th scope=col>dates</th><th scope=col>I</th></tr>\n",
              "\t<tr><th></th><th scope=col>&lt;date&gt;</th><th scope=col>&lt;dbl&gt;</th></tr>\n",
              "</thead>\n",
              "<tbody>\n",
              "\t<tr><th scope=row>1</th><td>2009-04-27</td><td>1</td></tr>\n",
              "\t<tr><th scope=row>2</th><td>2009-04-28</td><td>1</td></tr>\n",
              "\t<tr><th scope=row>3</th><td>2009-04-29</td><td>0</td></tr>\n",
              "\t<tr><th scope=row>4</th><td>2009-04-30</td><td>2</td></tr>\n",
              "\t<tr><th scope=row>5</th><td>2009-05-01</td><td>5</td></tr>\n",
              "\t<tr><th scope=row>6</th><td>2009-05-02</td><td>3</td></tr>\n",
              "</tbody>\n",
              "</table>\n"
            ]
          },
          "metadata": {
            "tags": []
          }
        }
      ]
    },
    {
      "cell_type": "code",
      "metadata": {
        "id": "DlaPrk09Xh3O",
        "outputId": "e408f737-b26e-43b0-95b4-6529a032288b",
        "colab": {
          "base_uri": "https://localhost:8080/",
          "height": 35
        }
      },
      "source": [
        "## serial interval (SI) distribution:\n",
        "Flu2009$si_distr"
      ],
      "execution_count": 15,
      "outputs": [
        {
          "output_type": "display_data",
          "data": {
            "text/plain": [
              " [1] 0.000 0.233 0.359 0.198 0.103 0.053 0.027 0.014 0.007 0.003 0.002 0.001"
            ],
            "text/latex": "\\begin{enumerate*}\n\\item 0\n\\item 0.233\n\\item 0.359\n\\item 0.198\n\\item 0.103\n\\item 0.053\n\\item 0.027\n\\item 0.014\n\\item 0.007\n\\item 0.003\n\\item 0.002\n\\item 0.001\n\\end{enumerate*}\n",
            "text/markdown": "1. 0\n2. 0.233\n3. 0.359\n4. 0.198\n5. 0.103\n6. 0.053\n7. 0.027\n8. 0.014\n9. 0.007\n10. 0.003\n11. 0.002\n12. 0.001\n\n\n",
            "text/html": [
              "<style>\n",
              ".list-inline {list-style: none; margin:0; padding: 0}\n",
              ".list-inline>li {display: inline-block}\n",
              ".list-inline>li:not(:last-child)::after {content: \"\\00b7\"; padding: 0 .5ex}\n",
              "</style>\n",
              "<ol class=list-inline><li>0</li><li>0.233</li><li>0.359</li><li>0.198</li><li>0.103</li><li>0.053</li><li>0.027</li><li>0.014</li><li>0.007</li><li>0.003</li><li>0.002</li><li>0.001</li></ol>\n"
            ]
          },
          "metadata": {
            "tags": []
          }
        }
      ]
    },
    {
      "cell_type": "code",
      "metadata": {
        "id": "lW9NMKLMXh6P",
        "outputId": "bae64d31-e0db-4c63-9341-432d4efe7310",
        "colab": {
          "base_uri": "https://localhost:8080/",
          "height": 204
        }
      },
      "source": [
        "## interval-ceonsored serial interval data:\n",
        "## each line represents a transmission event, \n",
        "## EL/ER show the lower/upper bound of the symptoms onset date in the infector\n",
        "## SL/SR show the same for the secondary case\n",
        "## type has entries 0 corresponding to doubly interval-censored data\n",
        "## (see Reich et al. Statist. Med. 2009).\n",
        "head(Flu2009$si_data)\n"
      ],
      "execution_count": 16,
      "outputs": [
        {
          "output_type": "display_data",
          "data": {
            "text/plain": [
              "  EL ER SL SR type\n",
              "1 0  1  7  8  0   \n",
              "2 0  1  2  3  0   \n",
              "3 0  1  3  4  0   \n",
              "4 0  1  2  5  0   \n",
              "5 0  1  1  9  0   \n",
              "6 0  1  2  4  0   "
            ],
            "text/latex": "A data.frame: 6 × 5\n\\begin{tabular}{r|lllll}\n  & EL & ER & SL & SR & type\\\\\n  & <int> & <int> & <int> & <int> & <dbl>\\\\\n\\hline\n\t1 & 0 & 1 & 7 & 8 & 0\\\\\n\t2 & 0 & 1 & 2 & 3 & 0\\\\\n\t3 & 0 & 1 & 3 & 4 & 0\\\\\n\t4 & 0 & 1 & 2 & 5 & 0\\\\\n\t5 & 0 & 1 & 1 & 9 & 0\\\\\n\t6 & 0 & 1 & 2 & 4 & 0\\\\\n\\end{tabular}\n",
            "text/markdown": "\nA data.frame: 6 × 5\n\n| <!--/--> | EL &lt;int&gt; | ER &lt;int&gt; | SL &lt;int&gt; | SR &lt;int&gt; | type &lt;dbl&gt; |\n|---|---|---|---|---|---|\n| 1 | 0 | 1 | 7 | 8 | 0 |\n| 2 | 0 | 1 | 2 | 3 | 0 |\n| 3 | 0 | 1 | 3 | 4 | 0 |\n| 4 | 0 | 1 | 2 | 5 | 0 |\n| 5 | 0 | 1 | 1 | 9 | 0 |\n| 6 | 0 | 1 | 2 | 4 | 0 |\n\n",
            "text/html": [
              "<table>\n",
              "<caption>A data.frame: 6 × 5</caption>\n",
              "<thead>\n",
              "\t<tr><th></th><th scope=col>EL</th><th scope=col>ER</th><th scope=col>SL</th><th scope=col>SR</th><th scope=col>type</th></tr>\n",
              "\t<tr><th></th><th scope=col>&lt;int&gt;</th><th scope=col>&lt;int&gt;</th><th scope=col>&lt;int&gt;</th><th scope=col>&lt;int&gt;</th><th scope=col>&lt;dbl&gt;</th></tr>\n",
              "</thead>\n",
              "<tbody>\n",
              "\t<tr><th scope=row>1</th><td>0</td><td>1</td><td>7</td><td>8</td><td>0</td></tr>\n",
              "\t<tr><th scope=row>2</th><td>0</td><td>1</td><td>2</td><td>3</td><td>0</td></tr>\n",
              "\t<tr><th scope=row>3</th><td>0</td><td>1</td><td>3</td><td>4</td><td>0</td></tr>\n",
              "\t<tr><th scope=row>4</th><td>0</td><td>1</td><td>2</td><td>5</td><td>0</td></tr>\n",
              "\t<tr><th scope=row>5</th><td>0</td><td>1</td><td>1</td><td>9</td><td>0</td></tr>\n",
              "\t<tr><th scope=row>6</th><td>0</td><td>1</td><td>2</td><td>4</td><td>0</td></tr>\n",
              "</tbody>\n",
              "</table>\n"
            ]
          },
          "metadata": {
            "tags": []
          }
        }
      ]
    },
    {
      "cell_type": "code",
      "metadata": {
        "id": "BiAidnA8Xh94",
        "outputId": "41e09ba8-4540-4d58-deb6-913b3039733b",
        "colab": {
          "base_uri": "https://localhost:8080/",
          "height": 437
        }
      },
      "source": [
        "plot(as.incidence(Flu2009$incidence$I, dates = Flu2009$incidence$dates))"
      ],
      "execution_count": 19,
      "outputs": [
        {
          "output_type": "display_data",
          "data": {
            "image/png": "[encoded data removed]",
            "text/plain": [
              "plot without title"
            ]
          },
          "metadata": {
            "tags": [],
            "image/png": {
              "width": 420,
              "height": 420
            }
          }
        }
      ]
    },
    {
      "cell_type": "markdown",
      "metadata": {
        "id": "wo_3lbS8Z6Nu"
      },
      "source": [
        "We can run estimate_R on the incidence data to estimate the reproduction number R. For this, we need to specify i) the time window(s) over which to estimate R and ii) information on the distribution of the serial interval.\n",
        "\n",
        "For i), the default behavior is to estimate R over weekly sliding windows. This can be changed through the config$t_start and config$t_end arguments (see below, “Changing the time windows for estimation”). For ii), there are several options, specified in the method argument.\n",
        "\n",
        "The simplest is the parametric_si method, where you only specify the mean and standard deviation of the SI."
      ]
    },
    {
      "cell_type": "markdown",
      "metadata": {
        "id": "t1UKQInuZ-Yc"
      },
      "source": [
        "# Estimating R on sliding weekly windows, with a parametric serial interval\n",
        "In this example, we only specify the mean and standard deviation of the serial interval. In that case an offset gamma distribution is used for the serial interval. In the following example, we use the mean and standard deviation of the serial interval for flu from Ferguson et al., Nature, 2005:"
      ]
    },
    {
      "cell_type": "code",
      "metadata": {
        "id": "jACCIuMNZzik",
        "outputId": "c99e1ceb-75b2-4ad4-d02a-06ff6179c46a",
        "colab": {
          "base_uri": "https://localhost:8080/",
          "height": 69
        }
      },
      "source": [
        "res_parametric_si <- estimate_R(Flu2009$incidence, \n",
        "                                method=\"parametric_si\",\n",
        "                                config = make_config(list(\n",
        "                                  mean_si = 2.6, \n",
        "                                  std_si = 1.5))\n",
        ")"
      ],
      "execution_count": 20,
      "outputs": [
        {
          "output_type": "stream",
          "text": [
            "Default config will estimate R on weekly sliding windows.\n",
            "    To change this change the t_start and t_end arguments. \n",
            "\n"
          ],
          "name": "stderr"
        }
      ]
    },
    {
      "cell_type": "code",
      "metadata": {
        "id": "xwoB6RfyZzlT",
        "outputId": "1419865e-5bcf-4795-e1af-b6e0be54e3ef",
        "colab": {
          "base_uri": "https://localhost:8080/",
          "height": 224
        }
      },
      "source": [
        "head(res_parametric_si$R)"
      ],
      "execution_count": 21,
      "outputs": [
        {
          "output_type": "display_data",
          "data": {
            "text/plain": [
              "  t_start t_end Mean(R)  Std(R)    Quantile.0.025(R) Quantile.0.05(R)\n",
              "1 2        8    1.735798 0.4091314 1.0287437         1.121933        \n",
              "2 3        9    1.749168 0.3647267 1.1088223         1.195480        \n",
              "3 4       10    1.537058 0.3074116 0.9947030         1.068694        \n",
              "4 5       11    1.431839 0.2705921 0.9514466         1.017661        \n",
              "5 6       12    1.422725 0.2515046 0.9731426         1.035808        \n",
              "6 7       13    1.635373 0.2523436 1.1786332         1.243590        \n",
              "  Quantile.0.25(R) Median(R) Quantile.0.75(R) Quantile.0.95(R)\n",
              "1 1.445198         1.703761  1.991520         2.458972        \n",
              "2 1.491345         1.723884  1.979457         2.389121        \n",
              "3 1.320090         1.516613  1.731761         2.075176        \n",
              "4 1.241251         1.414830  1.603900         1.904047        \n",
              "5 1.245996         1.407932  1.583340         1.860107        \n",
              "6 1.458847         1.622413  1.797779         2.071372        \n",
              "  Quantile.0.975(R)\n",
              "1 2.624781         \n",
              "2 2.533119         \n",
              "3 2.195540         \n",
              "4 2.008849         \n",
              "5 1.956336         \n",
              "6 2.165745         "
            ],
            "text/latex": "A data.frame: 6 × 11\n\\begin{tabular}{r|lllllllllll}\n  & t\\_start & t\\_end & Mean(R) & Std(R) & Quantile.0.025(R) & Quantile.0.05(R) & Quantile.0.25(R) & Median(R) & Quantile.0.75(R) & Quantile.0.95(R) & Quantile.0.975(R)\\\\\n  & <dbl> & <dbl> & <dbl> & <dbl> & <dbl> & <dbl> & <dbl> & <dbl> & <dbl> & <dbl> & <dbl>\\\\\n\\hline\n\t1 & 2 &  8 & 1.735798 & 0.4091314 & 1.0287437 & 1.121933 & 1.445198 & 1.703761 & 1.991520 & 2.458972 & 2.624781\\\\\n\t2 & 3 &  9 & 1.749168 & 0.3647267 & 1.1088223 & 1.195480 & 1.491345 & 1.723884 & 1.979457 & 2.389121 & 2.533119\\\\\n\t3 & 4 & 10 & 1.537058 & 0.3074116 & 0.9947030 & 1.068694 & 1.320090 & 1.516613 & 1.731761 & 2.075176 & 2.195540\\\\\n\t4 & 5 & 11 & 1.431839 & 0.2705921 & 0.9514466 & 1.017661 & 1.241251 & 1.414830 & 1.603900 & 1.904047 & 2.008849\\\\\n\t5 & 6 & 12 & 1.422725 & 0.2515046 & 0.9731426 & 1.035808 & 1.245996 & 1.407932 & 1.583340 & 1.860107 & 1.956336\\\\\n\t6 & 7 & 13 & 1.635373 & 0.2523436 & 1.1786332 & 1.243590 & 1.458847 & 1.622413 & 1.797779 & 2.071372 & 2.165745\\\\\n\\end{tabular}\n",
            "text/markdown": "\nA data.frame: 6 × 11\n\n| <!--/--> | t_start &lt;dbl&gt; | t_end &lt;dbl&gt; | Mean(R) &lt;dbl&gt; | Std(R) &lt;dbl&gt; | Quantile.0.025(R) &lt;dbl&gt; | Quantile.0.05(R) &lt;dbl&gt; | Quantile.0.25(R) &lt;dbl&gt; | Median(R) &lt;dbl&gt; | Quantile.0.75(R) &lt;dbl&gt; | Quantile.0.95(R) &lt;dbl&gt; | Quantile.0.975(R) &lt;dbl&gt; |\n|---|---|---|---|---|---|---|---|---|---|---|---|\n| 1 | 2 |  8 | 1.735798 | 0.4091314 | 1.0287437 | 1.121933 | 1.445198 | 1.703761 | 1.991520 | 2.458972 | 2.624781 |\n| 2 | 3 |  9 | 1.749168 | 0.3647267 | 1.1088223 | 1.195480 | 1.491345 | 1.723884 | 1.979457 | 2.389121 | 2.533119 |\n| 3 | 4 | 10 | 1.537058 | 0.3074116 | 0.9947030 | 1.068694 | 1.320090 | 1.516613 | 1.731761 | 2.075176 | 2.195540 |\n| 4 | 5 | 11 | 1.431839 | 0.2705921 | 0.9514466 | 1.017661 | 1.241251 | 1.414830 | 1.603900 | 1.904047 | 2.008849 |\n| 5 | 6 | 12 | 1.422725 | 0.2515046 | 0.9731426 | 1.035808 | 1.245996 | 1.407932 | 1.583340 | 1.860107 | 1.956336 |\n| 6 | 7 | 13 | 1.635373 | 0.2523436 | 1.1786332 | 1.243590 | 1.458847 | 1.622413 | 1.797779 | 2.071372 | 2.165745 |\n\n",
            "text/html": [
              "<table>\n",
              "<caption>A data.frame: 6 × 11</caption>\n",
              "<thead>\n",
              "\t<tr><th></th><th scope=col>t_start</th><th scope=col>t_end</th><th scope=col>Mean(R)</th><th scope=col>Std(R)</th><th scope=col>Quantile.0.025(R)</th><th scope=col>Quantile.0.05(R)</th><th scope=col>Quantile.0.25(R)</th><th scope=col>Median(R)</th><th scope=col>Quantile.0.75(R)</th><th scope=col>Quantile.0.95(R)</th><th scope=col>Quantile.0.975(R)</th></tr>\n",
              "\t<tr><th></th><th scope=col>&lt;dbl&gt;</th><th scope=col>&lt;dbl&gt;</th><th scope=col>&lt;dbl&gt;</th><th scope=col>&lt;dbl&gt;</th><th scope=col>&lt;dbl&gt;</th><th scope=col>&lt;dbl&gt;</th><th scope=col>&lt;dbl&gt;</th><th scope=col>&lt;dbl&gt;</th><th scope=col>&lt;dbl&gt;</th><th scope=col>&lt;dbl&gt;</th><th scope=col>&lt;dbl&gt;</th></tr>\n",
              "</thead>\n",
              "<tbody>\n",
              "\t<tr><th scope=row>1</th><td>2</td><td> 8</td><td>1.735798</td><td>0.4091314</td><td>1.0287437</td><td>1.121933</td><td>1.445198</td><td>1.703761</td><td>1.991520</td><td>2.458972</td><td>2.624781</td></tr>\n",
              "\t<tr><th scope=row>2</th><td>3</td><td> 9</td><td>1.749168</td><td>0.3647267</td><td>1.1088223</td><td>1.195480</td><td>1.491345</td><td>1.723884</td><td>1.979457</td><td>2.389121</td><td>2.533119</td></tr>\n",
              "\t<tr><th scope=row>3</th><td>4</td><td>10</td><td>1.537058</td><td>0.3074116</td><td>0.9947030</td><td>1.068694</td><td>1.320090</td><td>1.516613</td><td>1.731761</td><td>2.075176</td><td>2.195540</td></tr>\n",
              "\t<tr><th scope=row>4</th><td>5</td><td>11</td><td>1.431839</td><td>0.2705921</td><td>0.9514466</td><td>1.017661</td><td>1.241251</td><td>1.414830</td><td>1.603900</td><td>1.904047</td><td>2.008849</td></tr>\n",
              "\t<tr><th scope=row>5</th><td>6</td><td>12</td><td>1.422725</td><td>0.2515046</td><td>0.9731426</td><td>1.035808</td><td>1.245996</td><td>1.407932</td><td>1.583340</td><td>1.860107</td><td>1.956336</td></tr>\n",
              "\t<tr><th scope=row>6</th><td>7</td><td>13</td><td>1.635373</td><td>0.2523436</td><td>1.1786332</td><td>1.243590</td><td>1.458847</td><td>1.622413</td><td>1.797779</td><td>2.071372</td><td>2.165745</td></tr>\n",
              "</tbody>\n",
              "</table>\n"
            ]
          },
          "metadata": {
            "tags": []
          }
        }
      ]
    },
    {
      "cell_type": "code",
      "metadata": {
        "id": "SfrEWBjWZzoS",
        "outputId": "aa851096-a88e-48d0-bd4b-92c9db981a0d",
        "colab": {
          "base_uri": "https://localhost:8080/",
          "height": 437
        }
      },
      "source": [
        "plot(res_parametric_si, legend = FALSE)"
      ],
      "execution_count": 22,
      "outputs": [
        {
          "output_type": "display_data",
          "data": {
            "image/png": "[encoded data removed]",
            "text/plain": [
              "plot without title"
            ]
          },
          "metadata": {
            "tags": [],
            "image/png": {
              "width": 420,
              "height": 420
            }
          }
        }
      ]
    },
    {
      "cell_type": "code",
      "metadata": {
        "id": "ZQ7ytSTnZzrT"
      },
      "source": [
        ""
      ],
      "execution_count": null,
      "outputs": []
    }
  ]
}