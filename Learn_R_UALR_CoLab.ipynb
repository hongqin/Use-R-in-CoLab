{
  "nbformat": 4,
  "nbformat_minor": 0,
  "metadata": {
    "colab": {
      "name": "Learn R UALR CoLab.ipynb",
      "provenance": [],
      "collapsed_sections": [
        "kwm9N9HfpMVd",
        "vzooDbMmBb43",
        "mWQhOZmTGPDw"
      ],
      "toc_visible": true,
      "include_colab_link": true
    },
    "kernelspec": {
      "name": "ir",
      "display_name": "R"
    }
  },
  "cells": [
    {
      "cell_type": "markdown",
      "metadata": {
        "id": "view-in-github",
        "colab_type": "text"
      },
      "source": [
        "<a href=\"https://colab.research.google.com/github/hongqin/Use-R-in-CoLab/blob/master/Learn_R_UALR_CoLab.ipynb\" target=\"_parent\"><img src=\"https://colab.research.google.com/assets/colab-badge.svg\" alt=\"Open In Colab\"/></a>"
      ]
    },
    {
      "cell_type": "markdown",
      "metadata": {
        "id": "cJAMSZ4KnrMd"
      },
      "source": [
        "# Welcome\n",
        "**Please make a copy of this code in your CoLab in order to modify the code.** <br> \n",
        "You can do this by select \"File\" -> \"Save a copy in Drive\""
      ]
    },
    {
      "cell_type": "markdown",
      "metadata": {
        "id": "mF9d1XRjOYkh"
      },
      "source": [
        "This is a short tutorial on using R to explore Covid19 data using Google CoLab <br>\n",
        "Written by Hong Qin <br>\n",
        "This version is modifed for a guest lecture at UALR <br>\n",
        "\n",
        "This is a work in progress and is for educational purpose only. \n",
        "\n",
        "This is code can be cloned from\n",
        "https://github.com/hongqin/Use-R-in-CoLab/blob/master/Learn_R_UALR_CoLab.ipynb\n",
        "\n",
        "More tutorials at http://YouTube.com/hongqin"
      ]
    },
    {
      "cell_type": "markdown",
      "metadata": {
        "id": "L1f1RYMrMyYC"
      },
      "source": [
        "# Get familiar with Google CoLab"
      ]
    },
    {
      "cell_type": "markdown",
      "metadata": {
        "id": "F0ILHCHTNMZ6"
      },
      "source": [
        "## The 'Code' and 'Text' cells\n",
        "The code cell can be run by click the play icon on the upper-left corner of the code cells.\n",
        "\n",
        "![Screen Shot 2020-10-16 at 12.28.13 PM.png](data:image/png;base64,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)"
      ]
    },
    {
      "cell_type": "markdown",
      "metadata": {
        "id": "gegM0JsHM4Hr"
      },
      "source": [
        "## The menu on the top\n"
      ]
    },
    {
      "cell_type": "markdown",
      "metadata": {
        "id": "vkFxBWe-M7_w"
      },
      "source": [
        "### Runtime "
      ]
    },
    {
      "cell_type": "markdown",
      "metadata": {
        "id": "9uIsTGWcM8QW"
      },
      "source": [
        "## Table of contents (on the left hand side)"
      ]
    },
    {
      "cell_type": "markdown",
      "metadata": {
        "id": "8-m7H-LtM8L6"
      },
      "source": [
        ""
      ]
    },
    {
      "cell_type": "markdown",
      "metadata": {
        "id": "RUkzRmmEPFol"
      },
      "source": [
        "# Warm up exercises"
      ]
    },
    {
      "cell_type": "markdown",
      "metadata": {
        "id": "naBNpWgdQBHs"
      },
      "source": [
        "## Simple calculator"
      ]
    },
    {
      "cell_type": "code",
      "metadata": {
        "id": "swUtrRkyPKtd",
        "outputId": "4c8e82ca-9de9-45fa-9891-3a94e3142539",
        "colab": {
          "base_uri": "https://localhost:8080/",
          "height": 68
        }
      },
      "source": [
        "2 + 4\n",
        "pi\n",
        "log10(pi)"
      ],
      "execution_count": 280,
      "outputs": [
        {
          "output_type": "display_data",
          "data": {
            "text/plain": [
              "[1] 6"
            ],
            "text/latex": "6",
            "text/markdown": "6",
            "text/html": [
              "6"
            ]
          },
          "metadata": {
            "tags": []
          }
        },
        {
          "output_type": "display_data",
          "data": {
            "text/plain": [
              "[1] 3.141593"
            ],
            "text/latex": "3.14159265358979",
            "text/markdown": "3.14159265358979",
            "text/html": [
              "3.14159265358979"
            ]
          },
          "metadata": {
            "tags": []
          }
        },
        {
          "output_type": "display_data",
          "data": {
            "text/plain": [
              "[1] 0.4971499"
            ],
            "text/latex": "0.497149872694134",
            "text/markdown": "0.497149872694134",
            "text/html": [
              "0.497149872694134"
            ]
          },
          "metadata": {
            "tags": []
          }
        }
      ]
    },
    {
      "cell_type": "code",
      "metadata": {
        "id": "arKIaM2U0Bol",
        "outputId": "56ca4402-1562-4e67-8c79-76842ec6965f",
        "colab": {
          "base_uri": "https://localhost:8080/",
          "height": 68
        }
      },
      "source": [
        "2*4\n",
        "9/3\n",
        "9-7"
      ],
      "execution_count": 281,
      "outputs": [
        {
          "output_type": "display_data",
          "data": {
            "text/plain": [
              "[1] 8"
            ],
            "text/latex": "8",
            "text/markdown": "8",
            "text/html": [
              "8"
            ]
          },
          "metadata": {
            "tags": []
          }
        },
        {
          "output_type": "display_data",
          "data": {
            "text/plain": [
              "[1] 3"
            ],
            "text/latex": "3",
            "text/markdown": "3",
            "text/html": [
              "3"
            ]
          },
          "metadata": {
            "tags": []
          }
        },
        {
          "output_type": "display_data",
          "data": {
            "text/plain": [
              "[1] 2"
            ],
            "text/latex": "2",
            "text/markdown": "2",
            "text/html": [
              "2"
            ]
          },
          "metadata": {
            "tags": []
          }
        }
      ]
    },
    {
      "cell_type": "code",
      "metadata": {
        "id": "1fKtBnbd1Fvp"
      },
      "source": [
        "?rnorm"
      ],
      "execution_count": 282,
      "outputs": []
    },
    {
      "cell_type": "code",
      "metadata": {
        "id": "Oeeo-AqO1qIF"
      },
      "source": [
        "?lm"
      ],
      "execution_count": 283,
      "outputs": []
    },
    {
      "cell_type": "code",
      "metadata": {
        "id": "DEFr5s6k12vp"
      },
      "source": [
        "?abline"
      ],
      "execution_count": 284,
      "outputs": []
    },
    {
      "cell_type": "code",
      "metadata": {
        "id": "vEiLroOj3b_S",
        "outputId": "e8745cb9-007a-4d85-c176-1e171757e4ed",
        "colab": {
          "base_uri": "https://localhost:8080/",
          "height": 34
        }
      },
      "source": [
        "a_vector = c(1, 3.14159, 5.0, -1, 10)\n",
        "a_vector"
      ],
      "execution_count": 285,
      "outputs": [
        {
          "output_type": "display_data",
          "data": {
            "text/plain": [
              "[1]  1.00000  3.14159  5.00000 -1.00000 10.00000"
            ],
            "text/latex": "\\begin{enumerate*}\n\\item 1\n\\item 3.14159\n\\item 5\n\\item -1\n\\item 10\n\\end{enumerate*}\n",
            "text/markdown": "1. 1\n2. 3.14159\n3. 5\n4. -1\n5. 10\n\n\n",
            "text/html": [
              "<style>\n",
              ".list-inline {list-style: none; margin:0; padding: 0}\n",
              ".list-inline>li {display: inline-block}\n",
              ".list-inline>li:not(:last-child)::after {content: \"\\00b7\"; padding: 0 .5ex}\n",
              "</style>\n",
              "<ol class=list-inline><li>1</li><li>3.14159</li><li>5</li><li>-1</li><li>10</li></ol>\n"
            ]
          },
          "metadata": {
            "tags": []
          }
        }
      ]
    },
    {
      "cell_type": "code",
      "metadata": {
        "id": "TMv7y8Db3vAW",
        "outputId": "a3d7ef7b-55fe-44fa-cea9-ef112cec9d68",
        "colab": {
          "base_uri": "https://localhost:8080/",
          "height": 34
        }
      },
      "source": [
        "b_vector= a_vector + c(2, 0.5, -5, 1, -10)\n",
        "b_vector"
      ],
      "execution_count": 286,
      "outputs": [
        {
          "output_type": "display_data",
          "data": {
            "text/plain": [
              "[1] 3.00000 3.64159 0.00000 0.00000 0.00000"
            ],
            "text/latex": "\\begin{enumerate*}\n\\item 3\n\\item 3.64159\n\\item 0\n\\item 0\n\\item 0\n\\end{enumerate*}\n",
            "text/markdown": "1. 3\n2. 3.64159\n3. 0\n4. 0\n5. 0\n\n\n",
            "text/html": [
              "<style>\n",
              ".list-inline {list-style: none; margin:0; padding: 0}\n",
              ".list-inline>li {display: inline-block}\n",
              ".list-inline>li:not(:last-child)::after {content: \"\\00b7\"; padding: 0 .5ex}\n",
              "</style>\n",
              "<ol class=list-inline><li>3</li><li>3.64159</li><li>0</li><li>0</li><li>0</li></ol>\n"
            ]
          },
          "metadata": {
            "tags": []
          }
        }
      ]
    },
    {
      "cell_type": "code",
      "metadata": {
        "id": "owbybG6fQ-az"
      },
      "source": [
        "#as.numeric(b_vector)"
      ],
      "execution_count": 287,
      "outputs": []
    },
    {
      "cell_type": "markdown",
      "metadata": {
        "id": "SJ1yVFReQEIo"
      },
      "source": [
        "## Vectors, indexing, plots\n",
        "x is a vector <br>\n",
        "y is a vector <br>"
      ]
    },
    {
      "cell_type": "code",
      "metadata": {
        "id": "1ekHpPi13OCr",
        "outputId": "ca0ecf73-e328-41c6-e566-dcb81666f89e",
        "colab": {
          "base_uri": "https://localhost:8080/",
          "height": 34
        }
      },
      "source": [
        "a_vector = 4:20\n",
        "a_vector"
      ],
      "execution_count": 288,
      "outputs": [
        {
          "output_type": "display_data",
          "data": {
            "text/plain": [
              " [1]  4  5  6  7  8  9 10 11 12 13 14 15 16 17 18 19 20"
            ],
            "text/latex": "\\begin{enumerate*}\n\\item 4\n\\item 5\n\\item 6\n\\item 7\n\\item 8\n\\item 9\n\\item 10\n\\item 11\n\\item 12\n\\item 13\n\\item 14\n\\item 15\n\\item 16\n\\item 17\n\\item 18\n\\item 19\n\\item 20\n\\end{enumerate*}\n",
            "text/markdown": "1. 4\n2. 5\n3. 6\n4. 7\n5. 8\n6. 9\n7. 10\n8. 11\n9. 12\n10. 13\n11. 14\n12. 15\n13. 16\n14. 17\n15. 18\n16. 19\n17. 20\n\n\n",
            "text/html": [
              "<style>\n",
              ".list-inline {list-style: none; margin:0; padding: 0}\n",
              ".list-inline>li {display: inline-block}\n",
              ".list-inline>li:not(:last-child)::after {content: \"\\00b7\"; padding: 0 .5ex}\n",
              "</style>\n",
              "<ol class=list-inline><li>4</li><li>5</li><li>6</li><li>7</li><li>8</li><li>9</li><li>10</li><li>11</li><li>12</li><li>13</li><li>14</li><li>15</li><li>16</li><li>17</li><li>18</li><li>19</li><li>20</li></ol>\n"
            ]
          },
          "metadata": {
            "tags": []
          }
        }
      ]
    },
    {
      "cell_type": "code",
      "metadata": {
        "id": "EyiEc8az3WhE",
        "outputId": "04b3d2dc-5a1f-415a-ae1b-4cab2c1e07aa",
        "colab": {
          "base_uri": "https://localhost:8080/",
          "height": 51
        }
      },
      "source": [
        "seq(4, 100, 2)"
      ],
      "execution_count": 289,
      "outputs": [
        {
          "output_type": "display_data",
          "data": {
            "text/plain": [
              " [1]   4   6   8  10  12  14  16  18  20  22  24  26  28  30  32  34  36  38  40\n",
              "[20]  42  44  46  48  50  52  54  56  58  60  62  64  66  68  70  72  74  76  78\n",
              "[39]  80  82  84  86  88  90  92  94  96  98 100"
            ],
            "text/latex": "\\begin{enumerate*}\n\\item 4\n\\item 6\n\\item 8\n\\item 10\n\\item 12\n\\item 14\n\\item 16\n\\item 18\n\\item 20\n\\item 22\n\\item 24\n\\item 26\n\\item 28\n\\item 30\n\\item 32\n\\item 34\n\\item 36\n\\item 38\n\\item 40\n\\item 42\n\\item 44\n\\item 46\n\\item 48\n\\item 50\n\\item 52\n\\item 54\n\\item 56\n\\item 58\n\\item 60\n\\item 62\n\\item 64\n\\item 66\n\\item 68\n\\item 70\n\\item 72\n\\item 74\n\\item 76\n\\item 78\n\\item 80\n\\item 82\n\\item 84\n\\item 86\n\\item 88\n\\item 90\n\\item 92\n\\item 94\n\\item 96\n\\item 98\n\\item 100\n\\end{enumerate*}\n",
            "text/markdown": "1. 4\n2. 6\n3. 8\n4. 10\n5. 12\n6. 14\n7. 16\n8. 18\n9. 20\n10. 22\n11. 24\n12. 26\n13. 28\n14. 30\n15. 32\n16. 34\n17. 36\n18. 38\n19. 40\n20. 42\n21. 44\n22. 46\n23. 48\n24. 50\n25. 52\n26. 54\n27. 56\n28. 58\n29. 60\n30. 62\n31. 64\n32. 66\n33. 68\n34. 70\n35. 72\n36. 74\n37. 76\n38. 78\n39. 80\n40. 82\n41. 84\n42. 86\n43. 88\n44. 90\n45. 92\n46. 94\n47. 96\n48. 98\n49. 100\n\n\n",
            "text/html": [
              "<style>\n",
              ".list-inline {list-style: none; margin:0; padding: 0}\n",
              ".list-inline>li {display: inline-block}\n",
              ".list-inline>li:not(:last-child)::after {content: \"\\00b7\"; padding: 0 .5ex}\n",
              "</style>\n",
              "<ol class=list-inline><li>4</li><li>6</li><li>8</li><li>10</li><li>12</li><li>14</li><li>16</li><li>18</li><li>20</li><li>22</li><li>24</li><li>26</li><li>28</li><li>30</li><li>32</li><li>34</li><li>36</li><li>38</li><li>40</li><li>42</li><li>44</li><li>46</li><li>48</li><li>50</li><li>52</li><li>54</li><li>56</li><li>58</li><li>60</li><li>62</li><li>64</li><li>66</li><li>68</li><li>70</li><li>72</li><li>74</li><li>76</li><li>78</li><li>80</li><li>82</li><li>84</li><li>86</li><li>88</li><li>90</li><li>92</li><li>94</li><li>96</li><li>98</li><li>100</li></ol>\n"
            ]
          },
          "metadata": {
            "tags": []
          }
        }
      ]
    },
    {
      "cell_type": "code",
      "metadata": {
        "id": "jiuRJOI8l9My",
        "outputId": "9e9184e8-46e5-40e4-bc76-e8fbfcb37dd4",
        "colab": {
          "base_uri": "https://localhost:8080/",
          "height": 437
        }
      },
      "source": [
        "x = rnorm(100) #generate 100 normal-distributed (Gaussain) random nubmers \n",
        "y = x + rnorm(100)*10 # y is a linear transformation of x with some Gaussain noise\n",
        "m = lm( y ~ x)\n",
        "plot( y ~ x)\n",
        "abline(m, col='red')"
      ],
      "execution_count": 290,
      "outputs": [
        {
          "output_type": "display_data",
          "data": {
            "image/png": "[encoded data removed]",
            "text/plain": [
              "plot without title"
            ]
          },
          "metadata": {
            "tags": [],
            "image/png": {
              "width": 420,
              "height": 420
            }
          }
        }
      ]
    },
    {
      "cell_type": "markdown",
      "metadata": {
        "id": "L1nyF9Nsxzub"
      },
      "source": [
        "Indexing of elements in a vector"
      ]
    },
    {
      "cell_type": "code",
      "metadata": {
        "id": "ognrpbuPxn_O",
        "outputId": "a0f64849-892a-43b2-e096-25bb86f3635b",
        "colab": {
          "base_uri": "https://localhost:8080/",
          "height": 85
        }
      },
      "source": [
        "x[1]\n",
        "x[2]\n",
        "x[1:5]\n",
        "x[c(1, 3, 7, 10)]"
      ],
      "execution_count": 291,
      "outputs": [
        {
          "output_type": "display_data",
          "data": {
            "text/plain": [
              "[1] -0.5663265"
            ],
            "text/latex": "-0.566326532513522",
            "text/markdown": "-0.566326532513522",
            "text/html": [
              "-0.566326532513522"
            ]
          },
          "metadata": {
            "tags": []
          }
        },
        {
          "output_type": "display_data",
          "data": {
            "text/plain": [
              "[1] -1.668967"
            ],
            "text/latex": "-1.66896716692176",
            "text/markdown": "-1.66896716692176",
            "text/html": [
              "-1.66896716692176"
            ]
          },
          "metadata": {
            "tags": []
          }
        },
        {
          "output_type": "display_data",
          "data": {
            "text/plain": [
              "[1] -0.566326533 -1.668967167 -0.002402856  0.521642184 -0.117995067"
            ],
            "text/latex": "\\begin{enumerate*}\n\\item -0.566326532513522\n\\item -1.66896716692176\n\\item -0.00240285588327066\n\\item 0.521642184158207\n\\item -0.117995066611318\n\\end{enumerate*}\n",
            "text/markdown": "1. -0.566326532513522\n2. -1.66896716692176\n3. -0.00240285588327066\n4. 0.521642184158207\n5. -0.117995066611318\n\n\n",
            "text/html": [
              "<style>\n",
              ".list-inline {list-style: none; margin:0; padding: 0}\n",
              ".list-inline>li {display: inline-block}\n",
              ".list-inline>li:not(:last-child)::after {content: \"\\00b7\"; padding: 0 .5ex}\n",
              "</style>\n",
              "<ol class=list-inline><li>-0.566326532513522</li><li>-1.66896716692176</li><li>-0.00240285588327066</li><li>0.521642184158207</li><li>-0.117995066611318</li></ol>\n"
            ]
          },
          "metadata": {
            "tags": []
          }
        },
        {
          "output_type": "display_data",
          "data": {
            "text/plain": [
              "[1] -0.566326533 -0.002402856  0.736512549 -0.699700702"
            ],
            "text/latex": "\\begin{enumerate*}\n\\item -0.566326532513522\n\\item -0.00240285588327066\n\\item 0.736512548955106\n\\item -0.699700701883359\n\\end{enumerate*}\n",
            "text/markdown": "1. -0.566326532513522\n2. -0.00240285588327066\n3. 0.736512548955106\n4. -0.699700701883359\n\n\n",
            "text/html": [
              "<style>\n",
              ".list-inline {list-style: none; margin:0; padding: 0}\n",
              ".list-inline>li {display: inline-block}\n",
              ".list-inline>li:not(:last-child)::after {content: \"\\00b7\"; padding: 0 .5ex}\n",
              "</style>\n",
              "<ol class=list-inline><li>-0.566326532513522</li><li>-0.00240285588327066</li><li>0.736512548955106</li><li>-0.699700701883359</li></ol>\n"
            ]
          },
          "metadata": {
            "tags": []
          }
        }
      ]
    },
    {
      "cell_type": "markdown",
      "metadata": {
        "id": "xyOelyLEx_R6"
      },
      "source": [
        "## Dataframe, indexing"
      ]
    },
    {
      "cell_type": "code",
      "metadata": {
        "id": "hqBKfWmS3FIw",
        "outputId": "330b1c18-28e4-4fc3-8788-436031eed3a0",
        "colab": {
          "base_uri": "https://localhost:8080/",
          "height": 204
        }
      },
      "source": [
        "tb = data.frame( cbind(x, y))\n",
        "head(tb)"
      ],
      "execution_count": 292,
      "outputs": [
        {
          "output_type": "display_data",
          "data": {
            "text/plain": [
              "  x            y        \n",
              "1 -0.566326533  4.162178\n",
              "2 -1.668967167  7.284155\n",
              "3 -0.002402856 -3.146177\n",
              "4  0.521642184  1.132584\n",
              "5 -0.117995067 -8.343793\n",
              "6  2.397010901 -6.968837"
            ],
            "text/latex": "A data.frame: 6 × 2\n\\begin{tabular}{r|ll}\n  & x & y\\\\\n  & <dbl> & <dbl>\\\\\n\\hline\n\t1 & -0.566326533 &  4.162178\\\\\n\t2 & -1.668967167 &  7.284155\\\\\n\t3 & -0.002402856 & -3.146177\\\\\n\t4 &  0.521642184 &  1.132584\\\\\n\t5 & -0.117995067 & -8.343793\\\\\n\t6 &  2.397010901 & -6.968837\\\\\n\\end{tabular}\n",
            "text/markdown": "\nA data.frame: 6 × 2\n\n| <!--/--> | x &lt;dbl&gt; | y &lt;dbl&gt; |\n|---|---|---|\n| 1 | -0.566326533 |  4.162178 |\n| 2 | -1.668967167 |  7.284155 |\n| 3 | -0.002402856 | -3.146177 |\n| 4 |  0.521642184 |  1.132584 |\n| 5 | -0.117995067 | -8.343793 |\n| 6 |  2.397010901 | -6.968837 |\n\n",
            "text/html": [
              "<table>\n",
              "<caption>A data.frame: 6 × 2</caption>\n",
              "<thead>\n",
              "\t<tr><th></th><th scope=col>x</th><th scope=col>y</th></tr>\n",
              "\t<tr><th></th><th scope=col>&lt;dbl&gt;</th><th scope=col>&lt;dbl&gt;</th></tr>\n",
              "</thead>\n",
              "<tbody>\n",
              "\t<tr><th scope=row>1</th><td>-0.566326533</td><td> 4.162178</td></tr>\n",
              "\t<tr><th scope=row>2</th><td>-1.668967167</td><td> 7.284155</td></tr>\n",
              "\t<tr><th scope=row>3</th><td>-0.002402856</td><td>-3.146177</td></tr>\n",
              "\t<tr><th scope=row>4</th><td> 0.521642184</td><td> 1.132584</td></tr>\n",
              "\t<tr><th scope=row>5</th><td>-0.117995067</td><td>-8.343793</td></tr>\n",
              "\t<tr><th scope=row>6</th><td> 2.397010901</td><td>-6.968837</td></tr>\n",
              "</tbody>\n",
              "</table>\n"
            ]
          },
          "metadata": {
            "tags": []
          }
        }
      ]
    },
    {
      "cell_type": "code",
      "metadata": {
        "id": "otmozr9pyJKH",
        "outputId": "b36fcebd-f964-4316-f62e-3e2afcb8493b",
        "colab": {
          "base_uri": "https://localhost:8080/",
          "height": 99
        }
      },
      "source": [
        "tb[1,] #first row"
      ],
      "execution_count": 293,
      "outputs": [
        {
          "output_type": "display_data",
          "data": {
            "text/plain": [
              "  x          y       \n",
              "1 -0.5663265 4.162178"
            ],
            "text/latex": "A data.frame: 1 × 2\n\\begin{tabular}{r|ll}\n  & x & y\\\\\n  & <dbl> & <dbl>\\\\\n\\hline\n\t1 & -0.5663265 & 4.162178\\\\\n\\end{tabular}\n",
            "text/markdown": "\nA data.frame: 1 × 2\n\n| <!--/--> | x &lt;dbl&gt; | y &lt;dbl&gt; |\n|---|---|---|\n| 1 | -0.5663265 | 4.162178 |\n\n",
            "text/html": [
              "<table>\n",
              "<caption>A data.frame: 1 × 2</caption>\n",
              "<thead>\n",
              "\t<tr><th></th><th scope=col>x</th><th scope=col>y</th></tr>\n",
              "\t<tr><th></th><th scope=col>&lt;dbl&gt;</th><th scope=col>&lt;dbl&gt;</th></tr>\n",
              "</thead>\n",
              "<tbody>\n",
              "\t<tr><th scope=row>1</th><td>-0.5663265</td><td>4.162178</td></tr>\n",
              "</tbody>\n",
              "</table>\n"
            ]
          },
          "metadata": {
            "tags": []
          }
        }
      ]
    },
    {
      "cell_type": "code",
      "metadata": {
        "id": "_3hFV-LyyMOe",
        "outputId": "9bf558fa-72ae-4688-ce17-948921f7ed34",
        "colab": {
          "base_uri": "https://localhost:8080/",
          "height": 221
        }
      },
      "source": [
        "tb[, 2] #second column"
      ],
      "execution_count": 294,
      "outputs": [
        {
          "output_type": "display_data",
          "data": {
            "text/plain": [
              "  [1]   4.16217846   7.28415489  -3.14617682   1.13258394  -8.34379308\n",
              "  [6]  -6.96883654   0.41371581  10.86644372  10.11474392 -20.03444752\n",
              " [11]   5.48477234   1.31829073  16.89021451  -3.39137770   5.78746556\n",
              " [16]  13.28735504  -7.90889339   1.07008674 -11.43802084  13.00895738\n",
              " [21]   3.77441443   7.65150030   9.37074687  -3.84769173 -11.81007105\n",
              " [26]  -1.65512882  -0.14817492   2.85388702 -11.57601094  10.38728631\n",
              " [31]  -0.32398021  -4.03028724   0.01238255   0.49300135   1.46790948\n",
              " [36]  -9.01337286 -10.84405703   2.63483386  -6.29779463  -1.22795770\n",
              " [41]  -5.59972031 -11.97476599   4.31652949   6.68445359   1.99903410\n",
              " [46] -10.42872298   1.67179104  -5.75935868  10.32633520  14.54117570\n",
              " [51]  -3.22490816  -5.14238165   0.63264583  -3.16040518  21.90126126\n",
              " [56]  -5.35256444  13.30837842  -5.70780362   3.29660924   4.80579679\n",
              " [61]   2.97675584   4.63055936 -10.55777387  -3.34479344  -5.68772786\n",
              " [66]   1.68087638   6.04801760   1.81186303  12.86626064   8.48525986\n",
              " [71] -10.07209819  -5.68461254  -0.33579685   8.50813909  -6.70057073\n",
              " [76] -12.89702008 -17.28527532  -2.89978047  -0.16054084 -12.42934587\n",
              " [81]   8.88382699  -0.25657483  -3.10527974   9.13060661  -8.20739142\n",
              " [86]  -5.30405133  16.21502535  -1.86425120  -5.64562146 -10.41114370\n",
              " [91]  -2.62433383 -13.32665310 -10.45282366   1.68367328   7.62806047\n",
              " [96]  10.05423757   6.41643204   0.80577127  26.81949865  -7.19069999"
            ],
            "text/latex": "\\begin{enumerate*}\n\\item 4.16217845645907\n\\item 7.28415488689332\n\\item -3.14617682242549\n\\item 1.13258393615059\n\\item -8.34379307507464\n\\item -6.96883654302455\n\\item 0.413715812346187\n\\item 10.8664437159098\n\\item 10.1147439170008\n\\item -20.0344475214887\n\\item 5.48477233879363\n\\item 1.31829072866142\n\\item 16.8902145146694\n\\item -3.39137770061839\n\\item 5.78746555964685\n\\item 13.287355038799\n\\item -7.90889339429451\n\\item 1.07008674221354\n\\item -11.4380208360199\n\\item 13.0089573828103\n\\item 3.77441442683625\n\\item 7.65150030194157\n\\item 9.3707468696466\n\\item -3.84769172960953\n\\item -11.8100710524317\n\\item -1.65512881690724\n\\item -0.148174919410102\n\\item 2.85388701793137\n\\item -11.5760109369897\n\\item 10.3872863071124\n\\item -0.323980207033218\n\\item -4.03028723966441\n\\item 0.012382548264371\n\\item 0.49300135177801\n\\item 1.46790948033525\n\\item -9.01337286023981\n\\item -10.8440570258613\n\\item 2.63483386102027\n\\item -6.29779463217446\n\\item -1.2279577040729\n\\item -5.59972031378163\n\\item -11.9747659879803\n\\item 4.31652949102094\n\\item 6.68445358968056\n\\item 1.99903410132145\n\\item -10.4287229821737\n\\item 1.67179103666605\n\\item -5.75935868455566\n\\item 10.3263351958522\n\\item 14.5411756958283\n\\item -3.22490815766114\n\\item -5.14238164858731\n\\item 0.632645826902913\n\\item -3.16040518273267\n\\item 21.9012612551955\n\\item -5.35256443831656\n\\item 13.3083784191338\n\\item -5.70780362090635\n\\item 3.29660923965042\n\\item 4.80579679108338\n\\item 2.97675583907164\n\\item 4.63055935578705\n\\item -10.5577738728326\n\\item -3.34479343928724\n\\item -5.68772786038714\n\\item 1.68087637852646\n\\item 6.04801759800078\n\\item 1.81186302951083\n\\item 12.8662606381065\n\\item 8.48525986330434\n\\item -10.0720981863812\n\\item -5.68461254494174\n\\item -0.3357968535781\n\\item 8.50813909204588\n\\item -6.70057073347893\n\\item -12.8970200816684\n\\item -17.2852753232901\n\\item -2.89978047159378\n\\item -0.16054083816427\n\\item -12.4293458670506\n\\item 8.88382698538681\n\\item -0.256574833365443\n\\item -3.10527974356545\n\\item 9.1306066054694\n\\item -8.20739141928432\n\\item -5.30405132542985\n\\item 16.2150253465095\n\\item -1.86425119755194\n\\item -5.64562145757949\n\\item -10.4111437014689\n\\item -2.62433383326124\n\\item -13.3266531035878\n\\item -10.4528236569512\n\\item 1.68367328209498\n\\item 7.62806047280875\n\\item 10.0542375697596\n\\item 6.41643203636776\n\\item 0.805771266371718\n\\item 26.8194986502692\n\\item -7.19069999189026\n\\end{enumerate*}\n",
            "text/markdown": "1. 4.16217845645907\n2. 7.28415488689332\n3. -3.14617682242549\n4. 1.13258393615059\n5. -8.34379307507464\n6. -6.96883654302455\n7. 0.413715812346187\n8. 10.8664437159098\n9. 10.1147439170008\n10. -20.0344475214887\n11. 5.48477233879363\n12. 1.31829072866142\n13. 16.8902145146694\n14. -3.39137770061839\n15. 5.78746555964685\n16. 13.287355038799\n17. -7.90889339429451\n18. 1.07008674221354\n19. -11.4380208360199\n20. 13.0089573828103\n21. 3.77441442683625\n22. 7.65150030194157\n23. 9.3707468696466\n24. -3.84769172960953\n25. -11.8100710524317\n26. -1.65512881690724\n27. -0.148174919410102\n28. 2.85388701793137\n29. -11.5760109369897\n30. 10.3872863071124\n31. -0.323980207033218\n32. -4.03028723966441\n33. 0.012382548264371\n34. 0.49300135177801\n35. 1.46790948033525\n36. -9.01337286023981\n37. -10.8440570258613\n38. 2.63483386102027\n39. -6.29779463217446\n40. -1.2279577040729\n41. -5.59972031378163\n42. -11.9747659879803\n43. 4.31652949102094\n44. 6.68445358968056\n45. 1.99903410132145\n46. -10.4287229821737\n47. 1.67179103666605\n48. -5.75935868455566\n49. 10.3263351958522\n50. 14.5411756958283\n51. -3.22490815766114\n52. -5.14238164858731\n53. 0.632645826902913\n54. -3.16040518273267\n55. 21.9012612551955\n56. -5.35256443831656\n57. 13.3083784191338\n58. -5.70780362090635\n59. 3.29660923965042\n60. 4.80579679108338\n61. 2.97675583907164\n62. 4.63055935578705\n63. -10.5577738728326\n64. -3.34479343928724\n65. -5.68772786038714\n66. 1.68087637852646\n67. 6.04801759800078\n68. 1.81186302951083\n69. 12.8662606381065\n70. 8.48525986330434\n71. -10.0720981863812\n72. -5.68461254494174\n73. -0.3357968535781\n74. 8.50813909204588\n75. -6.70057073347893\n76. -12.8970200816684\n77. -17.2852753232901\n78. -2.89978047159378\n79. -0.16054083816427\n80. -12.4293458670506\n81. 8.88382698538681\n82. -0.256574833365443\n83. -3.10527974356545\n84. 9.1306066054694\n85. -8.20739141928432\n86. -5.30405132542985\n87. 16.2150253465095\n88. -1.86425119755194\n89. -5.64562145757949\n90. -10.4111437014689\n91. -2.62433383326124\n92. -13.3266531035878\n93. -10.4528236569512\n94. 1.68367328209498\n95. 7.62806047280875\n96. 10.0542375697596\n97. 6.41643203636776\n98. 0.805771266371718\n99. 26.8194986502692\n100. -7.19069999189026\n\n\n",
            "text/html": [
              "<style>\n",
              ".list-inline {list-style: none; margin:0; padding: 0}\n",
              ".list-inline>li {display: inline-block}\n",
              ".list-inline>li:not(:last-child)::after {content: \"\\00b7\"; padding: 0 .5ex}\n",
              "</style>\n",
              "<ol class=list-inline><li>4.16217845645907</li><li>7.28415488689332</li><li>-3.14617682242549</li><li>1.13258393615059</li><li>-8.34379307507464</li><li>-6.96883654302455</li><li>0.413715812346187</li><li>10.8664437159098</li><li>10.1147439170008</li><li>-20.0344475214887</li><li>5.48477233879363</li><li>1.31829072866142</li><li>16.8902145146694</li><li>-3.39137770061839</li><li>5.78746555964685</li><li>13.287355038799</li><li>-7.90889339429451</li><li>1.07008674221354</li><li>-11.4380208360199</li><li>13.0089573828103</li><li>3.77441442683625</li><li>7.65150030194157</li><li>9.3707468696466</li><li>-3.84769172960953</li><li>-11.8100710524317</li><li>-1.65512881690724</li><li>-0.148174919410102</li><li>2.85388701793137</li><li>-11.5760109369897</li><li>10.3872863071124</li><li>-0.323980207033218</li><li>-4.03028723966441</li><li>0.012382548264371</li><li>0.49300135177801</li><li>1.46790948033525</li><li>-9.01337286023981</li><li>-10.8440570258613</li><li>2.63483386102027</li><li>-6.29779463217446</li><li>-1.2279577040729</li><li>-5.59972031378163</li><li>-11.9747659879803</li><li>4.31652949102094</li><li>6.68445358968056</li><li>1.99903410132145</li><li>-10.4287229821737</li><li>1.67179103666605</li><li>-5.75935868455566</li><li>10.3263351958522</li><li>14.5411756958283</li><li>-3.22490815766114</li><li>-5.14238164858731</li><li>0.632645826902913</li><li>-3.16040518273267</li><li>21.9012612551955</li><li>-5.35256443831656</li><li>13.3083784191338</li><li>-5.70780362090635</li><li>3.29660923965042</li><li>4.80579679108338</li><li>2.97675583907164</li><li>4.63055935578705</li><li>-10.5577738728326</li><li>-3.34479343928724</li><li>-5.68772786038714</li><li>1.68087637852646</li><li>6.04801759800078</li><li>1.81186302951083</li><li>12.8662606381065</li><li>8.48525986330434</li><li>-10.0720981863812</li><li>-5.68461254494174</li><li>-0.3357968535781</li><li>8.50813909204588</li><li>-6.70057073347893</li><li>-12.8970200816684</li><li>-17.2852753232901</li><li>-2.89978047159378</li><li>-0.16054083816427</li><li>-12.4293458670506</li><li>8.88382698538681</li><li>-0.256574833365443</li><li>-3.10527974356545</li><li>9.1306066054694</li><li>-8.20739141928432</li><li>-5.30405132542985</li><li>16.2150253465095</li><li>-1.86425119755194</li><li>-5.64562145757949</li><li>-10.4111437014689</li><li>-2.62433383326124</li><li>-13.3266531035878</li><li>-10.4528236569512</li><li>1.68367328209498</li><li>7.62806047280875</li><li>10.0542375697596</li><li>6.41643203636776</li><li>0.805771266371718</li><li>26.8194986502692</li><li>-7.19069999189026</li></ol>\n"
            ]
          },
          "metadata": {
            "tags": []
          }
        }
      ]
    },
    {
      "cell_type": "code",
      "metadata": {
        "id": "NVQhWnUuyTne",
        "outputId": "53288028-e925-494a-c80c-09bfd19b37fc",
        "colab": {
          "base_uri": "https://localhost:8080/",
          "height": 183
        }
      },
      "source": [
        "tb[1:5, 1:2] #first 5 rows, two columns"
      ],
      "execution_count": 295,
      "outputs": [
        {
          "output_type": "display_data",
          "data": {
            "text/plain": [
              "  x            y        \n",
              "1 -0.566326533  4.162178\n",
              "2 -1.668967167  7.284155\n",
              "3 -0.002402856 -3.146177\n",
              "4  0.521642184  1.132584\n",
              "5 -0.117995067 -8.343793"
            ],
            "text/latex": "A data.frame: 5 × 2\n\\begin{tabular}{r|ll}\n  & x & y\\\\\n  & <dbl> & <dbl>\\\\\n\\hline\n\t1 & -0.566326533 &  4.162178\\\\\n\t2 & -1.668967167 &  7.284155\\\\\n\t3 & -0.002402856 & -3.146177\\\\\n\t4 &  0.521642184 &  1.132584\\\\\n\t5 & -0.117995067 & -8.343793\\\\\n\\end{tabular}\n",
            "text/markdown": "\nA data.frame: 5 × 2\n\n| <!--/--> | x &lt;dbl&gt; | y &lt;dbl&gt; |\n|---|---|---|\n| 1 | -0.566326533 |  4.162178 |\n| 2 | -1.668967167 |  7.284155 |\n| 3 | -0.002402856 | -3.146177 |\n| 4 |  0.521642184 |  1.132584 |\n| 5 | -0.117995067 | -8.343793 |\n\n",
            "text/html": [
              "<table>\n",
              "<caption>A data.frame: 5 × 2</caption>\n",
              "<thead>\n",
              "\t<tr><th></th><th scope=col>x</th><th scope=col>y</th></tr>\n",
              "\t<tr><th></th><th scope=col>&lt;dbl&gt;</th><th scope=col>&lt;dbl&gt;</th></tr>\n",
              "</thead>\n",
              "<tbody>\n",
              "\t<tr><th scope=row>1</th><td>-0.566326533</td><td> 4.162178</td></tr>\n",
              "\t<tr><th scope=row>2</th><td>-1.668967167</td><td> 7.284155</td></tr>\n",
              "\t<tr><th scope=row>3</th><td>-0.002402856</td><td>-3.146177</td></tr>\n",
              "\t<tr><th scope=row>4</th><td> 0.521642184</td><td> 1.132584</td></tr>\n",
              "\t<tr><th scope=row>5</th><td>-0.117995067</td><td>-8.343793</td></tr>\n",
              "</tbody>\n",
              "</table>\n"
            ]
          },
          "metadata": {
            "tags": []
          }
        }
      ]
    },
    {
      "cell_type": "markdown",
      "metadata": {
        "id": "AI31CZTcP-tr"
      },
      "source": [
        "## Load libries"
      ]
    },
    {
      "cell_type": "code",
      "metadata": {
        "id": "z5ptIUvflz8F",
        "outputId": "ebc4fe1e-6aab-46f5-85fc-1f78056b3145",
        "colab": {
          "base_uri": "https://localhost:8080/",
          "height": 68
        }
      },
      "source": [
        "install.packages('reshape2')\n",
        "library(tidyverse)\n",
        "library(lubridate)\n",
        "library(reshape2)\n",
        "library(ggplot2)\n",
        "library(dplyr)"
      ],
      "execution_count": 296,
      "outputs": [
        {
          "output_type": "stream",
          "text": [
            "Installing package into ‘/usr/local/lib/R/site-library’\n",
            "(as ‘lib’ is unspecified)\n",
            "\n"
          ],
          "name": "stderr"
        }
      ]
    },
    {
      "cell_type": "markdown",
      "metadata": {
        "id": "vopePx99lWIQ"
      },
      "source": [
        "## Dataframe \n",
        "\n",
        "A dataframe can be considered a spreadsheet. "
      ]
    },
    {
      "cell_type": "code",
      "metadata": {
        "id": "i2NI236KSk3V",
        "outputId": "f8632370-c07f-44c7-97c0-46dd911a45e3",
        "colab": {
          "base_uri": "https://localhost:8080/",
          "height": 471
        }
      },
      "source": [
        "ggplot(tb, aes(x=x, y=y)) + geom_point() + geom_smooth()"
      ],
      "execution_count": 297,
      "outputs": [
        {
          "output_type": "stream",
          "text": [
            "`geom_smooth()` using method = 'loess' and formula 'y ~ x'\n",
            "\n"
          ],
          "name": "stderr"
        },
        {
          "output_type": "display_data",
          "data": {
            "image/png": "[encoded data removed]",
            "text/plain": [
              "plot without title"
            ]
          },
          "metadata": {
            "tags": [],
            "image/png": {
              "width": 420,
              "height": 420
            }
          }
        }
      ]
    },
    {
      "cell_type": "markdown",
      "metadata": {
        "id": "CR1NT8J72jeo"
      },
      "source": [
        "mydate is a dataframe (like Phython dataframe)\n",
        "\n",
        "\n",
        "\n"
      ]
    },
    {
      "cell_type": "code",
      "metadata": {
        "id": "pfvnZZ9HmCi2",
        "outputId": "83ee5f7c-4b01-4fe9-9af7-23ee14fa97b5",
        "colab": {
          "base_uri": "https://localhost:8080/",
          "height": 471
        }
      },
      "source": [
        "ggplot(tb, aes(x=x, y=y)) + geom_point() + stat_smooth(span=0.2)"
      ],
      "execution_count": 298,
      "outputs": [
        {
          "output_type": "stream",
          "text": [
            "`geom_smooth()` using method = 'loess' and formula 'y ~ x'\n",
            "\n"
          ],
          "name": "stderr"
        },
        {
          "output_type": "display_data",
          "data": {
            "image/png": "[encoded data removed]",
            "text/plain": [
              "plot without title"
            ]
          },
          "metadata": {
            "tags": [],
            "image/png": {
              "width": 420,
              "height": 420
            }
          }
        }
      ]
    },
    {
      "cell_type": "markdown",
      "metadata": {
        "id": "exYs_gOSyh4G"
      },
      "source": [
        "## Read a spread sheet"
      ]
    },
    {
      "cell_type": "code",
      "metadata": {
        "id": "R5e2KC0-ylf_",
        "outputId": "b9e6790d-ddcc-408c-ac99-fc5153319786",
        "colab": {
          "base_uri": "https://localhost:8080/",
          "height": 272
        }
      },
      "source": [
        "tb = read_csv(\"https://raw.githubusercontent.com/hongqin/Use-R-in-CoLab/master/vip-grades.csv\")"
      ],
      "execution_count": 299,
      "outputs": [
        {
          "output_type": "stream",
          "text": [
            "Warning message:\n",
            "“Missing column names filled in: 'X3' [3], 'X4' [4], 'X5' [5], 'X6' [6], 'X7' [7]”\n",
            "\n",
            "\u001b[36m──\u001b[39m \u001b[1m\u001b[1mColumn specification\u001b[1m\u001b[22m \u001b[36m────────────────────────────────────────────────────────\u001b[39m\n",
            "cols(\n",
            "  name = \u001b[31mcol_character()\u001b[39m,\n",
            "  Grade = \u001b[32mcol_double()\u001b[39m,\n",
            "  X3 = \u001b[33mcol_logical()\u001b[39m,\n",
            "  X4 = \u001b[33mcol_logical()\u001b[39m,\n",
            "  X5 = \u001b[33mcol_logical()\u001b[39m,\n",
            "  X6 = \u001b[33mcol_logical()\u001b[39m,\n",
            "  X7 = \u001b[33mcol_logical()\u001b[39m\n",
            ")\n",
            "\n",
            "\n"
          ],
          "name": "stderr"
        }
      ]
    },
    {
      "cell_type": "code",
      "metadata": {
        "id": "zmPqAonTylrb",
        "outputId": "1076bcc7-87da-40ef-bc51-efd3ade65fe7",
        "colab": {
          "base_uri": "https://localhost:8080/",
          "height": 666
        }
      },
      "source": [
        "tb"
      ],
      "execution_count": 300,
      "outputs": [
        {
          "output_type": "display_data",
          "data": {
            "text/plain": [
              "   name                  Grade X3 X4 X5 X6 X7\n",
              "1  George Washington      85   NA NA NA NA NA\n",
              "2  John Adams             90   NA NA NA NA NA\n",
              "3  Thomas Jefferson       81   NA NA NA NA NA\n",
              "4  James Madison          92   NA NA NA NA NA\n",
              "5  James Monroe           71   NA NA NA NA NA\n",
              "6  Andrew Jackson         86   NA NA NA NA NA\n",
              "7  James K. Polk          70   NA NA NA NA NA\n",
              "8  Zachary Taylor         88   NA NA NA NA NA\n",
              "9  Millard Fillmore      100   NA NA NA NA NA\n",
              "10 Franklin Pierce        99   NA NA NA NA NA\n",
              "11 James Buchanan         97   NA NA NA NA NA\n",
              "12 Abraham Lincoln        91   NA NA NA NA NA\n",
              "13 Andrew Johnson         83   NA NA NA NA NA\n",
              "14 Ulysses S. Grant       85   NA NA NA NA NA\n",
              "15 Rutherford B. Hayes    78   NA NA NA NA NA\n",
              "16 James Garfield         99   NA NA NA NA NA\n",
              "17 Chester A. Arthur      82   NA NA NA NA NA\n",
              "18 Grover Cleveland       78   NA NA NA NA NA\n",
              "19 Benjamin Harrison      84   NA NA NA NA NA\n",
              "20 Grover Cleveland       73   NA NA NA NA NA\n",
              "21 William McKinley       66   NA NA NA NA NA\n",
              "22 Theodore Roosevelt     92   NA NA NA NA NA\n",
              "23 William Howard Taft    89   NA NA NA NA NA\n",
              "24 Woodrow Wilson         90   NA NA NA NA NA\n",
              "25 Warren G. Harding      79   NA NA NA NA NA\n",
              "26 Calvin Coolidge        81   NA NA NA NA NA\n",
              "27 Herbert Hoover         84   NA NA NA NA NA\n",
              "28 Franklin D. Roosevelt  89   NA NA NA NA NA"
            ],
            "text/latex": "A spec\\_tbl\\_df: 28 × 7\n\\begin{tabular}{lllllll}\n name & Grade & X3 & X4 & X5 & X6 & X7\\\\\n <chr> & <dbl> & <lgl> & <lgl> & <lgl> & <lgl> & <lgl>\\\\\n\\hline\n\t George Washington     &  85 & NA & NA & NA & NA & NA\\\\\n\t John Adams            &  90 & NA & NA & NA & NA & NA\\\\\n\t Thomas Jefferson      &  81 & NA & NA & NA & NA & NA\\\\\n\t James Madison         &  92 & NA & NA & NA & NA & NA\\\\\n\t James Monroe          &  71 & NA & NA & NA & NA & NA\\\\\n\t Andrew Jackson        &  86 & NA & NA & NA & NA & NA\\\\\n\t James K. Polk         &  70 & NA & NA & NA & NA & NA\\\\\n\t Zachary Taylor        &  88 & NA & NA & NA & NA & NA\\\\\n\t Millard Fillmore      & 100 & NA & NA & NA & NA & NA\\\\\n\t Franklin Pierce       &  99 & NA & NA & NA & NA & NA\\\\\n\t James Buchanan        &  97 & NA & NA & NA & NA & NA\\\\\n\t Abraham Lincoln       &  91 & NA & NA & NA & NA & NA\\\\\n\t Andrew Johnson        &  83 & NA & NA & NA & NA & NA\\\\\n\t Ulysses S. Grant      &  85 & NA & NA & NA & NA & NA\\\\\n\t Rutherford B. Hayes   &  78 & NA & NA & NA & NA & NA\\\\\n\t James Garfield        &  99 & NA & NA & NA & NA & NA\\\\\n\t Chester A. Arthur     &  82 & NA & NA & NA & NA & NA\\\\\n\t Grover Cleveland      &  78 & NA & NA & NA & NA & NA\\\\\n\t Benjamin Harrison     &  84 & NA & NA & NA & NA & NA\\\\\n\t Grover Cleveland      &  73 & NA & NA & NA & NA & NA\\\\\n\t William McKinley      &  66 & NA & NA & NA & NA & NA\\\\\n\t Theodore Roosevelt    &  92 & NA & NA & NA & NA & NA\\\\\n\t William Howard Taft   &  89 & NA & NA & NA & NA & NA\\\\\n\t Woodrow Wilson        &  90 & NA & NA & NA & NA & NA\\\\\n\t Warren G. Harding     &  79 & NA & NA & NA & NA & NA\\\\\n\t Calvin Coolidge       &  81 & NA & NA & NA & NA & NA\\\\\n\t Herbert Hoover        &  84 & NA & NA & NA & NA & NA\\\\\n\t Franklin D. Roosevelt &  89 & NA & NA & NA & NA & NA\\\\\n\\end{tabular}\n",
            "text/markdown": "\nA spec_tbl_df: 28 × 7\n\n| name &lt;chr&gt; | Grade &lt;dbl&gt; | X3 &lt;lgl&gt; | X4 &lt;lgl&gt; | X5 &lt;lgl&gt; | X6 &lt;lgl&gt; | X7 &lt;lgl&gt; |\n|---|---|---|---|---|---|---|\n| George Washington     |  85 | NA | NA | NA | NA | NA |\n| John Adams            |  90 | NA | NA | NA | NA | NA |\n| Thomas Jefferson      |  81 | NA | NA | NA | NA | NA |\n| James Madison         |  92 | NA | NA | NA | NA | NA |\n| James Monroe          |  71 | NA | NA | NA | NA | NA |\n| Andrew Jackson        |  86 | NA | NA | NA | NA | NA |\n| James K. Polk         |  70 | NA | NA | NA | NA | NA |\n| Zachary Taylor        |  88 | NA | NA | NA | NA | NA |\n| Millard Fillmore      | 100 | NA | NA | NA | NA | NA |\n| Franklin Pierce       |  99 | NA | NA | NA | NA | NA |\n| James Buchanan        |  97 | NA | NA | NA | NA | NA |\n| Abraham Lincoln       |  91 | NA | NA | NA | NA | NA |\n| Andrew Johnson        |  83 | NA | NA | NA | NA | NA |\n| Ulysses S. Grant      |  85 | NA | NA | NA | NA | NA |\n| Rutherford B. Hayes   |  78 | NA | NA | NA | NA | NA |\n| James Garfield        |  99 | NA | NA | NA | NA | NA |\n| Chester A. Arthur     |  82 | NA | NA | NA | NA | NA |\n| Grover Cleveland      |  78 | NA | NA | NA | NA | NA |\n| Benjamin Harrison     |  84 | NA | NA | NA | NA | NA |\n| Grover Cleveland      |  73 | NA | NA | NA | NA | NA |\n| William McKinley      |  66 | NA | NA | NA | NA | NA |\n| Theodore Roosevelt    |  92 | NA | NA | NA | NA | NA |\n| William Howard Taft   |  89 | NA | NA | NA | NA | NA |\n| Woodrow Wilson        |  90 | NA | NA | NA | NA | NA |\n| Warren G. Harding     |  79 | NA | NA | NA | NA | NA |\n| Calvin Coolidge       |  81 | NA | NA | NA | NA | NA |\n| Herbert Hoover        |  84 | NA | NA | NA | NA | NA |\n| Franklin D. Roosevelt |  89 | NA | NA | NA | NA | NA |\n\n",
            "text/html": [
              "<table>\n",
              "<caption>A spec_tbl_df: 28 × 7</caption>\n",
              "<thead>\n",
              "\t<tr><th scope=col>name</th><th scope=col>Grade</th><th scope=col>X3</th><th scope=col>X4</th><th scope=col>X5</th><th scope=col>X6</th><th scope=col>X7</th></tr>\n",
              "\t<tr><th scope=col>&lt;chr&gt;</th><th scope=col>&lt;dbl&gt;</th><th scope=col>&lt;lgl&gt;</th><th scope=col>&lt;lgl&gt;</th><th scope=col>&lt;lgl&gt;</th><th scope=col>&lt;lgl&gt;</th><th scope=col>&lt;lgl&gt;</th></tr>\n",
              "</thead>\n",
              "<tbody>\n",
              "\t<tr><td>George Washington    </td><td> 85</td><td>NA</td><td>NA</td><td>NA</td><td>NA</td><td>NA</td></tr>\n",
              "\t<tr><td>John Adams           </td><td> 90</td><td>NA</td><td>NA</td><td>NA</td><td>NA</td><td>NA</td></tr>\n",
              "\t<tr><td>Thomas Jefferson     </td><td> 81</td><td>NA</td><td>NA</td><td>NA</td><td>NA</td><td>NA</td></tr>\n",
              "\t<tr><td>James Madison        </td><td> 92</td><td>NA</td><td>NA</td><td>NA</td><td>NA</td><td>NA</td></tr>\n",
              "\t<tr><td>James Monroe         </td><td> 71</td><td>NA</td><td>NA</td><td>NA</td><td>NA</td><td>NA</td></tr>\n",
              "\t<tr><td>Andrew Jackson       </td><td> 86</td><td>NA</td><td>NA</td><td>NA</td><td>NA</td><td>NA</td></tr>\n",
              "\t<tr><td>James K. Polk        </td><td> 70</td><td>NA</td><td>NA</td><td>NA</td><td>NA</td><td>NA</td></tr>\n",
              "\t<tr><td>Zachary Taylor       </td><td> 88</td><td>NA</td><td>NA</td><td>NA</td><td>NA</td><td>NA</td></tr>\n",
              "\t<tr><td>Millard Fillmore     </td><td>100</td><td>NA</td><td>NA</td><td>NA</td><td>NA</td><td>NA</td></tr>\n",
              "\t<tr><td>Franklin Pierce      </td><td> 99</td><td>NA</td><td>NA</td><td>NA</td><td>NA</td><td>NA</td></tr>\n",
              "\t<tr><td>James Buchanan       </td><td> 97</td><td>NA</td><td>NA</td><td>NA</td><td>NA</td><td>NA</td></tr>\n",
              "\t<tr><td>Abraham Lincoln      </td><td> 91</td><td>NA</td><td>NA</td><td>NA</td><td>NA</td><td>NA</td></tr>\n",
              "\t<tr><td>Andrew Johnson       </td><td> 83</td><td>NA</td><td>NA</td><td>NA</td><td>NA</td><td>NA</td></tr>\n",
              "\t<tr><td>Ulysses S. Grant     </td><td> 85</td><td>NA</td><td>NA</td><td>NA</td><td>NA</td><td>NA</td></tr>\n",
              "\t<tr><td>Rutherford B. Hayes  </td><td> 78</td><td>NA</td><td>NA</td><td>NA</td><td>NA</td><td>NA</td></tr>\n",
              "\t<tr><td>James Garfield       </td><td> 99</td><td>NA</td><td>NA</td><td>NA</td><td>NA</td><td>NA</td></tr>\n",
              "\t<tr><td>Chester A. Arthur    </td><td> 82</td><td>NA</td><td>NA</td><td>NA</td><td>NA</td><td>NA</td></tr>\n",
              "\t<tr><td>Grover Cleveland     </td><td> 78</td><td>NA</td><td>NA</td><td>NA</td><td>NA</td><td>NA</td></tr>\n",
              "\t<tr><td>Benjamin Harrison    </td><td> 84</td><td>NA</td><td>NA</td><td>NA</td><td>NA</td><td>NA</td></tr>\n",
              "\t<tr><td>Grover Cleveland     </td><td> 73</td><td>NA</td><td>NA</td><td>NA</td><td>NA</td><td>NA</td></tr>\n",
              "\t<tr><td>William McKinley     </td><td> 66</td><td>NA</td><td>NA</td><td>NA</td><td>NA</td><td>NA</td></tr>\n",
              "\t<tr><td>Theodore Roosevelt   </td><td> 92</td><td>NA</td><td>NA</td><td>NA</td><td>NA</td><td>NA</td></tr>\n",
              "\t<tr><td>William Howard Taft  </td><td> 89</td><td>NA</td><td>NA</td><td>NA</td><td>NA</td><td>NA</td></tr>\n",
              "\t<tr><td>Woodrow Wilson       </td><td> 90</td><td>NA</td><td>NA</td><td>NA</td><td>NA</td><td>NA</td></tr>\n",
              "\t<tr><td>Warren G. Harding    </td><td> 79</td><td>NA</td><td>NA</td><td>NA</td><td>NA</td><td>NA</td></tr>\n",
              "\t<tr><td>Calvin Coolidge      </td><td> 81</td><td>NA</td><td>NA</td><td>NA</td><td>NA</td><td>NA</td></tr>\n",
              "\t<tr><td>Herbert Hoover       </td><td> 84</td><td>NA</td><td>NA</td><td>NA</td><td>NA</td><td>NA</td></tr>\n",
              "\t<tr><td>Franklin D. Roosevelt</td><td> 89</td><td>NA</td><td>NA</td><td>NA</td><td>NA</td><td>NA</td></tr>\n",
              "</tbody>\n",
              "</table>\n"
            ]
          },
          "metadata": {
            "tags": []
          }
        }
      ]
    },
    {
      "cell_type": "markdown",
      "metadata": {
        "id": "Jkf1Jsity7ty"
      },
      "source": [
        "### Pick a colum with $ or index"
      ]
    },
    {
      "cell_type": "code",
      "metadata": {
        "id": "oVdRdP7Vy5VJ",
        "outputId": "1c741c5f-a5a0-4a06-e84e-c65f2c8fa97b",
        "colab": {
          "base_uri": "https://localhost:8080/",
          "height": 34
        }
      },
      "source": [
        "tb$Grade"
      ],
      "execution_count": 301,
      "outputs": [
        {
          "output_type": "display_data",
          "data": {
            "text/plain": [
              " [1]  85  90  81  92  71  86  70  88 100  99  97  91  83  85  78  99  82  78  84\n",
              "[20]  73  66  92  89  90  79  81  84  89"
            ],
            "text/latex": "\\begin{enumerate*}\n\\item 85\n\\item 90\n\\item 81\n\\item 92\n\\item 71\n\\item 86\n\\item 70\n\\item 88\n\\item 100\n\\item 99\n\\item 97\n\\item 91\n\\item 83\n\\item 85\n\\item 78\n\\item 99\n\\item 82\n\\item 78\n\\item 84\n\\item 73\n\\item 66\n\\item 92\n\\item 89\n\\item 90\n\\item 79\n\\item 81\n\\item 84\n\\item 89\n\\end{enumerate*}\n",
            "text/markdown": "1. 85\n2. 90\n3. 81\n4. 92\n5. 71\n6. 86\n7. 70\n8. 88\n9. 100\n10. 99\n11. 97\n12. 91\n13. 83\n14. 85\n15. 78\n16. 99\n17. 82\n18. 78\n19. 84\n20. 73\n21. 66\n22. 92\n23. 89\n24. 90\n25. 79\n26. 81\n27. 84\n28. 89\n\n\n",
            "text/html": [
              "<style>\n",
              ".list-inline {list-style: none; margin:0; padding: 0}\n",
              ".list-inline>li {display: inline-block}\n",
              ".list-inline>li:not(:last-child)::after {content: \"\\00b7\"; padding: 0 .5ex}\n",
              "</style>\n",
              "<ol class=list-inline><li>85</li><li>90</li><li>81</li><li>92</li><li>71</li><li>86</li><li>70</li><li>88</li><li>100</li><li>99</li><li>97</li><li>91</li><li>83</li><li>85</li><li>78</li><li>99</li><li>82</li><li>78</li><li>84</li><li>73</li><li>66</li><li>92</li><li>89</li><li>90</li><li>79</li><li>81</li><li>84</li><li>89</li></ol>\n"
            ]
          },
          "metadata": {
            "tags": []
          }
        }
      ]
    },
    {
      "cell_type": "code",
      "metadata": {
        "id": "zRkrTnWQy5Zp",
        "outputId": "5a2d554a-95e3-4e7d-954b-047593731ada",
        "colab": {
          "base_uri": "https://localhost:8080/",
          "height": 700
        }
      },
      "source": [
        "tb[, 2]"
      ],
      "execution_count": 302,
      "outputs": [
        {
          "output_type": "display_data",
          "data": {
            "text/plain": [
              "   Grade\n",
              "1   85  \n",
              "2   90  \n",
              "3   81  \n",
              "4   92  \n",
              "5   71  \n",
              "6   86  \n",
              "7   70  \n",
              "8   88  \n",
              "9  100  \n",
              "10  99  \n",
              "11  97  \n",
              "12  91  \n",
              "13  83  \n",
              "14  85  \n",
              "15  78  \n",
              "16  99  \n",
              "17  82  \n",
              "18  78  \n",
              "19  84  \n",
              "20  73  \n",
              "21  66  \n",
              "22  92  \n",
              "23  89  \n",
              "24  90  \n",
              "25  79  \n",
              "26  81  \n",
              "27  84  \n",
              "28  89  "
            ],
            "text/latex": "A tibble: 28 × 1\n\\begin{tabular}{l}\n Grade\\\\\n <dbl>\\\\\n\\hline\n\t  85\\\\\n\t  90\\\\\n\t  81\\\\\n\t  92\\\\\n\t  71\\\\\n\t  86\\\\\n\t  70\\\\\n\t  88\\\\\n\t 100\\\\\n\t  99\\\\\n\t  97\\\\\n\t  91\\\\\n\t  83\\\\\n\t  85\\\\\n\t  78\\\\\n\t  99\\\\\n\t  82\\\\\n\t  78\\\\\n\t  84\\\\\n\t  73\\\\\n\t  66\\\\\n\t  92\\\\\n\t  89\\\\\n\t  90\\\\\n\t  79\\\\\n\t  81\\\\\n\t  84\\\\\n\t  89\\\\\n\\end{tabular}\n",
            "text/markdown": "\nA tibble: 28 × 1\n\n| Grade &lt;dbl&gt; |\n|---|\n|  85 |\n|  90 |\n|  81 |\n|  92 |\n|  71 |\n|  86 |\n|  70 |\n|  88 |\n| 100 |\n|  99 |\n|  97 |\n|  91 |\n|  83 |\n|  85 |\n|  78 |\n|  99 |\n|  82 |\n|  78 |\n|  84 |\n|  73 |\n|  66 |\n|  92 |\n|  89 |\n|  90 |\n|  79 |\n|  81 |\n|  84 |\n|  89 |\n\n",
            "text/html": [
              "<table>\n",
              "<caption>A tibble: 28 × 1</caption>\n",
              "<thead>\n",
              "\t<tr><th scope=col>Grade</th></tr>\n",
              "\t<tr><th scope=col>&lt;dbl&gt;</th></tr>\n",
              "</thead>\n",
              "<tbody>\n",
              "\t<tr><td> 85</td></tr>\n",
              "\t<tr><td> 90</td></tr>\n",
              "\t<tr><td> 81</td></tr>\n",
              "\t<tr><td> 92</td></tr>\n",
              "\t<tr><td> 71</td></tr>\n",
              "\t<tr><td> 86</td></tr>\n",
              "\t<tr><td> 70</td></tr>\n",
              "\t<tr><td> 88</td></tr>\n",
              "\t<tr><td>100</td></tr>\n",
              "\t<tr><td> 99</td></tr>\n",
              "\t<tr><td> 97</td></tr>\n",
              "\t<tr><td> 91</td></tr>\n",
              "\t<tr><td> 83</td></tr>\n",
              "\t<tr><td> 85</td></tr>\n",
              "\t<tr><td> 78</td></tr>\n",
              "\t<tr><td> 99</td></tr>\n",
              "\t<tr><td> 82</td></tr>\n",
              "\t<tr><td> 78</td></tr>\n",
              "\t<tr><td> 84</td></tr>\n",
              "\t<tr><td> 73</td></tr>\n",
              "\t<tr><td> 66</td></tr>\n",
              "\t<tr><td> 92</td></tr>\n",
              "\t<tr><td> 89</td></tr>\n",
              "\t<tr><td> 90</td></tr>\n",
              "\t<tr><td> 79</td></tr>\n",
              "\t<tr><td> 81</td></tr>\n",
              "\t<tr><td> 84</td></tr>\n",
              "\t<tr><td> 89</td></tr>\n",
              "</tbody>\n",
              "</table>\n"
            ]
          },
          "metadata": {
            "tags": []
          }
        }
      ]
    },
    {
      "cell_type": "markdown",
      "metadata": {
        "id": "wpDfYywizInw"
      },
      "source": [
        "### Pick a row "
      ]
    },
    {
      "cell_type": "code",
      "metadata": {
        "id": "0XHaX0nrzLKb",
        "outputId": "cc882e55-cb0d-4aa4-8764-29c2add9c3fa",
        "colab": {
          "base_uri": "https://localhost:8080/",
          "height": 99
        }
      },
      "source": [
        "tb[1,]"
      ],
      "execution_count": 303,
      "outputs": [
        {
          "output_type": "display_data",
          "data": {
            "text/plain": [
              "  name              Grade X3 X4 X5 X6 X7\n",
              "1 George Washington 85    NA NA NA NA NA"
            ],
            "text/latex": "A tibble: 1 × 7\n\\begin{tabular}{lllllll}\n name & Grade & X3 & X4 & X5 & X6 & X7\\\\\n <chr> & <dbl> & <lgl> & <lgl> & <lgl> & <lgl> & <lgl>\\\\\n\\hline\n\t George Washington & 85 & NA & NA & NA & NA & NA\\\\\n\\end{tabular}\n",
            "text/markdown": "\nA tibble: 1 × 7\n\n| name &lt;chr&gt; | Grade &lt;dbl&gt; | X3 &lt;lgl&gt; | X4 &lt;lgl&gt; | X5 &lt;lgl&gt; | X6 &lt;lgl&gt; | X7 &lt;lgl&gt; |\n|---|---|---|---|---|---|---|\n| George Washington | 85 | NA | NA | NA | NA | NA |\n\n",
            "text/html": [
              "<table>\n",
              "<caption>A tibble: 1 × 7</caption>\n",
              "<thead>\n",
              "\t<tr><th scope=col>name</th><th scope=col>Grade</th><th scope=col>X3</th><th scope=col>X4</th><th scope=col>X5</th><th scope=col>X6</th><th scope=col>X7</th></tr>\n",
              "\t<tr><th scope=col>&lt;chr&gt;</th><th scope=col>&lt;dbl&gt;</th><th scope=col>&lt;lgl&gt;</th><th scope=col>&lt;lgl&gt;</th><th scope=col>&lt;lgl&gt;</th><th scope=col>&lt;lgl&gt;</th><th scope=col>&lt;lgl&gt;</th></tr>\n",
              "</thead>\n",
              "<tbody>\n",
              "\t<tr><td>George Washington</td><td>85</td><td>NA</td><td>NA</td><td>NA</td><td>NA</td><td>NA</td></tr>\n",
              "</tbody>\n",
              "</table>\n"
            ]
          },
          "metadata": {
            "tags": []
          }
        }
      ]
    },
    {
      "cell_type": "code",
      "metadata": {
        "id": "Gqpayf_UzPnd",
        "outputId": "bf298c90-2c3c-42f2-8be9-ede4d8867516",
        "colab": {
          "base_uri": "https://localhost:8080/",
          "height": 267
        }
      },
      "source": [
        "tb %>% dplyr::select( name, Grade )  %>% filter (Grade >= 90)"
      ],
      "execution_count": 304,
      "outputs": [
        {
          "output_type": "display_data",
          "data": {
            "text/plain": [
              "  name               Grade\n",
              "1 John Adams          90  \n",
              "2 James Madison       92  \n",
              "3 Millard Fillmore   100  \n",
              "4 Franklin Pierce     99  \n",
              "5 James Buchanan      97  \n",
              "6 Abraham Lincoln     91  \n",
              "7 James Garfield      99  \n",
              "8 Theodore Roosevelt  92  \n",
              "9 Woodrow Wilson      90  "
            ],
            "text/latex": "A tibble: 9 × 2\n\\begin{tabular}{ll}\n name & Grade\\\\\n <chr> & <dbl>\\\\\n\\hline\n\t John Adams         &  90\\\\\n\t James Madison      &  92\\\\\n\t Millard Fillmore   & 100\\\\\n\t Franklin Pierce    &  99\\\\\n\t James Buchanan     &  97\\\\\n\t Abraham Lincoln    &  91\\\\\n\t James Garfield     &  99\\\\\n\t Theodore Roosevelt &  92\\\\\n\t Woodrow Wilson     &  90\\\\\n\\end{tabular}\n",
            "text/markdown": "\nA tibble: 9 × 2\n\n| name &lt;chr&gt; | Grade &lt;dbl&gt; |\n|---|---|\n| John Adams         |  90 |\n| James Madison      |  92 |\n| Millard Fillmore   | 100 |\n| Franklin Pierce    |  99 |\n| James Buchanan     |  97 |\n| Abraham Lincoln    |  91 |\n| James Garfield     |  99 |\n| Theodore Roosevelt |  92 |\n| Woodrow Wilson     |  90 |\n\n",
            "text/html": [
              "<table>\n",
              "<caption>A tibble: 9 × 2</caption>\n",
              "<thead>\n",
              "\t<tr><th scope=col>name</th><th scope=col>Grade</th></tr>\n",
              "\t<tr><th scope=col>&lt;chr&gt;</th><th scope=col>&lt;dbl&gt;</th></tr>\n",
              "</thead>\n",
              "<tbody>\n",
              "\t<tr><td>John Adams        </td><td> 90</td></tr>\n",
              "\t<tr><td>James Madison     </td><td> 92</td></tr>\n",
              "\t<tr><td>Millard Fillmore  </td><td>100</td></tr>\n",
              "\t<tr><td>Franklin Pierce   </td><td> 99</td></tr>\n",
              "\t<tr><td>James Buchanan    </td><td> 97</td></tr>\n",
              "\t<tr><td>Abraham Lincoln   </td><td> 91</td></tr>\n",
              "\t<tr><td>James Garfield    </td><td> 99</td></tr>\n",
              "\t<tr><td>Theodore Roosevelt</td><td> 92</td></tr>\n",
              "\t<tr><td>Woodrow Wilson    </td><td> 90</td></tr>\n",
              "</tbody>\n",
              "</table>\n"
            ]
          },
          "metadata": {
            "tags": []
          }
        }
      ]
    },
    {
      "cell_type": "code",
      "metadata": {
        "id": "BkAypx5pzeVl",
        "outputId": "9c0b1d29-2cf8-4102-91d8-af17bc2248d4",
        "colab": {
          "base_uri": "https://localhost:8080/",
          "height": 330
        }
      },
      "source": [
        "tb %>% dplyr::select( 1:2) %>% filter (Grade > 80 & Grade < 90)"
      ],
      "execution_count": 305,
      "outputs": [
        {
          "output_type": "display_data",
          "data": {
            "text/plain": [
              "   name                  Grade\n",
              "1  George Washington     85   \n",
              "2  Thomas Jefferson      81   \n",
              "3  Andrew Jackson        86   \n",
              "4  Zachary Taylor        88   \n",
              "5  Andrew Johnson        83   \n",
              "6  Ulysses S. Grant      85   \n",
              "7  Chester A. Arthur     82   \n",
              "8  Benjamin Harrison     84   \n",
              "9  William Howard Taft   89   \n",
              "10 Calvin Coolidge       81   \n",
              "11 Herbert Hoover        84   \n",
              "12 Franklin D. Roosevelt 89   "
            ],
            "text/latex": "A tibble: 12 × 2\n\\begin{tabular}{ll}\n name & Grade\\\\\n <chr> & <dbl>\\\\\n\\hline\n\t George Washington     & 85\\\\\n\t Thomas Jefferson      & 81\\\\\n\t Andrew Jackson        & 86\\\\\n\t Zachary Taylor        & 88\\\\\n\t Andrew Johnson        & 83\\\\\n\t Ulysses S. Grant      & 85\\\\\n\t Chester A. Arthur     & 82\\\\\n\t Benjamin Harrison     & 84\\\\\n\t William Howard Taft   & 89\\\\\n\t Calvin Coolidge       & 81\\\\\n\t Herbert Hoover        & 84\\\\\n\t Franklin D. Roosevelt & 89\\\\\n\\end{tabular}\n",
            "text/markdown": "\nA tibble: 12 × 2\n\n| name &lt;chr&gt; | Grade &lt;dbl&gt; |\n|---|---|\n| George Washington     | 85 |\n| Thomas Jefferson      | 81 |\n| Andrew Jackson        | 86 |\n| Zachary Taylor        | 88 |\n| Andrew Johnson        | 83 |\n| Ulysses S. Grant      | 85 |\n| Chester A. Arthur     | 82 |\n| Benjamin Harrison     | 84 |\n| William Howard Taft   | 89 |\n| Calvin Coolidge       | 81 |\n| Herbert Hoover        | 84 |\n| Franklin D. Roosevelt | 89 |\n\n",
            "text/html": [
              "<table>\n",
              "<caption>A tibble: 12 × 2</caption>\n",
              "<thead>\n",
              "\t<tr><th scope=col>name</th><th scope=col>Grade</th></tr>\n",
              "\t<tr><th scope=col>&lt;chr&gt;</th><th scope=col>&lt;dbl&gt;</th></tr>\n",
              "</thead>\n",
              "<tbody>\n",
              "\t<tr><td>George Washington    </td><td>85</td></tr>\n",
              "\t<tr><td>Thomas Jefferson     </td><td>81</td></tr>\n",
              "\t<tr><td>Andrew Jackson       </td><td>86</td></tr>\n",
              "\t<tr><td>Zachary Taylor       </td><td>88</td></tr>\n",
              "\t<tr><td>Andrew Johnson       </td><td>83</td></tr>\n",
              "\t<tr><td>Ulysses S. Grant     </td><td>85</td></tr>\n",
              "\t<tr><td>Chester A. Arthur    </td><td>82</td></tr>\n",
              "\t<tr><td>Benjamin Harrison    </td><td>84</td></tr>\n",
              "\t<tr><td>William Howard Taft  </td><td>89</td></tr>\n",
              "\t<tr><td>Calvin Coolidge      </td><td>81</td></tr>\n",
              "\t<tr><td>Herbert Hoover       </td><td>84</td></tr>\n",
              "\t<tr><td>Franklin D. Roosevelt</td><td>89</td></tr>\n",
              "</tbody>\n",
              "</table>\n"
            ]
          },
          "metadata": {
            "tags": []
          }
        }
      ]
    },
    {
      "cell_type": "markdown",
      "metadata": {
        "id": "Pa7qbIOPSixa"
      },
      "source": [
        "## Looking for helps"
      ]
    },
    {
      "cell_type": "code",
      "metadata": {
        "id": "A4kFR72uSk_k"
      },
      "source": [
        "?date"
      ],
      "execution_count": 306,
      "outputs": []
    },
    {
      "cell_type": "code",
      "metadata": {
        "id": "SWeEirLgyfH_"
      },
      "source": [
        ""
      ],
      "execution_count": 307,
      "outputs": []
    },
    {
      "cell_type": "code",
      "metadata": {
        "id": "cCT-pkhwW4T2"
      },
      "source": [
        "help(read_csv)"
      ],
      "execution_count": 308,
      "outputs": []
    },
    {
      "cell_type": "markdown",
      "metadata": {
        "id": "KesAyTiuswzD"
      },
      "source": [
        "# Part 1, Explore the USA county-level data\n",
        "\n",
        "\n",
        "We will go through basic R by exploring the Covid19 data set curated by the Johns Hopkins University. \n",
        "\n",
        "\n"
      ]
    },
    {
      "cell_type": "code",
      "metadata": {
        "id": "Z3dMeqrIUolu",
        "outputId": "4a96ed08-2498-4f81-a38b-5ca12ce90479",
        "colab": {
          "base_uri": "https://localhost:8080/",
          "height": 68
        }
      },
      "source": [
        "install.packages('reshape2')\n",
        "library(tidyverse)\n",
        "library(lubridate)\n",
        "library(reshape2)\n",
        "library(ggplot2)\n",
        "library(dplyr)"
      ],
      "execution_count": 309,
      "outputs": [
        {
          "output_type": "stream",
          "text": [
            "Installing package into ‘/usr/local/lib/R/site-library’\n",
            "(as ‘lib’ is unspecified)\n",
            "\n"
          ],
          "name": "stderr"
        }
      ]
    },
    {
      "cell_type": "markdown",
      "metadata": {
        "id": "6nUw5dNwOSq5"
      },
      "source": [
        "## Load data into DataFrames"
      ]
    },
    {
      "cell_type": "code",
      "metadata": {
        "id": "d6lG1JiMmYqN",
        "outputId": "e110fafe-37cd-4da2-efdd-32c4c08dc2c1",
        "colab": {
          "base_uri": "https://localhost:8080/",
          "height": 442
        }
      },
      "source": [
        "# load JHU covid19 data set with tidyverse read_csv\n",
        "# this is the URL for \"view raw \" for csv files on GitHub\n",
        "tb = read_csv(url(\"https://raw.githubusercontent.com/CSSEGISandData/COVID-19/master/csse_covid_19_data/csse_covid_19_time_series/time_series_covid19_confirmed_US.csv\"))\n",
        "#str(tb.jhu) #this is a tibble\n",
        "head(tb)"
      ],
      "execution_count": 310,
      "outputs": [
        {
          "output_type": "stream",
          "text": [
            "\n",
            "\u001b[36m──\u001b[39m \u001b[1m\u001b[1mColumn specification\u001b[1m\u001b[22m \u001b[36m────────────────────────────────────────────────────────\u001b[39m\n",
            "cols(\n",
            "  .default = col_double(),\n",
            "  iso2 = \u001b[31mcol_character()\u001b[39m,\n",
            "  iso3 = \u001b[31mcol_character()\u001b[39m,\n",
            "  Admin2 = \u001b[31mcol_character()\u001b[39m,\n",
            "  Province_State = \u001b[31mcol_character()\u001b[39m,\n",
            "  Country_Region = \u001b[31mcol_character()\u001b[39m,\n",
            "  Combined_Key = \u001b[31mcol_character()\u001b[39m\n",
            ")\n",
            "\u001b[36mℹ\u001b[39m Use \u001b[30m\u001b[47m\u001b[30m\u001b[47m`spec()`\u001b[47m\u001b[30m\u001b[49m\u001b[39m for the full column specifications.\n",
            "\n",
            "\n"
          ],
          "name": "stderr"
        },
        {
          "output_type": "display_data",
          "data": {
            "text/plain": [
              "  UID      iso2 iso3 code3 FIPS Admin2  Province_State Country_Region Lat     \n",
              "1 84001001 US   USA  840   1001 Autauga Alabama        US             32.53953\n",
              "2 84001003 US   USA  840   1003 Baldwin Alabama        US             30.72775\n",
              "3 84001005 US   USA  840   1005 Barbour Alabama        US             31.86826\n",
              "4 84001007 US   USA  840   1007 Bibb    Alabama        US             32.99642\n",
              "5 84001009 US   USA  840   1009 Blount  Alabama        US             33.98211\n",
              "6 84001011 US   USA  840   1011 Bullock Alabama        US             32.10031\n",
              "  Long_     ⋯ 10/6/20 10/7/20 10/8/20 10/9/20 10/10/20 10/11/20 10/12/20\n",
              "1 -86.64408 ⋯ 1839    1852    1863    1882    1898     1905     1911    \n",
              "2 -87.72207 ⋯ 6116    6134    6141    6172    6190     6203     6220    \n",
              "3 -85.38713 ⋯  923     927     927     939     942      942      944    \n",
              "4 -87.12511 ⋯  691     703     708     719     726      736      738    \n",
              "5 -86.56791 ⋯ 1665    1673    1681    1689    1704     1713     1722    \n",
              "6 -85.71266 ⋯  616     618     619     622     623      624      625    \n",
              "  10/13/20 10/14/20 10/15/20\n",
              "1 1924     1928     1949    \n",
              "2 6248     6270     6285    \n",
              "3  951      950      965    \n",
              "4  744      744      761    \n",
              "5 1742     1750     1768    \n",
              "6  626      628      628    "
            ],
            "text/latex": "A tibble: 6 × 279\n\\begin{tabular}{lllllllllllllllllllll}\n UID & iso2 & iso3 & code3 & FIPS & Admin2 & Province\\_State & Country\\_Region & Lat & Long\\_ & ⋯ & 10/6/20 & 10/7/20 & 10/8/20 & 10/9/20 & 10/10/20 & 10/11/20 & 10/12/20 & 10/13/20 & 10/14/20 & 10/15/20\\\\\n <dbl> & <chr> & <chr> & <dbl> & <dbl> & <chr> & <chr> & <chr> & <dbl> & <dbl> & ⋯ & <dbl> & <dbl> & <dbl> & <dbl> & <dbl> & <dbl> & <dbl> & <dbl> & <dbl> & <dbl>\\\\\n\\hline\n\t 84001001 & US & USA & 840 & 1001 & Autauga & Alabama & US & 32.53953 & -86.64408 & ⋯ & 1839 & 1852 & 1863 & 1882 & 1898 & 1905 & 1911 & 1924 & 1928 & 1949\\\\\n\t 84001003 & US & USA & 840 & 1003 & Baldwin & Alabama & US & 30.72775 & -87.72207 & ⋯ & 6116 & 6134 & 6141 & 6172 & 6190 & 6203 & 6220 & 6248 & 6270 & 6285\\\\\n\t 84001005 & US & USA & 840 & 1005 & Barbour & Alabama & US & 31.86826 & -85.38713 & ⋯ &  923 &  927 &  927 &  939 &  942 &  942 &  944 &  951 &  950 &  965\\\\\n\t 84001007 & US & USA & 840 & 1007 & Bibb    & Alabama & US & 32.99642 & -87.12511 & ⋯ &  691 &  703 &  708 &  719 &  726 &  736 &  738 &  744 &  744 &  761\\\\\n\t 84001009 & US & USA & 840 & 1009 & Blount  & Alabama & US & 33.98211 & -86.56791 & ⋯ & 1665 & 1673 & 1681 & 1689 & 1704 & 1713 & 1722 & 1742 & 1750 & 1768\\\\\n\t 84001011 & US & USA & 840 & 1011 & Bullock & Alabama & US & 32.10031 & -85.71266 & ⋯ &  616 &  618 &  619 &  622 &  623 &  624 &  625 &  626 &  628 &  628\\\\\n\\end{tabular}\n",
            "text/markdown": "\nA tibble: 6 × 279\n\n| UID &lt;dbl&gt; | iso2 &lt;chr&gt; | iso3 &lt;chr&gt; | code3 &lt;dbl&gt; | FIPS &lt;dbl&gt; | Admin2 &lt;chr&gt; | Province_State &lt;chr&gt; | Country_Region &lt;chr&gt; | Lat &lt;dbl&gt; | Long_ &lt;dbl&gt; | ⋯ ⋯ | 10/6/20 &lt;dbl&gt; | 10/7/20 &lt;dbl&gt; | 10/8/20 &lt;dbl&gt; | 10/9/20 &lt;dbl&gt; | 10/10/20 &lt;dbl&gt; | 10/11/20 &lt;dbl&gt; | 10/12/20 &lt;dbl&gt; | 10/13/20 &lt;dbl&gt; | 10/14/20 &lt;dbl&gt; | 10/15/20 &lt;dbl&gt; |\n|---|---|---|---|---|---|---|---|---|---|---|---|---|---|---|---|---|---|---|---|---|\n| 84001001 | US | USA | 840 | 1001 | Autauga | Alabama | US | 32.53953 | -86.64408 | ⋯ | 1839 | 1852 | 1863 | 1882 | 1898 | 1905 | 1911 | 1924 | 1928 | 1949 |\n| 84001003 | US | USA | 840 | 1003 | Baldwin | Alabama | US | 30.72775 | -87.72207 | ⋯ | 6116 | 6134 | 6141 | 6172 | 6190 | 6203 | 6220 | 6248 | 6270 | 6285 |\n| 84001005 | US | USA | 840 | 1005 | Barbour | Alabama | US | 31.86826 | -85.38713 | ⋯ |  923 |  927 |  927 |  939 |  942 |  942 |  944 |  951 |  950 |  965 |\n| 84001007 | US | USA | 840 | 1007 | Bibb    | Alabama | US | 32.99642 | -87.12511 | ⋯ |  691 |  703 |  708 |  719 |  726 |  736 |  738 |  744 |  744 |  761 |\n| 84001009 | US | USA | 840 | 1009 | Blount  | Alabama | US | 33.98211 | -86.56791 | ⋯ | 1665 | 1673 | 1681 | 1689 | 1704 | 1713 | 1722 | 1742 | 1750 | 1768 |\n| 84001011 | US | USA | 840 | 1011 | Bullock | Alabama | US | 32.10031 | -85.71266 | ⋯ |  616 |  618 |  619 |  622 |  623 |  624 |  625 |  626 |  628 |  628 |\n\n",
            "text/html": [
              "<table>\n",
              "<caption>A tibble: 6 × 279</caption>\n",
              "<thead>\n",
              "\t<tr><th scope=col>UID</th><th scope=col>iso2</th><th scope=col>iso3</th><th scope=col>code3</th><th scope=col>FIPS</th><th scope=col>Admin2</th><th scope=col>Province_State</th><th scope=col>Country_Region</th><th scope=col>Lat</th><th scope=col>Long_</th><th scope=col>⋯</th><th scope=col>10/6/20</th><th scope=col>10/7/20</th><th scope=col>10/8/20</th><th scope=col>10/9/20</th><th scope=col>10/10/20</th><th scope=col>10/11/20</th><th scope=col>10/12/20</th><th scope=col>10/13/20</th><th scope=col>10/14/20</th><th scope=col>10/15/20</th></tr>\n",
              "\t<tr><th scope=col>&lt;dbl&gt;</th><th scope=col>&lt;chr&gt;</th><th scope=col>&lt;chr&gt;</th><th scope=col>&lt;dbl&gt;</th><th scope=col>&lt;dbl&gt;</th><th scope=col>&lt;chr&gt;</th><th scope=col>&lt;chr&gt;</th><th scope=col>&lt;chr&gt;</th><th scope=col>&lt;dbl&gt;</th><th scope=col>&lt;dbl&gt;</th><th scope=col>⋯</th><th scope=col>&lt;dbl&gt;</th><th scope=col>&lt;dbl&gt;</th><th scope=col>&lt;dbl&gt;</th><th scope=col>&lt;dbl&gt;</th><th scope=col>&lt;dbl&gt;</th><th scope=col>&lt;dbl&gt;</th><th scope=col>&lt;dbl&gt;</th><th scope=col>&lt;dbl&gt;</th><th scope=col>&lt;dbl&gt;</th><th scope=col>&lt;dbl&gt;</th></tr>\n",
              "</thead>\n",
              "<tbody>\n",
              "\t<tr><td>84001001</td><td>US</td><td>USA</td><td>840</td><td>1001</td><td>Autauga</td><td>Alabama</td><td>US</td><td>32.53953</td><td>-86.64408</td><td>⋯</td><td>1839</td><td>1852</td><td>1863</td><td>1882</td><td>1898</td><td>1905</td><td>1911</td><td>1924</td><td>1928</td><td>1949</td></tr>\n",
              "\t<tr><td>84001003</td><td>US</td><td>USA</td><td>840</td><td>1003</td><td>Baldwin</td><td>Alabama</td><td>US</td><td>30.72775</td><td>-87.72207</td><td>⋯</td><td>6116</td><td>6134</td><td>6141</td><td>6172</td><td>6190</td><td>6203</td><td>6220</td><td>6248</td><td>6270</td><td>6285</td></tr>\n",
              "\t<tr><td>84001005</td><td>US</td><td>USA</td><td>840</td><td>1005</td><td>Barbour</td><td>Alabama</td><td>US</td><td>31.86826</td><td>-85.38713</td><td>⋯</td><td> 923</td><td> 927</td><td> 927</td><td> 939</td><td> 942</td><td> 942</td><td> 944</td><td> 951</td><td> 950</td><td> 965</td></tr>\n",
              "\t<tr><td>84001007</td><td>US</td><td>USA</td><td>840</td><td>1007</td><td>Bibb   </td><td>Alabama</td><td>US</td><td>32.99642</td><td>-87.12511</td><td>⋯</td><td> 691</td><td> 703</td><td> 708</td><td> 719</td><td> 726</td><td> 736</td><td> 738</td><td> 744</td><td> 744</td><td> 761</td></tr>\n",
              "\t<tr><td>84001009</td><td>US</td><td>USA</td><td>840</td><td>1009</td><td>Blount </td><td>Alabama</td><td>US</td><td>33.98211</td><td>-86.56791</td><td>⋯</td><td>1665</td><td>1673</td><td>1681</td><td>1689</td><td>1704</td><td>1713</td><td>1722</td><td>1742</td><td>1750</td><td>1768</td></tr>\n",
              "\t<tr><td>84001011</td><td>US</td><td>USA</td><td>840</td><td>1011</td><td>Bullock</td><td>Alabama</td><td>US</td><td>32.10031</td><td>-85.71266</td><td>⋯</td><td> 616</td><td> 618</td><td> 619</td><td> 622</td><td> 623</td><td> 624</td><td> 625</td><td> 626</td><td> 628</td><td> 628</td></tr>\n",
              "</tbody>\n",
              "</table>\n"
            ]
          },
          "metadata": {
            "tags": []
          }
        }
      ]
    },
    {
      "cell_type": "markdown",
      "metadata": {
        "id": "MyFp-X43ODax"
      },
      "source": [
        "## Pick rows, columns, and cells in DataFrames"
      ]
    },
    {
      "cell_type": "markdown",
      "metadata": {
        "id": "M4wdq_qo7kvq"
      },
      "source": [
        "A a_ij\n"
      ]
    },
    {
      "cell_type": "code",
      "metadata": {
        "id": "YtuXLm0KLaj2",
        "outputId": "fb0fe274-60a2-4875-a52b-994818b03b58",
        "colab": {
          "base_uri": "https://localhost:8080/",
          "height": 249
        }
      },
      "source": [
        "# pick first row, second colum\n",
        "tb[1,2] \n",
        "\n",
        "# pick 4th row, 5th colum. Notice that R starts with 1, not zero like Python\n",
        "tb[4, 5]"
      ],
      "execution_count": 311,
      "outputs": [
        {
          "output_type": "display_data",
          "data": {
            "text/plain": [
              "  iso2\n",
              "1 US  "
            ],
            "text/latex": "A tibble: 1 × 1\n\\begin{tabular}{l}\n iso2\\\\\n <chr>\\\\\n\\hline\n\t US\\\\\n\\end{tabular}\n",
            "text/markdown": "\nA tibble: 1 × 1\n\n| iso2 &lt;chr&gt; |\n|---|\n| US |\n\n",
            "text/html": [
              "<table>\n",
              "<caption>A tibble: 1 × 1</caption>\n",
              "<thead>\n",
              "\t<tr><th scope=col>iso2</th></tr>\n",
              "\t<tr><th scope=col>&lt;chr&gt;</th></tr>\n",
              "</thead>\n",
              "<tbody>\n",
              "\t<tr><td>US</td></tr>\n",
              "</tbody>\n",
              "</table>\n"
            ]
          },
          "metadata": {
            "tags": []
          }
        },
        {
          "output_type": "display_data",
          "data": {
            "text/plain": [
              "  FIPS\n",
              "1 1007"
            ],
            "text/latex": "A tibble: 1 × 1\n\\begin{tabular}{l}\n FIPS\\\\\n <dbl>\\\\\n\\hline\n\t 1007\\\\\n\\end{tabular}\n",
            "text/markdown": "\nA tibble: 1 × 1\n\n| FIPS &lt;dbl&gt; |\n|---|\n| 1007 |\n\n",
            "text/html": [
              "<table>\n",
              "<caption>A tibble: 1 × 1</caption>\n",
              "<thead>\n",
              "\t<tr><th scope=col>FIPS</th></tr>\n",
              "\t<tr><th scope=col>&lt;dbl&gt;</th></tr>\n",
              "</thead>\n",
              "<tbody>\n",
              "\t<tr><td>1007</td></tr>\n",
              "</tbody>\n",
              "</table>\n"
            ]
          },
          "metadata": {
            "tags": []
          }
        }
      ]
    },
    {
      "cell_type": "code",
      "metadata": {
        "id": "IShItoo5Lkx_",
        "outputId": "69766b94-ce48-4730-ee7b-81396440a9ee",
        "colab": {
          "base_uri": "https://localhost:8080/",
          "height": 305
        }
      },
      "source": [
        "# pick first column and  first 10 rows\n",
        "tb[ 1:10, 1]"
      ],
      "execution_count": 312,
      "outputs": [
        {
          "output_type": "display_data",
          "data": {
            "text/plain": [
              "   UID     \n",
              "1  84001001\n",
              "2  84001003\n",
              "3  84001005\n",
              "4  84001007\n",
              "5  84001009\n",
              "6  84001011\n",
              "7  84001013\n",
              "8  84001015\n",
              "9  84001017\n",
              "10 84001019"
            ],
            "text/latex": "A tibble: 10 × 1\n\\begin{tabular}{l}\n UID\\\\\n <dbl>\\\\\n\\hline\n\t 84001001\\\\\n\t 84001003\\\\\n\t 84001005\\\\\n\t 84001007\\\\\n\t 84001009\\\\\n\t 84001011\\\\\n\t 84001013\\\\\n\t 84001015\\\\\n\t 84001017\\\\\n\t 84001019\\\\\n\\end{tabular}\n",
            "text/markdown": "\nA tibble: 10 × 1\n\n| UID &lt;dbl&gt; |\n|---|\n| 84001001 |\n| 84001003 |\n| 84001005 |\n| 84001007 |\n| 84001009 |\n| 84001011 |\n| 84001013 |\n| 84001015 |\n| 84001017 |\n| 84001019 |\n\n",
            "text/html": [
              "<table>\n",
              "<caption>A tibble: 10 × 1</caption>\n",
              "<thead>\n",
              "\t<tr><th scope=col>UID</th></tr>\n",
              "\t<tr><th scope=col>&lt;dbl&gt;</th></tr>\n",
              "</thead>\n",
              "<tbody>\n",
              "\t<tr><td>84001001</td></tr>\n",
              "\t<tr><td>84001003</td></tr>\n",
              "\t<tr><td>84001005</td></tr>\n",
              "\t<tr><td>84001007</td></tr>\n",
              "\t<tr><td>84001009</td></tr>\n",
              "\t<tr><td>84001011</td></tr>\n",
              "\t<tr><td>84001013</td></tr>\n",
              "\t<tr><td>84001015</td></tr>\n",
              "\t<tr><td>84001017</td></tr>\n",
              "\t<tr><td>84001019</td></tr>\n",
              "</tbody>\n",
              "</table>\n"
            ]
          },
          "metadata": {
            "tags": []
          }
        }
      ]
    },
    {
      "cell_type": "code",
      "metadata": {
        "id": "vYV28woa8MPA",
        "outputId": "479e1462-0b25-4613-cc51-aedbf3876aa7",
        "colab": {
          "base_uri": "https://localhost:8080/",
          "height": 120
        }
      },
      "source": [
        "# pick 6-7th rows, 4-8 colums\n",
        "tb[ 6:7, 4:8]"
      ],
      "execution_count": 313,
      "outputs": [
        {
          "output_type": "display_data",
          "data": {
            "text/plain": [
              "  code3 FIPS Admin2  Province_State Country_Region\n",
              "1 840   1011 Bullock Alabama        US            \n",
              "2 840   1013 Butler  Alabama        US            "
            ],
            "text/latex": "A tibble: 2 × 5\n\\begin{tabular}{lllll}\n code3 & FIPS & Admin2 & Province\\_State & Country\\_Region\\\\\n <dbl> & <dbl> & <chr> & <chr> & <chr>\\\\\n\\hline\n\t 840 & 1011 & Bullock & Alabama & US\\\\\n\t 840 & 1013 & Butler  & Alabama & US\\\\\n\\end{tabular}\n",
            "text/markdown": "\nA tibble: 2 × 5\n\n| code3 &lt;dbl&gt; | FIPS &lt;dbl&gt; | Admin2 &lt;chr&gt; | Province_State &lt;chr&gt; | Country_Region &lt;chr&gt; |\n|---|---|---|---|---|\n| 840 | 1011 | Bullock | Alabama | US |\n| 840 | 1013 | Butler  | Alabama | US |\n\n",
            "text/html": [
              "<table>\n",
              "<caption>A tibble: 2 × 5</caption>\n",
              "<thead>\n",
              "\t<tr><th scope=col>code3</th><th scope=col>FIPS</th><th scope=col>Admin2</th><th scope=col>Province_State</th><th scope=col>Country_Region</th></tr>\n",
              "\t<tr><th scope=col>&lt;dbl&gt;</th><th scope=col>&lt;dbl&gt;</th><th scope=col>&lt;chr&gt;</th><th scope=col>&lt;chr&gt;</th><th scope=col>&lt;chr&gt;</th></tr>\n",
              "</thead>\n",
              "<tbody>\n",
              "\t<tr><td>840</td><td>1011</td><td>Bullock</td><td>Alabama</td><td>US</td></tr>\n",
              "\t<tr><td>840</td><td>1013</td><td>Butler </td><td>Alabama</td><td>US</td></tr>\n",
              "</tbody>\n",
              "</table>\n"
            ]
          },
          "metadata": {
            "tags": []
          }
        }
      ]
    },
    {
      "cell_type": "code",
      "metadata": {
        "id": "5iu7E8szL06o",
        "outputId": "c39f4d59-5c6f-4a1e-b22a-9e668cb1f06b",
        "colab": {
          "base_uri": "https://localhost:8080/",
          "height": 183
        }
      },
      "source": [
        "# The daily cases data started on the 12th column\n",
        "tb[ 1:5, 1:12]"
      ],
      "execution_count": 314,
      "outputs": [
        {
          "output_type": "display_data",
          "data": {
            "text/plain": [
              "  UID      iso2 iso3 code3 FIPS Admin2  Province_State Country_Region Lat     \n",
              "1 84001001 US   USA  840   1001 Autauga Alabama        US             32.53953\n",
              "2 84001003 US   USA  840   1003 Baldwin Alabama        US             30.72775\n",
              "3 84001005 US   USA  840   1005 Barbour Alabama        US             31.86826\n",
              "4 84001007 US   USA  840   1007 Bibb    Alabama        US             32.99642\n",
              "5 84001009 US   USA  840   1009 Blount  Alabama        US             33.98211\n",
              "  Long_     Combined_Key         1/22/20\n",
              "1 -86.64408 Autauga, Alabama, US 0      \n",
              "2 -87.72207 Baldwin, Alabama, US 0      \n",
              "3 -85.38713 Barbour, Alabama, US 0      \n",
              "4 -87.12511 Bibb, Alabama, US    0      \n",
              "5 -86.56791 Blount, Alabama, US  0      "
            ],
            "text/latex": "A tibble: 5 × 12\n\\begin{tabular}{llllllllllll}\n UID & iso2 & iso3 & code3 & FIPS & Admin2 & Province\\_State & Country\\_Region & Lat & Long\\_ & Combined\\_Key & 1/22/20\\\\\n <dbl> & <chr> & <chr> & <dbl> & <dbl> & <chr> & <chr> & <chr> & <dbl> & <dbl> & <chr> & <dbl>\\\\\n\\hline\n\t 84001001 & US & USA & 840 & 1001 & Autauga & Alabama & US & 32.53953 & -86.64408 & Autauga, Alabama, US & 0\\\\\n\t 84001003 & US & USA & 840 & 1003 & Baldwin & Alabama & US & 30.72775 & -87.72207 & Baldwin, Alabama, US & 0\\\\\n\t 84001005 & US & USA & 840 & 1005 & Barbour & Alabama & US & 31.86826 & -85.38713 & Barbour, Alabama, US & 0\\\\\n\t 84001007 & US & USA & 840 & 1007 & Bibb    & Alabama & US & 32.99642 & -87.12511 & Bibb, Alabama, US    & 0\\\\\n\t 84001009 & US & USA & 840 & 1009 & Blount  & Alabama & US & 33.98211 & -86.56791 & Blount, Alabama, US  & 0\\\\\n\\end{tabular}\n",
            "text/markdown": "\nA tibble: 5 × 12\n\n| UID &lt;dbl&gt; | iso2 &lt;chr&gt; | iso3 &lt;chr&gt; | code3 &lt;dbl&gt; | FIPS &lt;dbl&gt; | Admin2 &lt;chr&gt; | Province_State &lt;chr&gt; | Country_Region &lt;chr&gt; | Lat &lt;dbl&gt; | Long_ &lt;dbl&gt; | Combined_Key &lt;chr&gt; | 1/22/20 &lt;dbl&gt; |\n|---|---|---|---|---|---|---|---|---|---|---|---|\n| 84001001 | US | USA | 840 | 1001 | Autauga | Alabama | US | 32.53953 | -86.64408 | Autauga, Alabama, US | 0 |\n| 84001003 | US | USA | 840 | 1003 | Baldwin | Alabama | US | 30.72775 | -87.72207 | Baldwin, Alabama, US | 0 |\n| 84001005 | US | USA | 840 | 1005 | Barbour | Alabama | US | 31.86826 | -85.38713 | Barbour, Alabama, US | 0 |\n| 84001007 | US | USA | 840 | 1007 | Bibb    | Alabama | US | 32.99642 | -87.12511 | Bibb, Alabama, US    | 0 |\n| 84001009 | US | USA | 840 | 1009 | Blount  | Alabama | US | 33.98211 | -86.56791 | Blount, Alabama, US  | 0 |\n\n",
            "text/html": [
              "<table>\n",
              "<caption>A tibble: 5 × 12</caption>\n",
              "<thead>\n",
              "\t<tr><th scope=col>UID</th><th scope=col>iso2</th><th scope=col>iso3</th><th scope=col>code3</th><th scope=col>FIPS</th><th scope=col>Admin2</th><th scope=col>Province_State</th><th scope=col>Country_Region</th><th scope=col>Lat</th><th scope=col>Long_</th><th scope=col>Combined_Key</th><th scope=col>1/22/20</th></tr>\n",
              "\t<tr><th scope=col>&lt;dbl&gt;</th><th scope=col>&lt;chr&gt;</th><th scope=col>&lt;chr&gt;</th><th scope=col>&lt;dbl&gt;</th><th scope=col>&lt;dbl&gt;</th><th scope=col>&lt;chr&gt;</th><th scope=col>&lt;chr&gt;</th><th scope=col>&lt;chr&gt;</th><th scope=col>&lt;dbl&gt;</th><th scope=col>&lt;dbl&gt;</th><th scope=col>&lt;chr&gt;</th><th scope=col>&lt;dbl&gt;</th></tr>\n",
              "</thead>\n",
              "<tbody>\n",
              "\t<tr><td>84001001</td><td>US</td><td>USA</td><td>840</td><td>1001</td><td>Autauga</td><td>Alabama</td><td>US</td><td>32.53953</td><td>-86.64408</td><td>Autauga, Alabama, US</td><td>0</td></tr>\n",
              "\t<tr><td>84001003</td><td>US</td><td>USA</td><td>840</td><td>1003</td><td>Baldwin</td><td>Alabama</td><td>US</td><td>30.72775</td><td>-87.72207</td><td>Baldwin, Alabama, US</td><td>0</td></tr>\n",
              "\t<tr><td>84001005</td><td>US</td><td>USA</td><td>840</td><td>1005</td><td>Barbour</td><td>Alabama</td><td>US</td><td>31.86826</td><td>-85.38713</td><td>Barbour, Alabama, US</td><td>0</td></tr>\n",
              "\t<tr><td>84001007</td><td>US</td><td>USA</td><td>840</td><td>1007</td><td>Bibb   </td><td>Alabama</td><td>US</td><td>32.99642</td><td>-87.12511</td><td>Bibb, Alabama, US   </td><td>0</td></tr>\n",
              "\t<tr><td>84001009</td><td>US</td><td>USA</td><td>840</td><td>1009</td><td>Blount </td><td>Alabama</td><td>US</td><td>33.98211</td><td>-86.56791</td><td>Blount, Alabama, US </td><td>0</td></tr>\n",
              "</tbody>\n",
              "</table>\n"
            ]
          },
          "metadata": {
            "tags": []
          }
        }
      ]
    },
    {
      "cell_type": "code",
      "metadata": {
        "id": "e3ZirRxC8r1A"
      },
      "source": [
        "?length"
      ],
      "execution_count": 315,
      "outputs": []
    },
    {
      "cell_type": "code",
      "metadata": {
        "id": "g8pigN_3MEZf",
        "outputId": "cd2a1005-b517-436a-bd2c-a2f733bb4c26",
        "colab": {
          "base_uri": "https://localhost:8080/",
          "height": 51
        }
      },
      "source": [
        "# how many columns? \n",
        "length(tb[1,])\n",
        "print(paste( \"There are \", length(tb[1,]), \" columns\"))"
      ],
      "execution_count": 316,
      "outputs": [
        {
          "output_type": "display_data",
          "data": {
            "text/plain": [
              "[1] 279"
            ],
            "text/latex": "279",
            "text/markdown": "279",
            "text/html": [
              "279"
            ]
          },
          "metadata": {
            "tags": []
          }
        },
        {
          "output_type": "stream",
          "text": [
            "[1] \"There are  279  columns\"\n"
          ],
          "name": "stdout"
        }
      ]
    },
    {
      "cell_type": "code",
      "metadata": {
        "id": "1FMx8GjNmrtw",
        "outputId": "daaa6c91-44e0-4feb-be07-0685495af3dc",
        "colab": {
          "base_uri": "https://localhost:8080/",
          "height": 183
        }
      },
      "source": [
        "# view the first 5 rows in all data columns\n",
        "tb[1:5 , 12: length(tb[1,])  ]"
      ],
      "execution_count": 317,
      "outputs": [
        {
          "output_type": "display_data",
          "data": {
            "text/plain": [
              "  1/22/20 1/23/20 1/24/20 1/25/20 1/26/20 1/27/20 1/28/20 1/29/20 1/30/20\n",
              "1 0       0       0       0       0       0       0       0       0      \n",
              "2 0       0       0       0       0       0       0       0       0      \n",
              "3 0       0       0       0       0       0       0       0       0      \n",
              "4 0       0       0       0       0       0       0       0       0      \n",
              "5 0       0       0       0       0       0       0       0       0      \n",
              "  1/31/20 ⋯ 10/6/20 10/7/20 10/8/20 10/9/20 10/10/20 10/11/20 10/12/20 10/13/20\n",
              "1 0       ⋯ 1839    1852    1863    1882    1898     1905     1911     1924    \n",
              "2 0       ⋯ 6116    6134    6141    6172    6190     6203     6220     6248    \n",
              "3 0       ⋯  923     927     927     939     942      942      944      951    \n",
              "4 0       ⋯  691     703     708     719     726      736      738      744    \n",
              "5 0       ⋯ 1665    1673    1681    1689    1704     1713     1722     1742    \n",
              "  10/14/20 10/15/20\n",
              "1 1928     1949    \n",
              "2 6270     6285    \n",
              "3  950      965    \n",
              "4  744      761    \n",
              "5 1750     1768    "
            ],
            "text/latex": "A tibble: 5 × 268\n\\begin{tabular}{lllllllllllllllllllll}\n 1/22/20 & 1/23/20 & 1/24/20 & 1/25/20 & 1/26/20 & 1/27/20 & 1/28/20 & 1/29/20 & 1/30/20 & 1/31/20 & ⋯ & 10/6/20 & 10/7/20 & 10/8/20 & 10/9/20 & 10/10/20 & 10/11/20 & 10/12/20 & 10/13/20 & 10/14/20 & 10/15/20\\\\\n <dbl> & <dbl> & <dbl> & <dbl> & <dbl> & <dbl> & <dbl> & <dbl> & <dbl> & <dbl> & ⋯ & <dbl> & <dbl> & <dbl> & <dbl> & <dbl> & <dbl> & <dbl> & <dbl> & <dbl> & <dbl>\\\\\n\\hline\n\t 0 & 0 & 0 & 0 & 0 & 0 & 0 & 0 & 0 & 0 & ⋯ & 1839 & 1852 & 1863 & 1882 & 1898 & 1905 & 1911 & 1924 & 1928 & 1949\\\\\n\t 0 & 0 & 0 & 0 & 0 & 0 & 0 & 0 & 0 & 0 & ⋯ & 6116 & 6134 & 6141 & 6172 & 6190 & 6203 & 6220 & 6248 & 6270 & 6285\\\\\n\t 0 & 0 & 0 & 0 & 0 & 0 & 0 & 0 & 0 & 0 & ⋯ &  923 &  927 &  927 &  939 &  942 &  942 &  944 &  951 &  950 &  965\\\\\n\t 0 & 0 & 0 & 0 & 0 & 0 & 0 & 0 & 0 & 0 & ⋯ &  691 &  703 &  708 &  719 &  726 &  736 &  738 &  744 &  744 &  761\\\\\n\t 0 & 0 & 0 & 0 & 0 & 0 & 0 & 0 & 0 & 0 & ⋯ & 1665 & 1673 & 1681 & 1689 & 1704 & 1713 & 1722 & 1742 & 1750 & 1768\\\\\n\\end{tabular}\n",
            "text/markdown": "\nA tibble: 5 × 268\n\n| 1/22/20 &lt;dbl&gt; | 1/23/20 &lt;dbl&gt; | 1/24/20 &lt;dbl&gt; | 1/25/20 &lt;dbl&gt; | 1/26/20 &lt;dbl&gt; | 1/27/20 &lt;dbl&gt; | 1/28/20 &lt;dbl&gt; | 1/29/20 &lt;dbl&gt; | 1/30/20 &lt;dbl&gt; | 1/31/20 &lt;dbl&gt; | ⋯ ⋯ | 10/6/20 &lt;dbl&gt; | 10/7/20 &lt;dbl&gt; | 10/8/20 &lt;dbl&gt; | 10/9/20 &lt;dbl&gt; | 10/10/20 &lt;dbl&gt; | 10/11/20 &lt;dbl&gt; | 10/12/20 &lt;dbl&gt; | 10/13/20 &lt;dbl&gt; | 10/14/20 &lt;dbl&gt; | 10/15/20 &lt;dbl&gt; |\n|---|---|---|---|---|---|---|---|---|---|---|---|---|---|---|---|---|---|---|---|---|\n| 0 | 0 | 0 | 0 | 0 | 0 | 0 | 0 | 0 | 0 | ⋯ | 1839 | 1852 | 1863 | 1882 | 1898 | 1905 | 1911 | 1924 | 1928 | 1949 |\n| 0 | 0 | 0 | 0 | 0 | 0 | 0 | 0 | 0 | 0 | ⋯ | 6116 | 6134 | 6141 | 6172 | 6190 | 6203 | 6220 | 6248 | 6270 | 6285 |\n| 0 | 0 | 0 | 0 | 0 | 0 | 0 | 0 | 0 | 0 | ⋯ |  923 |  927 |  927 |  939 |  942 |  942 |  944 |  951 |  950 |  965 |\n| 0 | 0 | 0 | 0 | 0 | 0 | 0 | 0 | 0 | 0 | ⋯ |  691 |  703 |  708 |  719 |  726 |  736 |  738 |  744 |  744 |  761 |\n| 0 | 0 | 0 | 0 | 0 | 0 | 0 | 0 | 0 | 0 | ⋯ | 1665 | 1673 | 1681 | 1689 | 1704 | 1713 | 1722 | 1742 | 1750 | 1768 |\n\n",
            "text/html": [
              "<table>\n",
              "<caption>A tibble: 5 × 268</caption>\n",
              "<thead>\n",
              "\t<tr><th scope=col>1/22/20</th><th scope=col>1/23/20</th><th scope=col>1/24/20</th><th scope=col>1/25/20</th><th scope=col>1/26/20</th><th scope=col>1/27/20</th><th scope=col>1/28/20</th><th scope=col>1/29/20</th><th scope=col>1/30/20</th><th scope=col>1/31/20</th><th scope=col>⋯</th><th scope=col>10/6/20</th><th scope=col>10/7/20</th><th scope=col>10/8/20</th><th scope=col>10/9/20</th><th scope=col>10/10/20</th><th scope=col>10/11/20</th><th scope=col>10/12/20</th><th scope=col>10/13/20</th><th scope=col>10/14/20</th><th scope=col>10/15/20</th></tr>\n",
              "\t<tr><th scope=col>&lt;dbl&gt;</th><th scope=col>&lt;dbl&gt;</th><th scope=col>&lt;dbl&gt;</th><th scope=col>&lt;dbl&gt;</th><th scope=col>&lt;dbl&gt;</th><th scope=col>&lt;dbl&gt;</th><th scope=col>&lt;dbl&gt;</th><th scope=col>&lt;dbl&gt;</th><th scope=col>&lt;dbl&gt;</th><th scope=col>&lt;dbl&gt;</th><th scope=col>⋯</th><th scope=col>&lt;dbl&gt;</th><th scope=col>&lt;dbl&gt;</th><th scope=col>&lt;dbl&gt;</th><th scope=col>&lt;dbl&gt;</th><th scope=col>&lt;dbl&gt;</th><th scope=col>&lt;dbl&gt;</th><th scope=col>&lt;dbl&gt;</th><th scope=col>&lt;dbl&gt;</th><th scope=col>&lt;dbl&gt;</th><th scope=col>&lt;dbl&gt;</th></tr>\n",
              "</thead>\n",
              "<tbody>\n",
              "\t<tr><td>0</td><td>0</td><td>0</td><td>0</td><td>0</td><td>0</td><td>0</td><td>0</td><td>0</td><td>0</td><td>⋯</td><td>1839</td><td>1852</td><td>1863</td><td>1882</td><td>1898</td><td>1905</td><td>1911</td><td>1924</td><td>1928</td><td>1949</td></tr>\n",
              "\t<tr><td>0</td><td>0</td><td>0</td><td>0</td><td>0</td><td>0</td><td>0</td><td>0</td><td>0</td><td>0</td><td>⋯</td><td>6116</td><td>6134</td><td>6141</td><td>6172</td><td>6190</td><td>6203</td><td>6220</td><td>6248</td><td>6270</td><td>6285</td></tr>\n",
              "\t<tr><td>0</td><td>0</td><td>0</td><td>0</td><td>0</td><td>0</td><td>0</td><td>0</td><td>0</td><td>0</td><td>⋯</td><td> 923</td><td> 927</td><td> 927</td><td> 939</td><td> 942</td><td> 942</td><td> 944</td><td> 951</td><td> 950</td><td> 965</td></tr>\n",
              "\t<tr><td>0</td><td>0</td><td>0</td><td>0</td><td>0</td><td>0</td><td>0</td><td>0</td><td>0</td><td>0</td><td>⋯</td><td> 691</td><td> 703</td><td> 708</td><td> 719</td><td> 726</td><td> 736</td><td> 738</td><td> 744</td><td> 744</td><td> 761</td></tr>\n",
              "\t<tr><td>0</td><td>0</td><td>0</td><td>0</td><td>0</td><td>0</td><td>0</td><td>0</td><td>0</td><td>0</td><td>⋯</td><td>1665</td><td>1673</td><td>1681</td><td>1689</td><td>1704</td><td>1713</td><td>1722</td><td>1742</td><td>1750</td><td>1768</td></tr>\n",
              "</tbody>\n",
              "</table>\n"
            ]
          },
          "metadata": {
            "tags": []
          }
        }
      ]
    },
    {
      "cell_type": "markdown",
      "metadata": {
        "id": "9kjb-7_CaDno"
      },
      "source": [
        "## Select columns of daily cases"
      ]
    },
    {
      "cell_type": "markdown",
      "metadata": {
        "id": "l6t75WwIo4AT"
      },
      "source": [
        "select the all columns of actual data"
      ]
    },
    {
      "cell_type": "code",
      "metadata": {
        "id": "znRY8na8dbJN",
        "outputId": "109c135a-18d2-409c-cbb6-189655e5a527",
        "colab": {
          "base_uri": "https://localhost:8080/",
          "height": 1000
        }
      },
      "source": [
        "tb %>% dplyr::select( 12:length(tb[1,]) ) #It seems that CoLab often rquire explicit pakcage for function calls. "
      ],
      "execution_count": 318,
      "outputs": [
        {
          "output_type": "display_data",
          "data": {
            "text/plain": [
              "     1/22/20 1/23/20 1/24/20 1/25/20 1/26/20 1/27/20 1/28/20 1/29/20 1/30/20\n",
              "1    0       0       0       0       0       0       0       0       0      \n",
              "2    0       0       0       0       0       0       0       0       0      \n",
              "3    0       0       0       0       0       0       0       0       0      \n",
              "4    0       0       0       0       0       0       0       0       0      \n",
              "5    0       0       0       0       0       0       0       0       0      \n",
              "6    0       0       0       0       0       0       0       0       0      \n",
              "7    0       0       0       0       0       0       0       0       0      \n",
              "8    0       0       0       0       0       0       0       0       0      \n",
              "9    0       0       0       0       0       0       0       0       0      \n",
              "10   0       0       0       0       0       0       0       0       0      \n",
              "11   0       0       0       0       0       0       0       0       0      \n",
              "12   0       0       0       0       0       0       0       0       0      \n",
              "13   0       0       0       0       0       0       0       0       0      \n",
              "14   0       0       0       0       0       0       0       0       0      \n",
              "15   0       0       0       0       0       0       0       0       0      \n",
              "16   0       0       0       0       0       0       0       0       0      \n",
              "17   0       0       0       0       0       0       0       0       0      \n",
              "18   0       0       0       0       0       0       0       0       0      \n",
              "19   0       0       0       0       0       0       0       0       0      \n",
              "20   0       0       0       0       0       0       0       0       0      \n",
              "21   0       0       0       0       0       0       0       0       0      \n",
              "22   0       0       0       0       0       0       0       0       0      \n",
              "23   0       0       0       0       0       0       0       0       0      \n",
              "24   0       0       0       0       0       0       0       0       0      \n",
              "25   0       0       0       0       0       0       0       0       0      \n",
              "26   0       0       0       0       0       0       0       0       0      \n",
              "27   0       0       0       0       0       0       0       0       0      \n",
              "28   0       0       0       0       0       0       0       0       0      \n",
              "29   0       0       0       0       0       0       0       0       0      \n",
              "30   0       0       0       0       0       0       0       0       0      \n",
              "⋮    ⋮       ⋮       ⋮       ⋮       ⋮       ⋮       ⋮       ⋮       ⋮      \n",
              "3311 0       0       0       0       0       0       0       0       0      \n",
              "3312 0       0       0       0       0       0       0       0       0      \n",
              "3313 0       0       0       0       0       0       0       0       0      \n",
              "3314 0       0       0       0       0       0       0       0       0      \n",
              "3315 0       0       0       0       0       0       0       0       0      \n",
              "3316 0       0       0       0       0       0       0       0       0      \n",
              "3317 0       0       0       0       0       0       0       0       0      \n",
              "3318 0       0       0       0       0       0       0       0       0      \n",
              "3319 0       0       0       0       0       0       0       0       0      \n",
              "3320 0       0       0       0       0       0       0       0       0      \n",
              "3321 0       0       0       0       0       0       0       0       0      \n",
              "3322 0       0       0       0       0       0       0       0       0      \n",
              "3323 0       0       0       0       0       0       0       0       0      \n",
              "3324 0       0       0       0       0       0       0       0       0      \n",
              "3325 0       0       0       0       0       0       0       0       0      \n",
              "3326 0       0       0       0       0       0       0       0       0      \n",
              "3327 0       0       0       0       0       0       0       0       0      \n",
              "3328 0       0       0       0       0       0       0       0       0      \n",
              "3329 0       0       0       0       0       0       0       0       0      \n",
              "3330 0       0       0       0       0       0       0       0       0      \n",
              "3331 0       0       0       0       0       0       0       0       0      \n",
              "3332 0       0       0       0       0       0       0       0       0      \n",
              "3333 0       0       0       0       0       0       0       0       0      \n",
              "3334 0       0       0       0       0       0       0       0       0      \n",
              "3335 0       0       0       0       0       0       0       0       0      \n",
              "3336 0       0       0       0       0       0       0       0       0      \n",
              "3337 0       0       0       0       0       0       0       0       0      \n",
              "3338 0       0       0       0       0       0       0       0       0      \n",
              "3339 0       0       0       0       0       0       0       0       0      \n",
              "3340 0       0       0       0       0       0       0       0       0      \n",
              "     1/31/20 ⋯ 10/6/20 10/7/20 10/8/20 10/9/20 10/10/20 10/11/20 10/12/20\n",
              "1    0       ⋯ 1839    1852    1863    1882    1898     1905     1911    \n",
              "2    0       ⋯ 6116    6134    6141    6172    6190     6203     6220    \n",
              "3    0       ⋯  923     927     927     939     942      942      944    \n",
              "4    0       ⋯  691     703     708     719     726      736      738    \n",
              "5    0       ⋯ 1665    1673    1681    1689    1704     1713     1722    \n",
              "6    0       ⋯  616     618     619     622     623      624      625    \n",
              "7    0       ⋯  928     933     932     943     952      958      962    \n",
              "8    0       ⋯ 3730    3743    3752    3803    3823     3841     3861    \n",
              "9    0       ⋯ 1210    1211    1222    1238    1242     1242     1245    \n",
              "10   0       ⋯  644     651     654     662     666      670      674    \n",
              "11   0       ⋯ 1672    1679    1684    1701    1713     1722     1733    \n",
              "12   0       ⋯  367     368     369     374     375      376      377    \n",
              "13   0       ⋯ 1158    1166    1184    1203    1216     1219     1220    \n",
              "14   0       ⋯  614     623     627     634     641      646      650    \n",
              "15   0       ⋯  436     448     449     452     467      468      469    \n",
              "16   0       ⋯ 1482    1486    1497    1513    1521     1532     1543    \n",
              "17   0       ⋯ 1755    1765    1771    1787    1804     1813     1824    \n",
              "18   0       ⋯  540     540     542     546     547      547      547    \n",
              "19   0       ⋯  179     180     183     186     187      187      188    \n",
              "20   0       ⋯ 1486    1495    1514    1533    1541     1561     1570    \n",
              "21   0       ⋯  550     554     554     559     562      566      567    \n",
              "22   0       ⋯ 1978    1997    2001    2025    2036     2047     2073    \n",
              "23   0       ⋯ 1521    1526    1527    1534    1542     1548     1557    \n",
              "24   0       ⋯ 1809    1815    1817    1828    1829     1830     1832    \n",
              "25   0       ⋯ 2649    2700    2709    2769    2803     2838     2854    \n",
              "26   0       ⋯ 2844    2874    2889    2917    2945     2952     2967    \n",
              "27   0       ⋯ 1653    1662    1670    1680    1684     1684     1684    \n",
              "28   0       ⋯ 3699    3726    3726    3754    3769     3791     3806    \n",
              "29   0       ⋯  490     490     490     491     497      511      515    \n",
              "30   0       ⋯ 1856    1868    1871    1872    1886     1891     1896    \n",
              "⋮    ⋮       ⋱ ⋮       ⋮       ⋮       ⋮       ⋮        ⋮        ⋮       \n",
              "3311 0       ⋯ 8289    8410    8597    8775    8887     8933     9003    \n",
              "3312 0       ⋯ 1391    1430    1495    1518    1560     1604     1661    \n",
              "3313 0       ⋯  481     499     524     561     576      596      623    \n",
              "3314 0       ⋯ 5335    5508    5740    5886    6023     6173     6297    \n",
              "3315 0       ⋯  968     987    1013    1058    1088     1114     1132    \n",
              "3316 0       ⋯  732     747     771     811     826      855      898    \n",
              "3317 0       ⋯   85      87      90      96     105      108      115    \n",
              "3318 0       ⋯  400     412     427     445     453      467      479    \n",
              "3319 0       ⋯  245     247     251     255     255      255      256    \n",
              "3320 0       ⋯  169     172     180     185     188      192      196    \n",
              "3321 0       ⋯   53      54      55      61      63       63       65    \n",
              "3322 0       ⋯  814     835     866     881     898      914      927    \n",
              "3323 0       ⋯  119     120     121     123     127      127      128    \n",
              "3324 0       ⋯   38      40      41      41      41       41       41    \n",
              "3325 0       ⋯   44      46      46      47      47       52       54    \n",
              "3326 0       ⋯  808     831     863     883     918      938      960    \n",
              "3327 0       ⋯  242     246     254     260     262      274      282    \n",
              "3328 0       ⋯  687     693     709     748     754      774      798    \n",
              "3329 0       ⋯    4       4       4       4       4        4        4    \n",
              "3330 0       ⋯    0       0       0       0       0        0        0    \n",
              "3331 0       ⋯  272     284     288     304     310      326      339    \n",
              "3332 0       ⋯   51      54      54      58      58       61       65    \n",
              "3333 0       ⋯  346     352     369     389     400      408      428    \n",
              "3334 0       ⋯  127     127     129     130     131      133      133    \n",
              "3335 0       ⋯  371     378     382     393     396      394      394    \n",
              "3336 0       ⋯  629     633     645     656     658      662      675    \n",
              "3337 0       ⋯  368     368     373     378     379      380      381    \n",
              "3338 0       ⋯    0       0       0      10       0        0        0    \n",
              "3339 0       ⋯  120     119     123     123     124      125      126    \n",
              "3340 0       ⋯   46      50      51      54      58       58       58    \n",
              "     10/13/20 10/14/20 10/15/20\n",
              "1    1924     1928     1949    \n",
              "2    6248     6270     6285    \n",
              "3     951      950      965    \n",
              "4     744      744      761    \n",
              "5    1742     1750     1768    \n",
              "6     626      628      628    \n",
              "7     968      977      982    \n",
              "8    3897     3922     3949    \n",
              "9    1254     1256     1260    \n",
              "10    687      687      696    \n",
              "11   1738     1740     1756    \n",
              "12    377      377      379    \n",
              "13   1223     1229     1236    \n",
              "14    661      667      674    \n",
              "15    475      483      489    \n",
              "16   1551     1568     1588    \n",
              "17   1832     1840     1851    \n",
              "18    549      549      550    \n",
              "19    189      190      191    \n",
              "20   1584     1585     1604    \n",
              "21    570      574      573    \n",
              "22   2110     2132     2168    \n",
              "23   1561     1564     1580    \n",
              "24   1836     1837     1841    \n",
              "25   2913     2942     2996    \n",
              "26   2995     3009     3028    \n",
              "27   1690     1687     1691    \n",
              "28   3838     3869     3896    \n",
              "29    518      520      525    \n",
              "30   1900     1916     1928    \n",
              "⋮    ⋮        ⋮        ⋮       \n",
              "3311 9390     9532     9723    \n",
              "3312 1689     1741     1806    \n",
              "3313  639      653      710    \n",
              "3314 6494     6603     6831    \n",
              "3315 1152     1182     1226    \n",
              "3316  914      942      959    \n",
              "3317  118      122      121    \n",
              "3318  487      510      522    \n",
              "3319  256      262      263    \n",
              "3320  201      209      217    \n",
              "3321   66       68       74    \n",
              "3322  946      964      979    \n",
              "3323  130      133      134    \n",
              "3324   41       41       41    \n",
              "3325   55       57       60    \n",
              "3326  992     1037     1084    \n",
              "3327  289      294      295    \n",
              "3328  817      840      880    \n",
              "3329    4        4        4    \n",
              "3330    0        0        0    \n",
              "3331  355      369      386    \n",
              "3332   72       74       77    \n",
              "3333  435      447      460    \n",
              "3334  133      133      135    \n",
              "3335  401      402      406    \n",
              "3336  679      686      687    \n",
              "3337  384      385      388    \n",
              "3338    0        0        0    \n",
              "3339  127      132      132    \n",
              "3340   62       66       71    "
            ],
            "text/latex": "A tibble: 3340 × 268\n\\begin{tabular}{lllllllllllllllllllll}\n 1/22/20 & 1/23/20 & 1/24/20 & 1/25/20 & 1/26/20 & 1/27/20 & 1/28/20 & 1/29/20 & 1/30/20 & 1/31/20 & ⋯ & 10/6/20 & 10/7/20 & 10/8/20 & 10/9/20 & 10/10/20 & 10/11/20 & 10/12/20 & 10/13/20 & 10/14/20 & 10/15/20\\\\\n <dbl> & <dbl> & <dbl> & <dbl> & <dbl> & <dbl> & <dbl> & <dbl> & <dbl> & <dbl> & ⋯ & <dbl> & <dbl> & <dbl> & <dbl> & <dbl> & <dbl> & <dbl> & <dbl> & <dbl> & <dbl>\\\\\n\\hline\n\t 0 & 0 & 0 & 0 & 0 & 0 & 0 & 0 & 0 & 0 & ⋯ & 1839 & 1852 & 1863 & 1882 & 1898 & 1905 & 1911 & 1924 & 1928 & 1949\\\\\n\t 0 & 0 & 0 & 0 & 0 & 0 & 0 & 0 & 0 & 0 & ⋯ & 6116 & 6134 & 6141 & 6172 & 6190 & 6203 & 6220 & 6248 & 6270 & 6285\\\\\n\t 0 & 0 & 0 & 0 & 0 & 0 & 0 & 0 & 0 & 0 & ⋯ &  923 &  927 &  927 &  939 &  942 &  942 &  944 &  951 &  950 &  965\\\\\n\t 0 & 0 & 0 & 0 & 0 & 0 & 0 & 0 & 0 & 0 & ⋯ &  691 &  703 &  708 &  719 &  726 &  736 &  738 &  744 &  744 &  761\\\\\n\t 0 & 0 & 0 & 0 & 0 & 0 & 0 & 0 & 0 & 0 & ⋯ & 1665 & 1673 & 1681 & 1689 & 1704 & 1713 & 1722 & 1742 & 1750 & 1768\\\\\n\t 0 & 0 & 0 & 0 & 0 & 0 & 0 & 0 & 0 & 0 & ⋯ &  616 &  618 &  619 &  622 &  623 &  624 &  625 &  626 &  628 &  628\\\\\n\t 0 & 0 & 0 & 0 & 0 & 0 & 0 & 0 & 0 & 0 & ⋯ &  928 &  933 &  932 &  943 &  952 &  958 &  962 &  968 &  977 &  982\\\\\n\t 0 & 0 & 0 & 0 & 0 & 0 & 0 & 0 & 0 & 0 & ⋯ & 3730 & 3743 & 3752 & 3803 & 3823 & 3841 & 3861 & 3897 & 3922 & 3949\\\\\n\t 0 & 0 & 0 & 0 & 0 & 0 & 0 & 0 & 0 & 0 & ⋯ & 1210 & 1211 & 1222 & 1238 & 1242 & 1242 & 1245 & 1254 & 1256 & 1260\\\\\n\t 0 & 0 & 0 & 0 & 0 & 0 & 0 & 0 & 0 & 0 & ⋯ &  644 &  651 &  654 &  662 &  666 &  670 &  674 &  687 &  687 &  696\\\\\n\t 0 & 0 & 0 & 0 & 0 & 0 & 0 & 0 & 0 & 0 & ⋯ & 1672 & 1679 & 1684 & 1701 & 1713 & 1722 & 1733 & 1738 & 1740 & 1756\\\\\n\t 0 & 0 & 0 & 0 & 0 & 0 & 0 & 0 & 0 & 0 & ⋯ &  367 &  368 &  369 &  374 &  375 &  376 &  377 &  377 &  377 &  379\\\\\n\t 0 & 0 & 0 & 0 & 0 & 0 & 0 & 0 & 0 & 0 & ⋯ & 1158 & 1166 & 1184 & 1203 & 1216 & 1219 & 1220 & 1223 & 1229 & 1236\\\\\n\t 0 & 0 & 0 & 0 & 0 & 0 & 0 & 0 & 0 & 0 & ⋯ &  614 &  623 &  627 &  634 &  641 &  646 &  650 &  661 &  667 &  674\\\\\n\t 0 & 0 & 0 & 0 & 0 & 0 & 0 & 0 & 0 & 0 & ⋯ &  436 &  448 &  449 &  452 &  467 &  468 &  469 &  475 &  483 &  489\\\\\n\t 0 & 0 & 0 & 0 & 0 & 0 & 0 & 0 & 0 & 0 & ⋯ & 1482 & 1486 & 1497 & 1513 & 1521 & 1532 & 1543 & 1551 & 1568 & 1588\\\\\n\t 0 & 0 & 0 & 0 & 0 & 0 & 0 & 0 & 0 & 0 & ⋯ & 1755 & 1765 & 1771 & 1787 & 1804 & 1813 & 1824 & 1832 & 1840 & 1851\\\\\n\t 0 & 0 & 0 & 0 & 0 & 0 & 0 & 0 & 0 & 0 & ⋯ &  540 &  540 &  542 &  546 &  547 &  547 &  547 &  549 &  549 &  550\\\\\n\t 0 & 0 & 0 & 0 & 0 & 0 & 0 & 0 & 0 & 0 & ⋯ &  179 &  180 &  183 &  186 &  187 &  187 &  188 &  189 &  190 &  191\\\\\n\t 0 & 0 & 0 & 0 & 0 & 0 & 0 & 0 & 0 & 0 & ⋯ & 1486 & 1495 & 1514 & 1533 & 1541 & 1561 & 1570 & 1584 & 1585 & 1604\\\\\n\t 0 & 0 & 0 & 0 & 0 & 0 & 0 & 0 & 0 & 0 & ⋯ &  550 &  554 &  554 &  559 &  562 &  566 &  567 &  570 &  574 &  573\\\\\n\t 0 & 0 & 0 & 0 & 0 & 0 & 0 & 0 & 0 & 0 & ⋯ & 1978 & 1997 & 2001 & 2025 & 2036 & 2047 & 2073 & 2110 & 2132 & 2168\\\\\n\t 0 & 0 & 0 & 0 & 0 & 0 & 0 & 0 & 0 & 0 & ⋯ & 1521 & 1526 & 1527 & 1534 & 1542 & 1548 & 1557 & 1561 & 1564 & 1580\\\\\n\t 0 & 0 & 0 & 0 & 0 & 0 & 0 & 0 & 0 & 0 & ⋯ & 1809 & 1815 & 1817 & 1828 & 1829 & 1830 & 1832 & 1836 & 1837 & 1841\\\\\n\t 0 & 0 & 0 & 0 & 0 & 0 & 0 & 0 & 0 & 0 & ⋯ & 2649 & 2700 & 2709 & 2769 & 2803 & 2838 & 2854 & 2913 & 2942 & 2996\\\\\n\t 0 & 0 & 0 & 0 & 0 & 0 & 0 & 0 & 0 & 0 & ⋯ & 2844 & 2874 & 2889 & 2917 & 2945 & 2952 & 2967 & 2995 & 3009 & 3028\\\\\n\t 0 & 0 & 0 & 0 & 0 & 0 & 0 & 0 & 0 & 0 & ⋯ & 1653 & 1662 & 1670 & 1680 & 1684 & 1684 & 1684 & 1690 & 1687 & 1691\\\\\n\t 0 & 0 & 0 & 0 & 0 & 0 & 0 & 0 & 0 & 0 & ⋯ & 3699 & 3726 & 3726 & 3754 & 3769 & 3791 & 3806 & 3838 & 3869 & 3896\\\\\n\t 0 & 0 & 0 & 0 & 0 & 0 & 0 & 0 & 0 & 0 & ⋯ &  490 &  490 &  490 &  491 &  497 &  511 &  515 &  518 &  520 &  525\\\\\n\t 0 & 0 & 0 & 0 & 0 & 0 & 0 & 0 & 0 & 0 & ⋯ & 1856 & 1868 & 1871 & 1872 & 1886 & 1891 & 1896 & 1900 & 1916 & 1928\\\\\n\t ⋮ & ⋮ & ⋮ & ⋮ & ⋮ & ⋮ & ⋮ & ⋮ & ⋮ & ⋮ & ⋱ & ⋮ & ⋮ & ⋮ & ⋮ & ⋮ & ⋮ & ⋮ & ⋮ & ⋮ & ⋮\\\\\n\t 0 & 0 & 0 & 0 & 0 & 0 & 0 & 0 & 0 & 0 & ⋯ & 8289 & 8410 & 8597 & 8775 & 8887 & 8933 & 9003 & 9390 & 9532 & 9723\\\\\n\t 0 & 0 & 0 & 0 & 0 & 0 & 0 & 0 & 0 & 0 & ⋯ & 1391 & 1430 & 1495 & 1518 & 1560 & 1604 & 1661 & 1689 & 1741 & 1806\\\\\n\t 0 & 0 & 0 & 0 & 0 & 0 & 0 & 0 & 0 & 0 & ⋯ &  481 &  499 &  524 &  561 &  576 &  596 &  623 &  639 &  653 &  710\\\\\n\t 0 & 0 & 0 & 0 & 0 & 0 & 0 & 0 & 0 & 0 & ⋯ & 5335 & 5508 & 5740 & 5886 & 6023 & 6173 & 6297 & 6494 & 6603 & 6831\\\\\n\t 0 & 0 & 0 & 0 & 0 & 0 & 0 & 0 & 0 & 0 & ⋯ &  968 &  987 & 1013 & 1058 & 1088 & 1114 & 1132 & 1152 & 1182 & 1226\\\\\n\t 0 & 0 & 0 & 0 & 0 & 0 & 0 & 0 & 0 & 0 & ⋯ &  732 &  747 &  771 &  811 &  826 &  855 &  898 &  914 &  942 &  959\\\\\n\t 0 & 0 & 0 & 0 & 0 & 0 & 0 & 0 & 0 & 0 & ⋯ &   85 &   87 &   90 &   96 &  105 &  108 &  115 &  118 &  122 &  121\\\\\n\t 0 & 0 & 0 & 0 & 0 & 0 & 0 & 0 & 0 & 0 & ⋯ &  400 &  412 &  427 &  445 &  453 &  467 &  479 &  487 &  510 &  522\\\\\n\t 0 & 0 & 0 & 0 & 0 & 0 & 0 & 0 & 0 & 0 & ⋯ &  245 &  247 &  251 &  255 &  255 &  255 &  256 &  256 &  262 &  263\\\\\n\t 0 & 0 & 0 & 0 & 0 & 0 & 0 & 0 & 0 & 0 & ⋯ &  169 &  172 &  180 &  185 &  188 &  192 &  196 &  201 &  209 &  217\\\\\n\t 0 & 0 & 0 & 0 & 0 & 0 & 0 & 0 & 0 & 0 & ⋯ &   53 &   54 &   55 &   61 &   63 &   63 &   65 &   66 &   68 &   74\\\\\n\t 0 & 0 & 0 & 0 & 0 & 0 & 0 & 0 & 0 & 0 & ⋯ &  814 &  835 &  866 &  881 &  898 &  914 &  927 &  946 &  964 &  979\\\\\n\t 0 & 0 & 0 & 0 & 0 & 0 & 0 & 0 & 0 & 0 & ⋯ &  119 &  120 &  121 &  123 &  127 &  127 &  128 &  130 &  133 &  134\\\\\n\t 0 & 0 & 0 & 0 & 0 & 0 & 0 & 0 & 0 & 0 & ⋯ &   38 &   40 &   41 &   41 &   41 &   41 &   41 &   41 &   41 &   41\\\\\n\t 0 & 0 & 0 & 0 & 0 & 0 & 0 & 0 & 0 & 0 & ⋯ &   44 &   46 &   46 &   47 &   47 &   52 &   54 &   55 &   57 &   60\\\\\n\t 0 & 0 & 0 & 0 & 0 & 0 & 0 & 0 & 0 & 0 & ⋯ &  808 &  831 &  863 &  883 &  918 &  938 &  960 &  992 & 1037 & 1084\\\\\n\t 0 & 0 & 0 & 0 & 0 & 0 & 0 & 0 & 0 & 0 & ⋯ &  242 &  246 &  254 &  260 &  262 &  274 &  282 &  289 &  294 &  295\\\\\n\t 0 & 0 & 0 & 0 & 0 & 0 & 0 & 0 & 0 & 0 & ⋯ &  687 &  693 &  709 &  748 &  754 &  774 &  798 &  817 &  840 &  880\\\\\n\t 0 & 0 & 0 & 0 & 0 & 0 & 0 & 0 & 0 & 0 & ⋯ &    4 &    4 &    4 &    4 &    4 &    4 &    4 &    4 &    4 &    4\\\\\n\t 0 & 0 & 0 & 0 & 0 & 0 & 0 & 0 & 0 & 0 & ⋯ &    0 &    0 &    0 &    0 &    0 &    0 &    0 &    0 &    0 &    0\\\\\n\t 0 & 0 & 0 & 0 & 0 & 0 & 0 & 0 & 0 & 0 & ⋯ &  272 &  284 &  288 &  304 &  310 &  326 &  339 &  355 &  369 &  386\\\\\n\t 0 & 0 & 0 & 0 & 0 & 0 & 0 & 0 & 0 & 0 & ⋯ &   51 &   54 &   54 &   58 &   58 &   61 &   65 &   72 &   74 &   77\\\\\n\t 0 & 0 & 0 & 0 & 0 & 0 & 0 & 0 & 0 & 0 & ⋯ &  346 &  352 &  369 &  389 &  400 &  408 &  428 &  435 &  447 &  460\\\\\n\t 0 & 0 & 0 & 0 & 0 & 0 & 0 & 0 & 0 & 0 & ⋯ &  127 &  127 &  129 &  130 &  131 &  133 &  133 &  133 &  133 &  135\\\\\n\t 0 & 0 & 0 & 0 & 0 & 0 & 0 & 0 & 0 & 0 & ⋯ &  371 &  378 &  382 &  393 &  396 &  394 &  394 &  401 &  402 &  406\\\\\n\t 0 & 0 & 0 & 0 & 0 & 0 & 0 & 0 & 0 & 0 & ⋯ &  629 &  633 &  645 &  656 &  658 &  662 &  675 &  679 &  686 &  687\\\\\n\t 0 & 0 & 0 & 0 & 0 & 0 & 0 & 0 & 0 & 0 & ⋯ &  368 &  368 &  373 &  378 &  379 &  380 &  381 &  384 &  385 &  388\\\\\n\t 0 & 0 & 0 & 0 & 0 & 0 & 0 & 0 & 0 & 0 & ⋯ &    0 &    0 &    0 &   10 &    0 &    0 &    0 &    0 &    0 &    0\\\\\n\t 0 & 0 & 0 & 0 & 0 & 0 & 0 & 0 & 0 & 0 & ⋯ &  120 &  119 &  123 &  123 &  124 &  125 &  126 &  127 &  132 &  132\\\\\n\t 0 & 0 & 0 & 0 & 0 & 0 & 0 & 0 & 0 & 0 & ⋯ &   46 &   50 &   51 &   54 &   58 &   58 &   58 &   62 &   66 &   71\\\\\n\\end{tabular}\n",
            "text/markdown": "\nA tibble: 3340 × 268\n\n| 1/22/20 &lt;dbl&gt; | 1/23/20 &lt;dbl&gt; | 1/24/20 &lt;dbl&gt; | 1/25/20 &lt;dbl&gt; | 1/26/20 &lt;dbl&gt; | 1/27/20 &lt;dbl&gt; | 1/28/20 &lt;dbl&gt; | 1/29/20 &lt;dbl&gt; | 1/30/20 &lt;dbl&gt; | 1/31/20 &lt;dbl&gt; | ⋯ ⋯ | 10/6/20 &lt;dbl&gt; | 10/7/20 &lt;dbl&gt; | 10/8/20 &lt;dbl&gt; | 10/9/20 &lt;dbl&gt; | 10/10/20 &lt;dbl&gt; | 10/11/20 &lt;dbl&gt; | 10/12/20 &lt;dbl&gt; | 10/13/20 &lt;dbl&gt; | 10/14/20 &lt;dbl&gt; | 10/15/20 &lt;dbl&gt; |\n|---|---|---|---|---|---|---|---|---|---|---|---|---|---|---|---|---|---|---|---|---|\n| 0 | 0 | 0 | 0 | 0 | 0 | 0 | 0 | 0 | 0 | ⋯ | 1839 | 1852 | 1863 | 1882 | 1898 | 1905 | 1911 | 1924 | 1928 | 1949 |\n| 0 | 0 | 0 | 0 | 0 | 0 | 0 | 0 | 0 | 0 | ⋯ | 6116 | 6134 | 6141 | 6172 | 6190 | 6203 | 6220 | 6248 | 6270 | 6285 |\n| 0 | 0 | 0 | 0 | 0 | 0 | 0 | 0 | 0 | 0 | ⋯ |  923 |  927 |  927 |  939 |  942 |  942 |  944 |  951 |  950 |  965 |\n| 0 | 0 | 0 | 0 | 0 | 0 | 0 | 0 | 0 | 0 | ⋯ |  691 |  703 |  708 |  719 |  726 |  736 |  738 |  744 |  744 |  761 |\n| 0 | 0 | 0 | 0 | 0 | 0 | 0 | 0 | 0 | 0 | ⋯ | 1665 | 1673 | 1681 | 1689 | 1704 | 1713 | 1722 | 1742 | 1750 | 1768 |\n| 0 | 0 | 0 | 0 | 0 | 0 | 0 | 0 | 0 | 0 | ⋯ |  616 |  618 |  619 |  622 |  623 |  624 |  625 |  626 |  628 |  628 |\n| 0 | 0 | 0 | 0 | 0 | 0 | 0 | 0 | 0 | 0 | ⋯ |  928 |  933 |  932 |  943 |  952 |  958 |  962 |  968 |  977 |  982 |\n| 0 | 0 | 0 | 0 | 0 | 0 | 0 | 0 | 0 | 0 | ⋯ | 3730 | 3743 | 3752 | 3803 | 3823 | 3841 | 3861 | 3897 | 3922 | 3949 |\n| 0 | 0 | 0 | 0 | 0 | 0 | 0 | 0 | 0 | 0 | ⋯ | 1210 | 1211 | 1222 | 1238 | 1242 | 1242 | 1245 | 1254 | 1256 | 1260 |\n| 0 | 0 | 0 | 0 | 0 | 0 | 0 | 0 | 0 | 0 | ⋯ |  644 |  651 |  654 |  662 |  666 |  670 |  674 |  687 |  687 |  696 |\n| 0 | 0 | 0 | 0 | 0 | 0 | 0 | 0 | 0 | 0 | ⋯ | 1672 | 1679 | 1684 | 1701 | 1713 | 1722 | 1733 | 1738 | 1740 | 1756 |\n| 0 | 0 | 0 | 0 | 0 | 0 | 0 | 0 | 0 | 0 | ⋯ |  367 |  368 |  369 |  374 |  375 |  376 |  377 |  377 |  377 |  379 |\n| 0 | 0 | 0 | 0 | 0 | 0 | 0 | 0 | 0 | 0 | ⋯ | 1158 | 1166 | 1184 | 1203 | 1216 | 1219 | 1220 | 1223 | 1229 | 1236 |\n| 0 | 0 | 0 | 0 | 0 | 0 | 0 | 0 | 0 | 0 | ⋯ |  614 |  623 |  627 |  634 |  641 |  646 |  650 |  661 |  667 |  674 |\n| 0 | 0 | 0 | 0 | 0 | 0 | 0 | 0 | 0 | 0 | ⋯ |  436 |  448 |  449 |  452 |  467 |  468 |  469 |  475 |  483 |  489 |\n| 0 | 0 | 0 | 0 | 0 | 0 | 0 | 0 | 0 | 0 | ⋯ | 1482 | 1486 | 1497 | 1513 | 1521 | 1532 | 1543 | 1551 | 1568 | 1588 |\n| 0 | 0 | 0 | 0 | 0 | 0 | 0 | 0 | 0 | 0 | ⋯ | 1755 | 1765 | 1771 | 1787 | 1804 | 1813 | 1824 | 1832 | 1840 | 1851 |\n| 0 | 0 | 0 | 0 | 0 | 0 | 0 | 0 | 0 | 0 | ⋯ |  540 |  540 |  542 |  546 |  547 |  547 |  547 |  549 |  549 |  550 |\n| 0 | 0 | 0 | 0 | 0 | 0 | 0 | 0 | 0 | 0 | ⋯ |  179 |  180 |  183 |  186 |  187 |  187 |  188 |  189 |  190 |  191 |\n| 0 | 0 | 0 | 0 | 0 | 0 | 0 | 0 | 0 | 0 | ⋯ | 1486 | 1495 | 1514 | 1533 | 1541 | 1561 | 1570 | 1584 | 1585 | 1604 |\n| 0 | 0 | 0 | 0 | 0 | 0 | 0 | 0 | 0 | 0 | ⋯ |  550 |  554 |  554 |  559 |  562 |  566 |  567 |  570 |  574 |  573 |\n| 0 | 0 | 0 | 0 | 0 | 0 | 0 | 0 | 0 | 0 | ⋯ | 1978 | 1997 | 2001 | 2025 | 2036 | 2047 | 2073 | 2110 | 2132 | 2168 |\n| 0 | 0 | 0 | 0 | 0 | 0 | 0 | 0 | 0 | 0 | ⋯ | 1521 | 1526 | 1527 | 1534 | 1542 | 1548 | 1557 | 1561 | 1564 | 1580 |\n| 0 | 0 | 0 | 0 | 0 | 0 | 0 | 0 | 0 | 0 | ⋯ | 1809 | 1815 | 1817 | 1828 | 1829 | 1830 | 1832 | 1836 | 1837 | 1841 |\n| 0 | 0 | 0 | 0 | 0 | 0 | 0 | 0 | 0 | 0 | ⋯ | 2649 | 2700 | 2709 | 2769 | 2803 | 2838 | 2854 | 2913 | 2942 | 2996 |\n| 0 | 0 | 0 | 0 | 0 | 0 | 0 | 0 | 0 | 0 | ⋯ | 2844 | 2874 | 2889 | 2917 | 2945 | 2952 | 2967 | 2995 | 3009 | 3028 |\n| 0 | 0 | 0 | 0 | 0 | 0 | 0 | 0 | 0 | 0 | ⋯ | 1653 | 1662 | 1670 | 1680 | 1684 | 1684 | 1684 | 1690 | 1687 | 1691 |\n| 0 | 0 | 0 | 0 | 0 | 0 | 0 | 0 | 0 | 0 | ⋯ | 3699 | 3726 | 3726 | 3754 | 3769 | 3791 | 3806 | 3838 | 3869 | 3896 |\n| 0 | 0 | 0 | 0 | 0 | 0 | 0 | 0 | 0 | 0 | ⋯ |  490 |  490 |  490 |  491 |  497 |  511 |  515 |  518 |  520 |  525 |\n| 0 | 0 | 0 | 0 | 0 | 0 | 0 | 0 | 0 | 0 | ⋯ | 1856 | 1868 | 1871 | 1872 | 1886 | 1891 | 1896 | 1900 | 1916 | 1928 |\n| ⋮ | ⋮ | ⋮ | ⋮ | ⋮ | ⋮ | ⋮ | ⋮ | ⋮ | ⋮ | ⋱ | ⋮ | ⋮ | ⋮ | ⋮ | ⋮ | ⋮ | ⋮ | ⋮ | ⋮ | ⋮ |\n| 0 | 0 | 0 | 0 | 0 | 0 | 0 | 0 | 0 | 0 | ⋯ | 8289 | 8410 | 8597 | 8775 | 8887 | 8933 | 9003 | 9390 | 9532 | 9723 |\n| 0 | 0 | 0 | 0 | 0 | 0 | 0 | 0 | 0 | 0 | ⋯ | 1391 | 1430 | 1495 | 1518 | 1560 | 1604 | 1661 | 1689 | 1741 | 1806 |\n| 0 | 0 | 0 | 0 | 0 | 0 | 0 | 0 | 0 | 0 | ⋯ |  481 |  499 |  524 |  561 |  576 |  596 |  623 |  639 |  653 |  710 |\n| 0 | 0 | 0 | 0 | 0 | 0 | 0 | 0 | 0 | 0 | ⋯ | 5335 | 5508 | 5740 | 5886 | 6023 | 6173 | 6297 | 6494 | 6603 | 6831 |\n| 0 | 0 | 0 | 0 | 0 | 0 | 0 | 0 | 0 | 0 | ⋯ |  968 |  987 | 1013 | 1058 | 1088 | 1114 | 1132 | 1152 | 1182 | 1226 |\n| 0 | 0 | 0 | 0 | 0 | 0 | 0 | 0 | 0 | 0 | ⋯ |  732 |  747 |  771 |  811 |  826 |  855 |  898 |  914 |  942 |  959 |\n| 0 | 0 | 0 | 0 | 0 | 0 | 0 | 0 | 0 | 0 | ⋯ |   85 |   87 |   90 |   96 |  105 |  108 |  115 |  118 |  122 |  121 |\n| 0 | 0 | 0 | 0 | 0 | 0 | 0 | 0 | 0 | 0 | ⋯ |  400 |  412 |  427 |  445 |  453 |  467 |  479 |  487 |  510 |  522 |\n| 0 | 0 | 0 | 0 | 0 | 0 | 0 | 0 | 0 | 0 | ⋯ |  245 |  247 |  251 |  255 |  255 |  255 |  256 |  256 |  262 |  263 |\n| 0 | 0 | 0 | 0 | 0 | 0 | 0 | 0 | 0 | 0 | ⋯ |  169 |  172 |  180 |  185 |  188 |  192 |  196 |  201 |  209 |  217 |\n| 0 | 0 | 0 | 0 | 0 | 0 | 0 | 0 | 0 | 0 | ⋯ |   53 |   54 |   55 |   61 |   63 |   63 |   65 |   66 |   68 |   74 |\n| 0 | 0 | 0 | 0 | 0 | 0 | 0 | 0 | 0 | 0 | ⋯ |  814 |  835 |  866 |  881 |  898 |  914 |  927 |  946 |  964 |  979 |\n| 0 | 0 | 0 | 0 | 0 | 0 | 0 | 0 | 0 | 0 | ⋯ |  119 |  120 |  121 |  123 |  127 |  127 |  128 |  130 |  133 |  134 |\n| 0 | 0 | 0 | 0 | 0 | 0 | 0 | 0 | 0 | 0 | ⋯ |   38 |   40 |   41 |   41 |   41 |   41 |   41 |   41 |   41 |   41 |\n| 0 | 0 | 0 | 0 | 0 | 0 | 0 | 0 | 0 | 0 | ⋯ |   44 |   46 |   46 |   47 |   47 |   52 |   54 |   55 |   57 |   60 |\n| 0 | 0 | 0 | 0 | 0 | 0 | 0 | 0 | 0 | 0 | ⋯ |  808 |  831 |  863 |  883 |  918 |  938 |  960 |  992 | 1037 | 1084 |\n| 0 | 0 | 0 | 0 | 0 | 0 | 0 | 0 | 0 | 0 | ⋯ |  242 |  246 |  254 |  260 |  262 |  274 |  282 |  289 |  294 |  295 |\n| 0 | 0 | 0 | 0 | 0 | 0 | 0 | 0 | 0 | 0 | ⋯ |  687 |  693 |  709 |  748 |  754 |  774 |  798 |  817 |  840 |  880 |\n| 0 | 0 | 0 | 0 | 0 | 0 | 0 | 0 | 0 | 0 | ⋯ |    4 |    4 |    4 |    4 |    4 |    4 |    4 |    4 |    4 |    4 |\n| 0 | 0 | 0 | 0 | 0 | 0 | 0 | 0 | 0 | 0 | ⋯ |    0 |    0 |    0 |    0 |    0 |    0 |    0 |    0 |    0 |    0 |\n| 0 | 0 | 0 | 0 | 0 | 0 | 0 | 0 | 0 | 0 | ⋯ |  272 |  284 |  288 |  304 |  310 |  326 |  339 |  355 |  369 |  386 |\n| 0 | 0 | 0 | 0 | 0 | 0 | 0 | 0 | 0 | 0 | ⋯ |   51 |   54 |   54 |   58 |   58 |   61 |   65 |   72 |   74 |   77 |\n| 0 | 0 | 0 | 0 | 0 | 0 | 0 | 0 | 0 | 0 | ⋯ |  346 |  352 |  369 |  389 |  400 |  408 |  428 |  435 |  447 |  460 |\n| 0 | 0 | 0 | 0 | 0 | 0 | 0 | 0 | 0 | 0 | ⋯ |  127 |  127 |  129 |  130 |  131 |  133 |  133 |  133 |  133 |  135 |\n| 0 | 0 | 0 | 0 | 0 | 0 | 0 | 0 | 0 | 0 | ⋯ |  371 |  378 |  382 |  393 |  396 |  394 |  394 |  401 |  402 |  406 |\n| 0 | 0 | 0 | 0 | 0 | 0 | 0 | 0 | 0 | 0 | ⋯ |  629 |  633 |  645 |  656 |  658 |  662 |  675 |  679 |  686 |  687 |\n| 0 | 0 | 0 | 0 | 0 | 0 | 0 | 0 | 0 | 0 | ⋯ |  368 |  368 |  373 |  378 |  379 |  380 |  381 |  384 |  385 |  388 |\n| 0 | 0 | 0 | 0 | 0 | 0 | 0 | 0 | 0 | 0 | ⋯ |    0 |    0 |    0 |   10 |    0 |    0 |    0 |    0 |    0 |    0 |\n| 0 | 0 | 0 | 0 | 0 | 0 | 0 | 0 | 0 | 0 | ⋯ |  120 |  119 |  123 |  123 |  124 |  125 |  126 |  127 |  132 |  132 |\n| 0 | 0 | 0 | 0 | 0 | 0 | 0 | 0 | 0 | 0 | ⋯ |   46 |   50 |   51 |   54 |   58 |   58 |   58 |   62 |   66 |   71 |\n\n",
            "text/html": [
              "<table>\n",
              "<caption>A tibble: 3340 × 268</caption>\n",
              "<thead>\n",
              "\t<tr><th scope=col>1/22/20</th><th scope=col>1/23/20</th><th scope=col>1/24/20</th><th scope=col>1/25/20</th><th scope=col>1/26/20</th><th scope=col>1/27/20</th><th scope=col>1/28/20</th><th scope=col>1/29/20</th><th scope=col>1/30/20</th><th scope=col>1/31/20</th><th scope=col>⋯</th><th scope=col>10/6/20</th><th scope=col>10/7/20</th><th scope=col>10/8/20</th><th scope=col>10/9/20</th><th scope=col>10/10/20</th><th scope=col>10/11/20</th><th scope=col>10/12/20</th><th scope=col>10/13/20</th><th scope=col>10/14/20</th><th scope=col>10/15/20</th></tr>\n",
              "\t<tr><th scope=col>&lt;dbl&gt;</th><th scope=col>&lt;dbl&gt;</th><th scope=col>&lt;dbl&gt;</th><th scope=col>&lt;dbl&gt;</th><th scope=col>&lt;dbl&gt;</th><th scope=col>&lt;dbl&gt;</th><th scope=col>&lt;dbl&gt;</th><th scope=col>&lt;dbl&gt;</th><th scope=col>&lt;dbl&gt;</th><th scope=col>&lt;dbl&gt;</th><th scope=col>⋯</th><th scope=col>&lt;dbl&gt;</th><th scope=col>&lt;dbl&gt;</th><th scope=col>&lt;dbl&gt;</th><th scope=col>&lt;dbl&gt;</th><th scope=col>&lt;dbl&gt;</th><th scope=col>&lt;dbl&gt;</th><th scope=col>&lt;dbl&gt;</th><th scope=col>&lt;dbl&gt;</th><th scope=col>&lt;dbl&gt;</th><th scope=col>&lt;dbl&gt;</th></tr>\n",
              "</thead>\n",
              "<tbody>\n",
              "\t<tr><td>0</td><td>0</td><td>0</td><td>0</td><td>0</td><td>0</td><td>0</td><td>0</td><td>0</td><td>0</td><td>⋯</td><td>1839</td><td>1852</td><td>1863</td><td>1882</td><td>1898</td><td>1905</td><td>1911</td><td>1924</td><td>1928</td><td>1949</td></tr>\n",
              "\t<tr><td>0</td><td>0</td><td>0</td><td>0</td><td>0</td><td>0</td><td>0</td><td>0</td><td>0</td><td>0</td><td>⋯</td><td>6116</td><td>6134</td><td>6141</td><td>6172</td><td>6190</td><td>6203</td><td>6220</td><td>6248</td><td>6270</td><td>6285</td></tr>\n",
              "\t<tr><td>0</td><td>0</td><td>0</td><td>0</td><td>0</td><td>0</td><td>0</td><td>0</td><td>0</td><td>0</td><td>⋯</td><td> 923</td><td> 927</td><td> 927</td><td> 939</td><td> 942</td><td> 942</td><td> 944</td><td> 951</td><td> 950</td><td> 965</td></tr>\n",
              "\t<tr><td>0</td><td>0</td><td>0</td><td>0</td><td>0</td><td>0</td><td>0</td><td>0</td><td>0</td><td>0</td><td>⋯</td><td> 691</td><td> 703</td><td> 708</td><td> 719</td><td> 726</td><td> 736</td><td> 738</td><td> 744</td><td> 744</td><td> 761</td></tr>\n",
              "\t<tr><td>0</td><td>0</td><td>0</td><td>0</td><td>0</td><td>0</td><td>0</td><td>0</td><td>0</td><td>0</td><td>⋯</td><td>1665</td><td>1673</td><td>1681</td><td>1689</td><td>1704</td><td>1713</td><td>1722</td><td>1742</td><td>1750</td><td>1768</td></tr>\n",
              "\t<tr><td>0</td><td>0</td><td>0</td><td>0</td><td>0</td><td>0</td><td>0</td><td>0</td><td>0</td><td>0</td><td>⋯</td><td> 616</td><td> 618</td><td> 619</td><td> 622</td><td> 623</td><td> 624</td><td> 625</td><td> 626</td><td> 628</td><td> 628</td></tr>\n",
              "\t<tr><td>0</td><td>0</td><td>0</td><td>0</td><td>0</td><td>0</td><td>0</td><td>0</td><td>0</td><td>0</td><td>⋯</td><td> 928</td><td> 933</td><td> 932</td><td> 943</td><td> 952</td><td> 958</td><td> 962</td><td> 968</td><td> 977</td><td> 982</td></tr>\n",
              "\t<tr><td>0</td><td>0</td><td>0</td><td>0</td><td>0</td><td>0</td><td>0</td><td>0</td><td>0</td><td>0</td><td>⋯</td><td>3730</td><td>3743</td><td>3752</td><td>3803</td><td>3823</td><td>3841</td><td>3861</td><td>3897</td><td>3922</td><td>3949</td></tr>\n",
              "\t<tr><td>0</td><td>0</td><td>0</td><td>0</td><td>0</td><td>0</td><td>0</td><td>0</td><td>0</td><td>0</td><td>⋯</td><td>1210</td><td>1211</td><td>1222</td><td>1238</td><td>1242</td><td>1242</td><td>1245</td><td>1254</td><td>1256</td><td>1260</td></tr>\n",
              "\t<tr><td>0</td><td>0</td><td>0</td><td>0</td><td>0</td><td>0</td><td>0</td><td>0</td><td>0</td><td>0</td><td>⋯</td><td> 644</td><td> 651</td><td> 654</td><td> 662</td><td> 666</td><td> 670</td><td> 674</td><td> 687</td><td> 687</td><td> 696</td></tr>\n",
              "\t<tr><td>0</td><td>0</td><td>0</td><td>0</td><td>0</td><td>0</td><td>0</td><td>0</td><td>0</td><td>0</td><td>⋯</td><td>1672</td><td>1679</td><td>1684</td><td>1701</td><td>1713</td><td>1722</td><td>1733</td><td>1738</td><td>1740</td><td>1756</td></tr>\n",
              "\t<tr><td>0</td><td>0</td><td>0</td><td>0</td><td>0</td><td>0</td><td>0</td><td>0</td><td>0</td><td>0</td><td>⋯</td><td> 367</td><td> 368</td><td> 369</td><td> 374</td><td> 375</td><td> 376</td><td> 377</td><td> 377</td><td> 377</td><td> 379</td></tr>\n",
              "\t<tr><td>0</td><td>0</td><td>0</td><td>0</td><td>0</td><td>0</td><td>0</td><td>0</td><td>0</td><td>0</td><td>⋯</td><td>1158</td><td>1166</td><td>1184</td><td>1203</td><td>1216</td><td>1219</td><td>1220</td><td>1223</td><td>1229</td><td>1236</td></tr>\n",
              "\t<tr><td>0</td><td>0</td><td>0</td><td>0</td><td>0</td><td>0</td><td>0</td><td>0</td><td>0</td><td>0</td><td>⋯</td><td> 614</td><td> 623</td><td> 627</td><td> 634</td><td> 641</td><td> 646</td><td> 650</td><td> 661</td><td> 667</td><td> 674</td></tr>\n",
              "\t<tr><td>0</td><td>0</td><td>0</td><td>0</td><td>0</td><td>0</td><td>0</td><td>0</td><td>0</td><td>0</td><td>⋯</td><td> 436</td><td> 448</td><td> 449</td><td> 452</td><td> 467</td><td> 468</td><td> 469</td><td> 475</td><td> 483</td><td> 489</td></tr>\n",
              "\t<tr><td>0</td><td>0</td><td>0</td><td>0</td><td>0</td><td>0</td><td>0</td><td>0</td><td>0</td><td>0</td><td>⋯</td><td>1482</td><td>1486</td><td>1497</td><td>1513</td><td>1521</td><td>1532</td><td>1543</td><td>1551</td><td>1568</td><td>1588</td></tr>\n",
              "\t<tr><td>0</td><td>0</td><td>0</td><td>0</td><td>0</td><td>0</td><td>0</td><td>0</td><td>0</td><td>0</td><td>⋯</td><td>1755</td><td>1765</td><td>1771</td><td>1787</td><td>1804</td><td>1813</td><td>1824</td><td>1832</td><td>1840</td><td>1851</td></tr>\n",
              "\t<tr><td>0</td><td>0</td><td>0</td><td>0</td><td>0</td><td>0</td><td>0</td><td>0</td><td>0</td><td>0</td><td>⋯</td><td> 540</td><td> 540</td><td> 542</td><td> 546</td><td> 547</td><td> 547</td><td> 547</td><td> 549</td><td> 549</td><td> 550</td></tr>\n",
              "\t<tr><td>0</td><td>0</td><td>0</td><td>0</td><td>0</td><td>0</td><td>0</td><td>0</td><td>0</td><td>0</td><td>⋯</td><td> 179</td><td> 180</td><td> 183</td><td> 186</td><td> 187</td><td> 187</td><td> 188</td><td> 189</td><td> 190</td><td> 191</td></tr>\n",
              "\t<tr><td>0</td><td>0</td><td>0</td><td>0</td><td>0</td><td>0</td><td>0</td><td>0</td><td>0</td><td>0</td><td>⋯</td><td>1486</td><td>1495</td><td>1514</td><td>1533</td><td>1541</td><td>1561</td><td>1570</td><td>1584</td><td>1585</td><td>1604</td></tr>\n",
              "\t<tr><td>0</td><td>0</td><td>0</td><td>0</td><td>0</td><td>0</td><td>0</td><td>0</td><td>0</td><td>0</td><td>⋯</td><td> 550</td><td> 554</td><td> 554</td><td> 559</td><td> 562</td><td> 566</td><td> 567</td><td> 570</td><td> 574</td><td> 573</td></tr>\n",
              "\t<tr><td>0</td><td>0</td><td>0</td><td>0</td><td>0</td><td>0</td><td>0</td><td>0</td><td>0</td><td>0</td><td>⋯</td><td>1978</td><td>1997</td><td>2001</td><td>2025</td><td>2036</td><td>2047</td><td>2073</td><td>2110</td><td>2132</td><td>2168</td></tr>\n",
              "\t<tr><td>0</td><td>0</td><td>0</td><td>0</td><td>0</td><td>0</td><td>0</td><td>0</td><td>0</td><td>0</td><td>⋯</td><td>1521</td><td>1526</td><td>1527</td><td>1534</td><td>1542</td><td>1548</td><td>1557</td><td>1561</td><td>1564</td><td>1580</td></tr>\n",
              "\t<tr><td>0</td><td>0</td><td>0</td><td>0</td><td>0</td><td>0</td><td>0</td><td>0</td><td>0</td><td>0</td><td>⋯</td><td>1809</td><td>1815</td><td>1817</td><td>1828</td><td>1829</td><td>1830</td><td>1832</td><td>1836</td><td>1837</td><td>1841</td></tr>\n",
              "\t<tr><td>0</td><td>0</td><td>0</td><td>0</td><td>0</td><td>0</td><td>0</td><td>0</td><td>0</td><td>0</td><td>⋯</td><td>2649</td><td>2700</td><td>2709</td><td>2769</td><td>2803</td><td>2838</td><td>2854</td><td>2913</td><td>2942</td><td>2996</td></tr>\n",
              "\t<tr><td>0</td><td>0</td><td>0</td><td>0</td><td>0</td><td>0</td><td>0</td><td>0</td><td>0</td><td>0</td><td>⋯</td><td>2844</td><td>2874</td><td>2889</td><td>2917</td><td>2945</td><td>2952</td><td>2967</td><td>2995</td><td>3009</td><td>3028</td></tr>\n",
              "\t<tr><td>0</td><td>0</td><td>0</td><td>0</td><td>0</td><td>0</td><td>0</td><td>0</td><td>0</td><td>0</td><td>⋯</td><td>1653</td><td>1662</td><td>1670</td><td>1680</td><td>1684</td><td>1684</td><td>1684</td><td>1690</td><td>1687</td><td>1691</td></tr>\n",
              "\t<tr><td>0</td><td>0</td><td>0</td><td>0</td><td>0</td><td>0</td><td>0</td><td>0</td><td>0</td><td>0</td><td>⋯</td><td>3699</td><td>3726</td><td>3726</td><td>3754</td><td>3769</td><td>3791</td><td>3806</td><td>3838</td><td>3869</td><td>3896</td></tr>\n",
              "\t<tr><td>0</td><td>0</td><td>0</td><td>0</td><td>0</td><td>0</td><td>0</td><td>0</td><td>0</td><td>0</td><td>⋯</td><td> 490</td><td> 490</td><td> 490</td><td> 491</td><td> 497</td><td> 511</td><td> 515</td><td> 518</td><td> 520</td><td> 525</td></tr>\n",
              "\t<tr><td>0</td><td>0</td><td>0</td><td>0</td><td>0</td><td>0</td><td>0</td><td>0</td><td>0</td><td>0</td><td>⋯</td><td>1856</td><td>1868</td><td>1871</td><td>1872</td><td>1886</td><td>1891</td><td>1896</td><td>1900</td><td>1916</td><td>1928</td></tr>\n",
              "\t<tr><td>⋮</td><td>⋮</td><td>⋮</td><td>⋮</td><td>⋮</td><td>⋮</td><td>⋮</td><td>⋮</td><td>⋮</td><td>⋮</td><td>⋱</td><td>⋮</td><td>⋮</td><td>⋮</td><td>⋮</td><td>⋮</td><td>⋮</td><td>⋮</td><td>⋮</td><td>⋮</td><td>⋮</td></tr>\n",
              "\t<tr><td>0</td><td>0</td><td>0</td><td>0</td><td>0</td><td>0</td><td>0</td><td>0</td><td>0</td><td>0</td><td>⋯</td><td>8289</td><td>8410</td><td>8597</td><td>8775</td><td>8887</td><td>8933</td><td>9003</td><td>9390</td><td>9532</td><td>9723</td></tr>\n",
              "\t<tr><td>0</td><td>0</td><td>0</td><td>0</td><td>0</td><td>0</td><td>0</td><td>0</td><td>0</td><td>0</td><td>⋯</td><td>1391</td><td>1430</td><td>1495</td><td>1518</td><td>1560</td><td>1604</td><td>1661</td><td>1689</td><td>1741</td><td>1806</td></tr>\n",
              "\t<tr><td>0</td><td>0</td><td>0</td><td>0</td><td>0</td><td>0</td><td>0</td><td>0</td><td>0</td><td>0</td><td>⋯</td><td> 481</td><td> 499</td><td> 524</td><td> 561</td><td> 576</td><td> 596</td><td> 623</td><td> 639</td><td> 653</td><td> 710</td></tr>\n",
              "\t<tr><td>0</td><td>0</td><td>0</td><td>0</td><td>0</td><td>0</td><td>0</td><td>0</td><td>0</td><td>0</td><td>⋯</td><td>5335</td><td>5508</td><td>5740</td><td>5886</td><td>6023</td><td>6173</td><td>6297</td><td>6494</td><td>6603</td><td>6831</td></tr>\n",
              "\t<tr><td>0</td><td>0</td><td>0</td><td>0</td><td>0</td><td>0</td><td>0</td><td>0</td><td>0</td><td>0</td><td>⋯</td><td> 968</td><td> 987</td><td>1013</td><td>1058</td><td>1088</td><td>1114</td><td>1132</td><td>1152</td><td>1182</td><td>1226</td></tr>\n",
              "\t<tr><td>0</td><td>0</td><td>0</td><td>0</td><td>0</td><td>0</td><td>0</td><td>0</td><td>0</td><td>0</td><td>⋯</td><td> 732</td><td> 747</td><td> 771</td><td> 811</td><td> 826</td><td> 855</td><td> 898</td><td> 914</td><td> 942</td><td> 959</td></tr>\n",
              "\t<tr><td>0</td><td>0</td><td>0</td><td>0</td><td>0</td><td>0</td><td>0</td><td>0</td><td>0</td><td>0</td><td>⋯</td><td>  85</td><td>  87</td><td>  90</td><td>  96</td><td> 105</td><td> 108</td><td> 115</td><td> 118</td><td> 122</td><td> 121</td></tr>\n",
              "\t<tr><td>0</td><td>0</td><td>0</td><td>0</td><td>0</td><td>0</td><td>0</td><td>0</td><td>0</td><td>0</td><td>⋯</td><td> 400</td><td> 412</td><td> 427</td><td> 445</td><td> 453</td><td> 467</td><td> 479</td><td> 487</td><td> 510</td><td> 522</td></tr>\n",
              "\t<tr><td>0</td><td>0</td><td>0</td><td>0</td><td>0</td><td>0</td><td>0</td><td>0</td><td>0</td><td>0</td><td>⋯</td><td> 245</td><td> 247</td><td> 251</td><td> 255</td><td> 255</td><td> 255</td><td> 256</td><td> 256</td><td> 262</td><td> 263</td></tr>\n",
              "\t<tr><td>0</td><td>0</td><td>0</td><td>0</td><td>0</td><td>0</td><td>0</td><td>0</td><td>0</td><td>0</td><td>⋯</td><td> 169</td><td> 172</td><td> 180</td><td> 185</td><td> 188</td><td> 192</td><td> 196</td><td> 201</td><td> 209</td><td> 217</td></tr>\n",
              "\t<tr><td>0</td><td>0</td><td>0</td><td>0</td><td>0</td><td>0</td><td>0</td><td>0</td><td>0</td><td>0</td><td>⋯</td><td>  53</td><td>  54</td><td>  55</td><td>  61</td><td>  63</td><td>  63</td><td>  65</td><td>  66</td><td>  68</td><td>  74</td></tr>\n",
              "\t<tr><td>0</td><td>0</td><td>0</td><td>0</td><td>0</td><td>0</td><td>0</td><td>0</td><td>0</td><td>0</td><td>⋯</td><td> 814</td><td> 835</td><td> 866</td><td> 881</td><td> 898</td><td> 914</td><td> 927</td><td> 946</td><td> 964</td><td> 979</td></tr>\n",
              "\t<tr><td>0</td><td>0</td><td>0</td><td>0</td><td>0</td><td>0</td><td>0</td><td>0</td><td>0</td><td>0</td><td>⋯</td><td> 119</td><td> 120</td><td> 121</td><td> 123</td><td> 127</td><td> 127</td><td> 128</td><td> 130</td><td> 133</td><td> 134</td></tr>\n",
              "\t<tr><td>0</td><td>0</td><td>0</td><td>0</td><td>0</td><td>0</td><td>0</td><td>0</td><td>0</td><td>0</td><td>⋯</td><td>  38</td><td>  40</td><td>  41</td><td>  41</td><td>  41</td><td>  41</td><td>  41</td><td>  41</td><td>  41</td><td>  41</td></tr>\n",
              "\t<tr><td>0</td><td>0</td><td>0</td><td>0</td><td>0</td><td>0</td><td>0</td><td>0</td><td>0</td><td>0</td><td>⋯</td><td>  44</td><td>  46</td><td>  46</td><td>  47</td><td>  47</td><td>  52</td><td>  54</td><td>  55</td><td>  57</td><td>  60</td></tr>\n",
              "\t<tr><td>0</td><td>0</td><td>0</td><td>0</td><td>0</td><td>0</td><td>0</td><td>0</td><td>0</td><td>0</td><td>⋯</td><td> 808</td><td> 831</td><td> 863</td><td> 883</td><td> 918</td><td> 938</td><td> 960</td><td> 992</td><td>1037</td><td>1084</td></tr>\n",
              "\t<tr><td>0</td><td>0</td><td>0</td><td>0</td><td>0</td><td>0</td><td>0</td><td>0</td><td>0</td><td>0</td><td>⋯</td><td> 242</td><td> 246</td><td> 254</td><td> 260</td><td> 262</td><td> 274</td><td> 282</td><td> 289</td><td> 294</td><td> 295</td></tr>\n",
              "\t<tr><td>0</td><td>0</td><td>0</td><td>0</td><td>0</td><td>0</td><td>0</td><td>0</td><td>0</td><td>0</td><td>⋯</td><td> 687</td><td> 693</td><td> 709</td><td> 748</td><td> 754</td><td> 774</td><td> 798</td><td> 817</td><td> 840</td><td> 880</td></tr>\n",
              "\t<tr><td>0</td><td>0</td><td>0</td><td>0</td><td>0</td><td>0</td><td>0</td><td>0</td><td>0</td><td>0</td><td>⋯</td><td>   4</td><td>   4</td><td>   4</td><td>   4</td><td>   4</td><td>   4</td><td>   4</td><td>   4</td><td>   4</td><td>   4</td></tr>\n",
              "\t<tr><td>0</td><td>0</td><td>0</td><td>0</td><td>0</td><td>0</td><td>0</td><td>0</td><td>0</td><td>0</td><td>⋯</td><td>   0</td><td>   0</td><td>   0</td><td>   0</td><td>   0</td><td>   0</td><td>   0</td><td>   0</td><td>   0</td><td>   0</td></tr>\n",
              "\t<tr><td>0</td><td>0</td><td>0</td><td>0</td><td>0</td><td>0</td><td>0</td><td>0</td><td>0</td><td>0</td><td>⋯</td><td> 272</td><td> 284</td><td> 288</td><td> 304</td><td> 310</td><td> 326</td><td> 339</td><td> 355</td><td> 369</td><td> 386</td></tr>\n",
              "\t<tr><td>0</td><td>0</td><td>0</td><td>0</td><td>0</td><td>0</td><td>0</td><td>0</td><td>0</td><td>0</td><td>⋯</td><td>  51</td><td>  54</td><td>  54</td><td>  58</td><td>  58</td><td>  61</td><td>  65</td><td>  72</td><td>  74</td><td>  77</td></tr>\n",
              "\t<tr><td>0</td><td>0</td><td>0</td><td>0</td><td>0</td><td>0</td><td>0</td><td>0</td><td>0</td><td>0</td><td>⋯</td><td> 346</td><td> 352</td><td> 369</td><td> 389</td><td> 400</td><td> 408</td><td> 428</td><td> 435</td><td> 447</td><td> 460</td></tr>\n",
              "\t<tr><td>0</td><td>0</td><td>0</td><td>0</td><td>0</td><td>0</td><td>0</td><td>0</td><td>0</td><td>0</td><td>⋯</td><td> 127</td><td> 127</td><td> 129</td><td> 130</td><td> 131</td><td> 133</td><td> 133</td><td> 133</td><td> 133</td><td> 135</td></tr>\n",
              "\t<tr><td>0</td><td>0</td><td>0</td><td>0</td><td>0</td><td>0</td><td>0</td><td>0</td><td>0</td><td>0</td><td>⋯</td><td> 371</td><td> 378</td><td> 382</td><td> 393</td><td> 396</td><td> 394</td><td> 394</td><td> 401</td><td> 402</td><td> 406</td></tr>\n",
              "\t<tr><td>0</td><td>0</td><td>0</td><td>0</td><td>0</td><td>0</td><td>0</td><td>0</td><td>0</td><td>0</td><td>⋯</td><td> 629</td><td> 633</td><td> 645</td><td> 656</td><td> 658</td><td> 662</td><td> 675</td><td> 679</td><td> 686</td><td> 687</td></tr>\n",
              "\t<tr><td>0</td><td>0</td><td>0</td><td>0</td><td>0</td><td>0</td><td>0</td><td>0</td><td>0</td><td>0</td><td>⋯</td><td> 368</td><td> 368</td><td> 373</td><td> 378</td><td> 379</td><td> 380</td><td> 381</td><td> 384</td><td> 385</td><td> 388</td></tr>\n",
              "\t<tr><td>0</td><td>0</td><td>0</td><td>0</td><td>0</td><td>0</td><td>0</td><td>0</td><td>0</td><td>0</td><td>⋯</td><td>   0</td><td>   0</td><td>   0</td><td>  10</td><td>   0</td><td>   0</td><td>   0</td><td>   0</td><td>   0</td><td>   0</td></tr>\n",
              "\t<tr><td>0</td><td>0</td><td>0</td><td>0</td><td>0</td><td>0</td><td>0</td><td>0</td><td>0</td><td>0</td><td>⋯</td><td> 120</td><td> 119</td><td> 123</td><td> 123</td><td> 124</td><td> 125</td><td> 126</td><td> 127</td><td> 132</td><td> 132</td></tr>\n",
              "\t<tr><td>0</td><td>0</td><td>0</td><td>0</td><td>0</td><td>0</td><td>0</td><td>0</td><td>0</td><td>0</td><td>⋯</td><td>  46</td><td>  50</td><td>  51</td><td>  54</td><td>  58</td><td>  58</td><td>  58</td><td>  62</td><td>  66</td><td>  71</td></tr>\n",
              "</tbody>\n",
              "</table>\n"
            ]
          },
          "metadata": {
            "tags": []
          }
        }
      ]
    },
    {
      "cell_type": "markdown",
      "metadata": {
        "id": "0kgzijT1YFp-"
      },
      "source": [
        "## Rotate the data so that daa of each county is in one column"
      ]
    },
    {
      "cell_type": "code",
      "metadata": {
        "id": "EiMOZzu3aHTk",
        "outputId": "bb414ae5-208b-484d-b685-2439d0be33ce",
        "colab": {
          "base_uri": "https://localhost:8080/",
          "height": 204
        }
      },
      "source": [
        "# We need save the data into a new variable 'tb1' so that computer can remember it\n",
        "tb1 <- tb %>% dplyr::select(12:length(tb[1,])) %>% as.matrix()\n",
        "tb1 = as.data.frame(t(tb1)) #transpose, then convert to a dataframe\n",
        "head(tb1)"
      ],
      "execution_count": 319,
      "outputs": [
        {
          "output_type": "display_data",
          "data": {
            "text/plain": [
              "        V1 V2 V3 V4 V5 V6 V7 V8 V9 V10 ⋯ V3331 V3332 V3333 V3334 V3335 V3336\n",
              "1/22/20 0  0  0  0  0  0  0  0  0  0   ⋯ 0     0     0     0     0     0    \n",
              "1/23/20 0  0  0  0  0  0  0  0  0  0   ⋯ 0     0     0     0     0     0    \n",
              "1/24/20 0  0  0  0  0  0  0  0  0  0   ⋯ 0     0     0     0     0     0    \n",
              "1/25/20 0  0  0  0  0  0  0  0  0  0   ⋯ 0     0     0     0     0     0    \n",
              "1/26/20 0  0  0  0  0  0  0  0  0  0   ⋯ 0     0     0     0     0     0    \n",
              "1/27/20 0  0  0  0  0  0  0  0  0  0   ⋯ 0     0     0     0     0     0    \n",
              "        V3337 V3338 V3339 V3340\n",
              "1/22/20 0     0     0     0    \n",
              "1/23/20 0     0     0     0    \n",
              "1/24/20 0     0     0     0    \n",
              "1/25/20 0     0     0     0    \n",
              "1/26/20 0     0     0     0    \n",
              "1/27/20 0     0     0     0    "
            ],
            "text/latex": "A data.frame: 6 × 3340\n\\begin{tabular}{r|lllllllllllllllllllll}\n  & V1 & V2 & V3 & V4 & V5 & V6 & V7 & V8 & V9 & V10 & ⋯ & V3331 & V3332 & V3333 & V3334 & V3335 & V3336 & V3337 & V3338 & V3339 & V3340\\\\\n  & <dbl> & <dbl> & <dbl> & <dbl> & <dbl> & <dbl> & <dbl> & <dbl> & <dbl> & <dbl> & ⋯ & <dbl> & <dbl> & <dbl> & <dbl> & <dbl> & <dbl> & <dbl> & <dbl> & <dbl> & <dbl>\\\\\n\\hline\n\t1/22/20 & 0 & 0 & 0 & 0 & 0 & 0 & 0 & 0 & 0 & 0 & ⋯ & 0 & 0 & 0 & 0 & 0 & 0 & 0 & 0 & 0 & 0\\\\\n\t1/23/20 & 0 & 0 & 0 & 0 & 0 & 0 & 0 & 0 & 0 & 0 & ⋯ & 0 & 0 & 0 & 0 & 0 & 0 & 0 & 0 & 0 & 0\\\\\n\t1/24/20 & 0 & 0 & 0 & 0 & 0 & 0 & 0 & 0 & 0 & 0 & ⋯ & 0 & 0 & 0 & 0 & 0 & 0 & 0 & 0 & 0 & 0\\\\\n\t1/25/20 & 0 & 0 & 0 & 0 & 0 & 0 & 0 & 0 & 0 & 0 & ⋯ & 0 & 0 & 0 & 0 & 0 & 0 & 0 & 0 & 0 & 0\\\\\n\t1/26/20 & 0 & 0 & 0 & 0 & 0 & 0 & 0 & 0 & 0 & 0 & ⋯ & 0 & 0 & 0 & 0 & 0 & 0 & 0 & 0 & 0 & 0\\\\\n\t1/27/20 & 0 & 0 & 0 & 0 & 0 & 0 & 0 & 0 & 0 & 0 & ⋯ & 0 & 0 & 0 & 0 & 0 & 0 & 0 & 0 & 0 & 0\\\\\n\\end{tabular}\n",
            "text/markdown": "\nA data.frame: 6 × 3340\n\n| <!--/--> | V1 &lt;dbl&gt; | V2 &lt;dbl&gt; | V3 &lt;dbl&gt; | V4 &lt;dbl&gt; | V5 &lt;dbl&gt; | V6 &lt;dbl&gt; | V7 &lt;dbl&gt; | V8 &lt;dbl&gt; | V9 &lt;dbl&gt; | V10 &lt;dbl&gt; | ⋯ ⋯ | V3331 &lt;dbl&gt; | V3332 &lt;dbl&gt; | V3333 &lt;dbl&gt; | V3334 &lt;dbl&gt; | V3335 &lt;dbl&gt; | V3336 &lt;dbl&gt; | V3337 &lt;dbl&gt; | V3338 &lt;dbl&gt; | V3339 &lt;dbl&gt; | V3340 &lt;dbl&gt; |\n|---|---|---|---|---|---|---|---|---|---|---|---|---|---|---|---|---|---|---|---|---|---|\n| 1/22/20 | 0 | 0 | 0 | 0 | 0 | 0 | 0 | 0 | 0 | 0 | ⋯ | 0 | 0 | 0 | 0 | 0 | 0 | 0 | 0 | 0 | 0 |\n| 1/23/20 | 0 | 0 | 0 | 0 | 0 | 0 | 0 | 0 | 0 | 0 | ⋯ | 0 | 0 | 0 | 0 | 0 | 0 | 0 | 0 | 0 | 0 |\n| 1/24/20 | 0 | 0 | 0 | 0 | 0 | 0 | 0 | 0 | 0 | 0 | ⋯ | 0 | 0 | 0 | 0 | 0 | 0 | 0 | 0 | 0 | 0 |\n| 1/25/20 | 0 | 0 | 0 | 0 | 0 | 0 | 0 | 0 | 0 | 0 | ⋯ | 0 | 0 | 0 | 0 | 0 | 0 | 0 | 0 | 0 | 0 |\n| 1/26/20 | 0 | 0 | 0 | 0 | 0 | 0 | 0 | 0 | 0 | 0 | ⋯ | 0 | 0 | 0 | 0 | 0 | 0 | 0 | 0 | 0 | 0 |\n| 1/27/20 | 0 | 0 | 0 | 0 | 0 | 0 | 0 | 0 | 0 | 0 | ⋯ | 0 | 0 | 0 | 0 | 0 | 0 | 0 | 0 | 0 | 0 |\n\n",
            "text/html": [
              "<table>\n",
              "<caption>A data.frame: 6 × 3340</caption>\n",
              "<thead>\n",
              "\t<tr><th></th><th scope=col>V1</th><th scope=col>V2</th><th scope=col>V3</th><th scope=col>V4</th><th scope=col>V5</th><th scope=col>V6</th><th scope=col>V7</th><th scope=col>V8</th><th scope=col>V9</th><th scope=col>V10</th><th scope=col>⋯</th><th scope=col>V3331</th><th scope=col>V3332</th><th scope=col>V3333</th><th scope=col>V3334</th><th scope=col>V3335</th><th scope=col>V3336</th><th scope=col>V3337</th><th scope=col>V3338</th><th scope=col>V3339</th><th scope=col>V3340</th></tr>\n",
              "\t<tr><th></th><th scope=col>&lt;dbl&gt;</th><th scope=col>&lt;dbl&gt;</th><th scope=col>&lt;dbl&gt;</th><th scope=col>&lt;dbl&gt;</th><th scope=col>&lt;dbl&gt;</th><th scope=col>&lt;dbl&gt;</th><th scope=col>&lt;dbl&gt;</th><th scope=col>&lt;dbl&gt;</th><th scope=col>&lt;dbl&gt;</th><th scope=col>&lt;dbl&gt;</th><th scope=col>⋯</th><th scope=col>&lt;dbl&gt;</th><th scope=col>&lt;dbl&gt;</th><th scope=col>&lt;dbl&gt;</th><th scope=col>&lt;dbl&gt;</th><th scope=col>&lt;dbl&gt;</th><th scope=col>&lt;dbl&gt;</th><th scope=col>&lt;dbl&gt;</th><th scope=col>&lt;dbl&gt;</th><th scope=col>&lt;dbl&gt;</th><th scope=col>&lt;dbl&gt;</th></tr>\n",
              "</thead>\n",
              "<tbody>\n",
              "\t<tr><th scope=row>1/22/20</th><td>0</td><td>0</td><td>0</td><td>0</td><td>0</td><td>0</td><td>0</td><td>0</td><td>0</td><td>0</td><td>⋯</td><td>0</td><td>0</td><td>0</td><td>0</td><td>0</td><td>0</td><td>0</td><td>0</td><td>0</td><td>0</td></tr>\n",
              "\t<tr><th scope=row>1/23/20</th><td>0</td><td>0</td><td>0</td><td>0</td><td>0</td><td>0</td><td>0</td><td>0</td><td>0</td><td>0</td><td>⋯</td><td>0</td><td>0</td><td>0</td><td>0</td><td>0</td><td>0</td><td>0</td><td>0</td><td>0</td><td>0</td></tr>\n",
              "\t<tr><th scope=row>1/24/20</th><td>0</td><td>0</td><td>0</td><td>0</td><td>0</td><td>0</td><td>0</td><td>0</td><td>0</td><td>0</td><td>⋯</td><td>0</td><td>0</td><td>0</td><td>0</td><td>0</td><td>0</td><td>0</td><td>0</td><td>0</td><td>0</td></tr>\n",
              "\t<tr><th scope=row>1/25/20</th><td>0</td><td>0</td><td>0</td><td>0</td><td>0</td><td>0</td><td>0</td><td>0</td><td>0</td><td>0</td><td>⋯</td><td>0</td><td>0</td><td>0</td><td>0</td><td>0</td><td>0</td><td>0</td><td>0</td><td>0</td><td>0</td></tr>\n",
              "\t<tr><th scope=row>1/26/20</th><td>0</td><td>0</td><td>0</td><td>0</td><td>0</td><td>0</td><td>0</td><td>0</td><td>0</td><td>0</td><td>⋯</td><td>0</td><td>0</td><td>0</td><td>0</td><td>0</td><td>0</td><td>0</td><td>0</td><td>0</td><td>0</td></tr>\n",
              "\t<tr><th scope=row>1/27/20</th><td>0</td><td>0</td><td>0</td><td>0</td><td>0</td><td>0</td><td>0</td><td>0</td><td>0</td><td>0</td><td>⋯</td><td>0</td><td>0</td><td>0</td><td>0</td><td>0</td><td>0</td><td>0</td><td>0</td><td>0</td><td>0</td></tr>\n",
              "</tbody>\n",
              "</table>\n"
            ]
          },
          "metadata": {
            "tags": []
          }
        }
      ]
    },
    {
      "cell_type": "markdown",
      "metadata": {
        "id": "XExapLL1YKLY"
      },
      "source": [
        "## Add meaning columns names"
      ]
    },
    {
      "cell_type": "code",
      "metadata": {
        "id": "oa7ZYi6vX8mp",
        "outputId": "e88f7515-ff70-42ba-95f6-b3f89f61555d",
        "colab": {
          "base_uri": "https://localhost:8080/",
          "height": 221
        }
      },
      "source": [
        "names(tb1) = tb$Combined_Key\n",
        "head(tb1[100:110,1:10])"
      ],
      "execution_count": 320,
      "outputs": [
        {
          "output_type": "display_data",
          "data": {
            "text/plain": [
              "        Autauga, Alabama, US Baldwin, Alabama, US Barbour, Alabama, US\n",
              "4/30/20 44                   174                  39                  \n",
              "5/1/20  42                   175                  42                  \n",
              "5/2/20  45                   181                  43                  \n",
              "5/3/20  48                   187                  45                  \n",
              "5/4/20  53                   188                  45                  \n",
              "5/5/20  53                   189                  47                  \n",
              "        Bibb, Alabama, US Blount, Alabama, US Bullock, Alabama, US\n",
              "4/30/20 42                37                  13                  \n",
              "5/1/20  42                39                  14                  \n",
              "5/2/20  42                40                  14                  \n",
              "5/3/20  43                40                  14                  \n",
              "5/4/20  42                40                  16                  \n",
              "5/5/20  43                40                  18                  \n",
              "        Butler, Alabama, US Calhoun, Alabama, US Chambers, Alabama, US\n",
              "4/30/20  53                  94                  295                  \n",
              "5/1/20   65                  93                  290                  \n",
              "5/2/20   92                  98                  294                  \n",
              "5/3/20  105                 105                  300                  \n",
              "5/4/20  114                 105                  302                  \n",
              "5/5/20  120                 114                  304                  \n",
              "        Cherokee, Alabama, US\n",
              "4/30/20 15                   \n",
              "5/1/20  15                   \n",
              "5/2/20  15                   \n",
              "5/3/20  16                   \n",
              "5/4/20  16                   \n",
              "5/5/20  17                   "
            ],
            "text/latex": "A data.frame: 6 × 10\n\\begin{tabular}{r|llllllllll}\n  & Autauga, Alabama, US & Baldwin, Alabama, US & Barbour, Alabama, US & Bibb, Alabama, US & Blount, Alabama, US & Bullock, Alabama, US & Butler, Alabama, US & Calhoun, Alabama, US & Chambers, Alabama, US & Cherokee, Alabama, US\\\\\n  & <dbl> & <dbl> & <dbl> & <dbl> & <dbl> & <dbl> & <dbl> & <dbl> & <dbl> & <dbl>\\\\\n\\hline\n\t4/30/20 & 44 & 174 & 39 & 42 & 37 & 13 &  53 &  94 & 295 & 15\\\\\n\t5/1/20 & 42 & 175 & 42 & 42 & 39 & 14 &  65 &  93 & 290 & 15\\\\\n\t5/2/20 & 45 & 181 & 43 & 42 & 40 & 14 &  92 &  98 & 294 & 15\\\\\n\t5/3/20 & 48 & 187 & 45 & 43 & 40 & 14 & 105 & 105 & 300 & 16\\\\\n\t5/4/20 & 53 & 188 & 45 & 42 & 40 & 16 & 114 & 105 & 302 & 16\\\\\n\t5/5/20 & 53 & 189 & 47 & 43 & 40 & 18 & 120 & 114 & 304 & 17\\\\\n\\end{tabular}\n",
            "text/markdown": "\nA data.frame: 6 × 10\n\n| <!--/--> | Autauga, Alabama, US &lt;dbl&gt; | Baldwin, Alabama, US &lt;dbl&gt; | Barbour, Alabama, US &lt;dbl&gt; | Bibb, Alabama, US &lt;dbl&gt; | Blount, Alabama, US &lt;dbl&gt; | Bullock, Alabama, US &lt;dbl&gt; | Butler, Alabama, US &lt;dbl&gt; | Calhoun, Alabama, US &lt;dbl&gt; | Chambers, Alabama, US &lt;dbl&gt; | Cherokee, Alabama, US &lt;dbl&gt; |\n|---|---|---|---|---|---|---|---|---|---|---|\n| 4/30/20 | 44 | 174 | 39 | 42 | 37 | 13 |  53 |  94 | 295 | 15 |\n| 5/1/20 | 42 | 175 | 42 | 42 | 39 | 14 |  65 |  93 | 290 | 15 |\n| 5/2/20 | 45 | 181 | 43 | 42 | 40 | 14 |  92 |  98 | 294 | 15 |\n| 5/3/20 | 48 | 187 | 45 | 43 | 40 | 14 | 105 | 105 | 300 | 16 |\n| 5/4/20 | 53 | 188 | 45 | 42 | 40 | 16 | 114 | 105 | 302 | 16 |\n| 5/5/20 | 53 | 189 | 47 | 43 | 40 | 18 | 120 | 114 | 304 | 17 |\n\n",
            "text/html": [
              "<table>\n",
              "<caption>A data.frame: 6 × 10</caption>\n",
              "<thead>\n",
              "\t<tr><th></th><th scope=col>Autauga, Alabama, US</th><th scope=col>Baldwin, Alabama, US</th><th scope=col>Barbour, Alabama, US</th><th scope=col>Bibb, Alabama, US</th><th scope=col>Blount, Alabama, US</th><th scope=col>Bullock, Alabama, US</th><th scope=col>Butler, Alabama, US</th><th scope=col>Calhoun, Alabama, US</th><th scope=col>Chambers, Alabama, US</th><th scope=col>Cherokee, Alabama, US</th></tr>\n",
              "\t<tr><th></th><th scope=col>&lt;dbl&gt;</th><th scope=col>&lt;dbl&gt;</th><th scope=col>&lt;dbl&gt;</th><th scope=col>&lt;dbl&gt;</th><th scope=col>&lt;dbl&gt;</th><th scope=col>&lt;dbl&gt;</th><th scope=col>&lt;dbl&gt;</th><th scope=col>&lt;dbl&gt;</th><th scope=col>&lt;dbl&gt;</th><th scope=col>&lt;dbl&gt;</th></tr>\n",
              "</thead>\n",
              "<tbody>\n",
              "\t<tr><th scope=row>4/30/20</th><td>44</td><td>174</td><td>39</td><td>42</td><td>37</td><td>13</td><td> 53</td><td> 94</td><td>295</td><td>15</td></tr>\n",
              "\t<tr><th scope=row>5/1/20</th><td>42</td><td>175</td><td>42</td><td>42</td><td>39</td><td>14</td><td> 65</td><td> 93</td><td>290</td><td>15</td></tr>\n",
              "\t<tr><th scope=row>5/2/20</th><td>45</td><td>181</td><td>43</td><td>42</td><td>40</td><td>14</td><td> 92</td><td> 98</td><td>294</td><td>15</td></tr>\n",
              "\t<tr><th scope=row>5/3/20</th><td>48</td><td>187</td><td>45</td><td>43</td><td>40</td><td>14</td><td>105</td><td>105</td><td>300</td><td>16</td></tr>\n",
              "\t<tr><th scope=row>5/4/20</th><td>53</td><td>188</td><td>45</td><td>42</td><td>40</td><td>16</td><td>114</td><td>105</td><td>302</td><td>16</td></tr>\n",
              "\t<tr><th scope=row>5/5/20</th><td>53</td><td>189</td><td>47</td><td>43</td><td>40</td><td>18</td><td>120</td><td>114</td><td>304</td><td>17</td></tr>\n",
              "</tbody>\n",
              "</table>\n"
            ]
          },
          "metadata": {
            "tags": []
          }
        }
      ]
    },
    {
      "cell_type": "markdown",
      "metadata": {
        "id": "CB9qMR3zPXt2"
      },
      "source": [
        "## Convert dates from text format to actual Date type\n",
        "\n",
        "see https://lubridate.tidyverse.org/ "
      ]
    },
    {
      "cell_type": "code",
      "metadata": {
        "id": "YppniiD3MsoA",
        "outputId": "ae8e751a-232d-45a7-b1c1-c0dcde6f266d",
        "colab": {
          "base_uri": "https://localhost:8080/",
          "height": 34
        }
      },
      "source": [
        "library(lubridate)\n",
        "date(\"10/1/2020\")"
      ],
      "execution_count": 321,
      "outputs": [
        {
          "output_type": "display_data",
          "data": {
            "text/plain": [
              "[1] \"10-01-20\""
            ],
            "text/latex": "10-01-20",
            "text/markdown": "10-01-20",
            "text/html": [
              "<time datetime=\"10-01-20\">10-01-20</time>"
            ]
          },
          "metadata": {
            "tags": []
          }
        }
      ]
    },
    {
      "cell_type": "code",
      "metadata": {
        "id": "Pi971NYFXGgB",
        "outputId": "524ed17c-af91-4c11-80bc-a820dfaca4c1",
        "colab": {
          "base_uri": "https://localhost:8080/",
          "height": 272
        }
      },
      "source": [
        "current_dates = names(tb)[12:length(tb[1,])]\n",
        "class(current_dates)\n",
        "current_dates"
      ],
      "execution_count": 322,
      "outputs": [
        {
          "output_type": "display_data",
          "data": {
            "text/plain": [
              "[1] \"character\""
            ],
            "text/latex": "'character'",
            "text/markdown": "'character'",
            "text/html": [
              "'character'"
            ]
          },
          "metadata": {
            "tags": []
          }
        },
        {
          "output_type": "display_data",
          "data": {
            "text/plain": [
              "  [1] \"1/22/20\"  \"1/23/20\"  \"1/24/20\"  \"1/25/20\"  \"1/26/20\"  \"1/27/20\" \n",
              "  [7] \"1/28/20\"  \"1/29/20\"  \"1/30/20\"  \"1/31/20\"  \"2/1/20\"   \"2/2/20\"  \n",
              " [13] \"2/3/20\"   \"2/4/20\"   \"2/5/20\"   \"2/6/20\"   \"2/7/20\"   \"2/8/20\"  \n",
              " [19] \"2/9/20\"   \"2/10/20\"  \"2/11/20\"  \"2/12/20\"  \"2/13/20\"  \"2/14/20\" \n",
              " [25] \"2/15/20\"  \"2/16/20\"  \"2/17/20\"  \"2/18/20\"  \"2/19/20\"  \"2/20/20\" \n",
              " [31] \"2/21/20\"  \"2/22/20\"  \"2/23/20\"  \"2/24/20\"  \"2/25/20\"  \"2/26/20\" \n",
              " [37] \"2/27/20\"  \"2/28/20\"  \"2/29/20\"  \"3/1/20\"   \"3/2/20\"   \"3/3/20\"  \n",
              " [43] \"3/4/20\"   \"3/5/20\"   \"3/6/20\"   \"3/7/20\"   \"3/8/20\"   \"3/9/20\"  \n",
              " [49] \"3/10/20\"  \"3/11/20\"  \"3/12/20\"  \"3/13/20\"  \"3/14/20\"  \"3/15/20\" \n",
              " [55] \"3/16/20\"  \"3/17/20\"  \"3/18/20\"  \"3/19/20\"  \"3/20/20\"  \"3/21/20\" \n",
              " [61] \"3/22/20\"  \"3/23/20\"  \"3/24/20\"  \"3/25/20\"  \"3/26/20\"  \"3/27/20\" \n",
              " [67] \"3/28/20\"  \"3/29/20\"  \"3/30/20\"  \"3/31/20\"  \"4/1/20\"   \"4/2/20\"  \n",
              " [73] \"4/3/20\"   \"4/4/20\"   \"4/5/20\"   \"4/6/20\"   \"4/7/20\"   \"4/8/20\"  \n",
              " [79] \"4/9/20\"   \"4/10/20\"  \"4/11/20\"  \"4/12/20\"  \"4/13/20\"  \"4/14/20\" \n",
              " [85] \"4/15/20\"  \"4/16/20\"  \"4/17/20\"  \"4/18/20\"  \"4/19/20\"  \"4/20/20\" \n",
              " [91] \"4/21/20\"  \"4/22/20\"  \"4/23/20\"  \"4/24/20\"  \"4/25/20\"  \"4/26/20\" \n",
              " [97] \"4/27/20\"  \"4/28/20\"  \"4/29/20\"  \"4/30/20\"  \"5/1/20\"   \"5/2/20\"  \n",
              "[103] \"5/3/20\"   \"5/4/20\"   \"5/5/20\"   \"5/6/20\"   \"5/7/20\"   \"5/8/20\"  \n",
              "[109] \"5/9/20\"   \"5/10/20\"  \"5/11/20\"  \"5/12/20\"  \"5/13/20\"  \"5/14/20\" \n",
              "[115] \"5/15/20\"  \"5/16/20\"  \"5/17/20\"  \"5/18/20\"  \"5/19/20\"  \"5/20/20\" \n",
              "[121] \"5/21/20\"  \"5/22/20\"  \"5/23/20\"  \"5/24/20\"  \"5/25/20\"  \"5/26/20\" \n",
              "[127] \"5/27/20\"  \"5/28/20\"  \"5/29/20\"  \"5/30/20\"  \"5/31/20\"  \"6/1/20\"  \n",
              "[133] \"6/2/20\"   \"6/3/20\"   \"6/4/20\"   \"6/5/20\"   \"6/6/20\"   \"6/7/20\"  \n",
              "[139] \"6/8/20\"   \"6/9/20\"   \"6/10/20\"  \"6/11/20\"  \"6/12/20\"  \"6/13/20\" \n",
              "[145] \"6/14/20\"  \"6/15/20\"  \"6/16/20\"  \"6/17/20\"  \"6/18/20\"  \"6/19/20\" \n",
              "[151] \"6/20/20\"  \"6/21/20\"  \"6/22/20\"  \"6/23/20\"  \"6/24/20\"  \"6/25/20\" \n",
              "[157] \"6/26/20\"  \"6/27/20\"  \"6/28/20\"  \"6/29/20\"  \"6/30/20\"  \"7/1/20\"  \n",
              "[163] \"7/2/20\"   \"7/3/20\"   \"7/4/20\"   \"7/5/20\"   \"7/6/20\"   \"7/7/20\"  \n",
              "[169] \"7/8/20\"   \"7/9/20\"   \"7/10/20\"  \"7/11/20\"  \"7/12/20\"  \"7/13/20\" \n",
              "[175] \"7/14/20\"  \"7/15/20\"  \"7/16/20\"  \"7/17/20\"  \"7/18/20\"  \"7/19/20\" \n",
              "[181] \"7/20/20\"  \"7/21/20\"  \"7/22/20\"  \"7/23/20\"  \"7/24/20\"  \"7/25/20\" \n",
              "[187] \"7/26/20\"  \"7/27/20\"  \"7/28/20\"  \"7/29/20\"  \"7/30/20\"  \"7/31/20\" \n",
              "[193] \"8/1/20\"   \"8/2/20\"   \"8/3/20\"   \"8/4/20\"   \"8/5/20\"   \"8/6/20\"  \n",
              "[199] \"8/7/20\"   \"8/8/20\"   \"8/9/20\"   \"8/10/20\"  \"8/11/20\"  \"8/12/20\" \n",
              "[205] \"8/13/20\"  \"8/14/20\"  \"8/15/20\"  \"8/16/20\"  \"8/17/20\"  \"8/18/20\" \n",
              "[211] \"8/19/20\"  \"8/20/20\"  \"8/21/20\"  \"8/22/20\"  \"8/23/20\"  \"8/24/20\" \n",
              "[217] \"8/25/20\"  \"8/26/20\"  \"8/27/20\"  \"8/28/20\"  \"8/29/20\"  \"8/30/20\" \n",
              "[223] \"8/31/20\"  \"9/1/20\"   \"9/2/20\"   \"9/3/20\"   \"9/4/20\"   \"9/5/20\"  \n",
              "[229] \"9/6/20\"   \"9/7/20\"   \"9/8/20\"   \"9/9/20\"   \"9/10/20\"  \"9/11/20\" \n",
              "[235] \"9/12/20\"  \"9/13/20\"  \"9/14/20\"  \"9/15/20\"  \"9/16/20\"  \"9/17/20\" \n",
              "[241] \"9/18/20\"  \"9/19/20\"  \"9/20/20\"  \"9/21/20\"  \"9/22/20\"  \"9/23/20\" \n",
              "[247] \"9/24/20\"  \"9/25/20\"  \"9/26/20\"  \"9/27/20\"  \"9/28/20\"  \"9/29/20\" \n",
              "[253] \"9/30/20\"  \"10/1/20\"  \"10/2/20\"  \"10/3/20\"  \"10/4/20\"  \"10/5/20\" \n",
              "[259] \"10/6/20\"  \"10/7/20\"  \"10/8/20\"  \"10/9/20\"  \"10/10/20\" \"10/11/20\"\n",
              "[265] \"10/12/20\" \"10/13/20\" \"10/14/20\" \"10/15/20\""
            ],
            "text/latex": "\\begin{enumerate*}\n\\item '1/22/20'\n\\item '1/23/20'\n\\item '1/24/20'\n\\item '1/25/20'\n\\item '1/26/20'\n\\item '1/27/20'\n\\item '1/28/20'\n\\item '1/29/20'\n\\item '1/30/20'\n\\item '1/31/20'\n\\item '2/1/20'\n\\item '2/2/20'\n\\item '2/3/20'\n\\item '2/4/20'\n\\item '2/5/20'\n\\item '2/6/20'\n\\item '2/7/20'\n\\item '2/8/20'\n\\item '2/9/20'\n\\item '2/10/20'\n\\item '2/11/20'\n\\item '2/12/20'\n\\item '2/13/20'\n\\item '2/14/20'\n\\item '2/15/20'\n\\item '2/16/20'\n\\item '2/17/20'\n\\item '2/18/20'\n\\item '2/19/20'\n\\item '2/20/20'\n\\item '2/21/20'\n\\item '2/22/20'\n\\item '2/23/20'\n\\item '2/24/20'\n\\item '2/25/20'\n\\item '2/26/20'\n\\item '2/27/20'\n\\item '2/28/20'\n\\item '2/29/20'\n\\item '3/1/20'\n\\item '3/2/20'\n\\item '3/3/20'\n\\item '3/4/20'\n\\item '3/5/20'\n\\item '3/6/20'\n\\item '3/7/20'\n\\item '3/8/20'\n\\item '3/9/20'\n\\item '3/10/20'\n\\item '3/11/20'\n\\item '3/12/20'\n\\item '3/13/20'\n\\item '3/14/20'\n\\item '3/15/20'\n\\item '3/16/20'\n\\item '3/17/20'\n\\item '3/18/20'\n\\item '3/19/20'\n\\item '3/20/20'\n\\item '3/21/20'\n\\item '3/22/20'\n\\item '3/23/20'\n\\item '3/24/20'\n\\item '3/25/20'\n\\item '3/26/20'\n\\item '3/27/20'\n\\item '3/28/20'\n\\item '3/29/20'\n\\item '3/30/20'\n\\item '3/31/20'\n\\item '4/1/20'\n\\item '4/2/20'\n\\item '4/3/20'\n\\item '4/4/20'\n\\item '4/5/20'\n\\item '4/6/20'\n\\item '4/7/20'\n\\item '4/8/20'\n\\item '4/9/20'\n\\item '4/10/20'\n\\item '4/11/20'\n\\item '4/12/20'\n\\item '4/13/20'\n\\item '4/14/20'\n\\item '4/15/20'\n\\item '4/16/20'\n\\item '4/17/20'\n\\item '4/18/20'\n\\item '4/19/20'\n\\item '4/20/20'\n\\item '4/21/20'\n\\item '4/22/20'\n\\item '4/23/20'\n\\item '4/24/20'\n\\item '4/25/20'\n\\item '4/26/20'\n\\item '4/27/20'\n\\item '4/28/20'\n\\item '4/29/20'\n\\item '4/30/20'\n\\item '5/1/20'\n\\item '5/2/20'\n\\item '5/3/20'\n\\item '5/4/20'\n\\item '5/5/20'\n\\item '5/6/20'\n\\item '5/7/20'\n\\item '5/8/20'\n\\item '5/9/20'\n\\item '5/10/20'\n\\item '5/11/20'\n\\item '5/12/20'\n\\item '5/13/20'\n\\item '5/14/20'\n\\item '5/15/20'\n\\item '5/16/20'\n\\item '5/17/20'\n\\item '5/18/20'\n\\item '5/19/20'\n\\item '5/20/20'\n\\item '5/21/20'\n\\item '5/22/20'\n\\item '5/23/20'\n\\item '5/24/20'\n\\item '5/25/20'\n\\item '5/26/20'\n\\item '5/27/20'\n\\item '5/28/20'\n\\item '5/29/20'\n\\item '5/30/20'\n\\item '5/31/20'\n\\item '6/1/20'\n\\item '6/2/20'\n\\item '6/3/20'\n\\item '6/4/20'\n\\item '6/5/20'\n\\item '6/6/20'\n\\item '6/7/20'\n\\item '6/8/20'\n\\item '6/9/20'\n\\item '6/10/20'\n\\item '6/11/20'\n\\item '6/12/20'\n\\item '6/13/20'\n\\item '6/14/20'\n\\item '6/15/20'\n\\item '6/16/20'\n\\item '6/17/20'\n\\item '6/18/20'\n\\item '6/19/20'\n\\item '6/20/20'\n\\item '6/21/20'\n\\item '6/22/20'\n\\item '6/23/20'\n\\item '6/24/20'\n\\item '6/25/20'\n\\item '6/26/20'\n\\item '6/27/20'\n\\item '6/28/20'\n\\item '6/29/20'\n\\item '6/30/20'\n\\item '7/1/20'\n\\item '7/2/20'\n\\item '7/3/20'\n\\item '7/4/20'\n\\item '7/5/20'\n\\item '7/6/20'\n\\item '7/7/20'\n\\item '7/8/20'\n\\item '7/9/20'\n\\item '7/10/20'\n\\item '7/11/20'\n\\item '7/12/20'\n\\item '7/13/20'\n\\item '7/14/20'\n\\item '7/15/20'\n\\item '7/16/20'\n\\item '7/17/20'\n\\item '7/18/20'\n\\item '7/19/20'\n\\item '7/20/20'\n\\item '7/21/20'\n\\item '7/22/20'\n\\item '7/23/20'\n\\item '7/24/20'\n\\item '7/25/20'\n\\item '7/26/20'\n\\item '7/27/20'\n\\item '7/28/20'\n\\item '7/29/20'\n\\item '7/30/20'\n\\item '7/31/20'\n\\item '8/1/20'\n\\item '8/2/20'\n\\item '8/3/20'\n\\item '8/4/20'\n\\item '8/5/20'\n\\item '8/6/20'\n\\item '8/7/20'\n\\item '8/8/20'\n\\item '8/9/20'\n\\item '8/10/20'\n\\item '8/11/20'\n\\item '8/12/20'\n\\item '8/13/20'\n\\item '8/14/20'\n\\item '8/15/20'\n\\item '8/16/20'\n\\item '8/17/20'\n\\item '8/18/20'\n\\item '8/19/20'\n\\item '8/20/20'\n\\item '8/21/20'\n\\item '8/22/20'\n\\item '8/23/20'\n\\item '8/24/20'\n\\item '8/25/20'\n\\item '8/26/20'\n\\item '8/27/20'\n\\item '8/28/20'\n\\item '8/29/20'\n\\item '8/30/20'\n\\item '8/31/20'\n\\item '9/1/20'\n\\item '9/2/20'\n\\item '9/3/20'\n\\item '9/4/20'\n\\item '9/5/20'\n\\item '9/6/20'\n\\item '9/7/20'\n\\item '9/8/20'\n\\item '9/9/20'\n\\item '9/10/20'\n\\item '9/11/20'\n\\item '9/12/20'\n\\item '9/13/20'\n\\item '9/14/20'\n\\item '9/15/20'\n\\item '9/16/20'\n\\item '9/17/20'\n\\item '9/18/20'\n\\item '9/19/20'\n\\item '9/20/20'\n\\item '9/21/20'\n\\item '9/22/20'\n\\item '9/23/20'\n\\item '9/24/20'\n\\item '9/25/20'\n\\item '9/26/20'\n\\item '9/27/20'\n\\item '9/28/20'\n\\item '9/29/20'\n\\item '9/30/20'\n\\item '10/1/20'\n\\item '10/2/20'\n\\item '10/3/20'\n\\item '10/4/20'\n\\item '10/5/20'\n\\item '10/6/20'\n\\item '10/7/20'\n\\item '10/8/20'\n\\item '10/9/20'\n\\item '10/10/20'\n\\item '10/11/20'\n\\item '10/12/20'\n\\item '10/13/20'\n\\item '10/14/20'\n\\item '10/15/20'\n\\end{enumerate*}\n",
            "text/markdown": "1. '1/22/20'\n2. '1/23/20'\n3. '1/24/20'\n4. '1/25/20'\n5. '1/26/20'\n6. '1/27/20'\n7. '1/28/20'\n8. '1/29/20'\n9. '1/30/20'\n10. '1/31/20'\n11. '2/1/20'\n12. '2/2/20'\n13. '2/3/20'\n14. '2/4/20'\n15. '2/5/20'\n16. '2/6/20'\n17. '2/7/20'\n18. '2/8/20'\n19. '2/9/20'\n20. '2/10/20'\n21. '2/11/20'\n22. '2/12/20'\n23. '2/13/20'\n24. '2/14/20'\n25. '2/15/20'\n26. '2/16/20'\n27. '2/17/20'\n28. '2/18/20'\n29. '2/19/20'\n30. '2/20/20'\n31. '2/21/20'\n32. '2/22/20'\n33. '2/23/20'\n34. '2/24/20'\n35. '2/25/20'\n36. '2/26/20'\n37. '2/27/20'\n38. '2/28/20'\n39. '2/29/20'\n40. '3/1/20'\n41. '3/2/20'\n42. '3/3/20'\n43. '3/4/20'\n44. '3/5/20'\n45. '3/6/20'\n46. '3/7/20'\n47. '3/8/20'\n48. '3/9/20'\n49. '3/10/20'\n50. '3/11/20'\n51. '3/12/20'\n52. '3/13/20'\n53. '3/14/20'\n54. '3/15/20'\n55. '3/16/20'\n56. '3/17/20'\n57. '3/18/20'\n58. '3/19/20'\n59. '3/20/20'\n60. '3/21/20'\n61. '3/22/20'\n62. '3/23/20'\n63. '3/24/20'\n64. '3/25/20'\n65. '3/26/20'\n66. '3/27/20'\n67. '3/28/20'\n68. '3/29/20'\n69. '3/30/20'\n70. '3/31/20'\n71. '4/1/20'\n72. '4/2/20'\n73. '4/3/20'\n74. '4/4/20'\n75. '4/5/20'\n76. '4/6/20'\n77. '4/7/20'\n78. '4/8/20'\n79. '4/9/20'\n80. '4/10/20'\n81. '4/11/20'\n82. '4/12/20'\n83. '4/13/20'\n84. '4/14/20'\n85. '4/15/20'\n86. '4/16/20'\n87. '4/17/20'\n88. '4/18/20'\n89. '4/19/20'\n90. '4/20/20'\n91. '4/21/20'\n92. '4/22/20'\n93. '4/23/20'\n94. '4/24/20'\n95. '4/25/20'\n96. '4/26/20'\n97. '4/27/20'\n98. '4/28/20'\n99. '4/29/20'\n100. '4/30/20'\n101. '5/1/20'\n102. '5/2/20'\n103. '5/3/20'\n104. '5/4/20'\n105. '5/5/20'\n106. '5/6/20'\n107. '5/7/20'\n108. '5/8/20'\n109. '5/9/20'\n110. '5/10/20'\n111. '5/11/20'\n112. '5/12/20'\n113. '5/13/20'\n114. '5/14/20'\n115. '5/15/20'\n116. '5/16/20'\n117. '5/17/20'\n118. '5/18/20'\n119. '5/19/20'\n120. '5/20/20'\n121. '5/21/20'\n122. '5/22/20'\n123. '5/23/20'\n124. '5/24/20'\n125. '5/25/20'\n126. '5/26/20'\n127. '5/27/20'\n128. '5/28/20'\n129. '5/29/20'\n130. '5/30/20'\n131. '5/31/20'\n132. '6/1/20'\n133. '6/2/20'\n134. '6/3/20'\n135. '6/4/20'\n136. '6/5/20'\n137. '6/6/20'\n138. '6/7/20'\n139. '6/8/20'\n140. '6/9/20'\n141. '6/10/20'\n142. '6/11/20'\n143. '6/12/20'\n144. '6/13/20'\n145. '6/14/20'\n146. '6/15/20'\n147. '6/16/20'\n148. '6/17/20'\n149. '6/18/20'\n150. '6/19/20'\n151. '6/20/20'\n152. '6/21/20'\n153. '6/22/20'\n154. '6/23/20'\n155. '6/24/20'\n156. '6/25/20'\n157. '6/26/20'\n158. '6/27/20'\n159. '6/28/20'\n160. '6/29/20'\n161. '6/30/20'\n162. '7/1/20'\n163. '7/2/20'\n164. '7/3/20'\n165. '7/4/20'\n166. '7/5/20'\n167. '7/6/20'\n168. '7/7/20'\n169. '7/8/20'\n170. '7/9/20'\n171. '7/10/20'\n172. '7/11/20'\n173. '7/12/20'\n174. '7/13/20'\n175. '7/14/20'\n176. '7/15/20'\n177. '7/16/20'\n178. '7/17/20'\n179. '7/18/20'\n180. '7/19/20'\n181. '7/20/20'\n182. '7/21/20'\n183. '7/22/20'\n184. '7/23/20'\n185. '7/24/20'\n186. '7/25/20'\n187. '7/26/20'\n188. '7/27/20'\n189. '7/28/20'\n190. '7/29/20'\n191. '7/30/20'\n192. '7/31/20'\n193. '8/1/20'\n194. '8/2/20'\n195. '8/3/20'\n196. '8/4/20'\n197. '8/5/20'\n198. '8/6/20'\n199. '8/7/20'\n200. '8/8/20'\n201. '8/9/20'\n202. '8/10/20'\n203. '8/11/20'\n204. '8/12/20'\n205. '8/13/20'\n206. '8/14/20'\n207. '8/15/20'\n208. '8/16/20'\n209. '8/17/20'\n210. '8/18/20'\n211. '8/19/20'\n212. '8/20/20'\n213. '8/21/20'\n214. '8/22/20'\n215. '8/23/20'\n216. '8/24/20'\n217. '8/25/20'\n218. '8/26/20'\n219. '8/27/20'\n220. '8/28/20'\n221. '8/29/20'\n222. '8/30/20'\n223. '8/31/20'\n224. '9/1/20'\n225. '9/2/20'\n226. '9/3/20'\n227. '9/4/20'\n228. '9/5/20'\n229. '9/6/20'\n230. '9/7/20'\n231. '9/8/20'\n232. '9/9/20'\n233. '9/10/20'\n234. '9/11/20'\n235. '9/12/20'\n236. '9/13/20'\n237. '9/14/20'\n238. '9/15/20'\n239. '9/16/20'\n240. '9/17/20'\n241. '9/18/20'\n242. '9/19/20'\n243. '9/20/20'\n244. '9/21/20'\n245. '9/22/20'\n246. '9/23/20'\n247. '9/24/20'\n248. '9/25/20'\n249. '9/26/20'\n250. '9/27/20'\n251. '9/28/20'\n252. '9/29/20'\n253. '9/30/20'\n254. '10/1/20'\n255. '10/2/20'\n256. '10/3/20'\n257. '10/4/20'\n258. '10/5/20'\n259. '10/6/20'\n260. '10/7/20'\n261. '10/8/20'\n262. '10/9/20'\n263. '10/10/20'\n264. '10/11/20'\n265. '10/12/20'\n266. '10/13/20'\n267. '10/14/20'\n268. '10/15/20'\n\n\n",
            "text/html": [
              "<style>\n",
              ".list-inline {list-style: none; margin:0; padding: 0}\n",
              ".list-inline>li {display: inline-block}\n",
              ".list-inline>li:not(:last-child)::after {content: \"\\00b7\"; padding: 0 .5ex}\n",
              "</style>\n",
              "<ol class=list-inline><li>'1/22/20'</li><li>'1/23/20'</li><li>'1/24/20'</li><li>'1/25/20'</li><li>'1/26/20'</li><li>'1/27/20'</li><li>'1/28/20'</li><li>'1/29/20'</li><li>'1/30/20'</li><li>'1/31/20'</li><li>'2/1/20'</li><li>'2/2/20'</li><li>'2/3/20'</li><li>'2/4/20'</li><li>'2/5/20'</li><li>'2/6/20'</li><li>'2/7/20'</li><li>'2/8/20'</li><li>'2/9/20'</li><li>'2/10/20'</li><li>'2/11/20'</li><li>'2/12/20'</li><li>'2/13/20'</li><li>'2/14/20'</li><li>'2/15/20'</li><li>'2/16/20'</li><li>'2/17/20'</li><li>'2/18/20'</li><li>'2/19/20'</li><li>'2/20/20'</li><li>'2/21/20'</li><li>'2/22/20'</li><li>'2/23/20'</li><li>'2/24/20'</li><li>'2/25/20'</li><li>'2/26/20'</li><li>'2/27/20'</li><li>'2/28/20'</li><li>'2/29/20'</li><li>'3/1/20'</li><li>'3/2/20'</li><li>'3/3/20'</li><li>'3/4/20'</li><li>'3/5/20'</li><li>'3/6/20'</li><li>'3/7/20'</li><li>'3/8/20'</li><li>'3/9/20'</li><li>'3/10/20'</li><li>'3/11/20'</li><li>'3/12/20'</li><li>'3/13/20'</li><li>'3/14/20'</li><li>'3/15/20'</li><li>'3/16/20'</li><li>'3/17/20'</li><li>'3/18/20'</li><li>'3/19/20'</li><li>'3/20/20'</li><li>'3/21/20'</li><li>'3/22/20'</li><li>'3/23/20'</li><li>'3/24/20'</li><li>'3/25/20'</li><li>'3/26/20'</li><li>'3/27/20'</li><li>'3/28/20'</li><li>'3/29/20'</li><li>'3/30/20'</li><li>'3/31/20'</li><li>'4/1/20'</li><li>'4/2/20'</li><li>'4/3/20'</li><li>'4/4/20'</li><li>'4/5/20'</li><li>'4/6/20'</li><li>'4/7/20'</li><li>'4/8/20'</li><li>'4/9/20'</li><li>'4/10/20'</li><li>'4/11/20'</li><li>'4/12/20'</li><li>'4/13/20'</li><li>'4/14/20'</li><li>'4/15/20'</li><li>'4/16/20'</li><li>'4/17/20'</li><li>'4/18/20'</li><li>'4/19/20'</li><li>'4/20/20'</li><li>'4/21/20'</li><li>'4/22/20'</li><li>'4/23/20'</li><li>'4/24/20'</li><li>'4/25/20'</li><li>'4/26/20'</li><li>'4/27/20'</li><li>'4/28/20'</li><li>'4/29/20'</li><li>'4/30/20'</li><li>'5/1/20'</li><li>'5/2/20'</li><li>'5/3/20'</li><li>'5/4/20'</li><li>'5/5/20'</li><li>'5/6/20'</li><li>'5/7/20'</li><li>'5/8/20'</li><li>'5/9/20'</li><li>'5/10/20'</li><li>'5/11/20'</li><li>'5/12/20'</li><li>'5/13/20'</li><li>'5/14/20'</li><li>'5/15/20'</li><li>'5/16/20'</li><li>'5/17/20'</li><li>'5/18/20'</li><li>'5/19/20'</li><li>'5/20/20'</li><li>'5/21/20'</li><li>'5/22/20'</li><li>'5/23/20'</li><li>'5/24/20'</li><li>'5/25/20'</li><li>'5/26/20'</li><li>'5/27/20'</li><li>'5/28/20'</li><li>'5/29/20'</li><li>'5/30/20'</li><li>'5/31/20'</li><li>'6/1/20'</li><li>'6/2/20'</li><li>'6/3/20'</li><li>'6/4/20'</li><li>'6/5/20'</li><li>'6/6/20'</li><li>'6/7/20'</li><li>'6/8/20'</li><li>'6/9/20'</li><li>'6/10/20'</li><li>'6/11/20'</li><li>'6/12/20'</li><li>'6/13/20'</li><li>'6/14/20'</li><li>'6/15/20'</li><li>'6/16/20'</li><li>'6/17/20'</li><li>'6/18/20'</li><li>'6/19/20'</li><li>'6/20/20'</li><li>'6/21/20'</li><li>'6/22/20'</li><li>'6/23/20'</li><li>'6/24/20'</li><li>'6/25/20'</li><li>'6/26/20'</li><li>'6/27/20'</li><li>'6/28/20'</li><li>'6/29/20'</li><li>'6/30/20'</li><li>'7/1/20'</li><li>'7/2/20'</li><li>'7/3/20'</li><li>'7/4/20'</li><li>'7/5/20'</li><li>'7/6/20'</li><li>'7/7/20'</li><li>'7/8/20'</li><li>'7/9/20'</li><li>'7/10/20'</li><li>'7/11/20'</li><li>'7/12/20'</li><li>'7/13/20'</li><li>'7/14/20'</li><li>'7/15/20'</li><li>'7/16/20'</li><li>'7/17/20'</li><li>'7/18/20'</li><li>'7/19/20'</li><li>'7/20/20'</li><li>'7/21/20'</li><li>'7/22/20'</li><li>'7/23/20'</li><li>'7/24/20'</li><li>'7/25/20'</li><li>'7/26/20'</li><li>'7/27/20'</li><li>'7/28/20'</li><li>'7/29/20'</li><li>'7/30/20'</li><li>'7/31/20'</li><li>'8/1/20'</li><li>'8/2/20'</li><li>'8/3/20'</li><li>'8/4/20'</li><li>'8/5/20'</li><li>'8/6/20'</li><li>'8/7/20'</li><li>'8/8/20'</li><li>'8/9/20'</li><li>'8/10/20'</li><li>'8/11/20'</li><li>'8/12/20'</li><li>'8/13/20'</li><li>'8/14/20'</li><li>'8/15/20'</li><li>'8/16/20'</li><li>'8/17/20'</li><li>'8/18/20'</li><li>'8/19/20'</li><li>'8/20/20'</li><li>'8/21/20'</li><li>'8/22/20'</li><li>'8/23/20'</li><li>'8/24/20'</li><li>'8/25/20'</li><li>'8/26/20'</li><li>'8/27/20'</li><li>'8/28/20'</li><li>'8/29/20'</li><li>'8/30/20'</li><li>'8/31/20'</li><li>'9/1/20'</li><li>'9/2/20'</li><li>'9/3/20'</li><li>'9/4/20'</li><li>'9/5/20'</li><li>'9/6/20'</li><li>'9/7/20'</li><li>'9/8/20'</li><li>'9/9/20'</li><li>'9/10/20'</li><li>'9/11/20'</li><li>'9/12/20'</li><li>'9/13/20'</li><li>'9/14/20'</li><li>'9/15/20'</li><li>'9/16/20'</li><li>'9/17/20'</li><li>'9/18/20'</li><li>'9/19/20'</li><li>'9/20/20'</li><li>'9/21/20'</li><li>'9/22/20'</li><li>'9/23/20'</li><li>'9/24/20'</li><li>'9/25/20'</li><li>'9/26/20'</li><li>'9/27/20'</li><li>'9/28/20'</li><li>'9/29/20'</li><li>'9/30/20'</li><li>'10/1/20'</li><li>'10/2/20'</li><li>'10/3/20'</li><li>'10/4/20'</li><li>'10/5/20'</li><li>'10/6/20'</li><li>'10/7/20'</li><li>'10/8/20'</li><li>'10/9/20'</li><li>'10/10/20'</li><li>'10/11/20'</li><li>'10/12/20'</li><li>'10/13/20'</li><li>'10/14/20'</li><li>'10/15/20'</li></ol>\n"
            ]
          },
          "metadata": {
            "tags": []
          }
        }
      ]
    },
    {
      "cell_type": "code",
      "metadata": {
        "id": "txmZJnePMsrE",
        "outputId": "5c599662-85cc-4f34-9cc9-c72b5b9bdfe0",
        "colab": {
          "base_uri": "https://localhost:8080/",
          "height": 34
        }
      },
      "source": [
        "mdy(current_dates[1:10])"
      ],
      "execution_count": 323,
      "outputs": [
        {
          "output_type": "display_data",
          "data": {
            "text/plain": [
              " [1] \"2020-01-22\" \"2020-01-23\" \"2020-01-24\" \"2020-01-25\" \"2020-01-26\"\n",
              " [6] \"2020-01-27\" \"2020-01-28\" \"2020-01-29\" \"2020-01-30\" \"2020-01-31\""
            ],
            "text/latex": "\\begin{enumerate*}\n\\item 2020-01-22\n\\item 2020-01-23\n\\item 2020-01-24\n\\item 2020-01-25\n\\item 2020-01-26\n\\item 2020-01-27\n\\item 2020-01-28\n\\item 2020-01-29\n\\item 2020-01-30\n\\item 2020-01-31\n\\end{enumerate*}\n",
            "text/markdown": "1. 2020-01-22\n2. 2020-01-23\n3. 2020-01-24\n4. 2020-01-25\n5. 2020-01-26\n6. 2020-01-27\n7. 2020-01-28\n8. 2020-01-29\n9. 2020-01-30\n10. 2020-01-31\n\n\n",
            "text/html": [
              "<style>\n",
              ".list-inline {list-style: none; margin:0; padding: 0}\n",
              ".list-inline>li {display: inline-block}\n",
              ".list-inline>li:not(:last-child)::after {content: \"\\00b7\"; padding: 0 .5ex}\n",
              "</style>\n",
              "<ol class=list-inline><li><time datetime=\"2020-01-22\">2020-01-22</time></li><li><time datetime=\"2020-01-23\">2020-01-23</time></li><li><time datetime=\"2020-01-24\">2020-01-24</time></li><li><time datetime=\"2020-01-25\">2020-01-25</time></li><li><time datetime=\"2020-01-26\">2020-01-26</time></li><li><time datetime=\"2020-01-27\">2020-01-27</time></li><li><time datetime=\"2020-01-28\">2020-01-28</time></li><li><time datetime=\"2020-01-29\">2020-01-29</time></li><li><time datetime=\"2020-01-30\">2020-01-30</time></li><li><time datetime=\"2020-01-31\">2020-01-31</time></li></ol>\n"
            ]
          },
          "metadata": {
            "tags": []
          }
        }
      ]
    },
    {
      "cell_type": "code",
      "metadata": {
        "id": "pIcUIOtVMst9",
        "outputId": "b36c132c-9dac-4ace-a464-61339ebabdac",
        "colab": {
          "base_uri": "https://localhost:8080/",
          "height": 360
        }
      },
      "source": [
        "tb1$dates = mdy(current_dates)\n",
        "head(tb1)"
      ],
      "execution_count": 324,
      "outputs": [
        {
          "output_type": "display_data",
          "data": {
            "text/plain": [
              "        Autauga, Alabama, US Baldwin, Alabama, US Barbour, Alabama, US\n",
              "1/22/20 0                    0                    0                   \n",
              "1/23/20 0                    0                    0                   \n",
              "1/24/20 0                    0                    0                   \n",
              "1/25/20 0                    0                    0                   \n",
              "1/26/20 0                    0                    0                   \n",
              "1/27/20 0                    0                    0                   \n",
              "        Bibb, Alabama, US Blount, Alabama, US Bullock, Alabama, US\n",
              "1/22/20 0                 0                   0                   \n",
              "1/23/20 0                 0                   0                   \n",
              "1/24/20 0                 0                   0                   \n",
              "1/25/20 0                 0                   0                   \n",
              "1/26/20 0                 0                   0                   \n",
              "1/27/20 0                 0                   0                   \n",
              "        Butler, Alabama, US Calhoun, Alabama, US Chambers, Alabama, US\n",
              "1/22/20 0                   0                    0                    \n",
              "1/23/20 0                   0                    0                    \n",
              "1/24/20 0                   0                    0                    \n",
              "1/25/20 0                   0                    0                    \n",
              "1/26/20 0                   0                    0                    \n",
              "1/27/20 0                   0                    0                    \n",
              "        Cherokee, Alabama, US ⋯ Platte, Wyoming, US Sheridan, Wyoming, US\n",
              "1/22/20 0                     ⋯ 0                   0                    \n",
              "1/23/20 0                     ⋯ 0                   0                    \n",
              "1/24/20 0                     ⋯ 0                   0                    \n",
              "1/25/20 0                     ⋯ 0                   0                    \n",
              "1/26/20 0                     ⋯ 0                   0                    \n",
              "1/27/20 0                     ⋯ 0                   0                    \n",
              "        Sublette, Wyoming, US Sweetwater, Wyoming, US Teton, Wyoming, US\n",
              "1/22/20 0                     0                       0                 \n",
              "1/23/20 0                     0                       0                 \n",
              "1/24/20 0                     0                       0                 \n",
              "1/25/20 0                     0                       0                 \n",
              "1/26/20 0                     0                       0                 \n",
              "1/27/20 0                     0                       0                 \n",
              "        Uinta, Wyoming, US Unassigned, Wyoming, US Washakie, Wyoming, US\n",
              "1/22/20 0                  0                       0                    \n",
              "1/23/20 0                  0                       0                    \n",
              "1/24/20 0                  0                       0                    \n",
              "1/25/20 0                  0                       0                    \n",
              "1/26/20 0                  0                       0                    \n",
              "1/27/20 0                  0                       0                    \n",
              "        Weston, Wyoming, US dates     \n",
              "1/22/20 0                   2020-01-22\n",
              "1/23/20 0                   2020-01-23\n",
              "1/24/20 0                   2020-01-24\n",
              "1/25/20 0                   2020-01-25\n",
              "1/26/20 0                   2020-01-26\n",
              "1/27/20 0                   2020-01-27"
            ],
            "text/latex": "A data.frame: 6 × 3341\n\\begin{tabular}{r|lllllllllllllllllllll}\n  & Autauga, Alabama, US & Baldwin, Alabama, US & Barbour, Alabama, US & Bibb, Alabama, US & Blount, Alabama, US & Bullock, Alabama, US & Butler, Alabama, US & Calhoun, Alabama, US & Chambers, Alabama, US & Cherokee, Alabama, US & ⋯ & Platte, Wyoming, US & Sheridan, Wyoming, US & Sublette, Wyoming, US & Sweetwater, Wyoming, US & Teton, Wyoming, US & Uinta, Wyoming, US & Unassigned, Wyoming, US & Washakie, Wyoming, US & Weston, Wyoming, US & dates\\\\\n  & <dbl> & <dbl> & <dbl> & <dbl> & <dbl> & <dbl> & <dbl> & <dbl> & <dbl> & <dbl> & ⋯ & <dbl> & <dbl> & <dbl> & <dbl> & <dbl> & <dbl> & <dbl> & <dbl> & <dbl> & <date>\\\\\n\\hline\n\t1/22/20 & 0 & 0 & 0 & 0 & 0 & 0 & 0 & 0 & 0 & 0 & ⋯ & 0 & 0 & 0 & 0 & 0 & 0 & 0 & 0 & 0 & 2020-01-22\\\\\n\t1/23/20 & 0 & 0 & 0 & 0 & 0 & 0 & 0 & 0 & 0 & 0 & ⋯ & 0 & 0 & 0 & 0 & 0 & 0 & 0 & 0 & 0 & 2020-01-23\\\\\n\t1/24/20 & 0 & 0 & 0 & 0 & 0 & 0 & 0 & 0 & 0 & 0 & ⋯ & 0 & 0 & 0 & 0 & 0 & 0 & 0 & 0 & 0 & 2020-01-24\\\\\n\t1/25/20 & 0 & 0 & 0 & 0 & 0 & 0 & 0 & 0 & 0 & 0 & ⋯ & 0 & 0 & 0 & 0 & 0 & 0 & 0 & 0 & 0 & 2020-01-25\\\\\n\t1/26/20 & 0 & 0 & 0 & 0 & 0 & 0 & 0 & 0 & 0 & 0 & ⋯ & 0 & 0 & 0 & 0 & 0 & 0 & 0 & 0 & 0 & 2020-01-26\\\\\n\t1/27/20 & 0 & 0 & 0 & 0 & 0 & 0 & 0 & 0 & 0 & 0 & ⋯ & 0 & 0 & 0 & 0 & 0 & 0 & 0 & 0 & 0 & 2020-01-27\\\\\n\\end{tabular}\n",
            "text/markdown": "\nA data.frame: 6 × 3341\n\n| <!--/--> | Autauga, Alabama, US &lt;dbl&gt; | Baldwin, Alabama, US &lt;dbl&gt; | Barbour, Alabama, US &lt;dbl&gt; | Bibb, Alabama, US &lt;dbl&gt; | Blount, Alabama, US &lt;dbl&gt; | Bullock, Alabama, US &lt;dbl&gt; | Butler, Alabama, US &lt;dbl&gt; | Calhoun, Alabama, US &lt;dbl&gt; | Chambers, Alabama, US &lt;dbl&gt; | Cherokee, Alabama, US &lt;dbl&gt; | ⋯ ⋯ | Platte, Wyoming, US &lt;dbl&gt; | Sheridan, Wyoming, US &lt;dbl&gt; | Sublette, Wyoming, US &lt;dbl&gt; | Sweetwater, Wyoming, US &lt;dbl&gt; | Teton, Wyoming, US &lt;dbl&gt; | Uinta, Wyoming, US &lt;dbl&gt; | Unassigned, Wyoming, US &lt;dbl&gt; | Washakie, Wyoming, US &lt;dbl&gt; | Weston, Wyoming, US &lt;dbl&gt; | dates &lt;date&gt; |\n|---|---|---|---|---|---|---|---|---|---|---|---|---|---|---|---|---|---|---|---|---|---|\n| 1/22/20 | 0 | 0 | 0 | 0 | 0 | 0 | 0 | 0 | 0 | 0 | ⋯ | 0 | 0 | 0 | 0 | 0 | 0 | 0 | 0 | 0 | 2020-01-22 |\n| 1/23/20 | 0 | 0 | 0 | 0 | 0 | 0 | 0 | 0 | 0 | 0 | ⋯ | 0 | 0 | 0 | 0 | 0 | 0 | 0 | 0 | 0 | 2020-01-23 |\n| 1/24/20 | 0 | 0 | 0 | 0 | 0 | 0 | 0 | 0 | 0 | 0 | ⋯ | 0 | 0 | 0 | 0 | 0 | 0 | 0 | 0 | 0 | 2020-01-24 |\n| 1/25/20 | 0 | 0 | 0 | 0 | 0 | 0 | 0 | 0 | 0 | 0 | ⋯ | 0 | 0 | 0 | 0 | 0 | 0 | 0 | 0 | 0 | 2020-01-25 |\n| 1/26/20 | 0 | 0 | 0 | 0 | 0 | 0 | 0 | 0 | 0 | 0 | ⋯ | 0 | 0 | 0 | 0 | 0 | 0 | 0 | 0 | 0 | 2020-01-26 |\n| 1/27/20 | 0 | 0 | 0 | 0 | 0 | 0 | 0 | 0 | 0 | 0 | ⋯ | 0 | 0 | 0 | 0 | 0 | 0 | 0 | 0 | 0 | 2020-01-27 |\n\n",
            "text/html": [
              "<table>\n",
              "<caption>A data.frame: 6 × 3341</caption>\n",
              "<thead>\n",
              "\t<tr><th></th><th scope=col>Autauga, Alabama, US</th><th scope=col>Baldwin, Alabama, US</th><th scope=col>Barbour, Alabama, US</th><th scope=col>Bibb, Alabama, US</th><th scope=col>Blount, Alabama, US</th><th scope=col>Bullock, Alabama, US</th><th scope=col>Butler, Alabama, US</th><th scope=col>Calhoun, Alabama, US</th><th scope=col>Chambers, Alabama, US</th><th scope=col>Cherokee, Alabama, US</th><th scope=col>⋯</th><th scope=col>Platte, Wyoming, US</th><th scope=col>Sheridan, Wyoming, US</th><th scope=col>Sublette, Wyoming, US</th><th scope=col>Sweetwater, Wyoming, US</th><th scope=col>Teton, Wyoming, US</th><th scope=col>Uinta, Wyoming, US</th><th scope=col>Unassigned, Wyoming, US</th><th scope=col>Washakie, Wyoming, US</th><th scope=col>Weston, Wyoming, US</th><th scope=col>dates</th></tr>\n",
              "\t<tr><th></th><th scope=col>&lt;dbl&gt;</th><th scope=col>&lt;dbl&gt;</th><th scope=col>&lt;dbl&gt;</th><th scope=col>&lt;dbl&gt;</th><th scope=col>&lt;dbl&gt;</th><th scope=col>&lt;dbl&gt;</th><th scope=col>&lt;dbl&gt;</th><th scope=col>&lt;dbl&gt;</th><th scope=col>&lt;dbl&gt;</th><th scope=col>&lt;dbl&gt;</th><th scope=col>⋯</th><th scope=col>&lt;dbl&gt;</th><th scope=col>&lt;dbl&gt;</th><th scope=col>&lt;dbl&gt;</th><th scope=col>&lt;dbl&gt;</th><th scope=col>&lt;dbl&gt;</th><th scope=col>&lt;dbl&gt;</th><th scope=col>&lt;dbl&gt;</th><th scope=col>&lt;dbl&gt;</th><th scope=col>&lt;dbl&gt;</th><th scope=col>&lt;date&gt;</th></tr>\n",
              "</thead>\n",
              "<tbody>\n",
              "\t<tr><th scope=row>1/22/20</th><td>0</td><td>0</td><td>0</td><td>0</td><td>0</td><td>0</td><td>0</td><td>0</td><td>0</td><td>0</td><td>⋯</td><td>0</td><td>0</td><td>0</td><td>0</td><td>0</td><td>0</td><td>0</td><td>0</td><td>0</td><td>2020-01-22</td></tr>\n",
              "\t<tr><th scope=row>1/23/20</th><td>0</td><td>0</td><td>0</td><td>0</td><td>0</td><td>0</td><td>0</td><td>0</td><td>0</td><td>0</td><td>⋯</td><td>0</td><td>0</td><td>0</td><td>0</td><td>0</td><td>0</td><td>0</td><td>0</td><td>0</td><td>2020-01-23</td></tr>\n",
              "\t<tr><th scope=row>1/24/20</th><td>0</td><td>0</td><td>0</td><td>0</td><td>0</td><td>0</td><td>0</td><td>0</td><td>0</td><td>0</td><td>⋯</td><td>0</td><td>0</td><td>0</td><td>0</td><td>0</td><td>0</td><td>0</td><td>0</td><td>0</td><td>2020-01-24</td></tr>\n",
              "\t<tr><th scope=row>1/25/20</th><td>0</td><td>0</td><td>0</td><td>0</td><td>0</td><td>0</td><td>0</td><td>0</td><td>0</td><td>0</td><td>⋯</td><td>0</td><td>0</td><td>0</td><td>0</td><td>0</td><td>0</td><td>0</td><td>0</td><td>0</td><td>2020-01-25</td></tr>\n",
              "\t<tr><th scope=row>1/26/20</th><td>0</td><td>0</td><td>0</td><td>0</td><td>0</td><td>0</td><td>0</td><td>0</td><td>0</td><td>0</td><td>⋯</td><td>0</td><td>0</td><td>0</td><td>0</td><td>0</td><td>0</td><td>0</td><td>0</td><td>0</td><td>2020-01-26</td></tr>\n",
              "\t<tr><th scope=row>1/27/20</th><td>0</td><td>0</td><td>0</td><td>0</td><td>0</td><td>0</td><td>0</td><td>0</td><td>0</td><td>0</td><td>⋯</td><td>0</td><td>0</td><td>0</td><td>0</td><td>0</td><td>0</td><td>0</td><td>0</td><td>0</td><td>2020-01-27</td></tr>\n",
              "</tbody>\n",
              "</table>\n"
            ]
          },
          "metadata": {
            "tags": []
          }
        }
      ]
    },
    {
      "cell_type": "markdown",
      "metadata": {
        "id": "Q6WHAtLrgmOW"
      },
      "source": [
        "## Select a time window using 'filter'"
      ]
    },
    {
      "cell_type": "code",
      "metadata": {
        "id": "IbSh8oiDMsxI",
        "outputId": "54a04522-0cad-4173-dee1-936e2473c644",
        "colab": {
          "base_uri": "https://localhost:8080/",
          "height": 360
        }
      },
      "source": [
        "tb1 %>% filter( dates > mdy(\"5/1/2020\"), dates < mdy(\"5/31/20\")) %>% head()"
      ],
      "execution_count": 325,
      "outputs": [
        {
          "output_type": "display_data",
          "data": {
            "text/plain": [
              "       Autauga, Alabama, US Baldwin, Alabama, US Barbour, Alabama, US\n",
              "5/2/20 45                   181                  43                  \n",
              "5/3/20 48                   187                  45                  \n",
              "5/4/20 53                   188                  45                  \n",
              "5/5/20 53                   189                  47                  \n",
              "5/6/20 58                   196                  47                  \n",
              "5/7/20 61                   205                  51                  \n",
              "       Bibb, Alabama, US Blount, Alabama, US Bullock, Alabama, US\n",
              "5/2/20 42                40                  14                  \n",
              "5/3/20 43                40                  14                  \n",
              "5/4/20 42                40                  16                  \n",
              "5/5/20 43                40                  18                  \n",
              "5/6/20 43                42                  18                  \n",
              "5/7/20 44                44                  18                  \n",
              "       Butler, Alabama, US Calhoun, Alabama, US Chambers, Alabama, US\n",
              "5/2/20  92                  98                  294                  \n",
              "5/3/20 105                 105                  300                  \n",
              "5/4/20 114                 105                  302                  \n",
              "5/5/20 120                 114                  304                  \n",
              "5/6/20 130                 114                  306                  \n",
              "5/7/20 155                 120                  308                  \n",
              "       Cherokee, Alabama, US ⋯ Platte, Wyoming, US Sheridan, Wyoming, US\n",
              "5/2/20 15                    ⋯ 0                   16                   \n",
              "5/3/20 16                    ⋯ 0                   16                   \n",
              "5/4/20 16                    ⋯ 0                   16                   \n",
              "5/5/20 17                    ⋯ 0                   16                   \n",
              "5/6/20 18                    ⋯ 0                   16                   \n",
              "5/7/20 18                    ⋯ 0                   16                   \n",
              "       Sublette, Wyoming, US Sweetwater, Wyoming, US Teton, Wyoming, US\n",
              "5/2/20 3                     18                      97                \n",
              "5/3/20 3                     18                      98                \n",
              "5/4/20 3                     18                      98                \n",
              "5/5/20 3                     18                      98                \n",
              "5/6/20 3                     19                      98                \n",
              "5/7/20 3                     19                      98                \n",
              "       Uinta, Wyoming, US Unassigned, Wyoming, US Washakie, Wyoming, US\n",
              "5/2/20 8                  0                       8                    \n",
              "5/3/20 8                  0                       8                    \n",
              "5/4/20 8                  0                       8                    \n",
              "5/5/20 8                  0                       8                    \n",
              "5/6/20 8                  0                       8                    \n",
              "5/7/20 8                  0                       8                    \n",
              "       Weston, Wyoming, US dates     \n",
              "5/2/20 0                   2020-05-02\n",
              "5/3/20 0                   2020-05-03\n",
              "5/4/20 0                   2020-05-04\n",
              "5/5/20 0                   2020-05-05\n",
              "5/6/20 0                   2020-05-06\n",
              "5/7/20 0                   2020-05-07"
            ],
            "text/latex": "A data.frame: 6 × 3341\n\\begin{tabular}{r|lllllllllllllllllllll}\n  & Autauga, Alabama, US & Baldwin, Alabama, US & Barbour, Alabama, US & Bibb, Alabama, US & Blount, Alabama, US & Bullock, Alabama, US & Butler, Alabama, US & Calhoun, Alabama, US & Chambers, Alabama, US & Cherokee, Alabama, US & ⋯ & Platte, Wyoming, US & Sheridan, Wyoming, US & Sublette, Wyoming, US & Sweetwater, Wyoming, US & Teton, Wyoming, US & Uinta, Wyoming, US & Unassigned, Wyoming, US & Washakie, Wyoming, US & Weston, Wyoming, US & dates\\\\\n  & <dbl> & <dbl> & <dbl> & <dbl> & <dbl> & <dbl> & <dbl> & <dbl> & <dbl> & <dbl> & ⋯ & <dbl> & <dbl> & <dbl> & <dbl> & <dbl> & <dbl> & <dbl> & <dbl> & <dbl> & <date>\\\\\n\\hline\n\t5/2/20 & 45 & 181 & 43 & 42 & 40 & 14 &  92 &  98 & 294 & 15 & ⋯ & 0 & 16 & 3 & 18 & 97 & 8 & 0 & 8 & 0 & 2020-05-02\\\\\n\t5/3/20 & 48 & 187 & 45 & 43 & 40 & 14 & 105 & 105 & 300 & 16 & ⋯ & 0 & 16 & 3 & 18 & 98 & 8 & 0 & 8 & 0 & 2020-05-03\\\\\n\t5/4/20 & 53 & 188 & 45 & 42 & 40 & 16 & 114 & 105 & 302 & 16 & ⋯ & 0 & 16 & 3 & 18 & 98 & 8 & 0 & 8 & 0 & 2020-05-04\\\\\n\t5/5/20 & 53 & 189 & 47 & 43 & 40 & 18 & 120 & 114 & 304 & 17 & ⋯ & 0 & 16 & 3 & 18 & 98 & 8 & 0 & 8 & 0 & 2020-05-05\\\\\n\t5/6/20 & 58 & 196 & 47 & 43 & 42 & 18 & 130 & 114 & 306 & 18 & ⋯ & 0 & 16 & 3 & 19 & 98 & 8 & 0 & 8 & 0 & 2020-05-06\\\\\n\t5/7/20 & 61 & 205 & 51 & 44 & 44 & 18 & 155 & 120 & 308 & 18 & ⋯ & 0 & 16 & 3 & 19 & 98 & 8 & 0 & 8 & 0 & 2020-05-07\\\\\n\\end{tabular}\n",
            "text/markdown": "\nA data.frame: 6 × 3341\n\n| <!--/--> | Autauga, Alabama, US &lt;dbl&gt; | Baldwin, Alabama, US &lt;dbl&gt; | Barbour, Alabama, US &lt;dbl&gt; | Bibb, Alabama, US &lt;dbl&gt; | Blount, Alabama, US &lt;dbl&gt; | Bullock, Alabama, US &lt;dbl&gt; | Butler, Alabama, US &lt;dbl&gt; | Calhoun, Alabama, US &lt;dbl&gt; | Chambers, Alabama, US &lt;dbl&gt; | Cherokee, Alabama, US &lt;dbl&gt; | ⋯ ⋯ | Platte, Wyoming, US &lt;dbl&gt; | Sheridan, Wyoming, US &lt;dbl&gt; | Sublette, Wyoming, US &lt;dbl&gt; | Sweetwater, Wyoming, US &lt;dbl&gt; | Teton, Wyoming, US &lt;dbl&gt; | Uinta, Wyoming, US &lt;dbl&gt; | Unassigned, Wyoming, US &lt;dbl&gt; | Washakie, Wyoming, US &lt;dbl&gt; | Weston, Wyoming, US &lt;dbl&gt; | dates &lt;date&gt; |\n|---|---|---|---|---|---|---|---|---|---|---|---|---|---|---|---|---|---|---|---|---|---|\n| 5/2/20 | 45 | 181 | 43 | 42 | 40 | 14 |  92 |  98 | 294 | 15 | ⋯ | 0 | 16 | 3 | 18 | 97 | 8 | 0 | 8 | 0 | 2020-05-02 |\n| 5/3/20 | 48 | 187 | 45 | 43 | 40 | 14 | 105 | 105 | 300 | 16 | ⋯ | 0 | 16 | 3 | 18 | 98 | 8 | 0 | 8 | 0 | 2020-05-03 |\n| 5/4/20 | 53 | 188 | 45 | 42 | 40 | 16 | 114 | 105 | 302 | 16 | ⋯ | 0 | 16 | 3 | 18 | 98 | 8 | 0 | 8 | 0 | 2020-05-04 |\n| 5/5/20 | 53 | 189 | 47 | 43 | 40 | 18 | 120 | 114 | 304 | 17 | ⋯ | 0 | 16 | 3 | 18 | 98 | 8 | 0 | 8 | 0 | 2020-05-05 |\n| 5/6/20 | 58 | 196 | 47 | 43 | 42 | 18 | 130 | 114 | 306 | 18 | ⋯ | 0 | 16 | 3 | 19 | 98 | 8 | 0 | 8 | 0 | 2020-05-06 |\n| 5/7/20 | 61 | 205 | 51 | 44 | 44 | 18 | 155 | 120 | 308 | 18 | ⋯ | 0 | 16 | 3 | 19 | 98 | 8 | 0 | 8 | 0 | 2020-05-07 |\n\n",
            "text/html": [
              "<table>\n",
              "<caption>A data.frame: 6 × 3341</caption>\n",
              "<thead>\n",
              "\t<tr><th></th><th scope=col>Autauga, Alabama, US</th><th scope=col>Baldwin, Alabama, US</th><th scope=col>Barbour, Alabama, US</th><th scope=col>Bibb, Alabama, US</th><th scope=col>Blount, Alabama, US</th><th scope=col>Bullock, Alabama, US</th><th scope=col>Butler, Alabama, US</th><th scope=col>Calhoun, Alabama, US</th><th scope=col>Chambers, Alabama, US</th><th scope=col>Cherokee, Alabama, US</th><th scope=col>⋯</th><th scope=col>Platte, Wyoming, US</th><th scope=col>Sheridan, Wyoming, US</th><th scope=col>Sublette, Wyoming, US</th><th scope=col>Sweetwater, Wyoming, US</th><th scope=col>Teton, Wyoming, US</th><th scope=col>Uinta, Wyoming, US</th><th scope=col>Unassigned, Wyoming, US</th><th scope=col>Washakie, Wyoming, US</th><th scope=col>Weston, Wyoming, US</th><th scope=col>dates</th></tr>\n",
              "\t<tr><th></th><th scope=col>&lt;dbl&gt;</th><th scope=col>&lt;dbl&gt;</th><th scope=col>&lt;dbl&gt;</th><th scope=col>&lt;dbl&gt;</th><th scope=col>&lt;dbl&gt;</th><th scope=col>&lt;dbl&gt;</th><th scope=col>&lt;dbl&gt;</th><th scope=col>&lt;dbl&gt;</th><th scope=col>&lt;dbl&gt;</th><th scope=col>&lt;dbl&gt;</th><th scope=col>⋯</th><th scope=col>&lt;dbl&gt;</th><th scope=col>&lt;dbl&gt;</th><th scope=col>&lt;dbl&gt;</th><th scope=col>&lt;dbl&gt;</th><th scope=col>&lt;dbl&gt;</th><th scope=col>&lt;dbl&gt;</th><th scope=col>&lt;dbl&gt;</th><th scope=col>&lt;dbl&gt;</th><th scope=col>&lt;dbl&gt;</th><th scope=col>&lt;date&gt;</th></tr>\n",
              "</thead>\n",
              "<tbody>\n",
              "\t<tr><th scope=row>5/2/20</th><td>45</td><td>181</td><td>43</td><td>42</td><td>40</td><td>14</td><td> 92</td><td> 98</td><td>294</td><td>15</td><td>⋯</td><td>0</td><td>16</td><td>3</td><td>18</td><td>97</td><td>8</td><td>0</td><td>8</td><td>0</td><td>2020-05-02</td></tr>\n",
              "\t<tr><th scope=row>5/3/20</th><td>48</td><td>187</td><td>45</td><td>43</td><td>40</td><td>14</td><td>105</td><td>105</td><td>300</td><td>16</td><td>⋯</td><td>0</td><td>16</td><td>3</td><td>18</td><td>98</td><td>8</td><td>0</td><td>8</td><td>0</td><td>2020-05-03</td></tr>\n",
              "\t<tr><th scope=row>5/4/20</th><td>53</td><td>188</td><td>45</td><td>42</td><td>40</td><td>16</td><td>114</td><td>105</td><td>302</td><td>16</td><td>⋯</td><td>0</td><td>16</td><td>3</td><td>18</td><td>98</td><td>8</td><td>0</td><td>8</td><td>0</td><td>2020-05-04</td></tr>\n",
              "\t<tr><th scope=row>5/5/20</th><td>53</td><td>189</td><td>47</td><td>43</td><td>40</td><td>18</td><td>120</td><td>114</td><td>304</td><td>17</td><td>⋯</td><td>0</td><td>16</td><td>3</td><td>18</td><td>98</td><td>8</td><td>0</td><td>8</td><td>0</td><td>2020-05-05</td></tr>\n",
              "\t<tr><th scope=row>5/6/20</th><td>58</td><td>196</td><td>47</td><td>43</td><td>42</td><td>18</td><td>130</td><td>114</td><td>306</td><td>18</td><td>⋯</td><td>0</td><td>16</td><td>3</td><td>19</td><td>98</td><td>8</td><td>0</td><td>8</td><td>0</td><td>2020-05-06</td></tr>\n",
              "\t<tr><th scope=row>5/7/20</th><td>61</td><td>205</td><td>51</td><td>44</td><td>44</td><td>18</td><td>155</td><td>120</td><td>308</td><td>18</td><td>⋯</td><td>0</td><td>16</td><td>3</td><td>19</td><td>98</td><td>8</td><td>0</td><td>8</td><td>0</td><td>2020-05-07</td></tr>\n",
              "</tbody>\n",
              "</table>\n"
            ]
          },
          "metadata": {
            "tags": []
          }
        }
      ]
    },
    {
      "cell_type": "code",
      "metadata": {
        "id": "t24-UDQvm2ry",
        "outputId": "923993db-c000-4178-f828-db9d2c7f9a5f",
        "colab": {
          "base_uri": "https://localhost:8080/",
          "height": 34
        }
      },
      "source": [
        "start = mdy(\"9/14/20\")\n",
        "start + ddays(13)"
      ],
      "execution_count": 326,
      "outputs": [
        {
          "output_type": "display_data",
          "data": {
            "text/plain": [
              "[1] \"2020-09-27\""
            ],
            "text/latex": "2020-09-27",
            "text/markdown": "2020-09-27",
            "text/html": [
              "<time datetime=\"2020-09-27\">2020-09-27</time>"
            ]
          },
          "metadata": {
            "tags": []
          }
        }
      ]
    },
    {
      "cell_type": "code",
      "metadata": {
        "id": "zMlWc4R-hR5U",
        "outputId": "9f943f53-633d-4a9a-c1c8-0421cd735061",
        "colab": {
          "base_uri": "https://localhost:8080/",
          "height": 372
        }
      },
      "source": [
        "tb1 %>% dplyr::filter( dates >= start, dates <=  start + ddays(13)) %>% dplyr::select(1:5)"
      ],
      "execution_count": 327,
      "outputs": [
        {
          "output_type": "display_data",
          "data": {
            "text/plain": [
              "        Autauga, Alabama, US Baldwin, Alabama, US Barbour, Alabama, US\n",
              "9/14/20 1447                 4800                 626                 \n",
              "9/15/20 1463                 4812                 629                 \n",
              "9/16/20 1619                 5003                 809                 \n",
              "9/17/20 1624                 5021                 809                 \n",
              "9/18/20 1664                 5033                 824                 \n",
              "9/19/20 1673                 5047                 830                 \n",
              "9/20/20 1690                 5061                 835                 \n",
              "9/21/20 1691                 5087                 838                 \n",
              "9/22/20 1714                 5124                 848                 \n",
              "9/23/20 1715                 5141                 851                 \n",
              "9/24/20 1738                 5165                 857                 \n",
              "9/25/20 1757                 5456                 873                 \n",
              "9/26/20 1764                 5477                 882                 \n",
              "9/27/20 1773                 5526                 885                 \n",
              "        Bibb, Alabama, US Blount, Alabama, US\n",
              "9/14/20 581               1128               \n",
              "9/15/20 580               1139               \n",
              "9/16/20 612               1487               \n",
              "9/17/20 617               1504               \n",
              "9/18/20 619               1527               \n",
              "9/19/20 628               1542               \n",
              "9/20/20 632               1551               \n",
              "9/21/20 636               1560               \n",
              "9/22/20 635               1573               \n",
              "9/23/20 638               1580               \n",
              "9/24/20 642               1594               \n",
              "9/25/20 652               1608               \n",
              "9/26/20 654               1611               \n",
              "9/27/20 656               1617               "
            ],
            "text/latex": "A data.frame: 14 × 5\n\\begin{tabular}{r|lllll}\n  & Autauga, Alabama, US & Baldwin, Alabama, US & Barbour, Alabama, US & Bibb, Alabama, US & Blount, Alabama, US\\\\\n  & <dbl> & <dbl> & <dbl> & <dbl> & <dbl>\\\\\n\\hline\n\t9/14/20 & 1447 & 4800 & 626 & 581 & 1128\\\\\n\t9/15/20 & 1463 & 4812 & 629 & 580 & 1139\\\\\n\t9/16/20 & 1619 & 5003 & 809 & 612 & 1487\\\\\n\t9/17/20 & 1624 & 5021 & 809 & 617 & 1504\\\\\n\t9/18/20 & 1664 & 5033 & 824 & 619 & 1527\\\\\n\t9/19/20 & 1673 & 5047 & 830 & 628 & 1542\\\\\n\t9/20/20 & 1690 & 5061 & 835 & 632 & 1551\\\\\n\t9/21/20 & 1691 & 5087 & 838 & 636 & 1560\\\\\n\t9/22/20 & 1714 & 5124 & 848 & 635 & 1573\\\\\n\t9/23/20 & 1715 & 5141 & 851 & 638 & 1580\\\\\n\t9/24/20 & 1738 & 5165 & 857 & 642 & 1594\\\\\n\t9/25/20 & 1757 & 5456 & 873 & 652 & 1608\\\\\n\t9/26/20 & 1764 & 5477 & 882 & 654 & 1611\\\\\n\t9/27/20 & 1773 & 5526 & 885 & 656 & 1617\\\\\n\\end{tabular}\n",
            "text/markdown": "\nA data.frame: 14 × 5\n\n| <!--/--> | Autauga, Alabama, US &lt;dbl&gt; | Baldwin, Alabama, US &lt;dbl&gt; | Barbour, Alabama, US &lt;dbl&gt; | Bibb, Alabama, US &lt;dbl&gt; | Blount, Alabama, US &lt;dbl&gt; |\n|---|---|---|---|---|---|\n| 9/14/20 | 1447 | 4800 | 626 | 581 | 1128 |\n| 9/15/20 | 1463 | 4812 | 629 | 580 | 1139 |\n| 9/16/20 | 1619 | 5003 | 809 | 612 | 1487 |\n| 9/17/20 | 1624 | 5021 | 809 | 617 | 1504 |\n| 9/18/20 | 1664 | 5033 | 824 | 619 | 1527 |\n| 9/19/20 | 1673 | 5047 | 830 | 628 | 1542 |\n| 9/20/20 | 1690 | 5061 | 835 | 632 | 1551 |\n| 9/21/20 | 1691 | 5087 | 838 | 636 | 1560 |\n| 9/22/20 | 1714 | 5124 | 848 | 635 | 1573 |\n| 9/23/20 | 1715 | 5141 | 851 | 638 | 1580 |\n| 9/24/20 | 1738 | 5165 | 857 | 642 | 1594 |\n| 9/25/20 | 1757 | 5456 | 873 | 652 | 1608 |\n| 9/26/20 | 1764 | 5477 | 882 | 654 | 1611 |\n| 9/27/20 | 1773 | 5526 | 885 | 656 | 1617 |\n\n",
            "text/html": [
              "<table>\n",
              "<caption>A data.frame: 14 × 5</caption>\n",
              "<thead>\n",
              "\t<tr><th></th><th scope=col>Autauga, Alabama, US</th><th scope=col>Baldwin, Alabama, US</th><th scope=col>Barbour, Alabama, US</th><th scope=col>Bibb, Alabama, US</th><th scope=col>Blount, Alabama, US</th></tr>\n",
              "\t<tr><th></th><th scope=col>&lt;dbl&gt;</th><th scope=col>&lt;dbl&gt;</th><th scope=col>&lt;dbl&gt;</th><th scope=col>&lt;dbl&gt;</th><th scope=col>&lt;dbl&gt;</th></tr>\n",
              "</thead>\n",
              "<tbody>\n",
              "\t<tr><th scope=row>9/14/20</th><td>1447</td><td>4800</td><td>626</td><td>581</td><td>1128</td></tr>\n",
              "\t<tr><th scope=row>9/15/20</th><td>1463</td><td>4812</td><td>629</td><td>580</td><td>1139</td></tr>\n",
              "\t<tr><th scope=row>9/16/20</th><td>1619</td><td>5003</td><td>809</td><td>612</td><td>1487</td></tr>\n",
              "\t<tr><th scope=row>9/17/20</th><td>1624</td><td>5021</td><td>809</td><td>617</td><td>1504</td></tr>\n",
              "\t<tr><th scope=row>9/18/20</th><td>1664</td><td>5033</td><td>824</td><td>619</td><td>1527</td></tr>\n",
              "\t<tr><th scope=row>9/19/20</th><td>1673</td><td>5047</td><td>830</td><td>628</td><td>1542</td></tr>\n",
              "\t<tr><th scope=row>9/20/20</th><td>1690</td><td>5061</td><td>835</td><td>632</td><td>1551</td></tr>\n",
              "\t<tr><th scope=row>9/21/20</th><td>1691</td><td>5087</td><td>838</td><td>636</td><td>1560</td></tr>\n",
              "\t<tr><th scope=row>9/22/20</th><td>1714</td><td>5124</td><td>848</td><td>635</td><td>1573</td></tr>\n",
              "\t<tr><th scope=row>9/23/20</th><td>1715</td><td>5141</td><td>851</td><td>638</td><td>1580</td></tr>\n",
              "\t<tr><th scope=row>9/24/20</th><td>1738</td><td>5165</td><td>857</td><td>642</td><td>1594</td></tr>\n",
              "\t<tr><th scope=row>9/25/20</th><td>1757</td><td>5456</td><td>873</td><td>652</td><td>1608</td></tr>\n",
              "\t<tr><th scope=row>9/26/20</th><td>1764</td><td>5477</td><td>882</td><td>654</td><td>1611</td></tr>\n",
              "\t<tr><th scope=row>9/27/20</th><td>1773</td><td>5526</td><td>885</td><td>656</td><td>1617</td></tr>\n",
              "</tbody>\n",
              "</table>\n"
            ]
          },
          "metadata": {
            "tags": []
          }
        }
      ]
    },
    {
      "cell_type": "markdown",
      "metadata": {
        "id": "p9gZ6U8Rh_d-"
      },
      "source": [
        "## Plot a time window"
      ]
    },
    {
      "cell_type": "code",
      "metadata": {
        "id": "U2a2n5Jphndl",
        "outputId": "953a9510-9f26-4726-bf22-4f38e11b3aeb",
        "colab": {
          "base_uri": "https://localhost:8080/",
          "height": 389
        }
      },
      "source": [
        "start = mdy(\"9/16/20\")\n",
        "start + ddays(14)\n",
        "\n",
        "tb_sub <- \n",
        " tb1 %>% dplyr::filter( dates >= start, dates <  start + ddays(14)) %>% dplyr::select( c(1:5), dates)\n",
        "\n",
        "tb_sub"
      ],
      "execution_count": 328,
      "outputs": [
        {
          "output_type": "display_data",
          "data": {
            "text/plain": [
              "[1] \"2020-09-30\""
            ],
            "text/latex": "2020-09-30",
            "text/markdown": "2020-09-30",
            "text/html": [
              "<time datetime=\"2020-09-30\">2020-09-30</time>"
            ]
          },
          "metadata": {
            "tags": []
          }
        },
        {
          "output_type": "display_data",
          "data": {
            "text/plain": [
              "        Autauga, Alabama, US Baldwin, Alabama, US Barbour, Alabama, US\n",
              "9/16/20 1619                 5003                 809                 \n",
              "9/17/20 1624                 5021                 809                 \n",
              "9/18/20 1664                 5033                 824                 \n",
              "9/19/20 1673                 5047                 830                 \n",
              "9/20/20 1690                 5061                 835                 \n",
              "9/21/20 1691                 5087                 838                 \n",
              "9/22/20 1714                 5124                 848                 \n",
              "9/23/20 1715                 5141                 851                 \n",
              "9/24/20 1738                 5165                 857                 \n",
              "9/25/20 1757                 5456                 873                 \n",
              "9/26/20 1764                 5477                 882                 \n",
              "9/27/20 1773                 5526                 885                 \n",
              "9/28/20 1785                 5588                 886                 \n",
              "9/29/20 1787                 5606                 886                 \n",
              "        Bibb, Alabama, US Blount, Alabama, US dates     \n",
              "9/16/20 612               1487                2020-09-16\n",
              "9/17/20 617               1504                2020-09-17\n",
              "9/18/20 619               1527                2020-09-18\n",
              "9/19/20 628               1542                2020-09-19\n",
              "9/20/20 632               1551                2020-09-20\n",
              "9/21/20 636               1560                2020-09-21\n",
              "9/22/20 635               1573                2020-09-22\n",
              "9/23/20 638               1580                2020-09-23\n",
              "9/24/20 642               1594                2020-09-24\n",
              "9/25/20 652               1608                2020-09-25\n",
              "9/26/20 654               1611                2020-09-26\n",
              "9/27/20 656               1617                2020-09-27\n",
              "9/28/20 657               1618                2020-09-28\n",
              "9/29/20 658               1621                2020-09-29"
            ],
            "text/latex": "A data.frame: 14 × 6\n\\begin{tabular}{r|llllll}\n  & Autauga, Alabama, US & Baldwin, Alabama, US & Barbour, Alabama, US & Bibb, Alabama, US & Blount, Alabama, US & dates\\\\\n  & <dbl> & <dbl> & <dbl> & <dbl> & <dbl> & <date>\\\\\n\\hline\n\t9/16/20 & 1619 & 5003 & 809 & 612 & 1487 & 2020-09-16\\\\\n\t9/17/20 & 1624 & 5021 & 809 & 617 & 1504 & 2020-09-17\\\\\n\t9/18/20 & 1664 & 5033 & 824 & 619 & 1527 & 2020-09-18\\\\\n\t9/19/20 & 1673 & 5047 & 830 & 628 & 1542 & 2020-09-19\\\\\n\t9/20/20 & 1690 & 5061 & 835 & 632 & 1551 & 2020-09-20\\\\\n\t9/21/20 & 1691 & 5087 & 838 & 636 & 1560 & 2020-09-21\\\\\n\t9/22/20 & 1714 & 5124 & 848 & 635 & 1573 & 2020-09-22\\\\\n\t9/23/20 & 1715 & 5141 & 851 & 638 & 1580 & 2020-09-23\\\\\n\t9/24/20 & 1738 & 5165 & 857 & 642 & 1594 & 2020-09-24\\\\\n\t9/25/20 & 1757 & 5456 & 873 & 652 & 1608 & 2020-09-25\\\\\n\t9/26/20 & 1764 & 5477 & 882 & 654 & 1611 & 2020-09-26\\\\\n\t9/27/20 & 1773 & 5526 & 885 & 656 & 1617 & 2020-09-27\\\\\n\t9/28/20 & 1785 & 5588 & 886 & 657 & 1618 & 2020-09-28\\\\\n\t9/29/20 & 1787 & 5606 & 886 & 658 & 1621 & 2020-09-29\\\\\n\\end{tabular}\n",
            "text/markdown": "\nA data.frame: 14 × 6\n\n| <!--/--> | Autauga, Alabama, US &lt;dbl&gt; | Baldwin, Alabama, US &lt;dbl&gt; | Barbour, Alabama, US &lt;dbl&gt; | Bibb, Alabama, US &lt;dbl&gt; | Blount, Alabama, US &lt;dbl&gt; | dates &lt;date&gt; |\n|---|---|---|---|---|---|---|\n| 9/16/20 | 1619 | 5003 | 809 | 612 | 1487 | 2020-09-16 |\n| 9/17/20 | 1624 | 5021 | 809 | 617 | 1504 | 2020-09-17 |\n| 9/18/20 | 1664 | 5033 | 824 | 619 | 1527 | 2020-09-18 |\n| 9/19/20 | 1673 | 5047 | 830 | 628 | 1542 | 2020-09-19 |\n| 9/20/20 | 1690 | 5061 | 835 | 632 | 1551 | 2020-09-20 |\n| 9/21/20 | 1691 | 5087 | 838 | 636 | 1560 | 2020-09-21 |\n| 9/22/20 | 1714 | 5124 | 848 | 635 | 1573 | 2020-09-22 |\n| 9/23/20 | 1715 | 5141 | 851 | 638 | 1580 | 2020-09-23 |\n| 9/24/20 | 1738 | 5165 | 857 | 642 | 1594 | 2020-09-24 |\n| 9/25/20 | 1757 | 5456 | 873 | 652 | 1608 | 2020-09-25 |\n| 9/26/20 | 1764 | 5477 | 882 | 654 | 1611 | 2020-09-26 |\n| 9/27/20 | 1773 | 5526 | 885 | 656 | 1617 | 2020-09-27 |\n| 9/28/20 | 1785 | 5588 | 886 | 657 | 1618 | 2020-09-28 |\n| 9/29/20 | 1787 | 5606 | 886 | 658 | 1621 | 2020-09-29 |\n\n",
            "text/html": [
              "<table>\n",
              "<caption>A data.frame: 14 × 6</caption>\n",
              "<thead>\n",
              "\t<tr><th></th><th scope=col>Autauga, Alabama, US</th><th scope=col>Baldwin, Alabama, US</th><th scope=col>Barbour, Alabama, US</th><th scope=col>Bibb, Alabama, US</th><th scope=col>Blount, Alabama, US</th><th scope=col>dates</th></tr>\n",
              "\t<tr><th></th><th scope=col>&lt;dbl&gt;</th><th scope=col>&lt;dbl&gt;</th><th scope=col>&lt;dbl&gt;</th><th scope=col>&lt;dbl&gt;</th><th scope=col>&lt;dbl&gt;</th><th scope=col>&lt;date&gt;</th></tr>\n",
              "</thead>\n",
              "<tbody>\n",
              "\t<tr><th scope=row>9/16/20</th><td>1619</td><td>5003</td><td>809</td><td>612</td><td>1487</td><td>2020-09-16</td></tr>\n",
              "\t<tr><th scope=row>9/17/20</th><td>1624</td><td>5021</td><td>809</td><td>617</td><td>1504</td><td>2020-09-17</td></tr>\n",
              "\t<tr><th scope=row>9/18/20</th><td>1664</td><td>5033</td><td>824</td><td>619</td><td>1527</td><td>2020-09-18</td></tr>\n",
              "\t<tr><th scope=row>9/19/20</th><td>1673</td><td>5047</td><td>830</td><td>628</td><td>1542</td><td>2020-09-19</td></tr>\n",
              "\t<tr><th scope=row>9/20/20</th><td>1690</td><td>5061</td><td>835</td><td>632</td><td>1551</td><td>2020-09-20</td></tr>\n",
              "\t<tr><th scope=row>9/21/20</th><td>1691</td><td>5087</td><td>838</td><td>636</td><td>1560</td><td>2020-09-21</td></tr>\n",
              "\t<tr><th scope=row>9/22/20</th><td>1714</td><td>5124</td><td>848</td><td>635</td><td>1573</td><td>2020-09-22</td></tr>\n",
              "\t<tr><th scope=row>9/23/20</th><td>1715</td><td>5141</td><td>851</td><td>638</td><td>1580</td><td>2020-09-23</td></tr>\n",
              "\t<tr><th scope=row>9/24/20</th><td>1738</td><td>5165</td><td>857</td><td>642</td><td>1594</td><td>2020-09-24</td></tr>\n",
              "\t<tr><th scope=row>9/25/20</th><td>1757</td><td>5456</td><td>873</td><td>652</td><td>1608</td><td>2020-09-25</td></tr>\n",
              "\t<tr><th scope=row>9/26/20</th><td>1764</td><td>5477</td><td>882</td><td>654</td><td>1611</td><td>2020-09-26</td></tr>\n",
              "\t<tr><th scope=row>9/27/20</th><td>1773</td><td>5526</td><td>885</td><td>656</td><td>1617</td><td>2020-09-27</td></tr>\n",
              "\t<tr><th scope=row>9/28/20</th><td>1785</td><td>5588</td><td>886</td><td>657</td><td>1618</td><td>2020-09-28</td></tr>\n",
              "\t<tr><th scope=row>9/29/20</th><td>1787</td><td>5606</td><td>886</td><td>658</td><td>1621</td><td>2020-09-29</td></tr>\n",
              "</tbody>\n",
              "</table>\n"
            ]
          },
          "metadata": {
            "tags": []
          }
        }
      ]
    },
    {
      "cell_type": "code",
      "metadata": {
        "id": "u-Xm-PckiQGh",
        "outputId": "6deee1c4-8fb2-40c5-8ee2-3710e750ee84",
        "colab": {
          "base_uri": "https://localhost:8080/",
          "height": 471
        }
      },
      "source": [
        "ggplot(tb_sub, aes( x = dates, y=tb_sub[,3])) + geom_point() + geom_smooth()"
      ],
      "execution_count": 329,
      "outputs": [
        {
          "output_type": "stream",
          "text": [
            "`geom_smooth()` using method = 'loess' and formula 'y ~ x'\n",
            "\n"
          ],
          "name": "stderr"
        },
        {
          "output_type": "display_data",
          "data": {
            "image/png": "[encoded data removed]",
            "text/plain": [
              "plot without title"
            ]
          },
          "metadata": {
            "tags": [],
            "image/png": {
              "width": 420,
              "height": 420
            }
          }
        }
      ]
    },
    {
      "cell_type": "markdown",
      "metadata": {
        "id": "ZL2X6h2YSfAs"
      },
      "source": [
        "## Now, let's look a specific county. \n",
        "How about Pulaski, AR? \n"
      ]
    },
    {
      "cell_type": "code",
      "metadata": {
        "id": "pCc8c1_BTQ-q",
        "outputId": "0e08c1df-c26c-4d17-ea93-772c388c018c",
        "colab": {
          "base_uri": "https://localhost:8080/",
          "height": 17
        }
      },
      "source": [
        "mycountyname = 'Pulaski'\n",
        "names(tb1)[ grep(\"mycountyname\", colnames(tb1))]"
      ],
      "execution_count": 330,
      "outputs": [
        {
          "output_type": "display_data",
          "data": {
            "text/plain": [
              "character(0)"
            ],
            "text/latex": "",
            "text/markdown": "",
            "text/html": [
              ""
            ]
          },
          "metadata": {
            "tags": []
          }
        }
      ]
    },
    {
      "cell_type": "code",
      "metadata": {
        "id": "fjgUw4R8TzWy",
        "outputId": "892f3eda-d55e-491d-e1c7-b8ba3220aa49",
        "colab": {
          "base_uri": "https://localhost:8080/",
          "height": 34
        }
      },
      "source": [
        "print(paste(\"There are \", length(names(tb1)[ grep(\"Pulaski\", colnames(tb1))] ), mycountyname, \"counties in the USA\"))"
      ],
      "execution_count": 331,
      "outputs": [
        {
          "output_type": "stream",
          "text": [
            "[1] \"There are  7 Pulaski counties in the USA\"\n"
          ],
          "name": "stdout"
        }
      ]
    },
    {
      "cell_type": "code",
      "metadata": {
        "id": "TkttWHr5UM6z",
        "outputId": "5b5ca9d7-6cb6-4ef8-e5ea-d3dcef386c13",
        "colab": {
          "base_uri": "https://localhost:8080/",
          "height": 1000
        }
      },
      "source": [
        "tb1 %>% dplyr::select ( c('Pulaski, Arkansas, US', 'dates'))"
      ],
      "execution_count": 332,
      "outputs": [
        {
          "output_type": "display_data",
          "data": {
            "text/plain": [
              "         Pulaski, Arkansas, US dates     \n",
              "1/22/20  0                     2020-01-22\n",
              "1/23/20  0                     2020-01-23\n",
              "1/24/20  0                     2020-01-24\n",
              "1/25/20  0                     2020-01-25\n",
              "1/26/20  0                     2020-01-26\n",
              "1/27/20  0                     2020-01-27\n",
              "1/28/20  0                     2020-01-28\n",
              "1/29/20  0                     2020-01-29\n",
              "1/30/20  0                     2020-01-30\n",
              "1/31/20  0                     2020-01-31\n",
              "2/1/20   0                     2020-02-01\n",
              "2/2/20   0                     2020-02-02\n",
              "2/3/20   0                     2020-02-03\n",
              "2/4/20   0                     2020-02-04\n",
              "2/5/20   0                     2020-02-05\n",
              "2/6/20   0                     2020-02-06\n",
              "2/7/20   0                     2020-02-07\n",
              "2/8/20   0                     2020-02-08\n",
              "2/9/20   0                     2020-02-09\n",
              "2/10/20  0                     2020-02-10\n",
              "2/11/20  0                     2020-02-11\n",
              "2/12/20  0                     2020-02-12\n",
              "2/13/20  0                     2020-02-13\n",
              "2/14/20  0                     2020-02-14\n",
              "2/15/20  0                     2020-02-15\n",
              "2/16/20  0                     2020-02-16\n",
              "2/17/20  0                     2020-02-17\n",
              "2/18/20  0                     2020-02-18\n",
              "2/19/20  0                     2020-02-19\n",
              "2/20/20  0                     2020-02-20\n",
              "⋮        ⋮                     ⋮         \n",
              "9/16/20   8329                 2020-09-16\n",
              "9/17/20   8408                 2020-09-17\n",
              "9/18/20   8473                 2020-09-18\n",
              "9/19/20   8556                 2020-09-19\n",
              "9/20/20   8596                 2020-09-20\n",
              "9/21/20   8670                 2020-09-21\n",
              "9/22/20   8804                 2020-09-22\n",
              "9/23/20   8881                 2020-09-23\n",
              "9/24/20   8981                 2020-09-24\n",
              "9/25/20   9059                 2020-09-25\n",
              "9/26/20   9135                 2020-09-26\n",
              "9/27/20   9163                 2020-09-27\n",
              "9/28/20   9351                 2020-09-28\n",
              "9/29/20   9422                 2020-09-29\n",
              "9/30/20   9509                 2020-09-30\n",
              "10/1/20   9612                 2020-10-01\n",
              "10/2/20   9648                 2020-10-02\n",
              "10/3/20   9720                 2020-10-03\n",
              "10/4/20   9770                 2020-10-04\n",
              "10/5/20   9859                 2020-10-05\n",
              "10/6/20   9944                 2020-10-06\n",
              "10/7/20  10014                 2020-10-07\n",
              "10/8/20  10130                 2020-10-08\n",
              "10/9/20  10224                 2020-10-09\n",
              "10/10/20 10331                 2020-10-10\n",
              "10/11/20 10433                 2020-10-11\n",
              "10/12/20 10525                 2020-10-12\n",
              "10/13/20 10603                 2020-10-13\n",
              "10/14/20 10727                 2020-10-14\n",
              "10/15/20 10862                 2020-10-15"
            ],
            "text/latex": "A data.frame: 268 × 2\n\\begin{tabular}{r|ll}\n  & Pulaski, Arkansas, US & dates\\\\\n  & <dbl> & <date>\\\\\n\\hline\n\t1/22/20 & 0 & 2020-01-22\\\\\n\t1/23/20 & 0 & 2020-01-23\\\\\n\t1/24/20 & 0 & 2020-01-24\\\\\n\t1/25/20 & 0 & 2020-01-25\\\\\n\t1/26/20 & 0 & 2020-01-26\\\\\n\t1/27/20 & 0 & 2020-01-27\\\\\n\t1/28/20 & 0 & 2020-01-28\\\\\n\t1/29/20 & 0 & 2020-01-29\\\\\n\t1/30/20 & 0 & 2020-01-30\\\\\n\t1/31/20 & 0 & 2020-01-31\\\\\n\t2/1/20 & 0 & 2020-02-01\\\\\n\t2/2/20 & 0 & 2020-02-02\\\\\n\t2/3/20 & 0 & 2020-02-03\\\\\n\t2/4/20 & 0 & 2020-02-04\\\\\n\t2/5/20 & 0 & 2020-02-05\\\\\n\t2/6/20 & 0 & 2020-02-06\\\\\n\t2/7/20 & 0 & 2020-02-07\\\\\n\t2/8/20 & 0 & 2020-02-08\\\\\n\t2/9/20 & 0 & 2020-02-09\\\\\n\t2/10/20 & 0 & 2020-02-10\\\\\n\t2/11/20 & 0 & 2020-02-11\\\\\n\t2/12/20 & 0 & 2020-02-12\\\\\n\t2/13/20 & 0 & 2020-02-13\\\\\n\t2/14/20 & 0 & 2020-02-14\\\\\n\t2/15/20 & 0 & 2020-02-15\\\\\n\t2/16/20 & 0 & 2020-02-16\\\\\n\t2/17/20 & 0 & 2020-02-17\\\\\n\t2/18/20 & 0 & 2020-02-18\\\\\n\t2/19/20 & 0 & 2020-02-19\\\\\n\t2/20/20 & 0 & 2020-02-20\\\\\n\t⋮ & ⋮ & ⋮\\\\\n\t9/16/20 &  8329 & 2020-09-16\\\\\n\t9/17/20 &  8408 & 2020-09-17\\\\\n\t9/18/20 &  8473 & 2020-09-18\\\\\n\t9/19/20 &  8556 & 2020-09-19\\\\\n\t9/20/20 &  8596 & 2020-09-20\\\\\n\t9/21/20 &  8670 & 2020-09-21\\\\\n\t9/22/20 &  8804 & 2020-09-22\\\\\n\t9/23/20 &  8881 & 2020-09-23\\\\\n\t9/24/20 &  8981 & 2020-09-24\\\\\n\t9/25/20 &  9059 & 2020-09-25\\\\\n\t9/26/20 &  9135 & 2020-09-26\\\\\n\t9/27/20 &  9163 & 2020-09-27\\\\\n\t9/28/20 &  9351 & 2020-09-28\\\\\n\t9/29/20 &  9422 & 2020-09-29\\\\\n\t9/30/20 &  9509 & 2020-09-30\\\\\n\t10/1/20 &  9612 & 2020-10-01\\\\\n\t10/2/20 &  9648 & 2020-10-02\\\\\n\t10/3/20 &  9720 & 2020-10-03\\\\\n\t10/4/20 &  9770 & 2020-10-04\\\\\n\t10/5/20 &  9859 & 2020-10-05\\\\\n\t10/6/20 &  9944 & 2020-10-06\\\\\n\t10/7/20 & 10014 & 2020-10-07\\\\\n\t10/8/20 & 10130 & 2020-10-08\\\\\n\t10/9/20 & 10224 & 2020-10-09\\\\\n\t10/10/20 & 10331 & 2020-10-10\\\\\n\t10/11/20 & 10433 & 2020-10-11\\\\\n\t10/12/20 & 10525 & 2020-10-12\\\\\n\t10/13/20 & 10603 & 2020-10-13\\\\\n\t10/14/20 & 10727 & 2020-10-14\\\\\n\t10/15/20 & 10862 & 2020-10-15\\\\\n\\end{tabular}\n",
            "text/markdown": "\nA data.frame: 268 × 2\n\n| <!--/--> | Pulaski, Arkansas, US &lt;dbl&gt; | dates &lt;date&gt; |\n|---|---|---|\n| 1/22/20 | 0 | 2020-01-22 |\n| 1/23/20 | 0 | 2020-01-23 |\n| 1/24/20 | 0 | 2020-01-24 |\n| 1/25/20 | 0 | 2020-01-25 |\n| 1/26/20 | 0 | 2020-01-26 |\n| 1/27/20 | 0 | 2020-01-27 |\n| 1/28/20 | 0 | 2020-01-28 |\n| 1/29/20 | 0 | 2020-01-29 |\n| 1/30/20 | 0 | 2020-01-30 |\n| 1/31/20 | 0 | 2020-01-31 |\n| 2/1/20 | 0 | 2020-02-01 |\n| 2/2/20 | 0 | 2020-02-02 |\n| 2/3/20 | 0 | 2020-02-03 |\n| 2/4/20 | 0 | 2020-02-04 |\n| 2/5/20 | 0 | 2020-02-05 |\n| 2/6/20 | 0 | 2020-02-06 |\n| 2/7/20 | 0 | 2020-02-07 |\n| 2/8/20 | 0 | 2020-02-08 |\n| 2/9/20 | 0 | 2020-02-09 |\n| 2/10/20 | 0 | 2020-02-10 |\n| 2/11/20 | 0 | 2020-02-11 |\n| 2/12/20 | 0 | 2020-02-12 |\n| 2/13/20 | 0 | 2020-02-13 |\n| 2/14/20 | 0 | 2020-02-14 |\n| 2/15/20 | 0 | 2020-02-15 |\n| 2/16/20 | 0 | 2020-02-16 |\n| 2/17/20 | 0 | 2020-02-17 |\n| 2/18/20 | 0 | 2020-02-18 |\n| 2/19/20 | 0 | 2020-02-19 |\n| 2/20/20 | 0 | 2020-02-20 |\n| ⋮ | ⋮ | ⋮ |\n| 9/16/20 |  8329 | 2020-09-16 |\n| 9/17/20 |  8408 | 2020-09-17 |\n| 9/18/20 |  8473 | 2020-09-18 |\n| 9/19/20 |  8556 | 2020-09-19 |\n| 9/20/20 |  8596 | 2020-09-20 |\n| 9/21/20 |  8670 | 2020-09-21 |\n| 9/22/20 |  8804 | 2020-09-22 |\n| 9/23/20 |  8881 | 2020-09-23 |\n| 9/24/20 |  8981 | 2020-09-24 |\n| 9/25/20 |  9059 | 2020-09-25 |\n| 9/26/20 |  9135 | 2020-09-26 |\n| 9/27/20 |  9163 | 2020-09-27 |\n| 9/28/20 |  9351 | 2020-09-28 |\n| 9/29/20 |  9422 | 2020-09-29 |\n| 9/30/20 |  9509 | 2020-09-30 |\n| 10/1/20 |  9612 | 2020-10-01 |\n| 10/2/20 |  9648 | 2020-10-02 |\n| 10/3/20 |  9720 | 2020-10-03 |\n| 10/4/20 |  9770 | 2020-10-04 |\n| 10/5/20 |  9859 | 2020-10-05 |\n| 10/6/20 |  9944 | 2020-10-06 |\n| 10/7/20 | 10014 | 2020-10-07 |\n| 10/8/20 | 10130 | 2020-10-08 |\n| 10/9/20 | 10224 | 2020-10-09 |\n| 10/10/20 | 10331 | 2020-10-10 |\n| 10/11/20 | 10433 | 2020-10-11 |\n| 10/12/20 | 10525 | 2020-10-12 |\n| 10/13/20 | 10603 | 2020-10-13 |\n| 10/14/20 | 10727 | 2020-10-14 |\n| 10/15/20 | 10862 | 2020-10-15 |\n\n",
            "text/html": [
              "<table>\n",
              "<caption>A data.frame: 268 × 2</caption>\n",
              "<thead>\n",
              "\t<tr><th></th><th scope=col>Pulaski, Arkansas, US</th><th scope=col>dates</th></tr>\n",
              "\t<tr><th></th><th scope=col>&lt;dbl&gt;</th><th scope=col>&lt;date&gt;</th></tr>\n",
              "</thead>\n",
              "<tbody>\n",
              "\t<tr><th scope=row>1/22/20</th><td>0</td><td>2020-01-22</td></tr>\n",
              "\t<tr><th scope=row>1/23/20</th><td>0</td><td>2020-01-23</td></tr>\n",
              "\t<tr><th scope=row>1/24/20</th><td>0</td><td>2020-01-24</td></tr>\n",
              "\t<tr><th scope=row>1/25/20</th><td>0</td><td>2020-01-25</td></tr>\n",
              "\t<tr><th scope=row>1/26/20</th><td>0</td><td>2020-01-26</td></tr>\n",
              "\t<tr><th scope=row>1/27/20</th><td>0</td><td>2020-01-27</td></tr>\n",
              "\t<tr><th scope=row>1/28/20</th><td>0</td><td>2020-01-28</td></tr>\n",
              "\t<tr><th scope=row>1/29/20</th><td>0</td><td>2020-01-29</td></tr>\n",
              "\t<tr><th scope=row>1/30/20</th><td>0</td><td>2020-01-30</td></tr>\n",
              "\t<tr><th scope=row>1/31/20</th><td>0</td><td>2020-01-31</td></tr>\n",
              "\t<tr><th scope=row>2/1/20</th><td>0</td><td>2020-02-01</td></tr>\n",
              "\t<tr><th scope=row>2/2/20</th><td>0</td><td>2020-02-02</td></tr>\n",
              "\t<tr><th scope=row>2/3/20</th><td>0</td><td>2020-02-03</td></tr>\n",
              "\t<tr><th scope=row>2/4/20</th><td>0</td><td>2020-02-04</td></tr>\n",
              "\t<tr><th scope=row>2/5/20</th><td>0</td><td>2020-02-05</td></tr>\n",
              "\t<tr><th scope=row>2/6/20</th><td>0</td><td>2020-02-06</td></tr>\n",
              "\t<tr><th scope=row>2/7/20</th><td>0</td><td>2020-02-07</td></tr>\n",
              "\t<tr><th scope=row>2/8/20</th><td>0</td><td>2020-02-08</td></tr>\n",
              "\t<tr><th scope=row>2/9/20</th><td>0</td><td>2020-02-09</td></tr>\n",
              "\t<tr><th scope=row>2/10/20</th><td>0</td><td>2020-02-10</td></tr>\n",
              "\t<tr><th scope=row>2/11/20</th><td>0</td><td>2020-02-11</td></tr>\n",
              "\t<tr><th scope=row>2/12/20</th><td>0</td><td>2020-02-12</td></tr>\n",
              "\t<tr><th scope=row>2/13/20</th><td>0</td><td>2020-02-13</td></tr>\n",
              "\t<tr><th scope=row>2/14/20</th><td>0</td><td>2020-02-14</td></tr>\n",
              "\t<tr><th scope=row>2/15/20</th><td>0</td><td>2020-02-15</td></tr>\n",
              "\t<tr><th scope=row>2/16/20</th><td>0</td><td>2020-02-16</td></tr>\n",
              "\t<tr><th scope=row>2/17/20</th><td>0</td><td>2020-02-17</td></tr>\n",
              "\t<tr><th scope=row>2/18/20</th><td>0</td><td>2020-02-18</td></tr>\n",
              "\t<tr><th scope=row>2/19/20</th><td>0</td><td>2020-02-19</td></tr>\n",
              "\t<tr><th scope=row>2/20/20</th><td>0</td><td>2020-02-20</td></tr>\n",
              "\t<tr><th scope=row>⋮</th><td>⋮</td><td>⋮</td></tr>\n",
              "\t<tr><th scope=row>9/16/20</th><td> 8329</td><td>2020-09-16</td></tr>\n",
              "\t<tr><th scope=row>9/17/20</th><td> 8408</td><td>2020-09-17</td></tr>\n",
              "\t<tr><th scope=row>9/18/20</th><td> 8473</td><td>2020-09-18</td></tr>\n",
              "\t<tr><th scope=row>9/19/20</th><td> 8556</td><td>2020-09-19</td></tr>\n",
              "\t<tr><th scope=row>9/20/20</th><td> 8596</td><td>2020-09-20</td></tr>\n",
              "\t<tr><th scope=row>9/21/20</th><td> 8670</td><td>2020-09-21</td></tr>\n",
              "\t<tr><th scope=row>9/22/20</th><td> 8804</td><td>2020-09-22</td></tr>\n",
              "\t<tr><th scope=row>9/23/20</th><td> 8881</td><td>2020-09-23</td></tr>\n",
              "\t<tr><th scope=row>9/24/20</th><td> 8981</td><td>2020-09-24</td></tr>\n",
              "\t<tr><th scope=row>9/25/20</th><td> 9059</td><td>2020-09-25</td></tr>\n",
              "\t<tr><th scope=row>9/26/20</th><td> 9135</td><td>2020-09-26</td></tr>\n",
              "\t<tr><th scope=row>9/27/20</th><td> 9163</td><td>2020-09-27</td></tr>\n",
              "\t<tr><th scope=row>9/28/20</th><td> 9351</td><td>2020-09-28</td></tr>\n",
              "\t<tr><th scope=row>9/29/20</th><td> 9422</td><td>2020-09-29</td></tr>\n",
              "\t<tr><th scope=row>9/30/20</th><td> 9509</td><td>2020-09-30</td></tr>\n",
              "\t<tr><th scope=row>10/1/20</th><td> 9612</td><td>2020-10-01</td></tr>\n",
              "\t<tr><th scope=row>10/2/20</th><td> 9648</td><td>2020-10-02</td></tr>\n",
              "\t<tr><th scope=row>10/3/20</th><td> 9720</td><td>2020-10-03</td></tr>\n",
              "\t<tr><th scope=row>10/4/20</th><td> 9770</td><td>2020-10-04</td></tr>\n",
              "\t<tr><th scope=row>10/5/20</th><td> 9859</td><td>2020-10-05</td></tr>\n",
              "\t<tr><th scope=row>10/6/20</th><td> 9944</td><td>2020-10-06</td></tr>\n",
              "\t<tr><th scope=row>10/7/20</th><td>10014</td><td>2020-10-07</td></tr>\n",
              "\t<tr><th scope=row>10/8/20</th><td>10130</td><td>2020-10-08</td></tr>\n",
              "\t<tr><th scope=row>10/9/20</th><td>10224</td><td>2020-10-09</td></tr>\n",
              "\t<tr><th scope=row>10/10/20</th><td>10331</td><td>2020-10-10</td></tr>\n",
              "\t<tr><th scope=row>10/11/20</th><td>10433</td><td>2020-10-11</td></tr>\n",
              "\t<tr><th scope=row>10/12/20</th><td>10525</td><td>2020-10-12</td></tr>\n",
              "\t<tr><th scope=row>10/13/20</th><td>10603</td><td>2020-10-13</td></tr>\n",
              "\t<tr><th scope=row>10/14/20</th><td>10727</td><td>2020-10-14</td></tr>\n",
              "\t<tr><th scope=row>10/15/20</th><td>10862</td><td>2020-10-15</td></tr>\n",
              "</tbody>\n",
              "</table>\n"
            ]
          },
          "metadata": {
            "tags": []
          }
        }
      ]
    },
    {
      "cell_type": "code",
      "metadata": {
        "id": "A5u6UvWSSzg_",
        "outputId": "8fa4bf15-f1dc-4ad6-d27e-4d6718ae78bf",
        "colab": {
          "base_uri": "https://localhost:8080/",
          "height": 204
        }
      },
      "source": [
        "tb_mycounty <-  tb1 %>% \n",
        "  dplyr::select ( 'Pulaski, Arkansas, US', 'dates' ) %>%\n",
        "  dplyr::filter( between(dates, mdy('4/1/20'), mdy('10/10/20')))\n",
        "\n",
        "head(tb_mycounty)"
      ],
      "execution_count": 333,
      "outputs": [
        {
          "output_type": "display_data",
          "data": {
            "text/plain": [
              "       Pulaski, Arkansas, US dates     \n",
              "4/1/20 107                   2020-04-01\n",
              "4/2/20 115                   2020-04-02\n",
              "4/3/20 130                   2020-04-03\n",
              "4/4/20 137                   2020-04-04\n",
              "4/5/20 157                   2020-04-05\n",
              "4/6/20 161                   2020-04-06"
            ],
            "text/latex": "A data.frame: 6 × 2\n\\begin{tabular}{r|ll}\n  & Pulaski, Arkansas, US & dates\\\\\n  & <dbl> & <date>\\\\\n\\hline\n\t4/1/20 & 107 & 2020-04-01\\\\\n\t4/2/20 & 115 & 2020-04-02\\\\\n\t4/3/20 & 130 & 2020-04-03\\\\\n\t4/4/20 & 137 & 2020-04-04\\\\\n\t4/5/20 & 157 & 2020-04-05\\\\\n\t4/6/20 & 161 & 2020-04-06\\\\\n\\end{tabular}\n",
            "text/markdown": "\nA data.frame: 6 × 2\n\n| <!--/--> | Pulaski, Arkansas, US &lt;dbl&gt; | dates &lt;date&gt; |\n|---|---|---|\n| 4/1/20 | 107 | 2020-04-01 |\n| 4/2/20 | 115 | 2020-04-02 |\n| 4/3/20 | 130 | 2020-04-03 |\n| 4/4/20 | 137 | 2020-04-04 |\n| 4/5/20 | 157 | 2020-04-05 |\n| 4/6/20 | 161 | 2020-04-06 |\n\n",
            "text/html": [
              "<table>\n",
              "<caption>A data.frame: 6 × 2</caption>\n",
              "<thead>\n",
              "\t<tr><th></th><th scope=col>Pulaski, Arkansas, US</th><th scope=col>dates</th></tr>\n",
              "\t<tr><th></th><th scope=col>&lt;dbl&gt;</th><th scope=col>&lt;date&gt;</th></tr>\n",
              "</thead>\n",
              "<tbody>\n",
              "\t<tr><th scope=row>4/1/20</th><td>107</td><td>2020-04-01</td></tr>\n",
              "\t<tr><th scope=row>4/2/20</th><td>115</td><td>2020-04-02</td></tr>\n",
              "\t<tr><th scope=row>4/3/20</th><td>130</td><td>2020-04-03</td></tr>\n",
              "\t<tr><th scope=row>4/4/20</th><td>137</td><td>2020-04-04</td></tr>\n",
              "\t<tr><th scope=row>4/5/20</th><td>157</td><td>2020-04-05</td></tr>\n",
              "\t<tr><th scope=row>4/6/20</th><td>161</td><td>2020-04-06</td></tr>\n",
              "</tbody>\n",
              "</table>\n"
            ]
          },
          "metadata": {
            "tags": []
          }
        }
      ]
    },
    {
      "cell_type": "code",
      "metadata": {
        "id": "ua3-l_J5SzkW",
        "outputId": "641c52a8-0105-450a-f4cf-c59cb73e79cd",
        "colab": {
          "base_uri": "https://localhost:8080/",
          "height": 471
        }
      },
      "source": [
        "ggplot(tb_mycounty, aes( x = dates, y=tb_mycounty[,1])) + geom_point() + geom_smooth()"
      ],
      "execution_count": 334,
      "outputs": [
        {
          "output_type": "stream",
          "text": [
            "`geom_smooth()` using method = 'loess' and formula 'y ~ x'\n",
            "\n"
          ],
          "name": "stderr"
        },
        {
          "output_type": "display_data",
          "data": {
            "image/png": "[encoded data removed]",
            "text/plain": [
              "plot without title"
            ]
          },
          "metadata": {
            "tags": [],
            "image/png": {
              "width": 420,
              "height": 420
            }
          }
        }
      ]
    },
    {
      "cell_type": "markdown",
      "metadata": {
        "id": "K6BuF1_0mTUP"
      },
      "source": [
        "## Multiple column plot\n",
        "How to compare different counties?"
      ]
    },
    {
      "cell_type": "code",
      "metadata": {
        "id": "p7BPQ9XBvSFV",
        "outputId": "46764a69-ecf4-4810-903c-0ff544bb1de2",
        "colab": {
          "base_uri": "https://localhost:8080/",
          "height": 204
        }
      },
      "source": [
        "names(tb1)[ grep(\"Arkansas\", colnames(tb1))]"
      ],
      "execution_count": 335,
      "outputs": [
        {
          "output_type": "display_data",
          "data": {
            "text/plain": [
              " [1] \"Arkansas, Arkansas, US\"     \"Ashley, Arkansas, US\"      \n",
              " [3] \"Baxter, Arkansas, US\"       \"Benton, Arkansas, US\"      \n",
              " [5] \"Boone, Arkansas, US\"        \"Bradley, Arkansas, US\"     \n",
              " [7] \"Calhoun, Arkansas, US\"      \"Carroll, Arkansas, US\"     \n",
              " [9] \"Chicot, Arkansas, US\"       \"Clark, Arkansas, US\"       \n",
              "[11] \"Clay, Arkansas, US\"         \"Cleburne, Arkansas, US\"    \n",
              "[13] \"Cleveland, Arkansas, US\"    \"Columbia, Arkansas, US\"    \n",
              "[15] \"Conway, Arkansas, US\"       \"Craighead, Arkansas, US\"   \n",
              "[17] \"Crawford, Arkansas, US\"     \"Crittenden, Arkansas, US\"  \n",
              "[19] \"Cross, Arkansas, US\"        \"Dallas, Arkansas, US\"      \n",
              "[21] \"Desha, Arkansas, US\"        \"Drew, Arkansas, US\"        \n",
              "[23] \"Faulkner, Arkansas, US\"     \"Franklin, Arkansas, US\"    \n",
              "[25] \"Fulton, Arkansas, US\"       \"Garland, Arkansas, US\"     \n",
              "[27] \"Grant, Arkansas, US\"        \"Greene, Arkansas, US\"      \n",
              "[29] \"Hempstead, Arkansas, US\"    \"Hot Spring, Arkansas, US\"  \n",
              "[31] \"Howard, Arkansas, US\"       \"Independence, Arkansas, US\"\n",
              "[33] \"Izard, Arkansas, US\"        \"Jackson, Arkansas, US\"     \n",
              "[35] \"Jefferson, Arkansas, US\"    \"Johnson, Arkansas, US\"     \n",
              "[37] \"Lafayette, Arkansas, US\"    \"Lawrence, Arkansas, US\"    \n",
              "[39] \"Lee, Arkansas, US\"          \"Lincoln, Arkansas, US\"     \n",
              "[41] \"Little River, Arkansas, US\" \"Logan, Arkansas, US\"       \n",
              "[43] \"Lonoke, Arkansas, US\"       \"Madison, Arkansas, US\"     \n",
              "[45] \"Marion, Arkansas, US\"       \"Miller, Arkansas, US\"      \n",
              "[47] \"Mississippi, Arkansas, US\"  \"Monroe, Arkansas, US\"      \n",
              "[49] \"Montgomery, Arkansas, US\"   \"Nevada, Arkansas, US\"      \n",
              "[51] \"Newton, Arkansas, US\"       \"Ouachita, Arkansas, US\"    \n",
              "[53] \"Out of AR, Arkansas, US\"    \"Perry, Arkansas, US\"       \n",
              "[55] \"Phillips, Arkansas, US\"     \"Pike, Arkansas, US\"        \n",
              "[57] \"Poinsett, Arkansas, US\"     \"Polk, Arkansas, US\"        \n",
              "[59] \"Pope, Arkansas, US\"         \"Prairie, Arkansas, US\"     \n",
              "[61] \"Pulaski, Arkansas, US\"      \"Randolph, Arkansas, US\"    \n",
              "[63] \"Saline, Arkansas, US\"       \"Scott, Arkansas, US\"       \n",
              "[65] \"Searcy, Arkansas, US\"       \"Sebastian, Arkansas, US\"   \n",
              "[67] \"Sevier, Arkansas, US\"       \"Sharp, Arkansas, US\"       \n",
              "[69] \"St. Francis, Arkansas, US\"  \"Stone, Arkansas, US\"       \n",
              "[71] \"Unassigned, Arkansas, US\"   \"Union, Arkansas, US\"       \n",
              "[73] \"Van Buren, Arkansas, US\"    \"Washington, Arkansas, US\"  \n",
              "[75] \"White, Arkansas, US\"        \"Woodruff, Arkansas, US\"    \n",
              "[77] \"Yell, Arkansas, US\"        "
            ],
            "text/latex": "\\begin{enumerate*}\n\\item 'Arkansas, Arkansas, US'\n\\item 'Ashley, Arkansas, US'\n\\item 'Baxter, Arkansas, US'\n\\item 'Benton, Arkansas, US'\n\\item 'Boone, Arkansas, US'\n\\item 'Bradley, Arkansas, US'\n\\item 'Calhoun, Arkansas, US'\n\\item 'Carroll, Arkansas, US'\n\\item 'Chicot, Arkansas, US'\n\\item 'Clark, Arkansas, US'\n\\item 'Clay, Arkansas, US'\n\\item 'Cleburne, Arkansas, US'\n\\item 'Cleveland, Arkansas, US'\n\\item 'Columbia, Arkansas, US'\n\\item 'Conway, Arkansas, US'\n\\item 'Craighead, Arkansas, US'\n\\item 'Crawford, Arkansas, US'\n\\item 'Crittenden, Arkansas, US'\n\\item 'Cross, Arkansas, US'\n\\item 'Dallas, Arkansas, US'\n\\item 'Desha, Arkansas, US'\n\\item 'Drew, Arkansas, US'\n\\item 'Faulkner, Arkansas, US'\n\\item 'Franklin, Arkansas, US'\n\\item 'Fulton, Arkansas, US'\n\\item 'Garland, Arkansas, US'\n\\item 'Grant, Arkansas, US'\n\\item 'Greene, Arkansas, US'\n\\item 'Hempstead, Arkansas, US'\n\\item 'Hot Spring, Arkansas, US'\n\\item 'Howard, Arkansas, US'\n\\item 'Independence, Arkansas, US'\n\\item 'Izard, Arkansas, US'\n\\item 'Jackson, Arkansas, US'\n\\item 'Jefferson, Arkansas, US'\n\\item 'Johnson, Arkansas, US'\n\\item 'Lafayette, Arkansas, US'\n\\item 'Lawrence, Arkansas, US'\n\\item 'Lee, Arkansas, US'\n\\item 'Lincoln, Arkansas, US'\n\\item 'Little River, Arkansas, US'\n\\item 'Logan, Arkansas, US'\n\\item 'Lonoke, Arkansas, US'\n\\item 'Madison, Arkansas, US'\n\\item 'Marion, Arkansas, US'\n\\item 'Miller, Arkansas, US'\n\\item 'Mississippi, Arkansas, US'\n\\item 'Monroe, Arkansas, US'\n\\item 'Montgomery, Arkansas, US'\n\\item 'Nevada, Arkansas, US'\n\\item 'Newton, Arkansas, US'\n\\item 'Ouachita, Arkansas, US'\n\\item 'Out of AR, Arkansas, US'\n\\item 'Perry, Arkansas, US'\n\\item 'Phillips, Arkansas, US'\n\\item 'Pike, Arkansas, US'\n\\item 'Poinsett, Arkansas, US'\n\\item 'Polk, Arkansas, US'\n\\item 'Pope, Arkansas, US'\n\\item 'Prairie, Arkansas, US'\n\\item 'Pulaski, Arkansas, US'\n\\item 'Randolph, Arkansas, US'\n\\item 'Saline, Arkansas, US'\n\\item 'Scott, Arkansas, US'\n\\item 'Searcy, Arkansas, US'\n\\item 'Sebastian, Arkansas, US'\n\\item 'Sevier, Arkansas, US'\n\\item 'Sharp, Arkansas, US'\n\\item 'St. Francis, Arkansas, US'\n\\item 'Stone, Arkansas, US'\n\\item 'Unassigned, Arkansas, US'\n\\item 'Union, Arkansas, US'\n\\item 'Van Buren, Arkansas, US'\n\\item 'Washington, Arkansas, US'\n\\item 'White, Arkansas, US'\n\\item 'Woodruff, Arkansas, US'\n\\item 'Yell, Arkansas, US'\n\\end{enumerate*}\n",
            "text/markdown": "1. 'Arkansas, Arkansas, US'\n2. 'Ashley, Arkansas, US'\n3. 'Baxter, Arkansas, US'\n4. 'Benton, Arkansas, US'\n5. 'Boone, Arkansas, US'\n6. 'Bradley, Arkansas, US'\n7. 'Calhoun, Arkansas, US'\n8. 'Carroll, Arkansas, US'\n9. 'Chicot, Arkansas, US'\n10. 'Clark, Arkansas, US'\n11. 'Clay, Arkansas, US'\n12. 'Cleburne, Arkansas, US'\n13. 'Cleveland, Arkansas, US'\n14. 'Columbia, Arkansas, US'\n15. 'Conway, Arkansas, US'\n16. 'Craighead, Arkansas, US'\n17. 'Crawford, Arkansas, US'\n18. 'Crittenden, Arkansas, US'\n19. 'Cross, Arkansas, US'\n20. 'Dallas, Arkansas, US'\n21. 'Desha, Arkansas, US'\n22. 'Drew, Arkansas, US'\n23. 'Faulkner, Arkansas, US'\n24. 'Franklin, Arkansas, US'\n25. 'Fulton, Arkansas, US'\n26. 'Garland, Arkansas, US'\n27. 'Grant, Arkansas, US'\n28. 'Greene, Arkansas, US'\n29. 'Hempstead, Arkansas, US'\n30. 'Hot Spring, Arkansas, US'\n31. 'Howard, Arkansas, US'\n32. 'Independence, Arkansas, US'\n33. 'Izard, Arkansas, US'\n34. 'Jackson, Arkansas, US'\n35. 'Jefferson, Arkansas, US'\n36. 'Johnson, Arkansas, US'\n37. 'Lafayette, Arkansas, US'\n38. 'Lawrence, Arkansas, US'\n39. 'Lee, Arkansas, US'\n40. 'Lincoln, Arkansas, US'\n41. 'Little River, Arkansas, US'\n42. 'Logan, Arkansas, US'\n43. 'Lonoke, Arkansas, US'\n44. 'Madison, Arkansas, US'\n45. 'Marion, Arkansas, US'\n46. 'Miller, Arkansas, US'\n47. 'Mississippi, Arkansas, US'\n48. 'Monroe, Arkansas, US'\n49. 'Montgomery, Arkansas, US'\n50. 'Nevada, Arkansas, US'\n51. 'Newton, Arkansas, US'\n52. 'Ouachita, Arkansas, US'\n53. 'Out of AR, Arkansas, US'\n54. 'Perry, Arkansas, US'\n55. 'Phillips, Arkansas, US'\n56. 'Pike, Arkansas, US'\n57. 'Poinsett, Arkansas, US'\n58. 'Polk, Arkansas, US'\n59. 'Pope, Arkansas, US'\n60. 'Prairie, Arkansas, US'\n61. 'Pulaski, Arkansas, US'\n62. 'Randolph, Arkansas, US'\n63. 'Saline, Arkansas, US'\n64. 'Scott, Arkansas, US'\n65. 'Searcy, Arkansas, US'\n66. 'Sebastian, Arkansas, US'\n67. 'Sevier, Arkansas, US'\n68. 'Sharp, Arkansas, US'\n69. 'St. Francis, Arkansas, US'\n70. 'Stone, Arkansas, US'\n71. 'Unassigned, Arkansas, US'\n72. 'Union, Arkansas, US'\n73. 'Van Buren, Arkansas, US'\n74. 'Washington, Arkansas, US'\n75. 'White, Arkansas, US'\n76. 'Woodruff, Arkansas, US'\n77. 'Yell, Arkansas, US'\n\n\n",
            "text/html": [
              "<style>\n",
              ".list-inline {list-style: none; margin:0; padding: 0}\n",
              ".list-inline>li {display: inline-block}\n",
              ".list-inline>li:not(:last-child)::after {content: \"\\00b7\"; padding: 0 .5ex}\n",
              "</style>\n",
              "<ol class=list-inline><li>'Arkansas, Arkansas, US'</li><li>'Ashley, Arkansas, US'</li><li>'Baxter, Arkansas, US'</li><li>'Benton, Arkansas, US'</li><li>'Boone, Arkansas, US'</li><li>'Bradley, Arkansas, US'</li><li>'Calhoun, Arkansas, US'</li><li>'Carroll, Arkansas, US'</li><li>'Chicot, Arkansas, US'</li><li>'Clark, Arkansas, US'</li><li>'Clay, Arkansas, US'</li><li>'Cleburne, Arkansas, US'</li><li>'Cleveland, Arkansas, US'</li><li>'Columbia, Arkansas, US'</li><li>'Conway, Arkansas, US'</li><li>'Craighead, Arkansas, US'</li><li>'Crawford, Arkansas, US'</li><li>'Crittenden, Arkansas, US'</li><li>'Cross, Arkansas, US'</li><li>'Dallas, Arkansas, US'</li><li>'Desha, Arkansas, US'</li><li>'Drew, Arkansas, US'</li><li>'Faulkner, Arkansas, US'</li><li>'Franklin, Arkansas, US'</li><li>'Fulton, Arkansas, US'</li><li>'Garland, Arkansas, US'</li><li>'Grant, Arkansas, US'</li><li>'Greene, Arkansas, US'</li><li>'Hempstead, Arkansas, US'</li><li>'Hot Spring, Arkansas, US'</li><li>'Howard, Arkansas, US'</li><li>'Independence, Arkansas, US'</li><li>'Izard, Arkansas, US'</li><li>'Jackson, Arkansas, US'</li><li>'Jefferson, Arkansas, US'</li><li>'Johnson, Arkansas, US'</li><li>'Lafayette, Arkansas, US'</li><li>'Lawrence, Arkansas, US'</li><li>'Lee, Arkansas, US'</li><li>'Lincoln, Arkansas, US'</li><li>'Little River, Arkansas, US'</li><li>'Logan, Arkansas, US'</li><li>'Lonoke, Arkansas, US'</li><li>'Madison, Arkansas, US'</li><li>'Marion, Arkansas, US'</li><li>'Miller, Arkansas, US'</li><li>'Mississippi, Arkansas, US'</li><li>'Monroe, Arkansas, US'</li><li>'Montgomery, Arkansas, US'</li><li>'Nevada, Arkansas, US'</li><li>'Newton, Arkansas, US'</li><li>'Ouachita, Arkansas, US'</li><li>'Out of AR, Arkansas, US'</li><li>'Perry, Arkansas, US'</li><li>'Phillips, Arkansas, US'</li><li>'Pike, Arkansas, US'</li><li>'Poinsett, Arkansas, US'</li><li>'Polk, Arkansas, US'</li><li>'Pope, Arkansas, US'</li><li>'Prairie, Arkansas, US'</li><li>'Pulaski, Arkansas, US'</li><li>'Randolph, Arkansas, US'</li><li>'Saline, Arkansas, US'</li><li>'Scott, Arkansas, US'</li><li>'Searcy, Arkansas, US'</li><li>'Sebastian, Arkansas, US'</li><li>'Sevier, Arkansas, US'</li><li>'Sharp, Arkansas, US'</li><li>'St. Francis, Arkansas, US'</li><li>'Stone, Arkansas, US'</li><li>'Unassigned, Arkansas, US'</li><li>'Union, Arkansas, US'</li><li>'Van Buren, Arkansas, US'</li><li>'Washington, Arkansas, US'</li><li>'White, Arkansas, US'</li><li>'Woodruff, Arkansas, US'</li><li>'Yell, Arkansas, US'</li></ol>\n"
            ]
          },
          "metadata": {
            "tags": []
          }
        }
      ]
    },
    {
      "cell_type": "code",
      "metadata": {
        "id": "NzTtSdWtvXo3",
        "outputId": "4af498ed-ca23-438d-fcc0-5ebd018b6f7f",
        "colab": {
          "base_uri": "https://localhost:8080/",
          "height": 34
        }
      },
      "source": [
        "print(paste(\"There are \", length( names(tb1)[ grep(\"Arkansas\", colnames(tb1))])  ,\" counties in Arkansas. Really?\"))"
      ],
      "execution_count": 336,
      "outputs": [
        {
          "output_type": "stream",
          "text": [
            "[1] \"There are  77  counties in Arkansas. Really?\"\n"
          ],
          "name": "stdout"
        }
      ]
    },
    {
      "cell_type": "code",
      "metadata": {
        "id": "UqzDSbLGjAsU",
        "outputId": "23a22da5-0ede-4148-bcaa-c66dc99a1e23",
        "colab": {
          "base_uri": "https://localhost:8080/",
          "height": 204
        }
      },
      "source": [
        "mycounties = c( 'Pulaski, Arkansas, US', 'Hamilton, Tennessee, US', 'Davidson, Tennessee, US')\n",
        "\n",
        "days_window = 100  #90-day window\n",
        "endday = '10/2/20'\n",
        "\n",
        "tb_sub <- tb1 %>% \n",
        "  dplyr::select( all_of(mycounties), 'dates') %>%\n",
        "  dplyr::filter( between(dates, mdy(endday)-ddays(days_window), mdy(endday)))   \n",
        "\n",
        "head(tb_sub)\n"
      ],
      "execution_count": 337,
      "outputs": [
        {
          "output_type": "display_data",
          "data": {
            "text/plain": [
              "        Pulaski, Arkansas, US Hamilton, Tennessee, US Davidson, Tennessee, US\n",
              "6/24/20 1607                  2176                    8062                   \n",
              "6/25/20 1655                  2185                    8258                   \n",
              "6/26/20 1740                  2264                    8547                   \n",
              "6/27/20 1810                  2321                    8675                   \n",
              "6/28/20 1862                  2321                    8675                   \n",
              "6/29/20 1916                  2433                    9016                   \n",
              "        dates     \n",
              "6/24/20 2020-06-24\n",
              "6/25/20 2020-06-25\n",
              "6/26/20 2020-06-26\n",
              "6/27/20 2020-06-27\n",
              "6/28/20 2020-06-28\n",
              "6/29/20 2020-06-29"
            ],
            "text/latex": "A data.frame: 6 × 4\n\\begin{tabular}{r|llll}\n  & Pulaski, Arkansas, US & Hamilton, Tennessee, US & Davidson, Tennessee, US & dates\\\\\n  & <dbl> & <dbl> & <dbl> & <date>\\\\\n\\hline\n\t6/24/20 & 1607 & 2176 & 8062 & 2020-06-24\\\\\n\t6/25/20 & 1655 & 2185 & 8258 & 2020-06-25\\\\\n\t6/26/20 & 1740 & 2264 & 8547 & 2020-06-26\\\\\n\t6/27/20 & 1810 & 2321 & 8675 & 2020-06-27\\\\\n\t6/28/20 & 1862 & 2321 & 8675 & 2020-06-28\\\\\n\t6/29/20 & 1916 & 2433 & 9016 & 2020-06-29\\\\\n\\end{tabular}\n",
            "text/markdown": "\nA data.frame: 6 × 4\n\n| <!--/--> | Pulaski, Arkansas, US &lt;dbl&gt; | Hamilton, Tennessee, US &lt;dbl&gt; | Davidson, Tennessee, US &lt;dbl&gt; | dates &lt;date&gt; |\n|---|---|---|---|---|\n| 6/24/20 | 1607 | 2176 | 8062 | 2020-06-24 |\n| 6/25/20 | 1655 | 2185 | 8258 | 2020-06-25 |\n| 6/26/20 | 1740 | 2264 | 8547 | 2020-06-26 |\n| 6/27/20 | 1810 | 2321 | 8675 | 2020-06-27 |\n| 6/28/20 | 1862 | 2321 | 8675 | 2020-06-28 |\n| 6/29/20 | 1916 | 2433 | 9016 | 2020-06-29 |\n\n",
            "text/html": [
              "<table>\n",
              "<caption>A data.frame: 6 × 4</caption>\n",
              "<thead>\n",
              "\t<tr><th></th><th scope=col>Pulaski, Arkansas, US</th><th scope=col>Hamilton, Tennessee, US</th><th scope=col>Davidson, Tennessee, US</th><th scope=col>dates</th></tr>\n",
              "\t<tr><th></th><th scope=col>&lt;dbl&gt;</th><th scope=col>&lt;dbl&gt;</th><th scope=col>&lt;dbl&gt;</th><th scope=col>&lt;date&gt;</th></tr>\n",
              "</thead>\n",
              "<tbody>\n",
              "\t<tr><th scope=row>6/24/20</th><td>1607</td><td>2176</td><td>8062</td><td>2020-06-24</td></tr>\n",
              "\t<tr><th scope=row>6/25/20</th><td>1655</td><td>2185</td><td>8258</td><td>2020-06-25</td></tr>\n",
              "\t<tr><th scope=row>6/26/20</th><td>1740</td><td>2264</td><td>8547</td><td>2020-06-26</td></tr>\n",
              "\t<tr><th scope=row>6/27/20</th><td>1810</td><td>2321</td><td>8675</td><td>2020-06-27</td></tr>\n",
              "\t<tr><th scope=row>6/28/20</th><td>1862</td><td>2321</td><td>8675</td><td>2020-06-28</td></tr>\n",
              "\t<tr><th scope=row>6/29/20</th><td>1916</td><td>2433</td><td>9016</td><td>2020-06-29</td></tr>\n",
              "</tbody>\n",
              "</table>\n"
            ]
          },
          "metadata": {
            "tags": []
          }
        }
      ]
    },
    {
      "cell_type": "code",
      "metadata": {
        "id": "kUqIhFCjuT5E",
        "outputId": "f9373085-361f-48e9-cc41-431aeb552001",
        "colab": {
          "base_uri": "https://localhost:8080/",
          "height": 204
        }
      },
      "source": [
        "library(reshape2)\n",
        "\n",
        "mycounties = c('Pulaski, Arkansas, US', 'Hamilton, Tennessee, US', 'Davidson, Tennessee, US')\n",
        "\n",
        "df_tmp <- melt(tb_sub, measure.vars = mycounties, value.name = 'DailyCases', variable.name = 'Counties')\n",
        "head(df_tmp)"
      ],
      "execution_count": 338,
      "outputs": [
        {
          "output_type": "display_data",
          "data": {
            "text/plain": [
              "  dates      Counties              DailyCases\n",
              "1 2020-06-24 Pulaski, Arkansas, US 1607      \n",
              "2 2020-06-25 Pulaski, Arkansas, US 1655      \n",
              "3 2020-06-26 Pulaski, Arkansas, US 1740      \n",
              "4 2020-06-27 Pulaski, Arkansas, US 1810      \n",
              "5 2020-06-28 Pulaski, Arkansas, US 1862      \n",
              "6 2020-06-29 Pulaski, Arkansas, US 1916      "
            ],
            "text/latex": "A data.frame: 6 × 3\n\\begin{tabular}{r|lll}\n  & dates & Counties & DailyCases\\\\\n  & <date> & <fct> & <dbl>\\\\\n\\hline\n\t1 & 2020-06-24 & Pulaski, Arkansas, US & 1607\\\\\n\t2 & 2020-06-25 & Pulaski, Arkansas, US & 1655\\\\\n\t3 & 2020-06-26 & Pulaski, Arkansas, US & 1740\\\\\n\t4 & 2020-06-27 & Pulaski, Arkansas, US & 1810\\\\\n\t5 & 2020-06-28 & Pulaski, Arkansas, US & 1862\\\\\n\t6 & 2020-06-29 & Pulaski, Arkansas, US & 1916\\\\\n\\end{tabular}\n",
            "text/markdown": "\nA data.frame: 6 × 3\n\n| <!--/--> | dates &lt;date&gt; | Counties &lt;fct&gt; | DailyCases &lt;dbl&gt; |\n|---|---|---|---|\n| 1 | 2020-06-24 | Pulaski, Arkansas, US | 1607 |\n| 2 | 2020-06-25 | Pulaski, Arkansas, US | 1655 |\n| 3 | 2020-06-26 | Pulaski, Arkansas, US | 1740 |\n| 4 | 2020-06-27 | Pulaski, Arkansas, US | 1810 |\n| 5 | 2020-06-28 | Pulaski, Arkansas, US | 1862 |\n| 6 | 2020-06-29 | Pulaski, Arkansas, US | 1916 |\n\n",
            "text/html": [
              "<table>\n",
              "<caption>A data.frame: 6 × 3</caption>\n",
              "<thead>\n",
              "\t<tr><th></th><th scope=col>dates</th><th scope=col>Counties</th><th scope=col>DailyCases</th></tr>\n",
              "\t<tr><th></th><th scope=col>&lt;date&gt;</th><th scope=col>&lt;fct&gt;</th><th scope=col>&lt;dbl&gt;</th></tr>\n",
              "</thead>\n",
              "<tbody>\n",
              "\t<tr><th scope=row>1</th><td>2020-06-24</td><td>Pulaski, Arkansas, US</td><td>1607</td></tr>\n",
              "\t<tr><th scope=row>2</th><td>2020-06-25</td><td>Pulaski, Arkansas, US</td><td>1655</td></tr>\n",
              "\t<tr><th scope=row>3</th><td>2020-06-26</td><td>Pulaski, Arkansas, US</td><td>1740</td></tr>\n",
              "\t<tr><th scope=row>4</th><td>2020-06-27</td><td>Pulaski, Arkansas, US</td><td>1810</td></tr>\n",
              "\t<tr><th scope=row>5</th><td>2020-06-28</td><td>Pulaski, Arkansas, US</td><td>1862</td></tr>\n",
              "\t<tr><th scope=row>6</th><td>2020-06-29</td><td>Pulaski, Arkansas, US</td><td>1916</td></tr>\n",
              "</tbody>\n",
              "</table>\n"
            ]
          },
          "metadata": {
            "tags": []
          }
        }
      ]
    },
    {
      "cell_type": "code",
      "metadata": {
        "id": "gQ5O7qB4uT8A",
        "outputId": "b98ee1e4-55ff-4a43-c781-800d7cf4bec6",
        "colab": {
          "base_uri": "https://localhost:8080/",
          "height": 437
        }
      },
      "source": [
        "ggplot( df_tmp, aes(x=dates, y=DailyCases, color=Counties) ) + geom_point() "
      ],
      "execution_count": 339,
      "outputs": [
        {
          "output_type": "display_data",
          "data": {
            "image/png": "[encoded data removed]",
            "text/plain": [
              "plot without title"
            ]
          },
          "metadata": {
            "tags": [],
            "image/png": {
              "width": 420,
              "height": 420
            }
          }
        }
      ]
    },
    {
      "cell_type": "markdown",
      "metadata": {
        "id": "F16EOOrPsaCA"
      },
      "source": [
        "# Part 2. Daily cases"
      ]
    },
    {
      "cell_type": "markdown",
      "metadata": {
        "id": "7vcBFJFus4KD"
      },
      "source": [
        "   ## Read the cumulative cases again"
      ]
    },
    {
      "cell_type": "code",
      "metadata": {
        "id": "rQlUjvr0bYfL",
        "outputId": "dfb6e587-5f83-494a-c05b-7ff1ab006d2b",
        "colab": {
          "base_uri": "https://localhost:8080/",
          "height": 323
        }
      },
      "source": [
        "tb = read_csv(url(\"https://raw.githubusercontent.com/CSSEGISandData/COVID-19/master/csse_covid_19_data/csse_covid_19_time_series/time_series_covid19_confirmed_US.csv\"))\n",
        "\n",
        "tb1 <- tb %>% dplyr::select(12:length(tb[1,])) %>% as.matrix()\n",
        "tb1 = as.data.frame(t(tb1))\n",
        "\n",
        "names(tb1) = tb$Combined_Key\n",
        "\n",
        "current_dates = names(tb)[12:length(tb[1,])]\n",
        "tb1$dates = mdy(current_dates)\n",
        "\n",
        "window = 180\n",
        "tb_sub <-  tb1 %>% \n",
        "  dplyr::select ( c('Pulaski, Arkansas, US', 'Davidson, Tennessee, US', 'dates')) %>%\n",
        "  dplyr::filter( between(dates, today(tzone='EST') - window,  today(tzone ='EST')))\n",
        "\n",
        "str(tb_sub)\n"
      ],
      "execution_count": 340,
      "outputs": [
        {
          "output_type": "stream",
          "text": [
            "\n",
            "\u001b[36m──\u001b[39m \u001b[1m\u001b[1mColumn specification\u001b[1m\u001b[22m \u001b[36m────────────────────────────────────────────────────────\u001b[39m\n",
            "cols(\n",
            "  .default = col_double(),\n",
            "  iso2 = \u001b[31mcol_character()\u001b[39m,\n",
            "  iso3 = \u001b[31mcol_character()\u001b[39m,\n",
            "  Admin2 = \u001b[31mcol_character()\u001b[39m,\n",
            "  Province_State = \u001b[31mcol_character()\u001b[39m,\n",
            "  Country_Region = \u001b[31mcol_character()\u001b[39m,\n",
            "  Combined_Key = \u001b[31mcol_character()\u001b[39m\n",
            ")\n",
            "\u001b[36mℹ\u001b[39m Use \u001b[30m\u001b[47m\u001b[30m\u001b[47m`spec()`\u001b[47m\u001b[30m\u001b[49m\u001b[39m for the full column specifications.\n",
            "\n",
            "\n"
          ],
          "name": "stderr"
        },
        {
          "output_type": "stream",
          "text": [
            "'data.frame':\t180 obs. of  3 variables:\n",
            " $ Pulaski, Arkansas, US  : num  377 388 390 404 427 440 471 478 484 490 ...\n",
            " $ Davidson, Tennessee, US: num  1638 1675 1719 1719 1934 ...\n",
            " $ dates                  : Date, format: \"2020-04-19\" \"2020-04-20\" ...\n"
          ],
          "name": "stdout"
        }
      ]
    },
    {
      "cell_type": "markdown",
      "metadata": {
        "id": "7HTPmRnrtgLJ"
      },
      "source": [
        "## Covert cumulative counts into daily cases"
      ]
    },
    {
      "cell_type": "code",
      "metadata": {
        "id": "q1LXOl1XtbhI",
        "outputId": "7f05a615-a2f1-4084-a440-e3ed8bdfa50e",
        "colab": {
          "base_uri": "https://localhost:8080/",
          "height": 204
        }
      },
      "source": [
        "tb_daily_sub = data.frame( apply(tb_sub[,1:2], 2, diff) )\n",
        "\n",
        "tb_daily_sub$YMD = mdy(row.names(tb_daily_sub))\n",
        "head(tb_daily_sub)"
      ],
      "execution_count": 341,
      "outputs": [
        {
          "output_type": "display_data",
          "data": {
            "text/plain": [
              "        Pulaski..Arkansas..US Davidson..Tennessee..US YMD       \n",
              "4/20/20 11                     37                     2020-04-20\n",
              "4/21/20  2                     44                     2020-04-21\n",
              "4/22/20 14                      0                     2020-04-22\n",
              "4/23/20 23                    215                     2020-04-23\n",
              "4/24/20 13                     77                     2020-04-24\n",
              "4/25/20 31                    125                     2020-04-25"
            ],
            "text/latex": "A data.frame: 6 × 3\n\\begin{tabular}{r|lll}\n  & Pulaski..Arkansas..US & Davidson..Tennessee..US & YMD\\\\\n  & <dbl> & <dbl> & <date>\\\\\n\\hline\n\t4/20/20 & 11 &  37 & 2020-04-20\\\\\n\t4/21/20 &  2 &  44 & 2020-04-21\\\\\n\t4/22/20 & 14 &   0 & 2020-04-22\\\\\n\t4/23/20 & 23 & 215 & 2020-04-23\\\\\n\t4/24/20 & 13 &  77 & 2020-04-24\\\\\n\t4/25/20 & 31 & 125 & 2020-04-25\\\\\n\\end{tabular}\n",
            "text/markdown": "\nA data.frame: 6 × 3\n\n| <!--/--> | Pulaski..Arkansas..US &lt;dbl&gt; | Davidson..Tennessee..US &lt;dbl&gt; | YMD &lt;date&gt; |\n|---|---|---|---|\n| 4/20/20 | 11 |  37 | 2020-04-20 |\n| 4/21/20 |  2 |  44 | 2020-04-21 |\n| 4/22/20 | 14 |   0 | 2020-04-22 |\n| 4/23/20 | 23 | 215 | 2020-04-23 |\n| 4/24/20 | 13 |  77 | 2020-04-24 |\n| 4/25/20 | 31 | 125 | 2020-04-25 |\n\n",
            "text/html": [
              "<table>\n",
              "<caption>A data.frame: 6 × 3</caption>\n",
              "<thead>\n",
              "\t<tr><th></th><th scope=col>Pulaski..Arkansas..US</th><th scope=col>Davidson..Tennessee..US</th><th scope=col>YMD</th></tr>\n",
              "\t<tr><th></th><th scope=col>&lt;dbl&gt;</th><th scope=col>&lt;dbl&gt;</th><th scope=col>&lt;date&gt;</th></tr>\n",
              "</thead>\n",
              "<tbody>\n",
              "\t<tr><th scope=row>4/20/20</th><td>11</td><td> 37</td><td>2020-04-20</td></tr>\n",
              "\t<tr><th scope=row>4/21/20</th><td> 2</td><td> 44</td><td>2020-04-21</td></tr>\n",
              "\t<tr><th scope=row>4/22/20</th><td>14</td><td>  0</td><td>2020-04-22</td></tr>\n",
              "\t<tr><th scope=row>4/23/20</th><td>23</td><td>215</td><td>2020-04-23</td></tr>\n",
              "\t<tr><th scope=row>4/24/20</th><td>13</td><td> 77</td><td>2020-04-24</td></tr>\n",
              "\t<tr><th scope=row>4/25/20</th><td>31</td><td>125</td><td>2020-04-25</td></tr>\n",
              "</tbody>\n",
              "</table>\n"
            ]
          },
          "metadata": {
            "tags": []
          }
        }
      ]
    },
    {
      "cell_type": "code",
      "metadata": {
        "id": "kiEwHlWitbkv",
        "outputId": "7f070fbb-7bb2-4fa7-afe8-b58cefd73d22",
        "colab": {
          "base_uri": "https://localhost:8080/",
          "height": 204
        }
      },
      "source": [
        "tail(tb_daily_sub)"
      ],
      "execution_count": 342,
      "outputs": [
        {
          "output_type": "display_data",
          "data": {
            "text/plain": [
              "         Pulaski..Arkansas..US Davidson..Tennessee..US YMD       \n",
              "10/10/20 107                   156                     2020-10-10\n",
              "10/11/20 102                   174                     2020-10-11\n",
              "10/12/20  92                   213                     2020-10-12\n",
              "10/13/20  78                   122                     2020-10-13\n",
              "10/14/20 124                    88                     2020-10-14\n",
              "10/15/20 135                   178                     2020-10-15"
            ],
            "text/latex": "A data.frame: 6 × 3\n\\begin{tabular}{r|lll}\n  & Pulaski..Arkansas..US & Davidson..Tennessee..US & YMD\\\\\n  & <dbl> & <dbl> & <date>\\\\\n\\hline\n\t10/10/20 & 107 & 156 & 2020-10-10\\\\\n\t10/11/20 & 102 & 174 & 2020-10-11\\\\\n\t10/12/20 &  92 & 213 & 2020-10-12\\\\\n\t10/13/20 &  78 & 122 & 2020-10-13\\\\\n\t10/14/20 & 124 &  88 & 2020-10-14\\\\\n\t10/15/20 & 135 & 178 & 2020-10-15\\\\\n\\end{tabular}\n",
            "text/markdown": "\nA data.frame: 6 × 3\n\n| <!--/--> | Pulaski..Arkansas..US &lt;dbl&gt; | Davidson..Tennessee..US &lt;dbl&gt; | YMD &lt;date&gt; |\n|---|---|---|---|\n| 10/10/20 | 107 | 156 | 2020-10-10 |\n| 10/11/20 | 102 | 174 | 2020-10-11 |\n| 10/12/20 |  92 | 213 | 2020-10-12 |\n| 10/13/20 |  78 | 122 | 2020-10-13 |\n| 10/14/20 | 124 |  88 | 2020-10-14 |\n| 10/15/20 | 135 | 178 | 2020-10-15 |\n\n",
            "text/html": [
              "<table>\n",
              "<caption>A data.frame: 6 × 3</caption>\n",
              "<thead>\n",
              "\t<tr><th></th><th scope=col>Pulaski..Arkansas..US</th><th scope=col>Davidson..Tennessee..US</th><th scope=col>YMD</th></tr>\n",
              "\t<tr><th></th><th scope=col>&lt;dbl&gt;</th><th scope=col>&lt;dbl&gt;</th><th scope=col>&lt;date&gt;</th></tr>\n",
              "</thead>\n",
              "<tbody>\n",
              "\t<tr><th scope=row>10/10/20</th><td>107</td><td>156</td><td>2020-10-10</td></tr>\n",
              "\t<tr><th scope=row>10/11/20</th><td>102</td><td>174</td><td>2020-10-11</td></tr>\n",
              "\t<tr><th scope=row>10/12/20</th><td> 92</td><td>213</td><td>2020-10-12</td></tr>\n",
              "\t<tr><th scope=row>10/13/20</th><td> 78</td><td>122</td><td>2020-10-13</td></tr>\n",
              "\t<tr><th scope=row>10/14/20</th><td>124</td><td> 88</td><td>2020-10-14</td></tr>\n",
              "\t<tr><th scope=row>10/15/20</th><td>135</td><td>178</td><td>2020-10-15</td></tr>\n",
              "</tbody>\n",
              "</table>\n"
            ]
          },
          "metadata": {
            "tags": []
          }
        }
      ]
    },
    {
      "cell_type": "code",
      "metadata": {
        "id": "DIECSI-8tbr7",
        "outputId": "3be95ff8-8ec5-414a-eb2d-7e65ba0c5391",
        "colab": {
          "base_uri": "https://localhost:8080/",
          "height": 471
        }
      },
      "source": [
        "myplot <- ggplot(tb_daily_sub, aes(x=YMD, y=Pulaski..Arkansas..US))\n",
        "myplot + geom_point() + stat_smooth(span=0.3)"
      ],
      "execution_count": 343,
      "outputs": [
        {
          "output_type": "stream",
          "text": [
            "`geom_smooth()` using method = 'loess' and formula 'y ~ x'\n",
            "\n"
          ],
          "name": "stderr"
        },
        {
          "output_type": "display_data",
          "data": {
            "image/png": "[encoded data removed]",
            "text/plain": [
              "plot without title"
            ]
          },
          "metadata": {
            "tags": [],
            "image/png": {
              "width": 420,
              "height": 420
            }
          }
        }
      ]
    },
    {
      "cell_type": "markdown",
      "metadata": {
        "id": "7pomTsjepN4t"
      },
      "source": [
        "# Part 3. Google Mobility analysis\n"
      ]
    },
    {
      "cell_type": "markdown",
      "metadata": {
        "id": "o84JcZ05mRTa"
      },
      "source": [
        "## Regional mobility"
      ]
    },
    {
      "cell_type": "code",
      "metadata": {
        "id": "r2cJUrtpkqAV"
      },
      "source": [
        "system(\"wget https://www.gstatic.com/covid19/mobility/Region_Mobility_Report_CSVs.zip\")"
      ],
      "execution_count": 344,
      "outputs": []
    },
    {
      "cell_type": "markdown",
      "metadata": {
        "id": "CPjNfl13mRW7"
      },
      "source": [
        "We should now see \"Region_Mobility_Report_CSV.zip\" in /content folder. Double-click, should unzip this file"
      ]
    },
    {
      "cell_type": "code",
      "metadata": {
        "id": "hJt3V-bglxyG"
      },
      "source": [
        "system(\"unzip /content/Region_Mobility_Report_CSVs.zip\")"
      ],
      "execution_count": 345,
      "outputs": []
    },
    {
      "cell_type": "markdown",
      "metadata": {
        "id": "j4Y3X7T6mcUx"
      },
      "source": [
        "We should now see \"/content/2020_US_Region_Mobility_Report.csv\""
      ]
    },
    {
      "cell_type": "code",
      "metadata": {
        "id": "mVlwUKq6kqDh",
        "outputId": "8c058240-010a-4d32-fa08-a5e93fa6fc7c",
        "colab": {
          "base_uri": "https://localhost:8080/",
          "height": 666
        }
      },
      "source": [
        "library(tidyverse)\n",
        "tbGMUS = read_csv(\"/content/2020_US_Region_Mobility_Report.csv\")\n",
        "tail(tbGMUS)"
      ],
      "execution_count": 346,
      "outputs": [
        {
          "output_type": "stream",
          "text": [
            "\n",
            "\u001b[36m──\u001b[39m \u001b[1m\u001b[1mColumn specification\u001b[1m\u001b[22m \u001b[36m────────────────────────────────────────────────────────\u001b[39m\n",
            "cols(\n",
            "  country_region_code = \u001b[31mcol_character()\u001b[39m,\n",
            "  country_region = \u001b[31mcol_character()\u001b[39m,\n",
            "  sub_region_1 = \u001b[31mcol_character()\u001b[39m,\n",
            "  sub_region_2 = \u001b[31mcol_character()\u001b[39m,\n",
            "  metro_area = \u001b[33mcol_logical()\u001b[39m,\n",
            "  iso_3166_2_code = \u001b[31mcol_character()\u001b[39m,\n",
            "  census_fips_code = \u001b[31mcol_character()\u001b[39m,\n",
            "  date = \u001b[34mcol_date(format = \"\")\u001b[39m,\n",
            "  retail_and_recreation_percent_change_from_baseline = \u001b[32mcol_double()\u001b[39m,\n",
            "  grocery_and_pharmacy_percent_change_from_baseline = \u001b[32mcol_double()\u001b[39m,\n",
            "  parks_percent_change_from_baseline = \u001b[32mcol_double()\u001b[39m,\n",
            "  transit_stations_percent_change_from_baseline = \u001b[32mcol_double()\u001b[39m,\n",
            "  workplaces_percent_change_from_baseline = \u001b[32mcol_double()\u001b[39m,\n",
            "  residential_percent_change_from_baseline = \u001b[32mcol_double()\u001b[39m\n",
            ")\n",
            "\n",
            "\n"
          ],
          "name": "stderr"
        },
        {
          "output_type": "display_data",
          "data": {
            "text/plain": [
              "  country_region_code country_region sub_region_1 sub_region_2  metro_area\n",
              "1 US                  United States  Wyoming      Weston County NA        \n",
              "2 US                  United States  Wyoming      Weston County NA        \n",
              "3 US                  United States  Wyoming      Weston County NA        \n",
              "4 US                  United States  Wyoming      Weston County NA        \n",
              "5 US                  United States  Wyoming      Weston County NA        \n",
              "6 US                  United States  Wyoming      Weston County NA        \n",
              "  iso_3166_2_code census_fips_code date      \n",
              "1 NA              56045            2020-10-02\n",
              "2 NA              56045            2020-10-05\n",
              "3 NA              56045            2020-10-06\n",
              "4 NA              56045            2020-10-07\n",
              "5 NA              56045            2020-10-08\n",
              "6 NA              56045            2020-10-09\n",
              "  retail_and_recreation_percent_change_from_baseline\n",
              "1 NA                                                \n",
              "2 NA                                                \n",
              "3 NA                                                \n",
              "4 NA                                                \n",
              "5 NA                                                \n",
              "6 NA                                                \n",
              "  grocery_and_pharmacy_percent_change_from_baseline\n",
              "1 NA                                               \n",
              "2 NA                                               \n",
              "3 NA                                               \n",
              "4 NA                                               \n",
              "5 NA                                               \n",
              "6 NA                                               \n",
              "  parks_percent_change_from_baseline\n",
              "1 NA                                \n",
              "2 NA                                \n",
              "3 NA                                \n",
              "4 NA                                \n",
              "5 NA                                \n",
              "6 NA                                \n",
              "  transit_stations_percent_change_from_baseline\n",
              "1 NA                                           \n",
              "2 NA                                           \n",
              "3 NA                                           \n",
              "4 NA                                           \n",
              "5 NA                                           \n",
              "6 NA                                           \n",
              "  workplaces_percent_change_from_baseline\n",
              "1 -12                                    \n",
              "2 -14                                    \n",
              "3 -14                                    \n",
              "4 -14                                    \n",
              "5  -3                                    \n",
              "6 -13                                    \n",
              "  residential_percent_change_from_baseline\n",
              "1 NA                                      \n",
              "2 NA                                      \n",
              "3 NA                                      \n",
              "4 NA                                      \n",
              "5 NA                                      \n",
              "6 NA                                      "
            ],
            "text/latex": "A tibble: 6 × 14\n\\begin{tabular}{llllllllllllll}\n country\\_region\\_code & country\\_region & sub\\_region\\_1 & sub\\_region\\_2 & metro\\_area & iso\\_3166\\_2\\_code & census\\_fips\\_code & date & retail\\_and\\_recreation\\_percent\\_change\\_from\\_baseline & grocery\\_and\\_pharmacy\\_percent\\_change\\_from\\_baseline & parks\\_percent\\_change\\_from\\_baseline & transit\\_stations\\_percent\\_change\\_from\\_baseline & workplaces\\_percent\\_change\\_from\\_baseline & residential\\_percent\\_change\\_from\\_baseline\\\\\n <chr> & <chr> & <chr> & <chr> & <lgl> & <chr> & <chr> & <date> & <dbl> & <dbl> & <dbl> & <dbl> & <dbl> & <dbl>\\\\\n\\hline\n\t US & United States & Wyoming & Weston County & NA & NA & 56045 & 2020-10-02 & NA & NA & NA & NA & -12 & NA\\\\\n\t US & United States & Wyoming & Weston County & NA & NA & 56045 & 2020-10-05 & NA & NA & NA & NA & -14 & NA\\\\\n\t US & United States & Wyoming & Weston County & NA & NA & 56045 & 2020-10-06 & NA & NA & NA & NA & -14 & NA\\\\\n\t US & United States & Wyoming & Weston County & NA & NA & 56045 & 2020-10-07 & NA & NA & NA & NA & -14 & NA\\\\\n\t US & United States & Wyoming & Weston County & NA & NA & 56045 & 2020-10-08 & NA & NA & NA & NA &  -3 & NA\\\\\n\t US & United States & Wyoming & Weston County & NA & NA & 56045 & 2020-10-09 & NA & NA & NA & NA & -13 & NA\\\\\n\\end{tabular}\n",
            "text/markdown": "\nA tibble: 6 × 14\n\n| country_region_code &lt;chr&gt; | country_region &lt;chr&gt; | sub_region_1 &lt;chr&gt; | sub_region_2 &lt;chr&gt; | metro_area &lt;lgl&gt; | iso_3166_2_code &lt;chr&gt; | census_fips_code &lt;chr&gt; | date &lt;date&gt; | retail_and_recreation_percent_change_from_baseline &lt;dbl&gt; | grocery_and_pharmacy_percent_change_from_baseline &lt;dbl&gt; | parks_percent_change_from_baseline &lt;dbl&gt; | transit_stations_percent_change_from_baseline &lt;dbl&gt; | workplaces_percent_change_from_baseline &lt;dbl&gt; | residential_percent_change_from_baseline &lt;dbl&gt; |\n|---|---|---|---|---|---|---|---|---|---|---|---|---|---|\n| US | United States | Wyoming | Weston County | NA | NA | 56045 | 2020-10-02 | NA | NA | NA | NA | -12 | NA |\n| US | United States | Wyoming | Weston County | NA | NA | 56045 | 2020-10-05 | NA | NA | NA | NA | -14 | NA |\n| US | United States | Wyoming | Weston County | NA | NA | 56045 | 2020-10-06 | NA | NA | NA | NA | -14 | NA |\n| US | United States | Wyoming | Weston County | NA | NA | 56045 | 2020-10-07 | NA | NA | NA | NA | -14 | NA |\n| US | United States | Wyoming | Weston County | NA | NA | 56045 | 2020-10-08 | NA | NA | NA | NA |  -3 | NA |\n| US | United States | Wyoming | Weston County | NA | NA | 56045 | 2020-10-09 | NA | NA | NA | NA | -13 | NA |\n\n",
            "text/html": [
              "<table>\n",
              "<caption>A tibble: 6 × 14</caption>\n",
              "<thead>\n",
              "\t<tr><th scope=col>country_region_code</th><th scope=col>country_region</th><th scope=col>sub_region_1</th><th scope=col>sub_region_2</th><th scope=col>metro_area</th><th scope=col>iso_3166_2_code</th><th scope=col>census_fips_code</th><th scope=col>date</th><th scope=col>retail_and_recreation_percent_change_from_baseline</th><th scope=col>grocery_and_pharmacy_percent_change_from_baseline</th><th scope=col>parks_percent_change_from_baseline</th><th scope=col>transit_stations_percent_change_from_baseline</th><th scope=col>workplaces_percent_change_from_baseline</th><th scope=col>residential_percent_change_from_baseline</th></tr>\n",
              "\t<tr><th scope=col>&lt;chr&gt;</th><th scope=col>&lt;chr&gt;</th><th scope=col>&lt;chr&gt;</th><th scope=col>&lt;chr&gt;</th><th scope=col>&lt;lgl&gt;</th><th scope=col>&lt;chr&gt;</th><th scope=col>&lt;chr&gt;</th><th scope=col>&lt;date&gt;</th><th scope=col>&lt;dbl&gt;</th><th scope=col>&lt;dbl&gt;</th><th scope=col>&lt;dbl&gt;</th><th scope=col>&lt;dbl&gt;</th><th scope=col>&lt;dbl&gt;</th><th scope=col>&lt;dbl&gt;</th></tr>\n",
              "</thead>\n",
              "<tbody>\n",
              "\t<tr><td>US</td><td>United States</td><td>Wyoming</td><td>Weston County</td><td>NA</td><td>NA</td><td>56045</td><td>2020-10-02</td><td>NA</td><td>NA</td><td>NA</td><td>NA</td><td>-12</td><td>NA</td></tr>\n",
              "\t<tr><td>US</td><td>United States</td><td>Wyoming</td><td>Weston County</td><td>NA</td><td>NA</td><td>56045</td><td>2020-10-05</td><td>NA</td><td>NA</td><td>NA</td><td>NA</td><td>-14</td><td>NA</td></tr>\n",
              "\t<tr><td>US</td><td>United States</td><td>Wyoming</td><td>Weston County</td><td>NA</td><td>NA</td><td>56045</td><td>2020-10-06</td><td>NA</td><td>NA</td><td>NA</td><td>NA</td><td>-14</td><td>NA</td></tr>\n",
              "\t<tr><td>US</td><td>United States</td><td>Wyoming</td><td>Weston County</td><td>NA</td><td>NA</td><td>56045</td><td>2020-10-07</td><td>NA</td><td>NA</td><td>NA</td><td>NA</td><td>-14</td><td>NA</td></tr>\n",
              "\t<tr><td>US</td><td>United States</td><td>Wyoming</td><td>Weston County</td><td>NA</td><td>NA</td><td>56045</td><td>2020-10-08</td><td>NA</td><td>NA</td><td>NA</td><td>NA</td><td> -3</td><td>NA</td></tr>\n",
              "\t<tr><td>US</td><td>United States</td><td>Wyoming</td><td>Weston County</td><td>NA</td><td>NA</td><td>56045</td><td>2020-10-09</td><td>NA</td><td>NA</td><td>NA</td><td>NA</td><td>-13</td><td>NA</td></tr>\n",
              "</tbody>\n",
              "</table>\n"
            ]
          },
          "metadata": {
            "tags": []
          }
        }
      ]
    },
    {
      "cell_type": "markdown",
      "metadata": {
        "id": "g6TT6eQMI6Pb"
      },
      "source": [
        "It seems Google Mobility is weekly updated."
      ]
    },
    {
      "cell_type": "markdown",
      "metadata": {
        "id": "KM6_zLmaojhA"
      },
      "source": [
        "## Pick Mobility data from Pulaski, AR"
      ]
    },
    {
      "cell_type": "code",
      "metadata": {
        "id": "0qvTCbqTkqG8",
        "outputId": "afc0936b-4571-4497-d404-a79b5da6ce35",
        "colab": {
          "base_uri": "https://localhost:8080/",
          "height": 326
        }
      },
      "source": [
        "tbGMmycounty <-\n",
        "  tbGMUS %>% filter( sub_region_1 == \"Arkansas\", sub_region_2 == \"Pulaski County\")\n",
        "head(tbGMmycounty)"
      ],
      "execution_count": 347,
      "outputs": [
        {
          "output_type": "display_data",
          "data": {
            "text/plain": [
              "  country_region_code country_region sub_region_1 sub_region_2   metro_area\n",
              "1 US                  United States  Arkansas     Pulaski County NA        \n",
              "2 US                  United States  Arkansas     Pulaski County NA        \n",
              "3 US                  United States  Arkansas     Pulaski County NA        \n",
              "4 US                  United States  Arkansas     Pulaski County NA        \n",
              "5 US                  United States  Arkansas     Pulaski County NA        \n",
              "6 US                  United States  Arkansas     Pulaski County NA        \n",
              "  iso_3166_2_code census_fips_code date      \n",
              "1 NA              05119            2020-02-15\n",
              "2 NA              05119            2020-02-16\n",
              "3 NA              05119            2020-02-17\n",
              "4 NA              05119            2020-02-18\n",
              "5 NA              05119            2020-02-19\n",
              "6 NA              05119            2020-02-20\n",
              "  retail_and_recreation_percent_change_from_baseline\n",
              "1 -2                                                \n",
              "2  2                                                \n",
              "3 -1                                                \n",
              "4 -6                                                \n",
              "5  3                                                \n",
              "6  1                                                \n",
              "  grocery_and_pharmacy_percent_change_from_baseline\n",
              "1  1                                               \n",
              "2  5                                               \n",
              "3  1                                               \n",
              "4 -7                                               \n",
              "5  1                                               \n",
              "6  0                                               \n",
              "  parks_percent_change_from_baseline\n",
              "1  -2                               \n",
              "2  30                               \n",
              "3 -10                               \n",
              "4 -18                               \n",
              "5  35                               \n",
              "6   6                               \n",
              "  transit_stations_percent_change_from_baseline\n",
              "1 -6                                           \n",
              "2 -4                                           \n",
              "3 -1                                           \n",
              "4  2                                           \n",
              "5  0                                           \n",
              "6  1                                           \n",
              "  workplaces_percent_change_from_baseline\n",
              "1   3                                    \n",
              "2   0                                    \n",
              "3 -18                                    \n",
              "4   1                                    \n",
              "5   3                                    \n",
              "6   1                                    \n",
              "  residential_percent_change_from_baseline\n",
              "1  0                                      \n",
              "2 -1                                      \n",
              "3  5                                      \n",
              "4  2                                      \n",
              "5 -1                                      \n",
              "6  1                                      "
            ],
            "text/latex": "A tibble: 6 × 14\n\\begin{tabular}{llllllllllllll}\n country\\_region\\_code & country\\_region & sub\\_region\\_1 & sub\\_region\\_2 & metro\\_area & iso\\_3166\\_2\\_code & census\\_fips\\_code & date & retail\\_and\\_recreation\\_percent\\_change\\_from\\_baseline & grocery\\_and\\_pharmacy\\_percent\\_change\\_from\\_baseline & parks\\_percent\\_change\\_from\\_baseline & transit\\_stations\\_percent\\_change\\_from\\_baseline & workplaces\\_percent\\_change\\_from\\_baseline & residential\\_percent\\_change\\_from\\_baseline\\\\\n <chr> & <chr> & <chr> & <chr> & <lgl> & <chr> & <chr> & <date> & <dbl> & <dbl> & <dbl> & <dbl> & <dbl> & <dbl>\\\\\n\\hline\n\t US & United States & Arkansas & Pulaski County & NA & NA & 05119 & 2020-02-15 & -2 &  1 &  -2 & -6 &   3 &  0\\\\\n\t US & United States & Arkansas & Pulaski County & NA & NA & 05119 & 2020-02-16 &  2 &  5 &  30 & -4 &   0 & -1\\\\\n\t US & United States & Arkansas & Pulaski County & NA & NA & 05119 & 2020-02-17 & -1 &  1 & -10 & -1 & -18 &  5\\\\\n\t US & United States & Arkansas & Pulaski County & NA & NA & 05119 & 2020-02-18 & -6 & -7 & -18 &  2 &   1 &  2\\\\\n\t US & United States & Arkansas & Pulaski County & NA & NA & 05119 & 2020-02-19 &  3 &  1 &  35 &  0 &   3 & -1\\\\\n\t US & United States & Arkansas & Pulaski County & NA & NA & 05119 & 2020-02-20 &  1 &  0 &   6 &  1 &   1 &  1\\\\\n\\end{tabular}\n",
            "text/markdown": "\nA tibble: 6 × 14\n\n| country_region_code &lt;chr&gt; | country_region &lt;chr&gt; | sub_region_1 &lt;chr&gt; | sub_region_2 &lt;chr&gt; | metro_area &lt;lgl&gt; | iso_3166_2_code &lt;chr&gt; | census_fips_code &lt;chr&gt; | date &lt;date&gt; | retail_and_recreation_percent_change_from_baseline &lt;dbl&gt; | grocery_and_pharmacy_percent_change_from_baseline &lt;dbl&gt; | parks_percent_change_from_baseline &lt;dbl&gt; | transit_stations_percent_change_from_baseline &lt;dbl&gt; | workplaces_percent_change_from_baseline &lt;dbl&gt; | residential_percent_change_from_baseline &lt;dbl&gt; |\n|---|---|---|---|---|---|---|---|---|---|---|---|---|---|\n| US | United States | Arkansas | Pulaski County | NA | NA | 05119 | 2020-02-15 | -2 |  1 |  -2 | -6 |   3 |  0 |\n| US | United States | Arkansas | Pulaski County | NA | NA | 05119 | 2020-02-16 |  2 |  5 |  30 | -4 |   0 | -1 |\n| US | United States | Arkansas | Pulaski County | NA | NA | 05119 | 2020-02-17 | -1 |  1 | -10 | -1 | -18 |  5 |\n| US | United States | Arkansas | Pulaski County | NA | NA | 05119 | 2020-02-18 | -6 | -7 | -18 |  2 |   1 |  2 |\n| US | United States | Arkansas | Pulaski County | NA | NA | 05119 | 2020-02-19 |  3 |  1 |  35 |  0 |   3 | -1 |\n| US | United States | Arkansas | Pulaski County | NA | NA | 05119 | 2020-02-20 |  1 |  0 |   6 |  1 |   1 |  1 |\n\n",
            "text/html": [
              "<table>\n",
              "<caption>A tibble: 6 × 14</caption>\n",
              "<thead>\n",
              "\t<tr><th scope=col>country_region_code</th><th scope=col>country_region</th><th scope=col>sub_region_1</th><th scope=col>sub_region_2</th><th scope=col>metro_area</th><th scope=col>iso_3166_2_code</th><th scope=col>census_fips_code</th><th scope=col>date</th><th scope=col>retail_and_recreation_percent_change_from_baseline</th><th scope=col>grocery_and_pharmacy_percent_change_from_baseline</th><th scope=col>parks_percent_change_from_baseline</th><th scope=col>transit_stations_percent_change_from_baseline</th><th scope=col>workplaces_percent_change_from_baseline</th><th scope=col>residential_percent_change_from_baseline</th></tr>\n",
              "\t<tr><th scope=col>&lt;chr&gt;</th><th scope=col>&lt;chr&gt;</th><th scope=col>&lt;chr&gt;</th><th scope=col>&lt;chr&gt;</th><th scope=col>&lt;lgl&gt;</th><th scope=col>&lt;chr&gt;</th><th scope=col>&lt;chr&gt;</th><th scope=col>&lt;date&gt;</th><th scope=col>&lt;dbl&gt;</th><th scope=col>&lt;dbl&gt;</th><th scope=col>&lt;dbl&gt;</th><th scope=col>&lt;dbl&gt;</th><th scope=col>&lt;dbl&gt;</th><th scope=col>&lt;dbl&gt;</th></tr>\n",
              "</thead>\n",
              "<tbody>\n",
              "\t<tr><td>US</td><td>United States</td><td>Arkansas</td><td>Pulaski County</td><td>NA</td><td>NA</td><td>05119</td><td>2020-02-15</td><td>-2</td><td> 1</td><td> -2</td><td>-6</td><td>  3</td><td> 0</td></tr>\n",
              "\t<tr><td>US</td><td>United States</td><td>Arkansas</td><td>Pulaski County</td><td>NA</td><td>NA</td><td>05119</td><td>2020-02-16</td><td> 2</td><td> 5</td><td> 30</td><td>-4</td><td>  0</td><td>-1</td></tr>\n",
              "\t<tr><td>US</td><td>United States</td><td>Arkansas</td><td>Pulaski County</td><td>NA</td><td>NA</td><td>05119</td><td>2020-02-17</td><td>-1</td><td> 1</td><td>-10</td><td>-1</td><td>-18</td><td> 5</td></tr>\n",
              "\t<tr><td>US</td><td>United States</td><td>Arkansas</td><td>Pulaski County</td><td>NA</td><td>NA</td><td>05119</td><td>2020-02-18</td><td>-6</td><td>-7</td><td>-18</td><td> 2</td><td>  1</td><td> 2</td></tr>\n",
              "\t<tr><td>US</td><td>United States</td><td>Arkansas</td><td>Pulaski County</td><td>NA</td><td>NA</td><td>05119</td><td>2020-02-19</td><td> 3</td><td> 1</td><td> 35</td><td> 0</td><td>  3</td><td>-1</td></tr>\n",
              "\t<tr><td>US</td><td>United States</td><td>Arkansas</td><td>Pulaski County</td><td>NA</td><td>NA</td><td>05119</td><td>2020-02-20</td><td> 1</td><td> 0</td><td>  6</td><td> 1</td><td>  1</td><td> 1</td></tr>\n",
              "</tbody>\n",
              "</table>\n"
            ]
          },
          "metadata": {
            "tags": []
          }
        }
      ]
    },
    {
      "cell_type": "code",
      "metadata": {
        "id": "_MxGbS-no4FX",
        "outputId": "aea04f09-d10c-4230-aec4-c50d5973a059",
        "colab": {
          "base_uri": "https://localhost:8080/",
          "height": 34
        }
      },
      "source": [
        "length(names(tbGMmycounty))"
      ],
      "execution_count": 348,
      "outputs": [
        {
          "output_type": "display_data",
          "data": {
            "text/plain": [
              "[1] 14"
            ],
            "text/latex": "14",
            "text/markdown": "14",
            "text/html": [
              "14"
            ]
          },
          "metadata": {
            "tags": []
          }
        }
      ]
    },
    {
      "cell_type": "code",
      "metadata": {
        "id": "TaHAcxdOdH1A",
        "outputId": "7da12821-5a18-434b-b68f-cfa821b20a29",
        "colab": {
          "base_uri": "https://localhost:8080/",
          "height": 34
        }
      },
      "source": [
        "max(tbGMmycounty$date)"
      ],
      "execution_count": 349,
      "outputs": [
        {
          "output_type": "display_data",
          "data": {
            "text/plain": [
              "[1] \"2020-10-09\""
            ],
            "text/latex": "2020-10-09",
            "text/markdown": "2020-10-09",
            "text/html": [
              "<time datetime=\"2020-10-09\">2020-10-09</time>"
            ]
          },
          "metadata": {
            "tags": []
          }
        }
      ]
    },
    {
      "cell_type": "markdown",
      "metadata": {
        "id": "SqfKQ0pgVlnL"
      },
      "source": [
        "## Merge mobility, covid19, and weather for Pulaski, AR"
      ]
    },
    {
      "cell_type": "markdown",
      "metadata": {
        "id": "v0oB2HAbTpdz"
      },
      "source": [
        "First, pick the daily case of Pualaski"
      ]
    },
    {
      "cell_type": "code",
      "metadata": {
        "id": "U5IQNTKdTXVH",
        "outputId": "5df19cf0-41d8-4cdb-8cea-160aed5beec9",
        "colab": {
          "base_uri": "https://localhost:8080/",
          "height": 204
        }
      },
      "source": [
        "head( tb_daily_sub)"
      ],
      "execution_count": 350,
      "outputs": [
        {
          "output_type": "display_data",
          "data": {
            "text/plain": [
              "        Pulaski..Arkansas..US Davidson..Tennessee..US YMD       \n",
              "4/20/20 11                     37                     2020-04-20\n",
              "4/21/20  2                     44                     2020-04-21\n",
              "4/22/20 14                      0                     2020-04-22\n",
              "4/23/20 23                    215                     2020-04-23\n",
              "4/24/20 13                     77                     2020-04-24\n",
              "4/25/20 31                    125                     2020-04-25"
            ],
            "text/latex": "A data.frame: 6 × 3\n\\begin{tabular}{r|lll}\n  & Pulaski..Arkansas..US & Davidson..Tennessee..US & YMD\\\\\n  & <dbl> & <dbl> & <date>\\\\\n\\hline\n\t4/20/20 & 11 &  37 & 2020-04-20\\\\\n\t4/21/20 &  2 &  44 & 2020-04-21\\\\\n\t4/22/20 & 14 &   0 & 2020-04-22\\\\\n\t4/23/20 & 23 & 215 & 2020-04-23\\\\\n\t4/24/20 & 13 &  77 & 2020-04-24\\\\\n\t4/25/20 & 31 & 125 & 2020-04-25\\\\\n\\end{tabular}\n",
            "text/markdown": "\nA data.frame: 6 × 3\n\n| <!--/--> | Pulaski..Arkansas..US &lt;dbl&gt; | Davidson..Tennessee..US &lt;dbl&gt; | YMD &lt;date&gt; |\n|---|---|---|---|\n| 4/20/20 | 11 |  37 | 2020-04-20 |\n| 4/21/20 |  2 |  44 | 2020-04-21 |\n| 4/22/20 | 14 |   0 | 2020-04-22 |\n| 4/23/20 | 23 | 215 | 2020-04-23 |\n| 4/24/20 | 13 |  77 | 2020-04-24 |\n| 4/25/20 | 31 | 125 | 2020-04-25 |\n\n",
            "text/html": [
              "<table>\n",
              "<caption>A data.frame: 6 × 3</caption>\n",
              "<thead>\n",
              "\t<tr><th></th><th scope=col>Pulaski..Arkansas..US</th><th scope=col>Davidson..Tennessee..US</th><th scope=col>YMD</th></tr>\n",
              "\t<tr><th></th><th scope=col>&lt;dbl&gt;</th><th scope=col>&lt;dbl&gt;</th><th scope=col>&lt;date&gt;</th></tr>\n",
              "</thead>\n",
              "<tbody>\n",
              "\t<tr><th scope=row>4/20/20</th><td>11</td><td> 37</td><td>2020-04-20</td></tr>\n",
              "\t<tr><th scope=row>4/21/20</th><td> 2</td><td> 44</td><td>2020-04-21</td></tr>\n",
              "\t<tr><th scope=row>4/22/20</th><td>14</td><td>  0</td><td>2020-04-22</td></tr>\n",
              "\t<tr><th scope=row>4/23/20</th><td>23</td><td>215</td><td>2020-04-23</td></tr>\n",
              "\t<tr><th scope=row>4/24/20</th><td>13</td><td> 77</td><td>2020-04-24</td></tr>\n",
              "\t<tr><th scope=row>4/25/20</th><td>31</td><td>125</td><td>2020-04-25</td></tr>\n",
              "</tbody>\n",
              "</table>\n"
            ]
          },
          "metadata": {
            "tags": []
          }
        }
      ]
    },
    {
      "cell_type": "code",
      "metadata": {
        "id": "9htHI-lKbYb1",
        "outputId": "f434bffd-9b51-4a64-f9fc-aca6cc61cacc",
        "colab": {
          "base_uri": "https://localhost:8080/",
          "height": 204
        }
      },
      "source": [
        "tb_daily_mycounty = tb_daily_sub[, c(1,3)]\n",
        "head(tb_daily_mycounty)\n",
        "names(tb_daily_mycounty) = c(\"DailyCases\", \"date\")"
      ],
      "execution_count": 351,
      "outputs": [
        {
          "output_type": "display_data",
          "data": {
            "text/plain": [
              "        Pulaski..Arkansas..US YMD       \n",
              "4/20/20 11                    2020-04-20\n",
              "4/21/20  2                    2020-04-21\n",
              "4/22/20 14                    2020-04-22\n",
              "4/23/20 23                    2020-04-23\n",
              "4/24/20 13                    2020-04-24\n",
              "4/25/20 31                    2020-04-25"
            ],
            "text/latex": "A data.frame: 6 × 2\n\\begin{tabular}{r|ll}\n  & Pulaski..Arkansas..US & YMD\\\\\n  & <dbl> & <date>\\\\\n\\hline\n\t4/20/20 & 11 & 2020-04-20\\\\\n\t4/21/20 &  2 & 2020-04-21\\\\\n\t4/22/20 & 14 & 2020-04-22\\\\\n\t4/23/20 & 23 & 2020-04-23\\\\\n\t4/24/20 & 13 & 2020-04-24\\\\\n\t4/25/20 & 31 & 2020-04-25\\\\\n\\end{tabular}\n",
            "text/markdown": "\nA data.frame: 6 × 2\n\n| <!--/--> | Pulaski..Arkansas..US &lt;dbl&gt; | YMD &lt;date&gt; |\n|---|---|---|\n| 4/20/20 | 11 | 2020-04-20 |\n| 4/21/20 |  2 | 2020-04-21 |\n| 4/22/20 | 14 | 2020-04-22 |\n| 4/23/20 | 23 | 2020-04-23 |\n| 4/24/20 | 13 | 2020-04-24 |\n| 4/25/20 | 31 | 2020-04-25 |\n\n",
            "text/html": [
              "<table>\n",
              "<caption>A data.frame: 6 × 2</caption>\n",
              "<thead>\n",
              "\t<tr><th></th><th scope=col>Pulaski..Arkansas..US</th><th scope=col>YMD</th></tr>\n",
              "\t<tr><th></th><th scope=col>&lt;dbl&gt;</th><th scope=col>&lt;date&gt;</th></tr>\n",
              "</thead>\n",
              "<tbody>\n",
              "\t<tr><th scope=row>4/20/20</th><td>11</td><td>2020-04-20</td></tr>\n",
              "\t<tr><th scope=row>4/21/20</th><td> 2</td><td>2020-04-21</td></tr>\n",
              "\t<tr><th scope=row>4/22/20</th><td>14</td><td>2020-04-22</td></tr>\n",
              "\t<tr><th scope=row>4/23/20</th><td>23</td><td>2020-04-23</td></tr>\n",
              "\t<tr><th scope=row>4/24/20</th><td>13</td><td>2020-04-24</td></tr>\n",
              "\t<tr><th scope=row>4/25/20</th><td>31</td><td>2020-04-25</td></tr>\n",
              "</tbody>\n",
              "</table>\n"
            ]
          },
          "metadata": {
            "tags": []
          }
        }
      ]
    },
    {
      "cell_type": "markdown",
      "metadata": {
        "id": "vTCrHrZRS7X0"
      },
      "source": [
        "Now, find the shared time window\n",
        "between tb_daily_sub and tbGMmycounty\n"
      ]
    },
    {
      "cell_type": "code",
      "metadata": {
        "id": "EmerCbU8bYX_",
        "outputId": "b1892dca-abcf-457d-86b4-0d78976d0b05",
        "colab": {
          "base_uri": "https://localhost:8080/",
          "height": 34
        }
      },
      "source": [
        "min(tb_daily_mycounty$date)"
      ],
      "execution_count": 352,
      "outputs": [
        {
          "output_type": "display_data",
          "data": {
            "text/plain": [
              "[1] \"2020-04-20\""
            ],
            "text/latex": "2020-04-20",
            "text/markdown": "2020-04-20",
            "text/html": [
              "<time datetime=\"2020-04-20\">2020-04-20</time>"
            ]
          },
          "metadata": {
            "tags": []
          }
        }
      ]
    },
    {
      "cell_type": "code",
      "metadata": {
        "id": "X4Lea-WKaUjU",
        "outputId": "f8cc9200-968f-464a-d1b3-07c1db800590",
        "colab": {
          "base_uri": "https://localhost:8080/",
          "height": 34
        }
      },
      "source": [
        "max(tb_daily_mycounty$date)"
      ],
      "execution_count": 353,
      "outputs": [
        {
          "output_type": "display_data",
          "data": {
            "text/plain": [
              "[1] \"2020-10-15\""
            ],
            "text/latex": "2020-10-15",
            "text/markdown": "2020-10-15",
            "text/html": [
              "<time datetime=\"2020-10-15\">2020-10-15</time>"
            ]
          },
          "metadata": {
            "tags": []
          }
        }
      ]
    },
    {
      "cell_type": "code",
      "metadata": {
        "id": "A3lsg2JFddFC",
        "outputId": "ad677a37-7e41-4288-b656-0a3d3e93de9c",
        "colab": {
          "base_uri": "https://localhost:8080/",
          "height": 34
        }
      },
      "source": [
        "last_shared_date = min( c( max(tb_daily_mycounty$date),  max(tbGMmycounty$date) ) )\n",
        "last_shared_date "
      ],
      "execution_count": 354,
      "outputs": [
        {
          "output_type": "display_data",
          "data": {
            "text/plain": [
              "[1] \"2020-10-09\""
            ],
            "text/latex": "2020-10-09",
            "text/markdown": "2020-10-09",
            "text/html": [
              "<time datetime=\"2020-10-09\">2020-10-09</time>"
            ]
          },
          "metadata": {
            "tags": []
          }
        }
      ]
    },
    {
      "cell_type": "code",
      "metadata": {
        "id": "uzBM6ClFUBbr",
        "outputId": "01fe2e68-7a4a-4a4a-c9a2-9ede2d773bed",
        "colab": {
          "base_uri": "https://localhost:8080/",
          "height": 34
        }
      },
      "source": [
        "first_shared_date = max( c(min(tb_daily_mycounty$date),min(tbGMmycounty$date)))\n",
        "first_shared_date"
      ],
      "execution_count": 355,
      "outputs": [
        {
          "output_type": "display_data",
          "data": {
            "text/plain": [
              "[1] \"2020-04-20\""
            ],
            "text/latex": "2020-04-20",
            "text/markdown": "2020-04-20",
            "text/html": [
              "<time datetime=\"2020-04-20\">2020-04-20</time>"
            ]
          },
          "metadata": {
            "tags": []
          }
        }
      ]
    },
    {
      "cell_type": "markdown",
      "metadata": {
        "id": "eBC0iWqDUWLP"
      },
      "source": [
        "Trim the Google mobility data based on the time window"
      ]
    },
    {
      "cell_type": "code",
      "metadata": {
        "id": "-XDOMGILW9ou",
        "outputId": "26540379-4ea8-4bf0-b7f0-74d3ae8b9b87",
        "colab": {
          "base_uri": "https://localhost:8080/",
          "height": 173
        }
      },
      "source": [
        "tbGMmycount2 <-\n",
        "  tbGMmycounty %>%\n",
        "  dplyr::select(8:length(names(tbGMmycounty))) %>%\n",
        "  dplyr::filter( between(date, first_shared_date, last_shared_date ))\n",
        "\n",
        "str(tbGMmycount2)"
      ],
      "execution_count": 356,
      "outputs": [
        {
          "output_type": "stream",
          "text": [
            "tibble [173 × 7] (S3: tbl_df/tbl/data.frame)\n",
            " $ date                                              : Date[1:173], format: \"2020-04-20\" \"2020-04-21\" ...\n",
            " $ retail_and_recreation_percent_change_from_baseline: num [1:173] -25 -23 -34 -28 -28 -33 -28 -22 -21 -19 ...\n",
            " $ grocery_and_pharmacy_percent_change_from_baseline : num [1:173] -4 -1 -13 -1 -3 -5 -2 -3 1 1 ...\n",
            " $ parks_percent_change_from_baseline                : num [1:173] 35 85 -24 43 24 14 51 13 39 65 ...\n",
            " $ transit_stations_percent_change_from_baseline     : num [1:173] -25 -22 -35 -26 -26 -25 -31 -23 -19 -25 ...\n",
            " $ workplaces_percent_change_from_baseline           : num [1:173] -39 -39 -42 -40 -39 -24 -29 -38 -39 -39 ...\n",
            " $ residential_percent_change_from_baseline          : num [1:173] 14 14 18 15 16 8 7 14 8 13 ...\n"
          ],
          "name": "stdout"
        }
      ]
    },
    {
      "cell_type": "markdown",
      "metadata": {
        "id": "BWHRj5TBUoQg"
      },
      "source": [
        "Trim the daily cases based on the time window"
      ]
    },
    {
      "cell_type": "code",
      "metadata": {
        "id": "1WAt2QR9o4Rh",
        "outputId": "ad27d413-0fbe-44d2-ce58-0fc681bb3bff",
        "colab": {
          "base_uri": "https://localhost:8080/",
          "height": 68
        }
      },
      "source": [
        "tb_daily_mycounty2 <- \n",
        "  tb_daily_mycounty %>%\n",
        "  dplyr::filter( between(date, first_shared_date, last_shared_date ) )\n",
        "\n",
        "str(tb_daily_mycounty2)"
      ],
      "execution_count": 357,
      "outputs": [
        {
          "output_type": "stream",
          "text": [
            "'data.frame':\t173 obs. of  2 variables:\n",
            " $ DailyCases: num  11 2 14 23 13 31 7 6 6 10 ...\n",
            " $ date      : Date, format: \"2020-04-20\" \"2020-04-21\" ...\n"
          ],
          "name": "stdout"
        }
      ]
    },
    {
      "cell_type": "markdown",
      "metadata": {
        "id": "TN0JaxffVCqY"
      },
      "source": [
        "Let's check the dates, are they matched now? "
      ]
    },
    {
      "cell_type": "code",
      "metadata": {
        "id": "XrTqp15jWFNO",
        "outputId": "89c159bf-5168-4f19-c9dd-6f6f14ec97e5",
        "colab": {
          "base_uri": "https://localhost:8080/",
          "height": 204
        }
      },
      "source": [
        "tb_daily_mycounty2$date %in% tbGMmycount2$date"
      ],
      "execution_count": 358,
      "outputs": [
        {
          "output_type": "display_data",
          "data": {
            "text/plain": [
              "  [1] TRUE TRUE TRUE TRUE TRUE TRUE TRUE TRUE TRUE TRUE TRUE TRUE TRUE TRUE TRUE\n",
              " [16] TRUE TRUE TRUE TRUE TRUE TRUE TRUE TRUE TRUE TRUE TRUE TRUE TRUE TRUE TRUE\n",
              " [31] TRUE TRUE TRUE TRUE TRUE TRUE TRUE TRUE TRUE TRUE TRUE TRUE TRUE TRUE TRUE\n",
              " [46] TRUE TRUE TRUE TRUE TRUE TRUE TRUE TRUE TRUE TRUE TRUE TRUE TRUE TRUE TRUE\n",
              " [61] TRUE TRUE TRUE TRUE TRUE TRUE TRUE TRUE TRUE TRUE TRUE TRUE TRUE TRUE TRUE\n",
              " [76] TRUE TRUE TRUE TRUE TRUE TRUE TRUE TRUE TRUE TRUE TRUE TRUE TRUE TRUE TRUE\n",
              " [91] TRUE TRUE TRUE TRUE TRUE TRUE TRUE TRUE TRUE TRUE TRUE TRUE TRUE TRUE TRUE\n",
              "[106] TRUE TRUE TRUE TRUE TRUE TRUE TRUE TRUE TRUE TRUE TRUE TRUE TRUE TRUE TRUE\n",
              "[121] TRUE TRUE TRUE TRUE TRUE TRUE TRUE TRUE TRUE TRUE TRUE TRUE TRUE TRUE TRUE\n",
              "[136] TRUE TRUE TRUE TRUE TRUE TRUE TRUE TRUE TRUE TRUE TRUE TRUE TRUE TRUE TRUE\n",
              "[151] TRUE TRUE TRUE TRUE TRUE TRUE TRUE TRUE TRUE TRUE TRUE TRUE TRUE TRUE TRUE\n",
              "[166] TRUE TRUE TRUE TRUE TRUE TRUE TRUE TRUE"
            ],
            "text/latex": "\\begin{enumerate*}\n\\item TRUE\n\\item TRUE\n\\item TRUE\n\\item TRUE\n\\item TRUE\n\\item TRUE\n\\item TRUE\n\\item TRUE\n\\item TRUE\n\\item TRUE\n\\item TRUE\n\\item TRUE\n\\item TRUE\n\\item TRUE\n\\item TRUE\n\\item TRUE\n\\item TRUE\n\\item TRUE\n\\item TRUE\n\\item TRUE\n\\item TRUE\n\\item TRUE\n\\item TRUE\n\\item TRUE\n\\item TRUE\n\\item TRUE\n\\item TRUE\n\\item TRUE\n\\item TRUE\n\\item TRUE\n\\item TRUE\n\\item TRUE\n\\item TRUE\n\\item TRUE\n\\item TRUE\n\\item TRUE\n\\item TRUE\n\\item TRUE\n\\item TRUE\n\\item TRUE\n\\item TRUE\n\\item TRUE\n\\item TRUE\n\\item TRUE\n\\item TRUE\n\\item TRUE\n\\item TRUE\n\\item TRUE\n\\item TRUE\n\\item TRUE\n\\item TRUE\n\\item TRUE\n\\item TRUE\n\\item TRUE\n\\item TRUE\n\\item TRUE\n\\item TRUE\n\\item TRUE\n\\item TRUE\n\\item TRUE\n\\item TRUE\n\\item TRUE\n\\item TRUE\n\\item TRUE\n\\item TRUE\n\\item TRUE\n\\item TRUE\n\\item TRUE\n\\item TRUE\n\\item TRUE\n\\item TRUE\n\\item TRUE\n\\item TRUE\n\\item TRUE\n\\item TRUE\n\\item TRUE\n\\item TRUE\n\\item TRUE\n\\item TRUE\n\\item TRUE\n\\item TRUE\n\\item TRUE\n\\item TRUE\n\\item TRUE\n\\item TRUE\n\\item TRUE\n\\item TRUE\n\\item TRUE\n\\item TRUE\n\\item TRUE\n\\item TRUE\n\\item TRUE\n\\item TRUE\n\\item TRUE\n\\item TRUE\n\\item TRUE\n\\item TRUE\n\\item TRUE\n\\item TRUE\n\\item TRUE\n\\item TRUE\n\\item TRUE\n\\item TRUE\n\\item TRUE\n\\item TRUE\n\\item TRUE\n\\item TRUE\n\\item TRUE\n\\item TRUE\n\\item TRUE\n\\item TRUE\n\\item TRUE\n\\item TRUE\n\\item TRUE\n\\item TRUE\n\\item TRUE\n\\item TRUE\n\\item TRUE\n\\item TRUE\n\\item TRUE\n\\item TRUE\n\\item TRUE\n\\item TRUE\n\\item TRUE\n\\item TRUE\n\\item TRUE\n\\item TRUE\n\\item TRUE\n\\item TRUE\n\\item TRUE\n\\item TRUE\n\\item TRUE\n\\item TRUE\n\\item TRUE\n\\item TRUE\n\\item TRUE\n\\item TRUE\n\\item TRUE\n\\item TRUE\n\\item TRUE\n\\item TRUE\n\\item TRUE\n\\item TRUE\n\\item TRUE\n\\item TRUE\n\\item TRUE\n\\item TRUE\n\\item TRUE\n\\item TRUE\n\\item TRUE\n\\item TRUE\n\\item TRUE\n\\item TRUE\n\\item TRUE\n\\item TRUE\n\\item TRUE\n\\item TRUE\n\\item TRUE\n\\item TRUE\n\\item TRUE\n\\item TRUE\n\\item TRUE\n\\item TRUE\n\\item TRUE\n\\item TRUE\n\\item TRUE\n\\item TRUE\n\\item TRUE\n\\item TRUE\n\\item TRUE\n\\item TRUE\n\\item TRUE\n\\item TRUE\n\\end{enumerate*}\n",
            "text/markdown": "1. TRUE\n2. TRUE\n3. TRUE\n4. TRUE\n5. TRUE\n6. TRUE\n7. TRUE\n8. TRUE\n9. TRUE\n10. TRUE\n11. TRUE\n12. TRUE\n13. TRUE\n14. TRUE\n15. TRUE\n16. TRUE\n17. TRUE\n18. TRUE\n19. TRUE\n20. TRUE\n21. TRUE\n22. TRUE\n23. TRUE\n24. TRUE\n25. TRUE\n26. TRUE\n27. TRUE\n28. TRUE\n29. TRUE\n30. TRUE\n31. TRUE\n32. TRUE\n33. TRUE\n34. TRUE\n35. TRUE\n36. TRUE\n37. TRUE\n38. TRUE\n39. TRUE\n40. TRUE\n41. TRUE\n42. TRUE\n43. TRUE\n44. TRUE\n45. TRUE\n46. TRUE\n47. TRUE\n48. TRUE\n49. TRUE\n50. TRUE\n51. TRUE\n52. TRUE\n53. TRUE\n54. TRUE\n55. TRUE\n56. TRUE\n57. TRUE\n58. TRUE\n59. TRUE\n60. TRUE\n61. TRUE\n62. TRUE\n63. TRUE\n64. TRUE\n65. TRUE\n66. TRUE\n67. TRUE\n68. TRUE\n69. TRUE\n70. TRUE\n71. TRUE\n72. TRUE\n73. TRUE\n74. TRUE\n75. TRUE\n76. TRUE\n77. TRUE\n78. TRUE\n79. TRUE\n80. TRUE\n81. TRUE\n82. TRUE\n83. TRUE\n84. TRUE\n85. TRUE\n86. TRUE\n87. TRUE\n88. TRUE\n89. TRUE\n90. TRUE\n91. TRUE\n92. TRUE\n93. TRUE\n94. TRUE\n95. TRUE\n96. TRUE\n97. TRUE\n98. TRUE\n99. TRUE\n100. TRUE\n101. TRUE\n102. TRUE\n103. TRUE\n104. TRUE\n105. TRUE\n106. TRUE\n107. TRUE\n108. TRUE\n109. TRUE\n110. TRUE\n111. TRUE\n112. TRUE\n113. TRUE\n114. TRUE\n115. TRUE\n116. TRUE\n117. TRUE\n118. TRUE\n119. TRUE\n120. TRUE\n121. TRUE\n122. TRUE\n123. TRUE\n124. TRUE\n125. TRUE\n126. TRUE\n127. TRUE\n128. TRUE\n129. TRUE\n130. TRUE\n131. TRUE\n132. TRUE\n133. TRUE\n134. TRUE\n135. TRUE\n136. TRUE\n137. TRUE\n138. TRUE\n139. TRUE\n140. TRUE\n141. TRUE\n142. TRUE\n143. TRUE\n144. TRUE\n145. TRUE\n146. TRUE\n147. TRUE\n148. TRUE\n149. TRUE\n150. TRUE\n151. TRUE\n152. TRUE\n153. TRUE\n154. TRUE\n155. TRUE\n156. TRUE\n157. TRUE\n158. TRUE\n159. TRUE\n160. TRUE\n161. TRUE\n162. TRUE\n163. TRUE\n164. TRUE\n165. TRUE\n166. TRUE\n167. TRUE\n168. TRUE\n169. TRUE\n170. TRUE\n171. TRUE\n172. TRUE\n173. TRUE\n\n\n",
            "text/html": [
              "<style>\n",
              ".list-inline {list-style: none; margin:0; padding: 0}\n",
              ".list-inline>li {display: inline-block}\n",
              ".list-inline>li:not(:last-child)::after {content: \"\\00b7\"; padding: 0 .5ex}\n",
              "</style>\n",
              "<ol class=list-inline><li>TRUE</li><li>TRUE</li><li>TRUE</li><li>TRUE</li><li>TRUE</li><li>TRUE</li><li>TRUE</li><li>TRUE</li><li>TRUE</li><li>TRUE</li><li>TRUE</li><li>TRUE</li><li>TRUE</li><li>TRUE</li><li>TRUE</li><li>TRUE</li><li>TRUE</li><li>TRUE</li><li>TRUE</li><li>TRUE</li><li>TRUE</li><li>TRUE</li><li>TRUE</li><li>TRUE</li><li>TRUE</li><li>TRUE</li><li>TRUE</li><li>TRUE</li><li>TRUE</li><li>TRUE</li><li>TRUE</li><li>TRUE</li><li>TRUE</li><li>TRUE</li><li>TRUE</li><li>TRUE</li><li>TRUE</li><li>TRUE</li><li>TRUE</li><li>TRUE</li><li>TRUE</li><li>TRUE</li><li>TRUE</li><li>TRUE</li><li>TRUE</li><li>TRUE</li><li>TRUE</li><li>TRUE</li><li>TRUE</li><li>TRUE</li><li>TRUE</li><li>TRUE</li><li>TRUE</li><li>TRUE</li><li>TRUE</li><li>TRUE</li><li>TRUE</li><li>TRUE</li><li>TRUE</li><li>TRUE</li><li>TRUE</li><li>TRUE</li><li>TRUE</li><li>TRUE</li><li>TRUE</li><li>TRUE</li><li>TRUE</li><li>TRUE</li><li>TRUE</li><li>TRUE</li><li>TRUE</li><li>TRUE</li><li>TRUE</li><li>TRUE</li><li>TRUE</li><li>TRUE</li><li>TRUE</li><li>TRUE</li><li>TRUE</li><li>TRUE</li><li>TRUE</li><li>TRUE</li><li>TRUE</li><li>TRUE</li><li>TRUE</li><li>TRUE</li><li>TRUE</li><li>TRUE</li><li>TRUE</li><li>TRUE</li><li>TRUE</li><li>TRUE</li><li>TRUE</li><li>TRUE</li><li>TRUE</li><li>TRUE</li><li>TRUE</li><li>TRUE</li><li>TRUE</li><li>TRUE</li><li>TRUE</li><li>TRUE</li><li>TRUE</li><li>TRUE</li><li>TRUE</li><li>TRUE</li><li>TRUE</li><li>TRUE</li><li>TRUE</li><li>TRUE</li><li>TRUE</li><li>TRUE</li><li>TRUE</li><li>TRUE</li><li>TRUE</li><li>TRUE</li><li>TRUE</li><li>TRUE</li><li>TRUE</li><li>TRUE</li><li>TRUE</li><li>TRUE</li><li>TRUE</li><li>TRUE</li><li>TRUE</li><li>TRUE</li><li>TRUE</li><li>TRUE</li><li>TRUE</li><li>TRUE</li><li>TRUE</li><li>TRUE</li><li>TRUE</li><li>TRUE</li><li>TRUE</li><li>TRUE</li><li>TRUE</li><li>TRUE</li><li>TRUE</li><li>TRUE</li><li>TRUE</li><li>TRUE</li><li>TRUE</li><li>TRUE</li><li>TRUE</li><li>TRUE</li><li>TRUE</li><li>TRUE</li><li>TRUE</li><li>TRUE</li><li>TRUE</li><li>TRUE</li><li>TRUE</li><li>TRUE</li><li>TRUE</li><li>TRUE</li><li>TRUE</li><li>TRUE</li><li>TRUE</li><li>TRUE</li><li>TRUE</li><li>TRUE</li><li>TRUE</li><li>TRUE</li><li>TRUE</li><li>TRUE</li><li>TRUE</li><li>TRUE</li><li>TRUE</li><li>TRUE</li><li>TRUE</li><li>TRUE</li><li>TRUE</li></ol>\n"
            ]
          },
          "metadata": {
            "tags": []
          }
        }
      ]
    },
    {
      "cell_type": "markdown",
      "metadata": {
        "id": "Rzx8u4YMVN_Z"
      },
      "source": [
        "Here, we can merged the two data frames by combine them by columns. Just like copy-paste in an Excel sheet"
      ]
    },
    {
      "cell_type": "code",
      "metadata": {
        "id": "1BT7lPrHVwZW",
        "outputId": "8f331a15-6ff0-403c-9133-2522d3a60068",
        "colab": {
          "base_uri": "https://localhost:8080/",
          "height": 326
        }
      },
      "source": [
        "#tb_GMCovidWeatherHCTN <- merge(tbGMHCTN2, tb_HCTN3, by=date)\n",
        "tb_GMCovidmycounty <- data.frame( cbind(tb_daily_mycounty2, tbGMmycount2) )\n",
        "head( tb_GMCovidmycounty )"
      ],
      "execution_count": 359,
      "outputs": [
        {
          "output_type": "display_data",
          "data": {
            "text/plain": [
              "        DailyCases date       date.1    \n",
              "4/20/20 11         2020-04-20 2020-04-20\n",
              "4/21/20  2         2020-04-21 2020-04-21\n",
              "4/22/20 14         2020-04-22 2020-04-22\n",
              "4/23/20 23         2020-04-23 2020-04-23\n",
              "4/24/20 13         2020-04-24 2020-04-24\n",
              "4/25/20 31         2020-04-25 2020-04-25\n",
              "        retail_and_recreation_percent_change_from_baseline\n",
              "4/20/20 -25                                               \n",
              "4/21/20 -23                                               \n",
              "4/22/20 -34                                               \n",
              "4/23/20 -28                                               \n",
              "4/24/20 -28                                               \n",
              "4/25/20 -33                                               \n",
              "        grocery_and_pharmacy_percent_change_from_baseline\n",
              "4/20/20  -4                                              \n",
              "4/21/20  -1                                              \n",
              "4/22/20 -13                                              \n",
              "4/23/20  -1                                              \n",
              "4/24/20  -3                                              \n",
              "4/25/20  -5                                              \n",
              "        parks_percent_change_from_baseline\n",
              "4/20/20  35                               \n",
              "4/21/20  85                               \n",
              "4/22/20 -24                               \n",
              "4/23/20  43                               \n",
              "4/24/20  24                               \n",
              "4/25/20  14                               \n",
              "        transit_stations_percent_change_from_baseline\n",
              "4/20/20 -25                                          \n",
              "4/21/20 -22                                          \n",
              "4/22/20 -35                                          \n",
              "4/23/20 -26                                          \n",
              "4/24/20 -26                                          \n",
              "4/25/20 -25                                          \n",
              "        workplaces_percent_change_from_baseline\n",
              "4/20/20 -39                                    \n",
              "4/21/20 -39                                    \n",
              "4/22/20 -42                                    \n",
              "4/23/20 -40                                    \n",
              "4/24/20 -39                                    \n",
              "4/25/20 -24                                    \n",
              "        residential_percent_change_from_baseline\n",
              "4/20/20 14                                      \n",
              "4/21/20 14                                      \n",
              "4/22/20 18                                      \n",
              "4/23/20 15                                      \n",
              "4/24/20 16                                      \n",
              "4/25/20  8                                      "
            ],
            "text/latex": "A data.frame: 6 × 9\n\\begin{tabular}{r|lllllllll}\n  & DailyCases & date & date.1 & retail\\_and\\_recreation\\_percent\\_change\\_from\\_baseline & grocery\\_and\\_pharmacy\\_percent\\_change\\_from\\_baseline & parks\\_percent\\_change\\_from\\_baseline & transit\\_stations\\_percent\\_change\\_from\\_baseline & workplaces\\_percent\\_change\\_from\\_baseline & residential\\_percent\\_change\\_from\\_baseline\\\\\n  & <dbl> & <date> & <date> & <dbl> & <dbl> & <dbl> & <dbl> & <dbl> & <dbl>\\\\\n\\hline\n\t4/20/20 & 11 & 2020-04-20 & 2020-04-20 & -25 &  -4 &  35 & -25 & -39 & 14\\\\\n\t4/21/20 &  2 & 2020-04-21 & 2020-04-21 & -23 &  -1 &  85 & -22 & -39 & 14\\\\\n\t4/22/20 & 14 & 2020-04-22 & 2020-04-22 & -34 & -13 & -24 & -35 & -42 & 18\\\\\n\t4/23/20 & 23 & 2020-04-23 & 2020-04-23 & -28 &  -1 &  43 & -26 & -40 & 15\\\\\n\t4/24/20 & 13 & 2020-04-24 & 2020-04-24 & -28 &  -3 &  24 & -26 & -39 & 16\\\\\n\t4/25/20 & 31 & 2020-04-25 & 2020-04-25 & -33 &  -5 &  14 & -25 & -24 &  8\\\\\n\\end{tabular}\n",
            "text/markdown": "\nA data.frame: 6 × 9\n\n| <!--/--> | DailyCases &lt;dbl&gt; | date &lt;date&gt; | date.1 &lt;date&gt; | retail_and_recreation_percent_change_from_baseline &lt;dbl&gt; | grocery_and_pharmacy_percent_change_from_baseline &lt;dbl&gt; | parks_percent_change_from_baseline &lt;dbl&gt; | transit_stations_percent_change_from_baseline &lt;dbl&gt; | workplaces_percent_change_from_baseline &lt;dbl&gt; | residential_percent_change_from_baseline &lt;dbl&gt; |\n|---|---|---|---|---|---|---|---|---|---|\n| 4/20/20 | 11 | 2020-04-20 | 2020-04-20 | -25 |  -4 |  35 | -25 | -39 | 14 |\n| 4/21/20 |  2 | 2020-04-21 | 2020-04-21 | -23 |  -1 |  85 | -22 | -39 | 14 |\n| 4/22/20 | 14 | 2020-04-22 | 2020-04-22 | -34 | -13 | -24 | -35 | -42 | 18 |\n| 4/23/20 | 23 | 2020-04-23 | 2020-04-23 | -28 |  -1 |  43 | -26 | -40 | 15 |\n| 4/24/20 | 13 | 2020-04-24 | 2020-04-24 | -28 |  -3 |  24 | -26 | -39 | 16 |\n| 4/25/20 | 31 | 2020-04-25 | 2020-04-25 | -33 |  -5 |  14 | -25 | -24 |  8 |\n\n",
            "text/html": [
              "<table>\n",
              "<caption>A data.frame: 6 × 9</caption>\n",
              "<thead>\n",
              "\t<tr><th></th><th scope=col>DailyCases</th><th scope=col>date</th><th scope=col>date.1</th><th scope=col>retail_and_recreation_percent_change_from_baseline</th><th scope=col>grocery_and_pharmacy_percent_change_from_baseline</th><th scope=col>parks_percent_change_from_baseline</th><th scope=col>transit_stations_percent_change_from_baseline</th><th scope=col>workplaces_percent_change_from_baseline</th><th scope=col>residential_percent_change_from_baseline</th></tr>\n",
              "\t<tr><th></th><th scope=col>&lt;dbl&gt;</th><th scope=col>&lt;date&gt;</th><th scope=col>&lt;date&gt;</th><th scope=col>&lt;dbl&gt;</th><th scope=col>&lt;dbl&gt;</th><th scope=col>&lt;dbl&gt;</th><th scope=col>&lt;dbl&gt;</th><th scope=col>&lt;dbl&gt;</th><th scope=col>&lt;dbl&gt;</th></tr>\n",
              "</thead>\n",
              "<tbody>\n",
              "\t<tr><th scope=row>4/20/20</th><td>11</td><td>2020-04-20</td><td>2020-04-20</td><td>-25</td><td> -4</td><td> 35</td><td>-25</td><td>-39</td><td>14</td></tr>\n",
              "\t<tr><th scope=row>4/21/20</th><td> 2</td><td>2020-04-21</td><td>2020-04-21</td><td>-23</td><td> -1</td><td> 85</td><td>-22</td><td>-39</td><td>14</td></tr>\n",
              "\t<tr><th scope=row>4/22/20</th><td>14</td><td>2020-04-22</td><td>2020-04-22</td><td>-34</td><td>-13</td><td>-24</td><td>-35</td><td>-42</td><td>18</td></tr>\n",
              "\t<tr><th scope=row>4/23/20</th><td>23</td><td>2020-04-23</td><td>2020-04-23</td><td>-28</td><td> -1</td><td> 43</td><td>-26</td><td>-40</td><td>15</td></tr>\n",
              "\t<tr><th scope=row>4/24/20</th><td>13</td><td>2020-04-24</td><td>2020-04-24</td><td>-28</td><td> -3</td><td> 24</td><td>-26</td><td>-39</td><td>16</td></tr>\n",
              "\t<tr><th scope=row>4/25/20</th><td>31</td><td>2020-04-25</td><td>2020-04-25</td><td>-33</td><td> -5</td><td> 14</td><td>-25</td><td>-24</td><td> 8</td></tr>\n",
              "</tbody>\n",
              "</table>\n"
            ]
          },
          "metadata": {
            "tags": []
          }
        }
      ]
    },
    {
      "cell_type": "markdown",
      "metadata": {
        "id": "Qje1z9a6VtCQ"
      },
      "source": [
        "Remove the redundant date columns"
      ]
    },
    {
      "cell_type": "code",
      "metadata": {
        "id": "to_ufV5KV2sq",
        "outputId": "e6edf7cc-10c2-41cf-f466-46fd6c4ccd09",
        "colab": {
          "base_uri": "https://localhost:8080/",
          "height": 34
        }
      },
      "source": [
        "print( paste( \"There are \", length(tb_GMCovidmycounty[1,]), \"columns\"))"
      ],
      "execution_count": 360,
      "outputs": [
        {
          "output_type": "stream",
          "text": [
            "[1] \"There are  9 columns\"\n"
          ],
          "name": "stdout"
        }
      ]
    },
    {
      "cell_type": "code",
      "metadata": {
        "id": "2nP5CcKWWuOc",
        "outputId": "2ca08b85-15cd-412d-b5e8-f90a7380fc43",
        "colab": {
          "base_uri": "https://localhost:8080/",
          "height": 224
        }
      },
      "source": [
        "tb_GMCovidmycounty2  <- tb_GMCovidmycounty  %>% dplyr::select(1, 4:9) # remove column date.1\n",
        "head(tb_GMCovidmycounty2 )"
      ],
      "execution_count": 361,
      "outputs": [
        {
          "output_type": "display_data",
          "data": {
            "text/plain": [
              "        DailyCases retail_and_recreation_percent_change_from_baseline\n",
              "4/20/20 11         -25                                               \n",
              "4/21/20  2         -23                                               \n",
              "4/22/20 14         -34                                               \n",
              "4/23/20 23         -28                                               \n",
              "4/24/20 13         -28                                               \n",
              "4/25/20 31         -33                                               \n",
              "        grocery_and_pharmacy_percent_change_from_baseline\n",
              "4/20/20  -4                                              \n",
              "4/21/20  -1                                              \n",
              "4/22/20 -13                                              \n",
              "4/23/20  -1                                              \n",
              "4/24/20  -3                                              \n",
              "4/25/20  -5                                              \n",
              "        parks_percent_change_from_baseline\n",
              "4/20/20  35                               \n",
              "4/21/20  85                               \n",
              "4/22/20 -24                               \n",
              "4/23/20  43                               \n",
              "4/24/20  24                               \n",
              "4/25/20  14                               \n",
              "        transit_stations_percent_change_from_baseline\n",
              "4/20/20 -25                                          \n",
              "4/21/20 -22                                          \n",
              "4/22/20 -35                                          \n",
              "4/23/20 -26                                          \n",
              "4/24/20 -26                                          \n",
              "4/25/20 -25                                          \n",
              "        workplaces_percent_change_from_baseline\n",
              "4/20/20 -39                                    \n",
              "4/21/20 -39                                    \n",
              "4/22/20 -42                                    \n",
              "4/23/20 -40                                    \n",
              "4/24/20 -39                                    \n",
              "4/25/20 -24                                    \n",
              "        residential_percent_change_from_baseline\n",
              "4/20/20 14                                      \n",
              "4/21/20 14                                      \n",
              "4/22/20 18                                      \n",
              "4/23/20 15                                      \n",
              "4/24/20 16                                      \n",
              "4/25/20  8                                      "
            ],
            "text/latex": "A data.frame: 6 × 7\n\\begin{tabular}{r|lllllll}\n  & DailyCases & retail\\_and\\_recreation\\_percent\\_change\\_from\\_baseline & grocery\\_and\\_pharmacy\\_percent\\_change\\_from\\_baseline & parks\\_percent\\_change\\_from\\_baseline & transit\\_stations\\_percent\\_change\\_from\\_baseline & workplaces\\_percent\\_change\\_from\\_baseline & residential\\_percent\\_change\\_from\\_baseline\\\\\n  & <dbl> & <dbl> & <dbl> & <dbl> & <dbl> & <dbl> & <dbl>\\\\\n\\hline\n\t4/20/20 & 11 & -25 &  -4 &  35 & -25 & -39 & 14\\\\\n\t4/21/20 &  2 & -23 &  -1 &  85 & -22 & -39 & 14\\\\\n\t4/22/20 & 14 & -34 & -13 & -24 & -35 & -42 & 18\\\\\n\t4/23/20 & 23 & -28 &  -1 &  43 & -26 & -40 & 15\\\\\n\t4/24/20 & 13 & -28 &  -3 &  24 & -26 & -39 & 16\\\\\n\t4/25/20 & 31 & -33 &  -5 &  14 & -25 & -24 &  8\\\\\n\\end{tabular}\n",
            "text/markdown": "\nA data.frame: 6 × 7\n\n| <!--/--> | DailyCases &lt;dbl&gt; | retail_and_recreation_percent_change_from_baseline &lt;dbl&gt; | grocery_and_pharmacy_percent_change_from_baseline &lt;dbl&gt; | parks_percent_change_from_baseline &lt;dbl&gt; | transit_stations_percent_change_from_baseline &lt;dbl&gt; | workplaces_percent_change_from_baseline &lt;dbl&gt; | residential_percent_change_from_baseline &lt;dbl&gt; |\n|---|---|---|---|---|---|---|---|\n| 4/20/20 | 11 | -25 |  -4 |  35 | -25 | -39 | 14 |\n| 4/21/20 |  2 | -23 |  -1 |  85 | -22 | -39 | 14 |\n| 4/22/20 | 14 | -34 | -13 | -24 | -35 | -42 | 18 |\n| 4/23/20 | 23 | -28 |  -1 |  43 | -26 | -40 | 15 |\n| 4/24/20 | 13 | -28 |  -3 |  24 | -26 | -39 | 16 |\n| 4/25/20 | 31 | -33 |  -5 |  14 | -25 | -24 |  8 |\n\n",
            "text/html": [
              "<table>\n",
              "<caption>A data.frame: 6 × 7</caption>\n",
              "<thead>\n",
              "\t<tr><th></th><th scope=col>DailyCases</th><th scope=col>retail_and_recreation_percent_change_from_baseline</th><th scope=col>grocery_and_pharmacy_percent_change_from_baseline</th><th scope=col>parks_percent_change_from_baseline</th><th scope=col>transit_stations_percent_change_from_baseline</th><th scope=col>workplaces_percent_change_from_baseline</th><th scope=col>residential_percent_change_from_baseline</th></tr>\n",
              "\t<tr><th></th><th scope=col>&lt;dbl&gt;</th><th scope=col>&lt;dbl&gt;</th><th scope=col>&lt;dbl&gt;</th><th scope=col>&lt;dbl&gt;</th><th scope=col>&lt;dbl&gt;</th><th scope=col>&lt;dbl&gt;</th><th scope=col>&lt;dbl&gt;</th></tr>\n",
              "</thead>\n",
              "<tbody>\n",
              "\t<tr><th scope=row>4/20/20</th><td>11</td><td>-25</td><td> -4</td><td> 35</td><td>-25</td><td>-39</td><td>14</td></tr>\n",
              "\t<tr><th scope=row>4/21/20</th><td> 2</td><td>-23</td><td> -1</td><td> 85</td><td>-22</td><td>-39</td><td>14</td></tr>\n",
              "\t<tr><th scope=row>4/22/20</th><td>14</td><td>-34</td><td>-13</td><td>-24</td><td>-35</td><td>-42</td><td>18</td></tr>\n",
              "\t<tr><th scope=row>4/23/20</th><td>23</td><td>-28</td><td> -1</td><td> 43</td><td>-26</td><td>-40</td><td>15</td></tr>\n",
              "\t<tr><th scope=row>4/24/20</th><td>13</td><td>-28</td><td> -3</td><td> 24</td><td>-26</td><td>-39</td><td>16</td></tr>\n",
              "\t<tr><th scope=row>4/25/20</th><td>31</td><td>-33</td><td> -5</td><td> 14</td><td>-25</td><td>-24</td><td> 8</td></tr>\n",
              "</tbody>\n",
              "</table>\n"
            ]
          },
          "metadata": {
            "tags": []
          }
        }
      ]
    },
    {
      "cell_type": "markdown",
      "metadata": {
        "id": "A8vFupKeCbBH"
      },
      "source": [
        "## Normalize the data for overlay"
      ]
    },
    {
      "cell_type": "code",
      "metadata": {
        "id": "CoG2RcBplS-h",
        "outputId": "021476c6-9871-4b4d-e6dc-a43bc618fa26",
        "colab": {
          "base_uri": "https://localhost:8080/",
          "height": 224
        }
      },
      "source": [
        "tb_GMCovidmycounty_scaled <-  data.frame( scale(tb_GMCovidmycounty2) )\n",
        "head( tb_GMCovidmycounty_scaled  )"
      ],
      "execution_count": 362,
      "outputs": [
        {
          "output_type": "display_data",
          "data": {
            "text/plain": [
              "        DailyCases retail_and_recreation_percent_change_from_baseline\n",
              "4/20/20 -1.1307107 -1.847422                                         \n",
              "4/21/20 -1.3523266 -1.548866                                         \n",
              "4/22/20 -1.0568388 -3.190923                                         \n",
              "4/23/20 -0.8352229 -2.295256                                         \n",
              "4/24/20 -1.0814628 -2.295256                                         \n",
              "4/25/20 -0.6382310 -3.041645                                         \n",
              "        grocery_and_pharmacy_percent_change_from_baseline\n",
              "4/20/20 -0.9513216                                       \n",
              "4/21/20 -0.4277416                                       \n",
              "4/22/20 -2.5220616                                       \n",
              "4/23/20 -0.4277416                                       \n",
              "4/24/20 -0.7767950                                       \n",
              "4/25/20 -1.1258483                                       \n",
              "        parks_percent_change_from_baseline\n",
              "4/20/20 -0.6761262                        \n",
              "4/21/20  1.0113389                        \n",
              "4/22/20 -2.6673351                        \n",
              "4/23/20 -0.4061318                        \n",
              "4/24/20 -1.0473686                        \n",
              "4/25/20 -1.3848616                        \n",
              "        transit_stations_percent_change_from_baseline\n",
              "4/20/20 -1.711233                                    \n",
              "4/21/20 -1.212003                                    \n",
              "4/22/20 -3.375332                                    \n",
              "4/23/20 -1.877643                                    \n",
              "4/24/20 -1.877643                                    \n",
              "4/25/20 -1.711233                                    \n",
              "        workplaces_percent_change_from_baseline\n",
              "4/20/20 -1.0670145                             \n",
              "4/21/20 -1.0670145                             \n",
              "4/22/20 -1.4030464                             \n",
              "4/23/20 -1.1790252                             \n",
              "4/24/20 -1.0670145                             \n",
              "4/25/20  0.6131449                             \n",
              "        residential_percent_change_from_baseline\n",
              "4/20/20 1.78860751                              \n",
              "4/21/20 1.78860751                              \n",
              "4/22/20 2.92830953                              \n",
              "4/23/20 2.07353301                              \n",
              "4/24/20 2.35845852                              \n",
              "4/25/20 0.07905448                              "
            ],
            "text/latex": "A data.frame: 6 × 7\n\\begin{tabular}{r|lllllll}\n  & DailyCases & retail\\_and\\_recreation\\_percent\\_change\\_from\\_baseline & grocery\\_and\\_pharmacy\\_percent\\_change\\_from\\_baseline & parks\\_percent\\_change\\_from\\_baseline & transit\\_stations\\_percent\\_change\\_from\\_baseline & workplaces\\_percent\\_change\\_from\\_baseline & residential\\_percent\\_change\\_from\\_baseline\\\\\n  & <dbl> & <dbl> & <dbl> & <dbl> & <dbl> & <dbl> & <dbl>\\\\\n\\hline\n\t4/20/20 & -1.1307107 & -1.847422 & -0.9513216 & -0.6761262 & -1.711233 & -1.0670145 & 1.78860751\\\\\n\t4/21/20 & -1.3523266 & -1.548866 & -0.4277416 &  1.0113389 & -1.212003 & -1.0670145 & 1.78860751\\\\\n\t4/22/20 & -1.0568388 & -3.190923 & -2.5220616 & -2.6673351 & -3.375332 & -1.4030464 & 2.92830953\\\\\n\t4/23/20 & -0.8352229 & -2.295256 & -0.4277416 & -0.4061318 & -1.877643 & -1.1790252 & 2.07353301\\\\\n\t4/24/20 & -1.0814628 & -2.295256 & -0.7767950 & -1.0473686 & -1.877643 & -1.0670145 & 2.35845852\\\\\n\t4/25/20 & -0.6382310 & -3.041645 & -1.1258483 & -1.3848616 & -1.711233 &  0.6131449 & 0.07905448\\\\\n\\end{tabular}\n",
            "text/markdown": "\nA data.frame: 6 × 7\n\n| <!--/--> | DailyCases &lt;dbl&gt; | retail_and_recreation_percent_change_from_baseline &lt;dbl&gt; | grocery_and_pharmacy_percent_change_from_baseline &lt;dbl&gt; | parks_percent_change_from_baseline &lt;dbl&gt; | transit_stations_percent_change_from_baseline &lt;dbl&gt; | workplaces_percent_change_from_baseline &lt;dbl&gt; | residential_percent_change_from_baseline &lt;dbl&gt; |\n|---|---|---|---|---|---|---|---|\n| 4/20/20 | -1.1307107 | -1.847422 | -0.9513216 | -0.6761262 | -1.711233 | -1.0670145 | 1.78860751 |\n| 4/21/20 | -1.3523266 | -1.548866 | -0.4277416 |  1.0113389 | -1.212003 | -1.0670145 | 1.78860751 |\n| 4/22/20 | -1.0568388 | -3.190923 | -2.5220616 | -2.6673351 | -3.375332 | -1.4030464 | 2.92830953 |\n| 4/23/20 | -0.8352229 | -2.295256 | -0.4277416 | -0.4061318 | -1.877643 | -1.1790252 | 2.07353301 |\n| 4/24/20 | -1.0814628 | -2.295256 | -0.7767950 | -1.0473686 | -1.877643 | -1.0670145 | 2.35845852 |\n| 4/25/20 | -0.6382310 | -3.041645 | -1.1258483 | -1.3848616 | -1.711233 |  0.6131449 | 0.07905448 |\n\n",
            "text/html": [
              "<table>\n",
              "<caption>A data.frame: 6 × 7</caption>\n",
              "<thead>\n",
              "\t<tr><th></th><th scope=col>DailyCases</th><th scope=col>retail_and_recreation_percent_change_from_baseline</th><th scope=col>grocery_and_pharmacy_percent_change_from_baseline</th><th scope=col>parks_percent_change_from_baseline</th><th scope=col>transit_stations_percent_change_from_baseline</th><th scope=col>workplaces_percent_change_from_baseline</th><th scope=col>residential_percent_change_from_baseline</th></tr>\n",
              "\t<tr><th></th><th scope=col>&lt;dbl&gt;</th><th scope=col>&lt;dbl&gt;</th><th scope=col>&lt;dbl&gt;</th><th scope=col>&lt;dbl&gt;</th><th scope=col>&lt;dbl&gt;</th><th scope=col>&lt;dbl&gt;</th><th scope=col>&lt;dbl&gt;</th></tr>\n",
              "</thead>\n",
              "<tbody>\n",
              "\t<tr><th scope=row>4/20/20</th><td>-1.1307107</td><td>-1.847422</td><td>-0.9513216</td><td>-0.6761262</td><td>-1.711233</td><td>-1.0670145</td><td>1.78860751</td></tr>\n",
              "\t<tr><th scope=row>4/21/20</th><td>-1.3523266</td><td>-1.548866</td><td>-0.4277416</td><td> 1.0113389</td><td>-1.212003</td><td>-1.0670145</td><td>1.78860751</td></tr>\n",
              "\t<tr><th scope=row>4/22/20</th><td>-1.0568388</td><td>-3.190923</td><td>-2.5220616</td><td>-2.6673351</td><td>-3.375332</td><td>-1.4030464</td><td>2.92830953</td></tr>\n",
              "\t<tr><th scope=row>4/23/20</th><td>-0.8352229</td><td>-2.295256</td><td>-0.4277416</td><td>-0.4061318</td><td>-1.877643</td><td>-1.1790252</td><td>2.07353301</td></tr>\n",
              "\t<tr><th scope=row>4/24/20</th><td>-1.0814628</td><td>-2.295256</td><td>-0.7767950</td><td>-1.0473686</td><td>-1.877643</td><td>-1.0670145</td><td>2.35845852</td></tr>\n",
              "\t<tr><th scope=row>4/25/20</th><td>-0.6382310</td><td>-3.041645</td><td>-1.1258483</td><td>-1.3848616</td><td>-1.711233</td><td> 0.6131449</td><td>0.07905448</td></tr>\n",
              "</tbody>\n",
              "</table>\n"
            ]
          },
          "metadata": {
            "tags": []
          }
        }
      ]
    },
    {
      "cell_type": "code",
      "metadata": {
        "id": "nHb8HsLOWxcJ",
        "outputId": "21d2b12e-4853-4861-b1fd-28d82b84a938",
        "colab": {
          "base_uri": "https://localhost:8080/",
          "height": 326
        }
      },
      "source": [
        "# add the date column back\n",
        "tb_GMCovidmycounty_scaled$date = mdy(row.names(tb_GMCovidmycounty_scaled))\n",
        "tail( tb_GMCovidmycounty_scaled  )"
      ],
      "execution_count": 363,
      "outputs": [
        {
          "output_type": "display_data",
          "data": {
            "text/plain": [
              "        DailyCases retail_and_recreation_percent_change_from_baseline\n",
              "10/4/20 -0.1703752  0.39174668                                       \n",
              "10/5/20  0.7899603  0.24246876                                       \n",
              "10/6/20  0.6914643  0.24246876                                       \n",
              "10/7/20  0.3221045 -0.05608708                                       \n",
              "10/8/20  1.4548080 -0.05608708                                       \n",
              "10/9/20  0.9130802 -0.20536500                                       \n",
              "        grocery_and_pharmacy_percent_change_from_baseline\n",
              "10/4/20 -0.07868832                                      \n",
              "10/5/20 -0.95132162                                      \n",
              "10/6/20 -1.47490159                                      \n",
              "10/7/20 -1.30037494                                      \n",
              "10/8/20 -1.30037494                                      \n",
              "10/9/20 -1.12584828                                      \n",
              "        parks_percent_change_from_baseline\n",
              "10/4/20 -0.136137390                      \n",
              "10/5/20 -0.912371351                      \n",
              "10/6/20 -0.001140179                      \n",
              "10/7/20  0.707595177                      \n",
              "10/8/20  0.370102150                      \n",
              "10/9/20 -0.473630416                      \n",
              "        transit_stations_percent_change_from_baseline\n",
              "10/4/20 0.1192765                                    \n",
              "10/5/20 0.7849162                                    \n",
              "10/6/20 0.9513261                                    \n",
              "10/7/20 0.1192765                                    \n",
              "10/8/20 0.6185062                                    \n",
              "10/9/20 1.1177360                                    \n",
              "        workplaces_percent_change_from_baseline\n",
              "10/4/20 1.2852086                              \n",
              "10/5/20 0.2771130                              \n",
              "10/6/20 0.2771130                              \n",
              "10/7/20 0.2771130                              \n",
              "10/8/20 0.2771130                              \n",
              "10/9/20 0.1651024                              \n",
              "        residential_percent_change_from_baseline date      \n",
              "10/4/20 -1.63049855                              2020-10-04\n",
              "10/5/20 -0.49079653                              2020-10-05\n",
              "10/6/20 -0.49079653                              2020-10-06\n",
              "10/7/20 -0.49079653                              2020-10-07\n",
              "10/8/20 -0.49079653                              2020-10-08\n",
              "10/9/20  0.07905448                              2020-10-09"
            ],
            "text/latex": "A data.frame: 6 × 8\n\\begin{tabular}{r|llllllll}\n  & DailyCases & retail\\_and\\_recreation\\_percent\\_change\\_from\\_baseline & grocery\\_and\\_pharmacy\\_percent\\_change\\_from\\_baseline & parks\\_percent\\_change\\_from\\_baseline & transit\\_stations\\_percent\\_change\\_from\\_baseline & workplaces\\_percent\\_change\\_from\\_baseline & residential\\_percent\\_change\\_from\\_baseline & date\\\\\n  & <dbl> & <dbl> & <dbl> & <dbl> & <dbl> & <dbl> & <dbl> & <date>\\\\\n\\hline\n\t10/4/20 & -0.1703752 &  0.39174668 & -0.07868832 & -0.136137390 & 0.1192765 & 1.2852086 & -1.63049855 & 2020-10-04\\\\\n\t10/5/20 &  0.7899603 &  0.24246876 & -0.95132162 & -0.912371351 & 0.7849162 & 0.2771130 & -0.49079653 & 2020-10-05\\\\\n\t10/6/20 &  0.6914643 &  0.24246876 & -1.47490159 & -0.001140179 & 0.9513261 & 0.2771130 & -0.49079653 & 2020-10-06\\\\\n\t10/7/20 &  0.3221045 & -0.05608708 & -1.30037494 &  0.707595177 & 0.1192765 & 0.2771130 & -0.49079653 & 2020-10-07\\\\\n\t10/8/20 &  1.4548080 & -0.05608708 & -1.30037494 &  0.370102150 & 0.6185062 & 0.2771130 & -0.49079653 & 2020-10-08\\\\\n\t10/9/20 &  0.9130802 & -0.20536500 & -1.12584828 & -0.473630416 & 1.1177360 & 0.1651024 &  0.07905448 & 2020-10-09\\\\\n\\end{tabular}\n",
            "text/markdown": "\nA data.frame: 6 × 8\n\n| <!--/--> | DailyCases &lt;dbl&gt; | retail_and_recreation_percent_change_from_baseline &lt;dbl&gt; | grocery_and_pharmacy_percent_change_from_baseline &lt;dbl&gt; | parks_percent_change_from_baseline &lt;dbl&gt; | transit_stations_percent_change_from_baseline &lt;dbl&gt; | workplaces_percent_change_from_baseline &lt;dbl&gt; | residential_percent_change_from_baseline &lt;dbl&gt; | date &lt;date&gt; |\n|---|---|---|---|---|---|---|---|---|\n| 10/4/20 | -0.1703752 |  0.39174668 | -0.07868832 | -0.136137390 | 0.1192765 | 1.2852086 | -1.63049855 | 2020-10-04 |\n| 10/5/20 |  0.7899603 |  0.24246876 | -0.95132162 | -0.912371351 | 0.7849162 | 0.2771130 | -0.49079653 | 2020-10-05 |\n| 10/6/20 |  0.6914643 |  0.24246876 | -1.47490159 | -0.001140179 | 0.9513261 | 0.2771130 | -0.49079653 | 2020-10-06 |\n| 10/7/20 |  0.3221045 | -0.05608708 | -1.30037494 |  0.707595177 | 0.1192765 | 0.2771130 | -0.49079653 | 2020-10-07 |\n| 10/8/20 |  1.4548080 | -0.05608708 | -1.30037494 |  0.370102150 | 0.6185062 | 0.2771130 | -0.49079653 | 2020-10-08 |\n| 10/9/20 |  0.9130802 | -0.20536500 | -1.12584828 | -0.473630416 | 1.1177360 | 0.1651024 |  0.07905448 | 2020-10-09 |\n\n",
            "text/html": [
              "<table>\n",
              "<caption>A data.frame: 6 × 8</caption>\n",
              "<thead>\n",
              "\t<tr><th></th><th scope=col>DailyCases</th><th scope=col>retail_and_recreation_percent_change_from_baseline</th><th scope=col>grocery_and_pharmacy_percent_change_from_baseline</th><th scope=col>parks_percent_change_from_baseline</th><th scope=col>transit_stations_percent_change_from_baseline</th><th scope=col>workplaces_percent_change_from_baseline</th><th scope=col>residential_percent_change_from_baseline</th><th scope=col>date</th></tr>\n",
              "\t<tr><th></th><th scope=col>&lt;dbl&gt;</th><th scope=col>&lt;dbl&gt;</th><th scope=col>&lt;dbl&gt;</th><th scope=col>&lt;dbl&gt;</th><th scope=col>&lt;dbl&gt;</th><th scope=col>&lt;dbl&gt;</th><th scope=col>&lt;dbl&gt;</th><th scope=col>&lt;date&gt;</th></tr>\n",
              "</thead>\n",
              "<tbody>\n",
              "\t<tr><th scope=row>10/4/20</th><td>-0.1703752</td><td> 0.39174668</td><td>-0.07868832</td><td>-0.136137390</td><td>0.1192765</td><td>1.2852086</td><td>-1.63049855</td><td>2020-10-04</td></tr>\n",
              "\t<tr><th scope=row>10/5/20</th><td> 0.7899603</td><td> 0.24246876</td><td>-0.95132162</td><td>-0.912371351</td><td>0.7849162</td><td>0.2771130</td><td>-0.49079653</td><td>2020-10-05</td></tr>\n",
              "\t<tr><th scope=row>10/6/20</th><td> 0.6914643</td><td> 0.24246876</td><td>-1.47490159</td><td>-0.001140179</td><td>0.9513261</td><td>0.2771130</td><td>-0.49079653</td><td>2020-10-06</td></tr>\n",
              "\t<tr><th scope=row>10/7/20</th><td> 0.3221045</td><td>-0.05608708</td><td>-1.30037494</td><td> 0.707595177</td><td>0.1192765</td><td>0.2771130</td><td>-0.49079653</td><td>2020-10-07</td></tr>\n",
              "\t<tr><th scope=row>10/8/20</th><td> 1.4548080</td><td>-0.05608708</td><td>-1.30037494</td><td> 0.370102150</td><td>0.6185062</td><td>0.2771130</td><td>-0.49079653</td><td>2020-10-08</td></tr>\n",
              "\t<tr><th scope=row>10/9/20</th><td> 0.9130802</td><td>-0.20536500</td><td>-1.12584828</td><td>-0.473630416</td><td>1.1177360</td><td>0.1651024</td><td> 0.07905448</td><td>2020-10-09</td></tr>\n",
              "</tbody>\n",
              "</table>\n"
            ]
          },
          "metadata": {
            "tags": []
          }
        }
      ]
    },
    {
      "cell_type": "markdown",
      "metadata": {
        "id": "dNDhOiBAxuGb"
      },
      "source": [
        "## Overlay mobility,and daily cases"
      ]
    },
    {
      "cell_type": "code",
      "metadata": {
        "id": "MLiXNWaPWxmd",
        "outputId": "2d7f293f-760d-4924-ac7d-4dd814334f45",
        "colab": {
          "base_uri": "https://localhost:8080/",
          "height": 68
        }
      },
      "source": [
        "names(tb_GMCovidmycounty_scaled )"
      ],
      "execution_count": 364,
      "outputs": [
        {
          "output_type": "display_data",
          "data": {
            "text/plain": [
              "[1] \"DailyCases\"                                        \n",
              "[2] \"retail_and_recreation_percent_change_from_baseline\"\n",
              "[3] \"grocery_and_pharmacy_percent_change_from_baseline\" \n",
              "[4] \"parks_percent_change_from_baseline\"                \n",
              "[5] \"transit_stations_percent_change_from_baseline\"     \n",
              "[6] \"workplaces_percent_change_from_baseline\"           \n",
              "[7] \"residential_percent_change_from_baseline\"          \n",
              "[8] \"date\"                                              "
            ],
            "text/latex": "\\begin{enumerate*}\n\\item 'DailyCases'\n\\item 'retail\\_and\\_recreation\\_percent\\_change\\_from\\_baseline'\n\\item 'grocery\\_and\\_pharmacy\\_percent\\_change\\_from\\_baseline'\n\\item 'parks\\_percent\\_change\\_from\\_baseline'\n\\item 'transit\\_stations\\_percent\\_change\\_from\\_baseline'\n\\item 'workplaces\\_percent\\_change\\_from\\_baseline'\n\\item 'residential\\_percent\\_change\\_from\\_baseline'\n\\item 'date'\n\\end{enumerate*}\n",
            "text/markdown": "1. 'DailyCases'\n2. 'retail_and_recreation_percent_change_from_baseline'\n3. 'grocery_and_pharmacy_percent_change_from_baseline'\n4. 'parks_percent_change_from_baseline'\n5. 'transit_stations_percent_change_from_baseline'\n6. 'workplaces_percent_change_from_baseline'\n7. 'residential_percent_change_from_baseline'\n8. 'date'\n\n\n",
            "text/html": [
              "<style>\n",
              ".list-inline {list-style: none; margin:0; padding: 0}\n",
              ".list-inline>li {display: inline-block}\n",
              ".list-inline>li:not(:last-child)::after {content: \"\\00b7\"; padding: 0 .5ex}\n",
              "</style>\n",
              "<ol class=list-inline><li>'DailyCases'</li><li>'retail_and_recreation_percent_change_from_baseline'</li><li>'grocery_and_pharmacy_percent_change_from_baseline'</li><li>'parks_percent_change_from_baseline'</li><li>'transit_stations_percent_change_from_baseline'</li><li>'workplaces_percent_change_from_baseline'</li><li>'residential_percent_change_from_baseline'</li><li>'date'</li></ol>\n"
            ]
          },
          "metadata": {
            "tags": []
          }
        }
      ]
    },
    {
      "cell_type": "code",
      "metadata": {
        "id": "PEgOr6Qko4PX",
        "outputId": "c5b321a5-7f12-4b7f-fe0b-bebb81fc5813",
        "colab": {
          "base_uri": "https://localhost:8080/",
          "height": 471
        }
      },
      "source": [
        "selected_columns = c('DailyCases','workplaces_percent_change_from_baseline','residential_percent_change_from_baseline')\n",
        "\n",
        "df_melt <- melt(tb_GMCovidmycounty_scaled, measure.vars=selected_columns, value.names=\"Values\", varialbe.name=\"varialbe\" )\n",
        "ggplot(df_melt, aes(x=date, y=value, color=variable)) + stat_smooth(span=0.3)\n"
      ],
      "execution_count": 365,
      "outputs": [
        {
          "output_type": "stream",
          "text": [
            "`geom_smooth()` using method = 'loess' and formula 'y ~ x'\n",
            "\n"
          ],
          "name": "stderr"
        },
        {
          "output_type": "display_data",
          "data": {
            "image/png": "[encoded data removed]",
            "text/plain": [
              "plot without title"
            ]
          },
          "metadata": {
            "tags": [],
            "image/png": {
              "width": 420,
              "height": 420
            }
          }
        }
      ]
    },
    {
      "cell_type": "code",
      "metadata": {
        "id": "fW8uT93lvvsk"
      },
      "source": [
        ""
      ],
      "execution_count": 366,
      "outputs": []
    },
    {
      "cell_type": "code",
      "metadata": {
        "id": "Qm2ZIwF5yPLt",
        "outputId": "794c406d-53a6-4cd6-fea5-0999b88c6d90",
        "colab": {
          "base_uri": "https://localhost:8080/",
          "height": 833
        }
      },
      "source": [
        "summary(tb_GMCovidmycounty2)"
      ],
      "execution_count": 367,
      "outputs": [
        {
          "output_type": "display_data",
          "data": {
            "text/plain": [
              "   DailyCases     retail_and_recreation_percent_change_from_baseline\n",
              " Min.   :  0.00   Min.   :-38.00                                    \n",
              " 1st Qu.: 20.00   1st Qu.:-16.00                                    \n",
              " Median : 55.00   Median :-12.00                                    \n",
              " Mean   : 56.92   Mean   :-12.62                                    \n",
              " 3rd Qu.: 81.00   3rd Qu.: -8.00                                    \n",
              " Max.   :215.00   Max.   :  3.00                                    \n",
              "                                                                    \n",
              " grocery_and_pharmacy_percent_change_from_baseline\n",
              " Min.   :-13.000                                  \n",
              " 1st Qu.: -2.000                                  \n",
              " Median :  2.000                                  \n",
              " Mean   :  1.451                                  \n",
              " 3rd Qu.:  6.000                                  \n",
              " Max.   : 18.000                                  \n",
              "                                                  \n",
              " parks_percent_change_from_baseline\n",
              " Min.   :-34.00                    \n",
              " 1st Qu.: 38.00                    \n",
              " Median : 54.00                    \n",
              " Mean   : 55.03                    \n",
              " 3rd Qu.: 76.00                    \n",
              " Max.   :126.00                    \n",
              " NA's   :25                        \n",
              " transit_stations_percent_change_from_baseline\n",
              " Min.   :-35.00                               \n",
              " 1st Qu.:-18.00                               \n",
              " Median :-13.00                               \n",
              " Mean   :-14.72                               \n",
              " 3rd Qu.:-11.00                               \n",
              " Max.   : -5.00                               \n",
              "                                              \n",
              " workplaces_percent_change_from_baseline\n",
              " Min.   :-70.00                         \n",
              " 1st Qu.:-34.00                         \n",
              " Median :-32.00                         \n",
              " Mean   :-29.47                         \n",
              " 3rd Qu.:-24.00                         \n",
              " Max.   : -9.00                         \n",
              "                                        \n",
              " residential_percent_change_from_baseline\n",
              " Min.   : 1.000                          \n",
              " 1st Qu.: 5.000                          \n",
              " Median : 8.000                          \n",
              " Mean   : 7.723                          \n",
              " 3rd Qu.:10.000                          \n",
              " Max.   :18.000                          \n",
              "                                         "
            ]
          },
          "metadata": {
            "tags": []
          }
        }
      ]
    },
    {
      "cell_type": "code",
      "metadata": {
        "id": "J2gKWEGsyPTS"
      },
      "source": [
        ""
      ],
      "execution_count": 368,
      "outputs": []
    },
    {
      "cell_type": "markdown",
      "metadata": {
        "id": "Yrex8LMDxfRV"
      },
      "source": [
        "# Part 4. Does the local weather correlared with Covid19 ?  "
      ]
    },
    {
      "cell_type": "markdown",
      "metadata": {
        "id": "6HQYBsdZ9rhM"
      },
      "source": [
        "### Get weather data from Local airport"
      ]
    },
    {
      "cell_type": "markdown",
      "metadata": {
        "id": "347_uFOwr5H8"
      },
      "source": [
        "See https://rdrr.io/cran/worldmet/man/importNOAA.html "
      ]
    },
    {
      "cell_type": "code",
      "metadata": {
        "id": "GwNRHmVXUIyR"
      },
      "source": [
        "install.packages(\"worldmet\", lib='/content')"
      ],
      "execution_count": 372,
      "outputs": []
    },
    {
      "cell_type": "code",
      "metadata": {
        "id": "H5JJdehoUI7Y"
      },
      "source": [
        "library(worldmet, lib.loc=\"/content\")"
      ],
      "execution_count": 370,
      "outputs": []
    },
    {
      "cell_type": "code",
      "metadata": {
        "id": "S7QMJTwSUPZc",
        "outputId": "44dca0c2-441e-4b91-92f0-c18651b8aac5",
        "colab": {
          "base_uri": "https://localhost:8080/",
          "height": 154
        }
      },
      "source": [
        "getMeta(site = \"Arkansas\")"
      ],
      "execution_count": 377,
      "outputs": [
        {
          "output_type": "display_data",
          "data": {
            "text/plain": [
              "  usaf   wban  station                        ctry st call latitude longitude\n",
              "1 723408 13814 ARKANSAS INTERNATIONAL AIRPORT US   AR KBYH 35.967   -89.95   \n",
              "2 723436 53922 NW ARKANSAS REGIONAL ARPT      US   AR KXNA 36.283   -94.30   \n",
              "  elev(m) begin      end        code         dist\n",
              "1  77.4   1942-09-01 2020-10-13 723408-13814 NA  \n",
              "2 392.3   2006-01-01 2020-10-14 723436-53922 NA  "
            ],
            "text/latex": "A tibble: 2 × 13\n\\begin{tabular}{lllllllllllll}\n usaf & wban & station & ctry & st & call & latitude & longitude & elev(m) & begin & end & code & dist\\\\\n <chr> & <chr> & <chr> & <chr> & <chr> & <chr> & <dbl> & <dbl> & <dbl> & <date> & <date> & <chr> & <lgl>\\\\\n\\hline\n\t 723408 & 13814 & ARKANSAS INTERNATIONAL AIRPORT & US & AR & KBYH & 35.967 & -89.95 &  77.4 & 1942-09-01 & 2020-10-13 & 723408-13814 & NA\\\\\n\t 723436 & 53922 & NW ARKANSAS REGIONAL ARPT      & US & AR & KXNA & 36.283 & -94.30 & 392.3 & 2006-01-01 & 2020-10-14 & 723436-53922 & NA\\\\\n\\end{tabular}\n",
            "text/markdown": "\nA tibble: 2 × 13\n\n| usaf &lt;chr&gt; | wban &lt;chr&gt; | station &lt;chr&gt; | ctry &lt;chr&gt; | st &lt;chr&gt; | call &lt;chr&gt; | latitude &lt;dbl&gt; | longitude &lt;dbl&gt; | elev(m) &lt;dbl&gt; | begin &lt;date&gt; | end &lt;date&gt; | code &lt;chr&gt; | dist &lt;lgl&gt; |\n|---|---|---|---|---|---|---|---|---|---|---|---|---|\n| 723408 | 13814 | ARKANSAS INTERNATIONAL AIRPORT | US | AR | KBYH | 35.967 | -89.95 |  77.4 | 1942-09-01 | 2020-10-13 | 723408-13814 | NA |\n| 723436 | 53922 | NW ARKANSAS REGIONAL ARPT      | US | AR | KXNA | 36.283 | -94.30 | 392.3 | 2006-01-01 | 2020-10-14 | 723436-53922 | NA |\n\n",
            "text/html": [
              "<table>\n",
              "<caption>A tibble: 2 × 13</caption>\n",
              "<thead>\n",
              "\t<tr><th scope=col>usaf</th><th scope=col>wban</th><th scope=col>station</th><th scope=col>ctry</th><th scope=col>st</th><th scope=col>call</th><th scope=col>latitude</th><th scope=col>longitude</th><th scope=col>elev(m)</th><th scope=col>begin</th><th scope=col>end</th><th scope=col>code</th><th scope=col>dist</th></tr>\n",
              "\t<tr><th scope=col>&lt;chr&gt;</th><th scope=col>&lt;chr&gt;</th><th scope=col>&lt;chr&gt;</th><th scope=col>&lt;chr&gt;</th><th scope=col>&lt;chr&gt;</th><th scope=col>&lt;chr&gt;</th><th scope=col>&lt;dbl&gt;</th><th scope=col>&lt;dbl&gt;</th><th scope=col>&lt;dbl&gt;</th><th scope=col>&lt;date&gt;</th><th scope=col>&lt;date&gt;</th><th scope=col>&lt;chr&gt;</th><th scope=col>&lt;lgl&gt;</th></tr>\n",
              "</thead>\n",
              "<tbody>\n",
              "\t<tr><td>723408</td><td>13814</td><td>ARKANSAS INTERNATIONAL AIRPORT</td><td>US</td><td>AR</td><td>KBYH</td><td>35.967</td><td>-89.95</td><td> 77.4</td><td>1942-09-01</td><td>2020-10-13</td><td>723408-13814</td><td>NA</td></tr>\n",
              "\t<tr><td>723436</td><td>53922</td><td>NW ARKANSAS REGIONAL ARPT     </td><td>US</td><td>AR</td><td>KXNA</td><td>36.283</td><td>-94.30</td><td>392.3</td><td>2006-01-01</td><td>2020-10-14</td><td>723436-53922</td><td>NA</td></tr>\n",
              "</tbody>\n",
              "</table>\n"
            ]
          },
          "metadata": {
            "tags": []
          }
        }
      ]
    },
    {
      "cell_type": "markdown",
      "metadata": {
        "id": "Ch-szzV8B2T8"
      },
      "source": [
        "Find out the latitude and longitude of Pulaski, AR. \n",
        "Remember that longitude West should be negative. "
      ]
    },
    {
      "cell_type": "code",
      "metadata": {
        "id": "K8j9CR27UPc4",
        "outputId": "01cff324-8c1d-4efd-b592-93c7e49c945a",
        "colab": {
          "base_uri": "https://localhost:8080/",
          "height": 682
        }
      },
      "source": [
        "info <- getMeta(lat = 34.75, lon = -92.22) #Chattanooga TN\n",
        "info"
      ],
      "execution_count": 376,
      "outputs": [
        {
          "output_type": "display_data",
          "data": {
            "text/plain": [
              "   usaf   wban  station                                  ctry st call latitude\n",
              "1  723403 13963 ADAMS FIELD AIRPORT                      US   AR KLIT 34.727  \n",
              "2  723400 03952 NORTH LITTLE ROCK AIRPORT                US   AR KLZK 34.835  \n",
              "3  723405 03930 LITTLE ROCK AFB AIRPORT                  US   AR KLRF 34.917  \n",
              "4  723416 13925 STUTTGART MUNICIPAL ARPT                 US   AR KSGT 34.600  \n",
              "5  722188 53985 SEARCY MUNICIPAL AIRPORT                 US   AR KSRC 35.212  \n",
              "6  723417 93988 GRIDER FIELD AIRPORT                     US   AR KPBF 34.180  \n",
              "7  723415 03962 MEMORIAL FIELD AIRPORT                   US   AR KHOT 34.290  \n",
              "8  720401 00133 CLINTON MUNICIPAL AIRPORT                US   AR KCCA 35.600  \n",
              "9  723429 53920 MUNICIPAL AIRPORT                        US   AR KRUE 35.258  \n",
              "10 720394 00428 DEXTER B FLORENCE MEMORIAL FIELD AIRPORT US   AR KADF 34.100  \n",
              "   longitude elev(m) begin      end        code         longr     latr     \n",
              "1  -92.239    78.6   1990-02-28 2020-10-14 723403-13963 -1.609874 0.6061005\n",
              "2  -92.260   171.6   2006-01-01 2020-10-13 723400-03952 -1.610241 0.6079854\n",
              "3  -92.150    94.8   1956-01-01 2020-10-14 723405-03930 -1.608321 0.6094166\n",
              "4  -91.574    68.3   2006-01-01 2020-10-14 723416-13925 -1.598268 0.6038839\n",
              "5  -91.737    80.5   2006-01-01 2020-10-14 722188-53985 -1.601113 0.6145653\n",
              "6  -91.934    63.1   1973-01-01 2020-10-14 723417-93988 -1.604551 0.5965535\n",
              "7  -93.060   163.1   2006-01-01 2020-10-14 723415-03962 -1.624203 0.5984734\n",
              "8  -92.450   157.3   2007-06-28 2020-10-15 720401-00133 -1.613557 0.6213372\n",
              "9  -93.095   122.8   2006-01-01 2020-10-14 723429-53920 -1.624814 0.6153682\n",
              "10 -93.066    55.8   2013-05-01 2020-10-14 720394-00428 -1.624308 0.5951573\n",
              "   dist     \n",
              "1    3.09110\n",
              "2   10.13281\n",
              "3   19.63789\n",
              "4   61.38339\n",
              "5   67.64213\n",
              "6   68.59024\n",
              "7   92.40514\n",
              "8   96.79982\n",
              "9   97.68360\n",
              "10 106.04182"
            ],
            "text/latex": "A tibble: 10 × 15\n\\begin{tabular}{lllllllllllllll}\n usaf & wban & station & ctry & st & call & latitude & longitude & elev(m) & begin & end & code & longr & latr & dist\\\\\n <chr> & <chr> & <chr> & <chr> & <chr> & <chr> & <dbl> & <dbl> & <dbl> & <date> & <date> & <chr> & <dbl> & <dbl> & <dbl>\\\\\n\\hline\n\t 723403 & 13963 & ADAMS FIELD AIRPORT                      & US & AR & KLIT & 34.727 & -92.239 &  78.6 & 1990-02-28 & 2020-10-14 & 723403-13963 & -1.609874 & 0.6061005 &   3.09110\\\\\n\t 723400 & 03952 & NORTH LITTLE ROCK AIRPORT                & US & AR & KLZK & 34.835 & -92.260 & 171.6 & 2006-01-01 & 2020-10-13 & 723400-03952 & -1.610241 & 0.6079854 &  10.13281\\\\\n\t 723405 & 03930 & LITTLE ROCK AFB AIRPORT                  & US & AR & KLRF & 34.917 & -92.150 &  94.8 & 1956-01-01 & 2020-10-14 & 723405-03930 & -1.608321 & 0.6094166 &  19.63789\\\\\n\t 723416 & 13925 & STUTTGART MUNICIPAL ARPT                 & US & AR & KSGT & 34.600 & -91.574 &  68.3 & 2006-01-01 & 2020-10-14 & 723416-13925 & -1.598268 & 0.6038839 &  61.38339\\\\\n\t 722188 & 53985 & SEARCY MUNICIPAL AIRPORT                 & US & AR & KSRC & 35.212 & -91.737 &  80.5 & 2006-01-01 & 2020-10-14 & 722188-53985 & -1.601113 & 0.6145653 &  67.64213\\\\\n\t 723417 & 93988 & GRIDER FIELD AIRPORT                     & US & AR & KPBF & 34.180 & -91.934 &  63.1 & 1973-01-01 & 2020-10-14 & 723417-93988 & -1.604551 & 0.5965535 &  68.59024\\\\\n\t 723415 & 03962 & MEMORIAL FIELD AIRPORT                   & US & AR & KHOT & 34.290 & -93.060 & 163.1 & 2006-01-01 & 2020-10-14 & 723415-03962 & -1.624203 & 0.5984734 &  92.40514\\\\\n\t 720401 & 00133 & CLINTON MUNICIPAL AIRPORT                & US & AR & KCCA & 35.600 & -92.450 & 157.3 & 2007-06-28 & 2020-10-15 & 720401-00133 & -1.613557 & 0.6213372 &  96.79982\\\\\n\t 723429 & 53920 & MUNICIPAL AIRPORT                        & US & AR & KRUE & 35.258 & -93.095 & 122.8 & 2006-01-01 & 2020-10-14 & 723429-53920 & -1.624814 & 0.6153682 &  97.68360\\\\\n\t 720394 & 00428 & DEXTER B FLORENCE MEMORIAL FIELD AIRPORT & US & AR & KADF & 34.100 & -93.066 &  55.8 & 2013-05-01 & 2020-10-14 & 720394-00428 & -1.624308 & 0.5951573 & 106.04182\\\\\n\\end{tabular}\n",
            "text/markdown": "\nA tibble: 10 × 15\n\n| usaf &lt;chr&gt; | wban &lt;chr&gt; | station &lt;chr&gt; | ctry &lt;chr&gt; | st &lt;chr&gt; | call &lt;chr&gt; | latitude &lt;dbl&gt; | longitude &lt;dbl&gt; | elev(m) &lt;dbl&gt; | begin &lt;date&gt; | end &lt;date&gt; | code &lt;chr&gt; | longr &lt;dbl&gt; | latr &lt;dbl&gt; | dist &lt;dbl&gt; |\n|---|---|---|---|---|---|---|---|---|---|---|---|---|---|---|\n| 723403 | 13963 | ADAMS FIELD AIRPORT                      | US | AR | KLIT | 34.727 | -92.239 |  78.6 | 1990-02-28 | 2020-10-14 | 723403-13963 | -1.609874 | 0.6061005 |   3.09110 |\n| 723400 | 03952 | NORTH LITTLE ROCK AIRPORT                | US | AR | KLZK | 34.835 | -92.260 | 171.6 | 2006-01-01 | 2020-10-13 | 723400-03952 | -1.610241 | 0.6079854 |  10.13281 |\n| 723405 | 03930 | LITTLE ROCK AFB AIRPORT                  | US | AR | KLRF | 34.917 | -92.150 |  94.8 | 1956-01-01 | 2020-10-14 | 723405-03930 | -1.608321 | 0.6094166 |  19.63789 |\n| 723416 | 13925 | STUTTGART MUNICIPAL ARPT                 | US | AR | KSGT | 34.600 | -91.574 |  68.3 | 2006-01-01 | 2020-10-14 | 723416-13925 | -1.598268 | 0.6038839 |  61.38339 |\n| 722188 | 53985 | SEARCY MUNICIPAL AIRPORT                 | US | AR | KSRC | 35.212 | -91.737 |  80.5 | 2006-01-01 | 2020-10-14 | 722188-53985 | -1.601113 | 0.6145653 |  67.64213 |\n| 723417 | 93988 | GRIDER FIELD AIRPORT                     | US | AR | KPBF | 34.180 | -91.934 |  63.1 | 1973-01-01 | 2020-10-14 | 723417-93988 | -1.604551 | 0.5965535 |  68.59024 |\n| 723415 | 03962 | MEMORIAL FIELD AIRPORT                   | US | AR | KHOT | 34.290 | -93.060 | 163.1 | 2006-01-01 | 2020-10-14 | 723415-03962 | -1.624203 | 0.5984734 |  92.40514 |\n| 720401 | 00133 | CLINTON MUNICIPAL AIRPORT                | US | AR | KCCA | 35.600 | -92.450 | 157.3 | 2007-06-28 | 2020-10-15 | 720401-00133 | -1.613557 | 0.6213372 |  96.79982 |\n| 723429 | 53920 | MUNICIPAL AIRPORT                        | US | AR | KRUE | 35.258 | -93.095 | 122.8 | 2006-01-01 | 2020-10-14 | 723429-53920 | -1.624814 | 0.6153682 |  97.68360 |\n| 720394 | 00428 | DEXTER B FLORENCE MEMORIAL FIELD AIRPORT | US | AR | KADF | 34.100 | -93.066 |  55.8 | 2013-05-01 | 2020-10-14 | 720394-00428 | -1.624308 | 0.5951573 | 106.04182 |\n\n",
            "text/html": [
              "<table>\n",
              "<caption>A tibble: 10 × 15</caption>\n",
              "<thead>\n",
              "\t<tr><th scope=col>usaf</th><th scope=col>wban</th><th scope=col>station</th><th scope=col>ctry</th><th scope=col>st</th><th scope=col>call</th><th scope=col>latitude</th><th scope=col>longitude</th><th scope=col>elev(m)</th><th scope=col>begin</th><th scope=col>end</th><th scope=col>code</th><th scope=col>longr</th><th scope=col>latr</th><th scope=col>dist</th></tr>\n",
              "\t<tr><th scope=col>&lt;chr&gt;</th><th scope=col>&lt;chr&gt;</th><th scope=col>&lt;chr&gt;</th><th scope=col>&lt;chr&gt;</th><th scope=col>&lt;chr&gt;</th><th scope=col>&lt;chr&gt;</th><th scope=col>&lt;dbl&gt;</th><th scope=col>&lt;dbl&gt;</th><th scope=col>&lt;dbl&gt;</th><th scope=col>&lt;date&gt;</th><th scope=col>&lt;date&gt;</th><th scope=col>&lt;chr&gt;</th><th scope=col>&lt;dbl&gt;</th><th scope=col>&lt;dbl&gt;</th><th scope=col>&lt;dbl&gt;</th></tr>\n",
              "</thead>\n",
              "<tbody>\n",
              "\t<tr><td>723403</td><td>13963</td><td>ADAMS FIELD AIRPORT                     </td><td>US</td><td>AR</td><td>KLIT</td><td>34.727</td><td>-92.239</td><td> 78.6</td><td>1990-02-28</td><td>2020-10-14</td><td>723403-13963</td><td>-1.609874</td><td>0.6061005</td><td>  3.09110</td></tr>\n",
              "\t<tr><td>723400</td><td>03952</td><td>NORTH LITTLE ROCK AIRPORT               </td><td>US</td><td>AR</td><td>KLZK</td><td>34.835</td><td>-92.260</td><td>171.6</td><td>2006-01-01</td><td>2020-10-13</td><td>723400-03952</td><td>-1.610241</td><td>0.6079854</td><td> 10.13281</td></tr>\n",
              "\t<tr><td>723405</td><td>03930</td><td>LITTLE ROCK AFB AIRPORT                 </td><td>US</td><td>AR</td><td>KLRF</td><td>34.917</td><td>-92.150</td><td> 94.8</td><td>1956-01-01</td><td>2020-10-14</td><td>723405-03930</td><td>-1.608321</td><td>0.6094166</td><td> 19.63789</td></tr>\n",
              "\t<tr><td>723416</td><td>13925</td><td>STUTTGART MUNICIPAL ARPT                </td><td>US</td><td>AR</td><td>KSGT</td><td>34.600</td><td>-91.574</td><td> 68.3</td><td>2006-01-01</td><td>2020-10-14</td><td>723416-13925</td><td>-1.598268</td><td>0.6038839</td><td> 61.38339</td></tr>\n",
              "\t<tr><td>722188</td><td>53985</td><td>SEARCY MUNICIPAL AIRPORT                </td><td>US</td><td>AR</td><td>KSRC</td><td>35.212</td><td>-91.737</td><td> 80.5</td><td>2006-01-01</td><td>2020-10-14</td><td>722188-53985</td><td>-1.601113</td><td>0.6145653</td><td> 67.64213</td></tr>\n",
              "\t<tr><td>723417</td><td>93988</td><td>GRIDER FIELD AIRPORT                    </td><td>US</td><td>AR</td><td>KPBF</td><td>34.180</td><td>-91.934</td><td> 63.1</td><td>1973-01-01</td><td>2020-10-14</td><td>723417-93988</td><td>-1.604551</td><td>0.5965535</td><td> 68.59024</td></tr>\n",
              "\t<tr><td>723415</td><td>03962</td><td>MEMORIAL FIELD AIRPORT                  </td><td>US</td><td>AR</td><td>KHOT</td><td>34.290</td><td>-93.060</td><td>163.1</td><td>2006-01-01</td><td>2020-10-14</td><td>723415-03962</td><td>-1.624203</td><td>0.5984734</td><td> 92.40514</td></tr>\n",
              "\t<tr><td>720401</td><td>00133</td><td>CLINTON MUNICIPAL AIRPORT               </td><td>US</td><td>AR</td><td>KCCA</td><td>35.600</td><td>-92.450</td><td>157.3</td><td>2007-06-28</td><td>2020-10-15</td><td>720401-00133</td><td>-1.613557</td><td>0.6213372</td><td> 96.79982</td></tr>\n",
              "\t<tr><td>723429</td><td>53920</td><td>MUNICIPAL AIRPORT                       </td><td>US</td><td>AR</td><td>KRUE</td><td>35.258</td><td>-93.095</td><td>122.8</td><td>2006-01-01</td><td>2020-10-14</td><td>723429-53920</td><td>-1.624814</td><td>0.6153682</td><td> 97.68360</td></tr>\n",
              "\t<tr><td>720394</td><td>00428</td><td>DEXTER B FLORENCE MEMORIAL FIELD AIRPORT</td><td>US</td><td>AR</td><td>KADF</td><td>34.100</td><td>-93.066</td><td> 55.8</td><td>2013-05-01</td><td>2020-10-14</td><td>720394-00428</td><td>-1.624308</td><td>0.5951573</td><td>106.04182</td></tr>\n",
              "</tbody>\n",
              "</table>\n"
            ]
          },
          "metadata": {
            "tags": []
          }
        }
      ]
    },
    {
      "cell_type": "markdown",
      "metadata": {
        "id": "EjXY-AfCCJyE"
      },
      "source": [
        "Pick the first row"
      ]
    },
    {
      "cell_type": "code",
      "metadata": {
        "id": "9BMwbNeVCYGy",
        "outputId": "86c2921b-86a9-469a-d8a4-490b4bbc3bc7",
        "colab": {
          "base_uri": "https://localhost:8080/",
          "height": 34
        }
      },
      "source": [
        "local_code = paste( info$usaf[1], info$wban[1], sep='-')\n",
        "local_code"
      ],
      "execution_count": 374,
      "outputs": [
        {
          "output_type": "display_data",
          "data": {
            "text/plain": [
              "[1] \"723403-13963\""
            ],
            "text/latex": "'723403-13963'",
            "text/markdown": "'723403-13963'",
            "text/html": [
              "'723403-13963'"
            ]
          },
          "metadata": {
            "tags": []
          }
        }
      ]
    },
    {
      "cell_type": "markdown",
      "metadata": {
        "id": "ISfkGjRNk_Iz"
      },
      "source": [
        "'723403-13963' is the code for LITTLE ROCK AIRPORT ADAMS FIELD, AR US"
      ]
    },
    {
      "cell_type": "code",
      "metadata": {
        "id": "zKGmOJstUPjF",
        "outputId": "848e5719-ec83-4e78-e2aa-0b928ede11f5",
        "colab": {
          "base_uri": "https://localhost:8080/",
          "height": 408
        }
      },
      "source": [
        "weatherLocal <- importNOAA(code = local_code, year = 2020)\n",
        "head(weatherLocal)"
      ],
      "execution_count": 375,
      "outputs": [
        {
          "output_type": "display_data",
          "data": {
            "text/plain": [
              "  code         station                                date               \n",
              "1 723403-13963 LITTLE ROCK AIRPORT ADAMS FIELD, AR US 2020-01-01 00:00:00\n",
              "2 723403-13963 LITTLE ROCK AIRPORT ADAMS FIELD, AR US 2020-01-01 01:00:00\n",
              "3 723403-13963 LITTLE ROCK AIRPORT ADAMS FIELD, AR US 2020-01-01 02:00:00\n",
              "4 723403-13963 LITTLE ROCK AIRPORT ADAMS FIELD, AR US 2020-01-01 03:00:00\n",
              "5 723403-13963 LITTLE ROCK AIRPORT ADAMS FIELD, AR US 2020-01-01 04:00:00\n",
              "6 723403-13963 LITTLE ROCK AIRPORT ADAMS FIELD, AR US 2020-01-01 05:00:00\n",
              "  latitude longitude elev ws  wd  air_temp atmos_pres ⋯ ceil_hgt cl_1 cl_2 cl_3\n",
              "1 34.7273  -92.2389  78.6 2.6 250 7.2      1019.9     ⋯ 22000    0    NA   NA  \n",
              "2 34.7273  -92.2389  78.6 2.6 260 5.0      1020.3     ⋯ 22000    0    NA   NA  \n",
              "3 34.7273  -92.2389  78.6 2.6 240 5.0      1020.2     ⋯ 22000    0    NA   NA  \n",
              "4 34.7273  -92.2389  78.6 2.1 250 2.8      1020.2     ⋯ 22000    2    NA   NA  \n",
              "5 34.7273  -92.2389  78.6 3.1 250 1.7      1020.1     ⋯ 22000    4    NA   NA  \n",
              "6 34.7273  -92.2389  78.6 3.1 240 1.1      1019.5     ⋯ 22000    4    NA   NA  \n",
              "  cl cl_1_height cl_2_height cl_3_height precip pwc\n",
              "1 0    NA        NA          NA          0      NA \n",
              "2 0    NA        NA          NA          0      NA \n",
              "3 0    NA        NA          NA          0      NA \n",
              "4 2  7620        NA          NA          0      NA \n",
              "5 4  7620        NA          NA          0      NA \n",
              "6 4  7620        NA          NA          0      NA "
            ],
            "text/latex": "A tibble: 6 × 23\n\\begin{tabular}{lllllllllllllllllllll}\n code & station & date & latitude & longitude & elev & ws & wd & air\\_temp & atmos\\_pres & ⋯ & ceil\\_hgt & cl\\_1 & cl\\_2 & cl\\_3 & cl & cl\\_1\\_height & cl\\_2\\_height & cl\\_3\\_height & precip & pwc\\\\\n <fct> & <fct> & <dttm> & <dbl> & <dbl> & <dbl> & <dbl> & <dbl> & <dbl> & <dbl> & ⋯ & <dbl> & <dbl> & <dbl> & <dbl> & <dbl> & <dbl> & <dbl> & <dbl> & <dbl> & <chr>\\\\\n\\hline\n\t 723403-13963 & LITTLE ROCK AIRPORT ADAMS FIELD, AR US & 2020-01-01 00:00:00 & 34.7273 & -92.2389 & 78.6 & 2.6 & 250 & 7.2 & 1019.9 & ⋯ & 22000 & 0 & NA & NA & 0 &   NA & NA & NA & 0 & NA\\\\\n\t 723403-13963 & LITTLE ROCK AIRPORT ADAMS FIELD, AR US & 2020-01-01 01:00:00 & 34.7273 & -92.2389 & 78.6 & 2.6 & 260 & 5.0 & 1020.3 & ⋯ & 22000 & 0 & NA & NA & 0 &   NA & NA & NA & 0 & NA\\\\\n\t 723403-13963 & LITTLE ROCK AIRPORT ADAMS FIELD, AR US & 2020-01-01 02:00:00 & 34.7273 & -92.2389 & 78.6 & 2.6 & 240 & 5.0 & 1020.2 & ⋯ & 22000 & 0 & NA & NA & 0 &   NA & NA & NA & 0 & NA\\\\\n\t 723403-13963 & LITTLE ROCK AIRPORT ADAMS FIELD, AR US & 2020-01-01 03:00:00 & 34.7273 & -92.2389 & 78.6 & 2.1 & 250 & 2.8 & 1020.2 & ⋯ & 22000 & 2 & NA & NA & 2 & 7620 & NA & NA & 0 & NA\\\\\n\t 723403-13963 & LITTLE ROCK AIRPORT ADAMS FIELD, AR US & 2020-01-01 04:00:00 & 34.7273 & -92.2389 & 78.6 & 3.1 & 250 & 1.7 & 1020.1 & ⋯ & 22000 & 4 & NA & NA & 4 & 7620 & NA & NA & 0 & NA\\\\\n\t 723403-13963 & LITTLE ROCK AIRPORT ADAMS FIELD, AR US & 2020-01-01 05:00:00 & 34.7273 & -92.2389 & 78.6 & 3.1 & 240 & 1.1 & 1019.5 & ⋯ & 22000 & 4 & NA & NA & 4 & 7620 & NA & NA & 0 & NA\\\\\n\\end{tabular}\n",
            "text/markdown": "\nA tibble: 6 × 23\n\n| code &lt;fct&gt; | station &lt;fct&gt; | date &lt;dttm&gt; | latitude &lt;dbl&gt; | longitude &lt;dbl&gt; | elev &lt;dbl&gt; | ws &lt;dbl&gt; | wd &lt;dbl&gt; | air_temp &lt;dbl&gt; | atmos_pres &lt;dbl&gt; | ⋯ ⋯ | ceil_hgt &lt;dbl&gt; | cl_1 &lt;dbl&gt; | cl_2 &lt;dbl&gt; | cl_3 &lt;dbl&gt; | cl &lt;dbl&gt; | cl_1_height &lt;dbl&gt; | cl_2_height &lt;dbl&gt; | cl_3_height &lt;dbl&gt; | precip &lt;dbl&gt; | pwc &lt;chr&gt; |\n|---|---|---|---|---|---|---|---|---|---|---|---|---|---|---|---|---|---|---|---|---|\n| 723403-13963 | LITTLE ROCK AIRPORT ADAMS FIELD, AR US | 2020-01-01 00:00:00 | 34.7273 | -92.2389 | 78.6 | 2.6 | 250 | 7.2 | 1019.9 | ⋯ | 22000 | 0 | NA | NA | 0 |   NA | NA | NA | 0 | NA |\n| 723403-13963 | LITTLE ROCK AIRPORT ADAMS FIELD, AR US | 2020-01-01 01:00:00 | 34.7273 | -92.2389 | 78.6 | 2.6 | 260 | 5.0 | 1020.3 | ⋯ | 22000 | 0 | NA | NA | 0 |   NA | NA | NA | 0 | NA |\n| 723403-13963 | LITTLE ROCK AIRPORT ADAMS FIELD, AR US | 2020-01-01 02:00:00 | 34.7273 | -92.2389 | 78.6 | 2.6 | 240 | 5.0 | 1020.2 | ⋯ | 22000 | 0 | NA | NA | 0 |   NA | NA | NA | 0 | NA |\n| 723403-13963 | LITTLE ROCK AIRPORT ADAMS FIELD, AR US | 2020-01-01 03:00:00 | 34.7273 | -92.2389 | 78.6 | 2.1 | 250 | 2.8 | 1020.2 | ⋯ | 22000 | 2 | NA | NA | 2 | 7620 | NA | NA | 0 | NA |\n| 723403-13963 | LITTLE ROCK AIRPORT ADAMS FIELD, AR US | 2020-01-01 04:00:00 | 34.7273 | -92.2389 | 78.6 | 3.1 | 250 | 1.7 | 1020.1 | ⋯ | 22000 | 4 | NA | NA | 4 | 7620 | NA | NA | 0 | NA |\n| 723403-13963 | LITTLE ROCK AIRPORT ADAMS FIELD, AR US | 2020-01-01 05:00:00 | 34.7273 | -92.2389 | 78.6 | 3.1 | 240 | 1.1 | 1019.5 | ⋯ | 22000 | 4 | NA | NA | 4 | 7620 | NA | NA | 0 | NA |\n\n",
            "text/html": [
              "<table>\n",
              "<caption>A tibble: 6 × 23</caption>\n",
              "<thead>\n",
              "\t<tr><th scope=col>code</th><th scope=col>station</th><th scope=col>date</th><th scope=col>latitude</th><th scope=col>longitude</th><th scope=col>elev</th><th scope=col>ws</th><th scope=col>wd</th><th scope=col>air_temp</th><th scope=col>atmos_pres</th><th scope=col>⋯</th><th scope=col>ceil_hgt</th><th scope=col>cl_1</th><th scope=col>cl_2</th><th scope=col>cl_3</th><th scope=col>cl</th><th scope=col>cl_1_height</th><th scope=col>cl_2_height</th><th scope=col>cl_3_height</th><th scope=col>precip</th><th scope=col>pwc</th></tr>\n",
              "\t<tr><th scope=col>&lt;fct&gt;</th><th scope=col>&lt;fct&gt;</th><th scope=col>&lt;dttm&gt;</th><th scope=col>&lt;dbl&gt;</th><th scope=col>&lt;dbl&gt;</th><th scope=col>&lt;dbl&gt;</th><th scope=col>&lt;dbl&gt;</th><th scope=col>&lt;dbl&gt;</th><th scope=col>&lt;dbl&gt;</th><th scope=col>&lt;dbl&gt;</th><th scope=col>⋯</th><th scope=col>&lt;dbl&gt;</th><th scope=col>&lt;dbl&gt;</th><th scope=col>&lt;dbl&gt;</th><th scope=col>&lt;dbl&gt;</th><th scope=col>&lt;dbl&gt;</th><th scope=col>&lt;dbl&gt;</th><th scope=col>&lt;dbl&gt;</th><th scope=col>&lt;dbl&gt;</th><th scope=col>&lt;dbl&gt;</th><th scope=col>&lt;chr&gt;</th></tr>\n",
              "</thead>\n",
              "<tbody>\n",
              "\t<tr><td>723403-13963</td><td>LITTLE ROCK AIRPORT ADAMS FIELD, AR US</td><td>2020-01-01 00:00:00</td><td>34.7273</td><td>-92.2389</td><td>78.6</td><td>2.6</td><td>250</td><td>7.2</td><td>1019.9</td><td>⋯</td><td>22000</td><td>0</td><td>NA</td><td>NA</td><td>0</td><td>  NA</td><td>NA</td><td>NA</td><td>0</td><td>NA</td></tr>\n",
              "\t<tr><td>723403-13963</td><td>LITTLE ROCK AIRPORT ADAMS FIELD, AR US</td><td>2020-01-01 01:00:00</td><td>34.7273</td><td>-92.2389</td><td>78.6</td><td>2.6</td><td>260</td><td>5.0</td><td>1020.3</td><td>⋯</td><td>22000</td><td>0</td><td>NA</td><td>NA</td><td>0</td><td>  NA</td><td>NA</td><td>NA</td><td>0</td><td>NA</td></tr>\n",
              "\t<tr><td>723403-13963</td><td>LITTLE ROCK AIRPORT ADAMS FIELD, AR US</td><td>2020-01-01 02:00:00</td><td>34.7273</td><td>-92.2389</td><td>78.6</td><td>2.6</td><td>240</td><td>5.0</td><td>1020.2</td><td>⋯</td><td>22000</td><td>0</td><td>NA</td><td>NA</td><td>0</td><td>  NA</td><td>NA</td><td>NA</td><td>0</td><td>NA</td></tr>\n",
              "\t<tr><td>723403-13963</td><td>LITTLE ROCK AIRPORT ADAMS FIELD, AR US</td><td>2020-01-01 03:00:00</td><td>34.7273</td><td>-92.2389</td><td>78.6</td><td>2.1</td><td>250</td><td>2.8</td><td>1020.2</td><td>⋯</td><td>22000</td><td>2</td><td>NA</td><td>NA</td><td>2</td><td>7620</td><td>NA</td><td>NA</td><td>0</td><td>NA</td></tr>\n",
              "\t<tr><td>723403-13963</td><td>LITTLE ROCK AIRPORT ADAMS FIELD, AR US</td><td>2020-01-01 04:00:00</td><td>34.7273</td><td>-92.2389</td><td>78.6</td><td>3.1</td><td>250</td><td>1.7</td><td>1020.1</td><td>⋯</td><td>22000</td><td>4</td><td>NA</td><td>NA</td><td>4</td><td>7620</td><td>NA</td><td>NA</td><td>0</td><td>NA</td></tr>\n",
              "\t<tr><td>723403-13963</td><td>LITTLE ROCK AIRPORT ADAMS FIELD, AR US</td><td>2020-01-01 05:00:00</td><td>34.7273</td><td>-92.2389</td><td>78.6</td><td>3.1</td><td>240</td><td>1.1</td><td>1019.5</td><td>⋯</td><td>22000</td><td>4</td><td>NA</td><td>NA</td><td>4</td><td>7620</td><td>NA</td><td>NA</td><td>0</td><td>NA</td></tr>\n",
              "</tbody>\n",
              "</table>\n"
            ]
          },
          "metadata": {
            "tags": []
          }
        }
      ]
    },
    {
      "cell_type": "code",
      "metadata": {
        "id": "oXsbpckNUPgw"
      },
      "source": [
        "names(weatherLocal)"
      ],
      "execution_count": null,
      "outputs": []
    },
    {
      "cell_type": "code",
      "metadata": {
        "id": "ck6A3-3Tpp03"
      },
      "source": [
        "library(ggplot2)\n",
        "ggplot(weatherLocal, aes(x=date,y=dew_point)) + geom_line() + stat_smooth(span=0.3)"
      ],
      "execution_count": null,
      "outputs": []
    },
    {
      "cell_type": "code",
      "metadata": {
        "id": "ohbqxnGwTMyp"
      },
      "source": [
        "ggplot(weatherLocal, aes(x=date,y=air_temp)) + geom_line() + stat_smooth(span=0.3)"
      ],
      "execution_count": null,
      "outputs": []
    },
    {
      "cell_type": "code",
      "metadata": {
        "id": "yJeHYR4WTLl-"
      },
      "source": [
        ""
      ],
      "execution_count": null,
      "outputs": []
    },
    {
      "cell_type": "code",
      "metadata": {
        "id": "FDNMKipw6mtA"
      },
      "source": [
        "weatherLocal2 <- weatherLocal %>% dplyr::select( c('date', 'air_temp', 'dew_point', 'RH'))"
      ],
      "execution_count": null,
      "outputs": []
    },
    {
      "cell_type": "markdown",
      "metadata": {
        "id": "__d9Jn9Q9zKR"
      },
      "source": [
        "### Reformate dates"
      ]
    },
    {
      "cell_type": "code",
      "metadata": {
        "id": "sUyr8yz59Ajo"
      },
      "source": [
        "library(lubridate)"
      ],
      "execution_count": null,
      "outputs": []
    },
    {
      "cell_type": "code",
      "metadata": {
        "id": "RQKN44V182jO"
      },
      "source": [
        "clean_dates = gsub( \" UTC \", \"\", weatherLocal2$date)\n",
        "\n",
        "weatherLocal2$YMD = as.Date(clean_dates)\n",
        "head(weatherLocal2$YMD)"
      ],
      "execution_count": null,
      "outputs": []
    },
    {
      "cell_type": "code",
      "metadata": {
        "id": "bMofh7bM9gjJ"
      },
      "source": [
        "weatherLocal3 <- weatherLocal2 %>% group_by( YMD ) %>% summarise_if( is.numeric, mean, na.rm=TRUE)\n",
        "\n",
        "head( weatherLocal3 )"
      ],
      "execution_count": null,
      "outputs": []
    },
    {
      "cell_type": "code",
      "metadata": {
        "id": "fJZQpBOMU0op"
      },
      "source": [
        ""
      ],
      "execution_count": null,
      "outputs": []
    },
    {
      "cell_type": "markdown",
      "metadata": {
        "id": "26gMlXwmAD-E"
      },
      "source": [
        "### Merge local weather data with Covid19 data"
      ]
    },
    {
      "cell_type": "code",
      "metadata": {
        "id": "XScK0_LjEBbS"
      },
      "source": [
        "tail( tb_daily_sub )"
      ],
      "execution_count": null,
      "outputs": []
    },
    {
      "cell_type": "code",
      "metadata": {
        "id": "ODke-yctAAL0"
      },
      "source": [
        "tb_local=   merge(x=tb_daily_sub, y=weatherLocal3, by= 'YMD', all.y=FALSE)\n",
        "tail(tb_local)"
      ],
      "execution_count": null,
      "outputs": []
    },
    {
      "cell_type": "code",
      "metadata": {
        "id": "awTQN1-oAAQg"
      },
      "source": [
        "#startdate= min(tb_local$date)\n",
        "startdate = mdy('4/1/2020')\n",
        "enddate  = today(tzone='CDT')\n",
        "\n",
        "\n",
        "tb_local2 <- tb_local %>% \n",
        "  dplyr::select( c(1,2,4:6)) %>%\n",
        "  dplyr::filter( between(YMD, startdate, enddate))\n",
        "  \n",
        "names(tb_local2) = c(\"date\", \"dailyCases\", \"temp\", \"dew_point\", \"RH\")\n",
        "head( tb_local2 )\n"
      ],
      "execution_count": null,
      "outputs": []
    },
    {
      "cell_type": "markdown",
      "metadata": {
        "id": "ufTnJLVOdaG4"
      },
      "source": [
        "### plot cases and weather"
      ]
    },
    {
      "cell_type": "code",
      "metadata": {
        "id": "xerQ9iRHG_60"
      },
      "source": [
        "tb_local_scaled = data.frame( as.matrix(scale(tb_local2[,2:5])) )\n",
        "tb_local_scaled$date = tb_local2$date\n",
        "head(tb_local_scaled)\n",
        "\n",
        "#df_tmp <- melt(tb_HCTN2_scaled, measure.vars = c(\"dailyCases\", \"temp\", \"dew_point\", \"RH\"), value.name = 'Measurements', variable.name = 'Types')\n",
        "df_tmp <- melt(tb_local_scaled, measure.vars = c(\"dailyCases\", \"temp\"), value.name = 'Measurements', variable.name = 'Types')\n",
        "head(df_tmp)\n",
        "ggplot(df_tmp, aes(x=date, y=Measurements, color=Types)) + stat_smooth(span=0.3)"
      ],
      "execution_count": null,
      "outputs": []
    },
    {
      "cell_type": "code",
      "metadata": {
        "id": "1CVvvkiPe51a"
      },
      "source": [
        ""
      ],
      "execution_count": null,
      "outputs": []
    },
    {
      "cell_type": "code",
      "metadata": {
        "id": "Y61dNY48e560"
      },
      "source": [
        ""
      ],
      "execution_count": null,
      "outputs": []
    },
    {
      "cell_type": "code",
      "metadata": {
        "id": "2_g6Bm2hI9rG"
      },
      "source": [
        "ggplot(tb_HCTN2, aes(x=date,y=dew_point)) + geom_point() + stat_smooth(span=0.4)"
      ],
      "execution_count": null,
      "outputs": []
    },
    {
      "cell_type": "code",
      "metadata": {
        "id": "TduZqAUvJ_pz"
      },
      "source": [
        "ggplot(tb_HCTN2, aes(x=date,y=RH)) + geom_point() + stat_smooth(span=0.2)"
      ],
      "execution_count": null,
      "outputs": []
    },
    {
      "cell_type": "markdown",
      "metadata": {
        "id": "-445NGIGyAfa"
      },
      "source": [
        "### (optional) Cross correlation"
      ]
    },
    {
      "cell_type": "code",
      "metadata": {
        "id": "WYxPBpYwAAI9"
      },
      "source": [
        "ccf( tb_HCTN2$dailyCases, tb_HCTN2$dew_point, lag.max=30, type=\"correlation\", na.action = na.pass)"
      ],
      "execution_count": null,
      "outputs": []
    },
    {
      "cell_type": "code",
      "metadata": {
        "id": "aa5Ay0T5C1BS"
      },
      "source": [
        "ccf( tb_HCTN2$dew_point, tb_HCTN2$dailyCases,  lag.max=30, type=\"correlation\", na.action = na.pass)"
      ],
      "execution_count": null,
      "outputs": []
    },
    {
      "cell_type": "code",
      "metadata": {
        "id": "j4vFlCn8C_nC"
      },
      "source": [
        "ccf( tb_HCTN2$dailyCases, tb_HCTN2$dailyCases,  lag.max=30, type=\"correlation\", na.action = na.pass)"
      ],
      "execution_count": null,
      "outputs": []
    },
    {
      "cell_type": "code",
      "metadata": {
        "id": "tXbMX_miDMfS"
      },
      "source": [
        ""
      ],
      "execution_count": null,
      "outputs": []
    },
    {
      "cell_type": "code",
      "metadata": {
        "id": "SvaS4VoSBnOd"
      },
      "source": [
        "ccf( tb_HCTN2[,2], tb_HCTN2$RH, lag.max=30, type=\"correlation\")"
      ],
      "execution_count": null,
      "outputs": []
    },
    {
      "cell_type": "code",
      "metadata": {
        "id": "Xc-H4X5pBnVA"
      },
      "source": [
        "ccf( tb_HCTN2$RH, tb_HCTN2$dew_point, lag.max=25, type=\"correlation\") #RH and dew_point is highly correlated"
      ],
      "execution_count": null,
      "outputs": []
    },
    {
      "cell_type": "code",
      "metadata": {
        "id": "Dt9QSXNlRcJ4"
      },
      "source": [
        "acf(tb_HCTN$temp,  type=\"correlation\")"
      ],
      "execution_count": null,
      "outputs": []
    },
    {
      "cell_type": "code",
      "metadata": {
        "id": "KG7GFZK9BnSR"
      },
      "source": [
        "obj = ccf( tb_HCTN2[,2], tb_HCTN2$temp, lag.max=25, type=\"correlation\")\n",
        "str(obj)"
      ],
      "execution_count": null,
      "outputs": []
    },
    {
      "cell_type": "code",
      "metadata": {
        "id": "xWgcr65VBnLX"
      },
      "source": [
        "?merge\n"
      ],
      "execution_count": null,
      "outputs": []
    },
    {
      "cell_type": "markdown",
      "metadata": {
        "id": "kwm9N9HfpMVd"
      },
      "source": [
        "# Part 5, Explore the USA state-level data\n",
        "\n",
        "Group by states"
      ]
    },
    {
      "cell_type": "markdown",
      "metadata": {
        "id": "wxMdOl8__jcP"
      },
      "source": [
        "## Convert the county-level time series data to state-level data "
      ]
    },
    {
      "cell_type": "code",
      "metadata": {
        "id": "QKqHvO3wpNUE"
      },
      "source": [
        "tb0 = read_csv(url(\"https://raw.githubusercontent.com/CSSEGISandData/COVID-19/master/csse_covid_19_data/csse_covid_19_time_series/time_series_covid19_confirmed_US.csv\"))\n",
        "#str(tb.jhu) #this is a tibble\n",
        "head(tb0)"
      ],
      "execution_count": null,
      "outputs": []
    },
    {
      "cell_type": "markdown",
      "metadata": {
        "id": "Gre-ycPMt9ZO"
      },
      "source": [
        "merge all row of the same state by 'group_by'\n",
        "follow by 'summarize_if'"
      ]
    },
    {
      "cell_type": "code",
      "metadata": {
        "id": "O_kOuw0UpNXQ"
      },
      "source": [
        "tb1 = tb0[, c(7, 50:length(tb[1,])) ]\n",
        "\n",
        "tb2 <- tb1 %>%\n",
        "  group_by(Province_State) %>%\n",
        "  summarize_if(is.numeric, sum,na.rm=TRUE)\n",
        "\n",
        "head(tb2)"
      ],
      "execution_count": null,
      "outputs": []
    },
    {
      "cell_type": "code",
      "metadata": {
        "id": "Yn4ThYfBugXL"
      },
      "source": [
        "length( tb2$Province_State )\n",
        "print( paste(\"There are \", length( tb2$Province_State ),  \" states\"))"
      ],
      "execution_count": null,
      "outputs": []
    },
    {
      "cell_type": "markdown",
      "metadata": {
        "id": "LQzyFFuY3CUy"
      },
      "source": [
        "## Covert cumulative counts into daily cases"
      ]
    },
    {
      "cell_type": "markdown",
      "metadata": {
        "id": "fZvKc3VdP8vl"
      },
      "source": [
        "### First, do a few tests on simple data sets to make sure that we know what we are doing."
      ]
    },
    {
      "cell_type": "code",
      "metadata": {
        "id": "Y6F2rs6ppNaM"
      },
      "source": [
        "? apply"
      ],
      "execution_count": null,
      "outputs": []
    },
    {
      "cell_type": "code",
      "metadata": {
        "id": "co40xitSpNdO"
      },
      "source": [
        "? diff"
      ],
      "execution_count": null,
      "outputs": []
    },
    {
      "cell_type": "code",
      "metadata": {
        "id": "Y8YWmYkPvy9K"
      },
      "source": [
        "x = data.frame(1:10)\n",
        "x"
      ],
      "execution_count": null,
      "outputs": []
    },
    {
      "cell_type": "code",
      "metadata": {
        "id": "li7F0ps1zixK"
      },
      "source": [
        "apply(x, 2, diff)"
      ],
      "execution_count": null,
      "outputs": []
    },
    {
      "cell_type": "code",
      "metadata": {
        "id": "bC8clEOmv_oy"
      },
      "source": [
        "y = data.frame(10:1)\n",
        "y"
      ],
      "execution_count": null,
      "outputs": []
    },
    {
      "cell_type": "code",
      "metadata": {
        "id": "XvSsXK3mzi0M"
      },
      "source": [
        "apply(y, 2, diff)"
      ],
      "execution_count": null,
      "outputs": []
    },
    {
      "cell_type": "code",
      "metadata": {
        "id": "bwiAqNZAzi3U"
      },
      "source": [
        ""
      ],
      "execution_count": null,
      "outputs": []
    },
    {
      "cell_type": "markdown",
      "metadata": {
        "id": "reqCpUUYQIt9"
      },
      "source": [
        "### Now, process a small data set to verify the results"
      ]
    },
    {
      "cell_type": "code",
      "metadata": {
        "id": "kLgnUo1hzi6q"
      },
      "source": [
        "test = tb2[1:5, 10:20]\n",
        "test"
      ],
      "execution_count": null,
      "outputs": []
    },
    {
      "cell_type": "code",
      "metadata": {
        "id": "t1eUQNl--iK4"
      },
      "source": [
        "apply( test, 1, diff)"
      ],
      "execution_count": null,
      "outputs": []
    },
    {
      "cell_type": "markdown",
      "metadata": {
        "id": "Ymuqg3WrQTLV"
      },
      "source": [
        "### Now, we are comfortable to apply our method to the entire data set. "
      ]
    },
    {
      "cell_type": "code",
      "metadata": {
        "id": "SgiPbukXpNgI"
      },
      "source": [
        "tb3 = apply(tb2[, 2:length(tb2[1,])], 1, diff)\n",
        "tb3= data.frame(tb3)\n",
        "head(tb3)"
      ],
      "execution_count": null,
      "outputs": []
    },
    {
      "cell_type": "markdown",
      "metadata": {
        "id": "i-Mv_rADmmJ2"
      },
      "source": [
        "## Add states names as columns names"
      ]
    },
    {
      "cell_type": "markdown",
      "metadata": {
        "id": "kgaIWauaQegD"
      },
      "source": [
        "Current names are not informative"
      ]
    },
    {
      "cell_type": "code",
      "metadata": {
        "id": "dOG-eksdpNi9"
      },
      "source": [
        "names(tb3)"
      ],
      "execution_count": null,
      "outputs": []
    },
    {
      "cell_type": "markdown",
      "metadata": {
        "id": "x-_8kxU9Qja6"
      },
      "source": [
        "Information of States will be more relevant."
      ]
    },
    {
      "cell_type": "code",
      "metadata": {
        "id": "CU4b2kuamux2"
      },
      "source": [
        "tb2$Province_State"
      ],
      "execution_count": null,
      "outputs": []
    },
    {
      "cell_type": "markdown",
      "metadata": {
        "id": "qzVcevifQrDP"
      },
      "source": [
        "Assign the columns names with the State-names"
      ]
    },
    {
      "cell_type": "code",
      "metadata": {
        "id": "T06_bRoVmu1A"
      },
      "source": [
        "names(tb3) = tb2$Province_State\n",
        "head(tb3)"
      ],
      "execution_count": null,
      "outputs": []
    },
    {
      "cell_type": "markdown",
      "metadata": {
        "id": "Tm9d5z4bp19I"
      },
      "source": [
        "## Convert date-text to Date type"
      ]
    },
    {
      "cell_type": "code",
      "metadata": {
        "id": "nJ76K82imu4W"
      },
      "source": [
        "row.names(tb3)"
      ],
      "execution_count": null,
      "outputs": []
    },
    {
      "cell_type": "code",
      "metadata": {
        "id": "nVK_iI_amu7f"
      },
      "source": [
        "tb3$dates = mdy(row.names(tb3))\n",
        "head(tb3)"
      ],
      "execution_count": null,
      "outputs": []
    },
    {
      "cell_type": "markdown",
      "metadata": {
        "id": "MhcCC9MnqqAu"
      },
      "source": [
        "## Plot"
      ]
    },
    {
      "cell_type": "code",
      "metadata": {
        "id": "S33fKAbxq1OY"
      },
      "source": [
        "tb3[,2]"
      ],
      "execution_count": null,
      "outputs": []
    },
    {
      "cell_type": "markdown",
      "metadata": {
        "id": "Gj19Yp5bO90c"
      },
      "source": [
        "### Scatter plot with trend"
      ]
    },
    {
      "cell_type": "code",
      "metadata": {
        "id": "BkiZw8usMSnx"
      },
      "source": [
        "ggplot(tb3, aes(x=dates, y=Colorado)) + geom_point() + geom_smooth()\n"
      ],
      "execution_count": null,
      "outputs": []
    },
    {
      "cell_type": "markdown",
      "metadata": {
        "id": "FdORMUg8PNUa"
      },
      "source": [
        "### Plot for a time-window"
      ]
    },
    {
      "cell_type": "code",
      "metadata": {
        "id": "esGLsTUm05dX"
      },
      "source": [
        "#end = mdy(\"5/1/20\")\n",
        "end = today(tzone='EST') - 1\n",
        "end"
      ],
      "execution_count": null,
      "outputs": []
    },
    {
      "cell_type": "markdown",
      "metadata": {
        "id": "zvgoXIctoB0p"
      },
      "source": [
        ""
      ]
    },
    {
      "cell_type": "code",
      "metadata": {
        "id": "pauU0Pc_0PGJ"
      },
      "source": [
        "tb_sub <- \n",
        " tb3 %>% filter( dates >= end- ddays(90), dates <  end) #This is 90 day window\n",
        "\n",
        "ggplot(tb_sub, aes(x=dates, y=Colorado)) + geom_point() + geom_smooth()\n"
      ],
      "execution_count": null,
      "outputs": []
    },
    {
      "cell_type": "markdown",
      "metadata": {
        "id": "xQX1a3EHSL0Q"
      },
      "source": [
        "### Let's look a specific State. \n",
        "How about Tennessee? "
      ]
    },
    {
      "cell_type": "code",
      "metadata": {
        "id": "PkBWsDmdZgYM"
      },
      "source": [
        "names(tb3)"
      ],
      "execution_count": null,
      "outputs": []
    },
    {
      "cell_type": "code",
      "metadata": {
        "id": "4taOYc5sZgek"
      },
      "source": [
        "days_window = 90 #90-day window\n",
        "endday = today(tzone = 'EST')\n",
        "\n",
        "tb_TN <- tb3 %>% \n",
        "  dplyr::select( 'Tennessee', 'dates') %>%\n",
        "  dplyr::filter( between(dates, endday-ddays(days_window), endday)) "
      ],
      "execution_count": null,
      "outputs": []
    },
    {
      "cell_type": "code",
      "metadata": {
        "id": "dkPoqBRIZghH"
      },
      "source": [
        "head(tb_TN)"
      ],
      "execution_count": null,
      "outputs": []
    },
    {
      "cell_type": "code",
      "metadata": {
        "id": "ltU110FVZUmk"
      },
      "source": [
        "ggplot(tb_TN, aes(x=dates, y=tb_TN[,1])) + geom_point() + geom_smooth()"
      ],
      "execution_count": null,
      "outputs": []
    },
    {
      "cell_type": "markdown",
      "metadata": {
        "id": "W3kP5I1voFzX"
      },
      "source": [
        "### Multiple plots to compare two states"
      ]
    },
    {
      "cell_type": "code",
      "metadata": {
        "id": "KbUaDccboPEB"
      },
      "source": [
        "days_window = 90 #90-day window\n",
        "endday = today(tzone='EST') -1\n",
        "\n",
        "mystates = c('Tennessee', 'Wisconsin', 'South Dakota')\n",
        "\n",
        "tb_2States <- tb3 %>% \n",
        "  dplyr::select( c(mystates, 'dates') ) %>%\n",
        "  dplyr::filter( between(dates, endday-ddays(days_window), endday))   \n",
        "\n",
        "tail(tb_2States)"
      ],
      "execution_count": null,
      "outputs": []
    },
    {
      "cell_type": "code",
      "metadata": {
        "id": "mFtzU6ZdpL7g"
      },
      "source": [
        "library(reshape2)"
      ],
      "execution_count": null,
      "outputs": []
    },
    {
      "cell_type": "code",
      "metadata": {
        "id": "ox9nAfwKoPG8"
      },
      "source": [
        "df_tmp <- melt(tb_2States, measure.vars = mystates)\n",
        "head(df_tmp)"
      ],
      "execution_count": null,
      "outputs": []
    },
    {
      "cell_type": "code",
      "metadata": {
        "id": "Qg1wUZv9oPKc"
      },
      "source": [
        "names(df_tmp) = c(\"dates\", \"State\", \"DailyCases\")\n",
        "head(df_tmp)"
      ],
      "execution_count": null,
      "outputs": []
    },
    {
      "cell_type": "code",
      "metadata": {
        "id": "0zRFRyh6oPNB"
      },
      "source": [
        "ggplot(df_tmp, aes(x=dates, y=DailyCases, color=State)) + geom_point() + stat_smooth(spanc=0.3)"
      ],
      "execution_count": null,
      "outputs": []
    },
    {
      "cell_type": "markdown",
      "metadata": {
        "id": "QYAkUJA3q1-O"
      },
      "source": [
        "### How about more than two states? "
      ]
    },
    {
      "cell_type": "code",
      "metadata": {
        "id": "aVr52qe8oPQP"
      },
      "source": [
        "mystates = c('Tennessee','Georgia', 'Alabama', 'Florida')\n",
        "\n",
        "days_window = 90 #90-day window\n",
        "endday = today(tzone = 'EST') -1\n",
        "\n",
        "tb_sub <- tb3 %>% \n",
        "  dplyr::select( all_of(mystates), 'dates') %>%\n",
        "  dplyr::filter( between(dates, endday-ddays(days_window), endday))   \n",
        "\n",
        "head(tb_sub)\n"
      ],
      "execution_count": null,
      "outputs": []
    },
    {
      "cell_type": "code",
      "metadata": {
        "id": "dEstbdW4rgBz"
      },
      "source": [
        "df_tmp <- melt(tb_sub, measure.vars = mystates, value.name = 'DailyCases', variable.name = 'State')\n",
        "head(df_tmp)"
      ],
      "execution_count": null,
      "outputs": []
    },
    {
      "cell_type": "code",
      "metadata": {
        "id": "Iy__AEv-r6sy"
      },
      "source": [
        "ggplot(df_tmp, aes(x=dates, y=log10(DailyCases), color=State)) + geom_point() + geom_smooth() "
      ],
      "execution_count": null,
      "outputs": []
    },
    {
      "cell_type": "markdown",
      "metadata": {
        "id": "vzooDbMmBb43"
      },
      "source": [
        "# Part 6. Transmission analysis"
      ]
    },
    {
      "cell_type": "markdown",
      "metadata": {
        "id": "mWQhOZmTGPDw"
      },
      "source": [
        "### Study the Germany 1918 example"
      ]
    },
    {
      "cell_type": "code",
      "metadata": {
        "id": "USW-d1kvBg3o"
      },
      "source": [
        "install.packages('R0', lib = '/content')\n",
        "#library('R0')\n",
        "library(\"R0\", lib.loc=\"/content\")"
      ],
      "execution_count": null,
      "outputs": []
    },
    {
      "cell_type": "code",
      "metadata": {
        "id": "f7guSRsA-Ty0"
      },
      "source": [
        "help(package='R0')"
      ],
      "execution_count": null,
      "outputs": []
    },
    {
      "cell_type": "code",
      "metadata": {
        "id": "sP5yV7HHLHDZ"
      },
      "source": [
        "#?est.R0.AR\n",
        "#$example(est.R0.AR)"
      ],
      "execution_count": null,
      "outputs": []
    },
    {
      "cell_type": "code",
      "metadata": {
        "id": "SDt4jFgx-T5X"
      },
      "source": [
        "data(Germany.1918)\n",
        "head(Germany.1918)"
      ],
      "execution_count": null,
      "outputs": []
    },
    {
      "cell_type": "code",
      "metadata": {
        "id": "p0MulnNv-T_M"
      },
      "source": [
        "str(Germany.1918)"
      ],
      "execution_count": null,
      "outputs": []
    },
    {
      "cell_type": "code",
      "metadata": {
        "id": "YM_92x7c-UC5"
      },
      "source": [
        "plot(Germany.1918)"
      ],
      "execution_count": null,
      "outputs": []
    },
    {
      "cell_type": "code",
      "metadata": {
        "id": "GTJ1xoNPLt0H"
      },
      "source": [
        "?est.R0.TD"
      ],
      "execution_count": null,
      "outputs": []
    },
    {
      "cell_type": "code",
      "metadata": {
        "id": "Gt4S6EVb-T1_"
      },
      "source": [
        "example(est.R0.TD)"
      ],
      "execution_count": null,
      "outputs": []
    },
    {
      "cell_type": "code",
      "metadata": {
        "id": "OJkbSgwUON_b"
      },
      "source": [
        "mGT <- generation.time(\"gamma\", c(3,1.5))\n",
        "SB <- est.R0.SB(Germany.1918, mGT, begin=1, end=100)\n",
        "str(SB)"
      ],
      "execution_count": null,
      "outputs": []
    },
    {
      "cell_type": "code",
      "metadata": {
        "id": "679utzUROODH"
      },
      "source": [
        "plot(SB)"
      ],
      "execution_count": null,
      "outputs": []
    },
    {
      "cell_type": "markdown",
      "metadata": {
        "id": "4-zuOBV1GU3F"
      },
      "source": [
        "### Estimate Rt to Covid19 for Tennessee\n",
        "\n",
        "The mean generation time of Covid19 is estimated to 4-5 days. "
      ]
    },
    {
      "cell_type": "code",
      "metadata": {
        "id": "reHidk_WGNLY"
      },
      "source": [
        "mystates = c('Tennessee','Georgia', 'Alabama', 'Florida')\n",
        "\n",
        "days_window = 180 #90-day window\n",
        "endday = today(tzone = 'EST') -1\n",
        "\n",
        "tb_sub <- tb3 %>% \n",
        "  dplyr::select( all_of(mystates), 'dates') %>%\n",
        "  dplyr::filter( between(dates, endday-ddays(days_window), endday))   \n",
        "\n",
        "head(tb_sub)"
      ],
      "execution_count": null,
      "outputs": []
    },
    {
      "cell_type": "code",
      "metadata": {
        "id": "gDQPDa5ILYEQ"
      },
      "source": [
        "length(tb_sub[,1])"
      ],
      "execution_count": null,
      "outputs": []
    },
    {
      "cell_type": "code",
      "metadata": {
        "id": "LPw3f9dOGmNI"
      },
      "source": [
        "mGT<-generation.time(\"gamma\", c(5, 1.5)) #model of serial generation time for SARS-CoV-2, (4, 7)\n",
        "mGT"
      ],
      "execution_count": null,
      "outputs": []
    },
    {
      "cell_type": "code",
      "metadata": {
        "id": "MQWA39POGmQQ"
      },
      "source": [
        "TD <- est.R0.TD(tb_sub$Tennessee, mGT, begin=1, end=181, nsim=100)"
      ],
      "execution_count": null,
      "outputs": []
    },
    {
      "cell_type": "code",
      "metadata": {
        "id": "XXyDprChGmT8"
      },
      "source": [
        "#str(TD)\n",
        "length(tb_sub[,1])"
      ],
      "execution_count": null,
      "outputs": []
    },
    {
      "cell_type": "code",
      "metadata": {
        "id": "pL2paW7mY6yo"
      },
      "source": [
        "tb_sub$Rt = TD$R"
      ],
      "execution_count": null,
      "outputs": []
    },
    {
      "cell_type": "code",
      "metadata": {
        "id": "XNU64dWGY6_f"
      },
      "source": [
        "ggplot( tb_sub, aes(x=dates, y=Rt) ) +\n",
        "   geom_point() + \n",
        "   stat_smooth( span=0.4)"
      ],
      "execution_count": null,
      "outputs": []
    },
    {
      "cell_type": "markdown",
      "metadata": {
        "id": "wDR9xwMPDpev"
      },
      "source": [
        "## How about Hamilton County, TN? "
      ]
    },
    {
      "cell_type": "code",
      "metadata": {
        "id": "vUhJJ5rpqWCj"
      },
      "source": [
        "install.packages('R0')\n",
        "library('R0')"
      ],
      "execution_count": null,
      "outputs": []
    },
    {
      "cell_type": "code",
      "metadata": {
        "id": "-34v1RhhDt8j"
      },
      "source": [
        "library(tidyverse)\n",
        "library(lubridate)\n",
        "tb = read_csv(url(\"https://raw.githubusercontent.com/CSSEGISandData/COVID-19/master/csse_covid_19_data/csse_covid_19_time_series/time_series_covid19_confirmed_US.csv\"))\n",
        "\n",
        "tb1 <- tb %>% dplyr::select(12:length(tb[1,])) %>% as.matrix()\n",
        "tb1 = as.data.frame(t(tb1))\n",
        "\n",
        "names(tb1) = tb$Combined_Key\n",
        "\n",
        "current_dates = names(tb)[12:length(tb[1,])]\n",
        "tb1$dates = mdy(current_dates)"
      ],
      "execution_count": null,
      "outputs": []
    },
    {
      "cell_type": "markdown",
      "metadata": {
        "id": "-YY0UH6yECsI"
      },
      "source": [
        "### Select Hamilton, Tennessee, US"
      ]
    },
    {
      "cell_type": "code",
      "metadata": {
        "id": "gzXxqSyAGr-U"
      },
      "source": [
        "names(tb1) [grep(  \"Tennessee\", names(tb1))]"
      ],
      "execution_count": null,
      "outputs": []
    },
    {
      "cell_type": "code",
      "metadata": {
        "id": "xhRsLqifGRyY"
      },
      "source": [
        ""
      ],
      "execution_count": null,
      "outputs": []
    },
    {
      "cell_type": "code",
      "metadata": {
        "id": "qksFFt_MDuFy"
      },
      "source": [
        "window = 180\n",
        "\n",
        "tb_sub <-  tb1 %>% \n",
        "  dplyr::select ( c('Hamilton, Tennessee, US', 'Davidson, Tennessee, US', 'dates')) %>%\n",
        "  dplyr::filter( between(dates, today(tzone='EST') - window,  today(tzone ='EST')))\n",
        "\n",
        "str(tb_sub)"
      ],
      "execution_count": null,
      "outputs": []
    },
    {
      "cell_type": "code",
      "metadata": {
        "id": "I4JYbmdQEZuc"
      },
      "source": [
        "ggplot(tb_sub, aes(x=dates, y=tb_sub[,1])) + geom_point()"
      ],
      "execution_count": null,
      "outputs": []
    },
    {
      "cell_type": "code",
      "metadata": {
        "id": "yoQya4G_HQMh"
      },
      "source": [
        "tail(tb_sub)"
      ],
      "execution_count": null,
      "outputs": []
    },
    {
      "cell_type": "markdown",
      "metadata": {
        "id": "qmA2UPEiEKfE"
      },
      "source": [
        "### Estiamte daily cases\n",
        "\n",
        "March 31 Tuesday has 15 cases, but Sunday and Monday has zero cases. \n",
        "\n",
        "Hong will try to spead the spike daily counts into previous days with zeros. "
      ]
    },
    {
      "cell_type": "code",
      "metadata": {
        "id": "omcRcOCpEUiP"
      },
      "source": [
        "tb_daily_sub = data.frame( apply(tb_sub[,1:2], 2, diff) )\n",
        "head(tb_daily_sub, n=15)"
      ],
      "execution_count": null,
      "outputs": []
    },
    {
      "cell_type": "code",
      "metadata": {
        "id": "sB3xw06mPuP4"
      },
      "source": [
        "wday(mdy('3/31/20'))"
      ],
      "execution_count": null,
      "outputs": []
    },
    {
      "cell_type": "code",
      "metadata": {
        "id": "I7X6HO37cSb0"
      },
      "source": [
        "tb_daily_sub$YMD = mdy(row.names(tb_daily_sub))\n",
        "head(tb_daily_sub)"
      ],
      "execution_count": null,
      "outputs": []
    },
    {
      "cell_type": "code",
      "metadata": {
        "id": "GMM49VYSOSdL"
      },
      "source": [
        "# make sure all daily cases are positive integer or zeros\n",
        "tb_daily_sub$Hamilton..Tennessee..US[tb_daily_sub$Hamilton..Tennessee..US<0 ] =0\n",
        "head(tb_daily_sub)\n",
        "summary(  tb_daily_sub)"
      ],
      "execution_count": null,
      "outputs": []
    },
    {
      "cell_type": "code",
      "metadata": {
        "id": "Zz8X3M4nQVzk"
      },
      "source": [
        "# correct some errors in Hamilton TN \n",
        "#tb_daily_sub[c('3/20/20', '3/21/20'), 1] = c(1,1)\n",
        "#tb_daily_sub[c('3/24/20', '3/25/20'), 1] = c(7, 7)\n",
        "#tb_daily_sub[c('3/29/20', '3/30/20', '3/30/20'), 1] = c(5, 5, 5)"
      ],
      "execution_count": null,
      "outputs": []
    },
    {
      "cell_type": "code",
      "metadata": {
        "id": "x1dTzSNHEpUn"
      },
      "source": [
        "tail(tb_daily_sub)"
      ],
      "execution_count": null,
      "outputs": []
    },
    {
      "cell_type": "code",
      "metadata": {
        "id": "sL6BSVFE5808"
      },
      "source": [
        "\n",
        "\n",
        "myplot <- ggplot( tb_daily_sub, aes(x=YMD, y=Hamilton..Tennessee..US)) + geom_point() + stat_smooth(span=0.3) \n",
        "myplot + ggtitle(\"Daily Cases in Hamilton County, TN\") +  theme(plot.title = element_text(hjust = 0.5))"
      ],
      "execution_count": null,
      "outputs": []
    },
    {
      "cell_type": "markdown",
      "metadata": {
        "id": "LbMY_d2eER8H"
      },
      "source": [
        "### Estimate Rt for Hamilton, TN"
      ]
    },
    {
      "cell_type": "code",
      "metadata": {
        "id": "ID4gTiHsD_9F"
      },
      "source": [
        "mGT<-generation.time(\"gamma\", c(5, 1.5)) #based on literature reading serial generation time (incubtation time) (4-7), with long distbution\n",
        "x = tb_daily_sub[,1]\n",
        "x[x<0]= 0\n",
        "length(x)\n",
        "summary(x)\n",
        "plot(x)"
      ],
      "execution_count": null,
      "outputs": []
    },
    {
      "cell_type": "code",
      "metadata": {
        "id": "Sw-1x6OxDuD0"
      },
      "source": [
        "start = 1\n",
        "offset = 1\n",
        "stop = length(x)-offset # Rt estimation need a few day, try 5 days\n",
        "\n",
        "TD<- est.R0.TD(x, mGT, begin=start, end=stop, nsim=100) "
      ],
      "execution_count": null,
      "outputs": []
    },
    {
      "cell_type": "code",
      "metadata": {
        "id": "2uUXYR-kOz1r"
      },
      "source": [
        "#str(TD)"
      ],
      "execution_count": null,
      "outputs": []
    },
    {
      "cell_type": "code",
      "metadata": {
        "id": "KV16XEy6ELGE"
      },
      "source": [
        "tb_daily_sub$RtHamilton =  c( TD$R, rep(NA, offset))"
      ],
      "execution_count": null,
      "outputs": []
    },
    {
      "cell_type": "code",
      "metadata": {
        "id": "aLzsOiJ3IIN0"
      },
      "source": [
        "head(tb_daily_sub)"
      ],
      "execution_count": null,
      "outputs": []
    },
    {
      "cell_type": "code",
      "metadata": {
        "id": "yKR8JuyoJSuW"
      },
      "source": [
        "tail(tb_daily_sub)"
      ],
      "execution_count": null,
      "outputs": []
    },
    {
      "cell_type": "code",
      "metadata": {
        "id": "GMUFWuT-0l7-"
      },
      "source": [
        "number_of_rows = length(tb_daily_sub[,1 ])\n",
        "tb_daily_sub$RtHamilton[ 1 : 5] = NA #remove first 5 rows \n",
        "tb_daily_sub$RtHamilton[ (number_of_rows-offset-2) :number_of_rows] = NA #remove last few rows"
      ],
      "execution_count": null,
      "outputs": []
    },
    {
      "cell_type": "code",
      "metadata": {
        "id": "5UKH9L_TKHZD"
      },
      "source": [
        "# add dates\n",
        "list_of_dates = row.names( tb_daily_sub)\n",
        "tb_daily_sub$dates = mdy( list_of_dates )"
      ],
      "execution_count": null,
      "outputs": []
    },
    {
      "cell_type": "code",
      "metadata": {
        "id": "wedkU5Y5ELM4"
      },
      "source": [
        "ggplot(tb_daily_sub, aes(x=dates, y=RtHamilton) ) +\n",
        "  geom_point() +\n",
        "  stat_smooth(span=.35) +\n",
        "  ggtitle(\"Effective Reproductive Number of Covid19, Hamilton, TN\")"
      ],
      "execution_count": null,
      "outputs": []
    },
    {
      "cell_type": "markdown",
      "metadata": {
        "id": "pXs4Afm7W6N1"
      },
      "source": [
        "For policy and new related to Covid19 at Hamitlon, TN, see http://health.hamiltontn.org/AllServices/Coronavirus(COVID-19)/PressReleases.aspx  <br> \n",
        "\n",
        "March 13, first case. <br> \n",
        "\n",
        "April 27, governor order restaraunt reopenning. <br> \n",
        "\n",
        "July 4th, holiday weekend. If it happended to Hamilton, it might happend to other counties with similar densities? The TN state did show a spike after 4 of July <br> \n"
      ]
    },
    {
      "cell_type": "code",
      "metadata": {
        "id": "2YlwLl0iTLWy"
      },
      "source": [
        "ggplot(tb_daily_sub, aes(x=dates, y= tb_daily_sub[,1] )) +\n",
        "  geom_point() +\n",
        "  stat_smooth(span=0.4) +\n",
        "  ggtitle(\"Daily confirmed cases at Hamilton, TN\")"
      ],
      "execution_count": null,
      "outputs": []
    },
    {
      "cell_type": "markdown",
      "metadata": {
        "id": "P66xb0yzUAMB"
      },
      "source": [
        "### Can we remove some noises in Rt? (in progress)"
      ]
    },
    {
      "cell_type": "markdown",
      "metadata": {
        "id": "hobeyBTtX5Ci"
      },
      "source": [
        ""
      ]
    },
    {
      "cell_type": "code",
      "metadata": {
        "id": "PNM9G5zyELDg"
      },
      "source": [
        "tb_daily_sub$index = 1: length( tb_daily_sub[,1]) \n",
        "\n",
        "loessSpan04 = loess( RtHamilton ~ index, data=tb_daily_sub, span=0.4 )"
      ],
      "execution_count": null,
      "outputs": []
    },
    {
      "cell_type": "code",
      "metadata": {
        "id": "pw6lemQITF_I"
      },
      "source": [
        "plot( predict( loessSpan04))"
      ],
      "execution_count": null,
      "outputs": []
    },
    {
      "cell_type": "code",
      "metadata": {
        "id": "pNbxUrP8cUGy"
      },
      "source": [
        "#str(loessSpan04)"
      ],
      "execution_count": null,
      "outputs": []
    },
    {
      "cell_type": "code",
      "metadata": {
        "id": "_4Y8ln9tcYj1"
      },
      "source": [
        "plot(loessSpan04$fitted)"
      ],
      "execution_count": null,
      "outputs": []
    },
    {
      "cell_type": "markdown",
      "metadata": {
        "id": "SmTjF0Z7X6yB"
      },
      "source": [
        "### Nashville counties (todo)"
      ]
    },
    {
      "cell_type": "markdown",
      "metadata": {
        "id": "suwYoNr5X7AA"
      },
      "source": [
        "### Memphis counties\n"
      ]
    },
    {
      "cell_type": "markdown",
      "metadata": {
        "id": "FRNUo3RxYEW0"
      },
      "source": [
        "### Knoxville"
      ]
    },
    {
      "cell_type": "code",
      "metadata": {
        "id": "HgnzPbo8YDSS"
      },
      "source": [
        ""
      ],
      "execution_count": null,
      "outputs": []
    },
    {
      "cell_type": "markdown",
      "metadata": {
        "id": "6suLQzJM2mhc"
      },
      "source": [
        "# Part 7. Apple Mobility"
      ]
    },
    {
      "cell_type": "markdown",
      "metadata": {
        "id": "PyOmmBHO222l"
      },
      "source": [
        "## Download and upload \n",
        "Download apple mobility csv from https://covid19.apple.com/mobility, then upload to CoLab"
      ]
    },
    {
      "cell_type": "code",
      "metadata": {
        "id": "EoR4Mt8g2uvx"
      },
      "source": [
        "tbAM = read_csv(\"/content/applemobilitytrends-2020-10-02.csv\")\n",
        "head(tbAM)"
      ],
      "execution_count": null,
      "outputs": []
    },
    {
      "cell_type": "code",
      "metadata": {
        "id": "fUAWhlLj3iu1"
      },
      "source": [
        "unique( tbAM$country)"
      ],
      "execution_count": null,
      "outputs": []
    },
    {
      "cell_type": "code",
      "metadata": {
        "id": "P8psVD7i5KGi"
      },
      "source": [
        "names(tbAM)[5] = \"subregion\""
      ],
      "execution_count": null,
      "outputs": []
    },
    {
      "cell_type": "markdown",
      "metadata": {
        "id": "3beKGqXW8mOn"
      },
      "source": [
        "## Pick Hamilton, TN"
      ]
    },
    {
      "cell_type": "code",
      "metadata": {
        "id": "FrDlHWas2uz3"
      },
      "source": [
        "tbAMTN <-  tbAM %>% dplyr::filter( country == \"United States\", subregion==\"Tennessee\")\n",
        "head(tbAMTN)"
      ],
      "execution_count": null,
      "outputs": []
    },
    {
      "cell_type": "code",
      "metadata": {
        "id": "IF8Pls8r4ZdR"
      },
      "source": [
        "unique(tbAMTN$region)"
      ],
      "execution_count": null,
      "outputs": []
    },
    {
      "cell_type": "code",
      "metadata": {
        "id": "1lPwrWiN4ZkF"
      },
      "source": [
        "tbAMTN$region[ grep(\"Hamilton\", tbAMTN$region) ]"
      ],
      "execution_count": null,
      "outputs": []
    },
    {
      "cell_type": "code",
      "metadata": {
        "id": "MSIscBt94Zhd"
      },
      "source": [
        "tbAMHCTN <-  tbAM %>% dplyr::filter( country == \"United States\", subregion==\"Tennessee\", region==\"Hamilton County\")\n",
        "head(tbAMHCTN)"
      ],
      "execution_count": null,
      "outputs": []
    },
    {
      "cell_type": "markdown",
      "metadata": {
        "id": "ngZF_yF77nnk"
      },
      "source": [
        "So, Apple mobility report is in a similar format like the JHU Covid19 data"
      ]
    },
    {
      "cell_type": "code",
      "metadata": {
        "id": "rgq9GWc_7Qpj"
      },
      "source": [
        "tbAMHCTN2 = data.frame( t(tbAMHCTN[, 7: length(names(tbAMHCTN))]))\n",
        "names( tbAMHCTN2 ) = c(\"driving\", \"walking\")\n",
        "tbAMHCTN2$date = ymd( row.names(tbAMHCTN2))\n",
        "head(tbAMHCTN2)"
      ],
      "execution_count": null,
      "outputs": []
    },
    {
      "cell_type": "markdown",
      "metadata": {
        "id": "qW9c7rO_8roK"
      },
      "source": [
        "## Merge with previous combined dataframe \n",
        "tb_GMCovidWeatherHCTN2"
      ]
    },
    {
      "cell_type": "code",
      "metadata": {
        "id": "maTdx3cj7QwB"
      },
      "source": [
        "head(tb_GMCovidWeatherHCTN2)"
      ],
      "execution_count": null,
      "outputs": []
    },
    {
      "cell_type": "code",
      "metadata": {
        "id": "FrCxb8zo7Qto"
      },
      "source": [
        "tbAMHCTN2b <- \n",
        "  tbAMHCTN2 %>% filter( between(date, min(tb_GMCovidWeatherHCTN2$date), max(tb_GMCovidWeatherHCTN2$date)))"
      ],
      "execution_count": null,
      "outputs": []
    },
    {
      "cell_type": "code",
      "metadata": {
        "id": "cyZ9oF8f9ovm"
      },
      "source": [
        "tb_GMAMCovidWeatherHCTN <- \n",
        " cbind( tb_GMCovidWeatherHCTN2[, c(\"date\", \"dailyCases\", \"temp\", \"dew_point\", \"RH\", \"workplaceMobility\", \"residentialMobility\")], tbAMHCTN2b[, 1:2] )\n",
        "\n",
        "str( tb_GMAMCovidWeatherHCTN )"
      ],
      "execution_count": null,
      "outputs": []
    },
    {
      "cell_type": "code",
      "metadata": {
        "id": "FPwaxGvr9o2e"
      },
      "source": [
        "pairs( tb_GMAMCovidWeatherHCTN )"
      ],
      "execution_count": null,
      "outputs": []
    },
    {
      "cell_type": "code",
      "metadata": {
        "id": "xddMzgM19oz0"
      },
      "source": [
        "ggplot(tb_GMAMCovidWeatherHCTN, aes(x=date, y=walking) ) + geom_point() + stat_smooth(span=0.3)"
      ],
      "execution_count": null,
      "outputs": []
    },
    {
      "cell_type": "code",
      "metadata": {
        "id": "LyF4CPD5_04V"
      },
      "source": [
        "ggplot(tb_GMAMCovidWeatherHCTN, aes(x=date, y=driving) ) + geom_point() + stat_smooth(span=0.2)"
      ],
      "execution_count": null,
      "outputs": []
    },
    {
      "cell_type": "markdown",
      "metadata": {
        "id": "B0NDn__sANWZ"
      },
      "source": [
        "## Normalize and overlay"
      ]
    },
    {
      "cell_type": "code",
      "metadata": {
        "id": "obIdsdZKAMuw"
      },
      "source": [
        "head( tb_GMAMCovidWeatherHCTN )\n",
        "\n",
        "tb_scaled <-  data.frame( scale(tb_GMAMCovidWeatherHCTN[, 2:9])) \n",
        "tb_scaled$date = tb_GMAMCovidWeatherHCTN$date\n",
        "head( tb_scaled  )"
      ],
      "execution_count": null,
      "outputs": []
    },
    {
      "cell_type": "code",
      "metadata": {
        "id": "pZ2uaCqYAMzl"
      },
      "source": [
        "#selected_columns = c(\"dailyCases\", \"temp\", \"dew_point\", \"RH\",   \"workplaceMobility\", \"residentialMobility\", \"driving\", \"walking\" )\n",
        "\n",
        "selected_columns = c( \"dailyCases\", \"workplaceMobility\", \"residentialMobility\", \"driving\", \"walking\" )\n",
        "\n",
        "tb_tmp <- tb_scaled %>% dplyr::filter( between(date, mdy('6/1/20'), mdy('9/27/20')))\n",
        "\n",
        "df_melt <- melt(tb_tmp, measure.vars=selected_columns, value.names=\"Values\", varialbe.name=\"varialbe\" )\n",
        "ggplot(df_melt, aes(x=date, y=value, color=variable)) + stat_smooth(span=0.3)"
      ],
      "execution_count": null,
      "outputs": []
    },
    {
      "cell_type": "markdown",
      "metadata": {
        "id": "9hiltYsMNaDN"
      },
      "source": [
        "## ccf"
      ]
    },
    {
      "cell_type": "code",
      "metadata": {
        "id": "Lco0XNSeNdyd"
      },
      "source": [
        "ccf( tb_GMAMCovidWeatherHCTN$temp, tb_GMAMCovidWeatherHCTN$driving, lag.max=15, type=\"correlation\", na.action = na.pass)"
      ],
      "execution_count": null,
      "outputs": []
    },
    {
      "cell_type": "code",
      "metadata": {
        "id": "mtz1dERGNd18"
      },
      "source": [
        "summary(lm(driving ~ temp, data=tb_tmp ))"
      ],
      "execution_count": null,
      "outputs": []
    },
    {
      "cell_type": "code",
      "metadata": {
        "id": "G7djlP5PNd6m"
      },
      "source": [
        "ccf( tb_GMAMCovidWeatherHCTN$dailyCases, tb_GMAMCovidWeatherHCTN$driving, lag.max=15, type=\"correlation\", na.action = na.pass)"
      ],
      "execution_count": null,
      "outputs": []
    },
    {
      "cell_type": "code",
      "metadata": {
        "id": "HHir9zWrOWMS"
      },
      "source": [
        "ccf( tb_GMAMCovidWeatherHCTN$dailyCases, tb_GMAMCovidWeatherHCTN$workplaceMobility, lag.max=20, type=\"correlation\", na.action = na.pass)"
      ],
      "execution_count": null,
      "outputs": []
    },
    {
      "cell_type": "code",
      "metadata": {
        "id": "HrJLcXB3OWQG"
      },
      "source": [
        "ccf( tb_GMAMCovidWeatherHCTN$dailyCases, tb_GMAMCovidWeatherHCTN$residentialMobility, lag.max=20, type=\"correlation\", na.action = na.pass)"
      ],
      "execution_count": null,
      "outputs": []
    },
    {
      "cell_type": "code",
      "metadata": {
        "id": "f2tSPxZuOWaE"
      },
      "source": [
        "ccf( tb_GMAMCovidWeatherHCTN$dailyCases, tb_GMAMCovidWeatherHCTN$RH, lag.max=15, type=\"correlation\", na.action = na.pass)"
      ],
      "execution_count": null,
      "outputs": []
    },
    {
      "cell_type": "code",
      "metadata": {
        "id": "W_D4YCkeOWXc"
      },
      "source": [
        "ccf( tb_GMAMCovidWeatherHCTN$dailyCases, tb_GMAMCovidWeatherHCTN$dew_point, lag.max=15, type=\"correlation\", na.action = na.pass)"
      ],
      "execution_count": null,
      "outputs": []
    },
    {
      "cell_type": "code",
      "metadata": {
        "id": "MKAtOyJUPSow"
      },
      "source": [
        ""
      ],
      "execution_count": null,
      "outputs": []
    },
    {
      "cell_type": "code",
      "metadata": {
        "id": "9U9FpentPSss"
      },
      "source": [
        ""
      ],
      "execution_count": null,
      "outputs": []
    },
    {
      "cell_type": "code",
      "metadata": {
        "id": "bPBhKwZ6PSxV"
      },
      "source": [
        ""
      ],
      "execution_count": null,
      "outputs": []
    },
    {
      "cell_type": "code",
      "metadata": {
        "id": "bkd8WSjYOWUf"
      },
      "source": [
        ""
      ],
      "execution_count": null,
      "outputs": []
    },
    {
      "cell_type": "code",
      "metadata": {
        "id": "yPTlu5e3_0zn"
      },
      "source": [
        "summary(lm(dailyCases ~ walking + temp, data=tb_tmp ))"
      ],
      "execution_count": null,
      "outputs": []
    },
    {
      "cell_type": "code",
      "metadata": {
        "id": "x8V9XUad9osw"
      },
      "source": [
        "ccf"
      ],
      "execution_count": null,
      "outputs": []
    },
    {
      "cell_type": "code",
      "metadata": {
        "id": "V5Y6aIqZM5aE"
      },
      "source": [
        ""
      ],
      "execution_count": null,
      "outputs": []
    },
    {
      "cell_type": "code",
      "metadata": {
        "id": "m3WR54fBM5e1"
      },
      "source": [
        ""
      ],
      "execution_count": null,
      "outputs": []
    },
    {
      "cell_type": "markdown",
      "metadata": {
        "id": "wTyibpTKrq2A"
      },
      "source": [
        "# Part X Global Daily cases "
      ]
    },
    {
      "cell_type": "code",
      "metadata": {
        "id": "TMyuIB33rygx"
      },
      "source": [
        "library(tidyverse)\n",
        "library(lubridate)\n",
        "# load JHU covid19 data set with tidyverse read_csv\n",
        "gtb = read_csv('https://raw.githubusercontent.com/CSSEGISandData/COVID-19/master/csse_covid_19_data/csse_covid_19_time_series/time_series_covid19_confirmed_global.csv')\n",
        "\n",
        "head(gtb)"
      ],
      "execution_count": null,
      "outputs": []
    },
    {
      "cell_type": "code",
      "metadata": {
        "id": "Kx3XiyWWr3cG"
      },
      "source": [
        "head(gtb[, 5:length(gtb[1,])])"
      ],
      "execution_count": null,
      "outputs": []
    },
    {
      "cell_type": "code",
      "metadata": {
        "id": "zmcLGZqTr3ir"
      },
      "source": [
        "g_cumulative = data.frame( apply( gtb[,5:length(gtb[1,])], 2, sum ))\n",
        "str(g_cumulative)\n",
        "head(g_cumulative)"
      ],
      "execution_count": null,
      "outputs": []
    },
    {
      "cell_type": "code",
      "metadata": {
        "id": "9aofhMyYvpFQ"
      },
      "source": [
        "g_cummulative2= g_cumulative\n",
        "g_cummulative2$Dates =  mdy(row.names(g_cummulative2))\n",
        "names( g_cummulative2 ) = c(\"Daily_cases\", \"Dates\")\n",
        "head( g_cummulative2)"
      ],
      "execution_count": null,
      "outputs": []
    },
    {
      "cell_type": "code",
      "metadata": {
        "id": "YUggE2ievg0Z"
      },
      "source": [
        "ggplot( g_cummulative2, aes(x=Dates, y=Daily_cases)) + geom_point() + stat_smooth(span=0.3) + ggtitle(\"Global Cumulative Reported Covid19 Cases\") + theme(plot.title=element_text(hjust=0.5))"
      ],
      "execution_count": null,
      "outputs": []
    },
    {
      "cell_type": "code",
      "metadata": {
        "id": "N4zN9EpHr3nV"
      },
      "source": [
        "g_daily = data.frame(apply(g_cumulative, 2, diff))\n",
        "g_daily$date = mdy(row.names(g_daily))\n",
        "names(g_daily) = c(\"Daily_cases\", \"Dates\")\n",
        "head(g_daily)"
      ],
      "execution_count": null,
      "outputs": []
    },
    {
      "cell_type": "code",
      "metadata": {
        "id": "RFAz5igJsqWv"
      },
      "source": [
        "ggplot( g_daily, aes(x=Dates, y=Daily_cases)) + geom_point() + stat_smooth(span=0.3) + ggtitle(\"Global Daily Reported Covid19 Cases\") + theme(plot.title=element_text(hjust=0.5))"
      ],
      "execution_count": null,
      "outputs": []
    },
    {
      "cell_type": "code",
      "metadata": {
        "id": "yaR1hRc1sqfy"
      },
      "source": [
        ""
      ],
      "execution_count": null,
      "outputs": []
    },
    {
      "cell_type": "code",
      "metadata": {
        "id": "5iALKdySsqkG"
      },
      "source": [
        ""
      ],
      "execution_count": null,
      "outputs": []
    },
    {
      "cell_type": "code",
      "metadata": {
        "id": "M8KbWcSVsqc9"
      },
      "source": [
        ""
      ],
      "execution_count": null,
      "outputs": []
    },
    {
      "cell_type": "code",
      "metadata": {
        "id": "JWCKX1fRsqaa"
      },
      "source": [
        ""
      ],
      "execution_count": null,
      "outputs": []
    },
    {
      "cell_type": "code",
      "metadata": {
        "id": "m-DOrKMGsqTw"
      },
      "source": [
        ""
      ],
      "execution_count": null,
      "outputs": []
    },
    {
      "cell_type": "code",
      "metadata": {
        "id": "RsjSWIRZr3fv"
      },
      "source": [
        "plot(x)"
      ],
      "execution_count": null,
      "outputs": []
    },
    {
      "cell_type": "markdown",
      "metadata": {
        "id": "XrudqVTjeFR8"
      },
      "source": [
        "# Part Y. Canada Covid19 data analysis"
      ]
    },
    {
      "cell_type": "markdown",
      "metadata": {
        "id": "qH6lQqiZ5FVr"
      },
      "source": [
        "### pre-process"
      ]
    },
    {
      "cell_type": "code",
      "metadata": {
        "id": "OoWmQR_5DuB4"
      },
      "source": [
        "library(tidyverse)\n",
        "library(lubridate)\n",
        "# load JHU covid19 data set with tidyverse read_csv\n",
        "gtb = read_csv('https://raw.githubusercontent.com/CSSEGISandData/COVID-19/master/csse_covid_19_data/csse_covid_19_time_series/time_series_covid19_confirmed_global.csv')\n",
        "\n",
        "head(gtb)"
      ],
      "execution_count": null,
      "outputs": []
    },
    {
      "cell_type": "code",
      "metadata": {
        "id": "M4jflgTCgWLQ"
      },
      "source": [
        "names(gtb)[1:2] = c(\"Province\", \"Country\")\n",
        "head(gtb)"
      ],
      "execution_count": null,
      "outputs": []
    },
    {
      "cell_type": "code",
      "metadata": {
        "id": "Fl20Nyreetvg"
      },
      "source": [
        "ctb <- gtb %>% \n",
        " filter( gtb$Country == 'Canada')\n",
        "\n",
        "head(ctb)"
      ],
      "execution_count": null,
      "outputs": []
    },
    {
      "cell_type": "code",
      "metadata": {
        "id": "CxST4DHri8oJ"
      },
      "source": [
        "ctb1 <- ctb %>% dplyr::select(5:length(ctb[1,])) %>% as.matrix()\n",
        "ctb1 = as.data.frame(t(ctb1))\n",
        "head(ctb1)"
      ],
      "execution_count": null,
      "outputs": []
    },
    {
      "cell_type": "code",
      "metadata": {
        "id": "oY3vuIihi8r-"
      },
      "source": [
        "names(ctb1) = ctb$Province\n",
        "ctb1 = ctb1[ -c(1:50), ] #remove first 50 rows with very low numbers\n",
        "head(ctb1)"
      ],
      "execution_count": null,
      "outputs": []
    },
    {
      "cell_type": "markdown",
      "metadata": {
        "id": "H32chEqC49zO"
      },
      "source": [
        "## Convert cumulative values into daily new cases"
      ]
    },
    {
      "cell_type": "code",
      "metadata": {
        "id": "3H5XActSl1qz"
      },
      "source": [
        "ctb2 = data.frame(apply(ctb1, 2, diff))\n",
        "head(ctb2)"
      ],
      "execution_count": null,
      "outputs": []
    },
    {
      "cell_type": "code",
      "metadata": {
        "id": "wor3sryXmsiS"
      },
      "source": [
        "current_dates = row.names(ctb2)\n",
        "ctb2$dates = mdy(current_dates)\n",
        "head(ctb2)"
      ],
      "execution_count": null,
      "outputs": []
    },
    {
      "cell_type": "code",
      "metadata": {
        "id": "iWUDVjOal1vr"
      },
      "source": [
        "#myprovinces = c('Alberta','British.Columbia', 'Ontario')\n",
        "myprovinces = c('Alberta','Ontario')\n",
        "\n",
        "days_window = 150 # time window\n",
        "endday = today(tzone = 'EST') -1\n",
        "\n",
        "tb_sub <- ctb2 %>% \n",
        "  dplyr::select( all_of(myprovinces), 'dates') %>%\n",
        "  dplyr::filter( between(dates, endday-ddays(days_window), endday))   \n",
        "\n",
        "tail(tb_sub)"
      ],
      "execution_count": null,
      "outputs": []
    },
    {
      "cell_type": "code",
      "metadata": {
        "id": "6TyjoZ_Qmbbt"
      },
      "source": [
        "install.packages('reshape2')\n",
        "library(reshape2)\n",
        "df_tmp <- reshape2::melt(tb_sub, measure.vars = myprovinces, value.name = 'DailyCases', variable.name = 'State')\n",
        "head(df_tmp)"
      ],
      "execution_count": null,
      "outputs": []
    },
    {
      "cell_type": "code",
      "metadata": {
        "id": "05xVXE-Bmbfg"
      },
      "source": [
        "ggplot(df_tmp, aes(x=dates, y=DailyCases,color=State)) + geom_point() + stat_smooth(span=0.3)"
      ],
      "execution_count": null,
      "outputs": []
    },
    {
      "cell_type": "markdown",
      "metadata": {
        "id": "6UfOQfrX5NGQ"
      },
      "source": [
        "## Estimate Rt"
      ]
    },
    {
      "cell_type": "code",
      "metadata": {
        "id": "s_sGPOVxmbjU"
      },
      "source": [
        "install.packages('R0')\n",
        "install.packages('reshape2')\n",
        "\n",
        "library('R0')"
      ],
      "execution_count": null,
      "outputs": []
    },
    {
      "cell_type": "code",
      "metadata": {
        "id": "_MVDZi-a58xy"
      },
      "source": [
        "str(tb_sub)"
      ],
      "execution_count": null,
      "outputs": []
    },
    {
      "cell_type": "code",
      "metadata": {
        "id": "jYM8n0PbqY25"
      },
      "source": [
        "mGT<-generation.time(\"gamma\", c(5, 1.5))\n",
        "tmp = tb_sub[,2] #Ontario\n",
        "tmp[tmp<0] = 0\n",
        "TD <- est.R0.TD(tmp, mGT, begin=1, end=length(tmp)-1+1, nsim=100)\n",
        "tb_sub$RtOntario = TD$R\n"
      ],
      "execution_count": null,
      "outputs": []
    },
    {
      "cell_type": "code",
      "metadata": {
        "id": "SzJ3o520qY6b"
      },
      "source": [
        "tmp = tb_sub[,1] #Alberta\n",
        "tmp[tmp<0] = 0\n",
        "TD <- est.R0.TD(tmp, mGT, begin=1, end=length(tmp)-1+1, nsim=100)\n",
        "tb_sub$RtAlberta = TD$R\n"
      ],
      "execution_count": null,
      "outputs": []
    },
    {
      "cell_type": "code",
      "metadata": {
        "id": "BAzncsHFqY96"
      },
      "source": [
        "tail(tb_sub)"
      ],
      "execution_count": null,
      "outputs": []
    },
    {
      "cell_type": "code",
      "metadata": {
        "id": "cbbFl7aeerEV"
      },
      "source": [
        "df_tmp <- reshape2::melt(tb_sub[, 3:5], measure.vars = c(\"RtOntario\", \"RtAlberta\"), value.name = 'Rt', variable.name = 'Rt_by_State')\n",
        "df_tmp$Rt[ df_tmp$Rt==0] = NA\n",
        "tail(df_tmp)\n"
      ],
      "execution_count": null,
      "outputs": []
    },
    {
      "cell_type": "code",
      "metadata": {
        "id": "lsWJDaBf93Oq"
      },
      "source": [
        "ggplot(df_tmp, aes(x=dates, y=log10(Rt), color=Rt_by_State) ) +\n",
        "  geom_point() +\n",
        "  stat_smooth(span=0.3)"
      ],
      "execution_count": null,
      "outputs": []
    },
    {
      "cell_type": "markdown",
      "metadata": {
        "id": "N1RW3YZe5g7A"
      },
      "source": [
        "# Part Y todo Sweeden Covid19 data analysis"
      ]
    },
    {
      "cell_type": "markdown",
      "metadata": {
        "id": "TGud3g8bmRas"
      },
      "source": [
        "# Sandbox"
      ]
    },
    {
      "cell_type": "code",
      "metadata": {
        "id": "uMwU5aCGmSoB"
      },
      "source": [
        "x <- runif(12,1,1.5)\n",
        "y <- runif(12,1,1.5)\n",
        "z <- runif(12,1,1.5)\n",
        "m <- letters[1:12]\n",
        "df <- data.frame(x,y,z,m)\n"
      ],
      "execution_count": null,
      "outputs": []
    },
    {
      "cell_type": "code",
      "metadata": {
        "id": "ixJrGiwkmU-y"
      },
      "source": [
        "#library(tidyverse)\n",
        "#install.packages('reshape2')\n",
        "library(reshape2)\n",
        "library(ggplot2)\n",
        "#when you melt essentially you create only one column with the value\n",
        "#and one column with the variable i.e. your x,y,z \n",
        "df <- melt(df, id.vars='m')\n",
        "head(df)"
      ],
      "execution_count": null,
      "outputs": []
    },
    {
      "cell_type": "code",
      "metadata": {
        "id": "lGyM4N4DndqU"
      },
      "source": [
        "ggplot(df, aes(x=variable, y=value, fill=m)) + geom_bar(stat = 'identity')"
      ],
      "execution_count": null,
      "outputs": []
    },
    {
      "cell_type": "code",
      "metadata": {
        "id": "Bxc_l_uZmlVF"
      },
      "source": [
        "#ggplot it. x axis will be m, y will be the value and fill will be\n",
        "#essentially your x,y,z\n",
        "\n",
        "ggplot(df, aes(x=m, y=value, fill=variable)) + geom_bar(stat='identity')"
      ],
      "execution_count": null,
      "outputs": []
    },
    {
      "cell_type": "markdown",
      "metadata": {
        "id": "9_7i6w2GjGxs"
      },
      "source": [
        ""
      ]
    },
    {
      "cell_type": "markdown",
      "metadata": {
        "id": "udDBXGM8jHCB"
      },
      "source": [
        "# git clone? "
      ]
    },
    {
      "cell_type": "code",
      "metadata": {
        "id": "3f_pw28-jJ-3"
      },
      "source": [
        "system(\"git clone https://github.com/hongqin/Use-R-in-CoLab.git\")\n",
        "system(\"ls\")"
      ],
      "execution_count": null,
      "outputs": []
    },
    {
      "cell_type": "code",
      "metadata": {
        "id": "qBaRUscRjWQn"
      },
      "source": [
        "system( \"ls /content\")"
      ],
      "execution_count": null,
      "outputs": []
    },
    {
      "cell_type": "markdown",
      "metadata": {
        "id": "Ge5SFmi6jG-7"
      },
      "source": [
        ""
      ]
    },
    {
      "cell_type": "markdown",
      "metadata": {
        "id": "szNzO7_ljG79"
      },
      "source": [
        ""
      ]
    }
  ]
}