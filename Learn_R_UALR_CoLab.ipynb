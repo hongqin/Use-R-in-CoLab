{
  "nbformat": 4,
  "nbformat_minor": 0,
  "metadata": {
    "colab": {
      "name": "Learn R UALR CoLab.ipynb",
      "provenance": [],
      "collapsed_sections": [
        "kwm9N9HfpMVd",
        "vzooDbMmBb43",
        "mWQhOZmTGPDw"
      ],
      "toc_visible": true,
      "include_colab_link": true
    },
    "kernelspec": {
      "name": "ir",
      "display_name": "R"
    }
  },
  "cells": [
    {
      "cell_type": "markdown",
      "metadata": {
        "id": "view-in-github",
        "colab_type": "text"
      },
      "source": [
        "<a href=\"https://colab.research.google.com/github/hongqin/Use-R-in-CoLab/blob/master/Learn_R_UALR_CoLab.ipynb\" target=\"_parent\"><img src=\"https://colab.research.google.com/assets/colab-badge.svg\" alt=\"Open In Colab\"/></a>"
      ]
    },
    {
      "cell_type": "markdown",
      "metadata": {
        "id": "cJAMSZ4KnrMd"
      },
      "source": [
        "# Welcome\n",
        "**Please make a copy of this code in your CoLab in order to modify the code.**"
      ]
    },
    {
      "cell_type": "markdown",
      "metadata": {
        "id": "mF9d1XRjOYkh"
      },
      "source": [
        "This is a short tutorial on using R to explore Covid19 data using Google CoLab <br>\n",
        "Hong Qin <br>\n",
        "This version is modifed for a guest lecture at UALR <br>\n",
        "\n",
        "This is a work in progress and is for educational purpose only. \n",
        "\n",
        "This is code can be cloned from\n",
        "https://github.com/hongqin/Use-R-in-CoLab/blob/master/Learn_R_UALR_CoLab.ipynb\n",
        "More tutorials at http://YouTube.com/hongqin"
      ]
    },
    {
      "cell_type": "markdown",
      "metadata": {
        "id": "RUkzRmmEPFol"
      },
      "source": [
        "# Warm up exercises"
      ]
    },
    {
      "cell_type": "markdown",
      "metadata": {
        "id": "naBNpWgdQBHs"
      },
      "source": [
        "## Simple calculator"
      ]
    },
    {
      "cell_type": "code",
      "metadata": {
        "id": "swUtrRkyPKtd",
        "outputId": "4742532c-ce1b-43fb-cb79-5131cef9180d",
        "colab": {
          "base_uri": "https://localhost:8080/",
          "height": 0
        }
      },
      "source": [
        "2 + 4\n",
        "pi\n",
        "log10(pi)"
      ],
      "execution_count": 192,
      "outputs": [
        {
          "output_type": "display_data",
          "data": {
            "text/plain": [
              "[1] 6"
            ],
            "text/latex": "6",
            "text/markdown": "6",
            "text/html": [
              "6"
            ]
          },
          "metadata": {
            "tags": []
          }
        },
        {
          "output_type": "display_data",
          "data": {
            "text/plain": [
              "[1] 3.141593"
            ],
            "text/latex": "3.14159265358979",
            "text/markdown": "3.14159265358979",
            "text/html": [
              "3.14159265358979"
            ]
          },
          "metadata": {
            "tags": []
          }
        },
        {
          "output_type": "display_data",
          "data": {
            "text/plain": [
              "[1] 0.4971499"
            ],
            "text/latex": "0.497149872694134",
            "text/markdown": "0.497149872694134",
            "text/html": [
              "0.497149872694134"
            ]
          },
          "metadata": {
            "tags": []
          }
        }
      ]
    },
    {
      "cell_type": "code",
      "metadata": {
        "id": "arKIaM2U0Bol",
        "outputId": "b4f2f35e-431d-4f7e-c465-5aeee56ed4c1",
        "colab": {
          "base_uri": "https://localhost:8080/",
          "height": 0
        }
      },
      "source": [
        "2*4\n",
        "9/3\n",
        "9-7"
      ],
      "execution_count": 193,
      "outputs": [
        {
          "output_type": "display_data",
          "data": {
            "text/plain": [
              "[1] 8"
            ],
            "text/latex": "8",
            "text/markdown": "8",
            "text/html": [
              "8"
            ]
          },
          "metadata": {
            "tags": []
          }
        },
        {
          "output_type": "display_data",
          "data": {
            "text/plain": [
              "[1] 3"
            ],
            "text/latex": "3",
            "text/markdown": "3",
            "text/html": [
              "3"
            ]
          },
          "metadata": {
            "tags": []
          }
        },
        {
          "output_type": "display_data",
          "data": {
            "text/plain": [
              "[1] 2"
            ],
            "text/latex": "2",
            "text/markdown": "2",
            "text/html": [
              "2"
            ]
          },
          "metadata": {
            "tags": []
          }
        }
      ]
    },
    {
      "cell_type": "code",
      "metadata": {
        "id": "1fKtBnbd1Fvp"
      },
      "source": [
        "?rnorm"
      ],
      "execution_count": 194,
      "outputs": []
    },
    {
      "cell_type": "code",
      "metadata": {
        "id": "Oeeo-AqO1qIF"
      },
      "source": [
        "?lm"
      ],
      "execution_count": 195,
      "outputs": []
    },
    {
      "cell_type": "code",
      "metadata": {
        "id": "DEFr5s6k12vp"
      },
      "source": [
        "?abline"
      ],
      "execution_count": 196,
      "outputs": []
    },
    {
      "cell_type": "code",
      "metadata": {
        "id": "vEiLroOj3b_S",
        "outputId": "e4d5c97a-84d6-4a13-9868-a51371e299f1",
        "colab": {
          "base_uri": "https://localhost:8080/",
          "height": 0
        }
      },
      "source": [
        "a_vector = c(1, 3.14159, 5.0, -1, 10)\n",
        "a_vector"
      ],
      "execution_count": 197,
      "outputs": [
        {
          "output_type": "display_data",
          "data": {
            "text/plain": [
              "[1]  1.00000  3.14159  5.00000 -1.00000 10.00000"
            ],
            "text/latex": "\\begin{enumerate*}\n\\item 1\n\\item 3.14159\n\\item 5\n\\item -1\n\\item 10\n\\end{enumerate*}\n",
            "text/markdown": "1. 1\n2. 3.14159\n3. 5\n4. -1\n5. 10\n\n\n",
            "text/html": [
              "<style>\n",
              ".list-inline {list-style: none; margin:0; padding: 0}\n",
              ".list-inline>li {display: inline-block}\n",
              ".list-inline>li:not(:last-child)::after {content: \"\\00b7\"; padding: 0 .5ex}\n",
              "</style>\n",
              "<ol class=list-inline><li>1</li><li>3.14159</li><li>5</li><li>-1</li><li>10</li></ol>\n"
            ]
          },
          "metadata": {
            "tags": []
          }
        }
      ]
    },
    {
      "cell_type": "code",
      "metadata": {
        "id": "TMv7y8Db3vAW",
        "outputId": "bb510908-68f6-40a3-f682-d28d73cb1769",
        "colab": {
          "base_uri": "https://localhost:8080/",
          "height": 0
        }
      },
      "source": [
        "b_vector= a_vector + c(2, 0.5, -5, 1, -10)\n",
        "b_vector"
      ],
      "execution_count": 198,
      "outputs": [
        {
          "output_type": "display_data",
          "data": {
            "text/plain": [
              "[1] 3.00000 3.64159 0.00000 0.00000 0.00000"
            ],
            "text/latex": "\\begin{enumerate*}\n\\item 3\n\\item 3.64159\n\\item 0\n\\item 0\n\\item 0\n\\end{enumerate*}\n",
            "text/markdown": "1. 3\n2. 3.64159\n3. 0\n4. 0\n5. 0\n\n\n",
            "text/html": [
              "<style>\n",
              ".list-inline {list-style: none; margin:0; padding: 0}\n",
              ".list-inline>li {display: inline-block}\n",
              ".list-inline>li:not(:last-child)::after {content: \"\\00b7\"; padding: 0 .5ex}\n",
              "</style>\n",
              "<ol class=list-inline><li>3</li><li>3.64159</li><li>0</li><li>0</li><li>0</li></ol>\n"
            ]
          },
          "metadata": {
            "tags": []
          }
        }
      ]
    },
    {
      "cell_type": "code",
      "metadata": {
        "id": "owbybG6fQ-az"
      },
      "source": [
        "#as.numeric(b_vector)"
      ],
      "execution_count": 199,
      "outputs": []
    },
    {
      "cell_type": "markdown",
      "metadata": {
        "id": "SJ1yVFReQEIo"
      },
      "source": [
        "## Vectors, indexing, plots\n",
        "x is a vector <br>\n",
        "y is a vector <br>"
      ]
    },
    {
      "cell_type": "code",
      "metadata": {
        "id": "1ekHpPi13OCr",
        "outputId": "76350f49-88e3-410d-be5d-e680754c0f02",
        "colab": {
          "base_uri": "https://localhost:8080/",
          "height": 0
        }
      },
      "source": [
        "a_vector = 4:20\n",
        "a_vector"
      ],
      "execution_count": 200,
      "outputs": [
        {
          "output_type": "display_data",
          "data": {
            "text/plain": [
              " [1]  4  5  6  7  8  9 10 11 12 13 14 15 16 17 18 19 20"
            ],
            "text/latex": "\\begin{enumerate*}\n\\item 4\n\\item 5\n\\item 6\n\\item 7\n\\item 8\n\\item 9\n\\item 10\n\\item 11\n\\item 12\n\\item 13\n\\item 14\n\\item 15\n\\item 16\n\\item 17\n\\item 18\n\\item 19\n\\item 20\n\\end{enumerate*}\n",
            "text/markdown": "1. 4\n2. 5\n3. 6\n4. 7\n5. 8\n6. 9\n7. 10\n8. 11\n9. 12\n10. 13\n11. 14\n12. 15\n13. 16\n14. 17\n15. 18\n16. 19\n17. 20\n\n\n",
            "text/html": [
              "<style>\n",
              ".list-inline {list-style: none; margin:0; padding: 0}\n",
              ".list-inline>li {display: inline-block}\n",
              ".list-inline>li:not(:last-child)::after {content: \"\\00b7\"; padding: 0 .5ex}\n",
              "</style>\n",
              "<ol class=list-inline><li>4</li><li>5</li><li>6</li><li>7</li><li>8</li><li>9</li><li>10</li><li>11</li><li>12</li><li>13</li><li>14</li><li>15</li><li>16</li><li>17</li><li>18</li><li>19</li><li>20</li></ol>\n"
            ]
          },
          "metadata": {
            "tags": []
          }
        }
      ]
    },
    {
      "cell_type": "code",
      "metadata": {
        "id": "EyiEc8az3WhE",
        "outputId": "15e60ab7-f2e4-43e8-a239-d1c3cb4646e1",
        "colab": {
          "base_uri": "https://localhost:8080/",
          "height": 0
        }
      },
      "source": [
        "seq(4, 100, 2)"
      ],
      "execution_count": 201,
      "outputs": [
        {
          "output_type": "display_data",
          "data": {
            "text/plain": [
              " [1]   4   6   8  10  12  14  16  18  20  22  24  26  28  30  32  34  36  38  40\n",
              "[20]  42  44  46  48  50  52  54  56  58  60  62  64  66  68  70  72  74  76  78\n",
              "[39]  80  82  84  86  88  90  92  94  96  98 100"
            ],
            "text/latex": "\\begin{enumerate*}\n\\item 4\n\\item 6\n\\item 8\n\\item 10\n\\item 12\n\\item 14\n\\item 16\n\\item 18\n\\item 20\n\\item 22\n\\item 24\n\\item 26\n\\item 28\n\\item 30\n\\item 32\n\\item 34\n\\item 36\n\\item 38\n\\item 40\n\\item 42\n\\item 44\n\\item 46\n\\item 48\n\\item 50\n\\item 52\n\\item 54\n\\item 56\n\\item 58\n\\item 60\n\\item 62\n\\item 64\n\\item 66\n\\item 68\n\\item 70\n\\item 72\n\\item 74\n\\item 76\n\\item 78\n\\item 80\n\\item 82\n\\item 84\n\\item 86\n\\item 88\n\\item 90\n\\item 92\n\\item 94\n\\item 96\n\\item 98\n\\item 100\n\\end{enumerate*}\n",
            "text/markdown": "1. 4\n2. 6\n3. 8\n4. 10\n5. 12\n6. 14\n7. 16\n8. 18\n9. 20\n10. 22\n11. 24\n12. 26\n13. 28\n14. 30\n15. 32\n16. 34\n17. 36\n18. 38\n19. 40\n20. 42\n21. 44\n22. 46\n23. 48\n24. 50\n25. 52\n26. 54\n27. 56\n28. 58\n29. 60\n30. 62\n31. 64\n32. 66\n33. 68\n34. 70\n35. 72\n36. 74\n37. 76\n38. 78\n39. 80\n40. 82\n41. 84\n42. 86\n43. 88\n44. 90\n45. 92\n46. 94\n47. 96\n48. 98\n49. 100\n\n\n",
            "text/html": [
              "<style>\n",
              ".list-inline {list-style: none; margin:0; padding: 0}\n",
              ".list-inline>li {display: inline-block}\n",
              ".list-inline>li:not(:last-child)::after {content: \"\\00b7\"; padding: 0 .5ex}\n",
              "</style>\n",
              "<ol class=list-inline><li>4</li><li>6</li><li>8</li><li>10</li><li>12</li><li>14</li><li>16</li><li>18</li><li>20</li><li>22</li><li>24</li><li>26</li><li>28</li><li>30</li><li>32</li><li>34</li><li>36</li><li>38</li><li>40</li><li>42</li><li>44</li><li>46</li><li>48</li><li>50</li><li>52</li><li>54</li><li>56</li><li>58</li><li>60</li><li>62</li><li>64</li><li>66</li><li>68</li><li>70</li><li>72</li><li>74</li><li>76</li><li>78</li><li>80</li><li>82</li><li>84</li><li>86</li><li>88</li><li>90</li><li>92</li><li>94</li><li>96</li><li>98</li><li>100</li></ol>\n"
            ]
          },
          "metadata": {
            "tags": []
          }
        }
      ]
    },
    {
      "cell_type": "code",
      "metadata": {
        "id": "jiuRJOI8l9My",
        "outputId": "7145701a-aaf8-4540-ea16-2a16e578f955",
        "colab": {
          "base_uri": "https://localhost:8080/",
          "height": 0
        }
      },
      "source": [
        "x = rnorm(100) #generate 100 normal-distributed (Gaussain) random nubmers \n",
        "y = x + rnorm(100)*10 # y is a linear transformation of x with some Gaussain noise\n",
        "m = lm( y ~ x)\n",
        "plot( y ~ x)\n",
        "abline(m, col='red')"
      ],
      "execution_count": 202,
      "outputs": [
        {
          "output_type": "display_data",
          "data": {
            "image/png": "[encoded data removed]",
            "text/plain": [
              "plot without title"
            ]
          },
          "metadata": {
            "tags": [],
            "image/png": {
              "width": 420,
              "height": 420
            }
          }
        }
      ]
    },
    {
      "cell_type": "markdown",
      "metadata": {
        "id": "L1nyF9Nsxzub"
      },
      "source": [
        "Indexing of elements in a vector"
      ]
    },
    {
      "cell_type": "code",
      "metadata": {
        "id": "ognrpbuPxn_O",
        "outputId": "6976f1d6-3655-422a-b6c3-9f57d93dd377",
        "colab": {
          "base_uri": "https://localhost:8080/",
          "height": 0
        }
      },
      "source": [
        "x[1]\n",
        "x[2]\n",
        "x[1:5]\n",
        "x[c(1, 3, 7, 10)]"
      ],
      "execution_count": 203,
      "outputs": [
        {
          "output_type": "display_data",
          "data": {
            "text/plain": [
              "[1] 0.1429935"
            ],
            "text/latex": "0.142993517610627",
            "text/markdown": "0.142993517610627",
            "text/html": [
              "0.142993517610627"
            ]
          },
          "metadata": {
            "tags": []
          }
        },
        {
          "output_type": "display_data",
          "data": {
            "text/plain": [
              "[1] 0.73795"
            ],
            "text/latex": "0.737950002661444",
            "text/markdown": "0.737950002661444",
            "text/html": [
              "0.737950002661444"
            ]
          },
          "metadata": {
            "tags": []
          }
        },
        {
          "output_type": "display_data",
          "data": {
            "text/plain": [
              "[1]  0.1429935  0.7379500  1.3085850 -0.3352295  1.2115276"
            ],
            "text/latex": "\\begin{enumerate*}\n\\item 0.142993517610627\n\\item 0.737950002661444\n\\item 1.30858496202575\n\\item -0.335229527954772\n\\item 1.21152764056404\n\\end{enumerate*}\n",
            "text/markdown": "1. 0.142993517610627\n2. 0.737950002661444\n3. 1.30858496202575\n4. -0.335229527954772\n5. 1.21152764056404\n\n\n",
            "text/html": [
              "<style>\n",
              ".list-inline {list-style: none; margin:0; padding: 0}\n",
              ".list-inline>li {display: inline-block}\n",
              ".list-inline>li:not(:last-child)::after {content: \"\\00b7\"; padding: 0 .5ex}\n",
              "</style>\n",
              "<ol class=list-inline><li>0.142993517610627</li><li>0.737950002661444</li><li>1.30858496202575</li><li>-0.335229527954772</li><li>1.21152764056404</li></ol>\n"
            ]
          },
          "metadata": {
            "tags": []
          }
        },
        {
          "output_type": "display_data",
          "data": {
            "text/plain": [
              "[1] 0.1429935 1.3085850 0.2015729 0.1089637"
            ],
            "text/latex": "\\begin{enumerate*}\n\\item 0.142993517610627\n\\item 1.30858496202575\n\\item 0.201572871619628\n\\item 0.108963742645953\n\\end{enumerate*}\n",
            "text/markdown": "1. 0.142993517610627\n2. 1.30858496202575\n3. 0.201572871619628\n4. 0.108963742645953\n\n\n",
            "text/html": [
              "<style>\n",
              ".list-inline {list-style: none; margin:0; padding: 0}\n",
              ".list-inline>li {display: inline-block}\n",
              ".list-inline>li:not(:last-child)::after {content: \"\\00b7\"; padding: 0 .5ex}\n",
              "</style>\n",
              "<ol class=list-inline><li>0.142993517610627</li><li>1.30858496202575</li><li>0.201572871619628</li><li>0.108963742645953</li></ol>\n"
            ]
          },
          "metadata": {
            "tags": []
          }
        }
      ]
    },
    {
      "cell_type": "markdown",
      "metadata": {
        "id": "xyOelyLEx_R6"
      },
      "source": [
        "## Dataframe, indexing"
      ]
    },
    {
      "cell_type": "code",
      "metadata": {
        "id": "hqBKfWmS3FIw",
        "outputId": "841ec2a7-07b0-4a90-9106-d3733f152464",
        "colab": {
          "base_uri": "https://localhost:8080/",
          "height": 0
        }
      },
      "source": [
        "tb = data.frame( cbind(x, y))\n",
        "head(tb)"
      ],
      "execution_count": 204,
      "outputs": [
        {
          "output_type": "display_data",
          "data": {
            "text/plain": [
              "  x          y        \n",
              "1  0.1429935 10.701562\n",
              "2  0.7379500 17.344866\n",
              "3  1.3085850 -4.062299\n",
              "4 -0.3352295 13.686287\n",
              "5  1.2115276  4.028820\n",
              "6 -0.8912985  3.338774"
            ],
            "text/latex": "A data.frame: 6 × 2\n\\begin{tabular}{r|ll}\n  & x & y\\\\\n  & <dbl> & <dbl>\\\\\n\\hline\n\t1 &  0.1429935 & 10.701562\\\\\n\t2 &  0.7379500 & 17.344866\\\\\n\t3 &  1.3085850 & -4.062299\\\\\n\t4 & -0.3352295 & 13.686287\\\\\n\t5 &  1.2115276 &  4.028820\\\\\n\t6 & -0.8912985 &  3.338774\\\\\n\\end{tabular}\n",
            "text/markdown": "\nA data.frame: 6 × 2\n\n| <!--/--> | x &lt;dbl&gt; | y &lt;dbl&gt; |\n|---|---|---|\n| 1 |  0.1429935 | 10.701562 |\n| 2 |  0.7379500 | 17.344866 |\n| 3 |  1.3085850 | -4.062299 |\n| 4 | -0.3352295 | 13.686287 |\n| 5 |  1.2115276 |  4.028820 |\n| 6 | -0.8912985 |  3.338774 |\n\n",
            "text/html": [
              "<table>\n",
              "<caption>A data.frame: 6 × 2</caption>\n",
              "<thead>\n",
              "\t<tr><th></th><th scope=col>x</th><th scope=col>y</th></tr>\n",
              "\t<tr><th></th><th scope=col>&lt;dbl&gt;</th><th scope=col>&lt;dbl&gt;</th></tr>\n",
              "</thead>\n",
              "<tbody>\n",
              "\t<tr><th scope=row>1</th><td> 0.1429935</td><td>10.701562</td></tr>\n",
              "\t<tr><th scope=row>2</th><td> 0.7379500</td><td>17.344866</td></tr>\n",
              "\t<tr><th scope=row>3</th><td> 1.3085850</td><td>-4.062299</td></tr>\n",
              "\t<tr><th scope=row>4</th><td>-0.3352295</td><td>13.686287</td></tr>\n",
              "\t<tr><th scope=row>5</th><td> 1.2115276</td><td> 4.028820</td></tr>\n",
              "\t<tr><th scope=row>6</th><td>-0.8912985</td><td> 3.338774</td></tr>\n",
              "</tbody>\n",
              "</table>\n"
            ]
          },
          "metadata": {
            "tags": []
          }
        }
      ]
    },
    {
      "cell_type": "code",
      "metadata": {
        "id": "otmozr9pyJKH",
        "outputId": "b97a4783-5cfe-443b-b6f6-1b42437a1498",
        "colab": {
          "base_uri": "https://localhost:8080/",
          "height": 0
        }
      },
      "source": [
        "tb[1,] #first row"
      ],
      "execution_count": 205,
      "outputs": [
        {
          "output_type": "display_data",
          "data": {
            "text/plain": [
              "  x         y       \n",
              "1 0.1429935 10.70156"
            ],
            "text/latex": "A data.frame: 1 × 2\n\\begin{tabular}{r|ll}\n  & x & y\\\\\n  & <dbl> & <dbl>\\\\\n\\hline\n\t1 & 0.1429935 & 10.70156\\\\\n\\end{tabular}\n",
            "text/markdown": "\nA data.frame: 1 × 2\n\n| <!--/--> | x &lt;dbl&gt; | y &lt;dbl&gt; |\n|---|---|---|\n| 1 | 0.1429935 | 10.70156 |\n\n",
            "text/html": [
              "<table>\n",
              "<caption>A data.frame: 1 × 2</caption>\n",
              "<thead>\n",
              "\t<tr><th></th><th scope=col>x</th><th scope=col>y</th></tr>\n",
              "\t<tr><th></th><th scope=col>&lt;dbl&gt;</th><th scope=col>&lt;dbl&gt;</th></tr>\n",
              "</thead>\n",
              "<tbody>\n",
              "\t<tr><th scope=row>1</th><td>0.1429935</td><td>10.70156</td></tr>\n",
              "</tbody>\n",
              "</table>\n"
            ]
          },
          "metadata": {
            "tags": []
          }
        }
      ]
    },
    {
      "cell_type": "code",
      "metadata": {
        "id": "_3hFV-LyyMOe",
        "outputId": "bb8b7bb4-f4c2-4598-fde1-b903fdd0bbfc",
        "colab": {
          "base_uri": "https://localhost:8080/",
          "height": 0
        }
      },
      "source": [
        "tb[, 2] #second column"
      ],
      "execution_count": 206,
      "outputs": [
        {
          "output_type": "display_data",
          "data": {
            "text/plain": [
              "  [1]  10.7015616  17.3448658  -4.0622991  13.6862867   4.0288201   3.3387738\n",
              "  [7]  -4.7143218  19.6759985   9.5607704   4.1433779 -11.5758187  -0.4606809\n",
              " [13]   3.3258036  -3.9262794  -4.2759290   1.1978469  -0.4959873  -4.0480171\n",
              " [19]  14.9749621  17.0234810   9.1162713  14.7467228  -9.4312827 -23.2137221\n",
              " [25]  -0.4777823   5.9398931   0.2881496 -10.9990192 -13.9746483  -9.9998272\n",
              " [31]  -0.7523920  -2.4381818   2.8341745  -7.9047129  12.9620622  -0.6352721\n",
              " [37]  12.5590778  -0.2595734  -2.3093724  -2.0405020   3.7917238   4.7229586\n",
              " [43]  11.7159095  -5.1808912  -8.7914532   8.7218938  10.6532064 -10.8489326\n",
              " [49]   0.4313170   0.0281315 -13.3663515   4.2510482   6.6750715  -0.5806478\n",
              " [55] -17.9265839  -3.0388421  -7.1931576  -3.4916112   2.2020098 -11.8106172\n",
              " [61]  10.2759554   6.5081328 -24.0848411   6.4816473  10.8024298  10.2058561\n",
              " [67]  12.2292415  -2.5642055   2.5832715  12.8827420  16.6269417  10.5969497\n",
              " [73]  -3.6338340  19.1867518  15.7966141  -7.2553584  -4.1915638  11.0048561\n",
              " [79]   7.6785398  16.9430781  -1.9927592  -4.0534037  11.9520107   1.7228282\n",
              " [85]  -0.4979706   2.3442538 -10.5000450  14.0115596  -3.1335672 -10.9095457\n",
              " [91]  -1.7311407  -1.0130101 -10.5237482  -0.3651537  -7.6774692   2.9875617\n",
              " [97]  -5.4525635  -2.3492684   1.7524248  14.9210579"
            ],
            "text/latex": "\\begin{enumerate*}\n\\item 10.7015616164894\n\\item 17.344865835187\n\\item -4.06229906930102\n\\item 13.6862867429911\n\\item 4.02882011593857\n\\item 3.33877380613994\n\\item -4.71432176116286\n\\item 19.67599846663\n\\item 9.56077036506596\n\\item 4.14337789971967\n\\item -11.5758187074037\n\\item -0.460680933610099\n\\item 3.32580355957022\n\\item -3.92627937460027\n\\item -4.27592903537918\n\\item 1.19784685441316\n\\item -0.495987305754946\n\\item -4.04801706740373\n\\item 14.9749620547717\n\\item 17.0234809988184\n\\item 9.11627131170387\n\\item 14.7467228168017\n\\item -9.43128269228187\n\\item -23.2137221465613\n\\item -0.47778230705315\n\\item 5.93989309102848\n\\item 0.28814956330407\n\\item -10.9990191742637\n\\item -13.9746483487277\n\\item -9.99982721914778\n\\item -0.752391976475568\n\\item -2.43818184220359\n\\item 2.83417447936089\n\\item -7.9047128509659\n\\item 12.9620621547356\n\\item -0.635272121880146\n\\item 12.5590777535237\n\\item -0.259573383382153\n\\item -2.30937235224417\n\\item -2.04050198786946\n\\item 3.79172375207258\n\\item 4.72295858956723\n\\item 11.7159095152883\n\\item -5.18089117773036\n\\item -8.79145324337131\n\\item 8.72189382825823\n\\item 10.653206397762\n\\item -10.8489326318497\n\\item 0.43131695746544\n\\item 0.0281315039507263\n\\item -13.3663514910483\n\\item 4.25104824338052\n\\item 6.67507152366478\n\\item -0.580647849095487\n\\item -17.9265838970779\n\\item -3.03884207208879\n\\item -7.19315757267188\n\\item -3.49161119992386\n\\item 2.20200984343862\n\\item -11.810617176046\n\\item 10.2759554215606\n\\item 6.50813275461965\n\\item -24.0848410791431\n\\item 6.48164732009411\n\\item 10.8024298465658\n\\item 10.2058560997955\n\\item 12.2292415055759\n\\item -2.56420554665507\n\\item 2.58327153014916\n\\item 12.882741972462\n\\item 16.6269417242326\n\\item 10.5969496828034\n\\item -3.63383401280104\n\\item 19.1867518415462\n\\item 15.7966140845579\n\\item -7.25535843695092\n\\item -4.19156379695264\n\\item 11.0048560678857\n\\item 7.67853981394249\n\\item 16.9430780806665\n\\item -1.99275916346171\n\\item -4.05340372638862\n\\item 11.9520107323724\n\\item 1.72282822457741\n\\item -0.497970558328532\n\\item 2.3442538065464\n\\item -10.5000449817205\n\\item 14.0115595776023\n\\item -3.13356724281422\n\\item -10.9095456885815\n\\item -1.73114068220542\n\\item -1.01301012767282\n\\item -10.5237481892681\n\\item -0.3651536842992\n\\item -7.67746920495779\n\\item 2.98756168505239\n\\item -5.45256350147571\n\\item -2.34926843535114\n\\item 1.7524247639409\n\\item 14.921057948284\n\\end{enumerate*}\n",
            "text/markdown": "1. 10.7015616164894\n2. 17.344865835187\n3. -4.06229906930102\n4. 13.6862867429911\n5. 4.02882011593857\n6. 3.33877380613994\n7. -4.71432176116286\n8. 19.67599846663\n9. 9.56077036506596\n10. 4.14337789971967\n11. -11.5758187074037\n12. -0.460680933610099\n13. 3.32580355957022\n14. -3.92627937460027\n15. -4.27592903537918\n16. 1.19784685441316\n17. -0.495987305754946\n18. -4.04801706740373\n19. 14.9749620547717\n20. 17.0234809988184\n21. 9.11627131170387\n22. 14.7467228168017\n23. -9.43128269228187\n24. -23.2137221465613\n25. -0.47778230705315\n26. 5.93989309102848\n27. 0.28814956330407\n28. -10.9990191742637\n29. -13.9746483487277\n30. -9.99982721914778\n31. -0.752391976475568\n32. -2.43818184220359\n33. 2.83417447936089\n34. -7.9047128509659\n35. 12.9620621547356\n36. -0.635272121880146\n37. 12.5590777535237\n38. -0.259573383382153\n39. -2.30937235224417\n40. -2.04050198786946\n41. 3.79172375207258\n42. 4.72295858956723\n43. 11.7159095152883\n44. -5.18089117773036\n45. -8.79145324337131\n46. 8.72189382825823\n47. 10.653206397762\n48. -10.8489326318497\n49. 0.43131695746544\n50. 0.0281315039507263\n51. -13.3663514910483\n52. 4.25104824338052\n53. 6.67507152366478\n54. -0.580647849095487\n55. -17.9265838970779\n56. -3.03884207208879\n57. -7.19315757267188\n58. -3.49161119992386\n59. 2.20200984343862\n60. -11.810617176046\n61. 10.2759554215606\n62. 6.50813275461965\n63. -24.0848410791431\n64. 6.48164732009411\n65. 10.8024298465658\n66. 10.2058560997955\n67. 12.2292415055759\n68. -2.56420554665507\n69. 2.58327153014916\n70. 12.882741972462\n71. 16.6269417242326\n72. 10.5969496828034\n73. -3.63383401280104\n74. 19.1867518415462\n75. 15.7966140845579\n76. -7.25535843695092\n77. -4.19156379695264\n78. 11.0048560678857\n79. 7.67853981394249\n80. 16.9430780806665\n81. -1.99275916346171\n82. -4.05340372638862\n83. 11.9520107323724\n84. 1.72282822457741\n85. -0.497970558328532\n86. 2.3442538065464\n87. -10.5000449817205\n88. 14.0115595776023\n89. -3.13356724281422\n90. -10.9095456885815\n91. -1.73114068220542\n92. -1.01301012767282\n93. -10.5237481892681\n94. -0.3651536842992\n95. -7.67746920495779\n96. 2.98756168505239\n97. -5.45256350147571\n98. -2.34926843535114\n99. 1.7524247639409\n100. 14.921057948284\n\n\n",
            "text/html": [
              "<style>\n",
              ".list-inline {list-style: none; margin:0; padding: 0}\n",
              ".list-inline>li {display: inline-block}\n",
              ".list-inline>li:not(:last-child)::after {content: \"\\00b7\"; padding: 0 .5ex}\n",
              "</style>\n",
              "<ol class=list-inline><li>10.7015616164894</li><li>17.344865835187</li><li>-4.06229906930102</li><li>13.6862867429911</li><li>4.02882011593857</li><li>3.33877380613994</li><li>-4.71432176116286</li><li>19.67599846663</li><li>9.56077036506596</li><li>4.14337789971967</li><li>-11.5758187074037</li><li>-0.460680933610099</li><li>3.32580355957022</li><li>-3.92627937460027</li><li>-4.27592903537918</li><li>1.19784685441316</li><li>-0.495987305754946</li><li>-4.04801706740373</li><li>14.9749620547717</li><li>17.0234809988184</li><li>9.11627131170387</li><li>14.7467228168017</li><li>-9.43128269228187</li><li>-23.2137221465613</li><li>-0.47778230705315</li><li>5.93989309102848</li><li>0.28814956330407</li><li>-10.9990191742637</li><li>-13.9746483487277</li><li>-9.99982721914778</li><li>-0.752391976475568</li><li>-2.43818184220359</li><li>2.83417447936089</li><li>-7.9047128509659</li><li>12.9620621547356</li><li>-0.635272121880146</li><li>12.5590777535237</li><li>-0.259573383382153</li><li>-2.30937235224417</li><li>-2.04050198786946</li><li>3.79172375207258</li><li>4.72295858956723</li><li>11.7159095152883</li><li>-5.18089117773036</li><li>-8.79145324337131</li><li>8.72189382825823</li><li>10.653206397762</li><li>-10.8489326318497</li><li>0.43131695746544</li><li>0.0281315039507263</li><li>-13.3663514910483</li><li>4.25104824338052</li><li>6.67507152366478</li><li>-0.580647849095487</li><li>-17.9265838970779</li><li>-3.03884207208879</li><li>-7.19315757267188</li><li>-3.49161119992386</li><li>2.20200984343862</li><li>-11.810617176046</li><li>10.2759554215606</li><li>6.50813275461965</li><li>-24.0848410791431</li><li>6.48164732009411</li><li>10.8024298465658</li><li>10.2058560997955</li><li>12.2292415055759</li><li>-2.56420554665507</li><li>2.58327153014916</li><li>12.882741972462</li><li>16.6269417242326</li><li>10.5969496828034</li><li>-3.63383401280104</li><li>19.1867518415462</li><li>15.7966140845579</li><li>-7.25535843695092</li><li>-4.19156379695264</li><li>11.0048560678857</li><li>7.67853981394249</li><li>16.9430780806665</li><li>-1.99275916346171</li><li>-4.05340372638862</li><li>11.9520107323724</li><li>1.72282822457741</li><li>-0.497970558328532</li><li>2.3442538065464</li><li>-10.5000449817205</li><li>14.0115595776023</li><li>-3.13356724281422</li><li>-10.9095456885815</li><li>-1.73114068220542</li><li>-1.01301012767282</li><li>-10.5237481892681</li><li>-0.3651536842992</li><li>-7.67746920495779</li><li>2.98756168505239</li><li>-5.45256350147571</li><li>-2.34926843535114</li><li>1.7524247639409</li><li>14.921057948284</li></ol>\n"
            ]
          },
          "metadata": {
            "tags": []
          }
        }
      ]
    },
    {
      "cell_type": "code",
      "metadata": {
        "id": "NVQhWnUuyTne",
        "outputId": "035eeebc-97d3-4e3e-b5ec-95c229328dd7",
        "colab": {
          "base_uri": "https://localhost:8080/",
          "height": 0
        }
      },
      "source": [
        "tb[1:5, 1:2] #first 5 rows, two columns"
      ],
      "execution_count": 207,
      "outputs": [
        {
          "output_type": "display_data",
          "data": {
            "text/plain": [
              "  x          y        \n",
              "1  0.1429935 10.701562\n",
              "2  0.7379500 17.344866\n",
              "3  1.3085850 -4.062299\n",
              "4 -0.3352295 13.686287\n",
              "5  1.2115276  4.028820"
            ],
            "text/latex": "A data.frame: 5 × 2\n\\begin{tabular}{r|ll}\n  & x & y\\\\\n  & <dbl> & <dbl>\\\\\n\\hline\n\t1 &  0.1429935 & 10.701562\\\\\n\t2 &  0.7379500 & 17.344866\\\\\n\t3 &  1.3085850 & -4.062299\\\\\n\t4 & -0.3352295 & 13.686287\\\\\n\t5 &  1.2115276 &  4.028820\\\\\n\\end{tabular}\n",
            "text/markdown": "\nA data.frame: 5 × 2\n\n| <!--/--> | x &lt;dbl&gt; | y &lt;dbl&gt; |\n|---|---|---|\n| 1 |  0.1429935 | 10.701562 |\n| 2 |  0.7379500 | 17.344866 |\n| 3 |  1.3085850 | -4.062299 |\n| 4 | -0.3352295 | 13.686287 |\n| 5 |  1.2115276 |  4.028820 |\n\n",
            "text/html": [
              "<table>\n",
              "<caption>A data.frame: 5 × 2</caption>\n",
              "<thead>\n",
              "\t<tr><th></th><th scope=col>x</th><th scope=col>y</th></tr>\n",
              "\t<tr><th></th><th scope=col>&lt;dbl&gt;</th><th scope=col>&lt;dbl&gt;</th></tr>\n",
              "</thead>\n",
              "<tbody>\n",
              "\t<tr><th scope=row>1</th><td> 0.1429935</td><td>10.701562</td></tr>\n",
              "\t<tr><th scope=row>2</th><td> 0.7379500</td><td>17.344866</td></tr>\n",
              "\t<tr><th scope=row>3</th><td> 1.3085850</td><td>-4.062299</td></tr>\n",
              "\t<tr><th scope=row>4</th><td>-0.3352295</td><td>13.686287</td></tr>\n",
              "\t<tr><th scope=row>5</th><td> 1.2115276</td><td> 4.028820</td></tr>\n",
              "</tbody>\n",
              "</table>\n"
            ]
          },
          "metadata": {
            "tags": []
          }
        }
      ]
    },
    {
      "cell_type": "markdown",
      "metadata": {
        "id": "AI31CZTcP-tr"
      },
      "source": [
        "## Load libries"
      ]
    },
    {
      "cell_type": "code",
      "metadata": {
        "id": "z5ptIUvflz8F",
        "outputId": "507e64bd-f7cd-41d6-e3ae-ac4379e2ceaf",
        "colab": {
          "base_uri": "https://localhost:8080/",
          "height": 0
        }
      },
      "source": [
        "install.packages('reshape2')\n",
        "library(tidyverse)\n",
        "library(lubridate)\n",
        "library(reshape2)\n",
        "library(ggplot2)\n",
        "library(dplyr)"
      ],
      "execution_count": 208,
      "outputs": [
        {
          "output_type": "stream",
          "text": [
            "Installing package into ‘/usr/local/lib/R/site-library’\n",
            "(as ‘lib’ is unspecified)\n",
            "\n"
          ],
          "name": "stderr"
        }
      ]
    },
    {
      "cell_type": "markdown",
      "metadata": {
        "id": "vopePx99lWIQ"
      },
      "source": [
        "## Dataframe \n",
        "\n",
        "A dataframe can be considered a spreadsheet. "
      ]
    },
    {
      "cell_type": "code",
      "metadata": {
        "id": "i2NI236KSk3V",
        "outputId": "3bd122d3-3990-4d13-f1f1-fe28f20fcf4e",
        "colab": {
          "base_uri": "https://localhost:8080/",
          "height": 0
        }
      },
      "source": [
        "ggplot(tb, aes(x=x, y=y)) + geom_point() + geom_smooth()"
      ],
      "execution_count": 209,
      "outputs": [
        {
          "output_type": "stream",
          "text": [
            "`geom_smooth()` using method = 'loess' and formula 'y ~ x'\n",
            "\n"
          ],
          "name": "stderr"
        },
        {
          "output_type": "display_data",
          "data": {
            "image/png": "[encoded data removed]",
            "text/plain": [
              "plot without title"
            ]
          },
          "metadata": {
            "tags": [],
            "image/png": {
              "width": 420,
              "height": 420
            }
          }
        }
      ]
    },
    {
      "cell_type": "markdown",
      "metadata": {
        "id": "CR1NT8J72jeo"
      },
      "source": [
        "mydate is a dataframe (like Phython dataframe)\n",
        "\n",
        "\n",
        "\n"
      ]
    },
    {
      "cell_type": "code",
      "metadata": {
        "id": "pfvnZZ9HmCi2",
        "outputId": "fe0ef9c1-d57e-4c53-df16-e8c15efcaa96",
        "colab": {
          "base_uri": "https://localhost:8080/",
          "height": 0
        }
      },
      "source": [
        "ggplot(tb, aes(x=x, y=y)) + geom_point() + stat_smooth(span=0.2)"
      ],
      "execution_count": 210,
      "outputs": [
        {
          "output_type": "stream",
          "text": [
            "`geom_smooth()` using method = 'loess' and formula 'y ~ x'\n",
            "\n"
          ],
          "name": "stderr"
        },
        {
          "output_type": "display_data",
          "data": {
            "image/png": "[encoded data removed]",
            "text/plain": [
              "plot without title"
            ]
          },
          "metadata": {
            "tags": [],
            "image/png": {
              "width": 420,
              "height": 420
            }
          }
        }
      ]
    },
    {
      "cell_type": "markdown",
      "metadata": {
        "id": "exYs_gOSyh4G"
      },
      "source": [
        "## Read a spread sheet"
      ]
    },
    {
      "cell_type": "code",
      "metadata": {
        "id": "R5e2KC0-ylf_",
        "outputId": "be7c2853-730a-4192-95c9-375fd30e9aeb",
        "colab": {
          "base_uri": "https://localhost:8080/",
          "height": 0
        }
      },
      "source": [
        "tb = read_csv(\"https://raw.githubusercontent.com/hongqin/Use-R-in-CoLab/master/vip-grades.csv\")"
      ],
      "execution_count": 211,
      "outputs": [
        {
          "output_type": "stream",
          "text": [
            "Warning message:\n",
            "“Missing column names filled in: 'X3' [3], 'X4' [4], 'X5' [5], 'X6' [6], 'X7' [7]”\n",
            "Parsed with column specification:\n",
            "cols(\n",
            "  name = \u001b[31mcol_character()\u001b[39m,\n",
            "  Grade = \u001b[32mcol_double()\u001b[39m,\n",
            "  X3 = \u001b[33mcol_logical()\u001b[39m,\n",
            "  X4 = \u001b[33mcol_logical()\u001b[39m,\n",
            "  X5 = \u001b[33mcol_logical()\u001b[39m,\n",
            "  X6 = \u001b[33mcol_logical()\u001b[39m,\n",
            "  X7 = \u001b[33mcol_logical()\u001b[39m\n",
            ")\n",
            "\n"
          ],
          "name": "stderr"
        }
      ]
    },
    {
      "cell_type": "code",
      "metadata": {
        "id": "zmPqAonTylrb",
        "outputId": "325130e4-b830-4fc1-d96a-d2967accdafd",
        "colab": {
          "base_uri": "https://localhost:8080/",
          "height": 0
        }
      },
      "source": [
        "tb"
      ],
      "execution_count": 212,
      "outputs": [
        {
          "output_type": "display_data",
          "data": {
            "text/plain": [
              "   name                  Grade X3 X4 X5 X6 X7\n",
              "1  George Washington      85   NA NA NA NA NA\n",
              "2  John Adams             90   NA NA NA NA NA\n",
              "3  Thomas Jefferson       81   NA NA NA NA NA\n",
              "4  James Madison          92   NA NA NA NA NA\n",
              "5  James Monroe           71   NA NA NA NA NA\n",
              "6  Andrew Jackson         86   NA NA NA NA NA\n",
              "7  James K. Polk          70   NA NA NA NA NA\n",
              "8  Zachary Taylor         88   NA NA NA NA NA\n",
              "9  Millard Fillmore      100   NA NA NA NA NA\n",
              "10 Franklin Pierce        99   NA NA NA NA NA\n",
              "11 James Buchanan         97   NA NA NA NA NA\n",
              "12 Abraham Lincoln        91   NA NA NA NA NA\n",
              "13 Andrew Johnson         83   NA NA NA NA NA\n",
              "14 Ulysses S. Grant       85   NA NA NA NA NA\n",
              "15 Rutherford B. Hayes    78   NA NA NA NA NA\n",
              "16 James Garfield         99   NA NA NA NA NA\n",
              "17 Chester A. Arthur      82   NA NA NA NA NA\n",
              "18 Grover Cleveland       78   NA NA NA NA NA\n",
              "19 Benjamin Harrison      84   NA NA NA NA NA\n",
              "20 Grover Cleveland       73   NA NA NA NA NA\n",
              "21 William McKinley       66   NA NA NA NA NA\n",
              "22 Theodore Roosevelt     92   NA NA NA NA NA\n",
              "23 William Howard Taft    89   NA NA NA NA NA\n",
              "24 Woodrow Wilson         90   NA NA NA NA NA\n",
              "25 Warren G. Harding      79   NA NA NA NA NA\n",
              "26 Calvin Coolidge        81   NA NA NA NA NA\n",
              "27 Herbert Hoover         84   NA NA NA NA NA\n",
              "28 Franklin D. Roosevelt  89   NA NA NA NA NA"
            ],
            "text/latex": "A spec\\_tbl\\_df: 28 × 7\n\\begin{tabular}{lllllll}\n name & Grade & X3 & X4 & X5 & X6 & X7\\\\\n <chr> & <dbl> & <lgl> & <lgl> & <lgl> & <lgl> & <lgl>\\\\\n\\hline\n\t George Washington     &  85 & NA & NA & NA & NA & NA\\\\\n\t John Adams            &  90 & NA & NA & NA & NA & NA\\\\\n\t Thomas Jefferson      &  81 & NA & NA & NA & NA & NA\\\\\n\t James Madison         &  92 & NA & NA & NA & NA & NA\\\\\n\t James Monroe          &  71 & NA & NA & NA & NA & NA\\\\\n\t Andrew Jackson        &  86 & NA & NA & NA & NA & NA\\\\\n\t James K. Polk         &  70 & NA & NA & NA & NA & NA\\\\\n\t Zachary Taylor        &  88 & NA & NA & NA & NA & NA\\\\\n\t Millard Fillmore      & 100 & NA & NA & NA & NA & NA\\\\\n\t Franklin Pierce       &  99 & NA & NA & NA & NA & NA\\\\\n\t James Buchanan        &  97 & NA & NA & NA & NA & NA\\\\\n\t Abraham Lincoln       &  91 & NA & NA & NA & NA & NA\\\\\n\t Andrew Johnson        &  83 & NA & NA & NA & NA & NA\\\\\n\t Ulysses S. Grant      &  85 & NA & NA & NA & NA & NA\\\\\n\t Rutherford B. Hayes   &  78 & NA & NA & NA & NA & NA\\\\\n\t James Garfield        &  99 & NA & NA & NA & NA & NA\\\\\n\t Chester A. Arthur     &  82 & NA & NA & NA & NA & NA\\\\\n\t Grover Cleveland      &  78 & NA & NA & NA & NA & NA\\\\\n\t Benjamin Harrison     &  84 & NA & NA & NA & NA & NA\\\\\n\t Grover Cleveland      &  73 & NA & NA & NA & NA & NA\\\\\n\t William McKinley      &  66 & NA & NA & NA & NA & NA\\\\\n\t Theodore Roosevelt    &  92 & NA & NA & NA & NA & NA\\\\\n\t William Howard Taft   &  89 & NA & NA & NA & NA & NA\\\\\n\t Woodrow Wilson        &  90 & NA & NA & NA & NA & NA\\\\\n\t Warren G. Harding     &  79 & NA & NA & NA & NA & NA\\\\\n\t Calvin Coolidge       &  81 & NA & NA & NA & NA & NA\\\\\n\t Herbert Hoover        &  84 & NA & NA & NA & NA & NA\\\\\n\t Franklin D. Roosevelt &  89 & NA & NA & NA & NA & NA\\\\\n\\end{tabular}\n",
            "text/markdown": "\nA spec_tbl_df: 28 × 7\n\n| name &lt;chr&gt; | Grade &lt;dbl&gt; | X3 &lt;lgl&gt; | X4 &lt;lgl&gt; | X5 &lt;lgl&gt; | X6 &lt;lgl&gt; | X7 &lt;lgl&gt; |\n|---|---|---|---|---|---|---|\n| George Washington     |  85 | NA | NA | NA | NA | NA |\n| John Adams            |  90 | NA | NA | NA | NA | NA |\n| Thomas Jefferson      |  81 | NA | NA | NA | NA | NA |\n| James Madison         |  92 | NA | NA | NA | NA | NA |\n| James Monroe          |  71 | NA | NA | NA | NA | NA |\n| Andrew Jackson        |  86 | NA | NA | NA | NA | NA |\n| James K. Polk         |  70 | NA | NA | NA | NA | NA |\n| Zachary Taylor        |  88 | NA | NA | NA | NA | NA |\n| Millard Fillmore      | 100 | NA | NA | NA | NA | NA |\n| Franklin Pierce       |  99 | NA | NA | NA | NA | NA |\n| James Buchanan        |  97 | NA | NA | NA | NA | NA |\n| Abraham Lincoln       |  91 | NA | NA | NA | NA | NA |\n| Andrew Johnson        |  83 | NA | NA | NA | NA | NA |\n| Ulysses S. Grant      |  85 | NA | NA | NA | NA | NA |\n| Rutherford B. Hayes   |  78 | NA | NA | NA | NA | NA |\n| James Garfield        |  99 | NA | NA | NA | NA | NA |\n| Chester A. Arthur     |  82 | NA | NA | NA | NA | NA |\n| Grover Cleveland      |  78 | NA | NA | NA | NA | NA |\n| Benjamin Harrison     |  84 | NA | NA | NA | NA | NA |\n| Grover Cleveland      |  73 | NA | NA | NA | NA | NA |\n| William McKinley      |  66 | NA | NA | NA | NA | NA |\n| Theodore Roosevelt    |  92 | NA | NA | NA | NA | NA |\n| William Howard Taft   |  89 | NA | NA | NA | NA | NA |\n| Woodrow Wilson        |  90 | NA | NA | NA | NA | NA |\n| Warren G. Harding     |  79 | NA | NA | NA | NA | NA |\n| Calvin Coolidge       |  81 | NA | NA | NA | NA | NA |\n| Herbert Hoover        |  84 | NA | NA | NA | NA | NA |\n| Franklin D. Roosevelt |  89 | NA | NA | NA | NA | NA |\n\n",
            "text/html": [
              "<table>\n",
              "<caption>A spec_tbl_df: 28 × 7</caption>\n",
              "<thead>\n",
              "\t<tr><th scope=col>name</th><th scope=col>Grade</th><th scope=col>X3</th><th scope=col>X4</th><th scope=col>X5</th><th scope=col>X6</th><th scope=col>X7</th></tr>\n",
              "\t<tr><th scope=col>&lt;chr&gt;</th><th scope=col>&lt;dbl&gt;</th><th scope=col>&lt;lgl&gt;</th><th scope=col>&lt;lgl&gt;</th><th scope=col>&lt;lgl&gt;</th><th scope=col>&lt;lgl&gt;</th><th scope=col>&lt;lgl&gt;</th></tr>\n",
              "</thead>\n",
              "<tbody>\n",
              "\t<tr><td>George Washington    </td><td> 85</td><td>NA</td><td>NA</td><td>NA</td><td>NA</td><td>NA</td></tr>\n",
              "\t<tr><td>John Adams           </td><td> 90</td><td>NA</td><td>NA</td><td>NA</td><td>NA</td><td>NA</td></tr>\n",
              "\t<tr><td>Thomas Jefferson     </td><td> 81</td><td>NA</td><td>NA</td><td>NA</td><td>NA</td><td>NA</td></tr>\n",
              "\t<tr><td>James Madison        </td><td> 92</td><td>NA</td><td>NA</td><td>NA</td><td>NA</td><td>NA</td></tr>\n",
              "\t<tr><td>James Monroe         </td><td> 71</td><td>NA</td><td>NA</td><td>NA</td><td>NA</td><td>NA</td></tr>\n",
              "\t<tr><td>Andrew Jackson       </td><td> 86</td><td>NA</td><td>NA</td><td>NA</td><td>NA</td><td>NA</td></tr>\n",
              "\t<tr><td>James K. Polk        </td><td> 70</td><td>NA</td><td>NA</td><td>NA</td><td>NA</td><td>NA</td></tr>\n",
              "\t<tr><td>Zachary Taylor       </td><td> 88</td><td>NA</td><td>NA</td><td>NA</td><td>NA</td><td>NA</td></tr>\n",
              "\t<tr><td>Millard Fillmore     </td><td>100</td><td>NA</td><td>NA</td><td>NA</td><td>NA</td><td>NA</td></tr>\n",
              "\t<tr><td>Franklin Pierce      </td><td> 99</td><td>NA</td><td>NA</td><td>NA</td><td>NA</td><td>NA</td></tr>\n",
              "\t<tr><td>James Buchanan       </td><td> 97</td><td>NA</td><td>NA</td><td>NA</td><td>NA</td><td>NA</td></tr>\n",
              "\t<tr><td>Abraham Lincoln      </td><td> 91</td><td>NA</td><td>NA</td><td>NA</td><td>NA</td><td>NA</td></tr>\n",
              "\t<tr><td>Andrew Johnson       </td><td> 83</td><td>NA</td><td>NA</td><td>NA</td><td>NA</td><td>NA</td></tr>\n",
              "\t<tr><td>Ulysses S. Grant     </td><td> 85</td><td>NA</td><td>NA</td><td>NA</td><td>NA</td><td>NA</td></tr>\n",
              "\t<tr><td>Rutherford B. Hayes  </td><td> 78</td><td>NA</td><td>NA</td><td>NA</td><td>NA</td><td>NA</td></tr>\n",
              "\t<tr><td>James Garfield       </td><td> 99</td><td>NA</td><td>NA</td><td>NA</td><td>NA</td><td>NA</td></tr>\n",
              "\t<tr><td>Chester A. Arthur    </td><td> 82</td><td>NA</td><td>NA</td><td>NA</td><td>NA</td><td>NA</td></tr>\n",
              "\t<tr><td>Grover Cleveland     </td><td> 78</td><td>NA</td><td>NA</td><td>NA</td><td>NA</td><td>NA</td></tr>\n",
              "\t<tr><td>Benjamin Harrison    </td><td> 84</td><td>NA</td><td>NA</td><td>NA</td><td>NA</td><td>NA</td></tr>\n",
              "\t<tr><td>Grover Cleveland     </td><td> 73</td><td>NA</td><td>NA</td><td>NA</td><td>NA</td><td>NA</td></tr>\n",
              "\t<tr><td>William McKinley     </td><td> 66</td><td>NA</td><td>NA</td><td>NA</td><td>NA</td><td>NA</td></tr>\n",
              "\t<tr><td>Theodore Roosevelt   </td><td> 92</td><td>NA</td><td>NA</td><td>NA</td><td>NA</td><td>NA</td></tr>\n",
              "\t<tr><td>William Howard Taft  </td><td> 89</td><td>NA</td><td>NA</td><td>NA</td><td>NA</td><td>NA</td></tr>\n",
              "\t<tr><td>Woodrow Wilson       </td><td> 90</td><td>NA</td><td>NA</td><td>NA</td><td>NA</td><td>NA</td></tr>\n",
              "\t<tr><td>Warren G. Harding    </td><td> 79</td><td>NA</td><td>NA</td><td>NA</td><td>NA</td><td>NA</td></tr>\n",
              "\t<tr><td>Calvin Coolidge      </td><td> 81</td><td>NA</td><td>NA</td><td>NA</td><td>NA</td><td>NA</td></tr>\n",
              "\t<tr><td>Herbert Hoover       </td><td> 84</td><td>NA</td><td>NA</td><td>NA</td><td>NA</td><td>NA</td></tr>\n",
              "\t<tr><td>Franklin D. Roosevelt</td><td> 89</td><td>NA</td><td>NA</td><td>NA</td><td>NA</td><td>NA</td></tr>\n",
              "</tbody>\n",
              "</table>\n"
            ]
          },
          "metadata": {
            "tags": []
          }
        }
      ]
    },
    {
      "cell_type": "markdown",
      "metadata": {
        "id": "Jkf1Jsity7ty"
      },
      "source": [
        "### Pick a colum with $ or index"
      ]
    },
    {
      "cell_type": "code",
      "metadata": {
        "id": "oVdRdP7Vy5VJ",
        "outputId": "d2679a3c-d85d-498d-fd5e-ea7ff75fbdf6",
        "colab": {
          "base_uri": "https://localhost:8080/",
          "height": 0
        }
      },
      "source": [
        "tb$Grade"
      ],
      "execution_count": 213,
      "outputs": [
        {
          "output_type": "display_data",
          "data": {
            "text/plain": [
              " [1]  85  90  81  92  71  86  70  88 100  99  97  91  83  85  78  99  82  78  84\n",
              "[20]  73  66  92  89  90  79  81  84  89"
            ],
            "text/latex": "\\begin{enumerate*}\n\\item 85\n\\item 90\n\\item 81\n\\item 92\n\\item 71\n\\item 86\n\\item 70\n\\item 88\n\\item 100\n\\item 99\n\\item 97\n\\item 91\n\\item 83\n\\item 85\n\\item 78\n\\item 99\n\\item 82\n\\item 78\n\\item 84\n\\item 73\n\\item 66\n\\item 92\n\\item 89\n\\item 90\n\\item 79\n\\item 81\n\\item 84\n\\item 89\n\\end{enumerate*}\n",
            "text/markdown": "1. 85\n2. 90\n3. 81\n4. 92\n5. 71\n6. 86\n7. 70\n8. 88\n9. 100\n10. 99\n11. 97\n12. 91\n13. 83\n14. 85\n15. 78\n16. 99\n17. 82\n18. 78\n19. 84\n20. 73\n21. 66\n22. 92\n23. 89\n24. 90\n25. 79\n26. 81\n27. 84\n28. 89\n\n\n",
            "text/html": [
              "<style>\n",
              ".list-inline {list-style: none; margin:0; padding: 0}\n",
              ".list-inline>li {display: inline-block}\n",
              ".list-inline>li:not(:last-child)::after {content: \"\\00b7\"; padding: 0 .5ex}\n",
              "</style>\n",
              "<ol class=list-inline><li>85</li><li>90</li><li>81</li><li>92</li><li>71</li><li>86</li><li>70</li><li>88</li><li>100</li><li>99</li><li>97</li><li>91</li><li>83</li><li>85</li><li>78</li><li>99</li><li>82</li><li>78</li><li>84</li><li>73</li><li>66</li><li>92</li><li>89</li><li>90</li><li>79</li><li>81</li><li>84</li><li>89</li></ol>\n"
            ]
          },
          "metadata": {
            "tags": []
          }
        }
      ]
    },
    {
      "cell_type": "code",
      "metadata": {
        "id": "zRkrTnWQy5Zp",
        "outputId": "7ec6c661-1922-4e8f-bac9-c15ad1b25153",
        "colab": {
          "base_uri": "https://localhost:8080/",
          "height": 0
        }
      },
      "source": [
        "tb[, 2]"
      ],
      "execution_count": 214,
      "outputs": [
        {
          "output_type": "display_data",
          "data": {
            "text/plain": [
              "   Grade\n",
              "1   85  \n",
              "2   90  \n",
              "3   81  \n",
              "4   92  \n",
              "5   71  \n",
              "6   86  \n",
              "7   70  \n",
              "8   88  \n",
              "9  100  \n",
              "10  99  \n",
              "11  97  \n",
              "12  91  \n",
              "13  83  \n",
              "14  85  \n",
              "15  78  \n",
              "16  99  \n",
              "17  82  \n",
              "18  78  \n",
              "19  84  \n",
              "20  73  \n",
              "21  66  \n",
              "22  92  \n",
              "23  89  \n",
              "24  90  \n",
              "25  79  \n",
              "26  81  \n",
              "27  84  \n",
              "28  89  "
            ],
            "text/latex": "A tibble: 28 × 1\n\\begin{tabular}{l}\n Grade\\\\\n <dbl>\\\\\n\\hline\n\t  85\\\\\n\t  90\\\\\n\t  81\\\\\n\t  92\\\\\n\t  71\\\\\n\t  86\\\\\n\t  70\\\\\n\t  88\\\\\n\t 100\\\\\n\t  99\\\\\n\t  97\\\\\n\t  91\\\\\n\t  83\\\\\n\t  85\\\\\n\t  78\\\\\n\t  99\\\\\n\t  82\\\\\n\t  78\\\\\n\t  84\\\\\n\t  73\\\\\n\t  66\\\\\n\t  92\\\\\n\t  89\\\\\n\t  90\\\\\n\t  79\\\\\n\t  81\\\\\n\t  84\\\\\n\t  89\\\\\n\\end{tabular}\n",
            "text/markdown": "\nA tibble: 28 × 1\n\n| Grade &lt;dbl&gt; |\n|---|\n|  85 |\n|  90 |\n|  81 |\n|  92 |\n|  71 |\n|  86 |\n|  70 |\n|  88 |\n| 100 |\n|  99 |\n|  97 |\n|  91 |\n|  83 |\n|  85 |\n|  78 |\n|  99 |\n|  82 |\n|  78 |\n|  84 |\n|  73 |\n|  66 |\n|  92 |\n|  89 |\n|  90 |\n|  79 |\n|  81 |\n|  84 |\n|  89 |\n\n",
            "text/html": [
              "<table>\n",
              "<caption>A tibble: 28 × 1</caption>\n",
              "<thead>\n",
              "\t<tr><th scope=col>Grade</th></tr>\n",
              "\t<tr><th scope=col>&lt;dbl&gt;</th></tr>\n",
              "</thead>\n",
              "<tbody>\n",
              "\t<tr><td> 85</td></tr>\n",
              "\t<tr><td> 90</td></tr>\n",
              "\t<tr><td> 81</td></tr>\n",
              "\t<tr><td> 92</td></tr>\n",
              "\t<tr><td> 71</td></tr>\n",
              "\t<tr><td> 86</td></tr>\n",
              "\t<tr><td> 70</td></tr>\n",
              "\t<tr><td> 88</td></tr>\n",
              "\t<tr><td>100</td></tr>\n",
              "\t<tr><td> 99</td></tr>\n",
              "\t<tr><td> 97</td></tr>\n",
              "\t<tr><td> 91</td></tr>\n",
              "\t<tr><td> 83</td></tr>\n",
              "\t<tr><td> 85</td></tr>\n",
              "\t<tr><td> 78</td></tr>\n",
              "\t<tr><td> 99</td></tr>\n",
              "\t<tr><td> 82</td></tr>\n",
              "\t<tr><td> 78</td></tr>\n",
              "\t<tr><td> 84</td></tr>\n",
              "\t<tr><td> 73</td></tr>\n",
              "\t<tr><td> 66</td></tr>\n",
              "\t<tr><td> 92</td></tr>\n",
              "\t<tr><td> 89</td></tr>\n",
              "\t<tr><td> 90</td></tr>\n",
              "\t<tr><td> 79</td></tr>\n",
              "\t<tr><td> 81</td></tr>\n",
              "\t<tr><td> 84</td></tr>\n",
              "\t<tr><td> 89</td></tr>\n",
              "</tbody>\n",
              "</table>\n"
            ]
          },
          "metadata": {
            "tags": []
          }
        }
      ]
    },
    {
      "cell_type": "markdown",
      "metadata": {
        "id": "wpDfYywizInw"
      },
      "source": [
        "### Pick a row "
      ]
    },
    {
      "cell_type": "code",
      "metadata": {
        "id": "0XHaX0nrzLKb",
        "outputId": "1e15ec0d-726c-40f5-c963-c6c44d36d4ae",
        "colab": {
          "base_uri": "https://localhost:8080/",
          "height": 0
        }
      },
      "source": [
        "tb[1,]"
      ],
      "execution_count": 215,
      "outputs": [
        {
          "output_type": "display_data",
          "data": {
            "text/plain": [
              "  name              Grade X3 X4 X5 X6 X7\n",
              "1 George Washington 85    NA NA NA NA NA"
            ],
            "text/latex": "A tibble: 1 × 7\n\\begin{tabular}{lllllll}\n name & Grade & X3 & X4 & X5 & X6 & X7\\\\\n <chr> & <dbl> & <lgl> & <lgl> & <lgl> & <lgl> & <lgl>\\\\\n\\hline\n\t George Washington & 85 & NA & NA & NA & NA & NA\\\\\n\\end{tabular}\n",
            "text/markdown": "\nA tibble: 1 × 7\n\n| name &lt;chr&gt; | Grade &lt;dbl&gt; | X3 &lt;lgl&gt; | X4 &lt;lgl&gt; | X5 &lt;lgl&gt; | X6 &lt;lgl&gt; | X7 &lt;lgl&gt; |\n|---|---|---|---|---|---|---|\n| George Washington | 85 | NA | NA | NA | NA | NA |\n\n",
            "text/html": [
              "<table>\n",
              "<caption>A tibble: 1 × 7</caption>\n",
              "<thead>\n",
              "\t<tr><th scope=col>name</th><th scope=col>Grade</th><th scope=col>X3</th><th scope=col>X4</th><th scope=col>X5</th><th scope=col>X6</th><th scope=col>X7</th></tr>\n",
              "\t<tr><th scope=col>&lt;chr&gt;</th><th scope=col>&lt;dbl&gt;</th><th scope=col>&lt;lgl&gt;</th><th scope=col>&lt;lgl&gt;</th><th scope=col>&lt;lgl&gt;</th><th scope=col>&lt;lgl&gt;</th><th scope=col>&lt;lgl&gt;</th></tr>\n",
              "</thead>\n",
              "<tbody>\n",
              "\t<tr><td>George Washington</td><td>85</td><td>NA</td><td>NA</td><td>NA</td><td>NA</td><td>NA</td></tr>\n",
              "</tbody>\n",
              "</table>\n"
            ]
          },
          "metadata": {
            "tags": []
          }
        }
      ]
    },
    {
      "cell_type": "code",
      "metadata": {
        "id": "Gqpayf_UzPnd",
        "outputId": "7178f1c8-d9e3-40b0-fada-4986f1f63592",
        "colab": {
          "base_uri": "https://localhost:8080/",
          "height": 0
        }
      },
      "source": [
        "tb %>% dplyr::select( name, Grade )  %>% filter (Grade >= 90)"
      ],
      "execution_count": 216,
      "outputs": [
        {
          "output_type": "display_data",
          "data": {
            "text/plain": [
              "  name               Grade\n",
              "1 John Adams          90  \n",
              "2 James Madison       92  \n",
              "3 Millard Fillmore   100  \n",
              "4 Franklin Pierce     99  \n",
              "5 James Buchanan      97  \n",
              "6 Abraham Lincoln     91  \n",
              "7 James Garfield      99  \n",
              "8 Theodore Roosevelt  92  \n",
              "9 Woodrow Wilson      90  "
            ],
            "text/latex": "A tibble: 9 × 2\n\\begin{tabular}{ll}\n name & Grade\\\\\n <chr> & <dbl>\\\\\n\\hline\n\t John Adams         &  90\\\\\n\t James Madison      &  92\\\\\n\t Millard Fillmore   & 100\\\\\n\t Franklin Pierce    &  99\\\\\n\t James Buchanan     &  97\\\\\n\t Abraham Lincoln    &  91\\\\\n\t James Garfield     &  99\\\\\n\t Theodore Roosevelt &  92\\\\\n\t Woodrow Wilson     &  90\\\\\n\\end{tabular}\n",
            "text/markdown": "\nA tibble: 9 × 2\n\n| name &lt;chr&gt; | Grade &lt;dbl&gt; |\n|---|---|\n| John Adams         |  90 |\n| James Madison      |  92 |\n| Millard Fillmore   | 100 |\n| Franklin Pierce    |  99 |\n| James Buchanan     |  97 |\n| Abraham Lincoln    |  91 |\n| James Garfield     |  99 |\n| Theodore Roosevelt |  92 |\n| Woodrow Wilson     |  90 |\n\n",
            "text/html": [
              "<table>\n",
              "<caption>A tibble: 9 × 2</caption>\n",
              "<thead>\n",
              "\t<tr><th scope=col>name</th><th scope=col>Grade</th></tr>\n",
              "\t<tr><th scope=col>&lt;chr&gt;</th><th scope=col>&lt;dbl&gt;</th></tr>\n",
              "</thead>\n",
              "<tbody>\n",
              "\t<tr><td>John Adams        </td><td> 90</td></tr>\n",
              "\t<tr><td>James Madison     </td><td> 92</td></tr>\n",
              "\t<tr><td>Millard Fillmore  </td><td>100</td></tr>\n",
              "\t<tr><td>Franklin Pierce   </td><td> 99</td></tr>\n",
              "\t<tr><td>James Buchanan    </td><td> 97</td></tr>\n",
              "\t<tr><td>Abraham Lincoln   </td><td> 91</td></tr>\n",
              "\t<tr><td>James Garfield    </td><td> 99</td></tr>\n",
              "\t<tr><td>Theodore Roosevelt</td><td> 92</td></tr>\n",
              "\t<tr><td>Woodrow Wilson    </td><td> 90</td></tr>\n",
              "</tbody>\n",
              "</table>\n"
            ]
          },
          "metadata": {
            "tags": []
          }
        }
      ]
    },
    {
      "cell_type": "code",
      "metadata": {
        "id": "BkAypx5pzeVl",
        "outputId": "9fb1071a-a761-4cb4-b956-85b26786d9f1",
        "colab": {
          "base_uri": "https://localhost:8080/",
          "height": 0
        }
      },
      "source": [
        "tb %>% dplyr::select( 1:2) %>% filter (Grade > 80 & Grade < 90)"
      ],
      "execution_count": 217,
      "outputs": [
        {
          "output_type": "display_data",
          "data": {
            "text/plain": [
              "   name                  Grade\n",
              "1  George Washington     85   \n",
              "2  Thomas Jefferson      81   \n",
              "3  Andrew Jackson        86   \n",
              "4  Zachary Taylor        88   \n",
              "5  Andrew Johnson        83   \n",
              "6  Ulysses S. Grant      85   \n",
              "7  Chester A. Arthur     82   \n",
              "8  Benjamin Harrison     84   \n",
              "9  William Howard Taft   89   \n",
              "10 Calvin Coolidge       81   \n",
              "11 Herbert Hoover        84   \n",
              "12 Franklin D. Roosevelt 89   "
            ],
            "text/latex": "A tibble: 12 × 2\n\\begin{tabular}{ll}\n name & Grade\\\\\n <chr> & <dbl>\\\\\n\\hline\n\t George Washington     & 85\\\\\n\t Thomas Jefferson      & 81\\\\\n\t Andrew Jackson        & 86\\\\\n\t Zachary Taylor        & 88\\\\\n\t Andrew Johnson        & 83\\\\\n\t Ulysses S. Grant      & 85\\\\\n\t Chester A. Arthur     & 82\\\\\n\t Benjamin Harrison     & 84\\\\\n\t William Howard Taft   & 89\\\\\n\t Calvin Coolidge       & 81\\\\\n\t Herbert Hoover        & 84\\\\\n\t Franklin D. Roosevelt & 89\\\\\n\\end{tabular}\n",
            "text/markdown": "\nA tibble: 12 × 2\n\n| name &lt;chr&gt; | Grade &lt;dbl&gt; |\n|---|---|\n| George Washington     | 85 |\n| Thomas Jefferson      | 81 |\n| Andrew Jackson        | 86 |\n| Zachary Taylor        | 88 |\n| Andrew Johnson        | 83 |\n| Ulysses S. Grant      | 85 |\n| Chester A. Arthur     | 82 |\n| Benjamin Harrison     | 84 |\n| William Howard Taft   | 89 |\n| Calvin Coolidge       | 81 |\n| Herbert Hoover        | 84 |\n| Franklin D. Roosevelt | 89 |\n\n",
            "text/html": [
              "<table>\n",
              "<caption>A tibble: 12 × 2</caption>\n",
              "<thead>\n",
              "\t<tr><th scope=col>name</th><th scope=col>Grade</th></tr>\n",
              "\t<tr><th scope=col>&lt;chr&gt;</th><th scope=col>&lt;dbl&gt;</th></tr>\n",
              "</thead>\n",
              "<tbody>\n",
              "\t<tr><td>George Washington    </td><td>85</td></tr>\n",
              "\t<tr><td>Thomas Jefferson     </td><td>81</td></tr>\n",
              "\t<tr><td>Andrew Jackson       </td><td>86</td></tr>\n",
              "\t<tr><td>Zachary Taylor       </td><td>88</td></tr>\n",
              "\t<tr><td>Andrew Johnson       </td><td>83</td></tr>\n",
              "\t<tr><td>Ulysses S. Grant     </td><td>85</td></tr>\n",
              "\t<tr><td>Chester A. Arthur    </td><td>82</td></tr>\n",
              "\t<tr><td>Benjamin Harrison    </td><td>84</td></tr>\n",
              "\t<tr><td>William Howard Taft  </td><td>89</td></tr>\n",
              "\t<tr><td>Calvin Coolidge      </td><td>81</td></tr>\n",
              "\t<tr><td>Herbert Hoover       </td><td>84</td></tr>\n",
              "\t<tr><td>Franklin D. Roosevelt</td><td>89</td></tr>\n",
              "</tbody>\n",
              "</table>\n"
            ]
          },
          "metadata": {
            "tags": []
          }
        }
      ]
    },
    {
      "cell_type": "markdown",
      "metadata": {
        "id": "Pa7qbIOPSixa"
      },
      "source": [
        "## Looking for helps"
      ]
    },
    {
      "cell_type": "code",
      "metadata": {
        "id": "A4kFR72uSk_k"
      },
      "source": [
        "?date"
      ],
      "execution_count": 218,
      "outputs": []
    },
    {
      "cell_type": "code",
      "metadata": {
        "id": "SWeEirLgyfH_"
      },
      "source": [
        ""
      ],
      "execution_count": 219,
      "outputs": []
    },
    {
      "cell_type": "code",
      "metadata": {
        "id": "cCT-pkhwW4T2"
      },
      "source": [
        "help(read_csv)"
      ],
      "execution_count": 220,
      "outputs": []
    },
    {
      "cell_type": "markdown",
      "metadata": {
        "id": "KesAyTiuswzD"
      },
      "source": [
        "# Part 1, Explore the USA county-level data\n",
        "\n",
        "\n",
        "We will go through basic R by exploring the Covid19 data set curated by the Johns Hopkins University. \n",
        "\n",
        "\n"
      ]
    },
    {
      "cell_type": "code",
      "metadata": {
        "id": "Z3dMeqrIUolu",
        "outputId": "9ac7ac1c-6f5e-4dcd-b81d-d1bc306b1abe",
        "colab": {
          "base_uri": "https://localhost:8080/",
          "height": 67
        }
      },
      "source": [
        "install.packages('reshape2')\n",
        "library(tidyverse)\n",
        "library(lubridate)\n",
        "library(reshape2)\n",
        "library(ggplot2)\n",
        "library(dplyr)"
      ],
      "execution_count": 221,
      "outputs": [
        {
          "output_type": "stream",
          "text": [
            "Installing package into ‘/usr/local/lib/R/site-library’\n",
            "(as ‘lib’ is unspecified)\n",
            "\n"
          ],
          "name": "stderr"
        }
      ]
    },
    {
      "cell_type": "markdown",
      "metadata": {
        "id": "6nUw5dNwOSq5"
      },
      "source": [
        "## Load data into DataFrames"
      ]
    },
    {
      "cell_type": "code",
      "metadata": {
        "id": "d6lG1JiMmYqN",
        "outputId": "b56ce35b-35f2-4c0e-cdc7-248e925fd205",
        "colab": {
          "base_uri": "https://localhost:8080/",
          "height": 434
        }
      },
      "source": [
        "# load JHU covid19 data set with tidyverse read_csv\n",
        "# this is the URL for \"view raw \" for csv files on GitHub\n",
        "tb = read_csv(url(\"https://raw.githubusercontent.com/CSSEGISandData/COVID-19/master/csse_covid_19_data/csse_covid_19_time_series/time_series_covid19_confirmed_US.csv\"))\n",
        "#str(tb.jhu) #this is a tibble\n",
        "head(tb)"
      ],
      "execution_count": 222,
      "outputs": [
        {
          "output_type": "stream",
          "text": [
            "Parsed with column specification:\n",
            "cols(\n",
            "  .default = col_double(),\n",
            "  iso2 = \u001b[31mcol_character()\u001b[39m,\n",
            "  iso3 = \u001b[31mcol_character()\u001b[39m,\n",
            "  Admin2 = \u001b[31mcol_character()\u001b[39m,\n",
            "  Province_State = \u001b[31mcol_character()\u001b[39m,\n",
            "  Country_Region = \u001b[31mcol_character()\u001b[39m,\n",
            "  Combined_Key = \u001b[31mcol_character()\u001b[39m\n",
            ")\n",
            "\n",
            "See spec(...) for full column specifications.\n",
            "\n"
          ],
          "name": "stderr"
        },
        {
          "output_type": "display_data",
          "data": {
            "text/plain": [
              "  UID      iso2 iso3 code3 FIPS Admin2  Province_State Country_Region Lat     \n",
              "1 84001001 US   USA  840   1001 Autauga Alabama        US             32.53953\n",
              "2 84001003 US   USA  840   1003 Baldwin Alabama        US             30.72775\n",
              "3 84001005 US   USA  840   1005 Barbour Alabama        US             31.86826\n",
              "4 84001007 US   USA  840   1007 Bibb    Alabama        US             32.99642\n",
              "5 84001009 US   USA  840   1009 Blount  Alabama        US             33.98211\n",
              "6 84001011 US   USA  840   1011 Bullock Alabama        US             32.10031\n",
              "  Long_     ⋯ 10/5/20 10/6/20 10/7/20 10/8/20 10/9/20 10/10/20 10/11/20\n",
              "1 -86.64408 ⋯ 1831    1839    1852    1863    1882    1898     1905    \n",
              "2 -87.72207 ⋯ 6085    6116    6134    6141    6172    6190     6203    \n",
              "3 -85.38713 ⋯  921     923     927     927     939     942      942    \n",
              "4 -87.12511 ⋯  687     691     703     708     719     726      736    \n",
              "5 -86.56791 ⋯ 1662    1665    1673    1681    1689    1704     1713    \n",
              "6 -85.71266 ⋯  613     616     618     619     622     623      624    \n",
              "  10/12/20 10/13/20 10/14/20\n",
              "1 1911     1924     1928    \n",
              "2 6220     6248     6270    \n",
              "3  944      951      950    \n",
              "4  738      744      744    \n",
              "5 1722     1742     1750    \n",
              "6  625      626      628    "
            ],
            "text/latex": "A tibble: 6 × 278\n\\begin{tabular}{lllllllllllllllllllll}\n UID & iso2 & iso3 & code3 & FIPS & Admin2 & Province\\_State & Country\\_Region & Lat & Long\\_ & ⋯ & 10/5/20 & 10/6/20 & 10/7/20 & 10/8/20 & 10/9/20 & 10/10/20 & 10/11/20 & 10/12/20 & 10/13/20 & 10/14/20\\\\\n <dbl> & <chr> & <chr> & <dbl> & <dbl> & <chr> & <chr> & <chr> & <dbl> & <dbl> & ⋯ & <dbl> & <dbl> & <dbl> & <dbl> & <dbl> & <dbl> & <dbl> & <dbl> & <dbl> & <dbl>\\\\\n\\hline\n\t 84001001 & US & USA & 840 & 1001 & Autauga & Alabama & US & 32.53953 & -86.64408 & ⋯ & 1831 & 1839 & 1852 & 1863 & 1882 & 1898 & 1905 & 1911 & 1924 & 1928\\\\\n\t 84001003 & US & USA & 840 & 1003 & Baldwin & Alabama & US & 30.72775 & -87.72207 & ⋯ & 6085 & 6116 & 6134 & 6141 & 6172 & 6190 & 6203 & 6220 & 6248 & 6270\\\\\n\t 84001005 & US & USA & 840 & 1005 & Barbour & Alabama & US & 31.86826 & -85.38713 & ⋯ &  921 &  923 &  927 &  927 &  939 &  942 &  942 &  944 &  951 &  950\\\\\n\t 84001007 & US & USA & 840 & 1007 & Bibb    & Alabama & US & 32.99642 & -87.12511 & ⋯ &  687 &  691 &  703 &  708 &  719 &  726 &  736 &  738 &  744 &  744\\\\\n\t 84001009 & US & USA & 840 & 1009 & Blount  & Alabama & US & 33.98211 & -86.56791 & ⋯ & 1662 & 1665 & 1673 & 1681 & 1689 & 1704 & 1713 & 1722 & 1742 & 1750\\\\\n\t 84001011 & US & USA & 840 & 1011 & Bullock & Alabama & US & 32.10031 & -85.71266 & ⋯ &  613 &  616 &  618 &  619 &  622 &  623 &  624 &  625 &  626 &  628\\\\\n\\end{tabular}\n",
            "text/markdown": "\nA tibble: 6 × 278\n\n| UID &lt;dbl&gt; | iso2 &lt;chr&gt; | iso3 &lt;chr&gt; | code3 &lt;dbl&gt; | FIPS &lt;dbl&gt; | Admin2 &lt;chr&gt; | Province_State &lt;chr&gt; | Country_Region &lt;chr&gt; | Lat &lt;dbl&gt; | Long_ &lt;dbl&gt; | ⋯ ⋯ | 10/5/20 &lt;dbl&gt; | 10/6/20 &lt;dbl&gt; | 10/7/20 &lt;dbl&gt; | 10/8/20 &lt;dbl&gt; | 10/9/20 &lt;dbl&gt; | 10/10/20 &lt;dbl&gt; | 10/11/20 &lt;dbl&gt; | 10/12/20 &lt;dbl&gt; | 10/13/20 &lt;dbl&gt; | 10/14/20 &lt;dbl&gt; |\n|---|---|---|---|---|---|---|---|---|---|---|---|---|---|---|---|---|---|---|---|---|\n| 84001001 | US | USA | 840 | 1001 | Autauga | Alabama | US | 32.53953 | -86.64408 | ⋯ | 1831 | 1839 | 1852 | 1863 | 1882 | 1898 | 1905 | 1911 | 1924 | 1928 |\n| 84001003 | US | USA | 840 | 1003 | Baldwin | Alabama | US | 30.72775 | -87.72207 | ⋯ | 6085 | 6116 | 6134 | 6141 | 6172 | 6190 | 6203 | 6220 | 6248 | 6270 |\n| 84001005 | US | USA | 840 | 1005 | Barbour | Alabama | US | 31.86826 | -85.38713 | ⋯ |  921 |  923 |  927 |  927 |  939 |  942 |  942 |  944 |  951 |  950 |\n| 84001007 | US | USA | 840 | 1007 | Bibb    | Alabama | US | 32.99642 | -87.12511 | ⋯ |  687 |  691 |  703 |  708 |  719 |  726 |  736 |  738 |  744 |  744 |\n| 84001009 | US | USA | 840 | 1009 | Blount  | Alabama | US | 33.98211 | -86.56791 | ⋯ | 1662 | 1665 | 1673 | 1681 | 1689 | 1704 | 1713 | 1722 | 1742 | 1750 |\n| 84001011 | US | USA | 840 | 1011 | Bullock | Alabama | US | 32.10031 | -85.71266 | ⋯ |  613 |  616 |  618 |  619 |  622 |  623 |  624 |  625 |  626 |  628 |\n\n",
            "text/html": [
              "<table>\n",
              "<caption>A tibble: 6 × 278</caption>\n",
              "<thead>\n",
              "\t<tr><th scope=col>UID</th><th scope=col>iso2</th><th scope=col>iso3</th><th scope=col>code3</th><th scope=col>FIPS</th><th scope=col>Admin2</th><th scope=col>Province_State</th><th scope=col>Country_Region</th><th scope=col>Lat</th><th scope=col>Long_</th><th scope=col>⋯</th><th scope=col>10/5/20</th><th scope=col>10/6/20</th><th scope=col>10/7/20</th><th scope=col>10/8/20</th><th scope=col>10/9/20</th><th scope=col>10/10/20</th><th scope=col>10/11/20</th><th scope=col>10/12/20</th><th scope=col>10/13/20</th><th scope=col>10/14/20</th></tr>\n",
              "\t<tr><th scope=col>&lt;dbl&gt;</th><th scope=col>&lt;chr&gt;</th><th scope=col>&lt;chr&gt;</th><th scope=col>&lt;dbl&gt;</th><th scope=col>&lt;dbl&gt;</th><th scope=col>&lt;chr&gt;</th><th scope=col>&lt;chr&gt;</th><th scope=col>&lt;chr&gt;</th><th scope=col>&lt;dbl&gt;</th><th scope=col>&lt;dbl&gt;</th><th scope=col>⋯</th><th scope=col>&lt;dbl&gt;</th><th scope=col>&lt;dbl&gt;</th><th scope=col>&lt;dbl&gt;</th><th scope=col>&lt;dbl&gt;</th><th scope=col>&lt;dbl&gt;</th><th scope=col>&lt;dbl&gt;</th><th scope=col>&lt;dbl&gt;</th><th scope=col>&lt;dbl&gt;</th><th scope=col>&lt;dbl&gt;</th><th scope=col>&lt;dbl&gt;</th></tr>\n",
              "</thead>\n",
              "<tbody>\n",
              "\t<tr><td>84001001</td><td>US</td><td>USA</td><td>840</td><td>1001</td><td>Autauga</td><td>Alabama</td><td>US</td><td>32.53953</td><td>-86.64408</td><td>⋯</td><td>1831</td><td>1839</td><td>1852</td><td>1863</td><td>1882</td><td>1898</td><td>1905</td><td>1911</td><td>1924</td><td>1928</td></tr>\n",
              "\t<tr><td>84001003</td><td>US</td><td>USA</td><td>840</td><td>1003</td><td>Baldwin</td><td>Alabama</td><td>US</td><td>30.72775</td><td>-87.72207</td><td>⋯</td><td>6085</td><td>6116</td><td>6134</td><td>6141</td><td>6172</td><td>6190</td><td>6203</td><td>6220</td><td>6248</td><td>6270</td></tr>\n",
              "\t<tr><td>84001005</td><td>US</td><td>USA</td><td>840</td><td>1005</td><td>Barbour</td><td>Alabama</td><td>US</td><td>31.86826</td><td>-85.38713</td><td>⋯</td><td> 921</td><td> 923</td><td> 927</td><td> 927</td><td> 939</td><td> 942</td><td> 942</td><td> 944</td><td> 951</td><td> 950</td></tr>\n",
              "\t<tr><td>84001007</td><td>US</td><td>USA</td><td>840</td><td>1007</td><td>Bibb   </td><td>Alabama</td><td>US</td><td>32.99642</td><td>-87.12511</td><td>⋯</td><td> 687</td><td> 691</td><td> 703</td><td> 708</td><td> 719</td><td> 726</td><td> 736</td><td> 738</td><td> 744</td><td> 744</td></tr>\n",
              "\t<tr><td>84001009</td><td>US</td><td>USA</td><td>840</td><td>1009</td><td>Blount </td><td>Alabama</td><td>US</td><td>33.98211</td><td>-86.56791</td><td>⋯</td><td>1662</td><td>1665</td><td>1673</td><td>1681</td><td>1689</td><td>1704</td><td>1713</td><td>1722</td><td>1742</td><td>1750</td></tr>\n",
              "\t<tr><td>84001011</td><td>US</td><td>USA</td><td>840</td><td>1011</td><td>Bullock</td><td>Alabama</td><td>US</td><td>32.10031</td><td>-85.71266</td><td>⋯</td><td> 613</td><td> 616</td><td> 618</td><td> 619</td><td> 622</td><td> 623</td><td> 624</td><td> 625</td><td> 626</td><td> 628</td></tr>\n",
              "</tbody>\n",
              "</table>\n"
            ]
          },
          "metadata": {
            "tags": []
          }
        }
      ]
    },
    {
      "cell_type": "markdown",
      "metadata": {
        "id": "MyFp-X43ODax"
      },
      "source": [
        "## Pick rows, columns, and cells in DataFrames"
      ]
    },
    {
      "cell_type": "markdown",
      "metadata": {
        "id": "M4wdq_qo7kvq"
      },
      "source": [
        "A a_ij\n"
      ]
    },
    {
      "cell_type": "code",
      "metadata": {
        "id": "YtuXLm0KLaj2",
        "outputId": "0d22f1d4-69ce-40a8-a9aa-9930d46e44c6",
        "colab": {
          "base_uri": "https://localhost:8080/",
          "height": 241
        }
      },
      "source": [
        "# pick first row, second colum\n",
        "tb[1,2] \n",
        "\n",
        "# pick 4th row, 5th colum. Notice that R starts with 1, not zero like Python\n",
        "tb[4, 5]"
      ],
      "execution_count": 223,
      "outputs": [
        {
          "output_type": "display_data",
          "data": {
            "text/plain": [
              "  iso2\n",
              "1 US  "
            ],
            "text/latex": "A tibble: 1 × 1\n\\begin{tabular}{l}\n iso2\\\\\n <chr>\\\\\n\\hline\n\t US\\\\\n\\end{tabular}\n",
            "text/markdown": "\nA tibble: 1 × 1\n\n| iso2 &lt;chr&gt; |\n|---|\n| US |\n\n",
            "text/html": [
              "<table>\n",
              "<caption>A tibble: 1 × 1</caption>\n",
              "<thead>\n",
              "\t<tr><th scope=col>iso2</th></tr>\n",
              "\t<tr><th scope=col>&lt;chr&gt;</th></tr>\n",
              "</thead>\n",
              "<tbody>\n",
              "\t<tr><td>US</td></tr>\n",
              "</tbody>\n",
              "</table>\n"
            ]
          },
          "metadata": {
            "tags": []
          }
        },
        {
          "output_type": "display_data",
          "data": {
            "text/plain": [
              "  FIPS\n",
              "1 1007"
            ],
            "text/latex": "A tibble: 1 × 1\n\\begin{tabular}{l}\n FIPS\\\\\n <dbl>\\\\\n\\hline\n\t 1007\\\\\n\\end{tabular}\n",
            "text/markdown": "\nA tibble: 1 × 1\n\n| FIPS &lt;dbl&gt; |\n|---|\n| 1007 |\n\n",
            "text/html": [
              "<table>\n",
              "<caption>A tibble: 1 × 1</caption>\n",
              "<thead>\n",
              "\t<tr><th scope=col>FIPS</th></tr>\n",
              "\t<tr><th scope=col>&lt;dbl&gt;</th></tr>\n",
              "</thead>\n",
              "<tbody>\n",
              "\t<tr><td>1007</td></tr>\n",
              "</tbody>\n",
              "</table>\n"
            ]
          },
          "metadata": {
            "tags": []
          }
        }
      ]
    },
    {
      "cell_type": "code",
      "metadata": {
        "id": "IShItoo5Lkx_",
        "outputId": "2e8e3934-d48c-44a4-d643-c873476001dc",
        "colab": {
          "base_uri": "https://localhost:8080/",
          "height": 292
        }
      },
      "source": [
        "# pick first column and  first 10 rows\n",
        "tb[ 1:10, 1]"
      ],
      "execution_count": 224,
      "outputs": [
        {
          "output_type": "display_data",
          "data": {
            "text/plain": [
              "   UID     \n",
              "1  84001001\n",
              "2  84001003\n",
              "3  84001005\n",
              "4  84001007\n",
              "5  84001009\n",
              "6  84001011\n",
              "7  84001013\n",
              "8  84001015\n",
              "9  84001017\n",
              "10 84001019"
            ],
            "text/latex": "A tibble: 10 × 1\n\\begin{tabular}{l}\n UID\\\\\n <dbl>\\\\\n\\hline\n\t 84001001\\\\\n\t 84001003\\\\\n\t 84001005\\\\\n\t 84001007\\\\\n\t 84001009\\\\\n\t 84001011\\\\\n\t 84001013\\\\\n\t 84001015\\\\\n\t 84001017\\\\\n\t 84001019\\\\\n\\end{tabular}\n",
            "text/markdown": "\nA tibble: 10 × 1\n\n| UID &lt;dbl&gt; |\n|---|\n| 84001001 |\n| 84001003 |\n| 84001005 |\n| 84001007 |\n| 84001009 |\n| 84001011 |\n| 84001013 |\n| 84001015 |\n| 84001017 |\n| 84001019 |\n\n",
            "text/html": [
              "<table>\n",
              "<caption>A tibble: 10 × 1</caption>\n",
              "<thead>\n",
              "\t<tr><th scope=col>UID</th></tr>\n",
              "\t<tr><th scope=col>&lt;dbl&gt;</th></tr>\n",
              "</thead>\n",
              "<tbody>\n",
              "\t<tr><td>84001001</td></tr>\n",
              "\t<tr><td>84001003</td></tr>\n",
              "\t<tr><td>84001005</td></tr>\n",
              "\t<tr><td>84001007</td></tr>\n",
              "\t<tr><td>84001009</td></tr>\n",
              "\t<tr><td>84001011</td></tr>\n",
              "\t<tr><td>84001013</td></tr>\n",
              "\t<tr><td>84001015</td></tr>\n",
              "\t<tr><td>84001017</td></tr>\n",
              "\t<tr><td>84001019</td></tr>\n",
              "</tbody>\n",
              "</table>\n"
            ]
          },
          "metadata": {
            "tags": []
          }
        }
      ]
    },
    {
      "cell_type": "code",
      "metadata": {
        "id": "vYV28woa8MPA",
        "outputId": "19597dea-91dd-4101-de25-d6a01ea9e780",
        "colab": {
          "base_uri": "https://localhost:8080/",
          "height": 115
        }
      },
      "source": [
        "# pick 6-7th rows, 4-8 colums\n",
        "tb[ 6:7, 4:8]"
      ],
      "execution_count": 225,
      "outputs": [
        {
          "output_type": "display_data",
          "data": {
            "text/plain": [
              "  code3 FIPS Admin2  Province_State Country_Region\n",
              "1 840   1011 Bullock Alabama        US            \n",
              "2 840   1013 Butler  Alabama        US            "
            ],
            "text/latex": "A tibble: 2 × 5\n\\begin{tabular}{lllll}\n code3 & FIPS & Admin2 & Province\\_State & Country\\_Region\\\\\n <dbl> & <dbl> & <chr> & <chr> & <chr>\\\\\n\\hline\n\t 840 & 1011 & Bullock & Alabama & US\\\\\n\t 840 & 1013 & Butler  & Alabama & US\\\\\n\\end{tabular}\n",
            "text/markdown": "\nA tibble: 2 × 5\n\n| code3 &lt;dbl&gt; | FIPS &lt;dbl&gt; | Admin2 &lt;chr&gt; | Province_State &lt;chr&gt; | Country_Region &lt;chr&gt; |\n|---|---|---|---|---|\n| 840 | 1011 | Bullock | Alabama | US |\n| 840 | 1013 | Butler  | Alabama | US |\n\n",
            "text/html": [
              "<table>\n",
              "<caption>A tibble: 2 × 5</caption>\n",
              "<thead>\n",
              "\t<tr><th scope=col>code3</th><th scope=col>FIPS</th><th scope=col>Admin2</th><th scope=col>Province_State</th><th scope=col>Country_Region</th></tr>\n",
              "\t<tr><th scope=col>&lt;dbl&gt;</th><th scope=col>&lt;dbl&gt;</th><th scope=col>&lt;chr&gt;</th><th scope=col>&lt;chr&gt;</th><th scope=col>&lt;chr&gt;</th></tr>\n",
              "</thead>\n",
              "<tbody>\n",
              "\t<tr><td>840</td><td>1011</td><td>Bullock</td><td>Alabama</td><td>US</td></tr>\n",
              "\t<tr><td>840</td><td>1013</td><td>Butler </td><td>Alabama</td><td>US</td></tr>\n",
              "</tbody>\n",
              "</table>\n"
            ]
          },
          "metadata": {
            "tags": []
          }
        }
      ]
    },
    {
      "cell_type": "code",
      "metadata": {
        "id": "5iu7E8szL06o",
        "outputId": "0a8bb40f-56ac-4b33-9bd0-4df22e0c26ae",
        "colab": {
          "base_uri": "https://localhost:8080/",
          "height": 279
        }
      },
      "source": [
        "# The daily cases data started on the 12th column\n",
        "tb[ 1:5, 1:12]"
      ],
      "execution_count": 226,
      "outputs": [
        {
          "output_type": "display_data",
          "data": {
            "text/plain": [
              "  UID      iso2 iso3 code3 FIPS Admin2  Province_State Country_Region Lat     \n",
              "1 84001001 US   USA  840   1001 Autauga Alabama        US             32.53953\n",
              "2 84001003 US   USA  840   1003 Baldwin Alabama        US             30.72775\n",
              "3 84001005 US   USA  840   1005 Barbour Alabama        US             31.86826\n",
              "4 84001007 US   USA  840   1007 Bibb    Alabama        US             32.99642\n",
              "5 84001009 US   USA  840   1009 Blount  Alabama        US             33.98211\n",
              "  Long_     Combined_Key         1/22/20\n",
              "1 -86.64408 Autauga, Alabama, US 0      \n",
              "2 -87.72207 Baldwin, Alabama, US 0      \n",
              "3 -85.38713 Barbour, Alabama, US 0      \n",
              "4 -87.12511 Bibb, Alabama, US    0      \n",
              "5 -86.56791 Blount, Alabama, US  0      "
            ],
            "text/latex": "A tibble: 5 × 12\n\\begin{tabular}{llllllllllll}\n UID & iso2 & iso3 & code3 & FIPS & Admin2 & Province\\_State & Country\\_Region & Lat & Long\\_ & Combined\\_Key & 1/22/20\\\\\n <dbl> & <chr> & <chr> & <dbl> & <dbl> & <chr> & <chr> & <chr> & <dbl> & <dbl> & <chr> & <dbl>\\\\\n\\hline\n\t 84001001 & US & USA & 840 & 1001 & Autauga & Alabama & US & 32.53953 & -86.64408 & Autauga, Alabama, US & 0\\\\\n\t 84001003 & US & USA & 840 & 1003 & Baldwin & Alabama & US & 30.72775 & -87.72207 & Baldwin, Alabama, US & 0\\\\\n\t 84001005 & US & USA & 840 & 1005 & Barbour & Alabama & US & 31.86826 & -85.38713 & Barbour, Alabama, US & 0\\\\\n\t 84001007 & US & USA & 840 & 1007 & Bibb    & Alabama & US & 32.99642 & -87.12511 & Bibb, Alabama, US    & 0\\\\\n\t 84001009 & US & USA & 840 & 1009 & Blount  & Alabama & US & 33.98211 & -86.56791 & Blount, Alabama, US  & 0\\\\\n\\end{tabular}\n",
            "text/markdown": "\nA tibble: 5 × 12\n\n| UID &lt;dbl&gt; | iso2 &lt;chr&gt; | iso3 &lt;chr&gt; | code3 &lt;dbl&gt; | FIPS &lt;dbl&gt; | Admin2 &lt;chr&gt; | Province_State &lt;chr&gt; | Country_Region &lt;chr&gt; | Lat &lt;dbl&gt; | Long_ &lt;dbl&gt; | Combined_Key &lt;chr&gt; | 1/22/20 &lt;dbl&gt; |\n|---|---|---|---|---|---|---|---|---|---|---|---|\n| 84001001 | US | USA | 840 | 1001 | Autauga | Alabama | US | 32.53953 | -86.64408 | Autauga, Alabama, US | 0 |\n| 84001003 | US | USA | 840 | 1003 | Baldwin | Alabama | US | 30.72775 | -87.72207 | Baldwin, Alabama, US | 0 |\n| 84001005 | US | USA | 840 | 1005 | Barbour | Alabama | US | 31.86826 | -85.38713 | Barbour, Alabama, US | 0 |\n| 84001007 | US | USA | 840 | 1007 | Bibb    | Alabama | US | 32.99642 | -87.12511 | Bibb, Alabama, US    | 0 |\n| 84001009 | US | USA | 840 | 1009 | Blount  | Alabama | US | 33.98211 | -86.56791 | Blount, Alabama, US  | 0 |\n\n",
            "text/html": [
              "<table>\n",
              "<caption>A tibble: 5 × 12</caption>\n",
              "<thead>\n",
              "\t<tr><th scope=col>UID</th><th scope=col>iso2</th><th scope=col>iso3</th><th scope=col>code3</th><th scope=col>FIPS</th><th scope=col>Admin2</th><th scope=col>Province_State</th><th scope=col>Country_Region</th><th scope=col>Lat</th><th scope=col>Long_</th><th scope=col>Combined_Key</th><th scope=col>1/22/20</th></tr>\n",
              "\t<tr><th scope=col>&lt;dbl&gt;</th><th scope=col>&lt;chr&gt;</th><th scope=col>&lt;chr&gt;</th><th scope=col>&lt;dbl&gt;</th><th scope=col>&lt;dbl&gt;</th><th scope=col>&lt;chr&gt;</th><th scope=col>&lt;chr&gt;</th><th scope=col>&lt;chr&gt;</th><th scope=col>&lt;dbl&gt;</th><th scope=col>&lt;dbl&gt;</th><th scope=col>&lt;chr&gt;</th><th scope=col>&lt;dbl&gt;</th></tr>\n",
              "</thead>\n",
              "<tbody>\n",
              "\t<tr><td>84001001</td><td>US</td><td>USA</td><td>840</td><td>1001</td><td>Autauga</td><td>Alabama</td><td>US</td><td>32.53953</td><td>-86.64408</td><td>Autauga, Alabama, US</td><td>0</td></tr>\n",
              "\t<tr><td>84001003</td><td>US</td><td>USA</td><td>840</td><td>1003</td><td>Baldwin</td><td>Alabama</td><td>US</td><td>30.72775</td><td>-87.72207</td><td>Baldwin, Alabama, US</td><td>0</td></tr>\n",
              "\t<tr><td>84001005</td><td>US</td><td>USA</td><td>840</td><td>1005</td><td>Barbour</td><td>Alabama</td><td>US</td><td>31.86826</td><td>-85.38713</td><td>Barbour, Alabama, US</td><td>0</td></tr>\n",
              "\t<tr><td>84001007</td><td>US</td><td>USA</td><td>840</td><td>1007</td><td>Bibb   </td><td>Alabama</td><td>US</td><td>32.99642</td><td>-87.12511</td><td>Bibb, Alabama, US   </td><td>0</td></tr>\n",
              "\t<tr><td>84001009</td><td>US</td><td>USA</td><td>840</td><td>1009</td><td>Blount </td><td>Alabama</td><td>US</td><td>33.98211</td><td>-86.56791</td><td>Blount, Alabama, US </td><td>0</td></tr>\n",
              "</tbody>\n",
              "</table>\n"
            ]
          },
          "metadata": {
            "tags": []
          }
        }
      ]
    },
    {
      "cell_type": "code",
      "metadata": {
        "id": "e3ZirRxC8r1A"
      },
      "source": [
        "?length"
      ],
      "execution_count": 227,
      "outputs": []
    },
    {
      "cell_type": "code",
      "metadata": {
        "id": "g8pigN_3MEZf",
        "outputId": "3eb8a5df-6125-43e2-9dd9-a7e1a1d2f0b8",
        "colab": {
          "base_uri": "https://localhost:8080/",
          "height": 50
        }
      },
      "source": [
        "# how many columns? \n",
        "length(tb[1,])\n",
        "print(paste( \"There are \", length(tb[1,]), \" columns\"))"
      ],
      "execution_count": 228,
      "outputs": [
        {
          "output_type": "display_data",
          "data": {
            "text/plain": [
              "[1] 278"
            ],
            "text/latex": "278",
            "text/markdown": "278",
            "text/html": [
              "278"
            ]
          },
          "metadata": {
            "tags": []
          }
        },
        {
          "output_type": "stream",
          "text": [
            "[1] \"There are  278  columns\"\n"
          ],
          "name": "stdout"
        }
      ]
    },
    {
      "cell_type": "code",
      "metadata": {
        "id": "1FMx8GjNmrtw",
        "outputId": "4b61a6ad-6fbd-4249-e3a9-2308f4a21d40",
        "colab": {
          "base_uri": "https://localhost:8080/",
          "height": 195
        }
      },
      "source": [
        "# view the first 5 rows in all data columns\n",
        "tb[1:5 , 12: length(tb[1,])  ]"
      ],
      "execution_count": 229,
      "outputs": [
        {
          "output_type": "display_data",
          "data": {
            "text/plain": [
              "  1/22/20 1/23/20 1/24/20 1/25/20 1/26/20 1/27/20 1/28/20 1/29/20 1/30/20\n",
              "1 0       0       0       0       0       0       0       0       0      \n",
              "2 0       0       0       0       0       0       0       0       0      \n",
              "3 0       0       0       0       0       0       0       0       0      \n",
              "4 0       0       0       0       0       0       0       0       0      \n",
              "5 0       0       0       0       0       0       0       0       0      \n",
              "  1/31/20 ⋯ 10/5/20 10/6/20 10/7/20 10/8/20 10/9/20 10/10/20 10/11/20 10/12/20\n",
              "1 0       ⋯ 1831    1839    1852    1863    1882    1898     1905     1911    \n",
              "2 0       ⋯ 6085    6116    6134    6141    6172    6190     6203     6220    \n",
              "3 0       ⋯  921     923     927     927     939     942      942      944    \n",
              "4 0       ⋯  687     691     703     708     719     726      736      738    \n",
              "5 0       ⋯ 1662    1665    1673    1681    1689    1704     1713     1722    \n",
              "  10/13/20 10/14/20\n",
              "1 1924     1928    \n",
              "2 6248     6270    \n",
              "3  951      950    \n",
              "4  744      744    \n",
              "5 1742     1750    "
            ],
            "text/latex": "A tibble: 5 × 267\n\\begin{tabular}{lllllllllllllllllllll}\n 1/22/20 & 1/23/20 & 1/24/20 & 1/25/20 & 1/26/20 & 1/27/20 & 1/28/20 & 1/29/20 & 1/30/20 & 1/31/20 & ⋯ & 10/5/20 & 10/6/20 & 10/7/20 & 10/8/20 & 10/9/20 & 10/10/20 & 10/11/20 & 10/12/20 & 10/13/20 & 10/14/20\\\\\n <dbl> & <dbl> & <dbl> & <dbl> & <dbl> & <dbl> & <dbl> & <dbl> & <dbl> & <dbl> & ⋯ & <dbl> & <dbl> & <dbl> & <dbl> & <dbl> & <dbl> & <dbl> & <dbl> & <dbl> & <dbl>\\\\\n\\hline\n\t 0 & 0 & 0 & 0 & 0 & 0 & 0 & 0 & 0 & 0 & ⋯ & 1831 & 1839 & 1852 & 1863 & 1882 & 1898 & 1905 & 1911 & 1924 & 1928\\\\\n\t 0 & 0 & 0 & 0 & 0 & 0 & 0 & 0 & 0 & 0 & ⋯ & 6085 & 6116 & 6134 & 6141 & 6172 & 6190 & 6203 & 6220 & 6248 & 6270\\\\\n\t 0 & 0 & 0 & 0 & 0 & 0 & 0 & 0 & 0 & 0 & ⋯ &  921 &  923 &  927 &  927 &  939 &  942 &  942 &  944 &  951 &  950\\\\\n\t 0 & 0 & 0 & 0 & 0 & 0 & 0 & 0 & 0 & 0 & ⋯ &  687 &  691 &  703 &  708 &  719 &  726 &  736 &  738 &  744 &  744\\\\\n\t 0 & 0 & 0 & 0 & 0 & 0 & 0 & 0 & 0 & 0 & ⋯ & 1662 & 1665 & 1673 & 1681 & 1689 & 1704 & 1713 & 1722 & 1742 & 1750\\\\\n\\end{tabular}\n",
            "text/markdown": "\nA tibble: 5 × 267\n\n| 1/22/20 &lt;dbl&gt; | 1/23/20 &lt;dbl&gt; | 1/24/20 &lt;dbl&gt; | 1/25/20 &lt;dbl&gt; | 1/26/20 &lt;dbl&gt; | 1/27/20 &lt;dbl&gt; | 1/28/20 &lt;dbl&gt; | 1/29/20 &lt;dbl&gt; | 1/30/20 &lt;dbl&gt; | 1/31/20 &lt;dbl&gt; | ⋯ ⋯ | 10/5/20 &lt;dbl&gt; | 10/6/20 &lt;dbl&gt; | 10/7/20 &lt;dbl&gt; | 10/8/20 &lt;dbl&gt; | 10/9/20 &lt;dbl&gt; | 10/10/20 &lt;dbl&gt; | 10/11/20 &lt;dbl&gt; | 10/12/20 &lt;dbl&gt; | 10/13/20 &lt;dbl&gt; | 10/14/20 &lt;dbl&gt; |\n|---|---|---|---|---|---|---|---|---|---|---|---|---|---|---|---|---|---|---|---|---|\n| 0 | 0 | 0 | 0 | 0 | 0 | 0 | 0 | 0 | 0 | ⋯ | 1831 | 1839 | 1852 | 1863 | 1882 | 1898 | 1905 | 1911 | 1924 | 1928 |\n| 0 | 0 | 0 | 0 | 0 | 0 | 0 | 0 | 0 | 0 | ⋯ | 6085 | 6116 | 6134 | 6141 | 6172 | 6190 | 6203 | 6220 | 6248 | 6270 |\n| 0 | 0 | 0 | 0 | 0 | 0 | 0 | 0 | 0 | 0 | ⋯ |  921 |  923 |  927 |  927 |  939 |  942 |  942 |  944 |  951 |  950 |\n| 0 | 0 | 0 | 0 | 0 | 0 | 0 | 0 | 0 | 0 | ⋯ |  687 |  691 |  703 |  708 |  719 |  726 |  736 |  738 |  744 |  744 |\n| 0 | 0 | 0 | 0 | 0 | 0 | 0 | 0 | 0 | 0 | ⋯ | 1662 | 1665 | 1673 | 1681 | 1689 | 1704 | 1713 | 1722 | 1742 | 1750 |\n\n",
            "text/html": [
              "<table>\n",
              "<caption>A tibble: 5 × 267</caption>\n",
              "<thead>\n",
              "\t<tr><th scope=col>1/22/20</th><th scope=col>1/23/20</th><th scope=col>1/24/20</th><th scope=col>1/25/20</th><th scope=col>1/26/20</th><th scope=col>1/27/20</th><th scope=col>1/28/20</th><th scope=col>1/29/20</th><th scope=col>1/30/20</th><th scope=col>1/31/20</th><th scope=col>⋯</th><th scope=col>10/5/20</th><th scope=col>10/6/20</th><th scope=col>10/7/20</th><th scope=col>10/8/20</th><th scope=col>10/9/20</th><th scope=col>10/10/20</th><th scope=col>10/11/20</th><th scope=col>10/12/20</th><th scope=col>10/13/20</th><th scope=col>10/14/20</th></tr>\n",
              "\t<tr><th scope=col>&lt;dbl&gt;</th><th scope=col>&lt;dbl&gt;</th><th scope=col>&lt;dbl&gt;</th><th scope=col>&lt;dbl&gt;</th><th scope=col>&lt;dbl&gt;</th><th scope=col>&lt;dbl&gt;</th><th scope=col>&lt;dbl&gt;</th><th scope=col>&lt;dbl&gt;</th><th scope=col>&lt;dbl&gt;</th><th scope=col>&lt;dbl&gt;</th><th scope=col>⋯</th><th scope=col>&lt;dbl&gt;</th><th scope=col>&lt;dbl&gt;</th><th scope=col>&lt;dbl&gt;</th><th scope=col>&lt;dbl&gt;</th><th scope=col>&lt;dbl&gt;</th><th scope=col>&lt;dbl&gt;</th><th scope=col>&lt;dbl&gt;</th><th scope=col>&lt;dbl&gt;</th><th scope=col>&lt;dbl&gt;</th><th scope=col>&lt;dbl&gt;</th></tr>\n",
              "</thead>\n",
              "<tbody>\n",
              "\t<tr><td>0</td><td>0</td><td>0</td><td>0</td><td>0</td><td>0</td><td>0</td><td>0</td><td>0</td><td>0</td><td>⋯</td><td>1831</td><td>1839</td><td>1852</td><td>1863</td><td>1882</td><td>1898</td><td>1905</td><td>1911</td><td>1924</td><td>1928</td></tr>\n",
              "\t<tr><td>0</td><td>0</td><td>0</td><td>0</td><td>0</td><td>0</td><td>0</td><td>0</td><td>0</td><td>0</td><td>⋯</td><td>6085</td><td>6116</td><td>6134</td><td>6141</td><td>6172</td><td>6190</td><td>6203</td><td>6220</td><td>6248</td><td>6270</td></tr>\n",
              "\t<tr><td>0</td><td>0</td><td>0</td><td>0</td><td>0</td><td>0</td><td>0</td><td>0</td><td>0</td><td>0</td><td>⋯</td><td> 921</td><td> 923</td><td> 927</td><td> 927</td><td> 939</td><td> 942</td><td> 942</td><td> 944</td><td> 951</td><td> 950</td></tr>\n",
              "\t<tr><td>0</td><td>0</td><td>0</td><td>0</td><td>0</td><td>0</td><td>0</td><td>0</td><td>0</td><td>0</td><td>⋯</td><td> 687</td><td> 691</td><td> 703</td><td> 708</td><td> 719</td><td> 726</td><td> 736</td><td> 738</td><td> 744</td><td> 744</td></tr>\n",
              "\t<tr><td>0</td><td>0</td><td>0</td><td>0</td><td>0</td><td>0</td><td>0</td><td>0</td><td>0</td><td>0</td><td>⋯</td><td>1662</td><td>1665</td><td>1673</td><td>1681</td><td>1689</td><td>1704</td><td>1713</td><td>1722</td><td>1742</td><td>1750</td></tr>\n",
              "</tbody>\n",
              "</table>\n"
            ]
          },
          "metadata": {
            "tags": []
          }
        }
      ]
    },
    {
      "cell_type": "markdown",
      "metadata": {
        "id": "9kjb-7_CaDno"
      },
      "source": [
        "## Select columns of daily cases"
      ]
    },
    {
      "cell_type": "markdown",
      "metadata": {
        "id": "l6t75WwIo4AT"
      },
      "source": [
        "select the all columns of actual data"
      ]
    },
    {
      "cell_type": "code",
      "metadata": {
        "id": "znRY8na8dbJN",
        "outputId": "8f437002-b55a-4235-a97f-f4cad231e4c3",
        "colab": {
          "base_uri": "https://localhost:8080/",
          "height": 1000
        }
      },
      "source": [
        "tb %>% dplyr::select( 12:length(tb[1,]) ) #It seems that CoLab often rquire explicit pakcage for function calls. "
      ],
      "execution_count": 230,
      "outputs": [
        {
          "output_type": "display_data",
          "data": {
            "text/plain": [
              "     1/22/20 1/23/20 1/24/20 1/25/20 1/26/20 1/27/20 1/28/20 1/29/20 1/30/20\n",
              "1    0       0       0       0       0       0       0       0       0      \n",
              "2    0       0       0       0       0       0       0       0       0      \n",
              "3    0       0       0       0       0       0       0       0       0      \n",
              "4    0       0       0       0       0       0       0       0       0      \n",
              "5    0       0       0       0       0       0       0       0       0      \n",
              "6    0       0       0       0       0       0       0       0       0      \n",
              "7    0       0       0       0       0       0       0       0       0      \n",
              "8    0       0       0       0       0       0       0       0       0      \n",
              "9    0       0       0       0       0       0       0       0       0      \n",
              "10   0       0       0       0       0       0       0       0       0      \n",
              "11   0       0       0       0       0       0       0       0       0      \n",
              "12   0       0       0       0       0       0       0       0       0      \n",
              "13   0       0       0       0       0       0       0       0       0      \n",
              "14   0       0       0       0       0       0       0       0       0      \n",
              "15   0       0       0       0       0       0       0       0       0      \n",
              "16   0       0       0       0       0       0       0       0       0      \n",
              "17   0       0       0       0       0       0       0       0       0      \n",
              "18   0       0       0       0       0       0       0       0       0      \n",
              "19   0       0       0       0       0       0       0       0       0      \n",
              "20   0       0       0       0       0       0       0       0       0      \n",
              "21   0       0       0       0       0       0       0       0       0      \n",
              "22   0       0       0       0       0       0       0       0       0      \n",
              "23   0       0       0       0       0       0       0       0       0      \n",
              "24   0       0       0       0       0       0       0       0       0      \n",
              "25   0       0       0       0       0       0       0       0       0      \n",
              "26   0       0       0       0       0       0       0       0       0      \n",
              "27   0       0       0       0       0       0       0       0       0      \n",
              "28   0       0       0       0       0       0       0       0       0      \n",
              "29   0       0       0       0       0       0       0       0       0      \n",
              "30   0       0       0       0       0       0       0       0       0      \n",
              "⋮    ⋮       ⋮       ⋮       ⋮       ⋮       ⋮       ⋮       ⋮       ⋮      \n",
              "3311 0       0       0       0       0       0       0       0       0      \n",
              "3312 0       0       0       0       0       0       0       0       0      \n",
              "3313 0       0       0       0       0       0       0       0       0      \n",
              "3314 0       0       0       0       0       0       0       0       0      \n",
              "3315 0       0       0       0       0       0       0       0       0      \n",
              "3316 0       0       0       0       0       0       0       0       0      \n",
              "3317 0       0       0       0       0       0       0       0       0      \n",
              "3318 0       0       0       0       0       0       0       0       0      \n",
              "3319 0       0       0       0       0       0       0       0       0      \n",
              "3320 0       0       0       0       0       0       0       0       0      \n",
              "3321 0       0       0       0       0       0       0       0       0      \n",
              "3322 0       0       0       0       0       0       0       0       0      \n",
              "3323 0       0       0       0       0       0       0       0       0      \n",
              "3324 0       0       0       0       0       0       0       0       0      \n",
              "3325 0       0       0       0       0       0       0       0       0      \n",
              "3326 0       0       0       0       0       0       0       0       0      \n",
              "3327 0       0       0       0       0       0       0       0       0      \n",
              "3328 0       0       0       0       0       0       0       0       0      \n",
              "3329 0       0       0       0       0       0       0       0       0      \n",
              "3330 0       0       0       0       0       0       0       0       0      \n",
              "3331 0       0       0       0       0       0       0       0       0      \n",
              "3332 0       0       0       0       0       0       0       0       0      \n",
              "3333 0       0       0       0       0       0       0       0       0      \n",
              "3334 0       0       0       0       0       0       0       0       0      \n",
              "3335 0       0       0       0       0       0       0       0       0      \n",
              "3336 0       0       0       0       0       0       0       0       0      \n",
              "3337 0       0       0       0       0       0       0       0       0      \n",
              "3338 0       0       0       0       0       0       0       0       0      \n",
              "3339 0       0       0       0       0       0       0       0       0      \n",
              "3340 0       0       0       0       0       0       0       0       0      \n",
              "     1/31/20 ⋯ 10/5/20 10/6/20 10/7/20 10/8/20 10/9/20 10/10/20 10/11/20\n",
              "1    0       ⋯ 1831    1839    1852    1863    1882    1898     1905    \n",
              "2    0       ⋯ 6085    6116    6134    6141    6172    6190     6203    \n",
              "3    0       ⋯  921     923     927     927     939     942      942    \n",
              "4    0       ⋯  687     691     703     708     719     726      736    \n",
              "5    0       ⋯ 1662    1665    1673    1681    1689    1704     1713    \n",
              "6    0       ⋯  613     616     618     619     622     623      624    \n",
              "7    0       ⋯  927     928     933     932     943     952      958    \n",
              "8    0       ⋯ 3705    3730    3743    3752    3803    3823     3841    \n",
              "9    0       ⋯ 1208    1210    1211    1222    1238    1242     1242    \n",
              "10   0       ⋯  642     644     651     654     662     666      670    \n",
              "11   0       ⋯ 1661    1672    1679    1684    1701    1713     1722    \n",
              "12   0       ⋯  366     367     368     369     374     375      376    \n",
              "13   0       ⋯ 1158    1158    1166    1184    1203    1216     1219    \n",
              "14   0       ⋯  613     614     623     627     634     641      646    \n",
              "15   0       ⋯  428     436     448     449     452     467      468    \n",
              "16   0       ⋯ 1472    1482    1486    1497    1513    1521     1532    \n",
              "17   0       ⋯ 1744    1755    1765    1771    1787    1804     1813    \n",
              "18   0       ⋯  540     540     540     542     546     547      547    \n",
              "19   0       ⋯  179     179     180     183     186     187      187    \n",
              "20   0       ⋯ 1480    1486    1495    1514    1533    1541     1561    \n",
              "21   0       ⋯  547     550     554     554     559     562      566    \n",
              "22   0       ⋯ 1971    1978    1997    2001    2025    2036     2047    \n",
              "23   0       ⋯ 1513    1521    1526    1527    1534    1542     1548    \n",
              "24   0       ⋯ 1808    1809    1815    1817    1828    1829     1830    \n",
              "25   0       ⋯ 2623    2649    2700    2709    2769    2803     2838    \n",
              "26   0       ⋯ 2835    2844    2874    2889    2917    2945     2952    \n",
              "27   0       ⋯ 1652    1653    1662    1670    1680    1684     1684    \n",
              "28   0       ⋯ 3691    3699    3726    3726    3754    3769     3791    \n",
              "29   0       ⋯  485     490     490     490     491     497      511    \n",
              "30   0       ⋯ 1850    1856    1868    1871    1872    1886     1891    \n",
              "⋮    ⋮       ⋱ ⋮       ⋮       ⋮       ⋮       ⋮       ⋮        ⋮       \n",
              "3311 0       ⋯ 8227    8289    8410    8597    8775    8887     8933    \n",
              "3312 0       ⋯ 1364    1391    1430    1495    1518    1560     1604    \n",
              "3313 0       ⋯  471     481     499     524     561     576      596    \n",
              "3314 0       ⋯ 5193    5335    5508    5740    5886    6023     6173    \n",
              "3315 0       ⋯  960     968     987    1013    1058    1088     1114    \n",
              "3316 0       ⋯  720     732     747     771     811     826      855    \n",
              "3317 0       ⋯   79      85      87      90      96     105      108    \n",
              "3318 0       ⋯  390     400     412     427     445     453      467    \n",
              "3319 0       ⋯  243     245     247     251     255     255      255    \n",
              "3320 0       ⋯  159     169     172     180     185     188      192    \n",
              "3321 0       ⋯   49      53      54      55      61      63       63    \n",
              "3322 0       ⋯  803     814     835     866     881     898      914    \n",
              "3323 0       ⋯  117     119     120     121     123     127      127    \n",
              "3324 0       ⋯   38      38      40      41      41      41       41    \n",
              "3325 0       ⋯   44      44      46      46      47      47       52    \n",
              "3326 0       ⋯  784     808     831     863     883     918      938    \n",
              "3327 0       ⋯  233     242     246     254     260     262      274    \n",
              "3328 0       ⋯  674     687     693     709     748     754      774    \n",
              "3329 0       ⋯    5       4       4       4       4       4        4    \n",
              "3330 0       ⋯    0       0       0       0       0       0        0    \n",
              "3331 0       ⋯  268     272     284     288     304     310      326    \n",
              "3332 0       ⋯   47      51      54      54      58      58       61    \n",
              "3333 0       ⋯  335     346     352     369     389     400      408    \n",
              "3334 0       ⋯  123     127     127     129     130     131      133    \n",
              "3335 0       ⋯  363     371     378     382     393     396      394    \n",
              "3336 0       ⋯  625     629     633     645     656     658      662    \n",
              "3337 0       ⋯  365     368     368     373     378     379      380    \n",
              "3338 0       ⋯    0       0       0       0      10       0        0    \n",
              "3339 0       ⋯  121     120     119     123     123     124      125    \n",
              "3340 0       ⋯   44      46      50      51      54      58       58    \n",
              "     10/12/20 10/13/20 10/14/20\n",
              "1    1911     1924     1928    \n",
              "2    6220     6248     6270    \n",
              "3     944      951      950    \n",
              "4     738      744      744    \n",
              "5    1722     1742     1750    \n",
              "6     625      626      628    \n",
              "7     962      968      977    \n",
              "8    3861     3897     3922    \n",
              "9    1245     1254     1256    \n",
              "10    674      687      687    \n",
              "11   1733     1738     1740    \n",
              "12    377      377      377    \n",
              "13   1220     1223     1229    \n",
              "14    650      661      667    \n",
              "15    469      475      483    \n",
              "16   1543     1551     1568    \n",
              "17   1824     1832     1840    \n",
              "18    547      549      549    \n",
              "19    188      189      190    \n",
              "20   1570     1584     1585    \n",
              "21    567      570      574    \n",
              "22   2073     2110     2132    \n",
              "23   1557     1561     1564    \n",
              "24   1832     1836     1837    \n",
              "25   2854     2913     2942    \n",
              "26   2967     2995     3009    \n",
              "27   1684     1690     1687    \n",
              "28   3806     3838     3869    \n",
              "29    515      518      520    \n",
              "30   1896     1900     1916    \n",
              "⋮    ⋮        ⋮        ⋮       \n",
              "3311 9003     9390     9532    \n",
              "3312 1661     1689     1741    \n",
              "3313  623      639      653    \n",
              "3314 6297     6494     6603    \n",
              "3315 1132     1152     1182    \n",
              "3316  898      914      942    \n",
              "3317  115      118      122    \n",
              "3318  479      487      510    \n",
              "3319  256      256      262    \n",
              "3320  196      201      209    \n",
              "3321   65       66       68    \n",
              "3322  927      946      964    \n",
              "3323  128      130      133    \n",
              "3324   41       41       41    \n",
              "3325   54       55       57    \n",
              "3326  960      992     1037    \n",
              "3327  282      289      294    \n",
              "3328  798      817      840    \n",
              "3329    4        4        4    \n",
              "3330    0        0        0    \n",
              "3331  339      355      369    \n",
              "3332   65       72       74    \n",
              "3333  428      435      447    \n",
              "3334  133      133      133    \n",
              "3335  394      401      402    \n",
              "3336  675      679      686    \n",
              "3337  381      384      385    \n",
              "3338    0        0        0    \n",
              "3339  126      127      132    \n",
              "3340   58       62       66    "
            ],
            "text/latex": "A tibble: 3340 × 267\n\\begin{tabular}{lllllllllllllllllllll}\n 1/22/20 & 1/23/20 & 1/24/20 & 1/25/20 & 1/26/20 & 1/27/20 & 1/28/20 & 1/29/20 & 1/30/20 & 1/31/20 & ⋯ & 10/5/20 & 10/6/20 & 10/7/20 & 10/8/20 & 10/9/20 & 10/10/20 & 10/11/20 & 10/12/20 & 10/13/20 & 10/14/20\\\\\n <dbl> & <dbl> & <dbl> & <dbl> & <dbl> & <dbl> & <dbl> & <dbl> & <dbl> & <dbl> & ⋯ & <dbl> & <dbl> & <dbl> & <dbl> & <dbl> & <dbl> & <dbl> & <dbl> & <dbl> & <dbl>\\\\\n\\hline\n\t 0 & 0 & 0 & 0 & 0 & 0 & 0 & 0 & 0 & 0 & ⋯ & 1831 & 1839 & 1852 & 1863 & 1882 & 1898 & 1905 & 1911 & 1924 & 1928\\\\\n\t 0 & 0 & 0 & 0 & 0 & 0 & 0 & 0 & 0 & 0 & ⋯ & 6085 & 6116 & 6134 & 6141 & 6172 & 6190 & 6203 & 6220 & 6248 & 6270\\\\\n\t 0 & 0 & 0 & 0 & 0 & 0 & 0 & 0 & 0 & 0 & ⋯ &  921 &  923 &  927 &  927 &  939 &  942 &  942 &  944 &  951 &  950\\\\\n\t 0 & 0 & 0 & 0 & 0 & 0 & 0 & 0 & 0 & 0 & ⋯ &  687 &  691 &  703 &  708 &  719 &  726 &  736 &  738 &  744 &  744\\\\\n\t 0 & 0 & 0 & 0 & 0 & 0 & 0 & 0 & 0 & 0 & ⋯ & 1662 & 1665 & 1673 & 1681 & 1689 & 1704 & 1713 & 1722 & 1742 & 1750\\\\\n\t 0 & 0 & 0 & 0 & 0 & 0 & 0 & 0 & 0 & 0 & ⋯ &  613 &  616 &  618 &  619 &  622 &  623 &  624 &  625 &  626 &  628\\\\\n\t 0 & 0 & 0 & 0 & 0 & 0 & 0 & 0 & 0 & 0 & ⋯ &  927 &  928 &  933 &  932 &  943 &  952 &  958 &  962 &  968 &  977\\\\\n\t 0 & 0 & 0 & 0 & 0 & 0 & 0 & 0 & 0 & 0 & ⋯ & 3705 & 3730 & 3743 & 3752 & 3803 & 3823 & 3841 & 3861 & 3897 & 3922\\\\\n\t 0 & 0 & 0 & 0 & 0 & 0 & 0 & 0 & 0 & 0 & ⋯ & 1208 & 1210 & 1211 & 1222 & 1238 & 1242 & 1242 & 1245 & 1254 & 1256\\\\\n\t 0 & 0 & 0 & 0 & 0 & 0 & 0 & 0 & 0 & 0 & ⋯ &  642 &  644 &  651 &  654 &  662 &  666 &  670 &  674 &  687 &  687\\\\\n\t 0 & 0 & 0 & 0 & 0 & 0 & 0 & 0 & 0 & 0 & ⋯ & 1661 & 1672 & 1679 & 1684 & 1701 & 1713 & 1722 & 1733 & 1738 & 1740\\\\\n\t 0 & 0 & 0 & 0 & 0 & 0 & 0 & 0 & 0 & 0 & ⋯ &  366 &  367 &  368 &  369 &  374 &  375 &  376 &  377 &  377 &  377\\\\\n\t 0 & 0 & 0 & 0 & 0 & 0 & 0 & 0 & 0 & 0 & ⋯ & 1158 & 1158 & 1166 & 1184 & 1203 & 1216 & 1219 & 1220 & 1223 & 1229\\\\\n\t 0 & 0 & 0 & 0 & 0 & 0 & 0 & 0 & 0 & 0 & ⋯ &  613 &  614 &  623 &  627 &  634 &  641 &  646 &  650 &  661 &  667\\\\\n\t 0 & 0 & 0 & 0 & 0 & 0 & 0 & 0 & 0 & 0 & ⋯ &  428 &  436 &  448 &  449 &  452 &  467 &  468 &  469 &  475 &  483\\\\\n\t 0 & 0 & 0 & 0 & 0 & 0 & 0 & 0 & 0 & 0 & ⋯ & 1472 & 1482 & 1486 & 1497 & 1513 & 1521 & 1532 & 1543 & 1551 & 1568\\\\\n\t 0 & 0 & 0 & 0 & 0 & 0 & 0 & 0 & 0 & 0 & ⋯ & 1744 & 1755 & 1765 & 1771 & 1787 & 1804 & 1813 & 1824 & 1832 & 1840\\\\\n\t 0 & 0 & 0 & 0 & 0 & 0 & 0 & 0 & 0 & 0 & ⋯ &  540 &  540 &  540 &  542 &  546 &  547 &  547 &  547 &  549 &  549\\\\\n\t 0 & 0 & 0 & 0 & 0 & 0 & 0 & 0 & 0 & 0 & ⋯ &  179 &  179 &  180 &  183 &  186 &  187 &  187 &  188 &  189 &  190\\\\\n\t 0 & 0 & 0 & 0 & 0 & 0 & 0 & 0 & 0 & 0 & ⋯ & 1480 & 1486 & 1495 & 1514 & 1533 & 1541 & 1561 & 1570 & 1584 & 1585\\\\\n\t 0 & 0 & 0 & 0 & 0 & 0 & 0 & 0 & 0 & 0 & ⋯ &  547 &  550 &  554 &  554 &  559 &  562 &  566 &  567 &  570 &  574\\\\\n\t 0 & 0 & 0 & 0 & 0 & 0 & 0 & 0 & 0 & 0 & ⋯ & 1971 & 1978 & 1997 & 2001 & 2025 & 2036 & 2047 & 2073 & 2110 & 2132\\\\\n\t 0 & 0 & 0 & 0 & 0 & 0 & 0 & 0 & 0 & 0 & ⋯ & 1513 & 1521 & 1526 & 1527 & 1534 & 1542 & 1548 & 1557 & 1561 & 1564\\\\\n\t 0 & 0 & 0 & 0 & 0 & 0 & 0 & 0 & 0 & 0 & ⋯ & 1808 & 1809 & 1815 & 1817 & 1828 & 1829 & 1830 & 1832 & 1836 & 1837\\\\\n\t 0 & 0 & 0 & 0 & 0 & 0 & 0 & 0 & 0 & 0 & ⋯ & 2623 & 2649 & 2700 & 2709 & 2769 & 2803 & 2838 & 2854 & 2913 & 2942\\\\\n\t 0 & 0 & 0 & 0 & 0 & 0 & 0 & 0 & 0 & 0 & ⋯ & 2835 & 2844 & 2874 & 2889 & 2917 & 2945 & 2952 & 2967 & 2995 & 3009\\\\\n\t 0 & 0 & 0 & 0 & 0 & 0 & 0 & 0 & 0 & 0 & ⋯ & 1652 & 1653 & 1662 & 1670 & 1680 & 1684 & 1684 & 1684 & 1690 & 1687\\\\\n\t 0 & 0 & 0 & 0 & 0 & 0 & 0 & 0 & 0 & 0 & ⋯ & 3691 & 3699 & 3726 & 3726 & 3754 & 3769 & 3791 & 3806 & 3838 & 3869\\\\\n\t 0 & 0 & 0 & 0 & 0 & 0 & 0 & 0 & 0 & 0 & ⋯ &  485 &  490 &  490 &  490 &  491 &  497 &  511 &  515 &  518 &  520\\\\\n\t 0 & 0 & 0 & 0 & 0 & 0 & 0 & 0 & 0 & 0 & ⋯ & 1850 & 1856 & 1868 & 1871 & 1872 & 1886 & 1891 & 1896 & 1900 & 1916\\\\\n\t ⋮ & ⋮ & ⋮ & ⋮ & ⋮ & ⋮ & ⋮ & ⋮ & ⋮ & ⋮ & ⋱ & ⋮ & ⋮ & ⋮ & ⋮ & ⋮ & ⋮ & ⋮ & ⋮ & ⋮ & ⋮\\\\\n\t 0 & 0 & 0 & 0 & 0 & 0 & 0 & 0 & 0 & 0 & ⋯ & 8227 & 8289 & 8410 & 8597 & 8775 & 8887 & 8933 & 9003 & 9390 & 9532\\\\\n\t 0 & 0 & 0 & 0 & 0 & 0 & 0 & 0 & 0 & 0 & ⋯ & 1364 & 1391 & 1430 & 1495 & 1518 & 1560 & 1604 & 1661 & 1689 & 1741\\\\\n\t 0 & 0 & 0 & 0 & 0 & 0 & 0 & 0 & 0 & 0 & ⋯ &  471 &  481 &  499 &  524 &  561 &  576 &  596 &  623 &  639 &  653\\\\\n\t 0 & 0 & 0 & 0 & 0 & 0 & 0 & 0 & 0 & 0 & ⋯ & 5193 & 5335 & 5508 & 5740 & 5886 & 6023 & 6173 & 6297 & 6494 & 6603\\\\\n\t 0 & 0 & 0 & 0 & 0 & 0 & 0 & 0 & 0 & 0 & ⋯ &  960 &  968 &  987 & 1013 & 1058 & 1088 & 1114 & 1132 & 1152 & 1182\\\\\n\t 0 & 0 & 0 & 0 & 0 & 0 & 0 & 0 & 0 & 0 & ⋯ &  720 &  732 &  747 &  771 &  811 &  826 &  855 &  898 &  914 &  942\\\\\n\t 0 & 0 & 0 & 0 & 0 & 0 & 0 & 0 & 0 & 0 & ⋯ &   79 &   85 &   87 &   90 &   96 &  105 &  108 &  115 &  118 &  122\\\\\n\t 0 & 0 & 0 & 0 & 0 & 0 & 0 & 0 & 0 & 0 & ⋯ &  390 &  400 &  412 &  427 &  445 &  453 &  467 &  479 &  487 &  510\\\\\n\t 0 & 0 & 0 & 0 & 0 & 0 & 0 & 0 & 0 & 0 & ⋯ &  243 &  245 &  247 &  251 &  255 &  255 &  255 &  256 &  256 &  262\\\\\n\t 0 & 0 & 0 & 0 & 0 & 0 & 0 & 0 & 0 & 0 & ⋯ &  159 &  169 &  172 &  180 &  185 &  188 &  192 &  196 &  201 &  209\\\\\n\t 0 & 0 & 0 & 0 & 0 & 0 & 0 & 0 & 0 & 0 & ⋯ &   49 &   53 &   54 &   55 &   61 &   63 &   63 &   65 &   66 &   68\\\\\n\t 0 & 0 & 0 & 0 & 0 & 0 & 0 & 0 & 0 & 0 & ⋯ &  803 &  814 &  835 &  866 &  881 &  898 &  914 &  927 &  946 &  964\\\\\n\t 0 & 0 & 0 & 0 & 0 & 0 & 0 & 0 & 0 & 0 & ⋯ &  117 &  119 &  120 &  121 &  123 &  127 &  127 &  128 &  130 &  133\\\\\n\t 0 & 0 & 0 & 0 & 0 & 0 & 0 & 0 & 0 & 0 & ⋯ &   38 &   38 &   40 &   41 &   41 &   41 &   41 &   41 &   41 &   41\\\\\n\t 0 & 0 & 0 & 0 & 0 & 0 & 0 & 0 & 0 & 0 & ⋯ &   44 &   44 &   46 &   46 &   47 &   47 &   52 &   54 &   55 &   57\\\\\n\t 0 & 0 & 0 & 0 & 0 & 0 & 0 & 0 & 0 & 0 & ⋯ &  784 &  808 &  831 &  863 &  883 &  918 &  938 &  960 &  992 & 1037\\\\\n\t 0 & 0 & 0 & 0 & 0 & 0 & 0 & 0 & 0 & 0 & ⋯ &  233 &  242 &  246 &  254 &  260 &  262 &  274 &  282 &  289 &  294\\\\\n\t 0 & 0 & 0 & 0 & 0 & 0 & 0 & 0 & 0 & 0 & ⋯ &  674 &  687 &  693 &  709 &  748 &  754 &  774 &  798 &  817 &  840\\\\\n\t 0 & 0 & 0 & 0 & 0 & 0 & 0 & 0 & 0 & 0 & ⋯ &    5 &    4 &    4 &    4 &    4 &    4 &    4 &    4 &    4 &    4\\\\\n\t 0 & 0 & 0 & 0 & 0 & 0 & 0 & 0 & 0 & 0 & ⋯ &    0 &    0 &    0 &    0 &    0 &    0 &    0 &    0 &    0 &    0\\\\\n\t 0 & 0 & 0 & 0 & 0 & 0 & 0 & 0 & 0 & 0 & ⋯ &  268 &  272 &  284 &  288 &  304 &  310 &  326 &  339 &  355 &  369\\\\\n\t 0 & 0 & 0 & 0 & 0 & 0 & 0 & 0 & 0 & 0 & ⋯ &   47 &   51 &   54 &   54 &   58 &   58 &   61 &   65 &   72 &   74\\\\\n\t 0 & 0 & 0 & 0 & 0 & 0 & 0 & 0 & 0 & 0 & ⋯ &  335 &  346 &  352 &  369 &  389 &  400 &  408 &  428 &  435 &  447\\\\\n\t 0 & 0 & 0 & 0 & 0 & 0 & 0 & 0 & 0 & 0 & ⋯ &  123 &  127 &  127 &  129 &  130 &  131 &  133 &  133 &  133 &  133\\\\\n\t 0 & 0 & 0 & 0 & 0 & 0 & 0 & 0 & 0 & 0 & ⋯ &  363 &  371 &  378 &  382 &  393 &  396 &  394 &  394 &  401 &  402\\\\\n\t 0 & 0 & 0 & 0 & 0 & 0 & 0 & 0 & 0 & 0 & ⋯ &  625 &  629 &  633 &  645 &  656 &  658 &  662 &  675 &  679 &  686\\\\\n\t 0 & 0 & 0 & 0 & 0 & 0 & 0 & 0 & 0 & 0 & ⋯ &  365 &  368 &  368 &  373 &  378 &  379 &  380 &  381 &  384 &  385\\\\\n\t 0 & 0 & 0 & 0 & 0 & 0 & 0 & 0 & 0 & 0 & ⋯ &    0 &    0 &    0 &    0 &   10 &    0 &    0 &    0 &    0 &    0\\\\\n\t 0 & 0 & 0 & 0 & 0 & 0 & 0 & 0 & 0 & 0 & ⋯ &  121 &  120 &  119 &  123 &  123 &  124 &  125 &  126 &  127 &  132\\\\\n\t 0 & 0 & 0 & 0 & 0 & 0 & 0 & 0 & 0 & 0 & ⋯ &   44 &   46 &   50 &   51 &   54 &   58 &   58 &   58 &   62 &   66\\\\\n\\end{tabular}\n",
            "text/markdown": "\nA tibble: 3340 × 267\n\n| 1/22/20 &lt;dbl&gt; | 1/23/20 &lt;dbl&gt; | 1/24/20 &lt;dbl&gt; | 1/25/20 &lt;dbl&gt; | 1/26/20 &lt;dbl&gt; | 1/27/20 &lt;dbl&gt; | 1/28/20 &lt;dbl&gt; | 1/29/20 &lt;dbl&gt; | 1/30/20 &lt;dbl&gt; | 1/31/20 &lt;dbl&gt; | ⋯ ⋯ | 10/5/20 &lt;dbl&gt; | 10/6/20 &lt;dbl&gt; | 10/7/20 &lt;dbl&gt; | 10/8/20 &lt;dbl&gt; | 10/9/20 &lt;dbl&gt; | 10/10/20 &lt;dbl&gt; | 10/11/20 &lt;dbl&gt; | 10/12/20 &lt;dbl&gt; | 10/13/20 &lt;dbl&gt; | 10/14/20 &lt;dbl&gt; |\n|---|---|---|---|---|---|---|---|---|---|---|---|---|---|---|---|---|---|---|---|---|\n| 0 | 0 | 0 | 0 | 0 | 0 | 0 | 0 | 0 | 0 | ⋯ | 1831 | 1839 | 1852 | 1863 | 1882 | 1898 | 1905 | 1911 | 1924 | 1928 |\n| 0 | 0 | 0 | 0 | 0 | 0 | 0 | 0 | 0 | 0 | ⋯ | 6085 | 6116 | 6134 | 6141 | 6172 | 6190 | 6203 | 6220 | 6248 | 6270 |\n| 0 | 0 | 0 | 0 | 0 | 0 | 0 | 0 | 0 | 0 | ⋯ |  921 |  923 |  927 |  927 |  939 |  942 |  942 |  944 |  951 |  950 |\n| 0 | 0 | 0 | 0 | 0 | 0 | 0 | 0 | 0 | 0 | ⋯ |  687 |  691 |  703 |  708 |  719 |  726 |  736 |  738 |  744 |  744 |\n| 0 | 0 | 0 | 0 | 0 | 0 | 0 | 0 | 0 | 0 | ⋯ | 1662 | 1665 | 1673 | 1681 | 1689 | 1704 | 1713 | 1722 | 1742 | 1750 |\n| 0 | 0 | 0 | 0 | 0 | 0 | 0 | 0 | 0 | 0 | ⋯ |  613 |  616 |  618 |  619 |  622 |  623 |  624 |  625 |  626 |  628 |\n| 0 | 0 | 0 | 0 | 0 | 0 | 0 | 0 | 0 | 0 | ⋯ |  927 |  928 |  933 |  932 |  943 |  952 |  958 |  962 |  968 |  977 |\n| 0 | 0 | 0 | 0 | 0 | 0 | 0 | 0 | 0 | 0 | ⋯ | 3705 | 3730 | 3743 | 3752 | 3803 | 3823 | 3841 | 3861 | 3897 | 3922 |\n| 0 | 0 | 0 | 0 | 0 | 0 | 0 | 0 | 0 | 0 | ⋯ | 1208 | 1210 | 1211 | 1222 | 1238 | 1242 | 1242 | 1245 | 1254 | 1256 |\n| 0 | 0 | 0 | 0 | 0 | 0 | 0 | 0 | 0 | 0 | ⋯ |  642 |  644 |  651 |  654 |  662 |  666 |  670 |  674 |  687 |  687 |\n| 0 | 0 | 0 | 0 | 0 | 0 | 0 | 0 | 0 | 0 | ⋯ | 1661 | 1672 | 1679 | 1684 | 1701 | 1713 | 1722 | 1733 | 1738 | 1740 |\n| 0 | 0 | 0 | 0 | 0 | 0 | 0 | 0 | 0 | 0 | ⋯ |  366 |  367 |  368 |  369 |  374 |  375 |  376 |  377 |  377 |  377 |\n| 0 | 0 | 0 | 0 | 0 | 0 | 0 | 0 | 0 | 0 | ⋯ | 1158 | 1158 | 1166 | 1184 | 1203 | 1216 | 1219 | 1220 | 1223 | 1229 |\n| 0 | 0 | 0 | 0 | 0 | 0 | 0 | 0 | 0 | 0 | ⋯ |  613 |  614 |  623 |  627 |  634 |  641 |  646 |  650 |  661 |  667 |\n| 0 | 0 | 0 | 0 | 0 | 0 | 0 | 0 | 0 | 0 | ⋯ |  428 |  436 |  448 |  449 |  452 |  467 |  468 |  469 |  475 |  483 |\n| 0 | 0 | 0 | 0 | 0 | 0 | 0 | 0 | 0 | 0 | ⋯ | 1472 | 1482 | 1486 | 1497 | 1513 | 1521 | 1532 | 1543 | 1551 | 1568 |\n| 0 | 0 | 0 | 0 | 0 | 0 | 0 | 0 | 0 | 0 | ⋯ | 1744 | 1755 | 1765 | 1771 | 1787 | 1804 | 1813 | 1824 | 1832 | 1840 |\n| 0 | 0 | 0 | 0 | 0 | 0 | 0 | 0 | 0 | 0 | ⋯ |  540 |  540 |  540 |  542 |  546 |  547 |  547 |  547 |  549 |  549 |\n| 0 | 0 | 0 | 0 | 0 | 0 | 0 | 0 | 0 | 0 | ⋯ |  179 |  179 |  180 |  183 |  186 |  187 |  187 |  188 |  189 |  190 |\n| 0 | 0 | 0 | 0 | 0 | 0 | 0 | 0 | 0 | 0 | ⋯ | 1480 | 1486 | 1495 | 1514 | 1533 | 1541 | 1561 | 1570 | 1584 | 1585 |\n| 0 | 0 | 0 | 0 | 0 | 0 | 0 | 0 | 0 | 0 | ⋯ |  547 |  550 |  554 |  554 |  559 |  562 |  566 |  567 |  570 |  574 |\n| 0 | 0 | 0 | 0 | 0 | 0 | 0 | 0 | 0 | 0 | ⋯ | 1971 | 1978 | 1997 | 2001 | 2025 | 2036 | 2047 | 2073 | 2110 | 2132 |\n| 0 | 0 | 0 | 0 | 0 | 0 | 0 | 0 | 0 | 0 | ⋯ | 1513 | 1521 | 1526 | 1527 | 1534 | 1542 | 1548 | 1557 | 1561 | 1564 |\n| 0 | 0 | 0 | 0 | 0 | 0 | 0 | 0 | 0 | 0 | ⋯ | 1808 | 1809 | 1815 | 1817 | 1828 | 1829 | 1830 | 1832 | 1836 | 1837 |\n| 0 | 0 | 0 | 0 | 0 | 0 | 0 | 0 | 0 | 0 | ⋯ | 2623 | 2649 | 2700 | 2709 | 2769 | 2803 | 2838 | 2854 | 2913 | 2942 |\n| 0 | 0 | 0 | 0 | 0 | 0 | 0 | 0 | 0 | 0 | ⋯ | 2835 | 2844 | 2874 | 2889 | 2917 | 2945 | 2952 | 2967 | 2995 | 3009 |\n| 0 | 0 | 0 | 0 | 0 | 0 | 0 | 0 | 0 | 0 | ⋯ | 1652 | 1653 | 1662 | 1670 | 1680 | 1684 | 1684 | 1684 | 1690 | 1687 |\n| 0 | 0 | 0 | 0 | 0 | 0 | 0 | 0 | 0 | 0 | ⋯ | 3691 | 3699 | 3726 | 3726 | 3754 | 3769 | 3791 | 3806 | 3838 | 3869 |\n| 0 | 0 | 0 | 0 | 0 | 0 | 0 | 0 | 0 | 0 | ⋯ |  485 |  490 |  490 |  490 |  491 |  497 |  511 |  515 |  518 |  520 |\n| 0 | 0 | 0 | 0 | 0 | 0 | 0 | 0 | 0 | 0 | ⋯ | 1850 | 1856 | 1868 | 1871 | 1872 | 1886 | 1891 | 1896 | 1900 | 1916 |\n| ⋮ | ⋮ | ⋮ | ⋮ | ⋮ | ⋮ | ⋮ | ⋮ | ⋮ | ⋮ | ⋱ | ⋮ | ⋮ | ⋮ | ⋮ | ⋮ | ⋮ | ⋮ | ⋮ | ⋮ | ⋮ |\n| 0 | 0 | 0 | 0 | 0 | 0 | 0 | 0 | 0 | 0 | ⋯ | 8227 | 8289 | 8410 | 8597 | 8775 | 8887 | 8933 | 9003 | 9390 | 9532 |\n| 0 | 0 | 0 | 0 | 0 | 0 | 0 | 0 | 0 | 0 | ⋯ | 1364 | 1391 | 1430 | 1495 | 1518 | 1560 | 1604 | 1661 | 1689 | 1741 |\n| 0 | 0 | 0 | 0 | 0 | 0 | 0 | 0 | 0 | 0 | ⋯ |  471 |  481 |  499 |  524 |  561 |  576 |  596 |  623 |  639 |  653 |\n| 0 | 0 | 0 | 0 | 0 | 0 | 0 | 0 | 0 | 0 | ⋯ | 5193 | 5335 | 5508 | 5740 | 5886 | 6023 | 6173 | 6297 | 6494 | 6603 |\n| 0 | 0 | 0 | 0 | 0 | 0 | 0 | 0 | 0 | 0 | ⋯ |  960 |  968 |  987 | 1013 | 1058 | 1088 | 1114 | 1132 | 1152 | 1182 |\n| 0 | 0 | 0 | 0 | 0 | 0 | 0 | 0 | 0 | 0 | ⋯ |  720 |  732 |  747 |  771 |  811 |  826 |  855 |  898 |  914 |  942 |\n| 0 | 0 | 0 | 0 | 0 | 0 | 0 | 0 | 0 | 0 | ⋯ |   79 |   85 |   87 |   90 |   96 |  105 |  108 |  115 |  118 |  122 |\n| 0 | 0 | 0 | 0 | 0 | 0 | 0 | 0 | 0 | 0 | ⋯ |  390 |  400 |  412 |  427 |  445 |  453 |  467 |  479 |  487 |  510 |\n| 0 | 0 | 0 | 0 | 0 | 0 | 0 | 0 | 0 | 0 | ⋯ |  243 |  245 |  247 |  251 |  255 |  255 |  255 |  256 |  256 |  262 |\n| 0 | 0 | 0 | 0 | 0 | 0 | 0 | 0 | 0 | 0 | ⋯ |  159 |  169 |  172 |  180 |  185 |  188 |  192 |  196 |  201 |  209 |\n| 0 | 0 | 0 | 0 | 0 | 0 | 0 | 0 | 0 | 0 | ⋯ |   49 |   53 |   54 |   55 |   61 |   63 |   63 |   65 |   66 |   68 |\n| 0 | 0 | 0 | 0 | 0 | 0 | 0 | 0 | 0 | 0 | ⋯ |  803 |  814 |  835 |  866 |  881 |  898 |  914 |  927 |  946 |  964 |\n| 0 | 0 | 0 | 0 | 0 | 0 | 0 | 0 | 0 | 0 | ⋯ |  117 |  119 |  120 |  121 |  123 |  127 |  127 |  128 |  130 |  133 |\n| 0 | 0 | 0 | 0 | 0 | 0 | 0 | 0 | 0 | 0 | ⋯ |   38 |   38 |   40 |   41 |   41 |   41 |   41 |   41 |   41 |   41 |\n| 0 | 0 | 0 | 0 | 0 | 0 | 0 | 0 | 0 | 0 | ⋯ |   44 |   44 |   46 |   46 |   47 |   47 |   52 |   54 |   55 |   57 |\n| 0 | 0 | 0 | 0 | 0 | 0 | 0 | 0 | 0 | 0 | ⋯ |  784 |  808 |  831 |  863 |  883 |  918 |  938 |  960 |  992 | 1037 |\n| 0 | 0 | 0 | 0 | 0 | 0 | 0 | 0 | 0 | 0 | ⋯ |  233 |  242 |  246 |  254 |  260 |  262 |  274 |  282 |  289 |  294 |\n| 0 | 0 | 0 | 0 | 0 | 0 | 0 | 0 | 0 | 0 | ⋯ |  674 |  687 |  693 |  709 |  748 |  754 |  774 |  798 |  817 |  840 |\n| 0 | 0 | 0 | 0 | 0 | 0 | 0 | 0 | 0 | 0 | ⋯ |    5 |    4 |    4 |    4 |    4 |    4 |    4 |    4 |    4 |    4 |\n| 0 | 0 | 0 | 0 | 0 | 0 | 0 | 0 | 0 | 0 | ⋯ |    0 |    0 |    0 |    0 |    0 |    0 |    0 |    0 |    0 |    0 |\n| 0 | 0 | 0 | 0 | 0 | 0 | 0 | 0 | 0 | 0 | ⋯ |  268 |  272 |  284 |  288 |  304 |  310 |  326 |  339 |  355 |  369 |\n| 0 | 0 | 0 | 0 | 0 | 0 | 0 | 0 | 0 | 0 | ⋯ |   47 |   51 |   54 |   54 |   58 |   58 |   61 |   65 |   72 |   74 |\n| 0 | 0 | 0 | 0 | 0 | 0 | 0 | 0 | 0 | 0 | ⋯ |  335 |  346 |  352 |  369 |  389 |  400 |  408 |  428 |  435 |  447 |\n| 0 | 0 | 0 | 0 | 0 | 0 | 0 | 0 | 0 | 0 | ⋯ |  123 |  127 |  127 |  129 |  130 |  131 |  133 |  133 |  133 |  133 |\n| 0 | 0 | 0 | 0 | 0 | 0 | 0 | 0 | 0 | 0 | ⋯ |  363 |  371 |  378 |  382 |  393 |  396 |  394 |  394 |  401 |  402 |\n| 0 | 0 | 0 | 0 | 0 | 0 | 0 | 0 | 0 | 0 | ⋯ |  625 |  629 |  633 |  645 |  656 |  658 |  662 |  675 |  679 |  686 |\n| 0 | 0 | 0 | 0 | 0 | 0 | 0 | 0 | 0 | 0 | ⋯ |  365 |  368 |  368 |  373 |  378 |  379 |  380 |  381 |  384 |  385 |\n| 0 | 0 | 0 | 0 | 0 | 0 | 0 | 0 | 0 | 0 | ⋯ |    0 |    0 |    0 |    0 |   10 |    0 |    0 |    0 |    0 |    0 |\n| 0 | 0 | 0 | 0 | 0 | 0 | 0 | 0 | 0 | 0 | ⋯ |  121 |  120 |  119 |  123 |  123 |  124 |  125 |  126 |  127 |  132 |\n| 0 | 0 | 0 | 0 | 0 | 0 | 0 | 0 | 0 | 0 | ⋯ |   44 |   46 |   50 |   51 |   54 |   58 |   58 |   58 |   62 |   66 |\n\n",
            "text/html": [
              "<table>\n",
              "<caption>A tibble: 3340 × 267</caption>\n",
              "<thead>\n",
              "\t<tr><th scope=col>1/22/20</th><th scope=col>1/23/20</th><th scope=col>1/24/20</th><th scope=col>1/25/20</th><th scope=col>1/26/20</th><th scope=col>1/27/20</th><th scope=col>1/28/20</th><th scope=col>1/29/20</th><th scope=col>1/30/20</th><th scope=col>1/31/20</th><th scope=col>⋯</th><th scope=col>10/5/20</th><th scope=col>10/6/20</th><th scope=col>10/7/20</th><th scope=col>10/8/20</th><th scope=col>10/9/20</th><th scope=col>10/10/20</th><th scope=col>10/11/20</th><th scope=col>10/12/20</th><th scope=col>10/13/20</th><th scope=col>10/14/20</th></tr>\n",
              "\t<tr><th scope=col>&lt;dbl&gt;</th><th scope=col>&lt;dbl&gt;</th><th scope=col>&lt;dbl&gt;</th><th scope=col>&lt;dbl&gt;</th><th scope=col>&lt;dbl&gt;</th><th scope=col>&lt;dbl&gt;</th><th scope=col>&lt;dbl&gt;</th><th scope=col>&lt;dbl&gt;</th><th scope=col>&lt;dbl&gt;</th><th scope=col>&lt;dbl&gt;</th><th scope=col>⋯</th><th scope=col>&lt;dbl&gt;</th><th scope=col>&lt;dbl&gt;</th><th scope=col>&lt;dbl&gt;</th><th scope=col>&lt;dbl&gt;</th><th scope=col>&lt;dbl&gt;</th><th scope=col>&lt;dbl&gt;</th><th scope=col>&lt;dbl&gt;</th><th scope=col>&lt;dbl&gt;</th><th scope=col>&lt;dbl&gt;</th><th scope=col>&lt;dbl&gt;</th></tr>\n",
              "</thead>\n",
              "<tbody>\n",
              "\t<tr><td>0</td><td>0</td><td>0</td><td>0</td><td>0</td><td>0</td><td>0</td><td>0</td><td>0</td><td>0</td><td>⋯</td><td>1831</td><td>1839</td><td>1852</td><td>1863</td><td>1882</td><td>1898</td><td>1905</td><td>1911</td><td>1924</td><td>1928</td></tr>\n",
              "\t<tr><td>0</td><td>0</td><td>0</td><td>0</td><td>0</td><td>0</td><td>0</td><td>0</td><td>0</td><td>0</td><td>⋯</td><td>6085</td><td>6116</td><td>6134</td><td>6141</td><td>6172</td><td>6190</td><td>6203</td><td>6220</td><td>6248</td><td>6270</td></tr>\n",
              "\t<tr><td>0</td><td>0</td><td>0</td><td>0</td><td>0</td><td>0</td><td>0</td><td>0</td><td>0</td><td>0</td><td>⋯</td><td> 921</td><td> 923</td><td> 927</td><td> 927</td><td> 939</td><td> 942</td><td> 942</td><td> 944</td><td> 951</td><td> 950</td></tr>\n",
              "\t<tr><td>0</td><td>0</td><td>0</td><td>0</td><td>0</td><td>0</td><td>0</td><td>0</td><td>0</td><td>0</td><td>⋯</td><td> 687</td><td> 691</td><td> 703</td><td> 708</td><td> 719</td><td> 726</td><td> 736</td><td> 738</td><td> 744</td><td> 744</td></tr>\n",
              "\t<tr><td>0</td><td>0</td><td>0</td><td>0</td><td>0</td><td>0</td><td>0</td><td>0</td><td>0</td><td>0</td><td>⋯</td><td>1662</td><td>1665</td><td>1673</td><td>1681</td><td>1689</td><td>1704</td><td>1713</td><td>1722</td><td>1742</td><td>1750</td></tr>\n",
              "\t<tr><td>0</td><td>0</td><td>0</td><td>0</td><td>0</td><td>0</td><td>0</td><td>0</td><td>0</td><td>0</td><td>⋯</td><td> 613</td><td> 616</td><td> 618</td><td> 619</td><td> 622</td><td> 623</td><td> 624</td><td> 625</td><td> 626</td><td> 628</td></tr>\n",
              "\t<tr><td>0</td><td>0</td><td>0</td><td>0</td><td>0</td><td>0</td><td>0</td><td>0</td><td>0</td><td>0</td><td>⋯</td><td> 927</td><td> 928</td><td> 933</td><td> 932</td><td> 943</td><td> 952</td><td> 958</td><td> 962</td><td> 968</td><td> 977</td></tr>\n",
              "\t<tr><td>0</td><td>0</td><td>0</td><td>0</td><td>0</td><td>0</td><td>0</td><td>0</td><td>0</td><td>0</td><td>⋯</td><td>3705</td><td>3730</td><td>3743</td><td>3752</td><td>3803</td><td>3823</td><td>3841</td><td>3861</td><td>3897</td><td>3922</td></tr>\n",
              "\t<tr><td>0</td><td>0</td><td>0</td><td>0</td><td>0</td><td>0</td><td>0</td><td>0</td><td>0</td><td>0</td><td>⋯</td><td>1208</td><td>1210</td><td>1211</td><td>1222</td><td>1238</td><td>1242</td><td>1242</td><td>1245</td><td>1254</td><td>1256</td></tr>\n",
              "\t<tr><td>0</td><td>0</td><td>0</td><td>0</td><td>0</td><td>0</td><td>0</td><td>0</td><td>0</td><td>0</td><td>⋯</td><td> 642</td><td> 644</td><td> 651</td><td> 654</td><td> 662</td><td> 666</td><td> 670</td><td> 674</td><td> 687</td><td> 687</td></tr>\n",
              "\t<tr><td>0</td><td>0</td><td>0</td><td>0</td><td>0</td><td>0</td><td>0</td><td>0</td><td>0</td><td>0</td><td>⋯</td><td>1661</td><td>1672</td><td>1679</td><td>1684</td><td>1701</td><td>1713</td><td>1722</td><td>1733</td><td>1738</td><td>1740</td></tr>\n",
              "\t<tr><td>0</td><td>0</td><td>0</td><td>0</td><td>0</td><td>0</td><td>0</td><td>0</td><td>0</td><td>0</td><td>⋯</td><td> 366</td><td> 367</td><td> 368</td><td> 369</td><td> 374</td><td> 375</td><td> 376</td><td> 377</td><td> 377</td><td> 377</td></tr>\n",
              "\t<tr><td>0</td><td>0</td><td>0</td><td>0</td><td>0</td><td>0</td><td>0</td><td>0</td><td>0</td><td>0</td><td>⋯</td><td>1158</td><td>1158</td><td>1166</td><td>1184</td><td>1203</td><td>1216</td><td>1219</td><td>1220</td><td>1223</td><td>1229</td></tr>\n",
              "\t<tr><td>0</td><td>0</td><td>0</td><td>0</td><td>0</td><td>0</td><td>0</td><td>0</td><td>0</td><td>0</td><td>⋯</td><td> 613</td><td> 614</td><td> 623</td><td> 627</td><td> 634</td><td> 641</td><td> 646</td><td> 650</td><td> 661</td><td> 667</td></tr>\n",
              "\t<tr><td>0</td><td>0</td><td>0</td><td>0</td><td>0</td><td>0</td><td>0</td><td>0</td><td>0</td><td>0</td><td>⋯</td><td> 428</td><td> 436</td><td> 448</td><td> 449</td><td> 452</td><td> 467</td><td> 468</td><td> 469</td><td> 475</td><td> 483</td></tr>\n",
              "\t<tr><td>0</td><td>0</td><td>0</td><td>0</td><td>0</td><td>0</td><td>0</td><td>0</td><td>0</td><td>0</td><td>⋯</td><td>1472</td><td>1482</td><td>1486</td><td>1497</td><td>1513</td><td>1521</td><td>1532</td><td>1543</td><td>1551</td><td>1568</td></tr>\n",
              "\t<tr><td>0</td><td>0</td><td>0</td><td>0</td><td>0</td><td>0</td><td>0</td><td>0</td><td>0</td><td>0</td><td>⋯</td><td>1744</td><td>1755</td><td>1765</td><td>1771</td><td>1787</td><td>1804</td><td>1813</td><td>1824</td><td>1832</td><td>1840</td></tr>\n",
              "\t<tr><td>0</td><td>0</td><td>0</td><td>0</td><td>0</td><td>0</td><td>0</td><td>0</td><td>0</td><td>0</td><td>⋯</td><td> 540</td><td> 540</td><td> 540</td><td> 542</td><td> 546</td><td> 547</td><td> 547</td><td> 547</td><td> 549</td><td> 549</td></tr>\n",
              "\t<tr><td>0</td><td>0</td><td>0</td><td>0</td><td>0</td><td>0</td><td>0</td><td>0</td><td>0</td><td>0</td><td>⋯</td><td> 179</td><td> 179</td><td> 180</td><td> 183</td><td> 186</td><td> 187</td><td> 187</td><td> 188</td><td> 189</td><td> 190</td></tr>\n",
              "\t<tr><td>0</td><td>0</td><td>0</td><td>0</td><td>0</td><td>0</td><td>0</td><td>0</td><td>0</td><td>0</td><td>⋯</td><td>1480</td><td>1486</td><td>1495</td><td>1514</td><td>1533</td><td>1541</td><td>1561</td><td>1570</td><td>1584</td><td>1585</td></tr>\n",
              "\t<tr><td>0</td><td>0</td><td>0</td><td>0</td><td>0</td><td>0</td><td>0</td><td>0</td><td>0</td><td>0</td><td>⋯</td><td> 547</td><td> 550</td><td> 554</td><td> 554</td><td> 559</td><td> 562</td><td> 566</td><td> 567</td><td> 570</td><td> 574</td></tr>\n",
              "\t<tr><td>0</td><td>0</td><td>0</td><td>0</td><td>0</td><td>0</td><td>0</td><td>0</td><td>0</td><td>0</td><td>⋯</td><td>1971</td><td>1978</td><td>1997</td><td>2001</td><td>2025</td><td>2036</td><td>2047</td><td>2073</td><td>2110</td><td>2132</td></tr>\n",
              "\t<tr><td>0</td><td>0</td><td>0</td><td>0</td><td>0</td><td>0</td><td>0</td><td>0</td><td>0</td><td>0</td><td>⋯</td><td>1513</td><td>1521</td><td>1526</td><td>1527</td><td>1534</td><td>1542</td><td>1548</td><td>1557</td><td>1561</td><td>1564</td></tr>\n",
              "\t<tr><td>0</td><td>0</td><td>0</td><td>0</td><td>0</td><td>0</td><td>0</td><td>0</td><td>0</td><td>0</td><td>⋯</td><td>1808</td><td>1809</td><td>1815</td><td>1817</td><td>1828</td><td>1829</td><td>1830</td><td>1832</td><td>1836</td><td>1837</td></tr>\n",
              "\t<tr><td>0</td><td>0</td><td>0</td><td>0</td><td>0</td><td>0</td><td>0</td><td>0</td><td>0</td><td>0</td><td>⋯</td><td>2623</td><td>2649</td><td>2700</td><td>2709</td><td>2769</td><td>2803</td><td>2838</td><td>2854</td><td>2913</td><td>2942</td></tr>\n",
              "\t<tr><td>0</td><td>0</td><td>0</td><td>0</td><td>0</td><td>0</td><td>0</td><td>0</td><td>0</td><td>0</td><td>⋯</td><td>2835</td><td>2844</td><td>2874</td><td>2889</td><td>2917</td><td>2945</td><td>2952</td><td>2967</td><td>2995</td><td>3009</td></tr>\n",
              "\t<tr><td>0</td><td>0</td><td>0</td><td>0</td><td>0</td><td>0</td><td>0</td><td>0</td><td>0</td><td>0</td><td>⋯</td><td>1652</td><td>1653</td><td>1662</td><td>1670</td><td>1680</td><td>1684</td><td>1684</td><td>1684</td><td>1690</td><td>1687</td></tr>\n",
              "\t<tr><td>0</td><td>0</td><td>0</td><td>0</td><td>0</td><td>0</td><td>0</td><td>0</td><td>0</td><td>0</td><td>⋯</td><td>3691</td><td>3699</td><td>3726</td><td>3726</td><td>3754</td><td>3769</td><td>3791</td><td>3806</td><td>3838</td><td>3869</td></tr>\n",
              "\t<tr><td>0</td><td>0</td><td>0</td><td>0</td><td>0</td><td>0</td><td>0</td><td>0</td><td>0</td><td>0</td><td>⋯</td><td> 485</td><td> 490</td><td> 490</td><td> 490</td><td> 491</td><td> 497</td><td> 511</td><td> 515</td><td> 518</td><td> 520</td></tr>\n",
              "\t<tr><td>0</td><td>0</td><td>0</td><td>0</td><td>0</td><td>0</td><td>0</td><td>0</td><td>0</td><td>0</td><td>⋯</td><td>1850</td><td>1856</td><td>1868</td><td>1871</td><td>1872</td><td>1886</td><td>1891</td><td>1896</td><td>1900</td><td>1916</td></tr>\n",
              "\t<tr><td>⋮</td><td>⋮</td><td>⋮</td><td>⋮</td><td>⋮</td><td>⋮</td><td>⋮</td><td>⋮</td><td>⋮</td><td>⋮</td><td>⋱</td><td>⋮</td><td>⋮</td><td>⋮</td><td>⋮</td><td>⋮</td><td>⋮</td><td>⋮</td><td>⋮</td><td>⋮</td><td>⋮</td></tr>\n",
              "\t<tr><td>0</td><td>0</td><td>0</td><td>0</td><td>0</td><td>0</td><td>0</td><td>0</td><td>0</td><td>0</td><td>⋯</td><td>8227</td><td>8289</td><td>8410</td><td>8597</td><td>8775</td><td>8887</td><td>8933</td><td>9003</td><td>9390</td><td>9532</td></tr>\n",
              "\t<tr><td>0</td><td>0</td><td>0</td><td>0</td><td>0</td><td>0</td><td>0</td><td>0</td><td>0</td><td>0</td><td>⋯</td><td>1364</td><td>1391</td><td>1430</td><td>1495</td><td>1518</td><td>1560</td><td>1604</td><td>1661</td><td>1689</td><td>1741</td></tr>\n",
              "\t<tr><td>0</td><td>0</td><td>0</td><td>0</td><td>0</td><td>0</td><td>0</td><td>0</td><td>0</td><td>0</td><td>⋯</td><td> 471</td><td> 481</td><td> 499</td><td> 524</td><td> 561</td><td> 576</td><td> 596</td><td> 623</td><td> 639</td><td> 653</td></tr>\n",
              "\t<tr><td>0</td><td>0</td><td>0</td><td>0</td><td>0</td><td>0</td><td>0</td><td>0</td><td>0</td><td>0</td><td>⋯</td><td>5193</td><td>5335</td><td>5508</td><td>5740</td><td>5886</td><td>6023</td><td>6173</td><td>6297</td><td>6494</td><td>6603</td></tr>\n",
              "\t<tr><td>0</td><td>0</td><td>0</td><td>0</td><td>0</td><td>0</td><td>0</td><td>0</td><td>0</td><td>0</td><td>⋯</td><td> 960</td><td> 968</td><td> 987</td><td>1013</td><td>1058</td><td>1088</td><td>1114</td><td>1132</td><td>1152</td><td>1182</td></tr>\n",
              "\t<tr><td>0</td><td>0</td><td>0</td><td>0</td><td>0</td><td>0</td><td>0</td><td>0</td><td>0</td><td>0</td><td>⋯</td><td> 720</td><td> 732</td><td> 747</td><td> 771</td><td> 811</td><td> 826</td><td> 855</td><td> 898</td><td> 914</td><td> 942</td></tr>\n",
              "\t<tr><td>0</td><td>0</td><td>0</td><td>0</td><td>0</td><td>0</td><td>0</td><td>0</td><td>0</td><td>0</td><td>⋯</td><td>  79</td><td>  85</td><td>  87</td><td>  90</td><td>  96</td><td> 105</td><td> 108</td><td> 115</td><td> 118</td><td> 122</td></tr>\n",
              "\t<tr><td>0</td><td>0</td><td>0</td><td>0</td><td>0</td><td>0</td><td>0</td><td>0</td><td>0</td><td>0</td><td>⋯</td><td> 390</td><td> 400</td><td> 412</td><td> 427</td><td> 445</td><td> 453</td><td> 467</td><td> 479</td><td> 487</td><td> 510</td></tr>\n",
              "\t<tr><td>0</td><td>0</td><td>0</td><td>0</td><td>0</td><td>0</td><td>0</td><td>0</td><td>0</td><td>0</td><td>⋯</td><td> 243</td><td> 245</td><td> 247</td><td> 251</td><td> 255</td><td> 255</td><td> 255</td><td> 256</td><td> 256</td><td> 262</td></tr>\n",
              "\t<tr><td>0</td><td>0</td><td>0</td><td>0</td><td>0</td><td>0</td><td>0</td><td>0</td><td>0</td><td>0</td><td>⋯</td><td> 159</td><td> 169</td><td> 172</td><td> 180</td><td> 185</td><td> 188</td><td> 192</td><td> 196</td><td> 201</td><td> 209</td></tr>\n",
              "\t<tr><td>0</td><td>0</td><td>0</td><td>0</td><td>0</td><td>0</td><td>0</td><td>0</td><td>0</td><td>0</td><td>⋯</td><td>  49</td><td>  53</td><td>  54</td><td>  55</td><td>  61</td><td>  63</td><td>  63</td><td>  65</td><td>  66</td><td>  68</td></tr>\n",
              "\t<tr><td>0</td><td>0</td><td>0</td><td>0</td><td>0</td><td>0</td><td>0</td><td>0</td><td>0</td><td>0</td><td>⋯</td><td> 803</td><td> 814</td><td> 835</td><td> 866</td><td> 881</td><td> 898</td><td> 914</td><td> 927</td><td> 946</td><td> 964</td></tr>\n",
              "\t<tr><td>0</td><td>0</td><td>0</td><td>0</td><td>0</td><td>0</td><td>0</td><td>0</td><td>0</td><td>0</td><td>⋯</td><td> 117</td><td> 119</td><td> 120</td><td> 121</td><td> 123</td><td> 127</td><td> 127</td><td> 128</td><td> 130</td><td> 133</td></tr>\n",
              "\t<tr><td>0</td><td>0</td><td>0</td><td>0</td><td>0</td><td>0</td><td>0</td><td>0</td><td>0</td><td>0</td><td>⋯</td><td>  38</td><td>  38</td><td>  40</td><td>  41</td><td>  41</td><td>  41</td><td>  41</td><td>  41</td><td>  41</td><td>  41</td></tr>\n",
              "\t<tr><td>0</td><td>0</td><td>0</td><td>0</td><td>0</td><td>0</td><td>0</td><td>0</td><td>0</td><td>0</td><td>⋯</td><td>  44</td><td>  44</td><td>  46</td><td>  46</td><td>  47</td><td>  47</td><td>  52</td><td>  54</td><td>  55</td><td>  57</td></tr>\n",
              "\t<tr><td>0</td><td>0</td><td>0</td><td>0</td><td>0</td><td>0</td><td>0</td><td>0</td><td>0</td><td>0</td><td>⋯</td><td> 784</td><td> 808</td><td> 831</td><td> 863</td><td> 883</td><td> 918</td><td> 938</td><td> 960</td><td> 992</td><td>1037</td></tr>\n",
              "\t<tr><td>0</td><td>0</td><td>0</td><td>0</td><td>0</td><td>0</td><td>0</td><td>0</td><td>0</td><td>0</td><td>⋯</td><td> 233</td><td> 242</td><td> 246</td><td> 254</td><td> 260</td><td> 262</td><td> 274</td><td> 282</td><td> 289</td><td> 294</td></tr>\n",
              "\t<tr><td>0</td><td>0</td><td>0</td><td>0</td><td>0</td><td>0</td><td>0</td><td>0</td><td>0</td><td>0</td><td>⋯</td><td> 674</td><td> 687</td><td> 693</td><td> 709</td><td> 748</td><td> 754</td><td> 774</td><td> 798</td><td> 817</td><td> 840</td></tr>\n",
              "\t<tr><td>0</td><td>0</td><td>0</td><td>0</td><td>0</td><td>0</td><td>0</td><td>0</td><td>0</td><td>0</td><td>⋯</td><td>   5</td><td>   4</td><td>   4</td><td>   4</td><td>   4</td><td>   4</td><td>   4</td><td>   4</td><td>   4</td><td>   4</td></tr>\n",
              "\t<tr><td>0</td><td>0</td><td>0</td><td>0</td><td>0</td><td>0</td><td>0</td><td>0</td><td>0</td><td>0</td><td>⋯</td><td>   0</td><td>   0</td><td>   0</td><td>   0</td><td>   0</td><td>   0</td><td>   0</td><td>   0</td><td>   0</td><td>   0</td></tr>\n",
              "\t<tr><td>0</td><td>0</td><td>0</td><td>0</td><td>0</td><td>0</td><td>0</td><td>0</td><td>0</td><td>0</td><td>⋯</td><td> 268</td><td> 272</td><td> 284</td><td> 288</td><td> 304</td><td> 310</td><td> 326</td><td> 339</td><td> 355</td><td> 369</td></tr>\n",
              "\t<tr><td>0</td><td>0</td><td>0</td><td>0</td><td>0</td><td>0</td><td>0</td><td>0</td><td>0</td><td>0</td><td>⋯</td><td>  47</td><td>  51</td><td>  54</td><td>  54</td><td>  58</td><td>  58</td><td>  61</td><td>  65</td><td>  72</td><td>  74</td></tr>\n",
              "\t<tr><td>0</td><td>0</td><td>0</td><td>0</td><td>0</td><td>0</td><td>0</td><td>0</td><td>0</td><td>0</td><td>⋯</td><td> 335</td><td> 346</td><td> 352</td><td> 369</td><td> 389</td><td> 400</td><td> 408</td><td> 428</td><td> 435</td><td> 447</td></tr>\n",
              "\t<tr><td>0</td><td>0</td><td>0</td><td>0</td><td>0</td><td>0</td><td>0</td><td>0</td><td>0</td><td>0</td><td>⋯</td><td> 123</td><td> 127</td><td> 127</td><td> 129</td><td> 130</td><td> 131</td><td> 133</td><td> 133</td><td> 133</td><td> 133</td></tr>\n",
              "\t<tr><td>0</td><td>0</td><td>0</td><td>0</td><td>0</td><td>0</td><td>0</td><td>0</td><td>0</td><td>0</td><td>⋯</td><td> 363</td><td> 371</td><td> 378</td><td> 382</td><td> 393</td><td> 396</td><td> 394</td><td> 394</td><td> 401</td><td> 402</td></tr>\n",
              "\t<tr><td>0</td><td>0</td><td>0</td><td>0</td><td>0</td><td>0</td><td>0</td><td>0</td><td>0</td><td>0</td><td>⋯</td><td> 625</td><td> 629</td><td> 633</td><td> 645</td><td> 656</td><td> 658</td><td> 662</td><td> 675</td><td> 679</td><td> 686</td></tr>\n",
              "\t<tr><td>0</td><td>0</td><td>0</td><td>0</td><td>0</td><td>0</td><td>0</td><td>0</td><td>0</td><td>0</td><td>⋯</td><td> 365</td><td> 368</td><td> 368</td><td> 373</td><td> 378</td><td> 379</td><td> 380</td><td> 381</td><td> 384</td><td> 385</td></tr>\n",
              "\t<tr><td>0</td><td>0</td><td>0</td><td>0</td><td>0</td><td>0</td><td>0</td><td>0</td><td>0</td><td>0</td><td>⋯</td><td>   0</td><td>   0</td><td>   0</td><td>   0</td><td>  10</td><td>   0</td><td>   0</td><td>   0</td><td>   0</td><td>   0</td></tr>\n",
              "\t<tr><td>0</td><td>0</td><td>0</td><td>0</td><td>0</td><td>0</td><td>0</td><td>0</td><td>0</td><td>0</td><td>⋯</td><td> 121</td><td> 120</td><td> 119</td><td> 123</td><td> 123</td><td> 124</td><td> 125</td><td> 126</td><td> 127</td><td> 132</td></tr>\n",
              "\t<tr><td>0</td><td>0</td><td>0</td><td>0</td><td>0</td><td>0</td><td>0</td><td>0</td><td>0</td><td>0</td><td>⋯</td><td>  44</td><td>  46</td><td>  50</td><td>  51</td><td>  54</td><td>  58</td><td>  58</td><td>  58</td><td>  62</td><td>  66</td></tr>\n",
              "</tbody>\n",
              "</table>\n"
            ]
          },
          "metadata": {
            "tags": []
          }
        }
      ]
    },
    {
      "cell_type": "markdown",
      "metadata": {
        "id": "0kgzijT1YFp-"
      },
      "source": [
        "## Rotate the data so that daa of each county is in one column"
      ]
    },
    {
      "cell_type": "code",
      "metadata": {
        "id": "EiMOZzu3aHTk",
        "outputId": "eb18168c-e0e1-4cba-eb16-71b9ee1e38d9",
        "colab": {
          "base_uri": "https://localhost:8080/",
          "height": 215
        }
      },
      "source": [
        "# We need save the data into a new variable 'tb1' so that computer can remember it\n",
        "tb1 <- tb %>% dplyr::select(12:length(tb[1,])) %>% as.matrix()\n",
        "tb1 = as.data.frame(t(tb1)) #transpose, then convert to a dataframe\n",
        "head(tb1)"
      ],
      "execution_count": 231,
      "outputs": [
        {
          "output_type": "display_data",
          "data": {
            "text/plain": [
              "        V1 V2 V3 V4 V5 V6 V7 V8 V9 V10 ⋯ V3331 V3332 V3333 V3334 V3335 V3336\n",
              "1/22/20 0  0  0  0  0  0  0  0  0  0   ⋯ 0     0     0     0     0     0    \n",
              "1/23/20 0  0  0  0  0  0  0  0  0  0   ⋯ 0     0     0     0     0     0    \n",
              "1/24/20 0  0  0  0  0  0  0  0  0  0   ⋯ 0     0     0     0     0     0    \n",
              "1/25/20 0  0  0  0  0  0  0  0  0  0   ⋯ 0     0     0     0     0     0    \n",
              "1/26/20 0  0  0  0  0  0  0  0  0  0   ⋯ 0     0     0     0     0     0    \n",
              "1/27/20 0  0  0  0  0  0  0  0  0  0   ⋯ 0     0     0     0     0     0    \n",
              "        V3337 V3338 V3339 V3340\n",
              "1/22/20 0     0     0     0    \n",
              "1/23/20 0     0     0     0    \n",
              "1/24/20 0     0     0     0    \n",
              "1/25/20 0     0     0     0    \n",
              "1/26/20 0     0     0     0    \n",
              "1/27/20 0     0     0     0    "
            ],
            "text/latex": "A data.frame: 6 × 3340\n\\begin{tabular}{r|lllllllllllllllllllll}\n  & V1 & V2 & V3 & V4 & V5 & V6 & V7 & V8 & V9 & V10 & ⋯ & V3331 & V3332 & V3333 & V3334 & V3335 & V3336 & V3337 & V3338 & V3339 & V3340\\\\\n  & <dbl> & <dbl> & <dbl> & <dbl> & <dbl> & <dbl> & <dbl> & <dbl> & <dbl> & <dbl> & ⋯ & <dbl> & <dbl> & <dbl> & <dbl> & <dbl> & <dbl> & <dbl> & <dbl> & <dbl> & <dbl>\\\\\n\\hline\n\t1/22/20 & 0 & 0 & 0 & 0 & 0 & 0 & 0 & 0 & 0 & 0 & ⋯ & 0 & 0 & 0 & 0 & 0 & 0 & 0 & 0 & 0 & 0\\\\\n\t1/23/20 & 0 & 0 & 0 & 0 & 0 & 0 & 0 & 0 & 0 & 0 & ⋯ & 0 & 0 & 0 & 0 & 0 & 0 & 0 & 0 & 0 & 0\\\\\n\t1/24/20 & 0 & 0 & 0 & 0 & 0 & 0 & 0 & 0 & 0 & 0 & ⋯ & 0 & 0 & 0 & 0 & 0 & 0 & 0 & 0 & 0 & 0\\\\\n\t1/25/20 & 0 & 0 & 0 & 0 & 0 & 0 & 0 & 0 & 0 & 0 & ⋯ & 0 & 0 & 0 & 0 & 0 & 0 & 0 & 0 & 0 & 0\\\\\n\t1/26/20 & 0 & 0 & 0 & 0 & 0 & 0 & 0 & 0 & 0 & 0 & ⋯ & 0 & 0 & 0 & 0 & 0 & 0 & 0 & 0 & 0 & 0\\\\\n\t1/27/20 & 0 & 0 & 0 & 0 & 0 & 0 & 0 & 0 & 0 & 0 & ⋯ & 0 & 0 & 0 & 0 & 0 & 0 & 0 & 0 & 0 & 0\\\\\n\\end{tabular}\n",
            "text/markdown": "\nA data.frame: 6 × 3340\n\n| <!--/--> | V1 &lt;dbl&gt; | V2 &lt;dbl&gt; | V3 &lt;dbl&gt; | V4 &lt;dbl&gt; | V5 &lt;dbl&gt; | V6 &lt;dbl&gt; | V7 &lt;dbl&gt; | V8 &lt;dbl&gt; | V9 &lt;dbl&gt; | V10 &lt;dbl&gt; | ⋯ ⋯ | V3331 &lt;dbl&gt; | V3332 &lt;dbl&gt; | V3333 &lt;dbl&gt; | V3334 &lt;dbl&gt; | V3335 &lt;dbl&gt; | V3336 &lt;dbl&gt; | V3337 &lt;dbl&gt; | V3338 &lt;dbl&gt; | V3339 &lt;dbl&gt; | V3340 &lt;dbl&gt; |\n|---|---|---|---|---|---|---|---|---|---|---|---|---|---|---|---|---|---|---|---|---|---|\n| 1/22/20 | 0 | 0 | 0 | 0 | 0 | 0 | 0 | 0 | 0 | 0 | ⋯ | 0 | 0 | 0 | 0 | 0 | 0 | 0 | 0 | 0 | 0 |\n| 1/23/20 | 0 | 0 | 0 | 0 | 0 | 0 | 0 | 0 | 0 | 0 | ⋯ | 0 | 0 | 0 | 0 | 0 | 0 | 0 | 0 | 0 | 0 |\n| 1/24/20 | 0 | 0 | 0 | 0 | 0 | 0 | 0 | 0 | 0 | 0 | ⋯ | 0 | 0 | 0 | 0 | 0 | 0 | 0 | 0 | 0 | 0 |\n| 1/25/20 | 0 | 0 | 0 | 0 | 0 | 0 | 0 | 0 | 0 | 0 | ⋯ | 0 | 0 | 0 | 0 | 0 | 0 | 0 | 0 | 0 | 0 |\n| 1/26/20 | 0 | 0 | 0 | 0 | 0 | 0 | 0 | 0 | 0 | 0 | ⋯ | 0 | 0 | 0 | 0 | 0 | 0 | 0 | 0 | 0 | 0 |\n| 1/27/20 | 0 | 0 | 0 | 0 | 0 | 0 | 0 | 0 | 0 | 0 | ⋯ | 0 | 0 | 0 | 0 | 0 | 0 | 0 | 0 | 0 | 0 |\n\n",
            "text/html": [
              "<table>\n",
              "<caption>A data.frame: 6 × 3340</caption>\n",
              "<thead>\n",
              "\t<tr><th></th><th scope=col>V1</th><th scope=col>V2</th><th scope=col>V3</th><th scope=col>V4</th><th scope=col>V5</th><th scope=col>V6</th><th scope=col>V7</th><th scope=col>V8</th><th scope=col>V9</th><th scope=col>V10</th><th scope=col>⋯</th><th scope=col>V3331</th><th scope=col>V3332</th><th scope=col>V3333</th><th scope=col>V3334</th><th scope=col>V3335</th><th scope=col>V3336</th><th scope=col>V3337</th><th scope=col>V3338</th><th scope=col>V3339</th><th scope=col>V3340</th></tr>\n",
              "\t<tr><th></th><th scope=col>&lt;dbl&gt;</th><th scope=col>&lt;dbl&gt;</th><th scope=col>&lt;dbl&gt;</th><th scope=col>&lt;dbl&gt;</th><th scope=col>&lt;dbl&gt;</th><th scope=col>&lt;dbl&gt;</th><th scope=col>&lt;dbl&gt;</th><th scope=col>&lt;dbl&gt;</th><th scope=col>&lt;dbl&gt;</th><th scope=col>&lt;dbl&gt;</th><th scope=col>⋯</th><th scope=col>&lt;dbl&gt;</th><th scope=col>&lt;dbl&gt;</th><th scope=col>&lt;dbl&gt;</th><th scope=col>&lt;dbl&gt;</th><th scope=col>&lt;dbl&gt;</th><th scope=col>&lt;dbl&gt;</th><th scope=col>&lt;dbl&gt;</th><th scope=col>&lt;dbl&gt;</th><th scope=col>&lt;dbl&gt;</th><th scope=col>&lt;dbl&gt;</th></tr>\n",
              "</thead>\n",
              "<tbody>\n",
              "\t<tr><th scope=row>1/22/20</th><td>0</td><td>0</td><td>0</td><td>0</td><td>0</td><td>0</td><td>0</td><td>0</td><td>0</td><td>0</td><td>⋯</td><td>0</td><td>0</td><td>0</td><td>0</td><td>0</td><td>0</td><td>0</td><td>0</td><td>0</td><td>0</td></tr>\n",
              "\t<tr><th scope=row>1/23/20</th><td>0</td><td>0</td><td>0</td><td>0</td><td>0</td><td>0</td><td>0</td><td>0</td><td>0</td><td>0</td><td>⋯</td><td>0</td><td>0</td><td>0</td><td>0</td><td>0</td><td>0</td><td>0</td><td>0</td><td>0</td><td>0</td></tr>\n",
              "\t<tr><th scope=row>1/24/20</th><td>0</td><td>0</td><td>0</td><td>0</td><td>0</td><td>0</td><td>0</td><td>0</td><td>0</td><td>0</td><td>⋯</td><td>0</td><td>0</td><td>0</td><td>0</td><td>0</td><td>0</td><td>0</td><td>0</td><td>0</td><td>0</td></tr>\n",
              "\t<tr><th scope=row>1/25/20</th><td>0</td><td>0</td><td>0</td><td>0</td><td>0</td><td>0</td><td>0</td><td>0</td><td>0</td><td>0</td><td>⋯</td><td>0</td><td>0</td><td>0</td><td>0</td><td>0</td><td>0</td><td>0</td><td>0</td><td>0</td><td>0</td></tr>\n",
              "\t<tr><th scope=row>1/26/20</th><td>0</td><td>0</td><td>0</td><td>0</td><td>0</td><td>0</td><td>0</td><td>0</td><td>0</td><td>0</td><td>⋯</td><td>0</td><td>0</td><td>0</td><td>0</td><td>0</td><td>0</td><td>0</td><td>0</td><td>0</td><td>0</td></tr>\n",
              "\t<tr><th scope=row>1/27/20</th><td>0</td><td>0</td><td>0</td><td>0</td><td>0</td><td>0</td><td>0</td><td>0</td><td>0</td><td>0</td><td>⋯</td><td>0</td><td>0</td><td>0</td><td>0</td><td>0</td><td>0</td><td>0</td><td>0</td><td>0</td><td>0</td></tr>\n",
              "</tbody>\n",
              "</table>\n"
            ]
          },
          "metadata": {
            "tags": []
          }
        }
      ]
    },
    {
      "cell_type": "markdown",
      "metadata": {
        "id": "XExapLL1YKLY"
      },
      "source": [
        "## Add meaning columns names"
      ]
    },
    {
      "cell_type": "code",
      "metadata": {
        "id": "oa7ZYi6vX8mp",
        "outputId": "053040f8-3179-40ca-f935-3cf016c53f11",
        "colab": {
          "base_uri": "https://localhost:8080/",
          "height": 249
        }
      },
      "source": [
        "names(tb1) = tb$Combined_Key\n",
        "head(tb1[100:110,1:10])"
      ],
      "execution_count": 232,
      "outputs": [
        {
          "output_type": "display_data",
          "data": {
            "text/plain": [
              "        Autauga, Alabama, US Baldwin, Alabama, US Barbour, Alabama, US\n",
              "4/30/20 44                   174                  39                  \n",
              "5/1/20  42                   175                  42                  \n",
              "5/2/20  45                   181                  43                  \n",
              "5/3/20  48                   187                  45                  \n",
              "5/4/20  53                   188                  45                  \n",
              "5/5/20  53                   189                  47                  \n",
              "        Bibb, Alabama, US Blount, Alabama, US Bullock, Alabama, US\n",
              "4/30/20 42                37                  13                  \n",
              "5/1/20  42                39                  14                  \n",
              "5/2/20  42                40                  14                  \n",
              "5/3/20  43                40                  14                  \n",
              "5/4/20  42                40                  16                  \n",
              "5/5/20  43                40                  18                  \n",
              "        Butler, Alabama, US Calhoun, Alabama, US Chambers, Alabama, US\n",
              "4/30/20  53                  94                  295                  \n",
              "5/1/20   65                  93                  290                  \n",
              "5/2/20   92                  98                  294                  \n",
              "5/3/20  105                 105                  300                  \n",
              "5/4/20  114                 105                  302                  \n",
              "5/5/20  120                 114                  304                  \n",
              "        Cherokee, Alabama, US\n",
              "4/30/20 15                   \n",
              "5/1/20  15                   \n",
              "5/2/20  15                   \n",
              "5/3/20  16                   \n",
              "5/4/20  16                   \n",
              "5/5/20  17                   "
            ],
            "text/latex": "A data.frame: 6 × 10\n\\begin{tabular}{r|llllllllll}\n  & Autauga, Alabama, US & Baldwin, Alabama, US & Barbour, Alabama, US & Bibb, Alabama, US & Blount, Alabama, US & Bullock, Alabama, US & Butler, Alabama, US & Calhoun, Alabama, US & Chambers, Alabama, US & Cherokee, Alabama, US\\\\\n  & <dbl> & <dbl> & <dbl> & <dbl> & <dbl> & <dbl> & <dbl> & <dbl> & <dbl> & <dbl>\\\\\n\\hline\n\t4/30/20 & 44 & 174 & 39 & 42 & 37 & 13 &  53 &  94 & 295 & 15\\\\\n\t5/1/20 & 42 & 175 & 42 & 42 & 39 & 14 &  65 &  93 & 290 & 15\\\\\n\t5/2/20 & 45 & 181 & 43 & 42 & 40 & 14 &  92 &  98 & 294 & 15\\\\\n\t5/3/20 & 48 & 187 & 45 & 43 & 40 & 14 & 105 & 105 & 300 & 16\\\\\n\t5/4/20 & 53 & 188 & 45 & 42 & 40 & 16 & 114 & 105 & 302 & 16\\\\\n\t5/5/20 & 53 & 189 & 47 & 43 & 40 & 18 & 120 & 114 & 304 & 17\\\\\n\\end{tabular}\n",
            "text/markdown": "\nA data.frame: 6 × 10\n\n| <!--/--> | Autauga, Alabama, US &lt;dbl&gt; | Baldwin, Alabama, US &lt;dbl&gt; | Barbour, Alabama, US &lt;dbl&gt; | Bibb, Alabama, US &lt;dbl&gt; | Blount, Alabama, US &lt;dbl&gt; | Bullock, Alabama, US &lt;dbl&gt; | Butler, Alabama, US &lt;dbl&gt; | Calhoun, Alabama, US &lt;dbl&gt; | Chambers, Alabama, US &lt;dbl&gt; | Cherokee, Alabama, US &lt;dbl&gt; |\n|---|---|---|---|---|---|---|---|---|---|---|\n| 4/30/20 | 44 | 174 | 39 | 42 | 37 | 13 |  53 |  94 | 295 | 15 |\n| 5/1/20 | 42 | 175 | 42 | 42 | 39 | 14 |  65 |  93 | 290 | 15 |\n| 5/2/20 | 45 | 181 | 43 | 42 | 40 | 14 |  92 |  98 | 294 | 15 |\n| 5/3/20 | 48 | 187 | 45 | 43 | 40 | 14 | 105 | 105 | 300 | 16 |\n| 5/4/20 | 53 | 188 | 45 | 42 | 40 | 16 | 114 | 105 | 302 | 16 |\n| 5/5/20 | 53 | 189 | 47 | 43 | 40 | 18 | 120 | 114 | 304 | 17 |\n\n",
            "text/html": [
              "<table>\n",
              "<caption>A data.frame: 6 × 10</caption>\n",
              "<thead>\n",
              "\t<tr><th></th><th scope=col>Autauga, Alabama, US</th><th scope=col>Baldwin, Alabama, US</th><th scope=col>Barbour, Alabama, US</th><th scope=col>Bibb, Alabama, US</th><th scope=col>Blount, Alabama, US</th><th scope=col>Bullock, Alabama, US</th><th scope=col>Butler, Alabama, US</th><th scope=col>Calhoun, Alabama, US</th><th scope=col>Chambers, Alabama, US</th><th scope=col>Cherokee, Alabama, US</th></tr>\n",
              "\t<tr><th></th><th scope=col>&lt;dbl&gt;</th><th scope=col>&lt;dbl&gt;</th><th scope=col>&lt;dbl&gt;</th><th scope=col>&lt;dbl&gt;</th><th scope=col>&lt;dbl&gt;</th><th scope=col>&lt;dbl&gt;</th><th scope=col>&lt;dbl&gt;</th><th scope=col>&lt;dbl&gt;</th><th scope=col>&lt;dbl&gt;</th><th scope=col>&lt;dbl&gt;</th></tr>\n",
              "</thead>\n",
              "<tbody>\n",
              "\t<tr><th scope=row>4/30/20</th><td>44</td><td>174</td><td>39</td><td>42</td><td>37</td><td>13</td><td> 53</td><td> 94</td><td>295</td><td>15</td></tr>\n",
              "\t<tr><th scope=row>5/1/20</th><td>42</td><td>175</td><td>42</td><td>42</td><td>39</td><td>14</td><td> 65</td><td> 93</td><td>290</td><td>15</td></tr>\n",
              "\t<tr><th scope=row>5/2/20</th><td>45</td><td>181</td><td>43</td><td>42</td><td>40</td><td>14</td><td> 92</td><td> 98</td><td>294</td><td>15</td></tr>\n",
              "\t<tr><th scope=row>5/3/20</th><td>48</td><td>187</td><td>45</td><td>43</td><td>40</td><td>14</td><td>105</td><td>105</td><td>300</td><td>16</td></tr>\n",
              "\t<tr><th scope=row>5/4/20</th><td>53</td><td>188</td><td>45</td><td>42</td><td>40</td><td>16</td><td>114</td><td>105</td><td>302</td><td>16</td></tr>\n",
              "\t<tr><th scope=row>5/5/20</th><td>53</td><td>189</td><td>47</td><td>43</td><td>40</td><td>18</td><td>120</td><td>114</td><td>304</td><td>17</td></tr>\n",
              "</tbody>\n",
              "</table>\n"
            ]
          },
          "metadata": {
            "tags": []
          }
        }
      ]
    },
    {
      "cell_type": "markdown",
      "metadata": {
        "id": "CB9qMR3zPXt2"
      },
      "source": [
        "## Convert dates from text format to actual Date type\n",
        "\n",
        "see https://lubridate.tidyverse.org/ "
      ]
    },
    {
      "cell_type": "code",
      "metadata": {
        "id": "YppniiD3MsoA",
        "outputId": "2d943354-c9fa-41d4-e79c-60ace9916640",
        "colab": {
          "base_uri": "https://localhost:8080/",
          "height": 34
        }
      },
      "source": [
        "library(lubridate)\n",
        "date(\"10/1/2020\")"
      ],
      "execution_count": 233,
      "outputs": [
        {
          "output_type": "display_data",
          "data": {
            "text/plain": [
              "[1] \"10-01-20\""
            ],
            "text/latex": "10-01-20",
            "text/markdown": "10-01-20",
            "text/html": [
              "<time datetime=\"10-01-20\">10-01-20</time>"
            ]
          },
          "metadata": {
            "tags": []
          }
        }
      ]
    },
    {
      "cell_type": "code",
      "metadata": {
        "id": "Pi971NYFXGgB",
        "outputId": "f68d507b-727f-4734-c293-4ededa8ecf5d",
        "colab": {
          "base_uri": "https://localhost:8080/",
          "height": 504
        }
      },
      "source": [
        "current_dates = names(tb)[12:length(tb[1,])]\n",
        "class(current_dates)\n",
        "current_dates"
      ],
      "execution_count": 234,
      "outputs": [
        {
          "output_type": "display_data",
          "data": {
            "text/plain": [
              "[1] \"character\""
            ],
            "text/latex": "'character'",
            "text/markdown": "'character'",
            "text/html": [
              "'character'"
            ]
          },
          "metadata": {
            "tags": []
          }
        },
        {
          "output_type": "display_data",
          "data": {
            "text/plain": [
              "  [1] \"1/22/20\"  \"1/23/20\"  \"1/24/20\"  \"1/25/20\"  \"1/26/20\"  \"1/27/20\" \n",
              "  [7] \"1/28/20\"  \"1/29/20\"  \"1/30/20\"  \"1/31/20\"  \"2/1/20\"   \"2/2/20\"  \n",
              " [13] \"2/3/20\"   \"2/4/20\"   \"2/5/20\"   \"2/6/20\"   \"2/7/20\"   \"2/8/20\"  \n",
              " [19] \"2/9/20\"   \"2/10/20\"  \"2/11/20\"  \"2/12/20\"  \"2/13/20\"  \"2/14/20\" \n",
              " [25] \"2/15/20\"  \"2/16/20\"  \"2/17/20\"  \"2/18/20\"  \"2/19/20\"  \"2/20/20\" \n",
              " [31] \"2/21/20\"  \"2/22/20\"  \"2/23/20\"  \"2/24/20\"  \"2/25/20\"  \"2/26/20\" \n",
              " [37] \"2/27/20\"  \"2/28/20\"  \"2/29/20\"  \"3/1/20\"   \"3/2/20\"   \"3/3/20\"  \n",
              " [43] \"3/4/20\"   \"3/5/20\"   \"3/6/20\"   \"3/7/20\"   \"3/8/20\"   \"3/9/20\"  \n",
              " [49] \"3/10/20\"  \"3/11/20\"  \"3/12/20\"  \"3/13/20\"  \"3/14/20\"  \"3/15/20\" \n",
              " [55] \"3/16/20\"  \"3/17/20\"  \"3/18/20\"  \"3/19/20\"  \"3/20/20\"  \"3/21/20\" \n",
              " [61] \"3/22/20\"  \"3/23/20\"  \"3/24/20\"  \"3/25/20\"  \"3/26/20\"  \"3/27/20\" \n",
              " [67] \"3/28/20\"  \"3/29/20\"  \"3/30/20\"  \"3/31/20\"  \"4/1/20\"   \"4/2/20\"  \n",
              " [73] \"4/3/20\"   \"4/4/20\"   \"4/5/20\"   \"4/6/20\"   \"4/7/20\"   \"4/8/20\"  \n",
              " [79] \"4/9/20\"   \"4/10/20\"  \"4/11/20\"  \"4/12/20\"  \"4/13/20\"  \"4/14/20\" \n",
              " [85] \"4/15/20\"  \"4/16/20\"  \"4/17/20\"  \"4/18/20\"  \"4/19/20\"  \"4/20/20\" \n",
              " [91] \"4/21/20\"  \"4/22/20\"  \"4/23/20\"  \"4/24/20\"  \"4/25/20\"  \"4/26/20\" \n",
              " [97] \"4/27/20\"  \"4/28/20\"  \"4/29/20\"  \"4/30/20\"  \"5/1/20\"   \"5/2/20\"  \n",
              "[103] \"5/3/20\"   \"5/4/20\"   \"5/5/20\"   \"5/6/20\"   \"5/7/20\"   \"5/8/20\"  \n",
              "[109] \"5/9/20\"   \"5/10/20\"  \"5/11/20\"  \"5/12/20\"  \"5/13/20\"  \"5/14/20\" \n",
              "[115] \"5/15/20\"  \"5/16/20\"  \"5/17/20\"  \"5/18/20\"  \"5/19/20\"  \"5/20/20\" \n",
              "[121] \"5/21/20\"  \"5/22/20\"  \"5/23/20\"  \"5/24/20\"  \"5/25/20\"  \"5/26/20\" \n",
              "[127] \"5/27/20\"  \"5/28/20\"  \"5/29/20\"  \"5/30/20\"  \"5/31/20\"  \"6/1/20\"  \n",
              "[133] \"6/2/20\"   \"6/3/20\"   \"6/4/20\"   \"6/5/20\"   \"6/6/20\"   \"6/7/20\"  \n",
              "[139] \"6/8/20\"   \"6/9/20\"   \"6/10/20\"  \"6/11/20\"  \"6/12/20\"  \"6/13/20\" \n",
              "[145] \"6/14/20\"  \"6/15/20\"  \"6/16/20\"  \"6/17/20\"  \"6/18/20\"  \"6/19/20\" \n",
              "[151] \"6/20/20\"  \"6/21/20\"  \"6/22/20\"  \"6/23/20\"  \"6/24/20\"  \"6/25/20\" \n",
              "[157] \"6/26/20\"  \"6/27/20\"  \"6/28/20\"  \"6/29/20\"  \"6/30/20\"  \"7/1/20\"  \n",
              "[163] \"7/2/20\"   \"7/3/20\"   \"7/4/20\"   \"7/5/20\"   \"7/6/20\"   \"7/7/20\"  \n",
              "[169] \"7/8/20\"   \"7/9/20\"   \"7/10/20\"  \"7/11/20\"  \"7/12/20\"  \"7/13/20\" \n",
              "[175] \"7/14/20\"  \"7/15/20\"  \"7/16/20\"  \"7/17/20\"  \"7/18/20\"  \"7/19/20\" \n",
              "[181] \"7/20/20\"  \"7/21/20\"  \"7/22/20\"  \"7/23/20\"  \"7/24/20\"  \"7/25/20\" \n",
              "[187] \"7/26/20\"  \"7/27/20\"  \"7/28/20\"  \"7/29/20\"  \"7/30/20\"  \"7/31/20\" \n",
              "[193] \"8/1/20\"   \"8/2/20\"   \"8/3/20\"   \"8/4/20\"   \"8/5/20\"   \"8/6/20\"  \n",
              "[199] \"8/7/20\"   \"8/8/20\"   \"8/9/20\"   \"8/10/20\"  \"8/11/20\"  \"8/12/20\" \n",
              "[205] \"8/13/20\"  \"8/14/20\"  \"8/15/20\"  \"8/16/20\"  \"8/17/20\"  \"8/18/20\" \n",
              "[211] \"8/19/20\"  \"8/20/20\"  \"8/21/20\"  \"8/22/20\"  \"8/23/20\"  \"8/24/20\" \n",
              "[217] \"8/25/20\"  \"8/26/20\"  \"8/27/20\"  \"8/28/20\"  \"8/29/20\"  \"8/30/20\" \n",
              "[223] \"8/31/20\"  \"9/1/20\"   \"9/2/20\"   \"9/3/20\"   \"9/4/20\"   \"9/5/20\"  \n",
              "[229] \"9/6/20\"   \"9/7/20\"   \"9/8/20\"   \"9/9/20\"   \"9/10/20\"  \"9/11/20\" \n",
              "[235] \"9/12/20\"  \"9/13/20\"  \"9/14/20\"  \"9/15/20\"  \"9/16/20\"  \"9/17/20\" \n",
              "[241] \"9/18/20\"  \"9/19/20\"  \"9/20/20\"  \"9/21/20\"  \"9/22/20\"  \"9/23/20\" \n",
              "[247] \"9/24/20\"  \"9/25/20\"  \"9/26/20\"  \"9/27/20\"  \"9/28/20\"  \"9/29/20\" \n",
              "[253] \"9/30/20\"  \"10/1/20\"  \"10/2/20\"  \"10/3/20\"  \"10/4/20\"  \"10/5/20\" \n",
              "[259] \"10/6/20\"  \"10/7/20\"  \"10/8/20\"  \"10/9/20\"  \"10/10/20\" \"10/11/20\"\n",
              "[265] \"10/12/20\" \"10/13/20\" \"10/14/20\""
            ],
            "text/latex": "\\begin{enumerate*}\n\\item '1/22/20'\n\\item '1/23/20'\n\\item '1/24/20'\n\\item '1/25/20'\n\\item '1/26/20'\n\\item '1/27/20'\n\\item '1/28/20'\n\\item '1/29/20'\n\\item '1/30/20'\n\\item '1/31/20'\n\\item '2/1/20'\n\\item '2/2/20'\n\\item '2/3/20'\n\\item '2/4/20'\n\\item '2/5/20'\n\\item '2/6/20'\n\\item '2/7/20'\n\\item '2/8/20'\n\\item '2/9/20'\n\\item '2/10/20'\n\\item '2/11/20'\n\\item '2/12/20'\n\\item '2/13/20'\n\\item '2/14/20'\n\\item '2/15/20'\n\\item '2/16/20'\n\\item '2/17/20'\n\\item '2/18/20'\n\\item '2/19/20'\n\\item '2/20/20'\n\\item '2/21/20'\n\\item '2/22/20'\n\\item '2/23/20'\n\\item '2/24/20'\n\\item '2/25/20'\n\\item '2/26/20'\n\\item '2/27/20'\n\\item '2/28/20'\n\\item '2/29/20'\n\\item '3/1/20'\n\\item '3/2/20'\n\\item '3/3/20'\n\\item '3/4/20'\n\\item '3/5/20'\n\\item '3/6/20'\n\\item '3/7/20'\n\\item '3/8/20'\n\\item '3/9/20'\n\\item '3/10/20'\n\\item '3/11/20'\n\\item '3/12/20'\n\\item '3/13/20'\n\\item '3/14/20'\n\\item '3/15/20'\n\\item '3/16/20'\n\\item '3/17/20'\n\\item '3/18/20'\n\\item '3/19/20'\n\\item '3/20/20'\n\\item '3/21/20'\n\\item '3/22/20'\n\\item '3/23/20'\n\\item '3/24/20'\n\\item '3/25/20'\n\\item '3/26/20'\n\\item '3/27/20'\n\\item '3/28/20'\n\\item '3/29/20'\n\\item '3/30/20'\n\\item '3/31/20'\n\\item '4/1/20'\n\\item '4/2/20'\n\\item '4/3/20'\n\\item '4/4/20'\n\\item '4/5/20'\n\\item '4/6/20'\n\\item '4/7/20'\n\\item '4/8/20'\n\\item '4/9/20'\n\\item '4/10/20'\n\\item '4/11/20'\n\\item '4/12/20'\n\\item '4/13/20'\n\\item '4/14/20'\n\\item '4/15/20'\n\\item '4/16/20'\n\\item '4/17/20'\n\\item '4/18/20'\n\\item '4/19/20'\n\\item '4/20/20'\n\\item '4/21/20'\n\\item '4/22/20'\n\\item '4/23/20'\n\\item '4/24/20'\n\\item '4/25/20'\n\\item '4/26/20'\n\\item '4/27/20'\n\\item '4/28/20'\n\\item '4/29/20'\n\\item '4/30/20'\n\\item '5/1/20'\n\\item '5/2/20'\n\\item '5/3/20'\n\\item '5/4/20'\n\\item '5/5/20'\n\\item '5/6/20'\n\\item '5/7/20'\n\\item '5/8/20'\n\\item '5/9/20'\n\\item '5/10/20'\n\\item '5/11/20'\n\\item '5/12/20'\n\\item '5/13/20'\n\\item '5/14/20'\n\\item '5/15/20'\n\\item '5/16/20'\n\\item '5/17/20'\n\\item '5/18/20'\n\\item '5/19/20'\n\\item '5/20/20'\n\\item '5/21/20'\n\\item '5/22/20'\n\\item '5/23/20'\n\\item '5/24/20'\n\\item '5/25/20'\n\\item '5/26/20'\n\\item '5/27/20'\n\\item '5/28/20'\n\\item '5/29/20'\n\\item '5/30/20'\n\\item '5/31/20'\n\\item '6/1/20'\n\\item '6/2/20'\n\\item '6/3/20'\n\\item '6/4/20'\n\\item '6/5/20'\n\\item '6/6/20'\n\\item '6/7/20'\n\\item '6/8/20'\n\\item '6/9/20'\n\\item '6/10/20'\n\\item '6/11/20'\n\\item '6/12/20'\n\\item '6/13/20'\n\\item '6/14/20'\n\\item '6/15/20'\n\\item '6/16/20'\n\\item '6/17/20'\n\\item '6/18/20'\n\\item '6/19/20'\n\\item '6/20/20'\n\\item '6/21/20'\n\\item '6/22/20'\n\\item '6/23/20'\n\\item '6/24/20'\n\\item '6/25/20'\n\\item '6/26/20'\n\\item '6/27/20'\n\\item '6/28/20'\n\\item '6/29/20'\n\\item '6/30/20'\n\\item '7/1/20'\n\\item '7/2/20'\n\\item '7/3/20'\n\\item '7/4/20'\n\\item '7/5/20'\n\\item '7/6/20'\n\\item '7/7/20'\n\\item '7/8/20'\n\\item '7/9/20'\n\\item '7/10/20'\n\\item '7/11/20'\n\\item '7/12/20'\n\\item '7/13/20'\n\\item '7/14/20'\n\\item '7/15/20'\n\\item '7/16/20'\n\\item '7/17/20'\n\\item '7/18/20'\n\\item '7/19/20'\n\\item '7/20/20'\n\\item '7/21/20'\n\\item '7/22/20'\n\\item '7/23/20'\n\\item '7/24/20'\n\\item '7/25/20'\n\\item '7/26/20'\n\\item '7/27/20'\n\\item '7/28/20'\n\\item '7/29/20'\n\\item '7/30/20'\n\\item '7/31/20'\n\\item '8/1/20'\n\\item '8/2/20'\n\\item '8/3/20'\n\\item '8/4/20'\n\\item '8/5/20'\n\\item '8/6/20'\n\\item '8/7/20'\n\\item '8/8/20'\n\\item '8/9/20'\n\\item '8/10/20'\n\\item '8/11/20'\n\\item '8/12/20'\n\\item '8/13/20'\n\\item '8/14/20'\n\\item '8/15/20'\n\\item '8/16/20'\n\\item '8/17/20'\n\\item '8/18/20'\n\\item '8/19/20'\n\\item '8/20/20'\n\\item '8/21/20'\n\\item '8/22/20'\n\\item '8/23/20'\n\\item '8/24/20'\n\\item '8/25/20'\n\\item '8/26/20'\n\\item '8/27/20'\n\\item '8/28/20'\n\\item '8/29/20'\n\\item '8/30/20'\n\\item '8/31/20'\n\\item '9/1/20'\n\\item '9/2/20'\n\\item '9/3/20'\n\\item '9/4/20'\n\\item '9/5/20'\n\\item '9/6/20'\n\\item '9/7/20'\n\\item '9/8/20'\n\\item '9/9/20'\n\\item '9/10/20'\n\\item '9/11/20'\n\\item '9/12/20'\n\\item '9/13/20'\n\\item '9/14/20'\n\\item '9/15/20'\n\\item '9/16/20'\n\\item '9/17/20'\n\\item '9/18/20'\n\\item '9/19/20'\n\\item '9/20/20'\n\\item '9/21/20'\n\\item '9/22/20'\n\\item '9/23/20'\n\\item '9/24/20'\n\\item '9/25/20'\n\\item '9/26/20'\n\\item '9/27/20'\n\\item '9/28/20'\n\\item '9/29/20'\n\\item '9/30/20'\n\\item '10/1/20'\n\\item '10/2/20'\n\\item '10/3/20'\n\\item '10/4/20'\n\\item '10/5/20'\n\\item '10/6/20'\n\\item '10/7/20'\n\\item '10/8/20'\n\\item '10/9/20'\n\\item '10/10/20'\n\\item '10/11/20'\n\\item '10/12/20'\n\\item '10/13/20'\n\\item '10/14/20'\n\\end{enumerate*}\n",
            "text/markdown": "1. '1/22/20'\n2. '1/23/20'\n3. '1/24/20'\n4. '1/25/20'\n5. '1/26/20'\n6. '1/27/20'\n7. '1/28/20'\n8. '1/29/20'\n9. '1/30/20'\n10. '1/31/20'\n11. '2/1/20'\n12. '2/2/20'\n13. '2/3/20'\n14. '2/4/20'\n15. '2/5/20'\n16. '2/6/20'\n17. '2/7/20'\n18. '2/8/20'\n19. '2/9/20'\n20. '2/10/20'\n21. '2/11/20'\n22. '2/12/20'\n23. '2/13/20'\n24. '2/14/20'\n25. '2/15/20'\n26. '2/16/20'\n27. '2/17/20'\n28. '2/18/20'\n29. '2/19/20'\n30. '2/20/20'\n31. '2/21/20'\n32. '2/22/20'\n33. '2/23/20'\n34. '2/24/20'\n35. '2/25/20'\n36. '2/26/20'\n37. '2/27/20'\n38. '2/28/20'\n39. '2/29/20'\n40. '3/1/20'\n41. '3/2/20'\n42. '3/3/20'\n43. '3/4/20'\n44. '3/5/20'\n45. '3/6/20'\n46. '3/7/20'\n47. '3/8/20'\n48. '3/9/20'\n49. '3/10/20'\n50. '3/11/20'\n51. '3/12/20'\n52. '3/13/20'\n53. '3/14/20'\n54. '3/15/20'\n55. '3/16/20'\n56. '3/17/20'\n57. '3/18/20'\n58. '3/19/20'\n59. '3/20/20'\n60. '3/21/20'\n61. '3/22/20'\n62. '3/23/20'\n63. '3/24/20'\n64. '3/25/20'\n65. '3/26/20'\n66. '3/27/20'\n67. '3/28/20'\n68. '3/29/20'\n69. '3/30/20'\n70. '3/31/20'\n71. '4/1/20'\n72. '4/2/20'\n73. '4/3/20'\n74. '4/4/20'\n75. '4/5/20'\n76. '4/6/20'\n77. '4/7/20'\n78. '4/8/20'\n79. '4/9/20'\n80. '4/10/20'\n81. '4/11/20'\n82. '4/12/20'\n83. '4/13/20'\n84. '4/14/20'\n85. '4/15/20'\n86. '4/16/20'\n87. '4/17/20'\n88. '4/18/20'\n89. '4/19/20'\n90. '4/20/20'\n91. '4/21/20'\n92. '4/22/20'\n93. '4/23/20'\n94. '4/24/20'\n95. '4/25/20'\n96. '4/26/20'\n97. '4/27/20'\n98. '4/28/20'\n99. '4/29/20'\n100. '4/30/20'\n101. '5/1/20'\n102. '5/2/20'\n103. '5/3/20'\n104. '5/4/20'\n105. '5/5/20'\n106. '5/6/20'\n107. '5/7/20'\n108. '5/8/20'\n109. '5/9/20'\n110. '5/10/20'\n111. '5/11/20'\n112. '5/12/20'\n113. '5/13/20'\n114. '5/14/20'\n115. '5/15/20'\n116. '5/16/20'\n117. '5/17/20'\n118. '5/18/20'\n119. '5/19/20'\n120. '5/20/20'\n121. '5/21/20'\n122. '5/22/20'\n123. '5/23/20'\n124. '5/24/20'\n125. '5/25/20'\n126. '5/26/20'\n127. '5/27/20'\n128. '5/28/20'\n129. '5/29/20'\n130. '5/30/20'\n131. '5/31/20'\n132. '6/1/20'\n133. '6/2/20'\n134. '6/3/20'\n135. '6/4/20'\n136. '6/5/20'\n137. '6/6/20'\n138. '6/7/20'\n139. '6/8/20'\n140. '6/9/20'\n141. '6/10/20'\n142. '6/11/20'\n143. '6/12/20'\n144. '6/13/20'\n145. '6/14/20'\n146. '6/15/20'\n147. '6/16/20'\n148. '6/17/20'\n149. '6/18/20'\n150. '6/19/20'\n151. '6/20/20'\n152. '6/21/20'\n153. '6/22/20'\n154. '6/23/20'\n155. '6/24/20'\n156. '6/25/20'\n157. '6/26/20'\n158. '6/27/20'\n159. '6/28/20'\n160. '6/29/20'\n161. '6/30/20'\n162. '7/1/20'\n163. '7/2/20'\n164. '7/3/20'\n165. '7/4/20'\n166. '7/5/20'\n167. '7/6/20'\n168. '7/7/20'\n169. '7/8/20'\n170. '7/9/20'\n171. '7/10/20'\n172. '7/11/20'\n173. '7/12/20'\n174. '7/13/20'\n175. '7/14/20'\n176. '7/15/20'\n177. '7/16/20'\n178. '7/17/20'\n179. '7/18/20'\n180. '7/19/20'\n181. '7/20/20'\n182. '7/21/20'\n183. '7/22/20'\n184. '7/23/20'\n185. '7/24/20'\n186. '7/25/20'\n187. '7/26/20'\n188. '7/27/20'\n189. '7/28/20'\n190. '7/29/20'\n191. '7/30/20'\n192. '7/31/20'\n193. '8/1/20'\n194. '8/2/20'\n195. '8/3/20'\n196. '8/4/20'\n197. '8/5/20'\n198. '8/6/20'\n199. '8/7/20'\n200. '8/8/20'\n201. '8/9/20'\n202. '8/10/20'\n203. '8/11/20'\n204. '8/12/20'\n205. '8/13/20'\n206. '8/14/20'\n207. '8/15/20'\n208. '8/16/20'\n209. '8/17/20'\n210. '8/18/20'\n211. '8/19/20'\n212. '8/20/20'\n213. '8/21/20'\n214. '8/22/20'\n215. '8/23/20'\n216. '8/24/20'\n217. '8/25/20'\n218. '8/26/20'\n219. '8/27/20'\n220. '8/28/20'\n221. '8/29/20'\n222. '8/30/20'\n223. '8/31/20'\n224. '9/1/20'\n225. '9/2/20'\n226. '9/3/20'\n227. '9/4/20'\n228. '9/5/20'\n229. '9/6/20'\n230. '9/7/20'\n231. '9/8/20'\n232. '9/9/20'\n233. '9/10/20'\n234. '9/11/20'\n235. '9/12/20'\n236. '9/13/20'\n237. '9/14/20'\n238. '9/15/20'\n239. '9/16/20'\n240. '9/17/20'\n241. '9/18/20'\n242. '9/19/20'\n243. '9/20/20'\n244. '9/21/20'\n245. '9/22/20'\n246. '9/23/20'\n247. '9/24/20'\n248. '9/25/20'\n249. '9/26/20'\n250. '9/27/20'\n251. '9/28/20'\n252. '9/29/20'\n253. '9/30/20'\n254. '10/1/20'\n255. '10/2/20'\n256. '10/3/20'\n257. '10/4/20'\n258. '10/5/20'\n259. '10/6/20'\n260. '10/7/20'\n261. '10/8/20'\n262. '10/9/20'\n263. '10/10/20'\n264. '10/11/20'\n265. '10/12/20'\n266. '10/13/20'\n267. '10/14/20'\n\n\n",
            "text/html": [
              "<style>\n",
              ".list-inline {list-style: none; margin:0; padding: 0}\n",
              ".list-inline>li {display: inline-block}\n",
              ".list-inline>li:not(:last-child)::after {content: \"\\00b7\"; padding: 0 .5ex}\n",
              "</style>\n",
              "<ol class=list-inline><li>'1/22/20'</li><li>'1/23/20'</li><li>'1/24/20'</li><li>'1/25/20'</li><li>'1/26/20'</li><li>'1/27/20'</li><li>'1/28/20'</li><li>'1/29/20'</li><li>'1/30/20'</li><li>'1/31/20'</li><li>'2/1/20'</li><li>'2/2/20'</li><li>'2/3/20'</li><li>'2/4/20'</li><li>'2/5/20'</li><li>'2/6/20'</li><li>'2/7/20'</li><li>'2/8/20'</li><li>'2/9/20'</li><li>'2/10/20'</li><li>'2/11/20'</li><li>'2/12/20'</li><li>'2/13/20'</li><li>'2/14/20'</li><li>'2/15/20'</li><li>'2/16/20'</li><li>'2/17/20'</li><li>'2/18/20'</li><li>'2/19/20'</li><li>'2/20/20'</li><li>'2/21/20'</li><li>'2/22/20'</li><li>'2/23/20'</li><li>'2/24/20'</li><li>'2/25/20'</li><li>'2/26/20'</li><li>'2/27/20'</li><li>'2/28/20'</li><li>'2/29/20'</li><li>'3/1/20'</li><li>'3/2/20'</li><li>'3/3/20'</li><li>'3/4/20'</li><li>'3/5/20'</li><li>'3/6/20'</li><li>'3/7/20'</li><li>'3/8/20'</li><li>'3/9/20'</li><li>'3/10/20'</li><li>'3/11/20'</li><li>'3/12/20'</li><li>'3/13/20'</li><li>'3/14/20'</li><li>'3/15/20'</li><li>'3/16/20'</li><li>'3/17/20'</li><li>'3/18/20'</li><li>'3/19/20'</li><li>'3/20/20'</li><li>'3/21/20'</li><li>'3/22/20'</li><li>'3/23/20'</li><li>'3/24/20'</li><li>'3/25/20'</li><li>'3/26/20'</li><li>'3/27/20'</li><li>'3/28/20'</li><li>'3/29/20'</li><li>'3/30/20'</li><li>'3/31/20'</li><li>'4/1/20'</li><li>'4/2/20'</li><li>'4/3/20'</li><li>'4/4/20'</li><li>'4/5/20'</li><li>'4/6/20'</li><li>'4/7/20'</li><li>'4/8/20'</li><li>'4/9/20'</li><li>'4/10/20'</li><li>'4/11/20'</li><li>'4/12/20'</li><li>'4/13/20'</li><li>'4/14/20'</li><li>'4/15/20'</li><li>'4/16/20'</li><li>'4/17/20'</li><li>'4/18/20'</li><li>'4/19/20'</li><li>'4/20/20'</li><li>'4/21/20'</li><li>'4/22/20'</li><li>'4/23/20'</li><li>'4/24/20'</li><li>'4/25/20'</li><li>'4/26/20'</li><li>'4/27/20'</li><li>'4/28/20'</li><li>'4/29/20'</li><li>'4/30/20'</li><li>'5/1/20'</li><li>'5/2/20'</li><li>'5/3/20'</li><li>'5/4/20'</li><li>'5/5/20'</li><li>'5/6/20'</li><li>'5/7/20'</li><li>'5/8/20'</li><li>'5/9/20'</li><li>'5/10/20'</li><li>'5/11/20'</li><li>'5/12/20'</li><li>'5/13/20'</li><li>'5/14/20'</li><li>'5/15/20'</li><li>'5/16/20'</li><li>'5/17/20'</li><li>'5/18/20'</li><li>'5/19/20'</li><li>'5/20/20'</li><li>'5/21/20'</li><li>'5/22/20'</li><li>'5/23/20'</li><li>'5/24/20'</li><li>'5/25/20'</li><li>'5/26/20'</li><li>'5/27/20'</li><li>'5/28/20'</li><li>'5/29/20'</li><li>'5/30/20'</li><li>'5/31/20'</li><li>'6/1/20'</li><li>'6/2/20'</li><li>'6/3/20'</li><li>'6/4/20'</li><li>'6/5/20'</li><li>'6/6/20'</li><li>'6/7/20'</li><li>'6/8/20'</li><li>'6/9/20'</li><li>'6/10/20'</li><li>'6/11/20'</li><li>'6/12/20'</li><li>'6/13/20'</li><li>'6/14/20'</li><li>'6/15/20'</li><li>'6/16/20'</li><li>'6/17/20'</li><li>'6/18/20'</li><li>'6/19/20'</li><li>'6/20/20'</li><li>'6/21/20'</li><li>'6/22/20'</li><li>'6/23/20'</li><li>'6/24/20'</li><li>'6/25/20'</li><li>'6/26/20'</li><li>'6/27/20'</li><li>'6/28/20'</li><li>'6/29/20'</li><li>'6/30/20'</li><li>'7/1/20'</li><li>'7/2/20'</li><li>'7/3/20'</li><li>'7/4/20'</li><li>'7/5/20'</li><li>'7/6/20'</li><li>'7/7/20'</li><li>'7/8/20'</li><li>'7/9/20'</li><li>'7/10/20'</li><li>'7/11/20'</li><li>'7/12/20'</li><li>'7/13/20'</li><li>'7/14/20'</li><li>'7/15/20'</li><li>'7/16/20'</li><li>'7/17/20'</li><li>'7/18/20'</li><li>'7/19/20'</li><li>'7/20/20'</li><li>'7/21/20'</li><li>'7/22/20'</li><li>'7/23/20'</li><li>'7/24/20'</li><li>'7/25/20'</li><li>'7/26/20'</li><li>'7/27/20'</li><li>'7/28/20'</li><li>'7/29/20'</li><li>'7/30/20'</li><li>'7/31/20'</li><li>'8/1/20'</li><li>'8/2/20'</li><li>'8/3/20'</li><li>'8/4/20'</li><li>'8/5/20'</li><li>'8/6/20'</li><li>'8/7/20'</li><li>'8/8/20'</li><li>'8/9/20'</li><li>'8/10/20'</li><li>'8/11/20'</li><li>'8/12/20'</li><li>'8/13/20'</li><li>'8/14/20'</li><li>'8/15/20'</li><li>'8/16/20'</li><li>'8/17/20'</li><li>'8/18/20'</li><li>'8/19/20'</li><li>'8/20/20'</li><li>'8/21/20'</li><li>'8/22/20'</li><li>'8/23/20'</li><li>'8/24/20'</li><li>'8/25/20'</li><li>'8/26/20'</li><li>'8/27/20'</li><li>'8/28/20'</li><li>'8/29/20'</li><li>'8/30/20'</li><li>'8/31/20'</li><li>'9/1/20'</li><li>'9/2/20'</li><li>'9/3/20'</li><li>'9/4/20'</li><li>'9/5/20'</li><li>'9/6/20'</li><li>'9/7/20'</li><li>'9/8/20'</li><li>'9/9/20'</li><li>'9/10/20'</li><li>'9/11/20'</li><li>'9/12/20'</li><li>'9/13/20'</li><li>'9/14/20'</li><li>'9/15/20'</li><li>'9/16/20'</li><li>'9/17/20'</li><li>'9/18/20'</li><li>'9/19/20'</li><li>'9/20/20'</li><li>'9/21/20'</li><li>'9/22/20'</li><li>'9/23/20'</li><li>'9/24/20'</li><li>'9/25/20'</li><li>'9/26/20'</li><li>'9/27/20'</li><li>'9/28/20'</li><li>'9/29/20'</li><li>'9/30/20'</li><li>'10/1/20'</li><li>'10/2/20'</li><li>'10/3/20'</li><li>'10/4/20'</li><li>'10/5/20'</li><li>'10/6/20'</li><li>'10/7/20'</li><li>'10/8/20'</li><li>'10/9/20'</li><li>'10/10/20'</li><li>'10/11/20'</li><li>'10/12/20'</li><li>'10/13/20'</li><li>'10/14/20'</li></ol>\n"
            ]
          },
          "metadata": {
            "tags": []
          }
        }
      ]
    },
    {
      "cell_type": "code",
      "metadata": {
        "id": "txmZJnePMsrE",
        "outputId": "91a596c8-9263-4e3a-9879-dad3066560fb",
        "colab": {
          "base_uri": "https://localhost:8080/",
          "height": 50
        }
      },
      "source": [
        "mdy(current_dates[1:10])"
      ],
      "execution_count": 235,
      "outputs": [
        {
          "output_type": "display_data",
          "data": {
            "text/plain": [
              " [1] \"2020-01-22\" \"2020-01-23\" \"2020-01-24\" \"2020-01-25\" \"2020-01-26\"\n",
              " [6] \"2020-01-27\" \"2020-01-28\" \"2020-01-29\" \"2020-01-30\" \"2020-01-31\""
            ],
            "text/latex": "\\begin{enumerate*}\n\\item 2020-01-22\n\\item 2020-01-23\n\\item 2020-01-24\n\\item 2020-01-25\n\\item 2020-01-26\n\\item 2020-01-27\n\\item 2020-01-28\n\\item 2020-01-29\n\\item 2020-01-30\n\\item 2020-01-31\n\\end{enumerate*}\n",
            "text/markdown": "1. 2020-01-22\n2. 2020-01-23\n3. 2020-01-24\n4. 2020-01-25\n5. 2020-01-26\n6. 2020-01-27\n7. 2020-01-28\n8. 2020-01-29\n9. 2020-01-30\n10. 2020-01-31\n\n\n",
            "text/html": [
              "<style>\n",
              ".list-inline {list-style: none; margin:0; padding: 0}\n",
              ".list-inline>li {display: inline-block}\n",
              ".list-inline>li:not(:last-child)::after {content: \"\\00b7\"; padding: 0 .5ex}\n",
              "</style>\n",
              "<ol class=list-inline><li><time datetime=\"2020-01-22\">2020-01-22</time></li><li><time datetime=\"2020-01-23\">2020-01-23</time></li><li><time datetime=\"2020-01-24\">2020-01-24</time></li><li><time datetime=\"2020-01-25\">2020-01-25</time></li><li><time datetime=\"2020-01-26\">2020-01-26</time></li><li><time datetime=\"2020-01-27\">2020-01-27</time></li><li><time datetime=\"2020-01-28\">2020-01-28</time></li><li><time datetime=\"2020-01-29\">2020-01-29</time></li><li><time datetime=\"2020-01-30\">2020-01-30</time></li><li><time datetime=\"2020-01-31\">2020-01-31</time></li></ol>\n"
            ]
          },
          "metadata": {
            "tags": []
          }
        }
      ]
    },
    {
      "cell_type": "code",
      "metadata": {
        "id": "pIcUIOtVMst9",
        "outputId": "4c05856e-bb2e-4ffd-b96a-3414c4bd2835",
        "colab": {
          "base_uri": "https://localhost:8080/",
          "height": 350
        }
      },
      "source": [
        "tb1$dates = mdy(current_dates)\n",
        "head(tb1)"
      ],
      "execution_count": 236,
      "outputs": [
        {
          "output_type": "display_data",
          "data": {
            "text/plain": [
              "        Autauga, Alabama, US Baldwin, Alabama, US Barbour, Alabama, US\n",
              "1/22/20 0                    0                    0                   \n",
              "1/23/20 0                    0                    0                   \n",
              "1/24/20 0                    0                    0                   \n",
              "1/25/20 0                    0                    0                   \n",
              "1/26/20 0                    0                    0                   \n",
              "1/27/20 0                    0                    0                   \n",
              "        Bibb, Alabama, US Blount, Alabama, US Bullock, Alabama, US\n",
              "1/22/20 0                 0                   0                   \n",
              "1/23/20 0                 0                   0                   \n",
              "1/24/20 0                 0                   0                   \n",
              "1/25/20 0                 0                   0                   \n",
              "1/26/20 0                 0                   0                   \n",
              "1/27/20 0                 0                   0                   \n",
              "        Butler, Alabama, US Calhoun, Alabama, US Chambers, Alabama, US\n",
              "1/22/20 0                   0                    0                    \n",
              "1/23/20 0                   0                    0                    \n",
              "1/24/20 0                   0                    0                    \n",
              "1/25/20 0                   0                    0                    \n",
              "1/26/20 0                   0                    0                    \n",
              "1/27/20 0                   0                    0                    \n",
              "        Cherokee, Alabama, US ⋯ Platte, Wyoming, US Sheridan, Wyoming, US\n",
              "1/22/20 0                     ⋯ 0                   0                    \n",
              "1/23/20 0                     ⋯ 0                   0                    \n",
              "1/24/20 0                     ⋯ 0                   0                    \n",
              "1/25/20 0                     ⋯ 0                   0                    \n",
              "1/26/20 0                     ⋯ 0                   0                    \n",
              "1/27/20 0                     ⋯ 0                   0                    \n",
              "        Sublette, Wyoming, US Sweetwater, Wyoming, US Teton, Wyoming, US\n",
              "1/22/20 0                     0                       0                 \n",
              "1/23/20 0                     0                       0                 \n",
              "1/24/20 0                     0                       0                 \n",
              "1/25/20 0                     0                       0                 \n",
              "1/26/20 0                     0                       0                 \n",
              "1/27/20 0                     0                       0                 \n",
              "        Uinta, Wyoming, US Unassigned, Wyoming, US Washakie, Wyoming, US\n",
              "1/22/20 0                  0                       0                    \n",
              "1/23/20 0                  0                       0                    \n",
              "1/24/20 0                  0                       0                    \n",
              "1/25/20 0                  0                       0                    \n",
              "1/26/20 0                  0                       0                    \n",
              "1/27/20 0                  0                       0                    \n",
              "        Weston, Wyoming, US dates     \n",
              "1/22/20 0                   2020-01-22\n",
              "1/23/20 0                   2020-01-23\n",
              "1/24/20 0                   2020-01-24\n",
              "1/25/20 0                   2020-01-25\n",
              "1/26/20 0                   2020-01-26\n",
              "1/27/20 0                   2020-01-27"
            ],
            "text/latex": "A data.frame: 6 × 3341\n\\begin{tabular}{r|lllllllllllllllllllll}\n  & Autauga, Alabama, US & Baldwin, Alabama, US & Barbour, Alabama, US & Bibb, Alabama, US & Blount, Alabama, US & Bullock, Alabama, US & Butler, Alabama, US & Calhoun, Alabama, US & Chambers, Alabama, US & Cherokee, Alabama, US & ⋯ & Platte, Wyoming, US & Sheridan, Wyoming, US & Sublette, Wyoming, US & Sweetwater, Wyoming, US & Teton, Wyoming, US & Uinta, Wyoming, US & Unassigned, Wyoming, US & Washakie, Wyoming, US & Weston, Wyoming, US & dates\\\\\n  & <dbl> & <dbl> & <dbl> & <dbl> & <dbl> & <dbl> & <dbl> & <dbl> & <dbl> & <dbl> & ⋯ & <dbl> & <dbl> & <dbl> & <dbl> & <dbl> & <dbl> & <dbl> & <dbl> & <dbl> & <date>\\\\\n\\hline\n\t1/22/20 & 0 & 0 & 0 & 0 & 0 & 0 & 0 & 0 & 0 & 0 & ⋯ & 0 & 0 & 0 & 0 & 0 & 0 & 0 & 0 & 0 & 2020-01-22\\\\\n\t1/23/20 & 0 & 0 & 0 & 0 & 0 & 0 & 0 & 0 & 0 & 0 & ⋯ & 0 & 0 & 0 & 0 & 0 & 0 & 0 & 0 & 0 & 2020-01-23\\\\\n\t1/24/20 & 0 & 0 & 0 & 0 & 0 & 0 & 0 & 0 & 0 & 0 & ⋯ & 0 & 0 & 0 & 0 & 0 & 0 & 0 & 0 & 0 & 2020-01-24\\\\\n\t1/25/20 & 0 & 0 & 0 & 0 & 0 & 0 & 0 & 0 & 0 & 0 & ⋯ & 0 & 0 & 0 & 0 & 0 & 0 & 0 & 0 & 0 & 2020-01-25\\\\\n\t1/26/20 & 0 & 0 & 0 & 0 & 0 & 0 & 0 & 0 & 0 & 0 & ⋯ & 0 & 0 & 0 & 0 & 0 & 0 & 0 & 0 & 0 & 2020-01-26\\\\\n\t1/27/20 & 0 & 0 & 0 & 0 & 0 & 0 & 0 & 0 & 0 & 0 & ⋯ & 0 & 0 & 0 & 0 & 0 & 0 & 0 & 0 & 0 & 2020-01-27\\\\\n\\end{tabular}\n",
            "text/markdown": "\nA data.frame: 6 × 3341\n\n| <!--/--> | Autauga, Alabama, US &lt;dbl&gt; | Baldwin, Alabama, US &lt;dbl&gt; | Barbour, Alabama, US &lt;dbl&gt; | Bibb, Alabama, US &lt;dbl&gt; | Blount, Alabama, US &lt;dbl&gt; | Bullock, Alabama, US &lt;dbl&gt; | Butler, Alabama, US &lt;dbl&gt; | Calhoun, Alabama, US &lt;dbl&gt; | Chambers, Alabama, US &lt;dbl&gt; | Cherokee, Alabama, US &lt;dbl&gt; | ⋯ ⋯ | Platte, Wyoming, US &lt;dbl&gt; | Sheridan, Wyoming, US &lt;dbl&gt; | Sublette, Wyoming, US &lt;dbl&gt; | Sweetwater, Wyoming, US &lt;dbl&gt; | Teton, Wyoming, US &lt;dbl&gt; | Uinta, Wyoming, US &lt;dbl&gt; | Unassigned, Wyoming, US &lt;dbl&gt; | Washakie, Wyoming, US &lt;dbl&gt; | Weston, Wyoming, US &lt;dbl&gt; | dates &lt;date&gt; |\n|---|---|---|---|---|---|---|---|---|---|---|---|---|---|---|---|---|---|---|---|---|---|\n| 1/22/20 | 0 | 0 | 0 | 0 | 0 | 0 | 0 | 0 | 0 | 0 | ⋯ | 0 | 0 | 0 | 0 | 0 | 0 | 0 | 0 | 0 | 2020-01-22 |\n| 1/23/20 | 0 | 0 | 0 | 0 | 0 | 0 | 0 | 0 | 0 | 0 | ⋯ | 0 | 0 | 0 | 0 | 0 | 0 | 0 | 0 | 0 | 2020-01-23 |\n| 1/24/20 | 0 | 0 | 0 | 0 | 0 | 0 | 0 | 0 | 0 | 0 | ⋯ | 0 | 0 | 0 | 0 | 0 | 0 | 0 | 0 | 0 | 2020-01-24 |\n| 1/25/20 | 0 | 0 | 0 | 0 | 0 | 0 | 0 | 0 | 0 | 0 | ⋯ | 0 | 0 | 0 | 0 | 0 | 0 | 0 | 0 | 0 | 2020-01-25 |\n| 1/26/20 | 0 | 0 | 0 | 0 | 0 | 0 | 0 | 0 | 0 | 0 | ⋯ | 0 | 0 | 0 | 0 | 0 | 0 | 0 | 0 | 0 | 2020-01-26 |\n| 1/27/20 | 0 | 0 | 0 | 0 | 0 | 0 | 0 | 0 | 0 | 0 | ⋯ | 0 | 0 | 0 | 0 | 0 | 0 | 0 | 0 | 0 | 2020-01-27 |\n\n",
            "text/html": [
              "<table>\n",
              "<caption>A data.frame: 6 × 3341</caption>\n",
              "<thead>\n",
              "\t<tr><th></th><th scope=col>Autauga, Alabama, US</th><th scope=col>Baldwin, Alabama, US</th><th scope=col>Barbour, Alabama, US</th><th scope=col>Bibb, Alabama, US</th><th scope=col>Blount, Alabama, US</th><th scope=col>Bullock, Alabama, US</th><th scope=col>Butler, Alabama, US</th><th scope=col>Calhoun, Alabama, US</th><th scope=col>Chambers, Alabama, US</th><th scope=col>Cherokee, Alabama, US</th><th scope=col>⋯</th><th scope=col>Platte, Wyoming, US</th><th scope=col>Sheridan, Wyoming, US</th><th scope=col>Sublette, Wyoming, US</th><th scope=col>Sweetwater, Wyoming, US</th><th scope=col>Teton, Wyoming, US</th><th scope=col>Uinta, Wyoming, US</th><th scope=col>Unassigned, Wyoming, US</th><th scope=col>Washakie, Wyoming, US</th><th scope=col>Weston, Wyoming, US</th><th scope=col>dates</th></tr>\n",
              "\t<tr><th></th><th scope=col>&lt;dbl&gt;</th><th scope=col>&lt;dbl&gt;</th><th scope=col>&lt;dbl&gt;</th><th scope=col>&lt;dbl&gt;</th><th scope=col>&lt;dbl&gt;</th><th scope=col>&lt;dbl&gt;</th><th scope=col>&lt;dbl&gt;</th><th scope=col>&lt;dbl&gt;</th><th scope=col>&lt;dbl&gt;</th><th scope=col>&lt;dbl&gt;</th><th scope=col>⋯</th><th scope=col>&lt;dbl&gt;</th><th scope=col>&lt;dbl&gt;</th><th scope=col>&lt;dbl&gt;</th><th scope=col>&lt;dbl&gt;</th><th scope=col>&lt;dbl&gt;</th><th scope=col>&lt;dbl&gt;</th><th scope=col>&lt;dbl&gt;</th><th scope=col>&lt;dbl&gt;</th><th scope=col>&lt;dbl&gt;</th><th scope=col>&lt;date&gt;</th></tr>\n",
              "</thead>\n",
              "<tbody>\n",
              "\t<tr><th scope=row>1/22/20</th><td>0</td><td>0</td><td>0</td><td>0</td><td>0</td><td>0</td><td>0</td><td>0</td><td>0</td><td>0</td><td>⋯</td><td>0</td><td>0</td><td>0</td><td>0</td><td>0</td><td>0</td><td>0</td><td>0</td><td>0</td><td>2020-01-22</td></tr>\n",
              "\t<tr><th scope=row>1/23/20</th><td>0</td><td>0</td><td>0</td><td>0</td><td>0</td><td>0</td><td>0</td><td>0</td><td>0</td><td>0</td><td>⋯</td><td>0</td><td>0</td><td>0</td><td>0</td><td>0</td><td>0</td><td>0</td><td>0</td><td>0</td><td>2020-01-23</td></tr>\n",
              "\t<tr><th scope=row>1/24/20</th><td>0</td><td>0</td><td>0</td><td>0</td><td>0</td><td>0</td><td>0</td><td>0</td><td>0</td><td>0</td><td>⋯</td><td>0</td><td>0</td><td>0</td><td>0</td><td>0</td><td>0</td><td>0</td><td>0</td><td>0</td><td>2020-01-24</td></tr>\n",
              "\t<tr><th scope=row>1/25/20</th><td>0</td><td>0</td><td>0</td><td>0</td><td>0</td><td>0</td><td>0</td><td>0</td><td>0</td><td>0</td><td>⋯</td><td>0</td><td>0</td><td>0</td><td>0</td><td>0</td><td>0</td><td>0</td><td>0</td><td>0</td><td>2020-01-25</td></tr>\n",
              "\t<tr><th scope=row>1/26/20</th><td>0</td><td>0</td><td>0</td><td>0</td><td>0</td><td>0</td><td>0</td><td>0</td><td>0</td><td>0</td><td>⋯</td><td>0</td><td>0</td><td>0</td><td>0</td><td>0</td><td>0</td><td>0</td><td>0</td><td>0</td><td>2020-01-26</td></tr>\n",
              "\t<tr><th scope=row>1/27/20</th><td>0</td><td>0</td><td>0</td><td>0</td><td>0</td><td>0</td><td>0</td><td>0</td><td>0</td><td>0</td><td>⋯</td><td>0</td><td>0</td><td>0</td><td>0</td><td>0</td><td>0</td><td>0</td><td>0</td><td>0</td><td>2020-01-27</td></tr>\n",
              "</tbody>\n",
              "</table>\n"
            ]
          },
          "metadata": {
            "tags": []
          }
        }
      ]
    },
    {
      "cell_type": "markdown",
      "metadata": {
        "id": "Q6WHAtLrgmOW"
      },
      "source": [
        "## Select a time window using 'filter'"
      ]
    },
    {
      "cell_type": "code",
      "metadata": {
        "id": "IbSh8oiDMsxI",
        "outputId": "5b653589-4c62-479a-8fe0-22512cf8d809",
        "colab": {
          "base_uri": "https://localhost:8080/",
          "height": 350
        }
      },
      "source": [
        "tb1 %>% filter( dates > mdy(\"5/1/2020\"), dates < mdy(\"5/31/20\")) %>% head()"
      ],
      "execution_count": 237,
      "outputs": [
        {
          "output_type": "display_data",
          "data": {
            "text/plain": [
              "       Autauga, Alabama, US Baldwin, Alabama, US Barbour, Alabama, US\n",
              "5/2/20 45                   181                  43                  \n",
              "5/3/20 48                   187                  45                  \n",
              "5/4/20 53                   188                  45                  \n",
              "5/5/20 53                   189                  47                  \n",
              "5/6/20 58                   196                  47                  \n",
              "5/7/20 61                   205                  51                  \n",
              "       Bibb, Alabama, US Blount, Alabama, US Bullock, Alabama, US\n",
              "5/2/20 42                40                  14                  \n",
              "5/3/20 43                40                  14                  \n",
              "5/4/20 42                40                  16                  \n",
              "5/5/20 43                40                  18                  \n",
              "5/6/20 43                42                  18                  \n",
              "5/7/20 44                44                  18                  \n",
              "       Butler, Alabama, US Calhoun, Alabama, US Chambers, Alabama, US\n",
              "5/2/20  92                  98                  294                  \n",
              "5/3/20 105                 105                  300                  \n",
              "5/4/20 114                 105                  302                  \n",
              "5/5/20 120                 114                  304                  \n",
              "5/6/20 130                 114                  306                  \n",
              "5/7/20 155                 120                  308                  \n",
              "       Cherokee, Alabama, US ⋯ Platte, Wyoming, US Sheridan, Wyoming, US\n",
              "5/2/20 15                    ⋯ 0                   16                   \n",
              "5/3/20 16                    ⋯ 0                   16                   \n",
              "5/4/20 16                    ⋯ 0                   16                   \n",
              "5/5/20 17                    ⋯ 0                   16                   \n",
              "5/6/20 18                    ⋯ 0                   16                   \n",
              "5/7/20 18                    ⋯ 0                   16                   \n",
              "       Sublette, Wyoming, US Sweetwater, Wyoming, US Teton, Wyoming, US\n",
              "5/2/20 3                     18                      97                \n",
              "5/3/20 3                     18                      98                \n",
              "5/4/20 3                     18                      98                \n",
              "5/5/20 3                     18                      98                \n",
              "5/6/20 3                     19                      98                \n",
              "5/7/20 3                     19                      98                \n",
              "       Uinta, Wyoming, US Unassigned, Wyoming, US Washakie, Wyoming, US\n",
              "5/2/20 8                  0                       8                    \n",
              "5/3/20 8                  0                       8                    \n",
              "5/4/20 8                  0                       8                    \n",
              "5/5/20 8                  0                       8                    \n",
              "5/6/20 8                  0                       8                    \n",
              "5/7/20 8                  0                       8                    \n",
              "       Weston, Wyoming, US dates     \n",
              "5/2/20 0                   2020-05-02\n",
              "5/3/20 0                   2020-05-03\n",
              "5/4/20 0                   2020-05-04\n",
              "5/5/20 0                   2020-05-05\n",
              "5/6/20 0                   2020-05-06\n",
              "5/7/20 0                   2020-05-07"
            ],
            "text/latex": "A data.frame: 6 × 3341\n\\begin{tabular}{r|lllllllllllllllllllll}\n  & Autauga, Alabama, US & Baldwin, Alabama, US & Barbour, Alabama, US & Bibb, Alabama, US & Blount, Alabama, US & Bullock, Alabama, US & Butler, Alabama, US & Calhoun, Alabama, US & Chambers, Alabama, US & Cherokee, Alabama, US & ⋯ & Platte, Wyoming, US & Sheridan, Wyoming, US & Sublette, Wyoming, US & Sweetwater, Wyoming, US & Teton, Wyoming, US & Uinta, Wyoming, US & Unassigned, Wyoming, US & Washakie, Wyoming, US & Weston, Wyoming, US & dates\\\\\n  & <dbl> & <dbl> & <dbl> & <dbl> & <dbl> & <dbl> & <dbl> & <dbl> & <dbl> & <dbl> & ⋯ & <dbl> & <dbl> & <dbl> & <dbl> & <dbl> & <dbl> & <dbl> & <dbl> & <dbl> & <date>\\\\\n\\hline\n\t5/2/20 & 45 & 181 & 43 & 42 & 40 & 14 &  92 &  98 & 294 & 15 & ⋯ & 0 & 16 & 3 & 18 & 97 & 8 & 0 & 8 & 0 & 2020-05-02\\\\\n\t5/3/20 & 48 & 187 & 45 & 43 & 40 & 14 & 105 & 105 & 300 & 16 & ⋯ & 0 & 16 & 3 & 18 & 98 & 8 & 0 & 8 & 0 & 2020-05-03\\\\\n\t5/4/20 & 53 & 188 & 45 & 42 & 40 & 16 & 114 & 105 & 302 & 16 & ⋯ & 0 & 16 & 3 & 18 & 98 & 8 & 0 & 8 & 0 & 2020-05-04\\\\\n\t5/5/20 & 53 & 189 & 47 & 43 & 40 & 18 & 120 & 114 & 304 & 17 & ⋯ & 0 & 16 & 3 & 18 & 98 & 8 & 0 & 8 & 0 & 2020-05-05\\\\\n\t5/6/20 & 58 & 196 & 47 & 43 & 42 & 18 & 130 & 114 & 306 & 18 & ⋯ & 0 & 16 & 3 & 19 & 98 & 8 & 0 & 8 & 0 & 2020-05-06\\\\\n\t5/7/20 & 61 & 205 & 51 & 44 & 44 & 18 & 155 & 120 & 308 & 18 & ⋯ & 0 & 16 & 3 & 19 & 98 & 8 & 0 & 8 & 0 & 2020-05-07\\\\\n\\end{tabular}\n",
            "text/markdown": "\nA data.frame: 6 × 3341\n\n| <!--/--> | Autauga, Alabama, US &lt;dbl&gt; | Baldwin, Alabama, US &lt;dbl&gt; | Barbour, Alabama, US &lt;dbl&gt; | Bibb, Alabama, US &lt;dbl&gt; | Blount, Alabama, US &lt;dbl&gt; | Bullock, Alabama, US &lt;dbl&gt; | Butler, Alabama, US &lt;dbl&gt; | Calhoun, Alabama, US &lt;dbl&gt; | Chambers, Alabama, US &lt;dbl&gt; | Cherokee, Alabama, US &lt;dbl&gt; | ⋯ ⋯ | Platte, Wyoming, US &lt;dbl&gt; | Sheridan, Wyoming, US &lt;dbl&gt; | Sublette, Wyoming, US &lt;dbl&gt; | Sweetwater, Wyoming, US &lt;dbl&gt; | Teton, Wyoming, US &lt;dbl&gt; | Uinta, Wyoming, US &lt;dbl&gt; | Unassigned, Wyoming, US &lt;dbl&gt; | Washakie, Wyoming, US &lt;dbl&gt; | Weston, Wyoming, US &lt;dbl&gt; | dates &lt;date&gt; |\n|---|---|---|---|---|---|---|---|---|---|---|---|---|---|---|---|---|---|---|---|---|---|\n| 5/2/20 | 45 | 181 | 43 | 42 | 40 | 14 |  92 |  98 | 294 | 15 | ⋯ | 0 | 16 | 3 | 18 | 97 | 8 | 0 | 8 | 0 | 2020-05-02 |\n| 5/3/20 | 48 | 187 | 45 | 43 | 40 | 14 | 105 | 105 | 300 | 16 | ⋯ | 0 | 16 | 3 | 18 | 98 | 8 | 0 | 8 | 0 | 2020-05-03 |\n| 5/4/20 | 53 | 188 | 45 | 42 | 40 | 16 | 114 | 105 | 302 | 16 | ⋯ | 0 | 16 | 3 | 18 | 98 | 8 | 0 | 8 | 0 | 2020-05-04 |\n| 5/5/20 | 53 | 189 | 47 | 43 | 40 | 18 | 120 | 114 | 304 | 17 | ⋯ | 0 | 16 | 3 | 18 | 98 | 8 | 0 | 8 | 0 | 2020-05-05 |\n| 5/6/20 | 58 | 196 | 47 | 43 | 42 | 18 | 130 | 114 | 306 | 18 | ⋯ | 0 | 16 | 3 | 19 | 98 | 8 | 0 | 8 | 0 | 2020-05-06 |\n| 5/7/20 | 61 | 205 | 51 | 44 | 44 | 18 | 155 | 120 | 308 | 18 | ⋯ | 0 | 16 | 3 | 19 | 98 | 8 | 0 | 8 | 0 | 2020-05-07 |\n\n",
            "text/html": [
              "<table>\n",
              "<caption>A data.frame: 6 × 3341</caption>\n",
              "<thead>\n",
              "\t<tr><th></th><th scope=col>Autauga, Alabama, US</th><th scope=col>Baldwin, Alabama, US</th><th scope=col>Barbour, Alabama, US</th><th scope=col>Bibb, Alabama, US</th><th scope=col>Blount, Alabama, US</th><th scope=col>Bullock, Alabama, US</th><th scope=col>Butler, Alabama, US</th><th scope=col>Calhoun, Alabama, US</th><th scope=col>Chambers, Alabama, US</th><th scope=col>Cherokee, Alabama, US</th><th scope=col>⋯</th><th scope=col>Platte, Wyoming, US</th><th scope=col>Sheridan, Wyoming, US</th><th scope=col>Sublette, Wyoming, US</th><th scope=col>Sweetwater, Wyoming, US</th><th scope=col>Teton, Wyoming, US</th><th scope=col>Uinta, Wyoming, US</th><th scope=col>Unassigned, Wyoming, US</th><th scope=col>Washakie, Wyoming, US</th><th scope=col>Weston, Wyoming, US</th><th scope=col>dates</th></tr>\n",
              "\t<tr><th></th><th scope=col>&lt;dbl&gt;</th><th scope=col>&lt;dbl&gt;</th><th scope=col>&lt;dbl&gt;</th><th scope=col>&lt;dbl&gt;</th><th scope=col>&lt;dbl&gt;</th><th scope=col>&lt;dbl&gt;</th><th scope=col>&lt;dbl&gt;</th><th scope=col>&lt;dbl&gt;</th><th scope=col>&lt;dbl&gt;</th><th scope=col>&lt;dbl&gt;</th><th scope=col>⋯</th><th scope=col>&lt;dbl&gt;</th><th scope=col>&lt;dbl&gt;</th><th scope=col>&lt;dbl&gt;</th><th scope=col>&lt;dbl&gt;</th><th scope=col>&lt;dbl&gt;</th><th scope=col>&lt;dbl&gt;</th><th scope=col>&lt;dbl&gt;</th><th scope=col>&lt;dbl&gt;</th><th scope=col>&lt;dbl&gt;</th><th scope=col>&lt;date&gt;</th></tr>\n",
              "</thead>\n",
              "<tbody>\n",
              "\t<tr><th scope=row>5/2/20</th><td>45</td><td>181</td><td>43</td><td>42</td><td>40</td><td>14</td><td> 92</td><td> 98</td><td>294</td><td>15</td><td>⋯</td><td>0</td><td>16</td><td>3</td><td>18</td><td>97</td><td>8</td><td>0</td><td>8</td><td>0</td><td>2020-05-02</td></tr>\n",
              "\t<tr><th scope=row>5/3/20</th><td>48</td><td>187</td><td>45</td><td>43</td><td>40</td><td>14</td><td>105</td><td>105</td><td>300</td><td>16</td><td>⋯</td><td>0</td><td>16</td><td>3</td><td>18</td><td>98</td><td>8</td><td>0</td><td>8</td><td>0</td><td>2020-05-03</td></tr>\n",
              "\t<tr><th scope=row>5/4/20</th><td>53</td><td>188</td><td>45</td><td>42</td><td>40</td><td>16</td><td>114</td><td>105</td><td>302</td><td>16</td><td>⋯</td><td>0</td><td>16</td><td>3</td><td>18</td><td>98</td><td>8</td><td>0</td><td>8</td><td>0</td><td>2020-05-04</td></tr>\n",
              "\t<tr><th scope=row>5/5/20</th><td>53</td><td>189</td><td>47</td><td>43</td><td>40</td><td>18</td><td>120</td><td>114</td><td>304</td><td>17</td><td>⋯</td><td>0</td><td>16</td><td>3</td><td>18</td><td>98</td><td>8</td><td>0</td><td>8</td><td>0</td><td>2020-05-05</td></tr>\n",
              "\t<tr><th scope=row>5/6/20</th><td>58</td><td>196</td><td>47</td><td>43</td><td>42</td><td>18</td><td>130</td><td>114</td><td>306</td><td>18</td><td>⋯</td><td>0</td><td>16</td><td>3</td><td>19</td><td>98</td><td>8</td><td>0</td><td>8</td><td>0</td><td>2020-05-06</td></tr>\n",
              "\t<tr><th scope=row>5/7/20</th><td>61</td><td>205</td><td>51</td><td>44</td><td>44</td><td>18</td><td>155</td><td>120</td><td>308</td><td>18</td><td>⋯</td><td>0</td><td>16</td><td>3</td><td>19</td><td>98</td><td>8</td><td>0</td><td>8</td><td>0</td><td>2020-05-07</td></tr>\n",
              "</tbody>\n",
              "</table>\n"
            ]
          },
          "metadata": {
            "tags": []
          }
        }
      ]
    },
    {
      "cell_type": "code",
      "metadata": {
        "id": "t24-UDQvm2ry",
        "outputId": "c339bf57-1a77-415d-ac75-6bb427a1598d",
        "colab": {
          "base_uri": "https://localhost:8080/",
          "height": 34
        }
      },
      "source": [
        "start = mdy(\"9/14/20\")\n",
        "start + ddays(13)"
      ],
      "execution_count": 238,
      "outputs": [
        {
          "output_type": "display_data",
          "data": {
            "text/plain": [
              "[1] \"2020-09-27\""
            ],
            "text/latex": "2020-09-27",
            "text/markdown": "2020-09-27",
            "text/html": [
              "<time datetime=\"2020-09-27\">2020-09-27</time>"
            ]
          },
          "metadata": {
            "tags": []
          }
        }
      ]
    },
    {
      "cell_type": "code",
      "metadata": {
        "id": "zMlWc4R-hR5U",
        "outputId": "882b626c-04e4-42aa-fbfb-cd780790987c",
        "colab": {
          "base_uri": "https://localhost:8080/",
          "height": 372
        }
      },
      "source": [
        "tb1 %>% dplyr::filter( dates >= start, dates <=  start + ddays(13)) %>% dplyr::select(1:5)"
      ],
      "execution_count": 239,
      "outputs": [
        {
          "output_type": "display_data",
          "data": {
            "text/plain": [
              "        Autauga, Alabama, US Baldwin, Alabama, US Barbour, Alabama, US\n",
              "9/14/20 1447                 4800                 626                 \n",
              "9/15/20 1463                 4812                 629                 \n",
              "9/16/20 1619                 5003                 809                 \n",
              "9/17/20 1624                 5021                 809                 \n",
              "9/18/20 1664                 5033                 824                 \n",
              "9/19/20 1673                 5047                 830                 \n",
              "9/20/20 1690                 5061                 835                 \n",
              "9/21/20 1691                 5087                 838                 \n",
              "9/22/20 1714                 5124                 848                 \n",
              "9/23/20 1715                 5141                 851                 \n",
              "9/24/20 1738                 5165                 857                 \n",
              "9/25/20 1757                 5456                 873                 \n",
              "9/26/20 1764                 5477                 882                 \n",
              "9/27/20 1773                 5526                 885                 \n",
              "        Bibb, Alabama, US Blount, Alabama, US\n",
              "9/14/20 581               1128               \n",
              "9/15/20 580               1139               \n",
              "9/16/20 612               1487               \n",
              "9/17/20 617               1504               \n",
              "9/18/20 619               1527               \n",
              "9/19/20 628               1542               \n",
              "9/20/20 632               1551               \n",
              "9/21/20 636               1560               \n",
              "9/22/20 635               1573               \n",
              "9/23/20 638               1580               \n",
              "9/24/20 642               1594               \n",
              "9/25/20 652               1608               \n",
              "9/26/20 654               1611               \n",
              "9/27/20 656               1617               "
            ],
            "text/latex": "A data.frame: 14 × 5\n\\begin{tabular}{r|lllll}\n  & Autauga, Alabama, US & Baldwin, Alabama, US & Barbour, Alabama, US & Bibb, Alabama, US & Blount, Alabama, US\\\\\n  & <dbl> & <dbl> & <dbl> & <dbl> & <dbl>\\\\\n\\hline\n\t9/14/20 & 1447 & 4800 & 626 & 581 & 1128\\\\\n\t9/15/20 & 1463 & 4812 & 629 & 580 & 1139\\\\\n\t9/16/20 & 1619 & 5003 & 809 & 612 & 1487\\\\\n\t9/17/20 & 1624 & 5021 & 809 & 617 & 1504\\\\\n\t9/18/20 & 1664 & 5033 & 824 & 619 & 1527\\\\\n\t9/19/20 & 1673 & 5047 & 830 & 628 & 1542\\\\\n\t9/20/20 & 1690 & 5061 & 835 & 632 & 1551\\\\\n\t9/21/20 & 1691 & 5087 & 838 & 636 & 1560\\\\\n\t9/22/20 & 1714 & 5124 & 848 & 635 & 1573\\\\\n\t9/23/20 & 1715 & 5141 & 851 & 638 & 1580\\\\\n\t9/24/20 & 1738 & 5165 & 857 & 642 & 1594\\\\\n\t9/25/20 & 1757 & 5456 & 873 & 652 & 1608\\\\\n\t9/26/20 & 1764 & 5477 & 882 & 654 & 1611\\\\\n\t9/27/20 & 1773 & 5526 & 885 & 656 & 1617\\\\\n\\end{tabular}\n",
            "text/markdown": "\nA data.frame: 14 × 5\n\n| <!--/--> | Autauga, Alabama, US &lt;dbl&gt; | Baldwin, Alabama, US &lt;dbl&gt; | Barbour, Alabama, US &lt;dbl&gt; | Bibb, Alabama, US &lt;dbl&gt; | Blount, Alabama, US &lt;dbl&gt; |\n|---|---|---|---|---|---|\n| 9/14/20 | 1447 | 4800 | 626 | 581 | 1128 |\n| 9/15/20 | 1463 | 4812 | 629 | 580 | 1139 |\n| 9/16/20 | 1619 | 5003 | 809 | 612 | 1487 |\n| 9/17/20 | 1624 | 5021 | 809 | 617 | 1504 |\n| 9/18/20 | 1664 | 5033 | 824 | 619 | 1527 |\n| 9/19/20 | 1673 | 5047 | 830 | 628 | 1542 |\n| 9/20/20 | 1690 | 5061 | 835 | 632 | 1551 |\n| 9/21/20 | 1691 | 5087 | 838 | 636 | 1560 |\n| 9/22/20 | 1714 | 5124 | 848 | 635 | 1573 |\n| 9/23/20 | 1715 | 5141 | 851 | 638 | 1580 |\n| 9/24/20 | 1738 | 5165 | 857 | 642 | 1594 |\n| 9/25/20 | 1757 | 5456 | 873 | 652 | 1608 |\n| 9/26/20 | 1764 | 5477 | 882 | 654 | 1611 |\n| 9/27/20 | 1773 | 5526 | 885 | 656 | 1617 |\n\n",
            "text/html": [
              "<table>\n",
              "<caption>A data.frame: 14 × 5</caption>\n",
              "<thead>\n",
              "\t<tr><th></th><th scope=col>Autauga, Alabama, US</th><th scope=col>Baldwin, Alabama, US</th><th scope=col>Barbour, Alabama, US</th><th scope=col>Bibb, Alabama, US</th><th scope=col>Blount, Alabama, US</th></tr>\n",
              "\t<tr><th></th><th scope=col>&lt;dbl&gt;</th><th scope=col>&lt;dbl&gt;</th><th scope=col>&lt;dbl&gt;</th><th scope=col>&lt;dbl&gt;</th><th scope=col>&lt;dbl&gt;</th></tr>\n",
              "</thead>\n",
              "<tbody>\n",
              "\t<tr><th scope=row>9/14/20</th><td>1447</td><td>4800</td><td>626</td><td>581</td><td>1128</td></tr>\n",
              "\t<tr><th scope=row>9/15/20</th><td>1463</td><td>4812</td><td>629</td><td>580</td><td>1139</td></tr>\n",
              "\t<tr><th scope=row>9/16/20</th><td>1619</td><td>5003</td><td>809</td><td>612</td><td>1487</td></tr>\n",
              "\t<tr><th scope=row>9/17/20</th><td>1624</td><td>5021</td><td>809</td><td>617</td><td>1504</td></tr>\n",
              "\t<tr><th scope=row>9/18/20</th><td>1664</td><td>5033</td><td>824</td><td>619</td><td>1527</td></tr>\n",
              "\t<tr><th scope=row>9/19/20</th><td>1673</td><td>5047</td><td>830</td><td>628</td><td>1542</td></tr>\n",
              "\t<tr><th scope=row>9/20/20</th><td>1690</td><td>5061</td><td>835</td><td>632</td><td>1551</td></tr>\n",
              "\t<tr><th scope=row>9/21/20</th><td>1691</td><td>5087</td><td>838</td><td>636</td><td>1560</td></tr>\n",
              "\t<tr><th scope=row>9/22/20</th><td>1714</td><td>5124</td><td>848</td><td>635</td><td>1573</td></tr>\n",
              "\t<tr><th scope=row>9/23/20</th><td>1715</td><td>5141</td><td>851</td><td>638</td><td>1580</td></tr>\n",
              "\t<tr><th scope=row>9/24/20</th><td>1738</td><td>5165</td><td>857</td><td>642</td><td>1594</td></tr>\n",
              "\t<tr><th scope=row>9/25/20</th><td>1757</td><td>5456</td><td>873</td><td>652</td><td>1608</td></tr>\n",
              "\t<tr><th scope=row>9/26/20</th><td>1764</td><td>5477</td><td>882</td><td>654</td><td>1611</td></tr>\n",
              "\t<tr><th scope=row>9/27/20</th><td>1773</td><td>5526</td><td>885</td><td>656</td><td>1617</td></tr>\n",
              "</tbody>\n",
              "</table>\n"
            ]
          },
          "metadata": {
            "tags": []
          }
        }
      ]
    },
    {
      "cell_type": "markdown",
      "metadata": {
        "id": "p9gZ6U8Rh_d-"
      },
      "source": [
        "## Plot a time window"
      ]
    },
    {
      "cell_type": "code",
      "metadata": {
        "id": "U2a2n5Jphndl",
        "outputId": "7e6ede9a-a4e8-4b80-ff15-729491494de0",
        "colab": {
          "base_uri": "https://localhost:8080/",
          "height": 0
        }
      },
      "source": [
        "start = mdy(\"9/16/20\")\n",
        "start + ddays(14)\n",
        "\n",
        "tb_sub <- \n",
        " tb1 %>% dplyr::filter( dates >= start, dates <  start + ddays(14)) %>% dplyr::select( c(1:5), dates)\n",
        "\n",
        "tb_sub"
      ],
      "execution_count": 240,
      "outputs": [
        {
          "output_type": "display_data",
          "data": {
            "text/plain": [
              "[1] \"2020-09-30\""
            ],
            "text/latex": "2020-09-30",
            "text/markdown": "2020-09-30",
            "text/html": [
              "<time datetime=\"2020-09-30\">2020-09-30</time>"
            ]
          },
          "metadata": {
            "tags": []
          }
        },
        {
          "output_type": "display_data",
          "data": {
            "text/plain": [
              "        Autauga, Alabama, US Baldwin, Alabama, US Barbour, Alabama, US\n",
              "9/16/20 1619                 5003                 809                 \n",
              "9/17/20 1624                 5021                 809                 \n",
              "9/18/20 1664                 5033                 824                 \n",
              "9/19/20 1673                 5047                 830                 \n",
              "9/20/20 1690                 5061                 835                 \n",
              "9/21/20 1691                 5087                 838                 \n",
              "9/22/20 1714                 5124                 848                 \n",
              "9/23/20 1715                 5141                 851                 \n",
              "9/24/20 1738                 5165                 857                 \n",
              "9/25/20 1757                 5456                 873                 \n",
              "9/26/20 1764                 5477                 882                 \n",
              "9/27/20 1773                 5526                 885                 \n",
              "9/28/20 1785                 5588                 886                 \n",
              "9/29/20 1787                 5606                 886                 \n",
              "        Bibb, Alabama, US Blount, Alabama, US dates     \n",
              "9/16/20 612               1487                2020-09-16\n",
              "9/17/20 617               1504                2020-09-17\n",
              "9/18/20 619               1527                2020-09-18\n",
              "9/19/20 628               1542                2020-09-19\n",
              "9/20/20 632               1551                2020-09-20\n",
              "9/21/20 636               1560                2020-09-21\n",
              "9/22/20 635               1573                2020-09-22\n",
              "9/23/20 638               1580                2020-09-23\n",
              "9/24/20 642               1594                2020-09-24\n",
              "9/25/20 652               1608                2020-09-25\n",
              "9/26/20 654               1611                2020-09-26\n",
              "9/27/20 656               1617                2020-09-27\n",
              "9/28/20 657               1618                2020-09-28\n",
              "9/29/20 658               1621                2020-09-29"
            ],
            "text/latex": "A data.frame: 14 × 6\n\\begin{tabular}{r|llllll}\n  & Autauga, Alabama, US & Baldwin, Alabama, US & Barbour, Alabama, US & Bibb, Alabama, US & Blount, Alabama, US & dates\\\\\n  & <dbl> & <dbl> & <dbl> & <dbl> & <dbl> & <date>\\\\\n\\hline\n\t9/16/20 & 1619 & 5003 & 809 & 612 & 1487 & 2020-09-16\\\\\n\t9/17/20 & 1624 & 5021 & 809 & 617 & 1504 & 2020-09-17\\\\\n\t9/18/20 & 1664 & 5033 & 824 & 619 & 1527 & 2020-09-18\\\\\n\t9/19/20 & 1673 & 5047 & 830 & 628 & 1542 & 2020-09-19\\\\\n\t9/20/20 & 1690 & 5061 & 835 & 632 & 1551 & 2020-09-20\\\\\n\t9/21/20 & 1691 & 5087 & 838 & 636 & 1560 & 2020-09-21\\\\\n\t9/22/20 & 1714 & 5124 & 848 & 635 & 1573 & 2020-09-22\\\\\n\t9/23/20 & 1715 & 5141 & 851 & 638 & 1580 & 2020-09-23\\\\\n\t9/24/20 & 1738 & 5165 & 857 & 642 & 1594 & 2020-09-24\\\\\n\t9/25/20 & 1757 & 5456 & 873 & 652 & 1608 & 2020-09-25\\\\\n\t9/26/20 & 1764 & 5477 & 882 & 654 & 1611 & 2020-09-26\\\\\n\t9/27/20 & 1773 & 5526 & 885 & 656 & 1617 & 2020-09-27\\\\\n\t9/28/20 & 1785 & 5588 & 886 & 657 & 1618 & 2020-09-28\\\\\n\t9/29/20 & 1787 & 5606 & 886 & 658 & 1621 & 2020-09-29\\\\\n\\end{tabular}\n",
            "text/markdown": "\nA data.frame: 14 × 6\n\n| <!--/--> | Autauga, Alabama, US &lt;dbl&gt; | Baldwin, Alabama, US &lt;dbl&gt; | Barbour, Alabama, US &lt;dbl&gt; | Bibb, Alabama, US &lt;dbl&gt; | Blount, Alabama, US &lt;dbl&gt; | dates &lt;date&gt; |\n|---|---|---|---|---|---|---|\n| 9/16/20 | 1619 | 5003 | 809 | 612 | 1487 | 2020-09-16 |\n| 9/17/20 | 1624 | 5021 | 809 | 617 | 1504 | 2020-09-17 |\n| 9/18/20 | 1664 | 5033 | 824 | 619 | 1527 | 2020-09-18 |\n| 9/19/20 | 1673 | 5047 | 830 | 628 | 1542 | 2020-09-19 |\n| 9/20/20 | 1690 | 5061 | 835 | 632 | 1551 | 2020-09-20 |\n| 9/21/20 | 1691 | 5087 | 838 | 636 | 1560 | 2020-09-21 |\n| 9/22/20 | 1714 | 5124 | 848 | 635 | 1573 | 2020-09-22 |\n| 9/23/20 | 1715 | 5141 | 851 | 638 | 1580 | 2020-09-23 |\n| 9/24/20 | 1738 | 5165 | 857 | 642 | 1594 | 2020-09-24 |\n| 9/25/20 | 1757 | 5456 | 873 | 652 | 1608 | 2020-09-25 |\n| 9/26/20 | 1764 | 5477 | 882 | 654 | 1611 | 2020-09-26 |\n| 9/27/20 | 1773 | 5526 | 885 | 656 | 1617 | 2020-09-27 |\n| 9/28/20 | 1785 | 5588 | 886 | 657 | 1618 | 2020-09-28 |\n| 9/29/20 | 1787 | 5606 | 886 | 658 | 1621 | 2020-09-29 |\n\n",
            "text/html": [
              "<table>\n",
              "<caption>A data.frame: 14 × 6</caption>\n",
              "<thead>\n",
              "\t<tr><th></th><th scope=col>Autauga, Alabama, US</th><th scope=col>Baldwin, Alabama, US</th><th scope=col>Barbour, Alabama, US</th><th scope=col>Bibb, Alabama, US</th><th scope=col>Blount, Alabama, US</th><th scope=col>dates</th></tr>\n",
              "\t<tr><th></th><th scope=col>&lt;dbl&gt;</th><th scope=col>&lt;dbl&gt;</th><th scope=col>&lt;dbl&gt;</th><th scope=col>&lt;dbl&gt;</th><th scope=col>&lt;dbl&gt;</th><th scope=col>&lt;date&gt;</th></tr>\n",
              "</thead>\n",
              "<tbody>\n",
              "\t<tr><th scope=row>9/16/20</th><td>1619</td><td>5003</td><td>809</td><td>612</td><td>1487</td><td>2020-09-16</td></tr>\n",
              "\t<tr><th scope=row>9/17/20</th><td>1624</td><td>5021</td><td>809</td><td>617</td><td>1504</td><td>2020-09-17</td></tr>\n",
              "\t<tr><th scope=row>9/18/20</th><td>1664</td><td>5033</td><td>824</td><td>619</td><td>1527</td><td>2020-09-18</td></tr>\n",
              "\t<tr><th scope=row>9/19/20</th><td>1673</td><td>5047</td><td>830</td><td>628</td><td>1542</td><td>2020-09-19</td></tr>\n",
              "\t<tr><th scope=row>9/20/20</th><td>1690</td><td>5061</td><td>835</td><td>632</td><td>1551</td><td>2020-09-20</td></tr>\n",
              "\t<tr><th scope=row>9/21/20</th><td>1691</td><td>5087</td><td>838</td><td>636</td><td>1560</td><td>2020-09-21</td></tr>\n",
              "\t<tr><th scope=row>9/22/20</th><td>1714</td><td>5124</td><td>848</td><td>635</td><td>1573</td><td>2020-09-22</td></tr>\n",
              "\t<tr><th scope=row>9/23/20</th><td>1715</td><td>5141</td><td>851</td><td>638</td><td>1580</td><td>2020-09-23</td></tr>\n",
              "\t<tr><th scope=row>9/24/20</th><td>1738</td><td>5165</td><td>857</td><td>642</td><td>1594</td><td>2020-09-24</td></tr>\n",
              "\t<tr><th scope=row>9/25/20</th><td>1757</td><td>5456</td><td>873</td><td>652</td><td>1608</td><td>2020-09-25</td></tr>\n",
              "\t<tr><th scope=row>9/26/20</th><td>1764</td><td>5477</td><td>882</td><td>654</td><td>1611</td><td>2020-09-26</td></tr>\n",
              "\t<tr><th scope=row>9/27/20</th><td>1773</td><td>5526</td><td>885</td><td>656</td><td>1617</td><td>2020-09-27</td></tr>\n",
              "\t<tr><th scope=row>9/28/20</th><td>1785</td><td>5588</td><td>886</td><td>657</td><td>1618</td><td>2020-09-28</td></tr>\n",
              "\t<tr><th scope=row>9/29/20</th><td>1787</td><td>5606</td><td>886</td><td>658</td><td>1621</td><td>2020-09-29</td></tr>\n",
              "</tbody>\n",
              "</table>\n"
            ]
          },
          "metadata": {
            "tags": []
          }
        }
      ]
    },
    {
      "cell_type": "code",
      "metadata": {
        "id": "u-Xm-PckiQGh",
        "outputId": "93f15191-966f-4149-f683-3f87c2673ef2",
        "colab": {
          "base_uri": "https://localhost:8080/",
          "height": 0
        }
      },
      "source": [
        "ggplot(tb_sub, aes( x = dates, y=tb_sub[,3])) + geom_point() + geom_smooth()"
      ],
      "execution_count": 241,
      "outputs": [
        {
          "output_type": "stream",
          "text": [
            "`geom_smooth()` using method = 'loess' and formula 'y ~ x'\n",
            "\n"
          ],
          "name": "stderr"
        },
        {
          "output_type": "display_data",
          "data": {
            "image/png": "[encoded data removed]",
            "text/plain": [
              "plot without title"
            ]
          },
          "metadata": {
            "tags": [],
            "image/png": {
              "width": 420,
              "height": 420
            }
          }
        }
      ]
    },
    {
      "cell_type": "markdown",
      "metadata": {
        "id": "ZL2X6h2YSfAs"
      },
      "source": [
        "## Now, let's look a specific county. \n",
        "How about Pulaski, AR? \n"
      ]
    },
    {
      "cell_type": "code",
      "metadata": {
        "id": "pCc8c1_BTQ-q",
        "outputId": "b5fe4af6-57bf-46ad-ca38-dd16a35aafd4",
        "colab": {
          "base_uri": "https://localhost:8080/",
          "height": 17
        }
      },
      "source": [
        "mycountyname = 'Pulaski'\n",
        "names(tb1)[ grep(\"mycountyname\", colnames(tb1))]"
      ],
      "execution_count": 242,
      "outputs": [
        {
          "output_type": "display_data",
          "data": {
            "text/plain": [
              "character(0)"
            ],
            "text/latex": "",
            "text/markdown": "",
            "text/html": [
              ""
            ]
          },
          "metadata": {
            "tags": []
          }
        }
      ]
    },
    {
      "cell_type": "code",
      "metadata": {
        "id": "fjgUw4R8TzWy",
        "outputId": "813b1ebe-5b02-4ae6-bbb8-6afc3d7c7ac5",
        "colab": {
          "base_uri": "https://localhost:8080/",
          "height": 34
        }
      },
      "source": [
        "print(paste(\"There are \", length(names(tb1)[ grep(\"Pulaski\", colnames(tb1))] ), mycountyname, \"counties in the USA\"))"
      ],
      "execution_count": 243,
      "outputs": [
        {
          "output_type": "stream",
          "text": [
            "[1] \"There are  7 Pulaski counties in the USA\"\n"
          ],
          "name": "stdout"
        }
      ]
    },
    {
      "cell_type": "code",
      "metadata": {
        "id": "TkttWHr5UM6z",
        "outputId": "1ea1d393-0e3c-4b7a-f66d-234296d148b1",
        "colab": {
          "base_uri": "https://localhost:8080/",
          "height": 1000
        }
      },
      "source": [
        "tb1 %>% dplyr::select ( c('Pulaski, Arkansas, US', 'dates'))"
      ],
      "execution_count": 244,
      "outputs": [
        {
          "output_type": "display_data",
          "data": {
            "text/plain": [
              "         Pulaski, Arkansas, US dates     \n",
              "1/22/20  0                     2020-01-22\n",
              "1/23/20  0                     2020-01-23\n",
              "1/24/20  0                     2020-01-24\n",
              "1/25/20  0                     2020-01-25\n",
              "1/26/20  0                     2020-01-26\n",
              "1/27/20  0                     2020-01-27\n",
              "1/28/20  0                     2020-01-28\n",
              "1/29/20  0                     2020-01-29\n",
              "1/30/20  0                     2020-01-30\n",
              "1/31/20  0                     2020-01-31\n",
              "2/1/20   0                     2020-02-01\n",
              "2/2/20   0                     2020-02-02\n",
              "2/3/20   0                     2020-02-03\n",
              "2/4/20   0                     2020-02-04\n",
              "2/5/20   0                     2020-02-05\n",
              "2/6/20   0                     2020-02-06\n",
              "2/7/20   0                     2020-02-07\n",
              "2/8/20   0                     2020-02-08\n",
              "2/9/20   0                     2020-02-09\n",
              "2/10/20  0                     2020-02-10\n",
              "2/11/20  0                     2020-02-11\n",
              "2/12/20  0                     2020-02-12\n",
              "2/13/20  0                     2020-02-13\n",
              "2/14/20  0                     2020-02-14\n",
              "2/15/20  0                     2020-02-15\n",
              "2/16/20  0                     2020-02-16\n",
              "2/17/20  0                     2020-02-17\n",
              "2/18/20  0                     2020-02-18\n",
              "2/19/20  0                     2020-02-19\n",
              "2/20/20  0                     2020-02-20\n",
              "⋮        ⋮                     ⋮         \n",
              "9/15/20   8231                 2020-09-15\n",
              "9/16/20   8329                 2020-09-16\n",
              "9/17/20   8408                 2020-09-17\n",
              "9/18/20   8473                 2020-09-18\n",
              "9/19/20   8556                 2020-09-19\n",
              "9/20/20   8596                 2020-09-20\n",
              "9/21/20   8670                 2020-09-21\n",
              "9/22/20   8804                 2020-09-22\n",
              "9/23/20   8881                 2020-09-23\n",
              "9/24/20   8981                 2020-09-24\n",
              "9/25/20   9059                 2020-09-25\n",
              "9/26/20   9135                 2020-09-26\n",
              "9/27/20   9163                 2020-09-27\n",
              "9/28/20   9351                 2020-09-28\n",
              "9/29/20   9422                 2020-09-29\n",
              "9/30/20   9509                 2020-09-30\n",
              "10/1/20   9612                 2020-10-01\n",
              "10/2/20   9648                 2020-10-02\n",
              "10/3/20   9720                 2020-10-03\n",
              "10/4/20   9770                 2020-10-04\n",
              "10/5/20   9859                 2020-10-05\n",
              "10/6/20   9944                 2020-10-06\n",
              "10/7/20  10014                 2020-10-07\n",
              "10/8/20  10130                 2020-10-08\n",
              "10/9/20  10224                 2020-10-09\n",
              "10/10/20 10331                 2020-10-10\n",
              "10/11/20 10433                 2020-10-11\n",
              "10/12/20 10525                 2020-10-12\n",
              "10/13/20 10603                 2020-10-13\n",
              "10/14/20 10727                 2020-10-14"
            ],
            "text/latex": "A data.frame: 267 × 2\n\\begin{tabular}{r|ll}\n  & Pulaski, Arkansas, US & dates\\\\\n  & <dbl> & <date>\\\\\n\\hline\n\t1/22/20 & 0 & 2020-01-22\\\\\n\t1/23/20 & 0 & 2020-01-23\\\\\n\t1/24/20 & 0 & 2020-01-24\\\\\n\t1/25/20 & 0 & 2020-01-25\\\\\n\t1/26/20 & 0 & 2020-01-26\\\\\n\t1/27/20 & 0 & 2020-01-27\\\\\n\t1/28/20 & 0 & 2020-01-28\\\\\n\t1/29/20 & 0 & 2020-01-29\\\\\n\t1/30/20 & 0 & 2020-01-30\\\\\n\t1/31/20 & 0 & 2020-01-31\\\\\n\t2/1/20 & 0 & 2020-02-01\\\\\n\t2/2/20 & 0 & 2020-02-02\\\\\n\t2/3/20 & 0 & 2020-02-03\\\\\n\t2/4/20 & 0 & 2020-02-04\\\\\n\t2/5/20 & 0 & 2020-02-05\\\\\n\t2/6/20 & 0 & 2020-02-06\\\\\n\t2/7/20 & 0 & 2020-02-07\\\\\n\t2/8/20 & 0 & 2020-02-08\\\\\n\t2/9/20 & 0 & 2020-02-09\\\\\n\t2/10/20 & 0 & 2020-02-10\\\\\n\t2/11/20 & 0 & 2020-02-11\\\\\n\t2/12/20 & 0 & 2020-02-12\\\\\n\t2/13/20 & 0 & 2020-02-13\\\\\n\t2/14/20 & 0 & 2020-02-14\\\\\n\t2/15/20 & 0 & 2020-02-15\\\\\n\t2/16/20 & 0 & 2020-02-16\\\\\n\t2/17/20 & 0 & 2020-02-17\\\\\n\t2/18/20 & 0 & 2020-02-18\\\\\n\t2/19/20 & 0 & 2020-02-19\\\\\n\t2/20/20 & 0 & 2020-02-20\\\\\n\t⋮ & ⋮ & ⋮\\\\\n\t9/15/20 &  8231 & 2020-09-15\\\\\n\t9/16/20 &  8329 & 2020-09-16\\\\\n\t9/17/20 &  8408 & 2020-09-17\\\\\n\t9/18/20 &  8473 & 2020-09-18\\\\\n\t9/19/20 &  8556 & 2020-09-19\\\\\n\t9/20/20 &  8596 & 2020-09-20\\\\\n\t9/21/20 &  8670 & 2020-09-21\\\\\n\t9/22/20 &  8804 & 2020-09-22\\\\\n\t9/23/20 &  8881 & 2020-09-23\\\\\n\t9/24/20 &  8981 & 2020-09-24\\\\\n\t9/25/20 &  9059 & 2020-09-25\\\\\n\t9/26/20 &  9135 & 2020-09-26\\\\\n\t9/27/20 &  9163 & 2020-09-27\\\\\n\t9/28/20 &  9351 & 2020-09-28\\\\\n\t9/29/20 &  9422 & 2020-09-29\\\\\n\t9/30/20 &  9509 & 2020-09-30\\\\\n\t10/1/20 &  9612 & 2020-10-01\\\\\n\t10/2/20 &  9648 & 2020-10-02\\\\\n\t10/3/20 &  9720 & 2020-10-03\\\\\n\t10/4/20 &  9770 & 2020-10-04\\\\\n\t10/5/20 &  9859 & 2020-10-05\\\\\n\t10/6/20 &  9944 & 2020-10-06\\\\\n\t10/7/20 & 10014 & 2020-10-07\\\\\n\t10/8/20 & 10130 & 2020-10-08\\\\\n\t10/9/20 & 10224 & 2020-10-09\\\\\n\t10/10/20 & 10331 & 2020-10-10\\\\\n\t10/11/20 & 10433 & 2020-10-11\\\\\n\t10/12/20 & 10525 & 2020-10-12\\\\\n\t10/13/20 & 10603 & 2020-10-13\\\\\n\t10/14/20 & 10727 & 2020-10-14\\\\\n\\end{tabular}\n",
            "text/markdown": "\nA data.frame: 267 × 2\n\n| <!--/--> | Pulaski, Arkansas, US &lt;dbl&gt; | dates &lt;date&gt; |\n|---|---|---|\n| 1/22/20 | 0 | 2020-01-22 |\n| 1/23/20 | 0 | 2020-01-23 |\n| 1/24/20 | 0 | 2020-01-24 |\n| 1/25/20 | 0 | 2020-01-25 |\n| 1/26/20 | 0 | 2020-01-26 |\n| 1/27/20 | 0 | 2020-01-27 |\n| 1/28/20 | 0 | 2020-01-28 |\n| 1/29/20 | 0 | 2020-01-29 |\n| 1/30/20 | 0 | 2020-01-30 |\n| 1/31/20 | 0 | 2020-01-31 |\n| 2/1/20 | 0 | 2020-02-01 |\n| 2/2/20 | 0 | 2020-02-02 |\n| 2/3/20 | 0 | 2020-02-03 |\n| 2/4/20 | 0 | 2020-02-04 |\n| 2/5/20 | 0 | 2020-02-05 |\n| 2/6/20 | 0 | 2020-02-06 |\n| 2/7/20 | 0 | 2020-02-07 |\n| 2/8/20 | 0 | 2020-02-08 |\n| 2/9/20 | 0 | 2020-02-09 |\n| 2/10/20 | 0 | 2020-02-10 |\n| 2/11/20 | 0 | 2020-02-11 |\n| 2/12/20 | 0 | 2020-02-12 |\n| 2/13/20 | 0 | 2020-02-13 |\n| 2/14/20 | 0 | 2020-02-14 |\n| 2/15/20 | 0 | 2020-02-15 |\n| 2/16/20 | 0 | 2020-02-16 |\n| 2/17/20 | 0 | 2020-02-17 |\n| 2/18/20 | 0 | 2020-02-18 |\n| 2/19/20 | 0 | 2020-02-19 |\n| 2/20/20 | 0 | 2020-02-20 |\n| ⋮ | ⋮ | ⋮ |\n| 9/15/20 |  8231 | 2020-09-15 |\n| 9/16/20 |  8329 | 2020-09-16 |\n| 9/17/20 |  8408 | 2020-09-17 |\n| 9/18/20 |  8473 | 2020-09-18 |\n| 9/19/20 |  8556 | 2020-09-19 |\n| 9/20/20 |  8596 | 2020-09-20 |\n| 9/21/20 |  8670 | 2020-09-21 |\n| 9/22/20 |  8804 | 2020-09-22 |\n| 9/23/20 |  8881 | 2020-09-23 |\n| 9/24/20 |  8981 | 2020-09-24 |\n| 9/25/20 |  9059 | 2020-09-25 |\n| 9/26/20 |  9135 | 2020-09-26 |\n| 9/27/20 |  9163 | 2020-09-27 |\n| 9/28/20 |  9351 | 2020-09-28 |\n| 9/29/20 |  9422 | 2020-09-29 |\n| 9/30/20 |  9509 | 2020-09-30 |\n| 10/1/20 |  9612 | 2020-10-01 |\n| 10/2/20 |  9648 | 2020-10-02 |\n| 10/3/20 |  9720 | 2020-10-03 |\n| 10/4/20 |  9770 | 2020-10-04 |\n| 10/5/20 |  9859 | 2020-10-05 |\n| 10/6/20 |  9944 | 2020-10-06 |\n| 10/7/20 | 10014 | 2020-10-07 |\n| 10/8/20 | 10130 | 2020-10-08 |\n| 10/9/20 | 10224 | 2020-10-09 |\n| 10/10/20 | 10331 | 2020-10-10 |\n| 10/11/20 | 10433 | 2020-10-11 |\n| 10/12/20 | 10525 | 2020-10-12 |\n| 10/13/20 | 10603 | 2020-10-13 |\n| 10/14/20 | 10727 | 2020-10-14 |\n\n",
            "text/html": [
              "<table>\n",
              "<caption>A data.frame: 267 × 2</caption>\n",
              "<thead>\n",
              "\t<tr><th></th><th scope=col>Pulaski, Arkansas, US</th><th scope=col>dates</th></tr>\n",
              "\t<tr><th></th><th scope=col>&lt;dbl&gt;</th><th scope=col>&lt;date&gt;</th></tr>\n",
              "</thead>\n",
              "<tbody>\n",
              "\t<tr><th scope=row>1/22/20</th><td>0</td><td>2020-01-22</td></tr>\n",
              "\t<tr><th scope=row>1/23/20</th><td>0</td><td>2020-01-23</td></tr>\n",
              "\t<tr><th scope=row>1/24/20</th><td>0</td><td>2020-01-24</td></tr>\n",
              "\t<tr><th scope=row>1/25/20</th><td>0</td><td>2020-01-25</td></tr>\n",
              "\t<tr><th scope=row>1/26/20</th><td>0</td><td>2020-01-26</td></tr>\n",
              "\t<tr><th scope=row>1/27/20</th><td>0</td><td>2020-01-27</td></tr>\n",
              "\t<tr><th scope=row>1/28/20</th><td>0</td><td>2020-01-28</td></tr>\n",
              "\t<tr><th scope=row>1/29/20</th><td>0</td><td>2020-01-29</td></tr>\n",
              "\t<tr><th scope=row>1/30/20</th><td>0</td><td>2020-01-30</td></tr>\n",
              "\t<tr><th scope=row>1/31/20</th><td>0</td><td>2020-01-31</td></tr>\n",
              "\t<tr><th scope=row>2/1/20</th><td>0</td><td>2020-02-01</td></tr>\n",
              "\t<tr><th scope=row>2/2/20</th><td>0</td><td>2020-02-02</td></tr>\n",
              "\t<tr><th scope=row>2/3/20</th><td>0</td><td>2020-02-03</td></tr>\n",
              "\t<tr><th scope=row>2/4/20</th><td>0</td><td>2020-02-04</td></tr>\n",
              "\t<tr><th scope=row>2/5/20</th><td>0</td><td>2020-02-05</td></tr>\n",
              "\t<tr><th scope=row>2/6/20</th><td>0</td><td>2020-02-06</td></tr>\n",
              "\t<tr><th scope=row>2/7/20</th><td>0</td><td>2020-02-07</td></tr>\n",
              "\t<tr><th scope=row>2/8/20</th><td>0</td><td>2020-02-08</td></tr>\n",
              "\t<tr><th scope=row>2/9/20</th><td>0</td><td>2020-02-09</td></tr>\n",
              "\t<tr><th scope=row>2/10/20</th><td>0</td><td>2020-02-10</td></tr>\n",
              "\t<tr><th scope=row>2/11/20</th><td>0</td><td>2020-02-11</td></tr>\n",
              "\t<tr><th scope=row>2/12/20</th><td>0</td><td>2020-02-12</td></tr>\n",
              "\t<tr><th scope=row>2/13/20</th><td>0</td><td>2020-02-13</td></tr>\n",
              "\t<tr><th scope=row>2/14/20</th><td>0</td><td>2020-02-14</td></tr>\n",
              "\t<tr><th scope=row>2/15/20</th><td>0</td><td>2020-02-15</td></tr>\n",
              "\t<tr><th scope=row>2/16/20</th><td>0</td><td>2020-02-16</td></tr>\n",
              "\t<tr><th scope=row>2/17/20</th><td>0</td><td>2020-02-17</td></tr>\n",
              "\t<tr><th scope=row>2/18/20</th><td>0</td><td>2020-02-18</td></tr>\n",
              "\t<tr><th scope=row>2/19/20</th><td>0</td><td>2020-02-19</td></tr>\n",
              "\t<tr><th scope=row>2/20/20</th><td>0</td><td>2020-02-20</td></tr>\n",
              "\t<tr><th scope=row>⋮</th><td>⋮</td><td>⋮</td></tr>\n",
              "\t<tr><th scope=row>9/15/20</th><td> 8231</td><td>2020-09-15</td></tr>\n",
              "\t<tr><th scope=row>9/16/20</th><td> 8329</td><td>2020-09-16</td></tr>\n",
              "\t<tr><th scope=row>9/17/20</th><td> 8408</td><td>2020-09-17</td></tr>\n",
              "\t<tr><th scope=row>9/18/20</th><td> 8473</td><td>2020-09-18</td></tr>\n",
              "\t<tr><th scope=row>9/19/20</th><td> 8556</td><td>2020-09-19</td></tr>\n",
              "\t<tr><th scope=row>9/20/20</th><td> 8596</td><td>2020-09-20</td></tr>\n",
              "\t<tr><th scope=row>9/21/20</th><td> 8670</td><td>2020-09-21</td></tr>\n",
              "\t<tr><th scope=row>9/22/20</th><td> 8804</td><td>2020-09-22</td></tr>\n",
              "\t<tr><th scope=row>9/23/20</th><td> 8881</td><td>2020-09-23</td></tr>\n",
              "\t<tr><th scope=row>9/24/20</th><td> 8981</td><td>2020-09-24</td></tr>\n",
              "\t<tr><th scope=row>9/25/20</th><td> 9059</td><td>2020-09-25</td></tr>\n",
              "\t<tr><th scope=row>9/26/20</th><td> 9135</td><td>2020-09-26</td></tr>\n",
              "\t<tr><th scope=row>9/27/20</th><td> 9163</td><td>2020-09-27</td></tr>\n",
              "\t<tr><th scope=row>9/28/20</th><td> 9351</td><td>2020-09-28</td></tr>\n",
              "\t<tr><th scope=row>9/29/20</th><td> 9422</td><td>2020-09-29</td></tr>\n",
              "\t<tr><th scope=row>9/30/20</th><td> 9509</td><td>2020-09-30</td></tr>\n",
              "\t<tr><th scope=row>10/1/20</th><td> 9612</td><td>2020-10-01</td></tr>\n",
              "\t<tr><th scope=row>10/2/20</th><td> 9648</td><td>2020-10-02</td></tr>\n",
              "\t<tr><th scope=row>10/3/20</th><td> 9720</td><td>2020-10-03</td></tr>\n",
              "\t<tr><th scope=row>10/4/20</th><td> 9770</td><td>2020-10-04</td></tr>\n",
              "\t<tr><th scope=row>10/5/20</th><td> 9859</td><td>2020-10-05</td></tr>\n",
              "\t<tr><th scope=row>10/6/20</th><td> 9944</td><td>2020-10-06</td></tr>\n",
              "\t<tr><th scope=row>10/7/20</th><td>10014</td><td>2020-10-07</td></tr>\n",
              "\t<tr><th scope=row>10/8/20</th><td>10130</td><td>2020-10-08</td></tr>\n",
              "\t<tr><th scope=row>10/9/20</th><td>10224</td><td>2020-10-09</td></tr>\n",
              "\t<tr><th scope=row>10/10/20</th><td>10331</td><td>2020-10-10</td></tr>\n",
              "\t<tr><th scope=row>10/11/20</th><td>10433</td><td>2020-10-11</td></tr>\n",
              "\t<tr><th scope=row>10/12/20</th><td>10525</td><td>2020-10-12</td></tr>\n",
              "\t<tr><th scope=row>10/13/20</th><td>10603</td><td>2020-10-13</td></tr>\n",
              "\t<tr><th scope=row>10/14/20</th><td>10727</td><td>2020-10-14</td></tr>\n",
              "</tbody>\n",
              "</table>\n"
            ]
          },
          "metadata": {
            "tags": []
          }
        }
      ]
    },
    {
      "cell_type": "code",
      "metadata": {
        "id": "A5u6UvWSSzg_",
        "outputId": "58f0ace6-43fc-44a7-f650-a846e6dbf4de",
        "colab": {
          "base_uri": "https://localhost:8080/",
          "height": 195
        }
      },
      "source": [
        "tb_mycounty <-  tb1 %>% \n",
        "  dplyr::select ( 'Pulaski, Arkansas, US', 'dates' ) %>%\n",
        "  dplyr::filter( between(dates, mdy('4/1/20'), mdy('10/10/20')))\n",
        "\n",
        "head(tb_mycounty)"
      ],
      "execution_count": 245,
      "outputs": [
        {
          "output_type": "display_data",
          "data": {
            "text/plain": [
              "       Pulaski, Arkansas, US dates     \n",
              "4/1/20 107                   2020-04-01\n",
              "4/2/20 115                   2020-04-02\n",
              "4/3/20 130                   2020-04-03\n",
              "4/4/20 137                   2020-04-04\n",
              "4/5/20 157                   2020-04-05\n",
              "4/6/20 161                   2020-04-06"
            ],
            "text/latex": "A data.frame: 6 × 2\n\\begin{tabular}{r|ll}\n  & Pulaski, Arkansas, US & dates\\\\\n  & <dbl> & <date>\\\\\n\\hline\n\t4/1/20 & 107 & 2020-04-01\\\\\n\t4/2/20 & 115 & 2020-04-02\\\\\n\t4/3/20 & 130 & 2020-04-03\\\\\n\t4/4/20 & 137 & 2020-04-04\\\\\n\t4/5/20 & 157 & 2020-04-05\\\\\n\t4/6/20 & 161 & 2020-04-06\\\\\n\\end{tabular}\n",
            "text/markdown": "\nA data.frame: 6 × 2\n\n| <!--/--> | Pulaski, Arkansas, US &lt;dbl&gt; | dates &lt;date&gt; |\n|---|---|---|\n| 4/1/20 | 107 | 2020-04-01 |\n| 4/2/20 | 115 | 2020-04-02 |\n| 4/3/20 | 130 | 2020-04-03 |\n| 4/4/20 | 137 | 2020-04-04 |\n| 4/5/20 | 157 | 2020-04-05 |\n| 4/6/20 | 161 | 2020-04-06 |\n\n",
            "text/html": [
              "<table>\n",
              "<caption>A data.frame: 6 × 2</caption>\n",
              "<thead>\n",
              "\t<tr><th></th><th scope=col>Pulaski, Arkansas, US</th><th scope=col>dates</th></tr>\n",
              "\t<tr><th></th><th scope=col>&lt;dbl&gt;</th><th scope=col>&lt;date&gt;</th></tr>\n",
              "</thead>\n",
              "<tbody>\n",
              "\t<tr><th scope=row>4/1/20</th><td>107</td><td>2020-04-01</td></tr>\n",
              "\t<tr><th scope=row>4/2/20</th><td>115</td><td>2020-04-02</td></tr>\n",
              "\t<tr><th scope=row>4/3/20</th><td>130</td><td>2020-04-03</td></tr>\n",
              "\t<tr><th scope=row>4/4/20</th><td>137</td><td>2020-04-04</td></tr>\n",
              "\t<tr><th scope=row>4/5/20</th><td>157</td><td>2020-04-05</td></tr>\n",
              "\t<tr><th scope=row>4/6/20</th><td>161</td><td>2020-04-06</td></tr>\n",
              "</tbody>\n",
              "</table>\n"
            ]
          },
          "metadata": {
            "tags": []
          }
        }
      ]
    },
    {
      "cell_type": "code",
      "metadata": {
        "id": "ua3-l_J5SzkW",
        "outputId": "9bf13bfc-6bba-43ff-f585-2018436e8660",
        "colab": {
          "base_uri": "https://localhost:8080/",
          "height": 470
        }
      },
      "source": [
        "ggplot(tb_mycounty, aes( x = dates, y=tb_mycounty[,1])) + geom_point() + geom_smooth()"
      ],
      "execution_count": 246,
      "outputs": [
        {
          "output_type": "stream",
          "text": [
            "`geom_smooth()` using method = 'loess' and formula 'y ~ x'\n",
            "\n"
          ],
          "name": "stderr"
        },
        {
          "output_type": "display_data",
          "data": {
            "image/png": "[encoded data removed]",
            "text/plain": [
              "plot without title"
            ]
          },
          "metadata": {
            "tags": [],
            "image/png": {
              "width": 420,
              "height": 420
            }
          }
        }
      ]
    },
    {
      "cell_type": "markdown",
      "metadata": {
        "id": "K6BuF1_0mTUP"
      },
      "source": [
        "## Multiple column plot\n",
        "How to compare different counties?"
      ]
    },
    {
      "cell_type": "code",
      "metadata": {
        "id": "p7BPQ9XBvSFV",
        "outputId": "16918c1e-3205-4b5e-a93e-25e37223eb8f",
        "colab": {
          "base_uri": "https://localhost:8080/",
          "height": 403
        }
      },
      "source": [
        "names(tb1)[ grep(\"Arkansas\", colnames(tb1))]"
      ],
      "execution_count": 247,
      "outputs": [
        {
          "output_type": "display_data",
          "data": {
            "text/plain": [
              " [1] \"Arkansas, Arkansas, US\"     \"Ashley, Arkansas, US\"      \n",
              " [3] \"Baxter, Arkansas, US\"       \"Benton, Arkansas, US\"      \n",
              " [5] \"Boone, Arkansas, US\"        \"Bradley, Arkansas, US\"     \n",
              " [7] \"Calhoun, Arkansas, US\"      \"Carroll, Arkansas, US\"     \n",
              " [9] \"Chicot, Arkansas, US\"       \"Clark, Arkansas, US\"       \n",
              "[11] \"Clay, Arkansas, US\"         \"Cleburne, Arkansas, US\"    \n",
              "[13] \"Cleveland, Arkansas, US\"    \"Columbia, Arkansas, US\"    \n",
              "[15] \"Conway, Arkansas, US\"       \"Craighead, Arkansas, US\"   \n",
              "[17] \"Crawford, Arkansas, US\"     \"Crittenden, Arkansas, US\"  \n",
              "[19] \"Cross, Arkansas, US\"        \"Dallas, Arkansas, US\"      \n",
              "[21] \"Desha, Arkansas, US\"        \"Drew, Arkansas, US\"        \n",
              "[23] \"Faulkner, Arkansas, US\"     \"Franklin, Arkansas, US\"    \n",
              "[25] \"Fulton, Arkansas, US\"       \"Garland, Arkansas, US\"     \n",
              "[27] \"Grant, Arkansas, US\"        \"Greene, Arkansas, US\"      \n",
              "[29] \"Hempstead, Arkansas, US\"    \"Hot Spring, Arkansas, US\"  \n",
              "[31] \"Howard, Arkansas, US\"       \"Independence, Arkansas, US\"\n",
              "[33] \"Izard, Arkansas, US\"        \"Jackson, Arkansas, US\"     \n",
              "[35] \"Jefferson, Arkansas, US\"    \"Johnson, Arkansas, US\"     \n",
              "[37] \"Lafayette, Arkansas, US\"    \"Lawrence, Arkansas, US\"    \n",
              "[39] \"Lee, Arkansas, US\"          \"Lincoln, Arkansas, US\"     \n",
              "[41] \"Little River, Arkansas, US\" \"Logan, Arkansas, US\"       \n",
              "[43] \"Lonoke, Arkansas, US\"       \"Madison, Arkansas, US\"     \n",
              "[45] \"Marion, Arkansas, US\"       \"Miller, Arkansas, US\"      \n",
              "[47] \"Mississippi, Arkansas, US\"  \"Monroe, Arkansas, US\"      \n",
              "[49] \"Montgomery, Arkansas, US\"   \"Nevada, Arkansas, US\"      \n",
              "[51] \"Newton, Arkansas, US\"       \"Ouachita, Arkansas, US\"    \n",
              "[53] \"Out of AR, Arkansas, US\"    \"Perry, Arkansas, US\"       \n",
              "[55] \"Phillips, Arkansas, US\"     \"Pike, Arkansas, US\"        \n",
              "[57] \"Poinsett, Arkansas, US\"     \"Polk, Arkansas, US\"        \n",
              "[59] \"Pope, Arkansas, US\"         \"Prairie, Arkansas, US\"     \n",
              "[61] \"Pulaski, Arkansas, US\"      \"Randolph, Arkansas, US\"    \n",
              "[63] \"Saline, Arkansas, US\"       \"Scott, Arkansas, US\"       \n",
              "[65] \"Searcy, Arkansas, US\"       \"Sebastian, Arkansas, US\"   \n",
              "[67] \"Sevier, Arkansas, US\"       \"Sharp, Arkansas, US\"       \n",
              "[69] \"St. Francis, Arkansas, US\"  \"Stone, Arkansas, US\"       \n",
              "[71] \"Unassigned, Arkansas, US\"   \"Union, Arkansas, US\"       \n",
              "[73] \"Van Buren, Arkansas, US\"    \"Washington, Arkansas, US\"  \n",
              "[75] \"White, Arkansas, US\"        \"Woodruff, Arkansas, US\"    \n",
              "[77] \"Yell, Arkansas, US\"        "
            ],
            "text/latex": "\\begin{enumerate*}\n\\item 'Arkansas, Arkansas, US'\n\\item 'Ashley, Arkansas, US'\n\\item 'Baxter, Arkansas, US'\n\\item 'Benton, Arkansas, US'\n\\item 'Boone, Arkansas, US'\n\\item 'Bradley, Arkansas, US'\n\\item 'Calhoun, Arkansas, US'\n\\item 'Carroll, Arkansas, US'\n\\item 'Chicot, Arkansas, US'\n\\item 'Clark, Arkansas, US'\n\\item 'Clay, Arkansas, US'\n\\item 'Cleburne, Arkansas, US'\n\\item 'Cleveland, Arkansas, US'\n\\item 'Columbia, Arkansas, US'\n\\item 'Conway, Arkansas, US'\n\\item 'Craighead, Arkansas, US'\n\\item 'Crawford, Arkansas, US'\n\\item 'Crittenden, Arkansas, US'\n\\item 'Cross, Arkansas, US'\n\\item 'Dallas, Arkansas, US'\n\\item 'Desha, Arkansas, US'\n\\item 'Drew, Arkansas, US'\n\\item 'Faulkner, Arkansas, US'\n\\item 'Franklin, Arkansas, US'\n\\item 'Fulton, Arkansas, US'\n\\item 'Garland, Arkansas, US'\n\\item 'Grant, Arkansas, US'\n\\item 'Greene, Arkansas, US'\n\\item 'Hempstead, Arkansas, US'\n\\item 'Hot Spring, Arkansas, US'\n\\item 'Howard, Arkansas, US'\n\\item 'Independence, Arkansas, US'\n\\item 'Izard, Arkansas, US'\n\\item 'Jackson, Arkansas, US'\n\\item 'Jefferson, Arkansas, US'\n\\item 'Johnson, Arkansas, US'\n\\item 'Lafayette, Arkansas, US'\n\\item 'Lawrence, Arkansas, US'\n\\item 'Lee, Arkansas, US'\n\\item 'Lincoln, Arkansas, US'\n\\item 'Little River, Arkansas, US'\n\\item 'Logan, Arkansas, US'\n\\item 'Lonoke, Arkansas, US'\n\\item 'Madison, Arkansas, US'\n\\item 'Marion, Arkansas, US'\n\\item 'Miller, Arkansas, US'\n\\item 'Mississippi, Arkansas, US'\n\\item 'Monroe, Arkansas, US'\n\\item 'Montgomery, Arkansas, US'\n\\item 'Nevada, Arkansas, US'\n\\item 'Newton, Arkansas, US'\n\\item 'Ouachita, Arkansas, US'\n\\item 'Out of AR, Arkansas, US'\n\\item 'Perry, Arkansas, US'\n\\item 'Phillips, Arkansas, US'\n\\item 'Pike, Arkansas, US'\n\\item 'Poinsett, Arkansas, US'\n\\item 'Polk, Arkansas, US'\n\\item 'Pope, Arkansas, US'\n\\item 'Prairie, Arkansas, US'\n\\item 'Pulaski, Arkansas, US'\n\\item 'Randolph, Arkansas, US'\n\\item 'Saline, Arkansas, US'\n\\item 'Scott, Arkansas, US'\n\\item 'Searcy, Arkansas, US'\n\\item 'Sebastian, Arkansas, US'\n\\item 'Sevier, Arkansas, US'\n\\item 'Sharp, Arkansas, US'\n\\item 'St. Francis, Arkansas, US'\n\\item 'Stone, Arkansas, US'\n\\item 'Unassigned, Arkansas, US'\n\\item 'Union, Arkansas, US'\n\\item 'Van Buren, Arkansas, US'\n\\item 'Washington, Arkansas, US'\n\\item 'White, Arkansas, US'\n\\item 'Woodruff, Arkansas, US'\n\\item 'Yell, Arkansas, US'\n\\end{enumerate*}\n",
            "text/markdown": "1. 'Arkansas, Arkansas, US'\n2. 'Ashley, Arkansas, US'\n3. 'Baxter, Arkansas, US'\n4. 'Benton, Arkansas, US'\n5. 'Boone, Arkansas, US'\n6. 'Bradley, Arkansas, US'\n7. 'Calhoun, Arkansas, US'\n8. 'Carroll, Arkansas, US'\n9. 'Chicot, Arkansas, US'\n10. 'Clark, Arkansas, US'\n11. 'Clay, Arkansas, US'\n12. 'Cleburne, Arkansas, US'\n13. 'Cleveland, Arkansas, US'\n14. 'Columbia, Arkansas, US'\n15. 'Conway, Arkansas, US'\n16. 'Craighead, Arkansas, US'\n17. 'Crawford, Arkansas, US'\n18. 'Crittenden, Arkansas, US'\n19. 'Cross, Arkansas, US'\n20. 'Dallas, Arkansas, US'\n21. 'Desha, Arkansas, US'\n22. 'Drew, Arkansas, US'\n23. 'Faulkner, Arkansas, US'\n24. 'Franklin, Arkansas, US'\n25. 'Fulton, Arkansas, US'\n26. 'Garland, Arkansas, US'\n27. 'Grant, Arkansas, US'\n28. 'Greene, Arkansas, US'\n29. 'Hempstead, Arkansas, US'\n30. 'Hot Spring, Arkansas, US'\n31. 'Howard, Arkansas, US'\n32. 'Independence, Arkansas, US'\n33. 'Izard, Arkansas, US'\n34. 'Jackson, Arkansas, US'\n35. 'Jefferson, Arkansas, US'\n36. 'Johnson, Arkansas, US'\n37. 'Lafayette, Arkansas, US'\n38. 'Lawrence, Arkansas, US'\n39. 'Lee, Arkansas, US'\n40. 'Lincoln, Arkansas, US'\n41. 'Little River, Arkansas, US'\n42. 'Logan, Arkansas, US'\n43. 'Lonoke, Arkansas, US'\n44. 'Madison, Arkansas, US'\n45. 'Marion, Arkansas, US'\n46. 'Miller, Arkansas, US'\n47. 'Mississippi, Arkansas, US'\n48. 'Monroe, Arkansas, US'\n49. 'Montgomery, Arkansas, US'\n50. 'Nevada, Arkansas, US'\n51. 'Newton, Arkansas, US'\n52. 'Ouachita, Arkansas, US'\n53. 'Out of AR, Arkansas, US'\n54. 'Perry, Arkansas, US'\n55. 'Phillips, Arkansas, US'\n56. 'Pike, Arkansas, US'\n57. 'Poinsett, Arkansas, US'\n58. 'Polk, Arkansas, US'\n59. 'Pope, Arkansas, US'\n60. 'Prairie, Arkansas, US'\n61. 'Pulaski, Arkansas, US'\n62. 'Randolph, Arkansas, US'\n63. 'Saline, Arkansas, US'\n64. 'Scott, Arkansas, US'\n65. 'Searcy, Arkansas, US'\n66. 'Sebastian, Arkansas, US'\n67. 'Sevier, Arkansas, US'\n68. 'Sharp, Arkansas, US'\n69. 'St. Francis, Arkansas, US'\n70. 'Stone, Arkansas, US'\n71. 'Unassigned, Arkansas, US'\n72. 'Union, Arkansas, US'\n73. 'Van Buren, Arkansas, US'\n74. 'Washington, Arkansas, US'\n75. 'White, Arkansas, US'\n76. 'Woodruff, Arkansas, US'\n77. 'Yell, Arkansas, US'\n\n\n",
            "text/html": [
              "<style>\n",
              ".list-inline {list-style: none; margin:0; padding: 0}\n",
              ".list-inline>li {display: inline-block}\n",
              ".list-inline>li:not(:last-child)::after {content: \"\\00b7\"; padding: 0 .5ex}\n",
              "</style>\n",
              "<ol class=list-inline><li>'Arkansas, Arkansas, US'</li><li>'Ashley, Arkansas, US'</li><li>'Baxter, Arkansas, US'</li><li>'Benton, Arkansas, US'</li><li>'Boone, Arkansas, US'</li><li>'Bradley, Arkansas, US'</li><li>'Calhoun, Arkansas, US'</li><li>'Carroll, Arkansas, US'</li><li>'Chicot, Arkansas, US'</li><li>'Clark, Arkansas, US'</li><li>'Clay, Arkansas, US'</li><li>'Cleburne, Arkansas, US'</li><li>'Cleveland, Arkansas, US'</li><li>'Columbia, Arkansas, US'</li><li>'Conway, Arkansas, US'</li><li>'Craighead, Arkansas, US'</li><li>'Crawford, Arkansas, US'</li><li>'Crittenden, Arkansas, US'</li><li>'Cross, Arkansas, US'</li><li>'Dallas, Arkansas, US'</li><li>'Desha, Arkansas, US'</li><li>'Drew, Arkansas, US'</li><li>'Faulkner, Arkansas, US'</li><li>'Franklin, Arkansas, US'</li><li>'Fulton, Arkansas, US'</li><li>'Garland, Arkansas, US'</li><li>'Grant, Arkansas, US'</li><li>'Greene, Arkansas, US'</li><li>'Hempstead, Arkansas, US'</li><li>'Hot Spring, Arkansas, US'</li><li>'Howard, Arkansas, US'</li><li>'Independence, Arkansas, US'</li><li>'Izard, Arkansas, US'</li><li>'Jackson, Arkansas, US'</li><li>'Jefferson, Arkansas, US'</li><li>'Johnson, Arkansas, US'</li><li>'Lafayette, Arkansas, US'</li><li>'Lawrence, Arkansas, US'</li><li>'Lee, Arkansas, US'</li><li>'Lincoln, Arkansas, US'</li><li>'Little River, Arkansas, US'</li><li>'Logan, Arkansas, US'</li><li>'Lonoke, Arkansas, US'</li><li>'Madison, Arkansas, US'</li><li>'Marion, Arkansas, US'</li><li>'Miller, Arkansas, US'</li><li>'Mississippi, Arkansas, US'</li><li>'Monroe, Arkansas, US'</li><li>'Montgomery, Arkansas, US'</li><li>'Nevada, Arkansas, US'</li><li>'Newton, Arkansas, US'</li><li>'Ouachita, Arkansas, US'</li><li>'Out of AR, Arkansas, US'</li><li>'Perry, Arkansas, US'</li><li>'Phillips, Arkansas, US'</li><li>'Pike, Arkansas, US'</li><li>'Poinsett, Arkansas, US'</li><li>'Polk, Arkansas, US'</li><li>'Pope, Arkansas, US'</li><li>'Prairie, Arkansas, US'</li><li>'Pulaski, Arkansas, US'</li><li>'Randolph, Arkansas, US'</li><li>'Saline, Arkansas, US'</li><li>'Scott, Arkansas, US'</li><li>'Searcy, Arkansas, US'</li><li>'Sebastian, Arkansas, US'</li><li>'Sevier, Arkansas, US'</li><li>'Sharp, Arkansas, US'</li><li>'St. Francis, Arkansas, US'</li><li>'Stone, Arkansas, US'</li><li>'Unassigned, Arkansas, US'</li><li>'Union, Arkansas, US'</li><li>'Van Buren, Arkansas, US'</li><li>'Washington, Arkansas, US'</li><li>'White, Arkansas, US'</li><li>'Woodruff, Arkansas, US'</li><li>'Yell, Arkansas, US'</li></ol>\n"
            ]
          },
          "metadata": {
            "tags": []
          }
        }
      ]
    },
    {
      "cell_type": "code",
      "metadata": {
        "id": "NzTtSdWtvXo3",
        "outputId": "f9dfaad3-e972-42c2-e9aa-f064092e0cd9",
        "colab": {
          "base_uri": "https://localhost:8080/",
          "height": 34
        }
      },
      "source": [
        "print(paste(\"There are \", length( names(tb1)[ grep(\"Arkansas\", colnames(tb1))])  ,\" counties in Arkansas. Really?\"))"
      ],
      "execution_count": 248,
      "outputs": [
        {
          "output_type": "stream",
          "text": [
            "[1] \"There are  77  counties in Arkansas. Really?\"\n"
          ],
          "name": "stdout"
        }
      ]
    },
    {
      "cell_type": "code",
      "metadata": {
        "id": "UqzDSbLGjAsU",
        "outputId": "52f2ccc1-3e54-433f-862c-2c82581e3ba0",
        "colab": {
          "base_uri": "https://localhost:8080/",
          "height": 195
        }
      },
      "source": [
        "mycounties = c( 'Pulaski, Arkansas, US', 'Hamilton, Tennessee, US', 'Davidson, Tennessee, US')\n",
        "\n",
        "days_window = 100  #90-day window\n",
        "endday = '10/2/20'\n",
        "\n",
        "tb_sub <- tb1 %>% \n",
        "  dplyr::select( all_of(mycounties), 'dates') %>%\n",
        "  dplyr::filter( between(dates, mdy(endday)-ddays(days_window), mdy(endday)))   \n",
        "\n",
        "head(tb_sub)\n"
      ],
      "execution_count": 249,
      "outputs": [
        {
          "output_type": "display_data",
          "data": {
            "text/plain": [
              "        Pulaski, Arkansas, US Hamilton, Tennessee, US Davidson, Tennessee, US\n",
              "6/24/20 1607                  2176                    8062                   \n",
              "6/25/20 1655                  2185                    8258                   \n",
              "6/26/20 1740                  2264                    8547                   \n",
              "6/27/20 1810                  2321                    8675                   \n",
              "6/28/20 1862                  2321                    8675                   \n",
              "6/29/20 1916                  2433                    9016                   \n",
              "        dates     \n",
              "6/24/20 2020-06-24\n",
              "6/25/20 2020-06-25\n",
              "6/26/20 2020-06-26\n",
              "6/27/20 2020-06-27\n",
              "6/28/20 2020-06-28\n",
              "6/29/20 2020-06-29"
            ],
            "text/latex": "A data.frame: 6 × 4\n\\begin{tabular}{r|llll}\n  & Pulaski, Arkansas, US & Hamilton, Tennessee, US & Davidson, Tennessee, US & dates\\\\\n  & <dbl> & <dbl> & <dbl> & <date>\\\\\n\\hline\n\t6/24/20 & 1607 & 2176 & 8062 & 2020-06-24\\\\\n\t6/25/20 & 1655 & 2185 & 8258 & 2020-06-25\\\\\n\t6/26/20 & 1740 & 2264 & 8547 & 2020-06-26\\\\\n\t6/27/20 & 1810 & 2321 & 8675 & 2020-06-27\\\\\n\t6/28/20 & 1862 & 2321 & 8675 & 2020-06-28\\\\\n\t6/29/20 & 1916 & 2433 & 9016 & 2020-06-29\\\\\n\\end{tabular}\n",
            "text/markdown": "\nA data.frame: 6 × 4\n\n| <!--/--> | Pulaski, Arkansas, US &lt;dbl&gt; | Hamilton, Tennessee, US &lt;dbl&gt; | Davidson, Tennessee, US &lt;dbl&gt; | dates &lt;date&gt; |\n|---|---|---|---|---|\n| 6/24/20 | 1607 | 2176 | 8062 | 2020-06-24 |\n| 6/25/20 | 1655 | 2185 | 8258 | 2020-06-25 |\n| 6/26/20 | 1740 | 2264 | 8547 | 2020-06-26 |\n| 6/27/20 | 1810 | 2321 | 8675 | 2020-06-27 |\n| 6/28/20 | 1862 | 2321 | 8675 | 2020-06-28 |\n| 6/29/20 | 1916 | 2433 | 9016 | 2020-06-29 |\n\n",
            "text/html": [
              "<table>\n",
              "<caption>A data.frame: 6 × 4</caption>\n",
              "<thead>\n",
              "\t<tr><th></th><th scope=col>Pulaski, Arkansas, US</th><th scope=col>Hamilton, Tennessee, US</th><th scope=col>Davidson, Tennessee, US</th><th scope=col>dates</th></tr>\n",
              "\t<tr><th></th><th scope=col>&lt;dbl&gt;</th><th scope=col>&lt;dbl&gt;</th><th scope=col>&lt;dbl&gt;</th><th scope=col>&lt;date&gt;</th></tr>\n",
              "</thead>\n",
              "<tbody>\n",
              "\t<tr><th scope=row>6/24/20</th><td>1607</td><td>2176</td><td>8062</td><td>2020-06-24</td></tr>\n",
              "\t<tr><th scope=row>6/25/20</th><td>1655</td><td>2185</td><td>8258</td><td>2020-06-25</td></tr>\n",
              "\t<tr><th scope=row>6/26/20</th><td>1740</td><td>2264</td><td>8547</td><td>2020-06-26</td></tr>\n",
              "\t<tr><th scope=row>6/27/20</th><td>1810</td><td>2321</td><td>8675</td><td>2020-06-27</td></tr>\n",
              "\t<tr><th scope=row>6/28/20</th><td>1862</td><td>2321</td><td>8675</td><td>2020-06-28</td></tr>\n",
              "\t<tr><th scope=row>6/29/20</th><td>1916</td><td>2433</td><td>9016</td><td>2020-06-29</td></tr>\n",
              "</tbody>\n",
              "</table>\n"
            ]
          },
          "metadata": {
            "tags": []
          }
        }
      ]
    },
    {
      "cell_type": "code",
      "metadata": {
        "id": "kUqIhFCjuT5E",
        "outputId": "dc70f5bd-094b-455d-bca9-de1e8982c243",
        "colab": {
          "base_uri": "https://localhost:8080/",
          "height": 195
        }
      },
      "source": [
        "library(reshape2)\n",
        "\n",
        "mycounties = c('Pulaski, Arkansas, US', 'Hamilton, Tennessee, US', 'Davidson, Tennessee, US')\n",
        "\n",
        "df_tmp <- melt(tb_sub, measure.vars = mycounties, value.name = 'DailyCases', variable.name = 'Counties')\n",
        "head(df_tmp)"
      ],
      "execution_count": 250,
      "outputs": [
        {
          "output_type": "display_data",
          "data": {
            "text/plain": [
              "  dates      Counties              DailyCases\n",
              "1 2020-06-24 Pulaski, Arkansas, US 1607      \n",
              "2 2020-06-25 Pulaski, Arkansas, US 1655      \n",
              "3 2020-06-26 Pulaski, Arkansas, US 1740      \n",
              "4 2020-06-27 Pulaski, Arkansas, US 1810      \n",
              "5 2020-06-28 Pulaski, Arkansas, US 1862      \n",
              "6 2020-06-29 Pulaski, Arkansas, US 1916      "
            ],
            "text/latex": "A data.frame: 6 × 3\n\\begin{tabular}{r|lll}\n  & dates & Counties & DailyCases\\\\\n  & <date> & <fct> & <dbl>\\\\\n\\hline\n\t1 & 2020-06-24 & Pulaski, Arkansas, US & 1607\\\\\n\t2 & 2020-06-25 & Pulaski, Arkansas, US & 1655\\\\\n\t3 & 2020-06-26 & Pulaski, Arkansas, US & 1740\\\\\n\t4 & 2020-06-27 & Pulaski, Arkansas, US & 1810\\\\\n\t5 & 2020-06-28 & Pulaski, Arkansas, US & 1862\\\\\n\t6 & 2020-06-29 & Pulaski, Arkansas, US & 1916\\\\\n\\end{tabular}\n",
            "text/markdown": "\nA data.frame: 6 × 3\n\n| <!--/--> | dates &lt;date&gt; | Counties &lt;fct&gt; | DailyCases &lt;dbl&gt; |\n|---|---|---|---|\n| 1 | 2020-06-24 | Pulaski, Arkansas, US | 1607 |\n| 2 | 2020-06-25 | Pulaski, Arkansas, US | 1655 |\n| 3 | 2020-06-26 | Pulaski, Arkansas, US | 1740 |\n| 4 | 2020-06-27 | Pulaski, Arkansas, US | 1810 |\n| 5 | 2020-06-28 | Pulaski, Arkansas, US | 1862 |\n| 6 | 2020-06-29 | Pulaski, Arkansas, US | 1916 |\n\n",
            "text/html": [
              "<table>\n",
              "<caption>A data.frame: 6 × 3</caption>\n",
              "<thead>\n",
              "\t<tr><th></th><th scope=col>dates</th><th scope=col>Counties</th><th scope=col>DailyCases</th></tr>\n",
              "\t<tr><th></th><th scope=col>&lt;date&gt;</th><th scope=col>&lt;fct&gt;</th><th scope=col>&lt;dbl&gt;</th></tr>\n",
              "</thead>\n",
              "<tbody>\n",
              "\t<tr><th scope=row>1</th><td>2020-06-24</td><td>Pulaski, Arkansas, US</td><td>1607</td></tr>\n",
              "\t<tr><th scope=row>2</th><td>2020-06-25</td><td>Pulaski, Arkansas, US</td><td>1655</td></tr>\n",
              "\t<tr><th scope=row>3</th><td>2020-06-26</td><td>Pulaski, Arkansas, US</td><td>1740</td></tr>\n",
              "\t<tr><th scope=row>4</th><td>2020-06-27</td><td>Pulaski, Arkansas, US</td><td>1810</td></tr>\n",
              "\t<tr><th scope=row>5</th><td>2020-06-28</td><td>Pulaski, Arkansas, US</td><td>1862</td></tr>\n",
              "\t<tr><th scope=row>6</th><td>2020-06-29</td><td>Pulaski, Arkansas, US</td><td>1916</td></tr>\n",
              "</tbody>\n",
              "</table>\n"
            ]
          },
          "metadata": {
            "tags": []
          }
        }
      ]
    },
    {
      "cell_type": "code",
      "metadata": {
        "id": "gQ5O7qB4uT8A",
        "outputId": "a9b751fe-a01b-4172-d1c2-d63929e56f7f",
        "colab": {
          "base_uri": "https://localhost:8080/",
          "height": 437
        }
      },
      "source": [
        "ggplot( df_tmp, aes(x=dates, y=DailyCases, color=Counties) ) + geom_point() "
      ],
      "execution_count": 251,
      "outputs": [
        {
          "output_type": "display_data",
          "data": {
            "image/png": "[encoded data removed]",
            "text/plain": [
              "plot without title"
            ]
          },
          "metadata": {
            "tags": [],
            "image/png": {
              "width": 420,
              "height": 420
            }
          }
        }
      ]
    },
    {
      "cell_type": "markdown",
      "metadata": {
        "id": "F16EOOrPsaCA"
      },
      "source": [
        "# Part 2. Daily cases"
      ]
    },
    {
      "cell_type": "markdown",
      "metadata": {
        "id": "7vcBFJFus4KD"
      },
      "source": [
        "   ## Read the cumulative cases again"
      ]
    },
    {
      "cell_type": "code",
      "metadata": {
        "id": "rQlUjvr0bYfL",
        "outputId": "c3c437ec-2779-464c-82ca-8eb619376eba",
        "colab": {
          "base_uri": "https://localhost:8080/",
          "height": 322
        }
      },
      "source": [
        "tb = read_csv(url(\"https://raw.githubusercontent.com/CSSEGISandData/COVID-19/master/csse_covid_19_data/csse_covid_19_time_series/time_series_covid19_confirmed_US.csv\"))\n",
        "\n",
        "tb1 <- tb %>% dplyr::select(12:length(tb[1,])) %>% as.matrix()\n",
        "tb1 = as.data.frame(t(tb1))\n",
        "\n",
        "names(tb1) = tb$Combined_Key\n",
        "\n",
        "current_dates = names(tb)[12:length(tb[1,])]\n",
        "tb1$dates = mdy(current_dates)\n",
        "\n",
        "window = 180\n",
        "tb_sub <-  tb1 %>% \n",
        "  dplyr::select ( c('Pulaski, Arkansas, US', 'Davidson, Tennessee, US', 'dates')) %>%\n",
        "  dplyr::filter( between(dates, today(tzone='EST') - window,  today(tzone ='EST')))\n",
        "\n",
        "str(tb_sub)\n"
      ],
      "execution_count": 252,
      "outputs": [
        {
          "output_type": "stream",
          "text": [
            "Parsed with column specification:\n",
            "cols(\n",
            "  .default = col_double(),\n",
            "  iso2 = \u001b[31mcol_character()\u001b[39m,\n",
            "  iso3 = \u001b[31mcol_character()\u001b[39m,\n",
            "  Admin2 = \u001b[31mcol_character()\u001b[39m,\n",
            "  Province_State = \u001b[31mcol_character()\u001b[39m,\n",
            "  Country_Region = \u001b[31mcol_character()\u001b[39m,\n",
            "  Combined_Key = \u001b[31mcol_character()\u001b[39m\n",
            ")\n",
            "\n",
            "See spec(...) for full column specifications.\n",
            "\n"
          ],
          "name": "stderr"
        },
        {
          "output_type": "stream",
          "text": [
            "'data.frame':\t180 obs. of  3 variables:\n",
            " $ Pulaski, Arkansas, US  : num  368 377 388 390 404 427 440 471 478 484 ...\n",
            " $ Davidson, Tennessee, US: num  1465 1638 1675 1719 1719 ...\n",
            " $ dates                  : Date, format: \"2020-04-18\" \"2020-04-19\" ...\n"
          ],
          "name": "stdout"
        }
      ]
    },
    {
      "cell_type": "markdown",
      "metadata": {
        "id": "7HTPmRnrtgLJ"
      },
      "source": [
        "## Covert cumulative counts into daily cases"
      ]
    },
    {
      "cell_type": "code",
      "metadata": {
        "id": "q1LXOl1XtbhI",
        "outputId": "ecab9c52-d60a-4389-b84b-a7afbcda6d61",
        "colab": {
          "base_uri": "https://localhost:8080/",
          "height": 195
        }
      },
      "source": [
        "tb_daily_sub = data.frame( apply(tb_sub[,1:2], 2, diff) )\n",
        "\n",
        "tb_daily_sub$YMD = mdy(row.names(tb_daily_sub))\n",
        "head(tb_daily_sub)"
      ],
      "execution_count": 253,
      "outputs": [
        {
          "output_type": "display_data",
          "data": {
            "text/plain": [
              "        Pulaski..Arkansas..US Davidson..Tennessee..US YMD       \n",
              "4/19/20  9                    173                     2020-04-19\n",
              "4/20/20 11                     37                     2020-04-20\n",
              "4/21/20  2                     44                     2020-04-21\n",
              "4/22/20 14                      0                     2020-04-22\n",
              "4/23/20 23                    215                     2020-04-23\n",
              "4/24/20 13                     77                     2020-04-24"
            ],
            "text/latex": "A data.frame: 6 × 3\n\\begin{tabular}{r|lll}\n  & Pulaski..Arkansas..US & Davidson..Tennessee..US & YMD\\\\\n  & <dbl> & <dbl> & <date>\\\\\n\\hline\n\t4/19/20 &  9 & 173 & 2020-04-19\\\\\n\t4/20/20 & 11 &  37 & 2020-04-20\\\\\n\t4/21/20 &  2 &  44 & 2020-04-21\\\\\n\t4/22/20 & 14 &   0 & 2020-04-22\\\\\n\t4/23/20 & 23 & 215 & 2020-04-23\\\\\n\t4/24/20 & 13 &  77 & 2020-04-24\\\\\n\\end{tabular}\n",
            "text/markdown": "\nA data.frame: 6 × 3\n\n| <!--/--> | Pulaski..Arkansas..US &lt;dbl&gt; | Davidson..Tennessee..US &lt;dbl&gt; | YMD &lt;date&gt; |\n|---|---|---|---|\n| 4/19/20 |  9 | 173 | 2020-04-19 |\n| 4/20/20 | 11 |  37 | 2020-04-20 |\n| 4/21/20 |  2 |  44 | 2020-04-21 |\n| 4/22/20 | 14 |   0 | 2020-04-22 |\n| 4/23/20 | 23 | 215 | 2020-04-23 |\n| 4/24/20 | 13 |  77 | 2020-04-24 |\n\n",
            "text/html": [
              "<table>\n",
              "<caption>A data.frame: 6 × 3</caption>\n",
              "<thead>\n",
              "\t<tr><th></th><th scope=col>Pulaski..Arkansas..US</th><th scope=col>Davidson..Tennessee..US</th><th scope=col>YMD</th></tr>\n",
              "\t<tr><th></th><th scope=col>&lt;dbl&gt;</th><th scope=col>&lt;dbl&gt;</th><th scope=col>&lt;date&gt;</th></tr>\n",
              "</thead>\n",
              "<tbody>\n",
              "\t<tr><th scope=row>4/19/20</th><td> 9</td><td>173</td><td>2020-04-19</td></tr>\n",
              "\t<tr><th scope=row>4/20/20</th><td>11</td><td> 37</td><td>2020-04-20</td></tr>\n",
              "\t<tr><th scope=row>4/21/20</th><td> 2</td><td> 44</td><td>2020-04-21</td></tr>\n",
              "\t<tr><th scope=row>4/22/20</th><td>14</td><td>  0</td><td>2020-04-22</td></tr>\n",
              "\t<tr><th scope=row>4/23/20</th><td>23</td><td>215</td><td>2020-04-23</td></tr>\n",
              "\t<tr><th scope=row>4/24/20</th><td>13</td><td> 77</td><td>2020-04-24</td></tr>\n",
              "</tbody>\n",
              "</table>\n"
            ]
          },
          "metadata": {
            "tags": []
          }
        }
      ]
    },
    {
      "cell_type": "code",
      "metadata": {
        "id": "kiEwHlWitbkv",
        "outputId": "3112708c-d70a-4214-be26-0371ff0374b1",
        "colab": {
          "base_uri": "https://localhost:8080/",
          "height": 195
        }
      },
      "source": [
        "tail(tb_daily_sub)"
      ],
      "execution_count": 254,
      "outputs": [
        {
          "output_type": "display_data",
          "data": {
            "text/plain": [
              "         Pulaski..Arkansas..US Davidson..Tennessee..US YMD       \n",
              "10/9/20   94                   199                     2020-10-09\n",
              "10/10/20 107                   156                     2020-10-10\n",
              "10/11/20 102                   174                     2020-10-11\n",
              "10/12/20  92                   213                     2020-10-12\n",
              "10/13/20  78                   122                     2020-10-13\n",
              "10/14/20 124                    88                     2020-10-14"
            ],
            "text/latex": "A data.frame: 6 × 3\n\\begin{tabular}{r|lll}\n  & Pulaski..Arkansas..US & Davidson..Tennessee..US & YMD\\\\\n  & <dbl> & <dbl> & <date>\\\\\n\\hline\n\t10/9/20 &  94 & 199 & 2020-10-09\\\\\n\t10/10/20 & 107 & 156 & 2020-10-10\\\\\n\t10/11/20 & 102 & 174 & 2020-10-11\\\\\n\t10/12/20 &  92 & 213 & 2020-10-12\\\\\n\t10/13/20 &  78 & 122 & 2020-10-13\\\\\n\t10/14/20 & 124 &  88 & 2020-10-14\\\\\n\\end{tabular}\n",
            "text/markdown": "\nA data.frame: 6 × 3\n\n| <!--/--> | Pulaski..Arkansas..US &lt;dbl&gt; | Davidson..Tennessee..US &lt;dbl&gt; | YMD &lt;date&gt; |\n|---|---|---|---|\n| 10/9/20 |  94 | 199 | 2020-10-09 |\n| 10/10/20 | 107 | 156 | 2020-10-10 |\n| 10/11/20 | 102 | 174 | 2020-10-11 |\n| 10/12/20 |  92 | 213 | 2020-10-12 |\n| 10/13/20 |  78 | 122 | 2020-10-13 |\n| 10/14/20 | 124 |  88 | 2020-10-14 |\n\n",
            "text/html": [
              "<table>\n",
              "<caption>A data.frame: 6 × 3</caption>\n",
              "<thead>\n",
              "\t<tr><th></th><th scope=col>Pulaski..Arkansas..US</th><th scope=col>Davidson..Tennessee..US</th><th scope=col>YMD</th></tr>\n",
              "\t<tr><th></th><th scope=col>&lt;dbl&gt;</th><th scope=col>&lt;dbl&gt;</th><th scope=col>&lt;date&gt;</th></tr>\n",
              "</thead>\n",
              "<tbody>\n",
              "\t<tr><th scope=row>10/9/20</th><td> 94</td><td>199</td><td>2020-10-09</td></tr>\n",
              "\t<tr><th scope=row>10/10/20</th><td>107</td><td>156</td><td>2020-10-10</td></tr>\n",
              "\t<tr><th scope=row>10/11/20</th><td>102</td><td>174</td><td>2020-10-11</td></tr>\n",
              "\t<tr><th scope=row>10/12/20</th><td> 92</td><td>213</td><td>2020-10-12</td></tr>\n",
              "\t<tr><th scope=row>10/13/20</th><td> 78</td><td>122</td><td>2020-10-13</td></tr>\n",
              "\t<tr><th scope=row>10/14/20</th><td>124</td><td> 88</td><td>2020-10-14</td></tr>\n",
              "</tbody>\n",
              "</table>\n"
            ]
          },
          "metadata": {
            "tags": []
          }
        }
      ]
    },
    {
      "cell_type": "code",
      "metadata": {
        "id": "DIECSI-8tbr7"
      },
      "source": [
        ""
      ],
      "execution_count": 255,
      "outputs": []
    },
    {
      "cell_type": "markdown",
      "metadata": {
        "id": "7pomTsjepN4t"
      },
      "source": [
        "# Part 3. Google Mobility analysis\n"
      ]
    },
    {
      "cell_type": "markdown",
      "metadata": {
        "id": "o84JcZ05mRTa"
      },
      "source": [
        "## Regional mobility"
      ]
    },
    {
      "cell_type": "code",
      "metadata": {
        "id": "r2cJUrtpkqAV"
      },
      "source": [
        "system(\"wget https://www.gstatic.com/covid19/mobility/Region_Mobility_Report_CSVs.zip\")"
      ],
      "execution_count": 256,
      "outputs": []
    },
    {
      "cell_type": "markdown",
      "metadata": {
        "id": "CPjNfl13mRW7"
      },
      "source": [
        "We should now see \"Region_Mobility_Report_CSV.zip\" in /content folder. Double-click, should unzip this file"
      ]
    },
    {
      "cell_type": "code",
      "metadata": {
        "id": "hJt3V-bglxyG"
      },
      "source": [
        "system(\"unzip /content/Region_Mobility_Report_CSVs.zip\")"
      ],
      "execution_count": 257,
      "outputs": []
    },
    {
      "cell_type": "markdown",
      "metadata": {
        "id": "j4Y3X7T6mcUx"
      },
      "source": [
        "We should now see \"/content/2020_US_Region_Mobility_Report.csv\""
      ]
    },
    {
      "cell_type": "code",
      "metadata": {
        "id": "mVlwUKq6kqDh",
        "outputId": "2ce55d68-f31d-42c0-b11e-e7bf33f943d1",
        "colab": {
          "base_uri": "https://localhost:8080/",
          "height": 618
        }
      },
      "source": [
        "library(tidyverse)\n",
        "tbGMUS = read_csv(\"/content/2020_US_Region_Mobility_Report.csv\")\n",
        "head(tbGMUS)"
      ],
      "execution_count": 258,
      "outputs": [
        {
          "output_type": "stream",
          "text": [
            "Parsed with column specification:\n",
            "cols(\n",
            "  country_region_code = \u001b[31mcol_character()\u001b[39m,\n",
            "  country_region = \u001b[31mcol_character()\u001b[39m,\n",
            "  sub_region_1 = \u001b[31mcol_character()\u001b[39m,\n",
            "  sub_region_2 = \u001b[31mcol_character()\u001b[39m,\n",
            "  metro_area = \u001b[33mcol_logical()\u001b[39m,\n",
            "  iso_3166_2_code = \u001b[31mcol_character()\u001b[39m,\n",
            "  census_fips_code = \u001b[31mcol_character()\u001b[39m,\n",
            "  date = \u001b[34mcol_date(format = \"\")\u001b[39m,\n",
            "  retail_and_recreation_percent_change_from_baseline = \u001b[32mcol_double()\u001b[39m,\n",
            "  grocery_and_pharmacy_percent_change_from_baseline = \u001b[32mcol_double()\u001b[39m,\n",
            "  parks_percent_change_from_baseline = \u001b[32mcol_double()\u001b[39m,\n",
            "  transit_stations_percent_change_from_baseline = \u001b[32mcol_double()\u001b[39m,\n",
            "  workplaces_percent_change_from_baseline = \u001b[32mcol_double()\u001b[39m,\n",
            "  residential_percent_change_from_baseline = \u001b[32mcol_double()\u001b[39m\n",
            ")\n",
            "\n"
          ],
          "name": "stderr"
        },
        {
          "output_type": "display_data",
          "data": {
            "text/plain": [
              "  country_region_code country_region sub_region_1 sub_region_2 metro_area\n",
              "1 US                  United States  NA           NA           NA        \n",
              "2 US                  United States  NA           NA           NA        \n",
              "3 US                  United States  NA           NA           NA        \n",
              "4 US                  United States  NA           NA           NA        \n",
              "5 US                  United States  NA           NA           NA        \n",
              "6 US                  United States  NA           NA           NA        \n",
              "  iso_3166_2_code census_fips_code date      \n",
              "1 NA              NA               2020-02-15\n",
              "2 NA              NA               2020-02-16\n",
              "3 NA              NA               2020-02-17\n",
              "4 NA              NA               2020-02-18\n",
              "5 NA              NA               2020-02-19\n",
              "6 NA              NA               2020-02-20\n",
              "  retail_and_recreation_percent_change_from_baseline\n",
              "1 6                                                 \n",
              "2 7                                                 \n",
              "3 6                                                 \n",
              "4 0                                                 \n",
              "5 2                                                 \n",
              "6 1                                                 \n",
              "  grocery_and_pharmacy_percent_change_from_baseline\n",
              "1  2                                               \n",
              "2  1                                               \n",
              "3  0                                               \n",
              "4 -1                                               \n",
              "5  0                                               \n",
              "6  0                                               \n",
              "  parks_percent_change_from_baseline\n",
              "1 15                                \n",
              "2 16                                \n",
              "3 28                                \n",
              "4  6                                \n",
              "5  8                                \n",
              "6  4                                \n",
              "  transit_stations_percent_change_from_baseline\n",
              "1  3                                           \n",
              "2  2                                           \n",
              "3 -9                                           \n",
              "4  1                                           \n",
              "5  1                                           \n",
              "6  0                                           \n",
              "  workplaces_percent_change_from_baseline\n",
              "1   2                                    \n",
              "2   0                                    \n",
              "3 -24                                    \n",
              "4   0                                    \n",
              "5   1                                    \n",
              "6   0                                    \n",
              "  residential_percent_change_from_baseline\n",
              "1 -1                                      \n",
              "2 -1                                      \n",
              "3  5                                      \n",
              "4  1                                      \n",
              "5  0                                      \n",
              "6  1                                      "
            ],
            "text/latex": "A tibble: 6 × 14\n\\begin{tabular}{llllllllllllll}\n country\\_region\\_code & country\\_region & sub\\_region\\_1 & sub\\_region\\_2 & metro\\_area & iso\\_3166\\_2\\_code & census\\_fips\\_code & date & retail\\_and\\_recreation\\_percent\\_change\\_from\\_baseline & grocery\\_and\\_pharmacy\\_percent\\_change\\_from\\_baseline & parks\\_percent\\_change\\_from\\_baseline & transit\\_stations\\_percent\\_change\\_from\\_baseline & workplaces\\_percent\\_change\\_from\\_baseline & residential\\_percent\\_change\\_from\\_baseline\\\\\n <chr> & <chr> & <chr> & <chr> & <lgl> & <chr> & <chr> & <date> & <dbl> & <dbl> & <dbl> & <dbl> & <dbl> & <dbl>\\\\\n\\hline\n\t US & United States & NA & NA & NA & NA & NA & 2020-02-15 & 6 &  2 & 15 &  3 &   2 & -1\\\\\n\t US & United States & NA & NA & NA & NA & NA & 2020-02-16 & 7 &  1 & 16 &  2 &   0 & -1\\\\\n\t US & United States & NA & NA & NA & NA & NA & 2020-02-17 & 6 &  0 & 28 & -9 & -24 &  5\\\\\n\t US & United States & NA & NA & NA & NA & NA & 2020-02-18 & 0 & -1 &  6 &  1 &   0 &  1\\\\\n\t US & United States & NA & NA & NA & NA & NA & 2020-02-19 & 2 &  0 &  8 &  1 &   1 &  0\\\\\n\t US & United States & NA & NA & NA & NA & NA & 2020-02-20 & 1 &  0 &  4 &  0 &   0 &  1\\\\\n\\end{tabular}\n",
            "text/markdown": "\nA tibble: 6 × 14\n\n| country_region_code &lt;chr&gt; | country_region &lt;chr&gt; | sub_region_1 &lt;chr&gt; | sub_region_2 &lt;chr&gt; | metro_area &lt;lgl&gt; | iso_3166_2_code &lt;chr&gt; | census_fips_code &lt;chr&gt; | date &lt;date&gt; | retail_and_recreation_percent_change_from_baseline &lt;dbl&gt; | grocery_and_pharmacy_percent_change_from_baseline &lt;dbl&gt; | parks_percent_change_from_baseline &lt;dbl&gt; | transit_stations_percent_change_from_baseline &lt;dbl&gt; | workplaces_percent_change_from_baseline &lt;dbl&gt; | residential_percent_change_from_baseline &lt;dbl&gt; |\n|---|---|---|---|---|---|---|---|---|---|---|---|---|---|\n| US | United States | NA | NA | NA | NA | NA | 2020-02-15 | 6 |  2 | 15 |  3 |   2 | -1 |\n| US | United States | NA | NA | NA | NA | NA | 2020-02-16 | 7 |  1 | 16 |  2 |   0 | -1 |\n| US | United States | NA | NA | NA | NA | NA | 2020-02-17 | 6 |  0 | 28 | -9 | -24 |  5 |\n| US | United States | NA | NA | NA | NA | NA | 2020-02-18 | 0 | -1 |  6 |  1 |   0 |  1 |\n| US | United States | NA | NA | NA | NA | NA | 2020-02-19 | 2 |  0 |  8 |  1 |   1 |  0 |\n| US | United States | NA | NA | NA | NA | NA | 2020-02-20 | 1 |  0 |  4 |  0 |   0 |  1 |\n\n",
            "text/html": [
              "<table>\n",
              "<caption>A tibble: 6 × 14</caption>\n",
              "<thead>\n",
              "\t<tr><th scope=col>country_region_code</th><th scope=col>country_region</th><th scope=col>sub_region_1</th><th scope=col>sub_region_2</th><th scope=col>metro_area</th><th scope=col>iso_3166_2_code</th><th scope=col>census_fips_code</th><th scope=col>date</th><th scope=col>retail_and_recreation_percent_change_from_baseline</th><th scope=col>grocery_and_pharmacy_percent_change_from_baseline</th><th scope=col>parks_percent_change_from_baseline</th><th scope=col>transit_stations_percent_change_from_baseline</th><th scope=col>workplaces_percent_change_from_baseline</th><th scope=col>residential_percent_change_from_baseline</th></tr>\n",
              "\t<tr><th scope=col>&lt;chr&gt;</th><th scope=col>&lt;chr&gt;</th><th scope=col>&lt;chr&gt;</th><th scope=col>&lt;chr&gt;</th><th scope=col>&lt;lgl&gt;</th><th scope=col>&lt;chr&gt;</th><th scope=col>&lt;chr&gt;</th><th scope=col>&lt;date&gt;</th><th scope=col>&lt;dbl&gt;</th><th scope=col>&lt;dbl&gt;</th><th scope=col>&lt;dbl&gt;</th><th scope=col>&lt;dbl&gt;</th><th scope=col>&lt;dbl&gt;</th><th scope=col>&lt;dbl&gt;</th></tr>\n",
              "</thead>\n",
              "<tbody>\n",
              "\t<tr><td>US</td><td>United States</td><td>NA</td><td>NA</td><td>NA</td><td>NA</td><td>NA</td><td>2020-02-15</td><td>6</td><td> 2</td><td>15</td><td> 3</td><td>  2</td><td>-1</td></tr>\n",
              "\t<tr><td>US</td><td>United States</td><td>NA</td><td>NA</td><td>NA</td><td>NA</td><td>NA</td><td>2020-02-16</td><td>7</td><td> 1</td><td>16</td><td> 2</td><td>  0</td><td>-1</td></tr>\n",
              "\t<tr><td>US</td><td>United States</td><td>NA</td><td>NA</td><td>NA</td><td>NA</td><td>NA</td><td>2020-02-17</td><td>6</td><td> 0</td><td>28</td><td>-9</td><td>-24</td><td> 5</td></tr>\n",
              "\t<tr><td>US</td><td>United States</td><td>NA</td><td>NA</td><td>NA</td><td>NA</td><td>NA</td><td>2020-02-18</td><td>0</td><td>-1</td><td> 6</td><td> 1</td><td>  0</td><td> 1</td></tr>\n",
              "\t<tr><td>US</td><td>United States</td><td>NA</td><td>NA</td><td>NA</td><td>NA</td><td>NA</td><td>2020-02-19</td><td>2</td><td> 0</td><td> 8</td><td> 1</td><td>  1</td><td> 0</td></tr>\n",
              "\t<tr><td>US</td><td>United States</td><td>NA</td><td>NA</td><td>NA</td><td>NA</td><td>NA</td><td>2020-02-20</td><td>1</td><td> 0</td><td> 4</td><td> 0</td><td>  0</td><td> 1</td></tr>\n",
              "</tbody>\n",
              "</table>\n"
            ]
          },
          "metadata": {
            "tags": []
          }
        }
      ]
    },
    {
      "cell_type": "markdown",
      "metadata": {
        "id": "KM6_zLmaojhA"
      },
      "source": [
        "## Pick Mobility data from Pulaski, AR"
      ]
    },
    {
      "cell_type": "code",
      "metadata": {
        "id": "0qvTCbqTkqG8",
        "outputId": "704fa3a8-2222-4264-c48f-815e4c58eb18",
        "colab": {
          "base_uri": "https://localhost:8080/",
          "height": 316
        }
      },
      "source": [
        "tbGMmycounty <-\n",
        "  tbGMUS %>% filter( sub_region_1 == \"Arkansas\", sub_region_2 == \"Pulaski County\")\n",
        "head(tbGMmycounty)"
      ],
      "execution_count": 259,
      "outputs": [
        {
          "output_type": "display_data",
          "data": {
            "text/plain": [
              "  country_region_code country_region sub_region_1 sub_region_2   metro_area\n",
              "1 US                  United States  Arkansas     Pulaski County NA        \n",
              "2 US                  United States  Arkansas     Pulaski County NA        \n",
              "3 US                  United States  Arkansas     Pulaski County NA        \n",
              "4 US                  United States  Arkansas     Pulaski County NA        \n",
              "5 US                  United States  Arkansas     Pulaski County NA        \n",
              "6 US                  United States  Arkansas     Pulaski County NA        \n",
              "  iso_3166_2_code census_fips_code date      \n",
              "1 NA              05119            2020-02-15\n",
              "2 NA              05119            2020-02-16\n",
              "3 NA              05119            2020-02-17\n",
              "4 NA              05119            2020-02-18\n",
              "5 NA              05119            2020-02-19\n",
              "6 NA              05119            2020-02-20\n",
              "  retail_and_recreation_percent_change_from_baseline\n",
              "1 -2                                                \n",
              "2  2                                                \n",
              "3 -1                                                \n",
              "4 -6                                                \n",
              "5  3                                                \n",
              "6  1                                                \n",
              "  grocery_and_pharmacy_percent_change_from_baseline\n",
              "1  1                                               \n",
              "2  5                                               \n",
              "3  1                                               \n",
              "4 -7                                               \n",
              "5  1                                               \n",
              "6  0                                               \n",
              "  parks_percent_change_from_baseline\n",
              "1  -2                               \n",
              "2  30                               \n",
              "3 -10                               \n",
              "4 -18                               \n",
              "5  35                               \n",
              "6   6                               \n",
              "  transit_stations_percent_change_from_baseline\n",
              "1 -6                                           \n",
              "2 -4                                           \n",
              "3 -1                                           \n",
              "4  2                                           \n",
              "5  0                                           \n",
              "6  1                                           \n",
              "  workplaces_percent_change_from_baseline\n",
              "1   3                                    \n",
              "2   0                                    \n",
              "3 -18                                    \n",
              "4   1                                    \n",
              "5   3                                    \n",
              "6   1                                    \n",
              "  residential_percent_change_from_baseline\n",
              "1  0                                      \n",
              "2 -1                                      \n",
              "3  5                                      \n",
              "4  2                                      \n",
              "5 -1                                      \n",
              "6  1                                      "
            ],
            "text/latex": "A tibble: 6 × 14\n\\begin{tabular}{llllllllllllll}\n country\\_region\\_code & country\\_region & sub\\_region\\_1 & sub\\_region\\_2 & metro\\_area & iso\\_3166\\_2\\_code & census\\_fips\\_code & date & retail\\_and\\_recreation\\_percent\\_change\\_from\\_baseline & grocery\\_and\\_pharmacy\\_percent\\_change\\_from\\_baseline & parks\\_percent\\_change\\_from\\_baseline & transit\\_stations\\_percent\\_change\\_from\\_baseline & workplaces\\_percent\\_change\\_from\\_baseline & residential\\_percent\\_change\\_from\\_baseline\\\\\n <chr> & <chr> & <chr> & <chr> & <lgl> & <chr> & <chr> & <date> & <dbl> & <dbl> & <dbl> & <dbl> & <dbl> & <dbl>\\\\\n\\hline\n\t US & United States & Arkansas & Pulaski County & NA & NA & 05119 & 2020-02-15 & -2 &  1 &  -2 & -6 &   3 &  0\\\\\n\t US & United States & Arkansas & Pulaski County & NA & NA & 05119 & 2020-02-16 &  2 &  5 &  30 & -4 &   0 & -1\\\\\n\t US & United States & Arkansas & Pulaski County & NA & NA & 05119 & 2020-02-17 & -1 &  1 & -10 & -1 & -18 &  5\\\\\n\t US & United States & Arkansas & Pulaski County & NA & NA & 05119 & 2020-02-18 & -6 & -7 & -18 &  2 &   1 &  2\\\\\n\t US & United States & Arkansas & Pulaski County & NA & NA & 05119 & 2020-02-19 &  3 &  1 &  35 &  0 &   3 & -1\\\\\n\t US & United States & Arkansas & Pulaski County & NA & NA & 05119 & 2020-02-20 &  1 &  0 &   6 &  1 &   1 &  1\\\\\n\\end{tabular}\n",
            "text/markdown": "\nA tibble: 6 × 14\n\n| country_region_code &lt;chr&gt; | country_region &lt;chr&gt; | sub_region_1 &lt;chr&gt; | sub_region_2 &lt;chr&gt; | metro_area &lt;lgl&gt; | iso_3166_2_code &lt;chr&gt; | census_fips_code &lt;chr&gt; | date &lt;date&gt; | retail_and_recreation_percent_change_from_baseline &lt;dbl&gt; | grocery_and_pharmacy_percent_change_from_baseline &lt;dbl&gt; | parks_percent_change_from_baseline &lt;dbl&gt; | transit_stations_percent_change_from_baseline &lt;dbl&gt; | workplaces_percent_change_from_baseline &lt;dbl&gt; | residential_percent_change_from_baseline &lt;dbl&gt; |\n|---|---|---|---|---|---|---|---|---|---|---|---|---|---|\n| US | United States | Arkansas | Pulaski County | NA | NA | 05119 | 2020-02-15 | -2 |  1 |  -2 | -6 |   3 |  0 |\n| US | United States | Arkansas | Pulaski County | NA | NA | 05119 | 2020-02-16 |  2 |  5 |  30 | -4 |   0 | -1 |\n| US | United States | Arkansas | Pulaski County | NA | NA | 05119 | 2020-02-17 | -1 |  1 | -10 | -1 | -18 |  5 |\n| US | United States | Arkansas | Pulaski County | NA | NA | 05119 | 2020-02-18 | -6 | -7 | -18 |  2 |   1 |  2 |\n| US | United States | Arkansas | Pulaski County | NA | NA | 05119 | 2020-02-19 |  3 |  1 |  35 |  0 |   3 | -1 |\n| US | United States | Arkansas | Pulaski County | NA | NA | 05119 | 2020-02-20 |  1 |  0 |   6 |  1 |   1 |  1 |\n\n",
            "text/html": [
              "<table>\n",
              "<caption>A tibble: 6 × 14</caption>\n",
              "<thead>\n",
              "\t<tr><th scope=col>country_region_code</th><th scope=col>country_region</th><th scope=col>sub_region_1</th><th scope=col>sub_region_2</th><th scope=col>metro_area</th><th scope=col>iso_3166_2_code</th><th scope=col>census_fips_code</th><th scope=col>date</th><th scope=col>retail_and_recreation_percent_change_from_baseline</th><th scope=col>grocery_and_pharmacy_percent_change_from_baseline</th><th scope=col>parks_percent_change_from_baseline</th><th scope=col>transit_stations_percent_change_from_baseline</th><th scope=col>workplaces_percent_change_from_baseline</th><th scope=col>residential_percent_change_from_baseline</th></tr>\n",
              "\t<tr><th scope=col>&lt;chr&gt;</th><th scope=col>&lt;chr&gt;</th><th scope=col>&lt;chr&gt;</th><th scope=col>&lt;chr&gt;</th><th scope=col>&lt;lgl&gt;</th><th scope=col>&lt;chr&gt;</th><th scope=col>&lt;chr&gt;</th><th scope=col>&lt;date&gt;</th><th scope=col>&lt;dbl&gt;</th><th scope=col>&lt;dbl&gt;</th><th scope=col>&lt;dbl&gt;</th><th scope=col>&lt;dbl&gt;</th><th scope=col>&lt;dbl&gt;</th><th scope=col>&lt;dbl&gt;</th></tr>\n",
              "</thead>\n",
              "<tbody>\n",
              "\t<tr><td>US</td><td>United States</td><td>Arkansas</td><td>Pulaski County</td><td>NA</td><td>NA</td><td>05119</td><td>2020-02-15</td><td>-2</td><td> 1</td><td> -2</td><td>-6</td><td>  3</td><td> 0</td></tr>\n",
              "\t<tr><td>US</td><td>United States</td><td>Arkansas</td><td>Pulaski County</td><td>NA</td><td>NA</td><td>05119</td><td>2020-02-16</td><td> 2</td><td> 5</td><td> 30</td><td>-4</td><td>  0</td><td>-1</td></tr>\n",
              "\t<tr><td>US</td><td>United States</td><td>Arkansas</td><td>Pulaski County</td><td>NA</td><td>NA</td><td>05119</td><td>2020-02-17</td><td>-1</td><td> 1</td><td>-10</td><td>-1</td><td>-18</td><td> 5</td></tr>\n",
              "\t<tr><td>US</td><td>United States</td><td>Arkansas</td><td>Pulaski County</td><td>NA</td><td>NA</td><td>05119</td><td>2020-02-18</td><td>-6</td><td>-7</td><td>-18</td><td> 2</td><td>  1</td><td> 2</td></tr>\n",
              "\t<tr><td>US</td><td>United States</td><td>Arkansas</td><td>Pulaski County</td><td>NA</td><td>NA</td><td>05119</td><td>2020-02-19</td><td> 3</td><td> 1</td><td> 35</td><td> 0</td><td>  3</td><td>-1</td></tr>\n",
              "\t<tr><td>US</td><td>United States</td><td>Arkansas</td><td>Pulaski County</td><td>NA</td><td>NA</td><td>05119</td><td>2020-02-20</td><td> 1</td><td> 0</td><td>  6</td><td> 1</td><td>  1</td><td> 1</td></tr>\n",
              "</tbody>\n",
              "</table>\n"
            ]
          },
          "metadata": {
            "tags": []
          }
        }
      ]
    },
    {
      "cell_type": "code",
      "metadata": {
        "id": "_MxGbS-no4FX",
        "outputId": "50d1365e-d0ac-4cb2-9135-af29b253c609",
        "colab": {
          "base_uri": "https://localhost:8080/",
          "height": 34
        }
      },
      "source": [
        "length(names(tbGMmycounty))"
      ],
      "execution_count": 260,
      "outputs": [
        {
          "output_type": "display_data",
          "data": {
            "text/plain": [
              "[1] 14"
            ],
            "text/latex": "14",
            "text/markdown": "14",
            "text/html": [
              "14"
            ]
          },
          "metadata": {
            "tags": []
          }
        }
      ]
    },
    {
      "cell_type": "code",
      "metadata": {
        "id": "TaHAcxdOdH1A",
        "outputId": "33925b43-3c45-40ce-8ca2-ecde1eece20d",
        "colab": {
          "base_uri": "https://localhost:8080/",
          "height": 34
        }
      },
      "source": [
        "max(tbGMmycounty$date)"
      ],
      "execution_count": 261,
      "outputs": [
        {
          "output_type": "display_data",
          "data": {
            "text/plain": [
              "[1] \"2020-10-09\""
            ],
            "text/latex": "2020-10-09",
            "text/markdown": "2020-10-09",
            "text/html": [
              "<time datetime=\"2020-10-09\">2020-10-09</time>"
            ]
          },
          "metadata": {
            "tags": []
          }
        }
      ]
    },
    {
      "cell_type": "markdown",
      "metadata": {
        "id": "SqfKQ0pgVlnL"
      },
      "source": [
        "## Merge mobility, covid19, and weather for Pulaski, AR"
      ]
    },
    {
      "cell_type": "markdown",
      "metadata": {
        "id": "v0oB2HAbTpdz"
      },
      "source": [
        "First, pick the daily case of Pualaski"
      ]
    },
    {
      "cell_type": "code",
      "metadata": {
        "id": "U5IQNTKdTXVH",
        "outputId": "ccb03cfe-128c-4528-d1f0-b72bc254731d",
        "colab": {
          "base_uri": "https://localhost:8080/",
          "height": 195
        }
      },
      "source": [
        "head( tb_daily_sub)"
      ],
      "execution_count": 262,
      "outputs": [
        {
          "output_type": "display_data",
          "data": {
            "text/plain": [
              "        Pulaski..Arkansas..US Davidson..Tennessee..US YMD       \n",
              "4/19/20  9                    173                     2020-04-19\n",
              "4/20/20 11                     37                     2020-04-20\n",
              "4/21/20  2                     44                     2020-04-21\n",
              "4/22/20 14                      0                     2020-04-22\n",
              "4/23/20 23                    215                     2020-04-23\n",
              "4/24/20 13                     77                     2020-04-24"
            ],
            "text/latex": "A data.frame: 6 × 3\n\\begin{tabular}{r|lll}\n  & Pulaski..Arkansas..US & Davidson..Tennessee..US & YMD\\\\\n  & <dbl> & <dbl> & <date>\\\\\n\\hline\n\t4/19/20 &  9 & 173 & 2020-04-19\\\\\n\t4/20/20 & 11 &  37 & 2020-04-20\\\\\n\t4/21/20 &  2 &  44 & 2020-04-21\\\\\n\t4/22/20 & 14 &   0 & 2020-04-22\\\\\n\t4/23/20 & 23 & 215 & 2020-04-23\\\\\n\t4/24/20 & 13 &  77 & 2020-04-24\\\\\n\\end{tabular}\n",
            "text/markdown": "\nA data.frame: 6 × 3\n\n| <!--/--> | Pulaski..Arkansas..US &lt;dbl&gt; | Davidson..Tennessee..US &lt;dbl&gt; | YMD &lt;date&gt; |\n|---|---|---|---|\n| 4/19/20 |  9 | 173 | 2020-04-19 |\n| 4/20/20 | 11 |  37 | 2020-04-20 |\n| 4/21/20 |  2 |  44 | 2020-04-21 |\n| 4/22/20 | 14 |   0 | 2020-04-22 |\n| 4/23/20 | 23 | 215 | 2020-04-23 |\n| 4/24/20 | 13 |  77 | 2020-04-24 |\n\n",
            "text/html": [
              "<table>\n",
              "<caption>A data.frame: 6 × 3</caption>\n",
              "<thead>\n",
              "\t<tr><th></th><th scope=col>Pulaski..Arkansas..US</th><th scope=col>Davidson..Tennessee..US</th><th scope=col>YMD</th></tr>\n",
              "\t<tr><th></th><th scope=col>&lt;dbl&gt;</th><th scope=col>&lt;dbl&gt;</th><th scope=col>&lt;date&gt;</th></tr>\n",
              "</thead>\n",
              "<tbody>\n",
              "\t<tr><th scope=row>4/19/20</th><td> 9</td><td>173</td><td>2020-04-19</td></tr>\n",
              "\t<tr><th scope=row>4/20/20</th><td>11</td><td> 37</td><td>2020-04-20</td></tr>\n",
              "\t<tr><th scope=row>4/21/20</th><td> 2</td><td> 44</td><td>2020-04-21</td></tr>\n",
              "\t<tr><th scope=row>4/22/20</th><td>14</td><td>  0</td><td>2020-04-22</td></tr>\n",
              "\t<tr><th scope=row>4/23/20</th><td>23</td><td>215</td><td>2020-04-23</td></tr>\n",
              "\t<tr><th scope=row>4/24/20</th><td>13</td><td> 77</td><td>2020-04-24</td></tr>\n",
              "</tbody>\n",
              "</table>\n"
            ]
          },
          "metadata": {
            "tags": []
          }
        }
      ]
    },
    {
      "cell_type": "code",
      "metadata": {
        "id": "9htHI-lKbYb1",
        "outputId": "09b1b8d6-a5b7-442d-f94c-11c034646c93",
        "colab": {
          "base_uri": "https://localhost:8080/",
          "height": 195
        }
      },
      "source": [
        "tb_daily_mycounty = tb_daily_sub[, c(1,3)]\n",
        "head(tb_daily_mycounty)\n",
        "names(tb_daily_mycounty) = c(\"DailyCases\", \"date\")"
      ],
      "execution_count": 263,
      "outputs": [
        {
          "output_type": "display_data",
          "data": {
            "text/plain": [
              "        Pulaski..Arkansas..US YMD       \n",
              "4/19/20  9                    2020-04-19\n",
              "4/20/20 11                    2020-04-20\n",
              "4/21/20  2                    2020-04-21\n",
              "4/22/20 14                    2020-04-22\n",
              "4/23/20 23                    2020-04-23\n",
              "4/24/20 13                    2020-04-24"
            ],
            "text/latex": "A data.frame: 6 × 2\n\\begin{tabular}{r|ll}\n  & Pulaski..Arkansas..US & YMD\\\\\n  & <dbl> & <date>\\\\\n\\hline\n\t4/19/20 &  9 & 2020-04-19\\\\\n\t4/20/20 & 11 & 2020-04-20\\\\\n\t4/21/20 &  2 & 2020-04-21\\\\\n\t4/22/20 & 14 & 2020-04-22\\\\\n\t4/23/20 & 23 & 2020-04-23\\\\\n\t4/24/20 & 13 & 2020-04-24\\\\\n\\end{tabular}\n",
            "text/markdown": "\nA data.frame: 6 × 2\n\n| <!--/--> | Pulaski..Arkansas..US &lt;dbl&gt; | YMD &lt;date&gt; |\n|---|---|---|\n| 4/19/20 |  9 | 2020-04-19 |\n| 4/20/20 | 11 | 2020-04-20 |\n| 4/21/20 |  2 | 2020-04-21 |\n| 4/22/20 | 14 | 2020-04-22 |\n| 4/23/20 | 23 | 2020-04-23 |\n| 4/24/20 | 13 | 2020-04-24 |\n\n",
            "text/html": [
              "<table>\n",
              "<caption>A data.frame: 6 × 2</caption>\n",
              "<thead>\n",
              "\t<tr><th></th><th scope=col>Pulaski..Arkansas..US</th><th scope=col>YMD</th></tr>\n",
              "\t<tr><th></th><th scope=col>&lt;dbl&gt;</th><th scope=col>&lt;date&gt;</th></tr>\n",
              "</thead>\n",
              "<tbody>\n",
              "\t<tr><th scope=row>4/19/20</th><td> 9</td><td>2020-04-19</td></tr>\n",
              "\t<tr><th scope=row>4/20/20</th><td>11</td><td>2020-04-20</td></tr>\n",
              "\t<tr><th scope=row>4/21/20</th><td> 2</td><td>2020-04-21</td></tr>\n",
              "\t<tr><th scope=row>4/22/20</th><td>14</td><td>2020-04-22</td></tr>\n",
              "\t<tr><th scope=row>4/23/20</th><td>23</td><td>2020-04-23</td></tr>\n",
              "\t<tr><th scope=row>4/24/20</th><td>13</td><td>2020-04-24</td></tr>\n",
              "</tbody>\n",
              "</table>\n"
            ]
          },
          "metadata": {
            "tags": []
          }
        }
      ]
    },
    {
      "cell_type": "markdown",
      "metadata": {
        "id": "vTCrHrZRS7X0"
      },
      "source": [
        "Now, find the shared time window\n",
        "between tb_daily_sub and tbGMmycounty\n"
      ]
    },
    {
      "cell_type": "code",
      "metadata": {
        "id": "EmerCbU8bYX_",
        "outputId": "71bdd6c2-02fc-459c-837f-d7ee0d4dba0f",
        "colab": {
          "base_uri": "https://localhost:8080/",
          "height": 34
        }
      },
      "source": [
        "min(tb_daily_mycounty$date)"
      ],
      "execution_count": 264,
      "outputs": [
        {
          "output_type": "display_data",
          "data": {
            "text/plain": [
              "[1] \"2020-04-19\""
            ],
            "text/latex": "2020-04-19",
            "text/markdown": "2020-04-19",
            "text/html": [
              "<time datetime=\"2020-04-19\">2020-04-19</time>"
            ]
          },
          "metadata": {
            "tags": []
          }
        }
      ]
    },
    {
      "cell_type": "code",
      "metadata": {
        "id": "X4Lea-WKaUjU",
        "outputId": "8dafbb33-6441-4b33-ec59-dacaa3a96dd3",
        "colab": {
          "base_uri": "https://localhost:8080/",
          "height": 34
        }
      },
      "source": [
        "max(tb_daily_mycounty$date)"
      ],
      "execution_count": 265,
      "outputs": [
        {
          "output_type": "display_data",
          "data": {
            "text/plain": [
              "[1] \"2020-10-14\""
            ],
            "text/latex": "2020-10-14",
            "text/markdown": "2020-10-14",
            "text/html": [
              "<time datetime=\"2020-10-14\">2020-10-14</time>"
            ]
          },
          "metadata": {
            "tags": []
          }
        }
      ]
    },
    {
      "cell_type": "code",
      "metadata": {
        "id": "A3lsg2JFddFC",
        "outputId": "79f67d37-9ce2-4b32-a8a8-964959ba681c",
        "colab": {
          "base_uri": "https://localhost:8080/",
          "height": 34
        }
      },
      "source": [
        "last_shared_date = min( c( max(tb_daily_mycounty$date),  max(tbGMmycounty$date) ) )\n",
        "last_shared_date "
      ],
      "execution_count": 266,
      "outputs": [
        {
          "output_type": "display_data",
          "data": {
            "text/plain": [
              "[1] \"2020-10-09\""
            ],
            "text/latex": "2020-10-09",
            "text/markdown": "2020-10-09",
            "text/html": [
              "<time datetime=\"2020-10-09\">2020-10-09</time>"
            ]
          },
          "metadata": {
            "tags": []
          }
        }
      ]
    },
    {
      "cell_type": "code",
      "metadata": {
        "id": "uzBM6ClFUBbr",
        "outputId": "093622c4-0f87-4af9-bb90-77766757dfb1",
        "colab": {
          "base_uri": "https://localhost:8080/",
          "height": 34
        }
      },
      "source": [
        "first_shared_date = max( c(min(tb_daily_mycounty$date),min(tbGMmycounty$date)))\n",
        "first_shared_date"
      ],
      "execution_count": 267,
      "outputs": [
        {
          "output_type": "display_data",
          "data": {
            "text/plain": [
              "[1] \"2020-04-19\""
            ],
            "text/latex": "2020-04-19",
            "text/markdown": "2020-04-19",
            "text/html": [
              "<time datetime=\"2020-04-19\">2020-04-19</time>"
            ]
          },
          "metadata": {
            "tags": []
          }
        }
      ]
    },
    {
      "cell_type": "markdown",
      "metadata": {
        "id": "eBC0iWqDUWLP"
      },
      "source": [
        "Trim the Google mobility data based on the time window"
      ]
    },
    {
      "cell_type": "code",
      "metadata": {
        "id": "-XDOMGILW9ou",
        "outputId": "fb2ef772-5b53-4657-bb5a-614a041cbd7e",
        "colab": {
          "base_uri": "https://localhost:8080/",
          "height": 171
        }
      },
      "source": [
        "tbGMmycount2 <-\n",
        "  tbGMmycounty %>%\n",
        "  dplyr::select(8:length(names(tbGMmycounty))) %>%\n",
        "  dplyr::filter( between(date, first_shared_date, last_shared_date ))\n",
        "\n",
        "str(tbGMmycount2)"
      ],
      "execution_count": 268,
      "outputs": [
        {
          "output_type": "stream",
          "text": [
            "tibble [174 × 7] (S3: tbl_df/tbl/data.frame)\n",
            " $ date                                              : Date[1:174], format: \"2020-04-19\" \"2020-04-20\" ...\n",
            " $ retail_and_recreation_percent_change_from_baseline: num [1:174] -41 -25 -23 -34 -28 -28 -33 -28 -22 -21 ...\n",
            " $ grocery_and_pharmacy_percent_change_from_baseline : num [1:174] -16 -4 -1 -13 -1 -3 -5 -2 -3 1 ...\n",
            " $ parks_percent_change_from_baseline                : num [1:174] -42 35 85 -24 43 24 14 51 13 39 ...\n",
            " $ transit_stations_percent_change_from_baseline     : num [1:174] -41 -25 -22 -35 -26 -26 -25 -31 -23 -19 ...\n",
            " $ workplaces_percent_change_from_baseline           : num [1:174] -33 -39 -39 -42 -40 -39 -24 -29 -38 -39 ...\n",
            " $ residential_percent_change_from_baseline          : num [1:174] 11 14 14 18 15 16 8 7 14 8 ...\n"
          ],
          "name": "stdout"
        }
      ]
    },
    {
      "cell_type": "markdown",
      "metadata": {
        "id": "BWHRj5TBUoQg"
      },
      "source": [
        "Trim the daily cases based on the time window"
      ]
    },
    {
      "cell_type": "code",
      "metadata": {
        "id": "1WAt2QR9o4Rh",
        "outputId": "40204f6d-a2bf-4719-d639-4b62cd45e682",
        "colab": {
          "base_uri": "https://localhost:8080/",
          "height": 67
        }
      },
      "source": [
        "tb_daily_mycounty2 <- \n",
        "  tb_daily_mycounty %>%\n",
        "  dplyr::filter( between(date, first_shared_date, last_shared_date ) )\n",
        "\n",
        "str(tb_daily_mycounty2)"
      ],
      "execution_count": 269,
      "outputs": [
        {
          "output_type": "stream",
          "text": [
            "'data.frame':\t174 obs. of  2 variables:\n",
            " $ DailyCases: num  9 11 2 14 23 13 31 7 6 6 ...\n",
            " $ date      : Date, format: \"2020-04-19\" \"2020-04-20\" ...\n"
          ],
          "name": "stdout"
        }
      ]
    },
    {
      "cell_type": "markdown",
      "metadata": {
        "id": "TN0JaxffVCqY"
      },
      "source": [
        "Let's check the dates, are they matched now? "
      ]
    },
    {
      "cell_type": "code",
      "metadata": {
        "id": "XrTqp15jWFNO",
        "outputId": "54849c8b-1972-48d2-8d50-ae1928dd6977",
        "colab": {
          "base_uri": "https://localhost:8080/",
          "height": 269
        }
      },
      "source": [
        "tb_daily_mycounty2$date %in% tbGMmycount2$date"
      ],
      "execution_count": 270,
      "outputs": [
        {
          "output_type": "display_data",
          "data": {
            "text/plain": [
              "  [1] TRUE TRUE TRUE TRUE TRUE TRUE TRUE TRUE TRUE TRUE TRUE TRUE TRUE TRUE TRUE\n",
              " [16] TRUE TRUE TRUE TRUE TRUE TRUE TRUE TRUE TRUE TRUE TRUE TRUE TRUE TRUE TRUE\n",
              " [31] TRUE TRUE TRUE TRUE TRUE TRUE TRUE TRUE TRUE TRUE TRUE TRUE TRUE TRUE TRUE\n",
              " [46] TRUE TRUE TRUE TRUE TRUE TRUE TRUE TRUE TRUE TRUE TRUE TRUE TRUE TRUE TRUE\n",
              " [61] TRUE TRUE TRUE TRUE TRUE TRUE TRUE TRUE TRUE TRUE TRUE TRUE TRUE TRUE TRUE\n",
              " [76] TRUE TRUE TRUE TRUE TRUE TRUE TRUE TRUE TRUE TRUE TRUE TRUE TRUE TRUE TRUE\n",
              " [91] TRUE TRUE TRUE TRUE TRUE TRUE TRUE TRUE TRUE TRUE TRUE TRUE TRUE TRUE TRUE\n",
              "[106] TRUE TRUE TRUE TRUE TRUE TRUE TRUE TRUE TRUE TRUE TRUE TRUE TRUE TRUE TRUE\n",
              "[121] TRUE TRUE TRUE TRUE TRUE TRUE TRUE TRUE TRUE TRUE TRUE TRUE TRUE TRUE TRUE\n",
              "[136] TRUE TRUE TRUE TRUE TRUE TRUE TRUE TRUE TRUE TRUE TRUE TRUE TRUE TRUE TRUE\n",
              "[151] TRUE TRUE TRUE TRUE TRUE TRUE TRUE TRUE TRUE TRUE TRUE TRUE TRUE TRUE TRUE\n",
              "[166] TRUE TRUE TRUE TRUE TRUE TRUE TRUE TRUE TRUE"
            ],
            "text/latex": "\\begin{enumerate*}\n\\item TRUE\n\\item TRUE\n\\item TRUE\n\\item TRUE\n\\item TRUE\n\\item TRUE\n\\item TRUE\n\\item TRUE\n\\item TRUE\n\\item TRUE\n\\item TRUE\n\\item TRUE\n\\item TRUE\n\\item TRUE\n\\item TRUE\n\\item TRUE\n\\item TRUE\n\\item TRUE\n\\item TRUE\n\\item TRUE\n\\item TRUE\n\\item TRUE\n\\item TRUE\n\\item TRUE\n\\item TRUE\n\\item TRUE\n\\item TRUE\n\\item TRUE\n\\item TRUE\n\\item TRUE\n\\item TRUE\n\\item TRUE\n\\item TRUE\n\\item TRUE\n\\item TRUE\n\\item TRUE\n\\item TRUE\n\\item TRUE\n\\item TRUE\n\\item TRUE\n\\item TRUE\n\\item TRUE\n\\item TRUE\n\\item TRUE\n\\item TRUE\n\\item TRUE\n\\item TRUE\n\\item TRUE\n\\item TRUE\n\\item TRUE\n\\item TRUE\n\\item TRUE\n\\item TRUE\n\\item TRUE\n\\item TRUE\n\\item TRUE\n\\item TRUE\n\\item TRUE\n\\item TRUE\n\\item TRUE\n\\item TRUE\n\\item TRUE\n\\item TRUE\n\\item TRUE\n\\item TRUE\n\\item TRUE\n\\item TRUE\n\\item TRUE\n\\item TRUE\n\\item TRUE\n\\item TRUE\n\\item TRUE\n\\item TRUE\n\\item TRUE\n\\item TRUE\n\\item TRUE\n\\item TRUE\n\\item TRUE\n\\item TRUE\n\\item TRUE\n\\item TRUE\n\\item TRUE\n\\item TRUE\n\\item TRUE\n\\item TRUE\n\\item TRUE\n\\item TRUE\n\\item TRUE\n\\item TRUE\n\\item TRUE\n\\item TRUE\n\\item TRUE\n\\item TRUE\n\\item TRUE\n\\item TRUE\n\\item TRUE\n\\item TRUE\n\\item TRUE\n\\item TRUE\n\\item TRUE\n\\item TRUE\n\\item TRUE\n\\item TRUE\n\\item TRUE\n\\item TRUE\n\\item TRUE\n\\item TRUE\n\\item TRUE\n\\item TRUE\n\\item TRUE\n\\item TRUE\n\\item TRUE\n\\item TRUE\n\\item TRUE\n\\item TRUE\n\\item TRUE\n\\item TRUE\n\\item TRUE\n\\item TRUE\n\\item TRUE\n\\item TRUE\n\\item TRUE\n\\item TRUE\n\\item TRUE\n\\item TRUE\n\\item TRUE\n\\item TRUE\n\\item TRUE\n\\item TRUE\n\\item TRUE\n\\item TRUE\n\\item TRUE\n\\item TRUE\n\\item TRUE\n\\item TRUE\n\\item TRUE\n\\item TRUE\n\\item TRUE\n\\item TRUE\n\\item TRUE\n\\item TRUE\n\\item TRUE\n\\item TRUE\n\\item TRUE\n\\item TRUE\n\\item TRUE\n\\item TRUE\n\\item TRUE\n\\item TRUE\n\\item TRUE\n\\item TRUE\n\\item TRUE\n\\item TRUE\n\\item TRUE\n\\item TRUE\n\\item TRUE\n\\item TRUE\n\\item TRUE\n\\item TRUE\n\\item TRUE\n\\item TRUE\n\\item TRUE\n\\item TRUE\n\\item TRUE\n\\item TRUE\n\\item TRUE\n\\item TRUE\n\\item TRUE\n\\item TRUE\n\\item TRUE\n\\item TRUE\n\\item TRUE\n\\item TRUE\n\\item TRUE\n\\end{enumerate*}\n",
            "text/markdown": "1. TRUE\n2. TRUE\n3. TRUE\n4. TRUE\n5. TRUE\n6. TRUE\n7. TRUE\n8. TRUE\n9. TRUE\n10. TRUE\n11. TRUE\n12. TRUE\n13. TRUE\n14. TRUE\n15. TRUE\n16. TRUE\n17. TRUE\n18. TRUE\n19. TRUE\n20. TRUE\n21. TRUE\n22. TRUE\n23. TRUE\n24. TRUE\n25. TRUE\n26. TRUE\n27. TRUE\n28. TRUE\n29. TRUE\n30. TRUE\n31. TRUE\n32. TRUE\n33. TRUE\n34. TRUE\n35. TRUE\n36. TRUE\n37. TRUE\n38. TRUE\n39. TRUE\n40. TRUE\n41. TRUE\n42. TRUE\n43. TRUE\n44. TRUE\n45. TRUE\n46. TRUE\n47. TRUE\n48. TRUE\n49. TRUE\n50. TRUE\n51. TRUE\n52. TRUE\n53. TRUE\n54. TRUE\n55. TRUE\n56. TRUE\n57. TRUE\n58. TRUE\n59. TRUE\n60. TRUE\n61. TRUE\n62. TRUE\n63. TRUE\n64. TRUE\n65. TRUE\n66. TRUE\n67. TRUE\n68. TRUE\n69. TRUE\n70. TRUE\n71. TRUE\n72. TRUE\n73. TRUE\n74. TRUE\n75. TRUE\n76. TRUE\n77. TRUE\n78. TRUE\n79. TRUE\n80. TRUE\n81. TRUE\n82. TRUE\n83. TRUE\n84. TRUE\n85. TRUE\n86. TRUE\n87. TRUE\n88. TRUE\n89. TRUE\n90. TRUE\n91. TRUE\n92. TRUE\n93. TRUE\n94. TRUE\n95. TRUE\n96. TRUE\n97. TRUE\n98. TRUE\n99. TRUE\n100. TRUE\n101. TRUE\n102. TRUE\n103. TRUE\n104. TRUE\n105. TRUE\n106. TRUE\n107. TRUE\n108. TRUE\n109. TRUE\n110. TRUE\n111. TRUE\n112. TRUE\n113. TRUE\n114. TRUE\n115. TRUE\n116. TRUE\n117. TRUE\n118. TRUE\n119. TRUE\n120. TRUE\n121. TRUE\n122. TRUE\n123. TRUE\n124. TRUE\n125. TRUE\n126. TRUE\n127. TRUE\n128. TRUE\n129. TRUE\n130. TRUE\n131. TRUE\n132. TRUE\n133. TRUE\n134. TRUE\n135. TRUE\n136. TRUE\n137. TRUE\n138. TRUE\n139. TRUE\n140. TRUE\n141. TRUE\n142. TRUE\n143. TRUE\n144. TRUE\n145. TRUE\n146. TRUE\n147. TRUE\n148. TRUE\n149. TRUE\n150. TRUE\n151. TRUE\n152. TRUE\n153. TRUE\n154. TRUE\n155. TRUE\n156. TRUE\n157. TRUE\n158. TRUE\n159. TRUE\n160. TRUE\n161. TRUE\n162. TRUE\n163. TRUE\n164. TRUE\n165. TRUE\n166. TRUE\n167. TRUE\n168. TRUE\n169. TRUE\n170. TRUE\n171. TRUE\n172. TRUE\n173. TRUE\n174. TRUE\n\n\n",
            "text/html": [
              "<style>\n",
              ".list-inline {list-style: none; margin:0; padding: 0}\n",
              ".list-inline>li {display: inline-block}\n",
              ".list-inline>li:not(:last-child)::after {content: \"\\00b7\"; padding: 0 .5ex}\n",
              "</style>\n",
              "<ol class=list-inline><li>TRUE</li><li>TRUE</li><li>TRUE</li><li>TRUE</li><li>TRUE</li><li>TRUE</li><li>TRUE</li><li>TRUE</li><li>TRUE</li><li>TRUE</li><li>TRUE</li><li>TRUE</li><li>TRUE</li><li>TRUE</li><li>TRUE</li><li>TRUE</li><li>TRUE</li><li>TRUE</li><li>TRUE</li><li>TRUE</li><li>TRUE</li><li>TRUE</li><li>TRUE</li><li>TRUE</li><li>TRUE</li><li>TRUE</li><li>TRUE</li><li>TRUE</li><li>TRUE</li><li>TRUE</li><li>TRUE</li><li>TRUE</li><li>TRUE</li><li>TRUE</li><li>TRUE</li><li>TRUE</li><li>TRUE</li><li>TRUE</li><li>TRUE</li><li>TRUE</li><li>TRUE</li><li>TRUE</li><li>TRUE</li><li>TRUE</li><li>TRUE</li><li>TRUE</li><li>TRUE</li><li>TRUE</li><li>TRUE</li><li>TRUE</li><li>TRUE</li><li>TRUE</li><li>TRUE</li><li>TRUE</li><li>TRUE</li><li>TRUE</li><li>TRUE</li><li>TRUE</li><li>TRUE</li><li>TRUE</li><li>TRUE</li><li>TRUE</li><li>TRUE</li><li>TRUE</li><li>TRUE</li><li>TRUE</li><li>TRUE</li><li>TRUE</li><li>TRUE</li><li>TRUE</li><li>TRUE</li><li>TRUE</li><li>TRUE</li><li>TRUE</li><li>TRUE</li><li>TRUE</li><li>TRUE</li><li>TRUE</li><li>TRUE</li><li>TRUE</li><li>TRUE</li><li>TRUE</li><li>TRUE</li><li>TRUE</li><li>TRUE</li><li>TRUE</li><li>TRUE</li><li>TRUE</li><li>TRUE</li><li>TRUE</li><li>TRUE</li><li>TRUE</li><li>TRUE</li><li>TRUE</li><li>TRUE</li><li>TRUE</li><li>TRUE</li><li>TRUE</li><li>TRUE</li><li>TRUE</li><li>TRUE</li><li>TRUE</li><li>TRUE</li><li>TRUE</li><li>TRUE</li><li>TRUE</li><li>TRUE</li><li>TRUE</li><li>TRUE</li><li>TRUE</li><li>TRUE</li><li>TRUE</li><li>TRUE</li><li>TRUE</li><li>TRUE</li><li>TRUE</li><li>TRUE</li><li>TRUE</li><li>TRUE</li><li>TRUE</li><li>TRUE</li><li>TRUE</li><li>TRUE</li><li>TRUE</li><li>TRUE</li><li>TRUE</li><li>TRUE</li><li>TRUE</li><li>TRUE</li><li>TRUE</li><li>TRUE</li><li>TRUE</li><li>TRUE</li><li>TRUE</li><li>TRUE</li><li>TRUE</li><li>TRUE</li><li>TRUE</li><li>TRUE</li><li>TRUE</li><li>TRUE</li><li>TRUE</li><li>TRUE</li><li>TRUE</li><li>TRUE</li><li>TRUE</li><li>TRUE</li><li>TRUE</li><li>TRUE</li><li>TRUE</li><li>TRUE</li><li>TRUE</li><li>TRUE</li><li>TRUE</li><li>TRUE</li><li>TRUE</li><li>TRUE</li><li>TRUE</li><li>TRUE</li><li>TRUE</li><li>TRUE</li><li>TRUE</li><li>TRUE</li><li>TRUE</li><li>TRUE</li><li>TRUE</li><li>TRUE</li><li>TRUE</li><li>TRUE</li><li>TRUE</li><li>TRUE</li><li>TRUE</li><li>TRUE</li><li>TRUE</li></ol>\n"
            ]
          },
          "metadata": {
            "tags": []
          }
        }
      ]
    },
    {
      "cell_type": "markdown",
      "metadata": {
        "id": "Rzx8u4YMVN_Z"
      },
      "source": [
        "Here, we can merged the two data frames by combine them by columns. Just like copy-paste in an Excel sheet"
      ]
    },
    {
      "cell_type": "code",
      "metadata": {
        "id": "1BT7lPrHVwZW",
        "outputId": "bb6fc0e0-d565-4295-e9a8-d3edf0cffd6d",
        "colab": {
          "base_uri": "https://localhost:8080/",
          "height": 316
        }
      },
      "source": [
        "#tb_GMCovidWeatherHCTN <- merge(tbGMHCTN2, tb_HCTN3, by=date)\n",
        "tb_GMCovidmycounty <- data.frame( cbind(tb_daily_mycounty2, tbGMmycount2) )\n",
        "head( tb_GMCovidmycounty )"
      ],
      "execution_count": 271,
      "outputs": [
        {
          "output_type": "display_data",
          "data": {
            "text/plain": [
              "        DailyCases date       date.1    \n",
              "4/19/20  9         2020-04-19 2020-04-19\n",
              "4/20/20 11         2020-04-20 2020-04-20\n",
              "4/21/20  2         2020-04-21 2020-04-21\n",
              "4/22/20 14         2020-04-22 2020-04-22\n",
              "4/23/20 23         2020-04-23 2020-04-23\n",
              "4/24/20 13         2020-04-24 2020-04-24\n",
              "        retail_and_recreation_percent_change_from_baseline\n",
              "4/19/20 -41                                               \n",
              "4/20/20 -25                                               \n",
              "4/21/20 -23                                               \n",
              "4/22/20 -34                                               \n",
              "4/23/20 -28                                               \n",
              "4/24/20 -28                                               \n",
              "        grocery_and_pharmacy_percent_change_from_baseline\n",
              "4/19/20 -16                                              \n",
              "4/20/20  -4                                              \n",
              "4/21/20  -1                                              \n",
              "4/22/20 -13                                              \n",
              "4/23/20  -1                                              \n",
              "4/24/20  -3                                              \n",
              "        parks_percent_change_from_baseline\n",
              "4/19/20 -42                               \n",
              "4/20/20  35                               \n",
              "4/21/20  85                               \n",
              "4/22/20 -24                               \n",
              "4/23/20  43                               \n",
              "4/24/20  24                               \n",
              "        transit_stations_percent_change_from_baseline\n",
              "4/19/20 -41                                          \n",
              "4/20/20 -25                                          \n",
              "4/21/20 -22                                          \n",
              "4/22/20 -35                                          \n",
              "4/23/20 -26                                          \n",
              "4/24/20 -26                                          \n",
              "        workplaces_percent_change_from_baseline\n",
              "4/19/20 -33                                    \n",
              "4/20/20 -39                                    \n",
              "4/21/20 -39                                    \n",
              "4/22/20 -42                                    \n",
              "4/23/20 -40                                    \n",
              "4/24/20 -39                                    \n",
              "        residential_percent_change_from_baseline\n",
              "4/19/20 11                                      \n",
              "4/20/20 14                                      \n",
              "4/21/20 14                                      \n",
              "4/22/20 18                                      \n",
              "4/23/20 15                                      \n",
              "4/24/20 16                                      "
            ],
            "text/latex": "A data.frame: 6 × 9\n\\begin{tabular}{r|lllllllll}\n  & DailyCases & date & date.1 & retail\\_and\\_recreation\\_percent\\_change\\_from\\_baseline & grocery\\_and\\_pharmacy\\_percent\\_change\\_from\\_baseline & parks\\_percent\\_change\\_from\\_baseline & transit\\_stations\\_percent\\_change\\_from\\_baseline & workplaces\\_percent\\_change\\_from\\_baseline & residential\\_percent\\_change\\_from\\_baseline\\\\\n  & <dbl> & <date> & <date> & <dbl> & <dbl> & <dbl> & <dbl> & <dbl> & <dbl>\\\\\n\\hline\n\t4/19/20 &  9 & 2020-04-19 & 2020-04-19 & -41 & -16 & -42 & -41 & -33 & 11\\\\\n\t4/20/20 & 11 & 2020-04-20 & 2020-04-20 & -25 &  -4 &  35 & -25 & -39 & 14\\\\\n\t4/21/20 &  2 & 2020-04-21 & 2020-04-21 & -23 &  -1 &  85 & -22 & -39 & 14\\\\\n\t4/22/20 & 14 & 2020-04-22 & 2020-04-22 & -34 & -13 & -24 & -35 & -42 & 18\\\\\n\t4/23/20 & 23 & 2020-04-23 & 2020-04-23 & -28 &  -1 &  43 & -26 & -40 & 15\\\\\n\t4/24/20 & 13 & 2020-04-24 & 2020-04-24 & -28 &  -3 &  24 & -26 & -39 & 16\\\\\n\\end{tabular}\n",
            "text/markdown": "\nA data.frame: 6 × 9\n\n| <!--/--> | DailyCases &lt;dbl&gt; | date &lt;date&gt; | date.1 &lt;date&gt; | retail_and_recreation_percent_change_from_baseline &lt;dbl&gt; | grocery_and_pharmacy_percent_change_from_baseline &lt;dbl&gt; | parks_percent_change_from_baseline &lt;dbl&gt; | transit_stations_percent_change_from_baseline &lt;dbl&gt; | workplaces_percent_change_from_baseline &lt;dbl&gt; | residential_percent_change_from_baseline &lt;dbl&gt; |\n|---|---|---|---|---|---|---|---|---|---|\n| 4/19/20 |  9 | 2020-04-19 | 2020-04-19 | -41 | -16 | -42 | -41 | -33 | 11 |\n| 4/20/20 | 11 | 2020-04-20 | 2020-04-20 | -25 |  -4 |  35 | -25 | -39 | 14 |\n| 4/21/20 |  2 | 2020-04-21 | 2020-04-21 | -23 |  -1 |  85 | -22 | -39 | 14 |\n| 4/22/20 | 14 | 2020-04-22 | 2020-04-22 | -34 | -13 | -24 | -35 | -42 | 18 |\n| 4/23/20 | 23 | 2020-04-23 | 2020-04-23 | -28 |  -1 |  43 | -26 | -40 | 15 |\n| 4/24/20 | 13 | 2020-04-24 | 2020-04-24 | -28 |  -3 |  24 | -26 | -39 | 16 |\n\n",
            "text/html": [
              "<table>\n",
              "<caption>A data.frame: 6 × 9</caption>\n",
              "<thead>\n",
              "\t<tr><th></th><th scope=col>DailyCases</th><th scope=col>date</th><th scope=col>date.1</th><th scope=col>retail_and_recreation_percent_change_from_baseline</th><th scope=col>grocery_and_pharmacy_percent_change_from_baseline</th><th scope=col>parks_percent_change_from_baseline</th><th scope=col>transit_stations_percent_change_from_baseline</th><th scope=col>workplaces_percent_change_from_baseline</th><th scope=col>residential_percent_change_from_baseline</th></tr>\n",
              "\t<tr><th></th><th scope=col>&lt;dbl&gt;</th><th scope=col>&lt;date&gt;</th><th scope=col>&lt;date&gt;</th><th scope=col>&lt;dbl&gt;</th><th scope=col>&lt;dbl&gt;</th><th scope=col>&lt;dbl&gt;</th><th scope=col>&lt;dbl&gt;</th><th scope=col>&lt;dbl&gt;</th><th scope=col>&lt;dbl&gt;</th></tr>\n",
              "</thead>\n",
              "<tbody>\n",
              "\t<tr><th scope=row>4/19/20</th><td> 9</td><td>2020-04-19</td><td>2020-04-19</td><td>-41</td><td>-16</td><td>-42</td><td>-41</td><td>-33</td><td>11</td></tr>\n",
              "\t<tr><th scope=row>4/20/20</th><td>11</td><td>2020-04-20</td><td>2020-04-20</td><td>-25</td><td> -4</td><td> 35</td><td>-25</td><td>-39</td><td>14</td></tr>\n",
              "\t<tr><th scope=row>4/21/20</th><td> 2</td><td>2020-04-21</td><td>2020-04-21</td><td>-23</td><td> -1</td><td> 85</td><td>-22</td><td>-39</td><td>14</td></tr>\n",
              "\t<tr><th scope=row>4/22/20</th><td>14</td><td>2020-04-22</td><td>2020-04-22</td><td>-34</td><td>-13</td><td>-24</td><td>-35</td><td>-42</td><td>18</td></tr>\n",
              "\t<tr><th scope=row>4/23/20</th><td>23</td><td>2020-04-23</td><td>2020-04-23</td><td>-28</td><td> -1</td><td> 43</td><td>-26</td><td>-40</td><td>15</td></tr>\n",
              "\t<tr><th scope=row>4/24/20</th><td>13</td><td>2020-04-24</td><td>2020-04-24</td><td>-28</td><td> -3</td><td> 24</td><td>-26</td><td>-39</td><td>16</td></tr>\n",
              "</tbody>\n",
              "</table>\n"
            ]
          },
          "metadata": {
            "tags": []
          }
        }
      ]
    },
    {
      "cell_type": "markdown",
      "metadata": {
        "id": "Qje1z9a6VtCQ"
      },
      "source": [
        "Remove the redundant date columns"
      ]
    },
    {
      "cell_type": "code",
      "metadata": {
        "id": "to_ufV5KV2sq",
        "outputId": "c0ab7aeb-989c-4026-ecd0-1d95ea561064",
        "colab": {
          "base_uri": "https://localhost:8080/",
          "height": 34
        }
      },
      "source": [
        "print( paste( \"There are \", length(tb_GMCovidmycounty[1,]), \"columns\"))"
      ],
      "execution_count": 272,
      "outputs": [
        {
          "output_type": "stream",
          "text": [
            "[1] \"There are  9 columns\"\n"
          ],
          "name": "stdout"
        }
      ]
    },
    {
      "cell_type": "code",
      "metadata": {
        "id": "2nP5CcKWWuOc",
        "outputId": "6b11f23d-0979-45d1-bd29-0e30b443ffce",
        "colab": {
          "base_uri": "https://localhost:8080/",
          "height": 215
        }
      },
      "source": [
        "tb_GMCovidmycounty2  <- tb_GMCovidmycounty  %>% dplyr::select(1, 4:9) # remove column date.1\n",
        "head(tb_GMCovidmycounty2 )"
      ],
      "execution_count": 273,
      "outputs": [
        {
          "output_type": "display_data",
          "data": {
            "text/plain": [
              "        DailyCases retail_and_recreation_percent_change_from_baseline\n",
              "4/19/20  9         -41                                               \n",
              "4/20/20 11         -25                                               \n",
              "4/21/20  2         -23                                               \n",
              "4/22/20 14         -34                                               \n",
              "4/23/20 23         -28                                               \n",
              "4/24/20 13         -28                                               \n",
              "        grocery_and_pharmacy_percent_change_from_baseline\n",
              "4/19/20 -16                                              \n",
              "4/20/20  -4                                              \n",
              "4/21/20  -1                                              \n",
              "4/22/20 -13                                              \n",
              "4/23/20  -1                                              \n",
              "4/24/20  -3                                              \n",
              "        parks_percent_change_from_baseline\n",
              "4/19/20 -42                               \n",
              "4/20/20  35                               \n",
              "4/21/20  85                               \n",
              "4/22/20 -24                               \n",
              "4/23/20  43                               \n",
              "4/24/20  24                               \n",
              "        transit_stations_percent_change_from_baseline\n",
              "4/19/20 -41                                          \n",
              "4/20/20 -25                                          \n",
              "4/21/20 -22                                          \n",
              "4/22/20 -35                                          \n",
              "4/23/20 -26                                          \n",
              "4/24/20 -26                                          \n",
              "        workplaces_percent_change_from_baseline\n",
              "4/19/20 -33                                    \n",
              "4/20/20 -39                                    \n",
              "4/21/20 -39                                    \n",
              "4/22/20 -42                                    \n",
              "4/23/20 -40                                    \n",
              "4/24/20 -39                                    \n",
              "        residential_percent_change_from_baseline\n",
              "4/19/20 11                                      \n",
              "4/20/20 14                                      \n",
              "4/21/20 14                                      \n",
              "4/22/20 18                                      \n",
              "4/23/20 15                                      \n",
              "4/24/20 16                                      "
            ],
            "text/latex": "A data.frame: 6 × 7\n\\begin{tabular}{r|lllllll}\n  & DailyCases & retail\\_and\\_recreation\\_percent\\_change\\_from\\_baseline & grocery\\_and\\_pharmacy\\_percent\\_change\\_from\\_baseline & parks\\_percent\\_change\\_from\\_baseline & transit\\_stations\\_percent\\_change\\_from\\_baseline & workplaces\\_percent\\_change\\_from\\_baseline & residential\\_percent\\_change\\_from\\_baseline\\\\\n  & <dbl> & <dbl> & <dbl> & <dbl> & <dbl> & <dbl> & <dbl>\\\\\n\\hline\n\t4/19/20 &  9 & -41 & -16 & -42 & -41 & -33 & 11\\\\\n\t4/20/20 & 11 & -25 &  -4 &  35 & -25 & -39 & 14\\\\\n\t4/21/20 &  2 & -23 &  -1 &  85 & -22 & -39 & 14\\\\\n\t4/22/20 & 14 & -34 & -13 & -24 & -35 & -42 & 18\\\\\n\t4/23/20 & 23 & -28 &  -1 &  43 & -26 & -40 & 15\\\\\n\t4/24/20 & 13 & -28 &  -3 &  24 & -26 & -39 & 16\\\\\n\\end{tabular}\n",
            "text/markdown": "\nA data.frame: 6 × 7\n\n| <!--/--> | DailyCases &lt;dbl&gt; | retail_and_recreation_percent_change_from_baseline &lt;dbl&gt; | grocery_and_pharmacy_percent_change_from_baseline &lt;dbl&gt; | parks_percent_change_from_baseline &lt;dbl&gt; | transit_stations_percent_change_from_baseline &lt;dbl&gt; | workplaces_percent_change_from_baseline &lt;dbl&gt; | residential_percent_change_from_baseline &lt;dbl&gt; |\n|---|---|---|---|---|---|---|---|\n| 4/19/20 |  9 | -41 | -16 | -42 | -41 | -33 | 11 |\n| 4/20/20 | 11 | -25 |  -4 |  35 | -25 | -39 | 14 |\n| 4/21/20 |  2 | -23 |  -1 |  85 | -22 | -39 | 14 |\n| 4/22/20 | 14 | -34 | -13 | -24 | -35 | -42 | 18 |\n| 4/23/20 | 23 | -28 |  -1 |  43 | -26 | -40 | 15 |\n| 4/24/20 | 13 | -28 |  -3 |  24 | -26 | -39 | 16 |\n\n",
            "text/html": [
              "<table>\n",
              "<caption>A data.frame: 6 × 7</caption>\n",
              "<thead>\n",
              "\t<tr><th></th><th scope=col>DailyCases</th><th scope=col>retail_and_recreation_percent_change_from_baseline</th><th scope=col>grocery_and_pharmacy_percent_change_from_baseline</th><th scope=col>parks_percent_change_from_baseline</th><th scope=col>transit_stations_percent_change_from_baseline</th><th scope=col>workplaces_percent_change_from_baseline</th><th scope=col>residential_percent_change_from_baseline</th></tr>\n",
              "\t<tr><th></th><th scope=col>&lt;dbl&gt;</th><th scope=col>&lt;dbl&gt;</th><th scope=col>&lt;dbl&gt;</th><th scope=col>&lt;dbl&gt;</th><th scope=col>&lt;dbl&gt;</th><th scope=col>&lt;dbl&gt;</th><th scope=col>&lt;dbl&gt;</th></tr>\n",
              "</thead>\n",
              "<tbody>\n",
              "\t<tr><th scope=row>4/19/20</th><td> 9</td><td>-41</td><td>-16</td><td>-42</td><td>-41</td><td>-33</td><td>11</td></tr>\n",
              "\t<tr><th scope=row>4/20/20</th><td>11</td><td>-25</td><td> -4</td><td> 35</td><td>-25</td><td>-39</td><td>14</td></tr>\n",
              "\t<tr><th scope=row>4/21/20</th><td> 2</td><td>-23</td><td> -1</td><td> 85</td><td>-22</td><td>-39</td><td>14</td></tr>\n",
              "\t<tr><th scope=row>4/22/20</th><td>14</td><td>-34</td><td>-13</td><td>-24</td><td>-35</td><td>-42</td><td>18</td></tr>\n",
              "\t<tr><th scope=row>4/23/20</th><td>23</td><td>-28</td><td> -1</td><td> 43</td><td>-26</td><td>-40</td><td>15</td></tr>\n",
              "\t<tr><th scope=row>4/24/20</th><td>13</td><td>-28</td><td> -3</td><td> 24</td><td>-26</td><td>-39</td><td>16</td></tr>\n",
              "</tbody>\n",
              "</table>\n"
            ]
          },
          "metadata": {
            "tags": []
          }
        }
      ]
    },
    {
      "cell_type": "markdown",
      "metadata": {
        "id": "A8vFupKeCbBH"
      },
      "source": [
        "## Normalize the data for overlay"
      ]
    },
    {
      "cell_type": "code",
      "metadata": {
        "id": "CoG2RcBplS-h",
        "outputId": "d3acafd1-c14c-4bb9-fb91-edc839f3e5b0",
        "colab": {
          "base_uri": "https://localhost:8080/",
          "height": 215
        }
      },
      "source": [
        "tb_GMCovidmycounty_scaled <-  data.frame( scale(tb_GMCovidmycounty2) )\n",
        "head( tb_GMCovidmycounty_scaled  )"
      ],
      "execution_count": 274,
      "outputs": [
        {
          "output_type": "display_data",
          "data": {
            "text/plain": [
              "        DailyCases retail_and_recreation_percent_change_from_baseline\n",
              "4/19/20 -1.1718765 -4.020399                                         \n",
              "4/20/20 -1.1226831 -1.740344                                         \n",
              "4/21/20 -1.3440533 -1.455337                                         \n",
              "4/22/20 -1.0488931 -3.022875                                         \n",
              "4/23/20 -0.8275229 -2.167854                                         \n",
              "4/24/20 -1.0734897 -2.167854                                         \n",
              "        grocery_and_pharmacy_percent_change_from_baseline\n",
              "4/19/20 -2.9586425                                       \n",
              "4/20/20 -0.9123869                                       \n",
              "4/21/20 -0.4008230                                       \n",
              "4/22/20 -2.4470786                                       \n",
              "4/23/20 -0.4008230                                       \n",
              "4/24/20 -0.7418656                                       \n",
              "        parks_percent_change_from_baseline\n",
              "4/19/20 -3.1516912                        \n",
              "4/20/20 -0.6338057                        \n",
              "4/21/20  1.0011848                        \n",
              "4/22/20 -2.5630946                        \n",
              "4/23/20 -0.3722073                        \n",
              "4/24/20 -0.9935037                        \n",
              "        transit_stations_percent_change_from_baseline\n",
              "4/19/20 -4.138457                                    \n",
              "4/20/20 -1.604596                                    \n",
              "4/21/20 -1.129497                                    \n",
              "4/22/20 -3.188259                                    \n",
              "4/23/20 -1.762963                                    \n",
              "4/24/20 -1.762963                                    \n",
              "        workplaces_percent_change_from_baseline\n",
              "4/19/20 -0.3936434                             \n",
              "4/20/20 -1.0673543                             \n",
              "4/21/20 -1.0673543                             \n",
              "4/22/20 -1.4042098                             \n",
              "4/23/20 -1.1796395                             \n",
              "4/24/20 -1.0673543                             \n",
              "        residential_percent_change_from_baseline\n",
              "4/19/20 0.9288212                               \n",
              "4/20/20 1.7839264                               \n",
              "4/21/20 1.7839264                               \n",
              "4/22/20 2.9240666                               \n",
              "4/23/20 2.0689614                               \n",
              "4/24/20 2.3539965                               "
            ],
            "text/latex": "A data.frame: 6 × 7\n\\begin{tabular}{r|lllllll}\n  & DailyCases & retail\\_and\\_recreation\\_percent\\_change\\_from\\_baseline & grocery\\_and\\_pharmacy\\_percent\\_change\\_from\\_baseline & parks\\_percent\\_change\\_from\\_baseline & transit\\_stations\\_percent\\_change\\_from\\_baseline & workplaces\\_percent\\_change\\_from\\_baseline & residential\\_percent\\_change\\_from\\_baseline\\\\\n  & <dbl> & <dbl> & <dbl> & <dbl> & <dbl> & <dbl> & <dbl>\\\\\n\\hline\n\t4/19/20 & -1.1718765 & -4.020399 & -2.9586425 & -3.1516912 & -4.138457 & -0.3936434 & 0.9288212\\\\\n\t4/20/20 & -1.1226831 & -1.740344 & -0.9123869 & -0.6338057 & -1.604596 & -1.0673543 & 1.7839264\\\\\n\t4/21/20 & -1.3440533 & -1.455337 & -0.4008230 &  1.0011848 & -1.129497 & -1.0673543 & 1.7839264\\\\\n\t4/22/20 & -1.0488931 & -3.022875 & -2.4470786 & -2.5630946 & -3.188259 & -1.4042098 & 2.9240666\\\\\n\t4/23/20 & -0.8275229 & -2.167854 & -0.4008230 & -0.3722073 & -1.762963 & -1.1796395 & 2.0689614\\\\\n\t4/24/20 & -1.0734897 & -2.167854 & -0.7418656 & -0.9935037 & -1.762963 & -1.0673543 & 2.3539965\\\\\n\\end{tabular}\n",
            "text/markdown": "\nA data.frame: 6 × 7\n\n| <!--/--> | DailyCases &lt;dbl&gt; | retail_and_recreation_percent_change_from_baseline &lt;dbl&gt; | grocery_and_pharmacy_percent_change_from_baseline &lt;dbl&gt; | parks_percent_change_from_baseline &lt;dbl&gt; | transit_stations_percent_change_from_baseline &lt;dbl&gt; | workplaces_percent_change_from_baseline &lt;dbl&gt; | residential_percent_change_from_baseline &lt;dbl&gt; |\n|---|---|---|---|---|---|---|---|\n| 4/19/20 | -1.1718765 | -4.020399 | -2.9586425 | -3.1516912 | -4.138457 | -0.3936434 | 0.9288212 |\n| 4/20/20 | -1.1226831 | -1.740344 | -0.9123869 | -0.6338057 | -1.604596 | -1.0673543 | 1.7839264 |\n| 4/21/20 | -1.3440533 | -1.455337 | -0.4008230 |  1.0011848 | -1.129497 | -1.0673543 | 1.7839264 |\n| 4/22/20 | -1.0488931 | -3.022875 | -2.4470786 | -2.5630946 | -3.188259 | -1.4042098 | 2.9240666 |\n| 4/23/20 | -0.8275229 | -2.167854 | -0.4008230 | -0.3722073 | -1.762963 | -1.1796395 | 2.0689614 |\n| 4/24/20 | -1.0734897 | -2.167854 | -0.7418656 | -0.9935037 | -1.762963 | -1.0673543 | 2.3539965 |\n\n",
            "text/html": [
              "<table>\n",
              "<caption>A data.frame: 6 × 7</caption>\n",
              "<thead>\n",
              "\t<tr><th></th><th scope=col>DailyCases</th><th scope=col>retail_and_recreation_percent_change_from_baseline</th><th scope=col>grocery_and_pharmacy_percent_change_from_baseline</th><th scope=col>parks_percent_change_from_baseline</th><th scope=col>transit_stations_percent_change_from_baseline</th><th scope=col>workplaces_percent_change_from_baseline</th><th scope=col>residential_percent_change_from_baseline</th></tr>\n",
              "\t<tr><th></th><th scope=col>&lt;dbl&gt;</th><th scope=col>&lt;dbl&gt;</th><th scope=col>&lt;dbl&gt;</th><th scope=col>&lt;dbl&gt;</th><th scope=col>&lt;dbl&gt;</th><th scope=col>&lt;dbl&gt;</th><th scope=col>&lt;dbl&gt;</th></tr>\n",
              "</thead>\n",
              "<tbody>\n",
              "\t<tr><th scope=row>4/19/20</th><td>-1.1718765</td><td>-4.020399</td><td>-2.9586425</td><td>-3.1516912</td><td>-4.138457</td><td>-0.3936434</td><td>0.9288212</td></tr>\n",
              "\t<tr><th scope=row>4/20/20</th><td>-1.1226831</td><td>-1.740344</td><td>-0.9123869</td><td>-0.6338057</td><td>-1.604596</td><td>-1.0673543</td><td>1.7839264</td></tr>\n",
              "\t<tr><th scope=row>4/21/20</th><td>-1.3440533</td><td>-1.455337</td><td>-0.4008230</td><td> 1.0011848</td><td>-1.129497</td><td>-1.0673543</td><td>1.7839264</td></tr>\n",
              "\t<tr><th scope=row>4/22/20</th><td>-1.0488931</td><td>-3.022875</td><td>-2.4470786</td><td>-2.5630946</td><td>-3.188259</td><td>-1.4042098</td><td>2.9240666</td></tr>\n",
              "\t<tr><th scope=row>4/23/20</th><td>-0.8275229</td><td>-2.167854</td><td>-0.4008230</td><td>-0.3722073</td><td>-1.762963</td><td>-1.1796395</td><td>2.0689614</td></tr>\n",
              "\t<tr><th scope=row>4/24/20</th><td>-1.0734897</td><td>-2.167854</td><td>-0.7418656</td><td>-0.9935037</td><td>-1.762963</td><td>-1.0673543</td><td>2.3539965</td></tr>\n",
              "</tbody>\n",
              "</table>\n"
            ]
          },
          "metadata": {
            "tags": []
          }
        }
      ]
    },
    {
      "cell_type": "code",
      "metadata": {
        "id": "nHb8HsLOWxcJ",
        "outputId": "192a2a27-1e46-41fa-f4b1-3a513a849426",
        "colab": {
          "base_uri": "https://localhost:8080/",
          "height": 316
        }
      },
      "source": [
        "# add the date column back\n",
        "tb_GMCovidmycounty_scaled$date = mdy(row.names(tb_GMCovidmycounty_scaled))\n",
        "head( tb_GMCovidmycounty_scaled  )"
      ],
      "execution_count": 275,
      "outputs": [
        {
          "output_type": "display_data",
          "data": {
            "text/plain": [
              "        DailyCases retail_and_recreation_percent_change_from_baseline\n",
              "4/19/20 -1.1718765 -4.020399                                         \n",
              "4/20/20 -1.1226831 -1.740344                                         \n",
              "4/21/20 -1.3440533 -1.455337                                         \n",
              "4/22/20 -1.0488931 -3.022875                                         \n",
              "4/23/20 -0.8275229 -2.167854                                         \n",
              "4/24/20 -1.0734897 -2.167854                                         \n",
              "        grocery_and_pharmacy_percent_change_from_baseline\n",
              "4/19/20 -2.9586425                                       \n",
              "4/20/20 -0.9123869                                       \n",
              "4/21/20 -0.4008230                                       \n",
              "4/22/20 -2.4470786                                       \n",
              "4/23/20 -0.4008230                                       \n",
              "4/24/20 -0.7418656                                       \n",
              "        parks_percent_change_from_baseline\n",
              "4/19/20 -3.1516912                        \n",
              "4/20/20 -0.6338057                        \n",
              "4/21/20  1.0011848                        \n",
              "4/22/20 -2.5630946                        \n",
              "4/23/20 -0.3722073                        \n",
              "4/24/20 -0.9935037                        \n",
              "        transit_stations_percent_change_from_baseline\n",
              "4/19/20 -4.138457                                    \n",
              "4/20/20 -1.604596                                    \n",
              "4/21/20 -1.129497                                    \n",
              "4/22/20 -3.188259                                    \n",
              "4/23/20 -1.762963                                    \n",
              "4/24/20 -1.762963                                    \n",
              "        workplaces_percent_change_from_baseline\n",
              "4/19/20 -0.3936434                             \n",
              "4/20/20 -1.0673543                             \n",
              "4/21/20 -1.0673543                             \n",
              "4/22/20 -1.4042098                             \n",
              "4/23/20 -1.1796395                             \n",
              "4/24/20 -1.0673543                             \n",
              "        residential_percent_change_from_baseline date      \n",
              "4/19/20 0.9288212                                2020-04-19\n",
              "4/20/20 1.7839264                                2020-04-20\n",
              "4/21/20 1.7839264                                2020-04-21\n",
              "4/22/20 2.9240666                                2020-04-22\n",
              "4/23/20 2.0689614                                2020-04-23\n",
              "4/24/20 2.3539965                                2020-04-24"
            ],
            "text/latex": "A data.frame: 6 × 8\n\\begin{tabular}{r|llllllll}\n  & DailyCases & retail\\_and\\_recreation\\_percent\\_change\\_from\\_baseline & grocery\\_and\\_pharmacy\\_percent\\_change\\_from\\_baseline & parks\\_percent\\_change\\_from\\_baseline & transit\\_stations\\_percent\\_change\\_from\\_baseline & workplaces\\_percent\\_change\\_from\\_baseline & residential\\_percent\\_change\\_from\\_baseline & date\\\\\n  & <dbl> & <dbl> & <dbl> & <dbl> & <dbl> & <dbl> & <dbl> & <date>\\\\\n\\hline\n\t4/19/20 & -1.1718765 & -4.020399 & -2.9586425 & -3.1516912 & -4.138457 & -0.3936434 & 0.9288212 & 2020-04-19\\\\\n\t4/20/20 & -1.1226831 & -1.740344 & -0.9123869 & -0.6338057 & -1.604596 & -1.0673543 & 1.7839264 & 2020-04-20\\\\\n\t4/21/20 & -1.3440533 & -1.455337 & -0.4008230 &  1.0011848 & -1.129497 & -1.0673543 & 1.7839264 & 2020-04-21\\\\\n\t4/22/20 & -1.0488931 & -3.022875 & -2.4470786 & -2.5630946 & -3.188259 & -1.4042098 & 2.9240666 & 2020-04-22\\\\\n\t4/23/20 & -0.8275229 & -2.167854 & -0.4008230 & -0.3722073 & -1.762963 & -1.1796395 & 2.0689614 & 2020-04-23\\\\\n\t4/24/20 & -1.0734897 & -2.167854 & -0.7418656 & -0.9935037 & -1.762963 & -1.0673543 & 2.3539965 & 2020-04-24\\\\\n\\end{tabular}\n",
            "text/markdown": "\nA data.frame: 6 × 8\n\n| <!--/--> | DailyCases &lt;dbl&gt; | retail_and_recreation_percent_change_from_baseline &lt;dbl&gt; | grocery_and_pharmacy_percent_change_from_baseline &lt;dbl&gt; | parks_percent_change_from_baseline &lt;dbl&gt; | transit_stations_percent_change_from_baseline &lt;dbl&gt; | workplaces_percent_change_from_baseline &lt;dbl&gt; | residential_percent_change_from_baseline &lt;dbl&gt; | date &lt;date&gt; |\n|---|---|---|---|---|---|---|---|---|\n| 4/19/20 | -1.1718765 | -4.020399 | -2.9586425 | -3.1516912 | -4.138457 | -0.3936434 | 0.9288212 | 2020-04-19 |\n| 4/20/20 | -1.1226831 | -1.740344 | -0.9123869 | -0.6338057 | -1.604596 | -1.0673543 | 1.7839264 | 2020-04-20 |\n| 4/21/20 | -1.3440533 | -1.455337 | -0.4008230 |  1.0011848 | -1.129497 | -1.0673543 | 1.7839264 | 2020-04-21 |\n| 4/22/20 | -1.0488931 | -3.022875 | -2.4470786 | -2.5630946 | -3.188259 | -1.4042098 | 2.9240666 | 2020-04-22 |\n| 4/23/20 | -0.8275229 | -2.167854 | -0.4008230 | -0.3722073 | -1.762963 | -1.1796395 | 2.0689614 | 2020-04-23 |\n| 4/24/20 | -1.0734897 | -2.167854 | -0.7418656 | -0.9935037 | -1.762963 | -1.0673543 | 2.3539965 | 2020-04-24 |\n\n",
            "text/html": [
              "<table>\n",
              "<caption>A data.frame: 6 × 8</caption>\n",
              "<thead>\n",
              "\t<tr><th></th><th scope=col>DailyCases</th><th scope=col>retail_and_recreation_percent_change_from_baseline</th><th scope=col>grocery_and_pharmacy_percent_change_from_baseline</th><th scope=col>parks_percent_change_from_baseline</th><th scope=col>transit_stations_percent_change_from_baseline</th><th scope=col>workplaces_percent_change_from_baseline</th><th scope=col>residential_percent_change_from_baseline</th><th scope=col>date</th></tr>\n",
              "\t<tr><th></th><th scope=col>&lt;dbl&gt;</th><th scope=col>&lt;dbl&gt;</th><th scope=col>&lt;dbl&gt;</th><th scope=col>&lt;dbl&gt;</th><th scope=col>&lt;dbl&gt;</th><th scope=col>&lt;dbl&gt;</th><th scope=col>&lt;dbl&gt;</th><th scope=col>&lt;date&gt;</th></tr>\n",
              "</thead>\n",
              "<tbody>\n",
              "\t<tr><th scope=row>4/19/20</th><td>-1.1718765</td><td>-4.020399</td><td>-2.9586425</td><td>-3.1516912</td><td>-4.138457</td><td>-0.3936434</td><td>0.9288212</td><td>2020-04-19</td></tr>\n",
              "\t<tr><th scope=row>4/20/20</th><td>-1.1226831</td><td>-1.740344</td><td>-0.9123869</td><td>-0.6338057</td><td>-1.604596</td><td>-1.0673543</td><td>1.7839264</td><td>2020-04-20</td></tr>\n",
              "\t<tr><th scope=row>4/21/20</th><td>-1.3440533</td><td>-1.455337</td><td>-0.4008230</td><td> 1.0011848</td><td>-1.129497</td><td>-1.0673543</td><td>1.7839264</td><td>2020-04-21</td></tr>\n",
              "\t<tr><th scope=row>4/22/20</th><td>-1.0488931</td><td>-3.022875</td><td>-2.4470786</td><td>-2.5630946</td><td>-3.188259</td><td>-1.4042098</td><td>2.9240666</td><td>2020-04-22</td></tr>\n",
              "\t<tr><th scope=row>4/23/20</th><td>-0.8275229</td><td>-2.167854</td><td>-0.4008230</td><td>-0.3722073</td><td>-1.762963</td><td>-1.1796395</td><td>2.0689614</td><td>2020-04-23</td></tr>\n",
              "\t<tr><th scope=row>4/24/20</th><td>-1.0734897</td><td>-2.167854</td><td>-0.7418656</td><td>-0.9935037</td><td>-1.762963</td><td>-1.0673543</td><td>2.3539965</td><td>2020-04-24</td></tr>\n",
              "</tbody>\n",
              "</table>\n"
            ]
          },
          "metadata": {
            "tags": []
          }
        }
      ]
    },
    {
      "cell_type": "markdown",
      "metadata": {
        "id": "dNDhOiBAxuGb"
      },
      "source": [
        "## Overlay mobility,and daily cases"
      ]
    },
    {
      "cell_type": "code",
      "metadata": {
        "id": "MLiXNWaPWxmd",
        "outputId": "3c8a5f37-d7d5-44a5-9892-602b53b47c8f",
        "colab": {
          "base_uri": "https://localhost:8080/",
          "height": 84
        }
      },
      "source": [
        "names(tb_GMCovidmycounty_scaled )"
      ],
      "execution_count": 276,
      "outputs": [
        {
          "output_type": "display_data",
          "data": {
            "text/plain": [
              "[1] \"DailyCases\"                                        \n",
              "[2] \"retail_and_recreation_percent_change_from_baseline\"\n",
              "[3] \"grocery_and_pharmacy_percent_change_from_baseline\" \n",
              "[4] \"parks_percent_change_from_baseline\"                \n",
              "[5] \"transit_stations_percent_change_from_baseline\"     \n",
              "[6] \"workplaces_percent_change_from_baseline\"           \n",
              "[7] \"residential_percent_change_from_baseline\"          \n",
              "[8] \"date\"                                              "
            ],
            "text/latex": "\\begin{enumerate*}\n\\item 'DailyCases'\n\\item 'retail\\_and\\_recreation\\_percent\\_change\\_from\\_baseline'\n\\item 'grocery\\_and\\_pharmacy\\_percent\\_change\\_from\\_baseline'\n\\item 'parks\\_percent\\_change\\_from\\_baseline'\n\\item 'transit\\_stations\\_percent\\_change\\_from\\_baseline'\n\\item 'workplaces\\_percent\\_change\\_from\\_baseline'\n\\item 'residential\\_percent\\_change\\_from\\_baseline'\n\\item 'date'\n\\end{enumerate*}\n",
            "text/markdown": "1. 'DailyCases'\n2. 'retail_and_recreation_percent_change_from_baseline'\n3. 'grocery_and_pharmacy_percent_change_from_baseline'\n4. 'parks_percent_change_from_baseline'\n5. 'transit_stations_percent_change_from_baseline'\n6. 'workplaces_percent_change_from_baseline'\n7. 'residential_percent_change_from_baseline'\n8. 'date'\n\n\n",
            "text/html": [
              "<style>\n",
              ".list-inline {list-style: none; margin:0; padding: 0}\n",
              ".list-inline>li {display: inline-block}\n",
              ".list-inline>li:not(:last-child)::after {content: \"\\00b7\"; padding: 0 .5ex}\n",
              "</style>\n",
              "<ol class=list-inline><li>'DailyCases'</li><li>'retail_and_recreation_percent_change_from_baseline'</li><li>'grocery_and_pharmacy_percent_change_from_baseline'</li><li>'parks_percent_change_from_baseline'</li><li>'transit_stations_percent_change_from_baseline'</li><li>'workplaces_percent_change_from_baseline'</li><li>'residential_percent_change_from_baseline'</li><li>'date'</li></ol>\n"
            ]
          },
          "metadata": {
            "tags": []
          }
        }
      ]
    },
    {
      "cell_type": "code",
      "metadata": {
        "id": "PEgOr6Qko4PX",
        "outputId": "7a709d18-eb6d-47db-8304-732e917ddf3d",
        "colab": {
          "base_uri": "https://localhost:8080/",
          "height": 470
        }
      },
      "source": [
        "selected_columns = c('DailyCases','workplaces_percent_change_from_baseline','residential_percent_change_from_baseline')\n",
        "\n",
        "df_melt <- melt(tb_GMCovidmycounty_scaled, measure.vars=selected_columns, value.names=\"Values\", varialbe.name=\"varialbe\" )\n",
        "ggplot(df_melt, aes(x=date, y=value, color=variable)) + stat_smooth(span=0.3)\n"
      ],
      "execution_count": 277,
      "outputs": [
        {
          "output_type": "stream",
          "text": [
            "`geom_smooth()` using method = 'loess' and formula 'y ~ x'\n",
            "\n"
          ],
          "name": "stderr"
        },
        {
          "output_type": "display_data",
          "data": {
            "image/png": "[encoded data removed]",
            "text/plain": [
              "plot without title"
            ]
          },
          "metadata": {
            "tags": [],
            "image/png": {
              "width": 420,
              "height": 420
            }
          }
        }
      ]
    },
    {
      "cell_type": "code",
      "metadata": {
        "id": "fW8uT93lvvsk"
      },
      "source": [
        ""
      ],
      "execution_count": 278,
      "outputs": []
    },
    {
      "cell_type": "code",
      "metadata": {
        "id": "Qm2ZIwF5yPLt",
        "outputId": "79f2deee-831c-4804-b72b-a785f3264d1f",
        "colab": {
          "base_uri": "https://localhost:8080/",
          "height": 823
        }
      },
      "source": [
        "summary(tb_GMCovidmycounty2)"
      ],
      "execution_count": 279,
      "outputs": [
        {
          "output_type": "display_data",
          "data": {
            "text/plain": [
              "   DailyCases     retail_and_recreation_percent_change_from_baseline\n",
              " Min.   :  0.00   Min.   :-41.00                                    \n",
              " 1st Qu.: 18.50   1st Qu.:-16.00                                    \n",
              " Median : 55.00   Median :-12.00                                    \n",
              " Mean   : 56.64   Mean   :-12.79                                    \n",
              " 3rd Qu.: 81.00   3rd Qu.: -8.00                                    \n",
              " Max.   :215.00   Max.   :  3.00                                    \n",
              "                                                                    \n",
              " grocery_and_pharmacy_percent_change_from_baseline\n",
              " Min.   :-16.000                                  \n",
              " 1st Qu.: -2.000                                  \n",
              " Median :  1.500                                  \n",
              " Mean   :  1.351                                  \n",
              " 3rd Qu.:  6.000                                  \n",
              " Max.   : 18.000                                  \n",
              "                                                  \n",
              " parks_percent_change_from_baseline\n",
              " Min.   :-42.00                    \n",
              " 1st Qu.: 38.00                    \n",
              " Median : 54.00                    \n",
              " Mean   : 54.38                    \n",
              " 3rd Qu.: 76.00                    \n",
              " Max.   :126.00                    \n",
              " NA's   :25                        \n",
              " transit_stations_percent_change_from_baseline\n",
              " Min.   :-41.00                               \n",
              " 1st Qu.:-18.75                               \n",
              " Median :-13.00                               \n",
              " Mean   :-14.87                               \n",
              " 3rd Qu.:-11.00                               \n",
              " Max.   : -5.00                               \n",
              "                                              \n",
              " workplaces_percent_change_from_baseline\n",
              " Min.   :-70.00                         \n",
              " 1st Qu.:-34.00                         \n",
              " Median :-32.00                         \n",
              " Mean   :-29.49                         \n",
              " 3rd Qu.:-24.25                         \n",
              " Max.   : -9.00                         \n",
              "                                        \n",
              " residential_percent_change_from_baseline\n",
              " Min.   : 1.000                          \n",
              " 1st Qu.: 5.000                          \n",
              " Median : 8.000                          \n",
              " Mean   : 7.741                          \n",
              " 3rd Qu.:10.000                          \n",
              " Max.   :18.000                          \n",
              "                                         "
            ]
          },
          "metadata": {
            "tags": []
          }
        }
      ]
    },
    {
      "cell_type": "code",
      "metadata": {
        "id": "0hEmqVu0ymE3",
        "outputId": "e7334b86-e327-4255-9fda-06ef55372823",
        "colab": {
          "base_uri": "https://localhost:8080/",
          "height": 146
        }
      },
      "source": [
        "ggplot(  tb_GMCovidWeatherHCTN2, aes(x=temp, y=workplaceMobility)) + geom_point() + stat_smooth()"
      ],
      "execution_count": 280,
      "outputs": [
        {
          "output_type": "error",
          "ename": "ERROR",
          "evalue": "ignored",
          "traceback": [
            "Error in ggplot(tb_GMCovidWeatherHCTN2, aes(x = temp, y = workplaceMobility)): object 'tb_GMCovidWeatherHCTN2' not found\nTraceback:\n",
            "1. ggplot(tb_GMCovidWeatherHCTN2, aes(x = temp, y = workplaceMobility))"
          ]
        }
      ]
    },
    {
      "cell_type": "code",
      "metadata": {
        "id": "XFDnbn3ayPPE"
      },
      "source": [
        "ggplot(  tb_GMCovidWeatherHCTN2, aes(x=temp, y=residentialMobility)) + geom_point() + stat_smooth()"
      ],
      "execution_count": null,
      "outputs": []
    },
    {
      "cell_type": "code",
      "metadata": {
        "id": "J2gKWEGsyPTS"
      },
      "source": [
        ""
      ],
      "execution_count": null,
      "outputs": []
    },
    {
      "cell_type": "code",
      "metadata": {
        "id": "2IOKDODIt_E8"
      },
      "source": [
        "#Part 7. Apple Mobility "
      ],
      "execution_count": null,
      "outputs": []
    },
    {
      "cell_type": "markdown",
      "metadata": {
        "id": "Yrex8LMDxfRV"
      },
      "source": [
        "# Part 4. Does the weather correlared with Covid19 at Hamilton County?  "
      ]
    },
    {
      "cell_type": "markdown",
      "metadata": {
        "id": "6HQYBsdZ9rhM"
      },
      "source": [
        "### Get weather data from Lovell airport"
      ]
    },
    {
      "cell_type": "code",
      "metadata": {
        "id": "GwNRHmVXUIyR"
      },
      "source": [
        "install.packages(\"worldmet\", lib='/content')"
      ],
      "execution_count": null,
      "outputs": []
    },
    {
      "cell_type": "code",
      "metadata": {
        "id": "H5JJdehoUI7Y"
      },
      "source": [
        "library(worldmet, lib.loc=\"/content\")"
      ],
      "execution_count": null,
      "outputs": []
    },
    {
      "cell_type": "code",
      "metadata": {
        "id": "S7QMJTwSUPZc"
      },
      "source": [
        "#getMeta(site = \"LOVELL\")"
      ],
      "execution_count": null,
      "outputs": []
    },
    {
      "cell_type": "code",
      "metadata": {
        "id": "K8j9CR27UPc4"
      },
      "source": [
        "info <- getMeta(lat = 35, lon = -85) #Chattanooga TN\n",
        "info"
      ],
      "execution_count": null,
      "outputs": []
    },
    {
      "cell_type": "markdown",
      "metadata": {
        "id": "347_uFOwr5H8"
      },
      "source": [
        "See https://rdrr.io/cran/worldmet/man/importNOAA.html "
      ]
    },
    {
      "cell_type": "code",
      "metadata": {
        "id": "zKGmOJstUPjF"
      },
      "source": [
        "weatherLovell <- importNOAA(code = \"723240-13882\", year = 2020)\n",
        "head(weatherLovell)"
      ],
      "execution_count": null,
      "outputs": []
    },
    {
      "cell_type": "code",
      "metadata": {
        "id": "oXsbpckNUPgw"
      },
      "source": [
        "names(weatherLovell)"
      ],
      "execution_count": null,
      "outputs": []
    },
    {
      "cell_type": "code",
      "metadata": {
        "id": "ck6A3-3Tpp03"
      },
      "source": [
        "library(ggplot2)\n",
        "ggplot(weatherLovell, aes(x=date,y=dew_point)) + geom_line() + stat_smooth(span=0.3)"
      ],
      "execution_count": null,
      "outputs": []
    },
    {
      "cell_type": "code",
      "metadata": {
        "id": "ohbqxnGwTMyp"
      },
      "source": [
        "ggplot(weatherLovell, aes(x=date,y=air_temp)) + geom_line() + stat_smooth(span=0.3)"
      ],
      "execution_count": null,
      "outputs": []
    },
    {
      "cell_type": "code",
      "metadata": {
        "id": "yJeHYR4WTLl-"
      },
      "source": [
        ""
      ],
      "execution_count": null,
      "outputs": []
    },
    {
      "cell_type": "code",
      "metadata": {
        "id": "FDNMKipw6mtA"
      },
      "source": [
        "weatherLovell2 <- weatherLovell %>% dplyr::select( c('date', 'air_temp', 'dew_point', 'RH'))"
      ],
      "execution_count": null,
      "outputs": []
    },
    {
      "cell_type": "markdown",
      "metadata": {
        "id": "__d9Jn9Q9zKR"
      },
      "source": [
        "### Reformate dates"
      ]
    },
    {
      "cell_type": "code",
      "metadata": {
        "id": "sUyr8yz59Ajo"
      },
      "source": [
        "library(lubridate)"
      ],
      "execution_count": null,
      "outputs": []
    },
    {
      "cell_type": "code",
      "metadata": {
        "id": "RQKN44V182jO"
      },
      "source": [
        "clean_dates = gsub( \" UTC \", \"\", weatherLovell2$date)\n",
        "\n",
        "weatherLovell2$YMD = as.Date(clean_dates)\n",
        "head(weatherLovell2$YMD)"
      ],
      "execution_count": null,
      "outputs": []
    },
    {
      "cell_type": "code",
      "metadata": {
        "id": "bMofh7bM9gjJ"
      },
      "source": [
        "weatherLovell3 <- weatherLovell2 %>% group_by( YMD ) %>% summarise_if( is.numeric, mean, na.rm=TRUE)\n",
        "\n",
        "head( weatherLovell3 )"
      ],
      "execution_count": null,
      "outputs": []
    },
    {
      "cell_type": "code",
      "metadata": {
        "id": "IfF11IUIUdFf"
      },
      "source": [
        "?cc\n",
        "#example(ccf)"
      ],
      "execution_count": null,
      "outputs": []
    },
    {
      "cell_type": "code",
      "metadata": {
        "id": "fJZQpBOMU0op"
      },
      "source": [
        ""
      ],
      "execution_count": null,
      "outputs": []
    },
    {
      "cell_type": "code",
      "metadata": {
        "id": "isPV84CGUbmn"
      },
      "source": [
        "ccf( weatherLovell3$air_temp,weatherLovell3$dew_point, lag.max=0, type=\"correlation\", na.action = na.pass)"
      ],
      "execution_count": null,
      "outputs": []
    },
    {
      "cell_type": "markdown",
      "metadata": {
        "id": "sBKsEoVlcFqA"
      },
      "source": [
        "### Plot weather"
      ]
    },
    {
      "cell_type": "code",
      "metadata": {
        "id": "C1V0I8MScKNY"
      },
      "source": [
        "df_tmp <- melt(weatherLovell3, measure.vars = c(\"air_temp\", \"dew_point\", \"RH\"), value.name = 'Measurements', variable.name = 'WeatherConditions')\n",
        "head(df_tmp)\n",
        "ggplot(df_tmp, aes(x=YMD, y=Measurements, color=WeatherConditions)) + geom_point() + stat_smooth(span=0.15)"
      ],
      "execution_count": null,
      "outputs": []
    },
    {
      "cell_type": "markdown",
      "metadata": {
        "id": "26gMlXwmAD-E"
      },
      "source": [
        "### Merge weather data with Covid19 data for Hamilton, TN"
      ]
    },
    {
      "cell_type": "code",
      "metadata": {
        "id": "Q5GHDXST9gm2"
      },
      "source": [
        "tb_daily_sub = data.frame( apply(tb_sub[,1:2], 2, diff) )\n",
        "tb_daily_sub$YMD = mdy(row.names(tb_daily_sub))\n",
        "\n",
        "head(tb_daily_sub)"
      ],
      "execution_count": null,
      "outputs": []
    },
    {
      "cell_type": "code",
      "metadata": {
        "id": "ODke-yctAAL0"
      },
      "source": [
        "tb_HCTN =   merge(x=tb_daily_sub, y=weatherLovell3, by= 'YMD', all.y=FALSE)\n",
        "tail(tb_HCTN)"
      ],
      "execution_count": null,
      "outputs": []
    },
    {
      "cell_type": "code",
      "metadata": {
        "id": "awTQN1-oAAQg"
      },
      "source": [
        "tb_HCTN2 <- tb_HCTN %>% \n",
        "  dplyr::select( c(1,2,4:6)) %>%\n",
        "  dplyr::filter( between(YMD, mdy('4/1/20'), mdy('10/1/20')))\n",
        "  \n",
        "names(tb_HCTN2) = c(\"date\", \"dailyCases\", \"temp\", \"dew_point\", \"RH\")\n",
        "head( tb_HCTN2 )\n",
        "\n",
        "tb_HCTN2$dailyCases[ tb_HCTN2$dailyCases<0 ] = 0"
      ],
      "execution_count": null,
      "outputs": []
    },
    {
      "cell_type": "markdown",
      "metadata": {
        "id": "ufTnJLVOdaG4"
      },
      "source": [
        "### plot cases and weather"
      ]
    },
    {
      "cell_type": "code",
      "metadata": {
        "id": "xerQ9iRHG_60"
      },
      "source": [
        "tb_HCTN2_scaled = data.frame( as.matrix(scale(tb_HCTN2[,2:5])) )\n",
        "tb_HCTN2_scaled$date = tb_HCTN2$date\n",
        "head(tb_HCTN2_scaled)\n",
        "\n",
        "#df_tmp <- melt(tb_HCTN2_scaled, measure.vars = c(\"dailyCases\", \"temp\", \"dew_point\", \"RH\"), value.name = 'Measurements', variable.name = 'Types')\n",
        "df_tmp <- melt(tb_HCTN2_scaled, measure.vars = c(\"dailyCases\", \"temp\"), value.name = 'Measurements', variable.name = 'Types')\n",
        "head(df_tmp)\n",
        "ggplot(df_tmp, aes(x=date, y=Measurements, color=Types)) + stat_smooth(span=0.3)"
      ],
      "execution_count": null,
      "outputs": []
    },
    {
      "cell_type": "code",
      "metadata": {
        "id": "gdyIPU-9e5Lm"
      },
      "source": [
        "scale(tb_HCTN2[,2:5])"
      ],
      "execution_count": null,
      "outputs": []
    },
    {
      "cell_type": "code",
      "metadata": {
        "id": "1CVvvkiPe51a"
      },
      "source": [
        ""
      ],
      "execution_count": null,
      "outputs": []
    },
    {
      "cell_type": "code",
      "metadata": {
        "id": "Y61dNY48e560"
      },
      "source": [
        ""
      ],
      "execution_count": null,
      "outputs": []
    },
    {
      "cell_type": "code",
      "metadata": {
        "id": "2_g6Bm2hI9rG"
      },
      "source": [
        "ggplot(tb_HCTN2, aes(x=date,y=dew_point)) + geom_point() + stat_smooth(span=0.4)"
      ],
      "execution_count": null,
      "outputs": []
    },
    {
      "cell_type": "code",
      "metadata": {
        "id": "TduZqAUvJ_pz"
      },
      "source": [
        "ggplot(tb_HCTN2, aes(x=date,y=RH)) + geom_point() + stat_smooth(span=0.2)"
      ],
      "execution_count": null,
      "outputs": []
    },
    {
      "cell_type": "markdown",
      "metadata": {
        "id": "-445NGIGyAfa"
      },
      "source": [
        "### Cross correlation"
      ]
    },
    {
      "cell_type": "code",
      "metadata": {
        "id": "WYxPBpYwAAI9"
      },
      "source": [
        "ccf( tb_HCTN2$dailyCases, tb_HCTN2$dew_point, lag.max=30, type=\"correlation\", na.action = na.pass)"
      ],
      "execution_count": null,
      "outputs": []
    },
    {
      "cell_type": "code",
      "metadata": {
        "id": "aa5Ay0T5C1BS"
      },
      "source": [
        "ccf( tb_HCTN2$dew_point, tb_HCTN2$dailyCases,  lag.max=30, type=\"correlation\", na.action = na.pass)"
      ],
      "execution_count": null,
      "outputs": []
    },
    {
      "cell_type": "code",
      "metadata": {
        "id": "j4vFlCn8C_nC"
      },
      "source": [
        "ccf( tb_HCTN2$dailyCases, tb_HCTN2$dailyCases,  lag.max=30, type=\"correlation\", na.action = na.pass)"
      ],
      "execution_count": null,
      "outputs": []
    },
    {
      "cell_type": "code",
      "metadata": {
        "id": "tXbMX_miDMfS"
      },
      "source": [
        ""
      ],
      "execution_count": null,
      "outputs": []
    },
    {
      "cell_type": "code",
      "metadata": {
        "id": "SvaS4VoSBnOd"
      },
      "source": [
        "ccf( tb_HCTN2[,2], tb_HCTN2$RH, lag.max=30, type=\"correlation\")"
      ],
      "execution_count": null,
      "outputs": []
    },
    {
      "cell_type": "code",
      "metadata": {
        "id": "Xc-H4X5pBnVA"
      },
      "source": [
        "ccf( tb_HCTN2$RH, tb_HCTN2$dew_point, lag.max=25, type=\"correlation\") #RH and dew_point is highly correlated"
      ],
      "execution_count": null,
      "outputs": []
    },
    {
      "cell_type": "code",
      "metadata": {
        "id": "Dt9QSXNlRcJ4"
      },
      "source": [
        "acf(tb_HCTN$temp,  type=\"correlation\")"
      ],
      "execution_count": null,
      "outputs": []
    },
    {
      "cell_type": "code",
      "metadata": {
        "id": "KG7GFZK9BnSR"
      },
      "source": [
        "obj = ccf( tb_HCTN2[,2], tb_HCTN2$temp, lag.max=25, type=\"correlation\")\n",
        "str(obj)"
      ],
      "execution_count": null,
      "outputs": []
    },
    {
      "cell_type": "code",
      "metadata": {
        "id": "xWgcr65VBnLX"
      },
      "source": [
        "?merge\n"
      ],
      "execution_count": null,
      "outputs": []
    },
    {
      "cell_type": "markdown",
      "metadata": {
        "id": "kwm9N9HfpMVd"
      },
      "source": [
        "# Part 5, Explore the USA state-level data\n",
        "\n",
        "Group by states"
      ]
    },
    {
      "cell_type": "markdown",
      "metadata": {
        "id": "wxMdOl8__jcP"
      },
      "source": [
        "## Convert the county-level time series data to state-level data "
      ]
    },
    {
      "cell_type": "code",
      "metadata": {
        "id": "QKqHvO3wpNUE"
      },
      "source": [
        "tb0 = read_csv(url(\"https://raw.githubusercontent.com/CSSEGISandData/COVID-19/master/csse_covid_19_data/csse_covid_19_time_series/time_series_covid19_confirmed_US.csv\"))\n",
        "#str(tb.jhu) #this is a tibble\n",
        "head(tb0)"
      ],
      "execution_count": null,
      "outputs": []
    },
    {
      "cell_type": "markdown",
      "metadata": {
        "id": "Gre-ycPMt9ZO"
      },
      "source": [
        "merge all row of the same state by 'group_by'\n",
        "follow by 'summarize_if'"
      ]
    },
    {
      "cell_type": "code",
      "metadata": {
        "id": "O_kOuw0UpNXQ"
      },
      "source": [
        "tb1 = tb0[, c(7, 50:length(tb[1,])) ]\n",
        "\n",
        "tb2 <- tb1 %>%\n",
        "  group_by(Province_State) %>%\n",
        "  summarize_if(is.numeric, sum,na.rm=TRUE)\n",
        "\n",
        "head(tb2)"
      ],
      "execution_count": null,
      "outputs": []
    },
    {
      "cell_type": "code",
      "metadata": {
        "id": "Yn4ThYfBugXL"
      },
      "source": [
        "length( tb2$Province_State )\n",
        "print( paste(\"There are \", length( tb2$Province_State ),  \" states\"))"
      ],
      "execution_count": null,
      "outputs": []
    },
    {
      "cell_type": "markdown",
      "metadata": {
        "id": "LQzyFFuY3CUy"
      },
      "source": [
        "## Covert cumulative counts into daily cases"
      ]
    },
    {
      "cell_type": "markdown",
      "metadata": {
        "id": "fZvKc3VdP8vl"
      },
      "source": [
        "### First, do a few tests on simple data sets to make sure that we know what we are doing."
      ]
    },
    {
      "cell_type": "code",
      "metadata": {
        "id": "Y6F2rs6ppNaM"
      },
      "source": [
        "? apply"
      ],
      "execution_count": null,
      "outputs": []
    },
    {
      "cell_type": "code",
      "metadata": {
        "id": "co40xitSpNdO"
      },
      "source": [
        "? diff"
      ],
      "execution_count": null,
      "outputs": []
    },
    {
      "cell_type": "code",
      "metadata": {
        "id": "Y8YWmYkPvy9K"
      },
      "source": [
        "x = data.frame(1:10)\n",
        "x"
      ],
      "execution_count": null,
      "outputs": []
    },
    {
      "cell_type": "code",
      "metadata": {
        "id": "li7F0ps1zixK"
      },
      "source": [
        "apply(x, 2, diff)"
      ],
      "execution_count": null,
      "outputs": []
    },
    {
      "cell_type": "code",
      "metadata": {
        "id": "bC8clEOmv_oy"
      },
      "source": [
        "y = data.frame(10:1)\n",
        "y"
      ],
      "execution_count": null,
      "outputs": []
    },
    {
      "cell_type": "code",
      "metadata": {
        "id": "XvSsXK3mzi0M"
      },
      "source": [
        "apply(y, 2, diff)"
      ],
      "execution_count": null,
      "outputs": []
    },
    {
      "cell_type": "code",
      "metadata": {
        "id": "bwiAqNZAzi3U"
      },
      "source": [
        ""
      ],
      "execution_count": null,
      "outputs": []
    },
    {
      "cell_type": "markdown",
      "metadata": {
        "id": "reqCpUUYQIt9"
      },
      "source": [
        "### Now, process a small data set to verify the results"
      ]
    },
    {
      "cell_type": "code",
      "metadata": {
        "id": "kLgnUo1hzi6q"
      },
      "source": [
        "test = tb2[1:5, 10:20]\n",
        "test"
      ],
      "execution_count": null,
      "outputs": []
    },
    {
      "cell_type": "code",
      "metadata": {
        "id": "t1eUQNl--iK4"
      },
      "source": [
        "apply( test, 1, diff)"
      ],
      "execution_count": null,
      "outputs": []
    },
    {
      "cell_type": "markdown",
      "metadata": {
        "id": "Ymuqg3WrQTLV"
      },
      "source": [
        "### Now, we are comfortable to apply our method to the entire data set. "
      ]
    },
    {
      "cell_type": "code",
      "metadata": {
        "id": "SgiPbukXpNgI"
      },
      "source": [
        "tb3 = apply(tb2[, 2:length(tb2[1,])], 1, diff)\n",
        "tb3= data.frame(tb3)\n",
        "head(tb3)"
      ],
      "execution_count": null,
      "outputs": []
    },
    {
      "cell_type": "markdown",
      "metadata": {
        "id": "i-Mv_rADmmJ2"
      },
      "source": [
        "## Add states names as columns names"
      ]
    },
    {
      "cell_type": "markdown",
      "metadata": {
        "id": "kgaIWauaQegD"
      },
      "source": [
        "Current names are not informative"
      ]
    },
    {
      "cell_type": "code",
      "metadata": {
        "id": "dOG-eksdpNi9"
      },
      "source": [
        "names(tb3)"
      ],
      "execution_count": null,
      "outputs": []
    },
    {
      "cell_type": "markdown",
      "metadata": {
        "id": "x-_8kxU9Qja6"
      },
      "source": [
        "Information of States will be more relevant."
      ]
    },
    {
      "cell_type": "code",
      "metadata": {
        "id": "CU4b2kuamux2"
      },
      "source": [
        "tb2$Province_State"
      ],
      "execution_count": null,
      "outputs": []
    },
    {
      "cell_type": "markdown",
      "metadata": {
        "id": "qzVcevifQrDP"
      },
      "source": [
        "Assign the columns names with the State-names"
      ]
    },
    {
      "cell_type": "code",
      "metadata": {
        "id": "T06_bRoVmu1A"
      },
      "source": [
        "names(tb3) = tb2$Province_State\n",
        "head(tb3)"
      ],
      "execution_count": null,
      "outputs": []
    },
    {
      "cell_type": "markdown",
      "metadata": {
        "id": "Tm9d5z4bp19I"
      },
      "source": [
        "## Convert date-text to Date type"
      ]
    },
    {
      "cell_type": "code",
      "metadata": {
        "id": "nJ76K82imu4W"
      },
      "source": [
        "row.names(tb3)"
      ],
      "execution_count": null,
      "outputs": []
    },
    {
      "cell_type": "code",
      "metadata": {
        "id": "nVK_iI_amu7f"
      },
      "source": [
        "tb3$dates = mdy(row.names(tb3))\n",
        "head(tb3)"
      ],
      "execution_count": null,
      "outputs": []
    },
    {
      "cell_type": "markdown",
      "metadata": {
        "id": "MhcCC9MnqqAu"
      },
      "source": [
        "## Plot"
      ]
    },
    {
      "cell_type": "code",
      "metadata": {
        "id": "S33fKAbxq1OY"
      },
      "source": [
        "tb3[,2]"
      ],
      "execution_count": null,
      "outputs": []
    },
    {
      "cell_type": "markdown",
      "metadata": {
        "id": "Gj19Yp5bO90c"
      },
      "source": [
        "### Scatter plot with trend"
      ]
    },
    {
      "cell_type": "code",
      "metadata": {
        "id": "BkiZw8usMSnx"
      },
      "source": [
        "ggplot(tb3, aes(x=dates, y=Colorado)) + geom_point() + geom_smooth()\n"
      ],
      "execution_count": null,
      "outputs": []
    },
    {
      "cell_type": "markdown",
      "metadata": {
        "id": "FdORMUg8PNUa"
      },
      "source": [
        "### Plot for a time-window"
      ]
    },
    {
      "cell_type": "code",
      "metadata": {
        "id": "esGLsTUm05dX"
      },
      "source": [
        "#end = mdy(\"5/1/20\")\n",
        "end = today(tzone='EST') - 1\n",
        "end"
      ],
      "execution_count": null,
      "outputs": []
    },
    {
      "cell_type": "markdown",
      "metadata": {
        "id": "zvgoXIctoB0p"
      },
      "source": [
        ""
      ]
    },
    {
      "cell_type": "code",
      "metadata": {
        "id": "pauU0Pc_0PGJ"
      },
      "source": [
        "tb_sub <- \n",
        " tb3 %>% filter( dates >= end- ddays(90), dates <  end) #This is 90 day window\n",
        "\n",
        "ggplot(tb_sub, aes(x=dates, y=Colorado)) + geom_point() + geom_smooth()\n"
      ],
      "execution_count": null,
      "outputs": []
    },
    {
      "cell_type": "markdown",
      "metadata": {
        "id": "xQX1a3EHSL0Q"
      },
      "source": [
        "### Let's look a specific State. \n",
        "How about Tennessee? "
      ]
    },
    {
      "cell_type": "code",
      "metadata": {
        "id": "PkBWsDmdZgYM"
      },
      "source": [
        "names(tb3)"
      ],
      "execution_count": null,
      "outputs": []
    },
    {
      "cell_type": "code",
      "metadata": {
        "id": "4taOYc5sZgek"
      },
      "source": [
        "days_window = 90 #90-day window\n",
        "endday = today(tzone = 'EST')\n",
        "\n",
        "tb_TN <- tb3 %>% \n",
        "  dplyr::select( 'Tennessee', 'dates') %>%\n",
        "  dplyr::filter( between(dates, endday-ddays(days_window), endday)) "
      ],
      "execution_count": null,
      "outputs": []
    },
    {
      "cell_type": "code",
      "metadata": {
        "id": "dkPoqBRIZghH"
      },
      "source": [
        "head(tb_TN)"
      ],
      "execution_count": null,
      "outputs": []
    },
    {
      "cell_type": "code",
      "metadata": {
        "id": "ltU110FVZUmk"
      },
      "source": [
        "ggplot(tb_TN, aes(x=dates, y=tb_TN[,1])) + geom_point() + geom_smooth()"
      ],
      "execution_count": null,
      "outputs": []
    },
    {
      "cell_type": "markdown",
      "metadata": {
        "id": "W3kP5I1voFzX"
      },
      "source": [
        "### Multiple plots to compare two states"
      ]
    },
    {
      "cell_type": "code",
      "metadata": {
        "id": "KbUaDccboPEB"
      },
      "source": [
        "days_window = 90 #90-day window\n",
        "endday = today(tzone='EST') -1\n",
        "\n",
        "mystates = c('Tennessee', 'Wisconsin', 'South Dakota')\n",
        "\n",
        "tb_2States <- tb3 %>% \n",
        "  dplyr::select( c(mystates, 'dates') ) %>%\n",
        "  dplyr::filter( between(dates, endday-ddays(days_window), endday))   \n",
        "\n",
        "tail(tb_2States)"
      ],
      "execution_count": null,
      "outputs": []
    },
    {
      "cell_type": "code",
      "metadata": {
        "id": "mFtzU6ZdpL7g"
      },
      "source": [
        "library(reshape2)"
      ],
      "execution_count": null,
      "outputs": []
    },
    {
      "cell_type": "code",
      "metadata": {
        "id": "ox9nAfwKoPG8"
      },
      "source": [
        "df_tmp <- melt(tb_2States, measure.vars = mystates)\n",
        "head(df_tmp)"
      ],
      "execution_count": null,
      "outputs": []
    },
    {
      "cell_type": "code",
      "metadata": {
        "id": "Qg1wUZv9oPKc"
      },
      "source": [
        "names(df_tmp) = c(\"dates\", \"State\", \"DailyCases\")\n",
        "head(df_tmp)"
      ],
      "execution_count": null,
      "outputs": []
    },
    {
      "cell_type": "code",
      "metadata": {
        "id": "0zRFRyh6oPNB"
      },
      "source": [
        "ggplot(df_tmp, aes(x=dates, y=DailyCases, color=State)) + geom_point() + stat_smooth(spanc=0.3)"
      ],
      "execution_count": null,
      "outputs": []
    },
    {
      "cell_type": "markdown",
      "metadata": {
        "id": "QYAkUJA3q1-O"
      },
      "source": [
        "### How about more than two states? "
      ]
    },
    {
      "cell_type": "code",
      "metadata": {
        "id": "aVr52qe8oPQP"
      },
      "source": [
        "mystates = c('Tennessee','Georgia', 'Alabama', 'Florida')\n",
        "\n",
        "days_window = 90 #90-day window\n",
        "endday = today(tzone = 'EST') -1\n",
        "\n",
        "tb_sub <- tb3 %>% \n",
        "  dplyr::select( all_of(mystates), 'dates') %>%\n",
        "  dplyr::filter( between(dates, endday-ddays(days_window), endday))   \n",
        "\n",
        "head(tb_sub)\n"
      ],
      "execution_count": null,
      "outputs": []
    },
    {
      "cell_type": "code",
      "metadata": {
        "id": "dEstbdW4rgBz"
      },
      "source": [
        "df_tmp <- melt(tb_sub, measure.vars = mystates, value.name = 'DailyCases', variable.name = 'State')\n",
        "head(df_tmp)"
      ],
      "execution_count": null,
      "outputs": []
    },
    {
      "cell_type": "code",
      "metadata": {
        "id": "Iy__AEv-r6sy"
      },
      "source": [
        "ggplot(df_tmp, aes(x=dates, y=log10(DailyCases), color=State)) + geom_point() + geom_smooth() "
      ],
      "execution_count": null,
      "outputs": []
    },
    {
      "cell_type": "markdown",
      "metadata": {
        "id": "vzooDbMmBb43"
      },
      "source": [
        "# Part 5. Transmission analysis"
      ]
    },
    {
      "cell_type": "markdown",
      "metadata": {
        "id": "mWQhOZmTGPDw"
      },
      "source": [
        "### Study the Germany 1918 example"
      ]
    },
    {
      "cell_type": "code",
      "metadata": {
        "id": "USW-d1kvBg3o"
      },
      "source": [
        "install.packages('R0', lib = '/content')\n",
        "#library('R0')\n",
        "library(\"R0\", lib.loc=\"/content\")"
      ],
      "execution_count": null,
      "outputs": []
    },
    {
      "cell_type": "code",
      "metadata": {
        "id": "f7guSRsA-Ty0"
      },
      "source": [
        "help(package='R0')"
      ],
      "execution_count": null,
      "outputs": []
    },
    {
      "cell_type": "code",
      "metadata": {
        "id": "sP5yV7HHLHDZ"
      },
      "source": [
        "#?est.R0.AR\n",
        "#$example(est.R0.AR)"
      ],
      "execution_count": null,
      "outputs": []
    },
    {
      "cell_type": "code",
      "metadata": {
        "id": "SDt4jFgx-T5X"
      },
      "source": [
        "data(Germany.1918)\n",
        "head(Germany.1918)"
      ],
      "execution_count": null,
      "outputs": []
    },
    {
      "cell_type": "code",
      "metadata": {
        "id": "p0MulnNv-T_M"
      },
      "source": [
        "str(Germany.1918)"
      ],
      "execution_count": null,
      "outputs": []
    },
    {
      "cell_type": "code",
      "metadata": {
        "id": "YM_92x7c-UC5"
      },
      "source": [
        "plot(Germany.1918)"
      ],
      "execution_count": null,
      "outputs": []
    },
    {
      "cell_type": "code",
      "metadata": {
        "id": "GTJ1xoNPLt0H"
      },
      "source": [
        "?est.R0.TD"
      ],
      "execution_count": null,
      "outputs": []
    },
    {
      "cell_type": "code",
      "metadata": {
        "id": "Gt4S6EVb-T1_"
      },
      "source": [
        "example(est.R0.TD)"
      ],
      "execution_count": null,
      "outputs": []
    },
    {
      "cell_type": "code",
      "metadata": {
        "id": "OJkbSgwUON_b"
      },
      "source": [
        "mGT <- generation.time(\"gamma\", c(3,1.5))\n",
        "SB <- est.R0.SB(Germany.1918, mGT, begin=1, end=100)\n",
        "str(SB)"
      ],
      "execution_count": null,
      "outputs": []
    },
    {
      "cell_type": "code",
      "metadata": {
        "id": "679utzUROODH"
      },
      "source": [
        "plot(SB)"
      ],
      "execution_count": null,
      "outputs": []
    },
    {
      "cell_type": "markdown",
      "metadata": {
        "id": "4-zuOBV1GU3F"
      },
      "source": [
        "### Estimate Rt to Covid19 for Tennessee\n",
        "\n",
        "The mean generation time of Covid19 is estimated to 4-5 days. "
      ]
    },
    {
      "cell_type": "code",
      "metadata": {
        "id": "reHidk_WGNLY"
      },
      "source": [
        "mystates = c('Tennessee','Georgia', 'Alabama', 'Florida')\n",
        "\n",
        "days_window = 180 #90-day window\n",
        "endday = today(tzone = 'EST') -1\n",
        "\n",
        "tb_sub <- tb3 %>% \n",
        "  dplyr::select( all_of(mystates), 'dates') %>%\n",
        "  dplyr::filter( between(dates, endday-ddays(days_window), endday))   \n",
        "\n",
        "head(tb_sub)"
      ],
      "execution_count": null,
      "outputs": []
    },
    {
      "cell_type": "code",
      "metadata": {
        "id": "gDQPDa5ILYEQ"
      },
      "source": [
        "length(tb_sub[,1])"
      ],
      "execution_count": null,
      "outputs": []
    },
    {
      "cell_type": "code",
      "metadata": {
        "id": "LPw3f9dOGmNI"
      },
      "source": [
        "mGT<-generation.time(\"gamma\", c(5, 1.5)) #model of serial generation time for SARS-CoV-2, (4, 7)\n",
        "mGT"
      ],
      "execution_count": null,
      "outputs": []
    },
    {
      "cell_type": "code",
      "metadata": {
        "id": "MQWA39POGmQQ"
      },
      "source": [
        "TD <- est.R0.TD(tb_sub$Tennessee, mGT, begin=1, end=181, nsim=100)"
      ],
      "execution_count": null,
      "outputs": []
    },
    {
      "cell_type": "code",
      "metadata": {
        "id": "XXyDprChGmT8"
      },
      "source": [
        "#str(TD)\n",
        "length(tb_sub[,1])"
      ],
      "execution_count": null,
      "outputs": []
    },
    {
      "cell_type": "code",
      "metadata": {
        "id": "pL2paW7mY6yo"
      },
      "source": [
        "tb_sub$Rt = TD$R"
      ],
      "execution_count": null,
      "outputs": []
    },
    {
      "cell_type": "code",
      "metadata": {
        "id": "XNU64dWGY6_f"
      },
      "source": [
        "ggplot( tb_sub, aes(x=dates, y=Rt) ) +\n",
        "   geom_point() + \n",
        "   stat_smooth( span=0.4)"
      ],
      "execution_count": null,
      "outputs": []
    },
    {
      "cell_type": "markdown",
      "metadata": {
        "id": "wDR9xwMPDpev"
      },
      "source": [
        "## How about Hamilton County, TN? "
      ]
    },
    {
      "cell_type": "code",
      "metadata": {
        "id": "vUhJJ5rpqWCj"
      },
      "source": [
        "install.packages('R0')\n",
        "library('R0')"
      ],
      "execution_count": null,
      "outputs": []
    },
    {
      "cell_type": "code",
      "metadata": {
        "id": "-34v1RhhDt8j"
      },
      "source": [
        "library(tidyverse)\n",
        "library(lubridate)\n",
        "tb = read_csv(url(\"https://raw.githubusercontent.com/CSSEGISandData/COVID-19/master/csse_covid_19_data/csse_covid_19_time_series/time_series_covid19_confirmed_US.csv\"))\n",
        "\n",
        "tb1 <- tb %>% dplyr::select(12:length(tb[1,])) %>% as.matrix()\n",
        "tb1 = as.data.frame(t(tb1))\n",
        "\n",
        "names(tb1) = tb$Combined_Key\n",
        "\n",
        "current_dates = names(tb)[12:length(tb[1,])]\n",
        "tb1$dates = mdy(current_dates)"
      ],
      "execution_count": null,
      "outputs": []
    },
    {
      "cell_type": "markdown",
      "metadata": {
        "id": "-YY0UH6yECsI"
      },
      "source": [
        "### Select Hamilton, Tennessee, US"
      ]
    },
    {
      "cell_type": "code",
      "metadata": {
        "id": "gzXxqSyAGr-U"
      },
      "source": [
        "names(tb1) [grep(  \"Tennessee\", names(tb1))]"
      ],
      "execution_count": null,
      "outputs": []
    },
    {
      "cell_type": "code",
      "metadata": {
        "id": "xhRsLqifGRyY"
      },
      "source": [
        ""
      ],
      "execution_count": null,
      "outputs": []
    },
    {
      "cell_type": "code",
      "metadata": {
        "id": "qksFFt_MDuFy"
      },
      "source": [
        "window = 180\n",
        "\n",
        "tb_sub <-  tb1 %>% \n",
        "  dplyr::select ( c('Hamilton, Tennessee, US', 'Davidson, Tennessee, US', 'dates')) %>%\n",
        "  dplyr::filter( between(dates, today(tzone='EST') - window,  today(tzone ='EST')))\n",
        "\n",
        "str(tb_sub)"
      ],
      "execution_count": null,
      "outputs": []
    },
    {
      "cell_type": "code",
      "metadata": {
        "id": "I4JYbmdQEZuc"
      },
      "source": [
        "ggplot(tb_sub, aes(x=dates, y=tb_sub[,1])) + geom_point()"
      ],
      "execution_count": null,
      "outputs": []
    },
    {
      "cell_type": "code",
      "metadata": {
        "id": "yoQya4G_HQMh"
      },
      "source": [
        "tail(tb_sub)"
      ],
      "execution_count": null,
      "outputs": []
    },
    {
      "cell_type": "markdown",
      "metadata": {
        "id": "qmA2UPEiEKfE"
      },
      "source": [
        "### Estiamte daily cases\n",
        "\n",
        "March 31 Tuesday has 15 cases, but Sunday and Monday has zero cases. \n",
        "\n",
        "Hong will try to spead the spike daily counts into previous days with zeros. "
      ]
    },
    {
      "cell_type": "code",
      "metadata": {
        "id": "omcRcOCpEUiP"
      },
      "source": [
        "tb_daily_sub = data.frame( apply(tb_sub[,1:2], 2, diff) )\n",
        "head(tb_daily_sub, n=15)"
      ],
      "execution_count": null,
      "outputs": []
    },
    {
      "cell_type": "code",
      "metadata": {
        "id": "sB3xw06mPuP4"
      },
      "source": [
        "wday(mdy('3/31/20'))"
      ],
      "execution_count": null,
      "outputs": []
    },
    {
      "cell_type": "code",
      "metadata": {
        "id": "I7X6HO37cSb0"
      },
      "source": [
        "tb_daily_sub$YMD = mdy(row.names(tb_daily_sub))\n",
        "head(tb_daily_sub)"
      ],
      "execution_count": null,
      "outputs": []
    },
    {
      "cell_type": "code",
      "metadata": {
        "id": "GMM49VYSOSdL"
      },
      "source": [
        "# make sure all daily cases are positive integer or zeros\n",
        "tb_daily_sub$Hamilton..Tennessee..US[tb_daily_sub$Hamilton..Tennessee..US<0 ] =0\n",
        "head(tb_daily_sub)\n",
        "summary(  tb_daily_sub)"
      ],
      "execution_count": null,
      "outputs": []
    },
    {
      "cell_type": "code",
      "metadata": {
        "id": "Zz8X3M4nQVzk"
      },
      "source": [
        "# correct some errors in Hamilton TN \n",
        "#tb_daily_sub[c('3/20/20', '3/21/20'), 1] = c(1,1)\n",
        "#tb_daily_sub[c('3/24/20', '3/25/20'), 1] = c(7, 7)\n",
        "#tb_daily_sub[c('3/29/20', '3/30/20', '3/30/20'), 1] = c(5, 5, 5)"
      ],
      "execution_count": null,
      "outputs": []
    },
    {
      "cell_type": "code",
      "metadata": {
        "id": "x1dTzSNHEpUn"
      },
      "source": [
        "tail(tb_daily_sub)"
      ],
      "execution_count": null,
      "outputs": []
    },
    {
      "cell_type": "code",
      "metadata": {
        "id": "sL6BSVFE5808"
      },
      "source": [
        "\n",
        "\n",
        "myplot <- ggplot( tb_daily_sub, aes(x=YMD, y=Hamilton..Tennessee..US)) + geom_point() + stat_smooth(span=0.3) \n",
        "myplot + ggtitle(\"Daily Cases in Hamilton County, TN\") +  theme(plot.title = element_text(hjust = 0.5))"
      ],
      "execution_count": null,
      "outputs": []
    },
    {
      "cell_type": "markdown",
      "metadata": {
        "id": "LbMY_d2eER8H"
      },
      "source": [
        "### Estimate Rt for Hamilton, TN"
      ]
    },
    {
      "cell_type": "code",
      "metadata": {
        "id": "ID4gTiHsD_9F"
      },
      "source": [
        "mGT<-generation.time(\"gamma\", c(5, 1.5)) #based on literature reading serial generation time (incubtation time) (4-7), with long distbution\n",
        "x = tb_daily_sub[,1]\n",
        "x[x<0]= 0\n",
        "length(x)\n",
        "summary(x)\n",
        "plot(x)"
      ],
      "execution_count": null,
      "outputs": []
    },
    {
      "cell_type": "code",
      "metadata": {
        "id": "Sw-1x6OxDuD0"
      },
      "source": [
        "start = 1\n",
        "offset = 1\n",
        "stop = length(x)-offset # Rt estimation need a few day, try 5 days\n",
        "\n",
        "TD<- est.R0.TD(x, mGT, begin=start, end=stop, nsim=100) "
      ],
      "execution_count": null,
      "outputs": []
    },
    {
      "cell_type": "code",
      "metadata": {
        "id": "2uUXYR-kOz1r"
      },
      "source": [
        "#str(TD)"
      ],
      "execution_count": null,
      "outputs": []
    },
    {
      "cell_type": "code",
      "metadata": {
        "id": "KV16XEy6ELGE"
      },
      "source": [
        "tb_daily_sub$RtHamilton =  c( TD$R, rep(NA, offset))"
      ],
      "execution_count": null,
      "outputs": []
    },
    {
      "cell_type": "code",
      "metadata": {
        "id": "aLzsOiJ3IIN0"
      },
      "source": [
        "head(tb_daily_sub)"
      ],
      "execution_count": null,
      "outputs": []
    },
    {
      "cell_type": "code",
      "metadata": {
        "id": "yKR8JuyoJSuW"
      },
      "source": [
        "tail(tb_daily_sub)"
      ],
      "execution_count": null,
      "outputs": []
    },
    {
      "cell_type": "code",
      "metadata": {
        "id": "GMUFWuT-0l7-"
      },
      "source": [
        "number_of_rows = length(tb_daily_sub[,1 ])\n",
        "tb_daily_sub$RtHamilton[ 1 : 5] = NA #remove first 5 rows \n",
        "tb_daily_sub$RtHamilton[ (number_of_rows-offset-2) :number_of_rows] = NA #remove last few rows"
      ],
      "execution_count": null,
      "outputs": []
    },
    {
      "cell_type": "code",
      "metadata": {
        "id": "5UKH9L_TKHZD"
      },
      "source": [
        "# add dates\n",
        "list_of_dates = row.names( tb_daily_sub)\n",
        "tb_daily_sub$dates = mdy( list_of_dates )"
      ],
      "execution_count": null,
      "outputs": []
    },
    {
      "cell_type": "code",
      "metadata": {
        "id": "wedkU5Y5ELM4"
      },
      "source": [
        "ggplot(tb_daily_sub, aes(x=dates, y=RtHamilton) ) +\n",
        "  geom_point() +\n",
        "  stat_smooth(span=.35) +\n",
        "  ggtitle(\"Effective Reproductive Number of Covid19, Hamilton, TN\")"
      ],
      "execution_count": null,
      "outputs": []
    },
    {
      "cell_type": "markdown",
      "metadata": {
        "id": "pXs4Afm7W6N1"
      },
      "source": [
        "For policy and new related to Covid19 at Hamitlon, TN, see http://health.hamiltontn.org/AllServices/Coronavirus(COVID-19)/PressReleases.aspx  <br> \n",
        "\n",
        "March 13, first case. <br> \n",
        "\n",
        "April 27, governor order restaraunt reopenning. <br> \n",
        "\n",
        "July 4th, holiday weekend. If it happended to Hamilton, it might happend to other counties with similar densities? The TN state did show a spike after 4 of July <br> \n"
      ]
    },
    {
      "cell_type": "code",
      "metadata": {
        "id": "2YlwLl0iTLWy"
      },
      "source": [
        "ggplot(tb_daily_sub, aes(x=dates, y= tb_daily_sub[,1] )) +\n",
        "  geom_point() +\n",
        "  stat_smooth(span=0.4) +\n",
        "  ggtitle(\"Daily confirmed cases at Hamilton, TN\")"
      ],
      "execution_count": null,
      "outputs": []
    },
    {
      "cell_type": "markdown",
      "metadata": {
        "id": "P66xb0yzUAMB"
      },
      "source": [
        "### Can we remove some noises in Rt? (in progress)"
      ]
    },
    {
      "cell_type": "markdown",
      "metadata": {
        "id": "hobeyBTtX5Ci"
      },
      "source": [
        ""
      ]
    },
    {
      "cell_type": "code",
      "metadata": {
        "id": "PNM9G5zyELDg"
      },
      "source": [
        "tb_daily_sub$index = 1: length( tb_daily_sub[,1]) \n",
        "\n",
        "loessSpan04 = loess( RtHamilton ~ index, data=tb_daily_sub, span=0.4 )"
      ],
      "execution_count": null,
      "outputs": []
    },
    {
      "cell_type": "code",
      "metadata": {
        "id": "pw6lemQITF_I"
      },
      "source": [
        "plot( predict( loessSpan04))"
      ],
      "execution_count": null,
      "outputs": []
    },
    {
      "cell_type": "code",
      "metadata": {
        "id": "pNbxUrP8cUGy"
      },
      "source": [
        "#str(loessSpan04)"
      ],
      "execution_count": null,
      "outputs": []
    },
    {
      "cell_type": "code",
      "metadata": {
        "id": "_4Y8ln9tcYj1"
      },
      "source": [
        "plot(loessSpan04$fitted)"
      ],
      "execution_count": null,
      "outputs": []
    },
    {
      "cell_type": "markdown",
      "metadata": {
        "id": "SmTjF0Z7X6yB"
      },
      "source": [
        "### Nashville counties (todo)"
      ]
    },
    {
      "cell_type": "markdown",
      "metadata": {
        "id": "suwYoNr5X7AA"
      },
      "source": [
        "### Memphis counties\n"
      ]
    },
    {
      "cell_type": "markdown",
      "metadata": {
        "id": "FRNUo3RxYEW0"
      },
      "source": [
        "### Knoxville"
      ]
    },
    {
      "cell_type": "code",
      "metadata": {
        "id": "HgnzPbo8YDSS"
      },
      "source": [
        ""
      ],
      "execution_count": null,
      "outputs": []
    },
    {
      "cell_type": "markdown",
      "metadata": {
        "id": "6suLQzJM2mhc"
      },
      "source": [
        "# Part 6. Apple Mobility"
      ]
    },
    {
      "cell_type": "markdown",
      "metadata": {
        "id": "PyOmmBHO222l"
      },
      "source": [
        "## Download and upload \n",
        "Download apple mobility csv from https://covid19.apple.com/mobility, then upload to CoLab"
      ]
    },
    {
      "cell_type": "code",
      "metadata": {
        "id": "EoR4Mt8g2uvx"
      },
      "source": [
        "tbAM = read_csv(\"/content/applemobilitytrends-2020-10-02.csv\")\n",
        "head(tbAM)"
      ],
      "execution_count": null,
      "outputs": []
    },
    {
      "cell_type": "code",
      "metadata": {
        "id": "fUAWhlLj3iu1"
      },
      "source": [
        "unique( tbAM$country)"
      ],
      "execution_count": null,
      "outputs": []
    },
    {
      "cell_type": "code",
      "metadata": {
        "id": "P8psVD7i5KGi"
      },
      "source": [
        "names(tbAM)[5] = \"subregion\""
      ],
      "execution_count": null,
      "outputs": []
    },
    {
      "cell_type": "markdown",
      "metadata": {
        "id": "3beKGqXW8mOn"
      },
      "source": [
        "## Pick Hamilton, TN"
      ]
    },
    {
      "cell_type": "code",
      "metadata": {
        "id": "FrDlHWas2uz3"
      },
      "source": [
        "tbAMTN <-  tbAM %>% dplyr::filter( country == \"United States\", subregion==\"Tennessee\")\n",
        "head(tbAMTN)"
      ],
      "execution_count": null,
      "outputs": []
    },
    {
      "cell_type": "code",
      "metadata": {
        "id": "IF8Pls8r4ZdR"
      },
      "source": [
        "unique(tbAMTN$region)"
      ],
      "execution_count": null,
      "outputs": []
    },
    {
      "cell_type": "code",
      "metadata": {
        "id": "1lPwrWiN4ZkF"
      },
      "source": [
        "tbAMTN$region[ grep(\"Hamilton\", tbAMTN$region) ]"
      ],
      "execution_count": null,
      "outputs": []
    },
    {
      "cell_type": "code",
      "metadata": {
        "id": "MSIscBt94Zhd"
      },
      "source": [
        "tbAMHCTN <-  tbAM %>% dplyr::filter( country == \"United States\", subregion==\"Tennessee\", region==\"Hamilton County\")\n",
        "head(tbAMHCTN)"
      ],
      "execution_count": null,
      "outputs": []
    },
    {
      "cell_type": "markdown",
      "metadata": {
        "id": "ngZF_yF77nnk"
      },
      "source": [
        "So, Apple mobility report is in a similar format like the JHU Covid19 data"
      ]
    },
    {
      "cell_type": "code",
      "metadata": {
        "id": "rgq9GWc_7Qpj"
      },
      "source": [
        "tbAMHCTN2 = data.frame( t(tbAMHCTN[, 7: length(names(tbAMHCTN))]))\n",
        "names( tbAMHCTN2 ) = c(\"driving\", \"walking\")\n",
        "tbAMHCTN2$date = ymd( row.names(tbAMHCTN2))\n",
        "head(tbAMHCTN2)"
      ],
      "execution_count": null,
      "outputs": []
    },
    {
      "cell_type": "markdown",
      "metadata": {
        "id": "qW9c7rO_8roK"
      },
      "source": [
        "## Merge with previous combined dataframe \n",
        "tb_GMCovidWeatherHCTN2"
      ]
    },
    {
      "cell_type": "code",
      "metadata": {
        "id": "maTdx3cj7QwB"
      },
      "source": [
        "head(tb_GMCovidWeatherHCTN2)"
      ],
      "execution_count": null,
      "outputs": []
    },
    {
      "cell_type": "code",
      "metadata": {
        "id": "FrCxb8zo7Qto"
      },
      "source": [
        "tbAMHCTN2b <- \n",
        "  tbAMHCTN2 %>% filter( between(date, min(tb_GMCovidWeatherHCTN2$date), max(tb_GMCovidWeatherHCTN2$date)))"
      ],
      "execution_count": null,
      "outputs": []
    },
    {
      "cell_type": "code",
      "metadata": {
        "id": "cyZ9oF8f9ovm"
      },
      "source": [
        "tb_GMAMCovidWeatherHCTN <- \n",
        " cbind( tb_GMCovidWeatherHCTN2[, c(\"date\", \"dailyCases\", \"temp\", \"dew_point\", \"RH\", \"workplaceMobility\", \"residentialMobility\")], tbAMHCTN2b[, 1:2] )\n",
        "\n",
        "str( tb_GMAMCovidWeatherHCTN )"
      ],
      "execution_count": null,
      "outputs": []
    },
    {
      "cell_type": "code",
      "metadata": {
        "id": "FPwaxGvr9o2e"
      },
      "source": [
        "pairs( tb_GMAMCovidWeatherHCTN )"
      ],
      "execution_count": null,
      "outputs": []
    },
    {
      "cell_type": "code",
      "metadata": {
        "id": "xddMzgM19oz0"
      },
      "source": [
        "ggplot(tb_GMAMCovidWeatherHCTN, aes(x=date, y=walking) ) + geom_point() + stat_smooth(span=0.3)"
      ],
      "execution_count": null,
      "outputs": []
    },
    {
      "cell_type": "code",
      "metadata": {
        "id": "LyF4CPD5_04V"
      },
      "source": [
        "ggplot(tb_GMAMCovidWeatherHCTN, aes(x=date, y=driving) ) + geom_point() + stat_smooth(span=0.2)"
      ],
      "execution_count": null,
      "outputs": []
    },
    {
      "cell_type": "markdown",
      "metadata": {
        "id": "B0NDn__sANWZ"
      },
      "source": [
        "## Normalize and overlay"
      ]
    },
    {
      "cell_type": "code",
      "metadata": {
        "id": "obIdsdZKAMuw"
      },
      "source": [
        "head( tb_GMAMCovidWeatherHCTN )\n",
        "\n",
        "tb_scaled <-  data.frame( scale(tb_GMAMCovidWeatherHCTN[, 2:9])) \n",
        "tb_scaled$date = tb_GMAMCovidWeatherHCTN$date\n",
        "head( tb_scaled  )"
      ],
      "execution_count": null,
      "outputs": []
    },
    {
      "cell_type": "code",
      "metadata": {
        "id": "pZ2uaCqYAMzl"
      },
      "source": [
        "#selected_columns = c(\"dailyCases\", \"temp\", \"dew_point\", \"RH\",   \"workplaceMobility\", \"residentialMobility\", \"driving\", \"walking\" )\n",
        "\n",
        "selected_columns = c( \"dailyCases\", \"workplaceMobility\", \"residentialMobility\", \"driving\", \"walking\" )\n",
        "\n",
        "tb_tmp <- tb_scaled %>% dplyr::filter( between(date, mdy('6/1/20'), mdy('9/27/20')))\n",
        "\n",
        "df_melt <- melt(tb_tmp, measure.vars=selected_columns, value.names=\"Values\", varialbe.name=\"varialbe\" )\n",
        "ggplot(df_melt, aes(x=date, y=value, color=variable)) + stat_smooth(span=0.3)"
      ],
      "execution_count": null,
      "outputs": []
    },
    {
      "cell_type": "markdown",
      "metadata": {
        "id": "9hiltYsMNaDN"
      },
      "source": [
        "## ccf"
      ]
    },
    {
      "cell_type": "code",
      "metadata": {
        "id": "Lco0XNSeNdyd"
      },
      "source": [
        "ccf( tb_GMAMCovidWeatherHCTN$temp, tb_GMAMCovidWeatherHCTN$driving, lag.max=15, type=\"correlation\", na.action = na.pass)"
      ],
      "execution_count": null,
      "outputs": []
    },
    {
      "cell_type": "code",
      "metadata": {
        "id": "mtz1dERGNd18"
      },
      "source": [
        "summary(lm(driving ~ temp, data=tb_tmp ))"
      ],
      "execution_count": null,
      "outputs": []
    },
    {
      "cell_type": "code",
      "metadata": {
        "id": "G7djlP5PNd6m"
      },
      "source": [
        "ccf( tb_GMAMCovidWeatherHCTN$dailyCases, tb_GMAMCovidWeatherHCTN$driving, lag.max=15, type=\"correlation\", na.action = na.pass)"
      ],
      "execution_count": null,
      "outputs": []
    },
    {
      "cell_type": "code",
      "metadata": {
        "id": "HHir9zWrOWMS"
      },
      "source": [
        "ccf( tb_GMAMCovidWeatherHCTN$dailyCases, tb_GMAMCovidWeatherHCTN$workplaceMobility, lag.max=20, type=\"correlation\", na.action = na.pass)"
      ],
      "execution_count": null,
      "outputs": []
    },
    {
      "cell_type": "code",
      "metadata": {
        "id": "HrJLcXB3OWQG"
      },
      "source": [
        "ccf( tb_GMAMCovidWeatherHCTN$dailyCases, tb_GMAMCovidWeatherHCTN$residentialMobility, lag.max=20, type=\"correlation\", na.action = na.pass)"
      ],
      "execution_count": null,
      "outputs": []
    },
    {
      "cell_type": "code",
      "metadata": {
        "id": "f2tSPxZuOWaE"
      },
      "source": [
        "ccf( tb_GMAMCovidWeatherHCTN$dailyCases, tb_GMAMCovidWeatherHCTN$RH, lag.max=15, type=\"correlation\", na.action = na.pass)"
      ],
      "execution_count": null,
      "outputs": []
    },
    {
      "cell_type": "code",
      "metadata": {
        "id": "W_D4YCkeOWXc"
      },
      "source": [
        "ccf( tb_GMAMCovidWeatherHCTN$dailyCases, tb_GMAMCovidWeatherHCTN$dew_point, lag.max=15, type=\"correlation\", na.action = na.pass)"
      ],
      "execution_count": null,
      "outputs": []
    },
    {
      "cell_type": "code",
      "metadata": {
        "id": "MKAtOyJUPSow"
      },
      "source": [
        ""
      ],
      "execution_count": null,
      "outputs": []
    },
    {
      "cell_type": "code",
      "metadata": {
        "id": "9U9FpentPSss"
      },
      "source": [
        ""
      ],
      "execution_count": null,
      "outputs": []
    },
    {
      "cell_type": "code",
      "metadata": {
        "id": "bPBhKwZ6PSxV"
      },
      "source": [
        ""
      ],
      "execution_count": null,
      "outputs": []
    },
    {
      "cell_type": "code",
      "metadata": {
        "id": "bkd8WSjYOWUf"
      },
      "source": [
        ""
      ],
      "execution_count": null,
      "outputs": []
    },
    {
      "cell_type": "code",
      "metadata": {
        "id": "yPTlu5e3_0zn"
      },
      "source": [
        "summary(lm(dailyCases ~ walking + temp, data=tb_tmp ))"
      ],
      "execution_count": null,
      "outputs": []
    },
    {
      "cell_type": "code",
      "metadata": {
        "id": "x8V9XUad9osw"
      },
      "source": [
        "ccf"
      ],
      "execution_count": null,
      "outputs": []
    },
    {
      "cell_type": "code",
      "metadata": {
        "id": "V5Y6aIqZM5aE"
      },
      "source": [
        ""
      ],
      "execution_count": null,
      "outputs": []
    },
    {
      "cell_type": "code",
      "metadata": {
        "id": "m3WR54fBM5e1"
      },
      "source": [
        ""
      ],
      "execution_count": null,
      "outputs": []
    },
    {
      "cell_type": "markdown",
      "metadata": {
        "id": "wTyibpTKrq2A"
      },
      "source": [
        "# Part X Global Daily cases "
      ]
    },
    {
      "cell_type": "code",
      "metadata": {
        "id": "TMyuIB33rygx"
      },
      "source": [
        "library(tidyverse)\n",
        "library(lubridate)\n",
        "# load JHU covid19 data set with tidyverse read_csv\n",
        "gtb = read_csv('https://raw.githubusercontent.com/CSSEGISandData/COVID-19/master/csse_covid_19_data/csse_covid_19_time_series/time_series_covid19_confirmed_global.csv')\n",
        "\n",
        "head(gtb)"
      ],
      "execution_count": null,
      "outputs": []
    },
    {
      "cell_type": "code",
      "metadata": {
        "id": "Kx3XiyWWr3cG"
      },
      "source": [
        "head(gtb[, 5:length(gtb[1,])])"
      ],
      "execution_count": null,
      "outputs": []
    },
    {
      "cell_type": "code",
      "metadata": {
        "id": "zmcLGZqTr3ir"
      },
      "source": [
        "g_cumulative = data.frame( apply( gtb[,5:length(gtb[1,])], 2, sum ))\n",
        "str(g_cumulative)\n",
        "head(g_cumulative)"
      ],
      "execution_count": null,
      "outputs": []
    },
    {
      "cell_type": "code",
      "metadata": {
        "id": "9aofhMyYvpFQ"
      },
      "source": [
        "g_cummulative2= g_cumulative\n",
        "g_cummulative2$Dates =  mdy(row.names(g_cummulative2))\n",
        "names( g_cummulative2 ) = c(\"Daily_cases\", \"Dates\")\n",
        "head( g_cummulative2)"
      ],
      "execution_count": null,
      "outputs": []
    },
    {
      "cell_type": "code",
      "metadata": {
        "id": "YUggE2ievg0Z"
      },
      "source": [
        "ggplot( g_cummulative2, aes(x=Dates, y=Daily_cases)) + geom_point() + stat_smooth(span=0.3) + ggtitle(\"Global Cumulative Reported Covid19 Cases\") + theme(plot.title=element_text(hjust=0.5))"
      ],
      "execution_count": null,
      "outputs": []
    },
    {
      "cell_type": "code",
      "metadata": {
        "id": "N4zN9EpHr3nV"
      },
      "source": [
        "g_daily = data.frame(apply(g_cumulative, 2, diff))\n",
        "g_daily$date = mdy(row.names(g_daily))\n",
        "names(g_daily) = c(\"Daily_cases\", \"Dates\")\n",
        "head(g_daily)"
      ],
      "execution_count": null,
      "outputs": []
    },
    {
      "cell_type": "code",
      "metadata": {
        "id": "RFAz5igJsqWv"
      },
      "source": [
        "ggplot( g_daily, aes(x=Dates, y=Daily_cases)) + geom_point() + stat_smooth(span=0.3) + ggtitle(\"Global Daily Reported Covid19 Cases\") + theme(plot.title=element_text(hjust=0.5))"
      ],
      "execution_count": null,
      "outputs": []
    },
    {
      "cell_type": "code",
      "metadata": {
        "id": "yaR1hRc1sqfy"
      },
      "source": [
        ""
      ],
      "execution_count": null,
      "outputs": []
    },
    {
      "cell_type": "code",
      "metadata": {
        "id": "5iALKdySsqkG"
      },
      "source": [
        ""
      ],
      "execution_count": null,
      "outputs": []
    },
    {
      "cell_type": "code",
      "metadata": {
        "id": "M8KbWcSVsqc9"
      },
      "source": [
        ""
      ],
      "execution_count": null,
      "outputs": []
    },
    {
      "cell_type": "code",
      "metadata": {
        "id": "JWCKX1fRsqaa"
      },
      "source": [
        ""
      ],
      "execution_count": null,
      "outputs": []
    },
    {
      "cell_type": "code",
      "metadata": {
        "id": "m-DOrKMGsqTw"
      },
      "source": [
        ""
      ],
      "execution_count": null,
      "outputs": []
    },
    {
      "cell_type": "code",
      "metadata": {
        "id": "RsjSWIRZr3fv"
      },
      "source": [
        "plot(x)"
      ],
      "execution_count": null,
      "outputs": []
    },
    {
      "cell_type": "markdown",
      "metadata": {
        "id": "XrudqVTjeFR8"
      },
      "source": [
        "# Part Y. Canada Covid19 data analysis"
      ]
    },
    {
      "cell_type": "markdown",
      "metadata": {
        "id": "qH6lQqiZ5FVr"
      },
      "source": [
        "### pre-process"
      ]
    },
    {
      "cell_type": "code",
      "metadata": {
        "id": "OoWmQR_5DuB4"
      },
      "source": [
        "library(tidyverse)\n",
        "library(lubridate)\n",
        "# load JHU covid19 data set with tidyverse read_csv\n",
        "gtb = read_csv('https://raw.githubusercontent.com/CSSEGISandData/COVID-19/master/csse_covid_19_data/csse_covid_19_time_series/time_series_covid19_confirmed_global.csv')\n",
        "\n",
        "head(gtb)"
      ],
      "execution_count": null,
      "outputs": []
    },
    {
      "cell_type": "code",
      "metadata": {
        "id": "M4jflgTCgWLQ"
      },
      "source": [
        "names(gtb)[1:2] = c(\"Province\", \"Country\")\n",
        "head(gtb)"
      ],
      "execution_count": null,
      "outputs": []
    },
    {
      "cell_type": "code",
      "metadata": {
        "id": "Fl20Nyreetvg"
      },
      "source": [
        "ctb <- gtb %>% \n",
        " filter( gtb$Country == 'Canada')\n",
        "\n",
        "head(ctb)"
      ],
      "execution_count": null,
      "outputs": []
    },
    {
      "cell_type": "code",
      "metadata": {
        "id": "CxST4DHri8oJ"
      },
      "source": [
        "ctb1 <- ctb %>% dplyr::select(5:length(ctb[1,])) %>% as.matrix()\n",
        "ctb1 = as.data.frame(t(ctb1))\n",
        "head(ctb1)"
      ],
      "execution_count": null,
      "outputs": []
    },
    {
      "cell_type": "code",
      "metadata": {
        "id": "oY3vuIihi8r-"
      },
      "source": [
        "names(ctb1) = ctb$Province\n",
        "ctb1 = ctb1[ -c(1:50), ] #remove first 50 rows with very low numbers\n",
        "head(ctb1)"
      ],
      "execution_count": null,
      "outputs": []
    },
    {
      "cell_type": "markdown",
      "metadata": {
        "id": "H32chEqC49zO"
      },
      "source": [
        "## Convert cumulative values into daily new cases"
      ]
    },
    {
      "cell_type": "code",
      "metadata": {
        "id": "3H5XActSl1qz"
      },
      "source": [
        "ctb2 = data.frame(apply(ctb1, 2, diff))\n",
        "head(ctb2)"
      ],
      "execution_count": null,
      "outputs": []
    },
    {
      "cell_type": "code",
      "metadata": {
        "id": "wor3sryXmsiS"
      },
      "source": [
        "current_dates = row.names(ctb2)\n",
        "ctb2$dates = mdy(current_dates)\n",
        "head(ctb2)"
      ],
      "execution_count": null,
      "outputs": []
    },
    {
      "cell_type": "code",
      "metadata": {
        "id": "iWUDVjOal1vr"
      },
      "source": [
        "#myprovinces = c('Alberta','British.Columbia', 'Ontario')\n",
        "myprovinces = c('Alberta','Ontario')\n",
        "\n",
        "days_window = 150 # time window\n",
        "endday = today(tzone = 'EST') -1\n",
        "\n",
        "tb_sub <- ctb2 %>% \n",
        "  dplyr::select( all_of(myprovinces), 'dates') %>%\n",
        "  dplyr::filter( between(dates, endday-ddays(days_window), endday))   \n",
        "\n",
        "tail(tb_sub)"
      ],
      "execution_count": null,
      "outputs": []
    },
    {
      "cell_type": "code",
      "metadata": {
        "id": "6TyjoZ_Qmbbt"
      },
      "source": [
        "install.packages('reshape2')\n",
        "library(reshape2)\n",
        "df_tmp <- reshape2::melt(tb_sub, measure.vars = myprovinces, value.name = 'DailyCases', variable.name = 'State')\n",
        "head(df_tmp)"
      ],
      "execution_count": null,
      "outputs": []
    },
    {
      "cell_type": "code",
      "metadata": {
        "id": "05xVXE-Bmbfg"
      },
      "source": [
        "ggplot(df_tmp, aes(x=dates, y=DailyCases,color=State)) + geom_point() + stat_smooth(span=0.3)"
      ],
      "execution_count": null,
      "outputs": []
    },
    {
      "cell_type": "markdown",
      "metadata": {
        "id": "6UfOQfrX5NGQ"
      },
      "source": [
        "## Estimate Rt"
      ]
    },
    {
      "cell_type": "code",
      "metadata": {
        "id": "s_sGPOVxmbjU"
      },
      "source": [
        "install.packages('R0')\n",
        "install.packages('reshape2')\n",
        "\n",
        "library('R0')"
      ],
      "execution_count": null,
      "outputs": []
    },
    {
      "cell_type": "code",
      "metadata": {
        "id": "_MVDZi-a58xy"
      },
      "source": [
        "str(tb_sub)"
      ],
      "execution_count": null,
      "outputs": []
    },
    {
      "cell_type": "code",
      "metadata": {
        "id": "jYM8n0PbqY25"
      },
      "source": [
        "mGT<-generation.time(\"gamma\", c(5, 1.5))\n",
        "tmp = tb_sub[,2] #Ontario\n",
        "tmp[tmp<0] = 0\n",
        "TD <- est.R0.TD(tmp, mGT, begin=1, end=length(tmp)-1+1, nsim=100)\n",
        "tb_sub$RtOntario = TD$R\n"
      ],
      "execution_count": null,
      "outputs": []
    },
    {
      "cell_type": "code",
      "metadata": {
        "id": "SzJ3o520qY6b"
      },
      "source": [
        "tmp = tb_sub[,1] #Alberta\n",
        "tmp[tmp<0] = 0\n",
        "TD <- est.R0.TD(tmp, mGT, begin=1, end=length(tmp)-1+1, nsim=100)\n",
        "tb_sub$RtAlberta = TD$R\n"
      ],
      "execution_count": null,
      "outputs": []
    },
    {
      "cell_type": "code",
      "metadata": {
        "id": "BAzncsHFqY96"
      },
      "source": [
        "tail(tb_sub)"
      ],
      "execution_count": null,
      "outputs": []
    },
    {
      "cell_type": "code",
      "metadata": {
        "id": "cbbFl7aeerEV"
      },
      "source": [
        "df_tmp <- reshape2::melt(tb_sub[, 3:5], measure.vars = c(\"RtOntario\", \"RtAlberta\"), value.name = 'Rt', variable.name = 'Rt_by_State')\n",
        "df_tmp$Rt[ df_tmp$Rt==0] = NA\n",
        "tail(df_tmp)\n"
      ],
      "execution_count": null,
      "outputs": []
    },
    {
      "cell_type": "code",
      "metadata": {
        "id": "lsWJDaBf93Oq"
      },
      "source": [
        "ggplot(df_tmp, aes(x=dates, y=log10(Rt), color=Rt_by_State) ) +\n",
        "  geom_point() +\n",
        "  stat_smooth(span=0.3)"
      ],
      "execution_count": null,
      "outputs": []
    },
    {
      "cell_type": "markdown",
      "metadata": {
        "id": "N1RW3YZe5g7A"
      },
      "source": [
        "# Part Y todo Sweeden Covid19 data analysis"
      ]
    },
    {
      "cell_type": "markdown",
      "metadata": {
        "id": "TGud3g8bmRas"
      },
      "source": [
        "# Sandbox"
      ]
    },
    {
      "cell_type": "code",
      "metadata": {
        "id": "uMwU5aCGmSoB"
      },
      "source": [
        "x <- runif(12,1,1.5)\n",
        "y <- runif(12,1,1.5)\n",
        "z <- runif(12,1,1.5)\n",
        "m <- letters[1:12]\n",
        "df <- data.frame(x,y,z,m)\n"
      ],
      "execution_count": null,
      "outputs": []
    },
    {
      "cell_type": "code",
      "metadata": {
        "id": "ixJrGiwkmU-y"
      },
      "source": [
        "#library(tidyverse)\n",
        "#install.packages('reshape2')\n",
        "library(reshape2)\n",
        "library(ggplot2)\n",
        "#when you melt essentially you create only one column with the value\n",
        "#and one column with the variable i.e. your x,y,z \n",
        "df <- melt(df, id.vars='m')\n",
        "head(df)"
      ],
      "execution_count": null,
      "outputs": []
    },
    {
      "cell_type": "code",
      "metadata": {
        "id": "lGyM4N4DndqU"
      },
      "source": [
        "ggplot(df, aes(x=variable, y=value, fill=m)) + geom_bar(stat = 'identity')"
      ],
      "execution_count": null,
      "outputs": []
    },
    {
      "cell_type": "code",
      "metadata": {
        "id": "Bxc_l_uZmlVF"
      },
      "source": [
        "#ggplot it. x axis will be m, y will be the value and fill will be\n",
        "#essentially your x,y,z\n",
        "\n",
        "ggplot(df, aes(x=m, y=value, fill=variable)) + geom_bar(stat='identity')"
      ],
      "execution_count": null,
      "outputs": []
    }
  ]
}